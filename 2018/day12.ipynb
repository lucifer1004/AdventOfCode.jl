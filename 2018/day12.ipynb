{
 "cells": [
  {
   "cell_type": "code",
   "execution_count": 1,
   "metadata": {},
   "outputs": [
    {
     "name": "stderr",
     "output_type": "stream",
     "text": [
      "\u001b[32m\u001b[1m  Activating\u001b[22m\u001b[39m project at `~/com.github/lucifer1004/AdventOfCode.jl`\n"
     ]
    }
   ],
   "source": [
    "import Pkg; Pkg.activate(\"..\")"
   ]
  },
  {
   "cell_type": "code",
   "execution_count": 2,
   "metadata": {},
   "outputs": [],
   "source": [
    "using AdventOfCode, JSON3, LinearAlgebra, Combinatorics, DataStructures, Graphs, GraphPlot, IterTools, Mods, MLStyle, Pipe"
   ]
  },
  {
   "cell_type": "code",
   "execution_count": 3,
   "metadata": {},
   "outputs": [
    {
     "data": {
      "text/plain": [
       "12"
      ]
     },
     "execution_count": 3,
     "metadata": {},
     "output_type": "execute_result"
    }
   ],
   "source": [
    "year = 2018\n",
    "day = 12"
   ]
  },
  {
   "cell_type": "code",
   "execution_count": 4,
   "metadata": {},
   "outputs": [
    {
     "data": {
      "text/plain": [
       "\"initial state: ##..#..##....#..#..#..##.#.###.######..#..###.#.#..##.###.#.##..###..#.#..#.##.##..###.#.#...#.##..\\n\\n##### => #\\n##.## => #\\n..##. => .\\n..#.# => .\\n..### => #\\n#..## => #\\n.#.#. => #\\n#.#.# => #\\n#.##. => .\\n####. => .\\n#..#. => #\\n..#.. => .\\n.#### => .\\n##.#. => #\\n#...# => .\\n.##.# => #\\n#.### => .\\n.#..# => #\\n.#... => #\\n.##.. => #\\n.###. => .\\n#.... => .\\n###.. => .\\n##..# => .\\n...## => #\\n##... => .\\n..... => .\\n....# => .\\n###.# => #\\n#.#.. => .\\n.#.## => #\\n...#. => .\""
      ]
     },
     "execution_count": 4,
     "metadata": {},
     "output_type": "execute_result"
    }
   ],
   "source": [
    "input = get_input(year, day)"
   ]
  },
  {
   "cell_type": "code",
   "execution_count": 5,
   "metadata": {},
   "outputs": [
    {
     "data": {
      "text/plain": [
       "34-element Vector{SubString{String}}:\n",
       " \"initial state: ##..#..##....#..\" ⋯ 52 bytes ⋯ \".#.#..#.##.##..###.#.#...#.##..\"\n",
       " \"\"\n",
       " \"##### => #\"\n",
       " \"##.## => #\"\n",
       " \"..##. => .\"\n",
       " \"..#.# => .\"\n",
       " \"..### => #\"\n",
       " \"#..## => #\"\n",
       " \".#.#. => #\"\n",
       " \"#.#.# => #\"\n",
       " \"#.##. => .\"\n",
       " \"####. => .\"\n",
       " \"#..#. => #\"\n",
       " ⋮\n",
       " \".###. => .\"\n",
       " \"#.... => .\"\n",
       " \"###.. => .\"\n",
       " \"##..# => .\"\n",
       " \"...## => #\"\n",
       " \"##... => .\"\n",
       " \"..... => .\"\n",
       " \"....# => .\"\n",
       " \"###.# => #\"\n",
       " \"#.#.. => .\"\n",
       " \".#.## => #\"\n",
       " \"...#. => .\""
      ]
     },
     "execution_count": 5,
     "metadata": {},
     "output_type": "execute_result"
    }
   ],
   "source": [
    "parsed_input = parse_input(input)"
   ]
  },
  {
   "cell_type": "code",
   "execution_count": 6,
   "metadata": {},
   "outputs": [
    {
     "data": {
      "text/plain": [
       "\"initial state: #..#.#..##......###...###\\n\\n...## => #\\n..#.. => #\\n.#... => #\\n.#.#. => #\\n.#.## => #\\n.##.. => #\\n.#### => #\\n#.#.# => #\\n#.### => #\\n##.#. => #\\n##.## => #\\n###.. => #\\n###.# => #\\n####. => #\""
      ]
     },
     "execution_count": 6,
     "metadata": {},
     "output_type": "execute_result"
    }
   ],
   "source": [
    "sample = \"\"\"initial state: #..#.#..##......###...###\n",
    "\n",
    "...## => #\n",
    "..#.. => #\n",
    ".#... => #\n",
    ".#.#. => #\n",
    ".#.## => #\n",
    ".##.. => #\n",
    ".#### => #\n",
    "#.#.# => #\n",
    "#.### => #\n",
    "##.#. => #\n",
    "##.## => #\n",
    "###.. => #\n",
    "###.# => #\n",
    "####. => #\"\"\""
   ]
  },
  {
   "cell_type": "code",
   "execution_count": 7,
   "metadata": {},
   "outputs": [
    {
     "data": {
      "text/plain": [
       "16-element Vector{SubString{String}}:\n",
       " \"initial state: #..#.#..##......###...###\"\n",
       " \"\"\n",
       " \"...## => #\"\n",
       " \"..#.. => #\"\n",
       " \".#... => #\"\n",
       " \".#.#. => #\"\n",
       " \".#.## => #\"\n",
       " \".##.. => #\"\n",
       " \".#### => #\"\n",
       " \"#.#.# => #\"\n",
       " \"#.### => #\"\n",
       " \"##.#. => #\"\n",
       " \"##.## => #\"\n",
       " \"###.. => #\"\n",
       " \"###.# => #\"\n",
       " \"####. => #\""
      ]
     },
     "execution_count": 7,
     "metadata": {},
     "output_type": "execute_result"
    }
   ],
   "source": [
    "parsed_sample = parse_input(sample)"
   ]
  },
  {
   "cell_type": "code",
   "execution_count": 8,
   "metadata": {},
   "outputs": [
    {
     "data": {
      "text/plain": [
       "solve (generic function with 1 method)"
      ]
     },
     "execution_count": 8,
     "metadata": {},
     "output_type": "execute_result"
    }
   ],
   "source": [
    "function solve(input, generations)\n",
    "    plants = Set{Int}()\n",
    "    for (i, c) in enumerate(input[1][16:end])\n",
    "        if c == '#'\n",
    "            push!(plants, i - 1)\n",
    "        end\n",
    "    end\n",
    "\n",
    "    rules = Set{Int}()\n",
    "    for line in input[3:end]\n",
    "        rule = line[1:5]\n",
    "        result = line[10]\n",
    "        if result == '#'\n",
    "            push!(rules, parse(Int, replace(rule, '.' => '0', '#' => 1), base = 2))\n",
    "        end\n",
    "    end\n",
    "\n",
    "    for _ in 1:min(generations, 500)\n",
    "        new_plants = Set{Int}()\n",
    "        for i in minimum(plants) - 2:maximum(plants) + 2\n",
    "            state = 0\n",
    "            for j in i-2:i+2\n",
    "                if j in plants\n",
    "                    state += 2^(i + 2 - j)\n",
    "                end\n",
    "            end\n",
    "            if state in rules\n",
    "                push!(new_plants, i)\n",
    "            end\n",
    "        end\n",
    "        plants = new_plants\n",
    "    end\n",
    "\n",
    "    if generations <= 500\n",
    "        return sum(plants)\n",
    "    else\n",
    "        return sum(plants) + (generations - 500) * length(plants)\n",
    "    end\n",
    "end"
   ]
  },
  {
   "cell_type": "code",
   "execution_count": 9,
   "metadata": {},
   "outputs": [
    {
     "data": {
      "text/plain": [
       "part_one (generic function with 1 method)"
      ]
     },
     "execution_count": 9,
     "metadata": {},
     "output_type": "execute_result"
    }
   ],
   "source": [
    "part_one(input) = solve(input, 20)"
   ]
  },
  {
   "cell_type": "code",
   "execution_count": 10,
   "metadata": {},
   "outputs": [
    {
     "data": {
      "text/plain": [
       "325"
      ]
     },
     "execution_count": 10,
     "metadata": {},
     "output_type": "execute_result"
    }
   ],
   "source": [
    "part_one(parsed_sample)"
   ]
  },
  {
   "cell_type": "code",
   "execution_count": 11,
   "metadata": {},
   "outputs": [
    {
     "data": {
      "text/plain": [
       "3793"
      ]
     },
     "execution_count": 11,
     "metadata": {},
     "output_type": "execute_result"
    }
   ],
   "source": [
    "part_one_ans = part_one(parsed_input)"
   ]
  },
  {
   "cell_type": "code",
   "execution_count": 12,
   "metadata": {},
   "outputs": [
    {
     "data": {
      "text/plain": [
       "\"<!DOCTYPE html>\\n<html lang=\\\"en-us\\\">\\n<head>\\n<meta charset=\\\"utf-8\\\"/>\\n<title>Day 12 - Advent of Code 2018</title>\\n<!--[if lt IE 9]><script src=\\\"/static/html5.js\\\"></script><![endif]-->\\n<link href='//fonts.googleapis.com/css?family=Source+Code+Pro:300&subset=latin,latin-ext'\" ⋯ 3251 bytes ⋯ \"Name(o)[0];a.async=1;a.src=g;m.parentNode.insertBefore(a,m)\\n})(window,document,'script','//www.google-analytics.com/analytics.js','ga');\\nga('create', 'UA-69522494-1', 'auto');\\nga('set', 'anonymizeIp', true);\\nga('send', 'pageview');\\n</script>\\n<!-- /ga -->\\n</body>\\n</html>\""
      ]
     },
     "execution_count": 12,
     "metadata": {},
     "output_type": "execute_result"
    }
   ],
   "source": [
    "submit_answer(year, day, part_one_ans)"
   ]
  },
  {
   "cell_type": "code",
   "execution_count": 13,
   "metadata": {},
   "outputs": [
    {
     "data": {
      "text/plain": [
       "part_two (generic function with 1 method)"
      ]
     },
     "execution_count": 13,
     "metadata": {},
     "output_type": "execute_result"
    }
   ],
   "source": [
    "part_two(input) = solve(input, Int(5e9))"
   ]
  },
  {
   "cell_type": "code",
   "execution_count": 14,
   "metadata": {},
   "outputs": [
    {
     "data": {
      "text/plain": [
       "430000002414"
      ]
     },
     "execution_count": 14,
     "metadata": {},
     "output_type": "execute_result"
    }
   ],
   "source": [
    "part_two_ans = part_two(parsed_input)"
   ]
  },
  {
   "cell_type": "code",
   "execution_count": 15,
   "metadata": {},
   "outputs": [
    {
     "data": {
      "text/plain": [
       "\"<!DOCTYPE html>\\n<html lang=\\\"en-us\\\">\\n<head>\\n<meta charset=\\\"utf-8\\\"/>\\n<title>Day 12 - Advent of Code 2018</title>\\n<!--[if lt IE 9]><script src=\\\"/static/html5.js\\\"></script><![endif]-->\\n<link href='//fonts.googleapis.com/css?family=Source+Code+Pro:300&subset=latin,latin-ext'\" ⋯ 3220 bytes ⋯ \"Name(o)[0];a.async=1;a.src=g;m.parentNode.insertBefore(a,m)\\n})(window,document,'script','//www.google-analytics.com/analytics.js','ga');\\nga('create', 'UA-69522494-1', 'auto');\\nga('set', 'anonymizeIp', true);\\nga('send', 'pageview');\\n</script>\\n<!-- /ga -->\\n</body>\\n</html>\""
      ]
     },
     "execution_count": 15,
     "metadata": {},
     "output_type": "execute_result"
    }
   ],
   "source": [
    "submit_answer(year, day, part_two_ans, 2)"
   ]
  }
 ],
 "metadata": {
  "kernelspec": {
   "display_name": "Julia 1.8.0",
   "language": "julia",
   "name": "julia-1.8"
  },
  "language_info": {
   "file_extension": ".jl",
   "mimetype": "application/julia",
   "name": "julia",
   "version": "1.8.2"
  },
  "orig_nbformat": 4,
  "vscode": {
   "interpreter": {
    "hash": "2decbbcdbe1b404b08c0c2ae8935a58886fd60ea7dad56cfc87e2a14f377e9ba"
   }
  }
 },
 "nbformat": 4,
 "nbformat_minor": 2
}
