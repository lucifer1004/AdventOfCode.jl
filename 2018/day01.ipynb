{
 "cells": [
  {
   "cell_type": "code",
   "execution_count": 1,
   "metadata": {},
   "outputs": [
    {
     "name": "stderr",
     "output_type": "stream",
     "text": [
      "\u001b[32m\u001b[1m  Activating\u001b[22m\u001b[39m project at `~/com.github/lucifer1004/AdventOfCode.jl`\n"
     ]
    }
   ],
   "source": [
    "import Pkg; Pkg.activate(\"..\")"
   ]
  },
  {
   "cell_type": "code",
   "execution_count": 2,
   "metadata": {},
   "outputs": [],
   "source": [
    "using AdventOfCode"
   ]
  },
  {
   "cell_type": "code",
   "execution_count": 3,
   "metadata": {},
   "outputs": [
    {
     "data": {
      "text/plain": [
       "1"
      ]
     },
     "execution_count": 3,
     "metadata": {},
     "output_type": "execute_result"
    }
   ],
   "source": [
    "year = 2018\n",
    "day = 1"
   ]
  },
  {
   "cell_type": "code",
   "execution_count": 4,
   "metadata": {},
   "outputs": [
    {
     "data": {
      "text/plain": [
       "\"-10\\n-12\\n+1\\n+14\\n+11\\n-19\\n-4\\n+10\\n+10\\n-12\\n-13\\n-10\\n-8\\n+11\\n+3\\n-10\\n+8\\n+5\\n-14\\n+7\\n+12\\n+12\\n+14\\n-1\\n+17\\n-5\\n+9\\n-15\\n+8\\n-16\\n+9\\n+6\\n+17\\n-11\\n+19\\n+11\\n-9\\n-1\\n-8\\n-16\\n-5\\n+6\\n+2\\n+6\\n+12\\n+15\\n+16\\n-6\\n-8\\n-5\\n+11\\n-9\\n+19\\n+19\\n-5\\n-12\\n-17\\n-20\\n+9\\n-6\\n-2\\n+20\\n+15\\n-8\\n+15\\n+19\\n-5\\n-17\\n-9\\n+1\\n-9\\n-11\\n-19\\n-1\\n-15\\n+18\\n\" ⋯ 2874 bytes ⋯ \"20\\n-10\\n+11\\n-10\\n+13\\n-1\\n+20\\n+7\\n+7\\n+5\\n+1\\n+4\\n-13\\n+15\\n-3\\n+2\\n-4\\n-3\\n-1\\n+13\\n-15\\n-14\\n-2\\n-6\\n+3\\n+13\\n-19\\n-11\\n+8\\n-21\\n-2\\n-23\\n-18\\n+20\\n+7\\n+6\\n-28\\n+7\\n-33\\n+13\\n-16\\n-18\\n-10\\n-18\\n+13\\n+8\\n-14\\n-13\\n-2\\n+4\\n-14\\n-7\\n-18\\n-20\\n-4\\n-5\\n+8\\n-4\\n+16\\n+21\\n+20\\n-8\\n-14\\n-2\\n-14\\n-22\\n+14\\n+36\\n+32\\n-28\\n+1\\n-21\\n+8\\n+14\\n+75784\""
      ]
     },
     "execution_count": 4,
     "metadata": {},
     "output_type": "execute_result"
    }
   ],
   "source": [
    "input = get_input(year, day)"
   ]
  },
  {
   "cell_type": "code",
   "execution_count": 5,
   "metadata": {},
   "outputs": [
    {
     "data": {
      "text/plain": [
       "951-element Vector{SubString{String}}:\n",
       " \"-10\"\n",
       " \"-12\"\n",
       " \"+1\"\n",
       " \"+14\"\n",
       " \"+11\"\n",
       " \"-19\"\n",
       " \"-4\"\n",
       " \"+10\"\n",
       " \"+10\"\n",
       " \"-12\"\n",
       " \"-13\"\n",
       " \"-10\"\n",
       " \"-8\"\n",
       " ⋮\n",
       " \"-2\"\n",
       " \"-14\"\n",
       " \"-22\"\n",
       " \"+14\"\n",
       " \"+36\"\n",
       " \"+32\"\n",
       " \"-28\"\n",
       " \"+1\"\n",
       " \"-21\"\n",
       " \"+8\"\n",
       " \"+14\"\n",
       " \"+75784\""
      ]
     },
     "execution_count": 5,
     "metadata": {},
     "output_type": "execute_result"
    }
   ],
   "source": [
    "parsed_input = parse_input(input)"
   ]
  },
  {
   "cell_type": "code",
   "execution_count": 6,
   "metadata": {},
   "outputs": [
    {
     "data": {
      "text/plain": [
       "\"+1\\n-2\\n+3\\n+1\""
      ]
     },
     "execution_count": 6,
     "metadata": {},
     "output_type": "execute_result"
    }
   ],
   "source": [
    "sample = \"\"\"+1\n",
    "-2\n",
    "+3\n",
    "+1\"\"\""
   ]
  },
  {
   "cell_type": "code",
   "execution_count": 7,
   "metadata": {},
   "outputs": [
    {
     "data": {
      "text/plain": [
       "4-element Vector{SubString{String}}:\n",
       " \"+1\"\n",
       " \"-2\"\n",
       " \"+3\"\n",
       " \"+1\""
      ]
     },
     "execution_count": 7,
     "metadata": {},
     "output_type": "execute_result"
    }
   ],
   "source": [
    "parsed_sample = parse_input(sample)"
   ]
  },
  {
   "cell_type": "code",
   "execution_count": 8,
   "metadata": {},
   "outputs": [
    {
     "data": {
      "text/plain": [
       "part_one (generic function with 1 method)"
      ]
     },
     "execution_count": 8,
     "metadata": {},
     "output_type": "execute_result"
    }
   ],
   "source": [
    "function part_one(input)\n",
    "    return sum(parse(Int, x) for x in input)\n",
    "end"
   ]
  },
  {
   "cell_type": "code",
   "execution_count": 9,
   "metadata": {},
   "outputs": [
    {
     "data": {
      "text/plain": [
       "3"
      ]
     },
     "execution_count": 9,
     "metadata": {},
     "output_type": "execute_result"
    }
   ],
   "source": [
    "part_one(parsed_sample)"
   ]
  },
  {
   "cell_type": "code",
   "execution_count": 10,
   "metadata": {},
   "outputs": [
    {
     "data": {
      "text/plain": [
       "529"
      ]
     },
     "execution_count": 10,
     "metadata": {},
     "output_type": "execute_result"
    }
   ],
   "source": [
    "part_one_ans = part_one(parsed_input)"
   ]
  },
  {
   "cell_type": "code",
   "execution_count": 11,
   "metadata": {},
   "outputs": [
    {
     "data": {
      "text/plain": [
       "\"<!DOCTYPE html>\\n<html lang=\\\"en-us\\\">\\n<head>\\n<meta charset=\\\"utf-8\\\"/>\\n<title>Day 1 - Advent of Code 2018</title>\\n<!--[if lt IE 9]><script src=\\\"/static/html5.js\\\"></script><![endif]-->\\n<link href='//fonts.googleapis.com/css?family=Source+Code+Pro:300&subset=latin,latin-ext' \" ⋯ 3305 bytes ⋯ \"Name(o)[0];a.async=1;a.src=g;m.parentNode.insertBefore(a,m)\\n})(window,document,'script','//www.google-analytics.com/analytics.js','ga');\\nga('create', 'UA-69522494-1', 'auto');\\nga('set', 'anonymizeIp', true);\\nga('send', 'pageview');\\n</script>\\n<!-- /ga -->\\n</body>\\n</html>\""
      ]
     },
     "execution_count": 11,
     "metadata": {},
     "output_type": "execute_result"
    }
   ],
   "source": [
    "submit_answer(year, day, part_one_ans)"
   ]
  },
  {
   "cell_type": "code",
   "execution_count": 12,
   "metadata": {},
   "outputs": [
    {
     "data": {
      "text/plain": [
       "part_two (generic function with 1 method)"
      ]
     },
     "execution_count": 12,
     "metadata": {},
     "output_type": "execute_result"
    }
   ],
   "source": [
    "function part_two(input)\n",
    "    occurred = Set{Int}([0])\n",
    "    now = 0\n",
    "    ptr = 1\n",
    "    while true\n",
    "        now += parse(Int, input[ptr])\n",
    "        if now in occurred\n",
    "            return now\n",
    "        else\n",
    "            push!(occurred, now)\n",
    "        end\n",
    "        ptr += 1\n",
    "        if ptr > length(input)\n",
    "            ptr = 1\n",
    "        end\n",
    "    end\n",
    "end"
   ]
  },
  {
   "cell_type": "code",
   "execution_count": 13,
   "metadata": {},
   "outputs": [
    {
     "data": {
      "text/plain": [
       "464"
      ]
     },
     "execution_count": 13,
     "metadata": {},
     "output_type": "execute_result"
    }
   ],
   "source": [
    "part_two_ans = part_two(parsed_input)"
   ]
  },
  {
   "cell_type": "code",
   "execution_count": 14,
   "metadata": {},
   "outputs": [
    {
     "data": {
      "text/plain": [
       "\"<!DOCTYPE html>\\n<html lang=\\\"en-us\\\">\\n<head>\\n<meta charset=\\\"utf-8\\\"/>\\n<title>Day 1 - Advent of Code 2018</title>\\n<!--[if lt IE 9]><script src=\\\"/static/html5.js\\\"></script><![endif]-->\\n<link href='//fonts.googleapis.com/css?family=Source+Code+Pro:300&subset=latin,latin-ext' \" ⋯ 3155 bytes ⋯ \"Name(o)[0];a.async=1;a.src=g;m.parentNode.insertBefore(a,m)\\n})(window,document,'script','//www.google-analytics.com/analytics.js','ga');\\nga('create', 'UA-69522494-1', 'auto');\\nga('set', 'anonymizeIp', true);\\nga('send', 'pageview');\\n</script>\\n<!-- /ga -->\\n</body>\\n</html>\""
      ]
     },
     "execution_count": 14,
     "metadata": {},
     "output_type": "execute_result"
    }
   ],
   "source": [
    "submit_answer(year, day, part_two_ans, 2)"
   ]
  }
 ],
 "metadata": {
  "kernelspec": {
   "display_name": "Julia 1.8.0",
   "language": "julia",
   "name": "julia-1.8"
  },
  "language_info": {
   "file_extension": ".jl",
   "mimetype": "application/julia",
   "name": "julia",
   "version": "1.8.2"
  },
  "orig_nbformat": 4,
  "vscode": {
   "interpreter": {
    "hash": "2decbbcdbe1b404b08c0c2ae8935a58886fd60ea7dad56cfc87e2a14f377e9ba"
   }
  }
 },
 "nbformat": 4,
 "nbformat_minor": 2
}
