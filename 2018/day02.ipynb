{
 "cells": [
  {
   "cell_type": "code",
   "execution_count": 1,
   "metadata": {},
   "outputs": [
    {
     "name": "stderr",
     "output_type": "stream",
     "text": [
      "\u001b[32m\u001b[1m  Activating\u001b[22m\u001b[39m project at `~/com.github/lucifer1004/AdventOfCode.jl`\n"
     ]
    }
   ],
   "source": [
    "import Pkg; Pkg.activate(\"..\")"
   ]
  },
  {
   "cell_type": "code",
   "execution_count": 2,
   "metadata": {},
   "outputs": [],
   "source": [
    "using AdventOfCode"
   ]
  },
  {
   "cell_type": "code",
   "execution_count": 3,
   "metadata": {},
   "outputs": [
    {
     "data": {
      "text/plain": [
       "2"
      ]
     },
     "execution_count": 3,
     "metadata": {},
     "output_type": "execute_result"
    }
   ],
   "source": [
    "year = 2018\n",
    "day = 2"
   ]
  },
  {
   "cell_type": "code",
   "execution_count": 4,
   "metadata": {},
   "outputs": [
    {
     "data": {
      "text/plain": [
       "\"vtnihorkulbfvjcyzmsjgdxplw\\nvtnihorvujbfejcyzmsqgdlpaw\\nvtnihoriulbzejcyzmsrgdxpaw\\nvtsihowkulbfejcyzmszgdxpaw\\nvtnizorkunbfejcyzmsqgdypaw\\nvtnihorkdlbfojcyzmsqgdfpaw\\nvtpioorkulbfejcysmsqgdxpaw\\nvtnvhorkulbfhjcyzmsqgdipaw\\nvtrihorkylbaejcyzmsqgdxpaw\\nvtnigorkulbfejcyzmszgjxpaw\\n\" ⋯ 6209 bytes ⋯ \"\\nntnihorhulbfejwyzmsqgdxpaw\\nvjnihorkulbfejcyqosqgdxpaw\\nvtiihorbulbfejcbzmsqgdxpaw\\nvtnihorkulbfejxlzmpqgdxpaw\\nvtnihorkolbfejcyfmsqgdxraw\\nvtnihqrrulbfedcyzmsqgdxpaw\\nctnihorkulbfejcyzmsqgdxpsy\\nvtnihorkulbfkjcezmspgdxpaw\\nztnihorkulbmcjcyzmsqgdxpaw\\nvinihorkulbfedcyzmsqgdxpau\""
      ]
     },
     "execution_count": 4,
     "metadata": {},
     "output_type": "execute_result"
    }
   ],
   "source": [
    "input = get_input(year, day)"
   ]
  },
  {
   "cell_type": "code",
   "execution_count": 5,
   "metadata": {},
   "outputs": [
    {
     "data": {
      "text/plain": [
       "250-element Vector{SubString{String}}:\n",
       " \"vtnihorkulbfvjcyzmsjgdxplw\"\n",
       " \"vtnihorvujbfejcyzmsqgdlpaw\"\n",
       " \"vtnihoriulbzejcyzmsrgdxpaw\"\n",
       " \"vtsihowkulbfejcyzmszgdxpaw\"\n",
       " \"vtnizorkunbfejcyzmsqgdypaw\"\n",
       " \"vtnihorkdlbfojcyzmsqgdfpaw\"\n",
       " \"vtpioorkulbfejcysmsqgdxpaw\"\n",
       " \"vtnvhorkulbfhjcyzmsqgdipaw\"\n",
       " \"vtrihorkylbaejcyzmsqgdxpaw\"\n",
       " \"vtnigorkulbfejcyzmszgjxpaw\"\n",
       " \"rtnihorkklbfejcyzmslgdxpaw\"\n",
       " \"vtnihorkqlbfejcyzmsqgmppaw\"\n",
       " \"vgnisorkulbfejcyzmsqgdkpaw\"\n",
       " ⋮\n",
       " \"vtnihorkulbfetcyzmpqudxpaw\"\n",
       " \"vtnbhorkulbfejcyzmsqgdupyw\"\n",
       " \"ntnihorhulbfejwyzmsqgdxpaw\"\n",
       " \"vjnihorkulbfejcyqosqgdxpaw\"\n",
       " \"vtiihorbulbfejcbzmsqgdxpaw\"\n",
       " \"vtnihorkulbfejxlzmpqgdxpaw\"\n",
       " \"vtnihorkolbfejcyfmsqgdxraw\"\n",
       " \"vtnihqrrulbfedcyzmsqgdxpaw\"\n",
       " \"ctnihorkulbfejcyzmsqgdxpsy\"\n",
       " \"vtnihorkulbfkjcezmspgdxpaw\"\n",
       " \"ztnihorkulbmcjcyzmsqgdxpaw\"\n",
       " \"vinihorkulbfedcyzmsqgdxpau\""
      ]
     },
     "execution_count": 5,
     "metadata": {},
     "output_type": "execute_result"
    }
   ],
   "source": [
    "parsed_input = parse_input(input)"
   ]
  },
  {
   "cell_type": "code",
   "execution_count": 6,
   "metadata": {},
   "outputs": [
    {
     "data": {
      "text/plain": [
       "\"abcdef\\nbababc\\nabbcde\\nabcccd\\nabcccd\\nabcdee\\nababab\""
      ]
     },
     "execution_count": 6,
     "metadata": {},
     "output_type": "execute_result"
    }
   ],
   "source": [
    "sample = \"\"\"abcdef\n",
    "bababc\n",
    "abbcde\n",
    "abcccd\n",
    "abcccd\n",
    "abcdee\n",
    "ababab\"\"\""
   ]
  },
  {
   "cell_type": "code",
   "execution_count": 7,
   "metadata": {},
   "outputs": [
    {
     "data": {
      "text/plain": [
       "7-element Vector{SubString{String}}:\n",
       " \"abcdef\"\n",
       " \"bababc\"\n",
       " \"abbcde\"\n",
       " \"abcccd\"\n",
       " \"abcccd\"\n",
       " \"abcdee\"\n",
       " \"ababab\""
      ]
     },
     "execution_count": 7,
     "metadata": {},
     "output_type": "execute_result"
    }
   ],
   "source": [
    "parsed_sample = parse_input(sample)"
   ]
  },
  {
   "cell_type": "code",
   "execution_count": 8,
   "metadata": {},
   "outputs": [
    {
     "data": {
      "text/plain": [
       "part_one (generic function with 1 method)"
      ]
     },
     "execution_count": 8,
     "metadata": {},
     "output_type": "execute_result"
    }
   ],
   "source": [
    "function part_one(input)\n",
    "    twos = 0\n",
    "    threes = 0\n",
    "    for line in input\n",
    "        counts = counter(line)\n",
    "        if 2 in values(counts)\n",
    "            twos += 1\n",
    "        end\n",
    "        if 3 in values(counts)\n",
    "            threes += 1\n",
    "        end\n",
    "    end\n",
    "    twos * threes\n",
    "end"
   ]
  },
  {
   "cell_type": "code",
   "execution_count": 9,
   "metadata": {},
   "outputs": [
    {
     "data": {
      "text/plain": [
       "12"
      ]
     },
     "execution_count": 9,
     "metadata": {},
     "output_type": "execute_result"
    }
   ],
   "source": [
    "part_one(parsed_sample)"
   ]
  },
  {
   "cell_type": "code",
   "execution_count": 10,
   "metadata": {},
   "outputs": [
    {
     "data": {
      "text/plain": [
       "3952"
      ]
     },
     "execution_count": 10,
     "metadata": {},
     "output_type": "execute_result"
    }
   ],
   "source": [
    "part_one_ans = part_one(parsed_input)"
   ]
  },
  {
   "cell_type": "code",
   "execution_count": 11,
   "metadata": {},
   "outputs": [
    {
     "data": {
      "text/plain": [
       "\"<!DOCTYPE html>\\n<html lang=\\\"en-us\\\">\\n<head>\\n<meta charset=\\\"utf-8\\\"/>\\n<title>Day 2 - Advent of Code 2018</title>\\n<!--[if lt IE 9]><script src=\\\"/static/html5.js\\\"></script><![endif]-->\\n<link href='//fonts.googleapis.com/css?family=Source+Code+Pro:300&subset=latin,latin-ext' \" ⋯ 3201 bytes ⋯ \"Name(o)[0];a.async=1;a.src=g;m.parentNode.insertBefore(a,m)\\n})(window,document,'script','//www.google-analytics.com/analytics.js','ga');\\nga('create', 'UA-69522494-1', 'auto');\\nga('set', 'anonymizeIp', true);\\nga('send', 'pageview');\\n</script>\\n<!-- /ga -->\\n</body>\\n</html>\""
      ]
     },
     "execution_count": 11,
     "metadata": {},
     "output_type": "execute_result"
    }
   ],
   "source": [
    "submit_answer(year, day, part_one_ans)"
   ]
  },
  {
   "cell_type": "code",
   "execution_count": 12,
   "metadata": {},
   "outputs": [
    {
     "data": {
      "text/plain": [
       "\"abcde\\nfghij\\nklmno\\npqrst\\nfguij\\naxcye\\nwvxyz\""
      ]
     },
     "execution_count": 12,
     "metadata": {},
     "output_type": "execute_result"
    }
   ],
   "source": [
    "sample = \"\"\"abcde\n",
    "fghij\n",
    "klmno\n",
    "pqrst\n",
    "fguij\n",
    "axcye\n",
    "wvxyz\"\"\""
   ]
  },
  {
   "cell_type": "code",
   "execution_count": 13,
   "metadata": {},
   "outputs": [
    {
     "data": {
      "text/plain": [
       "7-element Vector{SubString{String}}:\n",
       " \"abcde\"\n",
       " \"fghij\"\n",
       " \"klmno\"\n",
       " \"pqrst\"\n",
       " \"fguij\"\n",
       " \"axcye\"\n",
       " \"wvxyz\""
      ]
     },
     "execution_count": 13,
     "metadata": {},
     "output_type": "execute_result"
    }
   ],
   "source": [
    "parsed_sample = parse_input(sample)"
   ]
  },
  {
   "cell_type": "code",
   "execution_count": 14,
   "metadata": {},
   "outputs": [
    {
     "data": {
      "text/plain": [
       "part_two (generic function with 1 method)"
      ]
     },
     "execution_count": 14,
     "metadata": {},
     "output_type": "execute_result"
    }
   ],
   "source": [
    "function part_two(input)\n",
    "    n = length(input)\n",
    "    for (i, j) in Iterators.product(1:n, 1:n)\n",
    "        if i >= j\n",
    "            continue\n",
    "        end\n",
    "        diff = 0\n",
    "        for (a, b) in zip(input[i], input[j])\n",
    "            if a != b\n",
    "                diff += 1\n",
    "            end\n",
    "        end\n",
    "        if diff == 1\n",
    "            return join([a for (a, b) in zip(input[i], input[j]) if a == b])\n",
    "        end\n",
    "    end\n",
    "end"
   ]
  },
  {
   "cell_type": "code",
   "execution_count": 15,
   "metadata": {},
   "outputs": [
    {
     "data": {
      "text/plain": [
       "\"vtnikorkulbfejvyznqgdxpaw\""
      ]
     },
     "execution_count": 15,
     "metadata": {},
     "output_type": "execute_result"
    }
   ],
   "source": [
    "part_two_ans = part_two(parsed_input)"
   ]
  },
  {
   "cell_type": "code",
   "execution_count": 16,
   "metadata": {},
   "outputs": [
    {
     "data": {
      "text/plain": [
       "\"<!DOCTYPE html>\\n<html lang=\\\"en-us\\\">\\n<head>\\n<meta charset=\\\"utf-8\\\"/>\\n<title>Day 2 - Advent of Code 2018</title>\\n<!--[if lt IE 9]><script src=\\\"/static/html5.js\\\"></script><![endif]-->\\n<link href='//fonts.googleapis.com/css?family=Source+Code+Pro:300&subset=latin,latin-ext' \" ⋯ 3179 bytes ⋯ \"Name(o)[0];a.async=1;a.src=g;m.parentNode.insertBefore(a,m)\\n})(window,document,'script','//www.google-analytics.com/analytics.js','ga');\\nga('create', 'UA-69522494-1', 'auto');\\nga('set', 'anonymizeIp', true);\\nga('send', 'pageview');\\n</script>\\n<!-- /ga -->\\n</body>\\n</html>\""
      ]
     },
     "execution_count": 16,
     "metadata": {},
     "output_type": "execute_result"
    }
   ],
   "source": [
    "submit_answer(year, day, part_two_ans, 2)"
   ]
  }
 ],
 "metadata": {
  "kernelspec": {
   "display_name": "Julia 1.8.0",
   "language": "julia",
   "name": "julia-1.8"
  },
  "language_info": {
   "file_extension": ".jl",
   "mimetype": "application/julia",
   "name": "julia",
   "version": "1.8.2"
  },
  "orig_nbformat": 4,
  "vscode": {
   "interpreter": {
    "hash": "2decbbcdbe1b404b08c0c2ae8935a58886fd60ea7dad56cfc87e2a14f377e9ba"
   }
  }
 },
 "nbformat": 4,
 "nbformat_minor": 2
}
