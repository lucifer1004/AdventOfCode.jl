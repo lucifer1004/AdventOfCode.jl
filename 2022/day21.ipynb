{
 "cells": [
  {
   "cell_type": "code",
   "execution_count": 1,
   "metadata": {},
   "outputs": [
    {
     "name": "stderr",
     "output_type": "stream",
     "text": [
      "\u001b[32m\u001b[1m  Activating\u001b[22m\u001b[39m project at `~/com.github/lucifer1004/AdventOfCode.jl`\n"
     ]
    }
   ],
   "source": [
    "import Pkg; Pkg.activate(\"..\")"
   ]
  },
  {
   "cell_type": "code",
   "execution_count": 2,
   "metadata": {},
   "outputs": [],
   "source": [
    "using AdventOfCode"
   ]
  },
  {
   "cell_type": "code",
   "execution_count": 3,
   "metadata": {},
   "outputs": [
    {
     "data": {
      "text/plain": [
       "21"
      ]
     },
     "metadata": {},
     "output_type": "display_data"
    }
   ],
   "source": [
    "year = 2022\n",
    "day = 21"
   ]
  },
  {
   "cell_type": "code",
   "execution_count": 4,
   "metadata": {},
   "outputs": [
    {
     "data": {
      "text/plain": [
       "\"cjdb: 3\\nhhfs: 5\\njvjn: 4\\ntjzm: bngm * mrfm\\nmbbs: 2\\ndzlq: tcdz * bjdj\\nhtzp: 3\\nhsmn: 5\\nsblh: 2\\npghw: 5\\npqtp: vtcr * bcts\\nmvgz: 2\\nsszn: 3\\nzqlr: nlfq * htfq\\ndjsb: 2\\nvccw: zzsz * thbz\\ntlvg: fncr + glvj\\ngrql: nqch * jhmw\\nrngv: 4\\nprjv: 2\\nrmdl: lzdr * qpzh\\npdqm: 2\\njrpn: zcnv + p\" ⋯ 35103 bytes ⋯ \"\\ntctw: 13\\ntdpf: vplf * smqv\\nrmtj: lpct - gpnz\\nmvvq: tvsj * gwgj\\nwjbn: 2\\nfttt: 10\\ngvcr: htnl * dbgh\\nvtmw: 4\\nmtdb: 14\\nbjsc: 6\\nnjhj: 4\\nbwlz: 10\\nplzf: 6\\nlcsl: tsnl * rcrl\\nfssq: 2\\njpqp: 3\\nrzrp: swct * ptjb\\nrmbv: mnth / wzgg\\nqpvq: 17\\nvpgq: pffv * fblr\\nwlqg: 2\\nlbqb: 2\\nrrvf: 4\""
      ]
     },
     "metadata": {},
     "output_type": "display_data"
    }
   ],
   "source": [
    "input = get_input(year, day)"
   ]
  },
  {
   "cell_type": "code",
   "execution_count": 5,
   "metadata": {},
   "outputs": [
    {
     "data": {
      "text/plain": [
       "2727-element Vector{SubString{String}}:\n",
       " \"cjdb: 3\"\n",
       " \"hhfs: 5\"\n",
       " \"jvjn: 4\"\n",
       " \"tjzm: bngm * mrfm\"\n",
       " \"mbbs: 2\"\n",
       " \"dzlq: tcdz * bjdj\"\n",
       " \"htzp: 3\"\n",
       " \"hsmn: 5\"\n",
       " \"sblh: 2\"\n",
       " \"pghw: 5\"\n",
       " ⋮\n",
       " \"fssq: 2\"\n",
       " \"jpqp: 3\"\n",
       " \"rzrp: swct * ptjb\"\n",
       " \"rmbv: mnth / wzgg\"\n",
       " \"qpvq: 17\"\n",
       " \"vpgq: pffv * fblr\"\n",
       " \"wlqg: 2\"\n",
       " \"lbqb: 2\"\n",
       " \"rrvf: 4\""
      ]
     },
     "metadata": {},
     "output_type": "display_data"
    }
   ],
   "source": [
    "parsed_input = parse_input(input)"
   ]
  },
  {
   "cell_type": "code",
   "execution_count": 6,
   "metadata": {},
   "outputs": [
    {
     "data": {
      "text/plain": [
       "\"root: pppw + sjmn\\ndbpl: 5\\ncczh: sllz + lgvd\\nzczc: 2\\nptdq: humn - dvpt\\ndvpt: 3\\nlfqf: 4\\nhumn: 5\\nljgn: 2\\nsjmn: drzm * dbpl\\nsllz: 4\\npppw: cczh / lfqf\\nlgvd: ljgn * ptdq\\ndrzm: hmdt - zczc\\nhmdt: 32\""
      ]
     },
     "metadata": {},
     "output_type": "display_data"
    }
   ],
   "source": [
    "sample = \"\"\"root: pppw + sjmn\n",
    "dbpl: 5\n",
    "cczh: sllz + lgvd\n",
    "zczc: 2\n",
    "ptdq: humn - dvpt\n",
    "dvpt: 3\n",
    "lfqf: 4\n",
    "humn: 5\n",
    "ljgn: 2\n",
    "sjmn: drzm * dbpl\n",
    "sllz: 4\n",
    "pppw: cczh / lfqf\n",
    "lgvd: ljgn * ptdq\n",
    "drzm: hmdt - zczc\n",
    "hmdt: 32\"\"\""
   ]
  },
  {
   "cell_type": "code",
   "execution_count": 7,
   "metadata": {},
   "outputs": [
    {
     "data": {
      "text/plain": [
       "15-element Vector{SubString{String}}:\n",
       " \"root: pppw + sjmn\"\n",
       " \"dbpl: 5\"\n",
       " \"cczh: sllz + lgvd\"\n",
       " \"zczc: 2\"\n",
       " \"ptdq: humn - dvpt\"\n",
       " \"dvpt: 3\"\n",
       " \"lfqf: 4\"\n",
       " \"humn: 5\"\n",
       " \"ljgn: 2\"\n",
       " \"sjmn: drzm * dbpl\"\n",
       " \"sllz: 4\"\n",
       " \"pppw: cczh / lfqf\"\n",
       " \"lgvd: ljgn * ptdq\"\n",
       " \"drzm: hmdt - zczc\"\n",
       " \"hmdt: 32\""
      ]
     },
     "metadata": {},
     "output_type": "display_data"
    }
   ],
   "source": [
    "parsed_sample = parse_input(sample)"
   ]
  },
  {
   "cell_type": "code",
   "execution_count": 8,
   "metadata": {},
   "outputs": [
    {
     "data": {
      "text/plain": [
       "part_one (generic function with 1 method)"
      ]
     },
     "metadata": {},
     "output_type": "display_data"
    }
   ],
   "source": [
    "function part_one(input)\n",
    "    dict = Dict{String, Tuple{String, String, String}}()\n",
    "    indeg = DefaultDict{String, Int}(() -> 0)\n",
    "    adj = DefaultDict{String, Vector{String}}(() -> String[])\n",
    "    q = Queue{String}()\n",
    "    values = Dict{String, Int}()\n",
    "    for line in input\n",
    "        name, expr = split(line, \": \")\n",
    "        try\n",
    "            num = parse(Int, expr)\n",
    "            values[name] = num\n",
    "            enqueue!(q, name)\n",
    "        catch\n",
    "            a, op, b = split(expr, \" \")\n",
    "            push!(adj[a], name)\n",
    "            push!(adj[b], name)\n",
    "            dict[name] = (a, op, b)\n",
    "        end\n",
    "    end\n",
    "\n",
    "    while !isempty(q)\n",
    "        u = dequeue!(q)\n",
    "        for v in adj[u]\n",
    "            indeg[v] += 1\n",
    "            if indeg[v] == 2\n",
    "                a, op, b = dict[v]\n",
    "                av = values[a]\n",
    "                bv = values[b]\n",
    "                if op == \"+\"\n",
    "                    values[v] = av + bv\n",
    "                elseif op == \"-\"\n",
    "                    values[v] = av - bv\n",
    "                elseif op == \"*\"\n",
    "                    values[v] = av * bv\n",
    "                else\n",
    "                    values[v] = av / bv\n",
    "                end\n",
    "                enqueue!(q, v)\n",
    "            end\n",
    "        end\n",
    "    end\n",
    "\n",
    "    return values[\"root\"]\n",
    "end"
   ]
  },
  {
   "cell_type": "code",
   "execution_count": 9,
   "metadata": {},
   "outputs": [
    {
     "data": {
      "text/plain": [
       "152"
      ]
     },
     "metadata": {},
     "output_type": "display_data"
    }
   ],
   "source": [
    "part_one(parsed_sample)"
   ]
  },
  {
   "cell_type": "code",
   "execution_count": 10,
   "metadata": {},
   "outputs": [
    {
     "data": {
      "text/plain": [
       "291425799367130"
      ]
     },
     "metadata": {},
     "output_type": "display_data"
    }
   ],
   "source": [
    "part_one_ans = part_one(parsed_input)"
   ]
  },
  {
   "cell_type": "code",
   "execution_count": 11,
   "metadata": {},
   "outputs": [
    {
     "data": {
      "text/plain": [
       "\"<!DOCTYPE html>\\n<html lang=\\\"en-us\\\">\\n<head>\\n<meta charset=\\\"utf-8\\\"/>\\n<title>Day 21 - Advent of Code 2022</title>\\n<!--[if lt IE 9]><script src=\\\"/static/html5.js\\\"></script><![endif]-->\\n<link href='//fonts.googleapis.com/css?family=Source+Code+Pro:300&subset=latin,latin-ext'\" ⋯ 3477 bytes ⋯ \"Name(o)[0];a.async=1;a.src=g;m.parentNode.insertBefore(a,m)\\n})(window,document,'script','//www.google-analytics.com/analytics.js','ga');\\nga('create', 'UA-69522494-1', 'auto');\\nga('set', 'anonymizeIp', true);\\nga('send', 'pageview');\\n</script>\\n<!-- /ga -->\\n</body>\\n</html>\""
      ]
     },
     "metadata": {},
     "output_type": "display_data"
    }
   ],
   "source": [
    "submit_answer(year, day, part_one_ans)"
   ]
  },
  {
   "cell_type": "code",
   "execution_count": 12,
   "metadata": {},
   "outputs": [
    {
     "data": {
      "text/plain": [
       "part_two (generic function with 1 method)"
      ]
     },
     "metadata": {},
     "output_type": "display_data"
    }
   ],
   "source": [
    "function part_two(input)\n",
    "    dict = Dict{String, Tuple{String, String, String}}()\n",
    "    indeg = DefaultDict{String, Int}(() -> 0)\n",
    "    adj = DefaultDict{String, Vector{String}}(() -> String[])\n",
    "    q = Queue{String}()\n",
    "    values = Dict{String, Tuple{Rational{BigInt}, Rational{BigInt}}}()\n",
    "    \n",
    "    for line in input\n",
    "        name, expr = split(line, \": \")\n",
    "        try\n",
    "            num = parse(Int, expr)\n",
    "            values[name] = (0, num)\n",
    "            if name == \"humn\"\n",
    "                values[name] = (1, 0)\n",
    "            end\n",
    "            enqueue!(q, name)\n",
    "        catch\n",
    "            a, op, b = split(expr, \" \")\n",
    "            push!(adj[a], name)\n",
    "            push!(adj[b], name)\n",
    "            dict[name] = (a, op, b)\n",
    "        end\n",
    "    end\n",
    "\n",
    "    while !isempty(q)\n",
    "        u = dequeue!(q)\n",
    "        for v in adj[u]\n",
    "            indeg[v] += 1\n",
    "            if indeg[v] == 2\n",
    "                a, op, b = dict[v]\n",
    "                av = values[a]\n",
    "                bv = values[b]\n",
    "                if op == \"+\"\n",
    "                    values[v] = av .+ bv\n",
    "                elseif op == \"-\"\n",
    "                    values[v] = av .- bv\n",
    "                elseif op == \"*\"\n",
    "                    @assert iszero(av[1]) || iszero(bv[1])\n",
    "                    values[v] = (av[1] * bv[2] + av[2] * bv[1], av[2] * bv[2])\n",
    "                else\n",
    "                    @assert iszero(bv[1])\n",
    "                    values[v] = (av[1] / bv[2], av[2] / bv[2])\n",
    "                end\n",
    "                enqueue!(q, v)\n",
    "            end\n",
    "        end\n",
    "    end\n",
    "\n",
    "    a, _, b = dict[\"root\"]    \n",
    "    av, bv = values[a], values[b]\n",
    "    return Int((bv[2] - av[2]) / (av[1] - bv[1])) \n",
    "end"
   ]
  },
  {
   "cell_type": "code",
   "execution_count": 13,
   "metadata": {},
   "outputs": [
    {
     "data": {
      "text/plain": [
       "301"
      ]
     },
     "metadata": {},
     "output_type": "display_data"
    }
   ],
   "source": [
    "part_two(parsed_sample)"
   ]
  },
  {
   "cell_type": "code",
   "execution_count": 14,
   "metadata": {},
   "outputs": [
    {
     "data": {
      "text/plain": [
       "3219579395609"
      ]
     },
     "metadata": {},
     "output_type": "display_data"
    }
   ],
   "source": [
    "part_two_ans = part_two(parsed_input)"
   ]
  },
  {
   "cell_type": "code",
   "execution_count": 15,
   "metadata": {},
   "outputs": [
    {
     "data": {
      "text/plain": [
       "\"<!DOCTYPE html>\\n<html lang=\\\"en-us\\\">\\n<head>\\n<meta charset=\\\"utf-8\\\"/>\\n<title>Day 21 - Advent of Code 2022</title>\\n<!--[if lt IE 9]><script src=\\\"/static/html5.js\\\"></script><![endif]-->\\n<link href='//fonts.googleapis.com/css?family=Source+Code+Pro:300&subset=latin,latin-ext'\" ⋯ 3375 bytes ⋯ \"Name(o)[0];a.async=1;a.src=g;m.parentNode.insertBefore(a,m)\\n})(window,document,'script','//www.google-analytics.com/analytics.js','ga');\\nga('create', 'UA-69522494-1', 'auto');\\nga('set', 'anonymizeIp', true);\\nga('send', 'pageview');\\n</script>\\n<!-- /ga -->\\n</body>\\n</html>\""
      ]
     },
     "metadata": {},
     "output_type": "display_data"
    }
   ],
   "source": [
    "submit_answer(year, day, part_two_ans, 2)"
   ]
  }
 ],
 "metadata": {
  "kernelspec": {
   "display_name": "Julia 1.8.3",
   "language": "julia",
   "name": "julia-1.8"
  },
  "language_info": {
   "file_extension": ".jl",
   "mimetype": "application/julia",
   "name": "julia",
   "version": "1.8.3"
  },
  "vscode": {
   "interpreter": {
    "hash": "2decbbcdbe1b404b08c0c2ae8935a58886fd60ea7dad56cfc87e2a14f377e9ba"
   }
  }
 },
 "nbformat": 4,
 "nbformat_minor": 4
}
