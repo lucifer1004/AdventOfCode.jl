{
 "cells": [
  {
   "cell_type": "code",
   "execution_count": 1,
   "metadata": {},
   "outputs": [
    {
     "name": "stderr",
     "output_type": "stream",
     "text": [
      "\u001b[32m\u001b[1m  Activating\u001b[22m\u001b[39m project at `~/com.github/lucifer1004/AdventOfCode.jl`\n"
     ]
    }
   ],
   "source": [
    "import Pkg; Pkg.activate(\"..\")"
   ]
  },
  {
   "cell_type": "code",
   "execution_count": 2,
   "metadata": {},
   "outputs": [],
   "source": [
    "using AdventOfCode"
   ]
  },
  {
   "cell_type": "code",
   "execution_count": 3,
   "metadata": {},
   "outputs": [
    {
     "data": {
      "text/plain": [
       "11"
      ]
     },
     "execution_count": 3,
     "metadata": {},
     "output_type": "execute_result"
    }
   ],
   "source": [
    "year = 2022\n",
    "day = 11"
   ]
  },
  {
   "cell_type": "code",
   "execution_count": 4,
   "metadata": {},
   "outputs": [
    {
     "data": {
      "text/plain": [
       "\"Monkey 0:\\n  Starting items: 62, 92, 50, 63, 62, 93, 73, 50\\n  Operation: new = old * 7\\n  Test: divisible by 2\\n    If true: throw to monkey 7\\n    If false: throw to monkey 1\\n\\nMonkey 1:\\n  Starting items: 51, 97, 74, 84, 99\\n  Operation: new = old + 3\\n  Test: divisible by 7\\n \" ⋯ 735 bytes ⋯ \" 78\\n  Operation: new = old + 8\\n  Test: divisible by 3\\n    If true: throw to monkey 0\\n    If false: throw to monkey 7\\n\\nMonkey 7:\\n  Starting items: 84, 93, 54\\n  Operation: new = old + 1\\n  Test: divisible by 17\\n    If true: throw to monkey 2\\n    If false: throw to monkey 1\""
      ]
     },
     "execution_count": 4,
     "metadata": {},
     "output_type": "execute_result"
    }
   ],
   "source": [
    "input = get_input(year, day)"
   ]
  },
  {
   "cell_type": "code",
   "execution_count": 5,
   "metadata": {},
   "outputs": [
    {
     "data": {
      "text/plain": [
       "55-element Vector{SubString{String}}:\n",
       " \"Monkey 0:\"\n",
       " \"  Starting items: 62, 92, 50, 63, 62, 93, 73, 50\"\n",
       " \"  Operation: new = old * 7\"\n",
       " \"  Test: divisible by 2\"\n",
       " \"    If true: throw to monkey 7\"\n",
       " \"    If false: throw to monkey 1\"\n",
       " \"\"\n",
       " \"Monkey 1:\"\n",
       " \"  Starting items: 51, 97, 74, 84, 99\"\n",
       " \"  Operation: new = old + 3\"\n",
       " \"  Test: divisible by 7\"\n",
       " \"    If true: throw to monkey 2\"\n",
       " \"    If false: throw to monkey 4\"\n",
       " ⋮\n",
       " \"  Starting items: 78\"\n",
       " \"  Operation: new = old + 8\"\n",
       " \"  Test: divisible by 3\"\n",
       " \"    If true: throw to monkey 0\"\n",
       " \"    If false: throw to monkey 7\"\n",
       " \"\"\n",
       " \"Monkey 7:\"\n",
       " \"  Starting items: 84, 93, 54\"\n",
       " \"  Operation: new = old + 1\"\n",
       " \"  Test: divisible by 17\"\n",
       " \"    If true: throw to monkey 2\"\n",
       " \"    If false: throw to monkey 1\""
      ]
     },
     "execution_count": 5,
     "metadata": {},
     "output_type": "execute_result"
    }
   ],
   "source": [
    "parsed_input = parse_input(input)"
   ]
  },
  {
   "cell_type": "code",
   "execution_count": 6,
   "metadata": {},
   "outputs": [
    {
     "data": {
      "text/plain": [
       "\"Monkey 0:\\n  Starting items: 79, 98\\n  Operation: new = old * 19\\n  Test: divisible by 23\\n    If true: throw to monkey 2\\n    If false: throw to monkey 3\\n\\nMonkey 1:\\n  Starting items: 54, 65, 75, 74\\n  Operation: new = old + 6\\n  Test: divisible by 19\\n    If true: throw to monk\" ⋯ 67 bytes ⋯ \"9, 60, 97\\n  Operation: new = old * old\\n  Test: divisible by 13\\n    If true: throw to monkey 1\\n    If false: throw to monkey 3\\n\\nMonkey 3:\\n  Starting items: 74\\n  Operation: new = old + 3\\n  Test: divisible by 17\\n    If true: throw to monkey 0\\n    If false: throw to monkey 1\""
      ]
     },
     "execution_count": 6,
     "metadata": {},
     "output_type": "execute_result"
    }
   ],
   "source": [
    "sample = \"\"\"Monkey 0:\n",
    "  Starting items: 79, 98\n",
    "  Operation: new = old * 19\n",
    "  Test: divisible by 23\n",
    "    If true: throw to monkey 2\n",
    "    If false: throw to monkey 3\n",
    "\n",
    "Monkey 1:\n",
    "  Starting items: 54, 65, 75, 74\n",
    "  Operation: new = old + 6\n",
    "  Test: divisible by 19\n",
    "    If true: throw to monkey 2\n",
    "    If false: throw to monkey 0\n",
    "\n",
    "Monkey 2:\n",
    "  Starting items: 79, 60, 97\n",
    "  Operation: new = old * old\n",
    "  Test: divisible by 13\n",
    "    If true: throw to monkey 1\n",
    "    If false: throw to monkey 3\n",
    "\n",
    "Monkey 3:\n",
    "  Starting items: 74\n",
    "  Operation: new = old + 3\n",
    "  Test: divisible by 17\n",
    "    If true: throw to monkey 0\n",
    "    If false: throw to monkey 1\"\"\""
   ]
  },
  {
   "cell_type": "code",
   "execution_count": 7,
   "metadata": {},
   "outputs": [
    {
     "data": {
      "text/plain": [
       "27-element Vector{SubString{String}}:\n",
       " \"Monkey 0:\"\n",
       " \"  Starting items: 79, 98\"\n",
       " \"  Operation: new = old * 19\"\n",
       " \"  Test: divisible by 23\"\n",
       " \"    If true: throw to monkey 2\"\n",
       " \"    If false: throw to monkey 3\"\n",
       " \"\"\n",
       " \"Monkey 1:\"\n",
       " \"  Starting items: 54, 65, 75, 74\"\n",
       " \"  Operation: new = old + 6\"\n",
       " \"  Test: divisible by 19\"\n",
       " \"    If true: throw to monkey 2\"\n",
       " \"    If false: throw to monkey 0\"\n",
       " ⋮\n",
       " \"  Starting items: 79, 60, 97\"\n",
       " \"  Operation: new = old * old\"\n",
       " \"  Test: divisible by 13\"\n",
       " \"    If true: throw to monkey 1\"\n",
       " \"    If false: throw to monkey 3\"\n",
       " \"\"\n",
       " \"Monkey 3:\"\n",
       " \"  Starting items: 74\"\n",
       " \"  Operation: new = old + 3\"\n",
       " \"  Test: divisible by 17\"\n",
       " \"    If true: throw to monkey 0\"\n",
       " \"    If false: throw to monkey 1\""
      ]
     },
     "execution_count": 7,
     "metadata": {},
     "output_type": "execute_result"
    }
   ],
   "source": [
    "parsed_sample = parse_input(sample)"
   ]
  },
  {
   "cell_type": "code",
   "execution_count": 8,
   "metadata": {},
   "outputs": [],
   "source": [
    "struct Monkey\n",
    "    id::Int\n",
    "    items::Vector{Int}\n",
    "    fn::Expr\n",
    "    test::Int\n",
    "    if_true::Int\n",
    "    if_false::Int\n",
    "end"
   ]
  },
  {
   "cell_type": "code",
   "execution_count": 9,
   "metadata": {},
   "outputs": [
    {
     "data": {
      "text/plain": [
       "Monkey"
      ]
     },
     "execution_count": 9,
     "metadata": {},
     "output_type": "execute_result"
    }
   ],
   "source": [
    "function Monkey(desc)\n",
    "    id = parse(Int, match(r\"Monkey (\\d+):\", desc[1])[1]) + 1\n",
    "    starting_items = map(x -> parse(Int, x), split(match(r\"Starting items: (.*)\", desc[2])[1], \", \"))\n",
    "    fn = Meta.parse(\"function f$(id)(old) \" * match(r\"Operation: new = (.*)\", desc[3])[1] * \" end\")\n",
    "    test = parse(Int, match(r\"Test: divisible by (.*)\", desc[4])[1])\n",
    "    if_true = parse(Int, match(r\"If true: throw to monkey (\\d+)\", desc[5])[1]) + 1\n",
    "    if_false = parse(Int, match(r\"If false: throw to monkey (\\d+)\", desc[6])[1]) + 1\n",
    "\n",
    "    return Monkey(id, starting_items, fn, test, if_true, if_false)\n",
    "end"
   ]
  },
  {
   "cell_type": "code",
   "execution_count": 10,
   "metadata": {},
   "outputs": [
    {
     "data": {
      "text/plain": [
       "preprocess (generic function with 1 method)"
      ]
     },
     "execution_count": 10,
     "metadata": {},
     "output_type": "execute_result"
    }
   ],
   "source": [
    "function preprocess(input)\n",
    "    i = 1\n",
    "    monkeys = []\n",
    "    while i + 5 <= length(input)\n",
    "        push!(monkeys, Monkey(input[i:i+5]))\n",
    "        i += 7\n",
    "    end\n",
    "    return monkeys\n",
    "end"
   ]
  },
  {
   "cell_type": "code",
   "execution_count": 11,
   "metadata": {},
   "outputs": [
    {
     "data": {
      "text/plain": [
       "@part_one (macro with 1 method)"
      ]
     },
     "execution_count": 11,
     "metadata": {},
     "output_type": "execute_result"
    }
   ],
   "source": [
    "macro part_one(input)\n",
    "\tquote\n",
    "\t\tmonkeys = preprocess($input)\n",
    "\t\tn = length(monkeys)\n",
    "\t\tbusy = zeros(Int, n)\n",
    "\t\titems = [collect(monkey.items) for monkey in monkeys]\n",
    "\t\tfns = [eval(monkey.fn) for monkey in monkeys]\n",
    "\n",
    "\t\tfor rnd in 1:20\n",
    "\t\t\tfor i in 1:n\n",
    "\t\t\t\tfor item in items[i]\n",
    "\t\t\t\t\tbusy[i] += 1\n",
    "\t\t\t\t\tnxt = fns[i](item) ÷ 3\n",
    "\t\t\t\t\tif nxt % monkeys[i].test == 0\n",
    "\t\t\t\t\t\tpush!(items[monkeys[i].if_true], nxt)\n",
    "\t\t\t\t\telse\n",
    "\t\t\t\t\t\tpush!(items[monkeys[i].if_false], nxt)\n",
    "\t\t\t\t\tend\n",
    "\t\t\t\tend\n",
    "\t\t\t\tempty!(items[i])\n",
    "\t\t\tend\n",
    "\t\tend\n",
    "\n",
    "\t\t@show busy\n",
    "\t\tsort!(busy)\n",
    "\t\treturn busy[end] * busy[end - 1]\n",
    "\tend\n",
    "end"
   ]
  },
  {
   "cell_type": "code",
   "execution_count": 12,
   "metadata": {},
   "outputs": [
    {
     "name": "stdout",
     "output_type": "stream",
     "text": [
      "busy = [101, 95, 7, 105]\n"
     ]
    },
    {
     "data": {
      "text/plain": [
       "10605"
      ]
     },
     "execution_count": 12,
     "metadata": {},
     "output_type": "execute_result"
    }
   ],
   "source": [
    "@part_one(parsed_sample)"
   ]
  },
  {
   "cell_type": "code",
   "execution_count": 13,
   "metadata": {},
   "outputs": [
    {
     "name": "stdout",
     "output_type": "stream",
     "text": [
      "busy = [291, 296, 17, 297, 306, 7, 6, 115]\n"
     ]
    },
    {
     "data": {
      "text/plain": [
       "90882"
      ]
     },
     "execution_count": 13,
     "metadata": {},
     "output_type": "execute_result"
    }
   ],
   "source": [
    "part_one_ans = @eval @part_one(parsed_input)"
   ]
  },
  {
   "cell_type": "code",
   "execution_count": 14,
   "metadata": {},
   "outputs": [
    {
     "data": {
      "text/plain": [
       "\"<!DOCTYPE html>\\n<html lang=\\\"en-us\\\">\\n<head>\\n<meta charset=\\\"utf-8\\\"/>\\n<title>Day 11 - Advent of Code 2022</title>\\n<!--[if lt IE 9]><script src=\\\"/static/html5.js\\\"></script><![endif]-->\\n<link href='//fonts.googleapis.com/css?family=Source+Code+Pro:300&subset=latin,latin-ext'\" ⋯ 3329 bytes ⋯ \"Name(o)[0];a.async=1;a.src=g;m.parentNode.insertBefore(a,m)\\n})(window,document,'script','//www.google-analytics.com/analytics.js','ga');\\nga('create', 'UA-69522494-1', 'auto');\\nga('set', 'anonymizeIp', true);\\nga('send', 'pageview');\\n</script>\\n<!-- /ga -->\\n</body>\\n</html>\""
      ]
     },
     "execution_count": 14,
     "metadata": {},
     "output_type": "execute_result"
    }
   ],
   "source": [
    "submit_answer(year, day, part_one_ans)"
   ]
  },
  {
   "cell_type": "code",
   "execution_count": 15,
   "metadata": {},
   "outputs": [
    {
     "data": {
      "text/plain": [
       "@part_two (macro with 1 method)"
      ]
     },
     "execution_count": 15,
     "metadata": {},
     "output_type": "execute_result"
    }
   ],
   "source": [
    "macro part_two(input)\n",
    "\tquote\n",
    "\t\tmonkeys = preprocess($input)\n",
    "\t\tn = length(monkeys)\n",
    "\t\tbusy = zeros(Int, n)\n",
    "\t\tMOD = lcm([monkeys[i].test for i in 1:n])\n",
    "\t\titems = [collect(monkey.items) for monkey in monkeys]\n",
    "\t\tfns = [eval(monkey.fn) for monkey in monkeys]\n",
    "\n",
    "\t\tfor rnd in 1:10000\n",
    "\t\t\tfor i in 1:n\n",
    "\t\t\t\tfor item in items[i]\n",
    "\t\t\t\t\tbusy[i] += 1\n",
    "\t\t\t\t\tnxt = fns[i](item) % MOD\n",
    "\t\t\t\t\tif nxt % monkeys[i].test == 0\n",
    "\t\t\t\t\t\tpush!(items[monkeys[i].if_true], nxt)\n",
    "\t\t\t\t\telse\n",
    "\t\t\t\t\t\tpush!(items[monkeys[i].if_false], nxt)\n",
    "\t\t\t\t\tend\n",
    "\t\t\t\tend\n",
    "\t\t\t\tempty!(items[i])\n",
    "\t\t\tend\n",
    "\t\tend\n",
    "\n",
    "\t\t@show busy\n",
    "\t\tsort!(busy)\n",
    "\t\treturn busy[end] * busy[end - 1]\n",
    "\tend\n",
    "end"
   ]
  },
  {
   "cell_type": "code",
   "execution_count": 16,
   "metadata": {},
   "outputs": [
    {
     "name": "stdout",
     "output_type": "stream",
     "text": [
      "busy = [52166, 47830, 1938, 52013]\n"
     ]
    },
    {
     "data": {
      "text/plain": [
       "2713310158"
      ]
     },
     "execution_count": 16,
     "metadata": {},
     "output_type": "execute_result"
    }
   ],
   "source": [
    "@part_two(parsed_sample)"
   ]
  },
  {
   "cell_type": "code",
   "execution_count": 17,
   "metadata": {},
   "outputs": [
    {
     "name": "stdout",
     "output_type": "stream",
     "text": [
      "busy = [170248, 174243, 3549, 161508, 177299, 16284, 28995, 28223]\n"
     ]
    },
    {
     "data": {
      "text/plain": [
       "30893109657"
      ]
     },
     "execution_count": 17,
     "metadata": {},
     "output_type": "execute_result"
    }
   ],
   "source": [
    "part_two_ans = @eval @part_two(parsed_input)"
   ]
  },
  {
   "cell_type": "code",
   "execution_count": 18,
   "metadata": {},
   "outputs": [
    {
     "data": {
      "text/plain": [
       "\"<!DOCTYPE html>\\n<html lang=\\\"en-us\\\">\\n<head>\\n<meta charset=\\\"utf-8\\\"/>\\n<title>Day 11 - Advent of Code 2022</title>\\n<!--[if lt IE 9]><script src=\\\"/static/html5.js\\\"></script><![endif]-->\\n<link href='//fonts.googleapis.com/css?family=Source+Code+Pro:300&subset=latin,latin-ext'\" ⋯ 3397 bytes ⋯ \"Name(o)[0];a.async=1;a.src=g;m.parentNode.insertBefore(a,m)\\n})(window,document,'script','//www.google-analytics.com/analytics.js','ga');\\nga('create', 'UA-69522494-1', 'auto');\\nga('set', 'anonymizeIp', true);\\nga('send', 'pageview');\\n</script>\\n<!-- /ga -->\\n</body>\\n</html>\""
      ]
     },
     "execution_count": 18,
     "metadata": {},
     "output_type": "execute_result"
    }
   ],
   "source": [
    "submit_answer(year, day, part_two_ans, 2)"
   ]
  }
 ],
 "metadata": {
  "kernelspec": {
   "display_name": "Julia 1.8.0",
   "language": "julia",
   "name": "julia-1.8"
  },
  "language_info": {
   "file_extension": ".jl",
   "mimetype": "application/julia",
   "name": "julia",
   "version": "1.8.3"
  },
  "orig_nbformat": 4,
  "vscode": {
   "interpreter": {
    "hash": "2decbbcdbe1b404b08c0c2ae8935a58886fd60ea7dad56cfc87e2a14f377e9ba"
   }
  }
 },
 "nbformat": 4,
 "nbformat_minor": 2
}
