{
 "cells": [
  {
   "cell_type": "code",
   "execution_count": 1,
   "metadata": {},
   "outputs": [
    {
     "name": "stderr",
     "output_type": "stream",
     "text": [
      "\u001b[32m\u001b[1m  Activating\u001b[22m\u001b[39m project at `~/com.github/lucifer1004/AdventOfCode.jl`\n"
     ]
    }
   ],
   "source": [
    "import Pkg; Pkg.activate(\"..\")"
   ]
  },
  {
   "cell_type": "code",
   "execution_count": 2,
   "metadata": {},
   "outputs": [],
   "source": [
    "using AdventOfCode"
   ]
  },
  {
   "cell_type": "code",
   "execution_count": 3,
   "metadata": {},
   "outputs": [
    {
     "data": {
      "text/plain": [
       "8"
      ]
     },
     "execution_count": 3,
     "metadata": {},
     "output_type": "execute_result"
    }
   ],
   "source": [
    "year = 2022\n",
    "day = 8"
   ]
  },
  {
   "cell_type": "code",
   "execution_count": 4,
   "metadata": {},
   "outputs": [
    {
     "data": {
      "text/plain": [
       "\"211332213033101124130110410025404035324540506465522424325025442423205322144201114032433102223133301\\n311023320242030112033354205533003100224166354233554634221041635230051410343235342432112434034030100\\n0012232044330220131033054102223155540323665060214050023150444634200510\" ⋯ 9359 bytes ⋯ \"2254000023525634236200334160045616312416360423100451201322404023012301\\n212011312011233130523111525121303414244121320644050343211556336246463215444025331411002041412122121\\n002023323443102242311523000140150506160522004635222556200251663551444551235250440223242010414011021\""
      ]
     },
     "execution_count": 4,
     "metadata": {},
     "output_type": "execute_result"
    }
   ],
   "source": [
    "input = get_input(year, day)"
   ]
  },
  {
   "cell_type": "code",
   "execution_count": 5,
   "metadata": {},
   "outputs": [
    {
     "data": {
      "text/plain": [
       "99-element Vector{SubString{String}}:\n",
       " \"2113322130331011241301104100254\" ⋯ 37 bytes ⋯ \"5322144201114032433102223133301\"\n",
       " \"3110233202420301120333542055330\" ⋯ 37 bytes ⋯ \"1410343235342432112434034030100\"\n",
       " \"0012232044330220131033054102223\" ⋯ 37 bytes ⋯ \"1033302201255133143124420412122\"\n",
       " \"0131322330123442255350333041122\" ⋯ 37 bytes ⋯ \"1044544210352330412212401012131\"\n",
       " \"1232032132004141134313240510244\" ⋯ 37 bytes ⋯ \"1241340014021504043322022404322\"\n",
       " \"3003143343032003241100010110650\" ⋯ 37 bytes ⋯ \"2633325011034021521210022442213\"\n",
       " \"3003123043131212332035443051304\" ⋯ 37 bytes ⋯ \"6245230444434551201440322230302\"\n",
       " \"1212133302240315534222310362331\" ⋯ 37 bytes ⋯ \"0003006410044502531341130240114\"\n",
       " \"3013242404315031255001160624531\" ⋯ 37 bytes ⋯ \"5433012615301235013252120302340\"\n",
       " \"0032320404011120043055101555201\" ⋯ 37 bytes ⋯ \"2665224212525123530315344321124\"\n",
       " \"0200112110141521201406221323152\" ⋯ 37 bytes ⋯ \"3305603063000545505055054420401\"\n",
       " \"1202322441541342551224150532463\" ⋯ 37 bytes ⋯ \"3246632230131225000041540131403\"\n",
       " \"3400322154202505531420641460645\" ⋯ 37 bytes ⋯ \"2371434553560636420004452544143\"\n",
       " ⋮\n",
       " \"2442005025342422613622022150536\" ⋯ 37 bytes ⋯ \"6575631240166556655421245234022\"\n",
       " \"0331404100310012446051266546656\" ⋯ 37 bytes ⋯ \"6632645640155606531431321003203\"\n",
       " \"3331440202035403444602120346014\" ⋯ 37 bytes ⋯ \"1652534221451541150344324122432\"\n",
       " \"0034411442323311443212402621321\" ⋯ 37 bytes ⋯ \"2213423063330000551314401242014\"\n",
       " \"4312442130341405323450200140163\" ⋯ 37 bytes ⋯ \"2000625105541402423314424042442\"\n",
       " \"0323322423110145535034563625331\" ⋯ 37 bytes ⋯ \"0110152631423434352520024421043\"\n",
       " \"1021030023220524511002303404201\" ⋯ 37 bytes ⋯ \"4222634613532434255202434131242\"\n",
       " \"2031300131332330450442042234040\" ⋯ 37 bytes ⋯ \"6245651432113040525413323340210\"\n",
       " \"0301242003402212302412255214464\" ⋯ 37 bytes ⋯ \"1366221221035421132414124314402\"\n",
       " \"1201124130303441144122315143322\" ⋯ 37 bytes ⋯ \"6360423100451201322404023012301\"\n",
       " \"2120113120112331305231115251213\" ⋯ 37 bytes ⋯ \"3215444025331411002041412122121\"\n",
       " \"0020233234431022423115230001401\" ⋯ 37 bytes ⋯ \"4551235250440223242010414011021\""
      ]
     },
     "execution_count": 5,
     "metadata": {},
     "output_type": "execute_result"
    }
   ],
   "source": [
    "parsed_input = parse_input(input)"
   ]
  },
  {
   "cell_type": "code",
   "execution_count": 6,
   "metadata": {},
   "outputs": [
    {
     "data": {
      "text/plain": [
       "\"30373\\n25512\\n65332\\n33549\\n35390\""
      ]
     },
     "execution_count": 6,
     "metadata": {},
     "output_type": "execute_result"
    }
   ],
   "source": [
    "sample = \"\"\"30373\n",
    "25512\n",
    "65332\n",
    "33549\n",
    "35390\"\"\""
   ]
  },
  {
   "cell_type": "code",
   "execution_count": 7,
   "metadata": {},
   "outputs": [
    {
     "data": {
      "text/plain": [
       "5-element Vector{SubString{String}}:\n",
       " \"30373\"\n",
       " \"25512\"\n",
       " \"65332\"\n",
       " \"33549\"\n",
       " \"35390\""
      ]
     },
     "execution_count": 7,
     "metadata": {},
     "output_type": "execute_result"
    }
   ],
   "source": [
    "parsed_sample = parse_input(sample)"
   ]
  },
  {
   "cell_type": "code",
   "execution_count": 8,
   "metadata": {},
   "outputs": [
    {
     "data": {
      "text/plain": [
       "preprocess (generic function with 1 method)"
      ]
     },
     "execution_count": 8,
     "metadata": {},
     "output_type": "execute_result"
    }
   ],
   "source": [
    "function preprocess(input)\n",
    "    n = length(input)\n",
    "    m = length(input[1])\n",
    "    return [parse(Int, input[i][j]) for i in 1:n, j in 1:m]\n",
    "end"
   ]
  },
  {
   "cell_type": "code",
   "execution_count": 9,
   "metadata": {},
   "outputs": [
    {
     "data": {
      "text/plain": [
       "part_one (generic function with 1 method)"
      ]
     },
     "execution_count": 9,
     "metadata": {},
     "output_type": "execute_result"
    }
   ],
   "source": [
    "function part_one(input)\n",
    "    board = preprocess(input)\n",
    "    n, m = size(board)\n",
    "    cansee = zeros(Bool, n, m)\n",
    "    for i in 1:n\n",
    "        hi = -1\n",
    "        for j in 1:m\n",
    "            if board[i, j] > hi\n",
    "                cansee[i, j] = true\n",
    "                hi = board[i, j]\n",
    "            end\n",
    "        end\n",
    "\n",
    "        hi = -1\n",
    "        for j in m:-1:1\n",
    "            if board[i, j] > hi\n",
    "                cansee[i, j] = true\n",
    "                hi = board[i, j]\n",
    "            end\n",
    "        end\n",
    "    end\n",
    "\n",
    "    for j in 1:m\n",
    "        hi = -1\n",
    "        for i in 1:n\n",
    "            if board[i, j] > hi\n",
    "                cansee[i, j] = true\n",
    "                hi = board[i, j]\n",
    "            end\n",
    "        end\n",
    "\n",
    "        hi = -1\n",
    "        for i in n:-1:1\n",
    "            if board[i, j] > hi\n",
    "                cansee[i, j] = true\n",
    "                hi = board[i, j]\n",
    "            end\n",
    "        end\n",
    "    end\n",
    "\n",
    "    sum(cansee)\n",
    "end"
   ]
  },
  {
   "cell_type": "code",
   "execution_count": 10,
   "metadata": {},
   "outputs": [
    {
     "data": {
      "text/plain": [
       "21"
      ]
     },
     "execution_count": 10,
     "metadata": {},
     "output_type": "execute_result"
    }
   ],
   "source": [
    "part_one(parsed_sample)"
   ]
  },
  {
   "cell_type": "code",
   "execution_count": 11,
   "metadata": {},
   "outputs": [
    {
     "data": {
      "text/plain": [
       "1688"
      ]
     },
     "execution_count": 11,
     "metadata": {},
     "output_type": "execute_result"
    }
   ],
   "source": [
    "part_one_ans = part_one(parsed_input)"
   ]
  },
  {
   "cell_type": "code",
   "execution_count": 12,
   "metadata": {},
   "outputs": [
    {
     "data": {
      "text/plain": [
       "\"<!DOCTYPE html>\\n<html lang=\\\"en-us\\\">\\n<head>\\n<meta charset=\\\"utf-8\\\"/>\\n<title>Day 8 - Advent of Code 2022</title>\\n<!--[if lt IE 9]><script src=\\\"/static/html5.js\\\"></script><![endif]-->\\n<link href='//fonts.googleapis.com/css?family=Source+Code+Pro:300&subset=latin,latin-ext' \" ⋯ 3430 bytes ⋯ \"Name(o)[0];a.async=1;a.src=g;m.parentNode.insertBefore(a,m)\\n})(window,document,'script','//www.google-analytics.com/analytics.js','ga');\\nga('create', 'UA-69522494-1', 'auto');\\nga('set', 'anonymizeIp', true);\\nga('send', 'pageview');\\n</script>\\n<!-- /ga -->\\n</body>\\n</html>\""
      ]
     },
     "execution_count": 12,
     "metadata": {},
     "output_type": "execute_result"
    }
   ],
   "source": [
    "submit_answer(year, day, part_one_ans)"
   ]
  },
  {
   "cell_type": "code",
   "execution_count": 13,
   "metadata": {},
   "outputs": [
    {
     "data": {
      "text/plain": [
       "part_two (generic function with 1 method)"
      ]
     },
     "execution_count": 13,
     "metadata": {},
     "output_type": "execute_result"
    }
   ],
   "source": [
    "function part_two(input)\n",
    "    board = preprocess(input)\n",
    "    n, m = size(board)\n",
    "    score = ones(Int, n, m)\n",
    "\n",
    "    st = Stack{Int}()\n",
    "    for i in 1:n\n",
    "        for j in 1:m\n",
    "            while !isempty(st) && board[i, first(st)] <= board[i, j]\n",
    "                score[i, first(st)] *= j - first(st)\n",
    "                pop!(st)\n",
    "            end\n",
    "            push!(st, j)\n",
    "        end\n",
    "\n",
    "        while !isempty(st)\n",
    "            score[i, first(st)] *= m - first(st)\n",
    "            pop!(st)\n",
    "        end\n",
    "\n",
    "        for j in m:-1:1\n",
    "            while !isempty(st) && board[i, first(st)] <= board[i, j]\n",
    "                score[i, first(st)] *= first(st) - j\n",
    "                pop!(st)\n",
    "            end\n",
    "            push!(st, j)\n",
    "        end\n",
    "\n",
    "        while !isempty(st)\n",
    "            score[i, first(st)] *= first(st) - 1\n",
    "            pop!(st)\n",
    "        end\n",
    "    end\n",
    "\n",
    "    for j in 1:m\n",
    "        for i in 1:n\n",
    "            while !isempty(st) && board[first(st), j] <= board[i, j]\n",
    "                score[first(st), j] *= i - first(st)\n",
    "                pop!(st)\n",
    "            end\n",
    "            push!(st, i)\n",
    "        end\n",
    "\n",
    "        while !isempty(st)\n",
    "            score[first(st), j] *= n - first(st)\n",
    "            pop!(st)\n",
    "        end\n",
    "\n",
    "        for i in n:-1:1\n",
    "            while !isempty(st) && board[first(st), j] <= board[i, j]\n",
    "                score[first(st), j] *= first(st) - i\n",
    "                pop!(st)\n",
    "            end\n",
    "            push!(st, i)\n",
    "        end\n",
    "\n",
    "        while !isempty(st)\n",
    "            score[first(st), j] *= first(st) - 1\n",
    "            pop!(st)\n",
    "        end\n",
    "    end\n",
    "\n",
    "    return maximum(score[2:end-1, 2:end-1])\n",
    "end"
   ]
  },
  {
   "cell_type": "code",
   "execution_count": 14,
   "metadata": {},
   "outputs": [
    {
     "data": {
      "text/plain": [
       "8"
      ]
     },
     "execution_count": 14,
     "metadata": {},
     "output_type": "execute_result"
    }
   ],
   "source": [
    "part_two(parsed_sample)"
   ]
  },
  {
   "cell_type": "code",
   "execution_count": 15,
   "metadata": {},
   "outputs": [
    {
     "data": {
      "text/plain": [
       "410400"
      ]
     },
     "execution_count": 15,
     "metadata": {},
     "output_type": "execute_result"
    }
   ],
   "source": [
    "part_two_ans = part_two(parsed_input)"
   ]
  },
  {
   "cell_type": "code",
   "execution_count": 16,
   "metadata": {},
   "outputs": [
    {
     "data": {
      "text/plain": [
       "\"<!DOCTYPE html>\\n<html lang=\\\"en-us\\\">\\n<head>\\n<meta charset=\\\"utf-8\\\"/>\\n<title>Day 8 - Advent of Code 2022</title>\\n<!--[if lt IE 9]><script src=\\\"/static/html5.js\\\"></script><![endif]-->\\n<link href='//fonts.googleapis.com/css?family=Source+Code+Pro:300&subset=latin,latin-ext' \" ⋯ 3386 bytes ⋯ \"Name(o)[0];a.async=1;a.src=g;m.parentNode.insertBefore(a,m)\\n})(window,document,'script','//www.google-analytics.com/analytics.js','ga');\\nga('create', 'UA-69522494-1', 'auto');\\nga('set', 'anonymizeIp', true);\\nga('send', 'pageview');\\n</script>\\n<!-- /ga -->\\n</body>\\n</html>\""
      ]
     },
     "execution_count": 16,
     "metadata": {},
     "output_type": "execute_result"
    }
   ],
   "source": [
    "submit_answer(year, day, part_two_ans, 2)"
   ]
  }
 ],
 "metadata": {
  "kernelspec": {
   "display_name": "Julia 1.8.0",
   "language": "julia",
   "name": "julia-1.8"
  },
  "language_info": {
   "file_extension": ".jl",
   "mimetype": "application/julia",
   "name": "julia",
   "version": "1.8.3"
  },
  "orig_nbformat": 4,
  "vscode": {
   "interpreter": {
    "hash": "2decbbcdbe1b404b08c0c2ae8935a58886fd60ea7dad56cfc87e2a14f377e9ba"
   }
  }
 },
 "nbformat": 4,
 "nbformat_minor": 2
}
