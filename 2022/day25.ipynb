{
 "cells": [
  {
   "cell_type": "code",
   "execution_count": 1,
   "metadata": {},
   "outputs": [
    {
     "name": "stderr",
     "output_type": "stream",
     "text": [
      "\u001b[32m\u001b[1m  Activating\u001b[22m\u001b[39m project at `~/com.github/lucifer1004/AdventOfCode.jl`\n"
     ]
    }
   ],
   "source": [
    "import Pkg; Pkg.activate(\"..\")"
   ]
  },
  {
   "cell_type": "code",
   "execution_count": 2,
   "metadata": {},
   "outputs": [],
   "source": [
    "using AdventOfCode"
   ]
  },
  {
   "cell_type": "code",
   "execution_count": 3,
   "metadata": {},
   "outputs": [
    {
     "data": {
      "text/plain": [
       "25"
      ]
     },
     "execution_count": 3,
     "metadata": {},
     "output_type": "execute_result"
    }
   ],
   "source": [
    "year = 2022\n",
    "day = 25"
   ]
  },
  {
   "cell_type": "code",
   "execution_count": 4,
   "metadata": {},
   "outputs": [
    {
     "data": {
      "text/plain": [
       "\"1==02\\n1=--0-2==10\\n10221=-0==-2122==\\n1---=02-112\\n1=01=2=2-1=1=1102\\n1=---220==\\n10\\n12===0\\n1=2020200\\n10--\\n102\\n11-0=0-2\\n1=2-=20-1-=-=20-2112\\n1=-22-2202000-=2=0\\n2-0==122=10000002\\n1=-110-=1-02=1\\n10212-102\\n2--202=2=\\n1=-11=\\n210==-1\\n21-1=002211\\n1-=10-010=020\\n1=2-0002-1=\\n22=0200020\" ⋯ 748 bytes ⋯ \"-10--121\\n2-0=2-1100220--0210\\n1-22-2=\\n10011-=\\n10222-2-20101\\n211\\n112\\n1=-\\n100=2=-0=\\n1=1\\n21-221--22--1\\n1--=1101==02100\\n21-11=-102111\\n1022\\n1=1=211=--\\n10=1-----\\n1-1-\\n222-1-1\\n11=2=-22==2---0-\\n1=-=2-==2=\\n2=2122-\\n10-==112-02-22-02-=\\n202=-0\\n2=\\n2=00=2=211\\n2-1-2====1-=-\\n1=1=1211--=\""
      ]
     },
     "execution_count": 4,
     "metadata": {},
     "output_type": "execute_result"
    }
   ],
   "source": [
    "input = get_input(year, day)"
   ]
  },
  {
   "cell_type": "code",
   "execution_count": 5,
   "metadata": {},
   "outputs": [
    {
     "data": {
      "text/plain": [
       "115-element Vector{SubString{String}}:\n",
       " \"1==02\"\n",
       " \"1=--0-2==10\"\n",
       " \"10221=-0==-2122==\"\n",
       " \"1---=02-112\"\n",
       " \"1=01=2=2-1=1=1102\"\n",
       " \"1=---220==\"\n",
       " \"10\"\n",
       " \"12===0\"\n",
       " \"1=2020200\"\n",
       " \"10--\"\n",
       " \"102\"\n",
       " \"11-0=0-2\"\n",
       " \"1=2-=20-1-=-=20-2112\"\n",
       " ⋮\n",
       " \"10=1-----\"\n",
       " \"1-1-\"\n",
       " \"222-1-1\"\n",
       " \"11=2=-22==2---0-\"\n",
       " \"1=-=2-==2=\"\n",
       " \"2=2122-\"\n",
       " \"10-==112-02-22-02-=\"\n",
       " \"202=-0\"\n",
       " \"2=\"\n",
       " \"2=00=2=211\"\n",
       " \"2-1-2====1-=-\"\n",
       " \"1=1=1211--=\""
      ]
     },
     "execution_count": 5,
     "metadata": {},
     "output_type": "execute_result"
    }
   ],
   "source": [
    "parsed_input = parse_input(input)"
   ]
  },
  {
   "cell_type": "code",
   "execution_count": 6,
   "metadata": {},
   "outputs": [
    {
     "data": {
      "text/plain": [
       "\"1=-0-2\\n12111\\n2=0=\\n21\\n2=01\\n111\\n20012\\n112\\n1=-1=\\n1-12\\n12\\n1=\\n122\""
      ]
     },
     "execution_count": 6,
     "metadata": {},
     "output_type": "execute_result"
    }
   ],
   "source": [
    "sample = \"\"\"1=-0-2\n",
    "12111\n",
    "2=0=\n",
    "21\n",
    "2=01\n",
    "111\n",
    "20012\n",
    "112\n",
    "1=-1=\n",
    "1-12\n",
    "12\n",
    "1=\n",
    "122\"\"\""
   ]
  },
  {
   "cell_type": "code",
   "execution_count": 7,
   "metadata": {},
   "outputs": [
    {
     "data": {
      "text/plain": [
       "13-element Vector{SubString{String}}:\n",
       " \"1=-0-2\"\n",
       " \"12111\"\n",
       " \"2=0=\"\n",
       " \"21\"\n",
       " \"2=01\"\n",
       " \"111\"\n",
       " \"20012\"\n",
       " \"112\"\n",
       " \"1=-1=\"\n",
       " \"1-12\"\n",
       " \"12\"\n",
       " \"1=\"\n",
       " \"122\""
      ]
     },
     "execution_count": 7,
     "metadata": {},
     "output_type": "execute_result"
    }
   ],
   "source": [
    "parsed_sample = parse_input(sample)"
   ]
  },
  {
   "cell_type": "code",
   "execution_count": 8,
   "metadata": {},
   "outputs": [
    {
     "data": {
      "text/plain": [
       "Dict{Int64, Char} with 5 entries:\n",
       "  0  => '0'\n",
       "  2  => '2'\n",
       "  -1 => '-'\n",
       "  -2 => '='\n",
       "  1  => '1'"
      ]
     },
     "execution_count": 8,
     "metadata": {},
     "output_type": "execute_result"
    }
   ],
   "source": [
    "MAPPING = Dict('2' => 2, '1' => 1, '0' => 0, '-' => -1, '=' => -2)\n",
    "INV_MAPPING = Dict(2 => '2', 1 => '1', 0 => '0', -1 => '-', -2 => '=')"
   ]
  },
  {
   "cell_type": "code",
   "execution_count": 9,
   "metadata": {},
   "outputs": [
    {
     "data": {
      "text/plain": [
       "part_one (generic function with 1 method)"
      ]
     },
     "execution_count": 9,
     "metadata": {},
     "output_type": "execute_result"
    }
   ],
   "source": [
    "function part_one(input)\n",
    "    req = sum(map(input) do line\n",
    "        n = length(line)\n",
    "        ans = sum(5^(n-i)*MAPPING[line[i]] for i in 1:n)\n",
    "    end)\n",
    "\n",
    "    ans = []\n",
    "    i = 0\n",
    "    s = 1\n",
    "    while 2s < req\n",
    "        i += 1\n",
    "        s += 5^i\n",
    "    end\n",
    "\n",
    "    while i >= 0\n",
    "        s -= 5^i\n",
    "        digit = 5^i\n",
    "        x = floor(Int, (req + 2s) / digit)\n",
    "        push!(ans, INV_MAPPING[x])\n",
    "        req -= x * digit\n",
    "        i -= 1\n",
    "    end\n",
    "\n",
    "    join(ans)\n",
    "end"
   ]
  },
  {
   "cell_type": "code",
   "execution_count": 10,
   "metadata": {},
   "outputs": [
    {
     "data": {
      "text/plain": [
       "\"2=-1=0\""
      ]
     },
     "execution_count": 10,
     "metadata": {},
     "output_type": "execute_result"
    }
   ],
   "source": [
    "part_one(parsed_sample)"
   ]
  },
  {
   "cell_type": "code",
   "execution_count": 11,
   "metadata": {},
   "outputs": [
    {
     "data": {
      "text/plain": [
       "\"2=020-===0-1===2=020\""
      ]
     },
     "execution_count": 11,
     "metadata": {},
     "output_type": "execute_result"
    }
   ],
   "source": [
    "part_one_ans = part_one(parsed_input)"
   ]
  },
  {
   "cell_type": "code",
   "execution_count": 12,
   "metadata": {},
   "outputs": [
    {
     "data": {
      "text/plain": [
       "\"<!DOCTYPE html>\\n<html lang=\\\"en-us\\\">\\n<head>\\n<meta charset=\\\"utf-8\\\"/>\\n<title>Day 25 - Advent of Code 2022</title>\\n<!--[if lt IE 9]><script src=\\\"/static/html5.js\\\"></script><![endif]-->\\n<link href='//fonts.googleapis.com/css?family=Source+Code+Pro:300&subset=latin,latin-ext'\" ⋯ 3317 bytes ⋯ \"Name(o)[0];a.async=1;a.src=g;m.parentNode.insertBefore(a,m)\\n})(window,document,'script','//www.google-analytics.com/analytics.js','ga');\\nga('create', 'UA-69522494-1', 'auto');\\nga('set', 'anonymizeIp', true);\\nga('send', 'pageview');\\n</script>\\n<!-- /ga -->\\n</body>\\n</html>\""
      ]
     },
     "execution_count": 12,
     "metadata": {},
     "output_type": "execute_result"
    }
   ],
   "source": [
    "submit_answer(year, day, part_one_ans)"
   ]
  }
 ],
 "metadata": {
  "kernelspec": {
   "display_name": "Julia 1.8.0",
   "language": "julia",
   "name": "julia-1.8"
  },
  "language_info": {
   "file_extension": ".jl",
   "mimetype": "application/julia",
   "name": "julia",
   "version": "1.8.3"
  },
  "orig_nbformat": 4,
  "vscode": {
   "interpreter": {
    "hash": "2decbbcdbe1b404b08c0c2ae8935a58886fd60ea7dad56cfc87e2a14f377e9ba"
   }
  }
 },
 "nbformat": 4,
 "nbformat_minor": 2
}
