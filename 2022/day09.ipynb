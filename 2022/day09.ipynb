{
 "cells": [
  {
   "cell_type": "code",
   "execution_count": 1,
   "metadata": {},
   "outputs": [
    {
     "name": "stderr",
     "output_type": "stream",
     "text": [
      "\u001b[32m\u001b[1m  Activating\u001b[22m\u001b[39m project at `~/com.github/lucifer1004/AdventOfCode.jl`\n"
     ]
    }
   ],
   "source": [
    "import Pkg; Pkg.activate(\"..\")"
   ]
  },
  {
   "cell_type": "code",
   "execution_count": 2,
   "metadata": {},
   "outputs": [],
   "source": [
    "using AdventOfCode"
   ]
  },
  {
   "cell_type": "code",
   "execution_count": 3,
   "metadata": {},
   "outputs": [
    {
     "data": {
      "text/plain": [
       "9"
      ]
     },
     "execution_count": 3,
     "metadata": {},
     "output_type": "execute_result"
    }
   ],
   "source": [
    "year = 2022\n",
    "day = 9"
   ]
  },
  {
   "cell_type": "code",
   "execution_count": 4,
   "metadata": {},
   "outputs": [
    {
     "data": {
      "text/plain": [
       "\"D 2\\nU 1\\nD 2\\nR 2\\nL 1\\nU 2\\nL 1\\nU 2\\nD 1\\nR 1\\nD 2\\nR 1\\nD 1\\nU 2\\nD 2\\nR 1\\nU 1\\nR 1\\nU 2\\nR 1\\nL 1\\nU 2\\nR 1\\nL 2\\nU 1\\nR 1\\nU 1\\nR 1\\nL 2\\nU 2\\nD 1\\nU 1\\nD 2\\nL 1\\nU 1\\nL 1\\nR 1\\nD 1\\nR 1\\nD 1\\nU 2\\nD 1\\nR 1\\nU 1\\nL 1\\nU 2\\nL 1\\nD 1\\nU 1\\nD 1\\nL 1\\nU 2\\nL 1\\nD 2\\nR 2\\nL 1\\nR 2\\nD 1\\nL 2\\nD 2\\nU 2\\nR 1\\nL 1\\nD 2\\nU 2\\nL 1\\nD 2\\nU \" ⋯ 7842 bytes ⋯ \"\\nR 6\\nD 8\\nR 12\\nL 10\\nR 3\\nU 5\\nL 2\\nD 7\\nL 9\\nD 16\\nL 16\\nU 14\\nL 12\\nR 2\\nL 17\\nR 18\\nD 12\\nR 16\\nD 19\\nU 6\\nD 19\\nU 13\\nR 4\\nD 18\\nL 14\\nU 14\\nD 12\\nR 10\\nL 13\\nD 10\\nU 10\\nD 2\\nU 18\\nL 19\\nR 15\\nD 6\\nL 1\\nD 10\\nR 7\\nD 2\\nR 19\\nD 5\\nU 19\\nL 13\\nU 17\\nL 3\\nR 19\\nU 9\\nL 7\\nD 6\\nR 12\\nL 10\\nR 9\\nD 9\\nU 13\\nR 7\\nL 1\\nU 1\\nD 17\""
      ]
     },
     "execution_count": 4,
     "metadata": {},
     "output_type": "execute_result"
    }
   ],
   "source": [
    "input = get_input(year, day)"
   ]
  },
  {
   "cell_type": "code",
   "execution_count": 5,
   "metadata": {},
   "outputs": [
    {
     "data": {
      "text/plain": [
       "2000-element Vector{SubString{String}}:\n",
       " \"D 2\"\n",
       " \"U 1\"\n",
       " \"D 2\"\n",
       " \"R 2\"\n",
       " \"L 1\"\n",
       " \"U 2\"\n",
       " \"L 1\"\n",
       " \"U 2\"\n",
       " \"D 1\"\n",
       " \"R 1\"\n",
       " \"D 2\"\n",
       " \"R 1\"\n",
       " \"D 1\"\n",
       " ⋮\n",
       " \"U 9\"\n",
       " \"L 7\"\n",
       " \"D 6\"\n",
       " \"R 12\"\n",
       " \"L 10\"\n",
       " \"R 9\"\n",
       " \"D 9\"\n",
       " \"U 13\"\n",
       " \"R 7\"\n",
       " \"L 1\"\n",
       " \"U 1\"\n",
       " \"D 17\""
      ]
     },
     "execution_count": 5,
     "metadata": {},
     "output_type": "execute_result"
    }
   ],
   "source": [
    "parsed_input = parse_input(input)"
   ]
  },
  {
   "cell_type": "code",
   "execution_count": 6,
   "metadata": {},
   "outputs": [
    {
     "data": {
      "text/plain": [
       "\"R 4\\nU 4\\nL 3\\nD 1\\nR 4\\nD 1\\nL 5\\nR 2\""
      ]
     },
     "execution_count": 6,
     "metadata": {},
     "output_type": "execute_result"
    }
   ],
   "source": [
    "sample = \"\"\"R 4\n",
    "U 4\n",
    "L 3\n",
    "D 1\n",
    "R 4\n",
    "D 1\n",
    "L 5\n",
    "R 2\"\"\""
   ]
  },
  {
   "cell_type": "code",
   "execution_count": 7,
   "metadata": {},
   "outputs": [
    {
     "data": {
      "text/plain": [
       "8-element Vector{SubString{String}}:\n",
       " \"R 4\"\n",
       " \"U 4\"\n",
       " \"L 3\"\n",
       " \"D 1\"\n",
       " \"R 4\"\n",
       " \"D 1\"\n",
       " \"L 5\"\n",
       " \"R 2\""
      ]
     },
     "execution_count": 7,
     "metadata": {},
     "output_type": "execute_result"
    }
   ],
   "source": [
    "parsed_sample = parse_input(sample)"
   ]
  },
  {
   "cell_type": "code",
   "execution_count": 8,
   "metadata": {},
   "outputs": [
    {
     "data": {
      "text/plain": [
       "Dict{String, Tuple{Int64, Int64}} with 4 entries:\n",
       "  \"U\" => (0, 1)\n",
       "  \"D\" => (0, -1)\n",
       "  \"L\" => (-1, 0)\n",
       "  \"R\" => (1, 0)"
      ]
     },
     "execution_count": 8,
     "metadata": {},
     "output_type": "execute_result"
    }
   ],
   "source": [
    "d = Dict(\"L\" => (-1, 0), \"R\" => (1, 0), \"U\" => (0, 1), \"D\" => (0, -1))"
   ]
  },
  {
   "cell_type": "code",
   "execution_count": 9,
   "metadata": {},
   "outputs": [
    {
     "data": {
      "text/plain": [
       "solve (generic function with 1 method)"
      ]
     },
     "execution_count": 9,
     "metadata": {},
     "output_type": "execute_result"
    }
   ],
   "source": [
    "function solve(input, rope_length)\n",
    "    vis = Set()\n",
    "    px = zeros(Int, rope_length + 1)\n",
    "    py = zeros(Int, rope_length + 1)\n",
    "    push!(vis, (px[end], py[end]))\n",
    "\n",
    "    for line in input\n",
    "        dir, steps = split(line)\n",
    "        steps = parse(Int, steps)\n",
    "\n",
    "        dx, dy = d[dir]\n",
    "        for i in 1:steps\n",
    "            px[1] += dx\n",
    "            py[1] += dy\n",
    "\n",
    "            for j in 2:rope_length + 1\n",
    "                if max(abs(px[j] - px[j - 1]), abs(py[j] - py[j - 1])) > 1\n",
    "                    px[j] += sign(px[j - 1] - px[j])\n",
    "                    py[j] += sign(py[j - 1] - py[j])\n",
    "                end\n",
    "            end\n",
    "\n",
    "            push!(vis, (px[end], py[end]))\n",
    "        end\n",
    "    end\n",
    "\n",
    "    return length(vis)\n",
    "end"
   ]
  },
  {
   "cell_type": "code",
   "execution_count": 10,
   "metadata": {},
   "outputs": [
    {
     "data": {
      "text/plain": [
       "part_one (generic function with 1 method)"
      ]
     },
     "execution_count": 10,
     "metadata": {},
     "output_type": "execute_result"
    }
   ],
   "source": [
    "part_one(input) = solve(input, 1)"
   ]
  },
  {
   "cell_type": "code",
   "execution_count": 11,
   "metadata": {},
   "outputs": [
    {
     "data": {
      "text/plain": [
       "13"
      ]
     },
     "execution_count": 11,
     "metadata": {},
     "output_type": "execute_result"
    }
   ],
   "source": [
    "part_one(parsed_sample)"
   ]
  },
  {
   "cell_type": "code",
   "execution_count": 12,
   "metadata": {},
   "outputs": [
    {
     "data": {
      "text/plain": [
       "6266"
      ]
     },
     "execution_count": 12,
     "metadata": {},
     "output_type": "execute_result"
    }
   ],
   "source": [
    "part_one_ans = part_one(parsed_input)"
   ]
  },
  {
   "cell_type": "code",
   "execution_count": 13,
   "metadata": {},
   "outputs": [
    {
     "data": {
      "text/plain": [
       "\"<!DOCTYPE html>\\n<html lang=\\\"en-us\\\">\\n<head>\\n<meta charset=\\\"utf-8\\\"/>\\n<title>Day 9 - Advent of Code 2022</title>\\n<!--[if lt IE 9]><script src=\\\"/static/html5.js\\\"></script><![endif]-->\\n<link href='//fonts.googleapis.com/css?family=Source+Code+Pro:300&subset=latin,latin-ext' \" ⋯ 3445 bytes ⋯ \"Name(o)[0];a.async=1;a.src=g;m.parentNode.insertBefore(a,m)\\n})(window,document,'script','//www.google-analytics.com/analytics.js','ga');\\nga('create', 'UA-69522494-1', 'auto');\\nga('set', 'anonymizeIp', true);\\nga('send', 'pageview');\\n</script>\\n<!-- /ga -->\\n</body>\\n</html>\""
      ]
     },
     "execution_count": 13,
     "metadata": {},
     "output_type": "execute_result"
    }
   ],
   "source": [
    "submit_answer(year, day, part_one_ans)"
   ]
  },
  {
   "cell_type": "code",
   "execution_count": 14,
   "metadata": {},
   "outputs": [
    {
     "data": {
      "text/plain": [
       "part_two (generic function with 1 method)"
      ]
     },
     "execution_count": 14,
     "metadata": {},
     "output_type": "execute_result"
    }
   ],
   "source": [
    "part_two(input) = solve(input, 9)"
   ]
  },
  {
   "cell_type": "code",
   "execution_count": 15,
   "metadata": {},
   "outputs": [
    {
     "data": {
      "text/plain": [
       "\"R 5\\nU 8\\nL 8\\nD 3\\nR 17\\nD 10\\nL 25\\nU 20\""
      ]
     },
     "execution_count": 15,
     "metadata": {},
     "output_type": "execute_result"
    }
   ],
   "source": [
    "sample2 = \"\"\"R 5\n",
    "U 8\n",
    "L 8\n",
    "D 3\n",
    "R 17\n",
    "D 10\n",
    "L 25\n",
    "U 20\"\"\""
   ]
  },
  {
   "cell_type": "code",
   "execution_count": 16,
   "metadata": {},
   "outputs": [
    {
     "data": {
      "text/plain": [
       "36"
      ]
     },
     "execution_count": 16,
     "metadata": {},
     "output_type": "execute_result"
    }
   ],
   "source": [
    "part_two(parse_input(sample2))"
   ]
  },
  {
   "cell_type": "code",
   "execution_count": 17,
   "metadata": {},
   "outputs": [
    {
     "data": {
      "text/plain": [
       "2369"
      ]
     },
     "execution_count": 17,
     "metadata": {},
     "output_type": "execute_result"
    }
   ],
   "source": [
    "part_two_ans = part_two(parsed_input)"
   ]
  },
  {
   "cell_type": "code",
   "execution_count": 18,
   "metadata": {},
   "outputs": [
    {
     "data": {
      "text/plain": [
       "\"<!DOCTYPE html>\\n<html lang=\\\"en-us\\\">\\n<head>\\n<meta charset=\\\"utf-8\\\"/>\\n<title>Day 9 - Advent of Code 2022</title>\\n<!--[if lt IE 9]><script src=\\\"/static/html5.js\\\"></script><![endif]-->\\n<link href='//fonts.googleapis.com/css?family=Source+Code+Pro:300&subset=latin,latin-ext' \" ⋯ 3359 bytes ⋯ \"Name(o)[0];a.async=1;a.src=g;m.parentNode.insertBefore(a,m)\\n})(window,document,'script','//www.google-analytics.com/analytics.js','ga');\\nga('create', 'UA-69522494-1', 'auto');\\nga('set', 'anonymizeIp', true);\\nga('send', 'pageview');\\n</script>\\n<!-- /ga -->\\n</body>\\n</html>\""
      ]
     },
     "execution_count": 18,
     "metadata": {},
     "output_type": "execute_result"
    }
   ],
   "source": [
    "submit_answer(year, day, part_two_ans, 2)"
   ]
  }
 ],
 "metadata": {
  "kernelspec": {
   "display_name": "Julia 1.8.0",
   "language": "julia",
   "name": "julia-1.8"
  },
  "language_info": {
   "file_extension": ".jl",
   "mimetype": "application/julia",
   "name": "julia",
   "version": "1.8.3"
  },
  "orig_nbformat": 4,
  "vscode": {
   "interpreter": {
    "hash": "2decbbcdbe1b404b08c0c2ae8935a58886fd60ea7dad56cfc87e2a14f377e9ba"
   }
  }
 },
 "nbformat": 4,
 "nbformat_minor": 2
}
