{
 "cells": [
  {
   "cell_type": "code",
   "execution_count": 1,
   "metadata": {},
   "outputs": [
    {
     "name": "stderr",
     "output_type": "stream",
     "text": [
      "\u001b[32m\u001b[1m  Activating\u001b[22m\u001b[39m project at `~/com.github/lucifer1004/AdventOfCode.jl`\n"
     ]
    }
   ],
   "source": [
    "import Pkg; Pkg.activate(\"..\")"
   ]
  },
  {
   "cell_type": "code",
   "execution_count": 2,
   "metadata": {},
   "outputs": [],
   "source": [
    "using AdventOfCode"
   ]
  },
  {
   "cell_type": "code",
   "execution_count": 3,
   "metadata": {},
   "outputs": [
    {
     "data": {
      "text/plain": [
       "2"
      ]
     },
     "execution_count": 3,
     "metadata": {},
     "output_type": "execute_result"
    }
   ],
   "source": [
    "year = 2022\n",
    "day = 2"
   ]
  },
  {
   "cell_type": "code",
   "execution_count": 4,
   "metadata": {},
   "outputs": [
    {
     "data": {
      "text/plain": [
       "\"A Z\\nC Z\\nA X\\nB Z\\nC X\\nA X\\nA X\\nA Z\\nC Y\\nA X\\nC Z\\nC Y\\nB Z\\nB X\\nA X\\nB X\\nC X\\nC X\\nC Z\\nB Z\\nB Y\\nC X\\nC X\\nC Z\\nC X\\nC X\\nC X\\nA Y\\nB Y\\nC Y\\nC Z\\nB Y\\nB X\\nC Z\\nB Z\\nB Y\\nB Y\\nC Z\\nC X\\nC Y\\nB Z\\nB Z\\nA X\\nA X\\nC Z\\nC X\\nA X\\nB Z\\nC X\\nC X\\nB Z\\nB Z\\nC Z\\nA X\\nA X\\nA Z\\nC Z\\nC Z\\nC Z\\nA X\\nB Z\\nA X\\nB Y\\nC Z\\nC X\\nB Z\\nC X\\nC \" ⋯ 9459 bytes ⋯ \" Z\\nB Z\\nC Y\\nC Z\\nC X\\nC X\\nC Z\\nC X\\nB Z\\nC Y\\nC Z\\nA X\\nC X\\nB X\\nA X\\nB X\\nC X\\nC Z\\nA Z\\nA X\\nA Z\\nA X\\nA X\\nA X\\nA Y\\nA X\\nB Z\\nB Y\\nA X\\nC Z\\nA Z\\nC X\\nC Z\\nA Z\\nA Y\\nC Z\\nB Z\\nB Z\\nB Z\\nC X\\nA X\\nA X\\nC Z\\nC X\\nA X\\nC Z\\nC X\\nA X\\nC Y\\nB Z\\nC Z\\nC X\\nC X\\nC X\\nC Z\\nC X\\nC Y\\nB Y\\nC X\\nB Y\\nB Z\\nC X\\nC Z\\nA X\\nB Z\\nC Z\\nC X\\nA Y\""
      ]
     },
     "execution_count": 4,
     "metadata": {},
     "output_type": "execute_result"
    }
   ],
   "source": [
    "input = get_input(year, day)"
   ]
  },
  {
   "cell_type": "code",
   "execution_count": 5,
   "metadata": {},
   "outputs": [
    {
     "data": {
      "text/plain": [
       "2500-element Vector{SubString{String}}:\n",
       " \"A Z\"\n",
       " \"C Z\"\n",
       " \"A X\"\n",
       " \"B Z\"\n",
       " \"C X\"\n",
       " \"A X\"\n",
       " \"A X\"\n",
       " \"A Z\"\n",
       " \"C Y\"\n",
       " \"A X\"\n",
       " \"C Z\"\n",
       " \"C Y\"\n",
       " \"B Z\"\n",
       " ⋮\n",
       " \"C Y\"\n",
       " \"B Y\"\n",
       " \"C X\"\n",
       " \"B Y\"\n",
       " \"B Z\"\n",
       " \"C X\"\n",
       " \"C Z\"\n",
       " \"A X\"\n",
       " \"B Z\"\n",
       " \"C Z\"\n",
       " \"C X\"\n",
       " \"A Y\""
      ]
     },
     "execution_count": 5,
     "metadata": {},
     "output_type": "execute_result"
    }
   ],
   "source": [
    "parsed_input = parse_input(input)"
   ]
  },
  {
   "cell_type": "code",
   "execution_count": 6,
   "metadata": {},
   "outputs": [
    {
     "data": {
      "text/plain": [
       "\"A Y\\nB X\\nC Z\""
      ]
     },
     "execution_count": 6,
     "metadata": {},
     "output_type": "execute_result"
    }
   ],
   "source": [
    "sample = \"\"\"A Y\n",
    "B X\n",
    "C Z\"\"\""
   ]
  },
  {
   "cell_type": "code",
   "execution_count": 7,
   "metadata": {},
   "outputs": [
    {
     "data": {
      "text/plain": [
       "3-element Vector{SubString{String}}:\n",
       " \"A Y\"\n",
       " \"B X\"\n",
       " \"C Z\""
      ]
     },
     "execution_count": 7,
     "metadata": {},
     "output_type": "execute_result"
    }
   ],
   "source": [
    "parsed_sample = parse_input(sample)"
   ]
  },
  {
   "cell_type": "code",
   "execution_count": 8,
   "metadata": {},
   "outputs": [
    {
     "data": {
      "text/plain": [
       "part_one (generic function with 1 method)"
      ]
     },
     "execution_count": 8,
     "metadata": {},
     "output_type": "execute_result"
    }
   ],
   "source": [
    "function part_one(input)\n",
    "\tpoints = 0\n",
    "    for line in input\n",
    "        a = line[1] - 'A'\n",
    "        b = line[3] - 'X'\n",
    "        points += b + 1\n",
    "        if a == b\n",
    "            points += 3\n",
    "        elseif b % 3 == (a + 1) % 3 \n",
    "            points += 6\n",
    "        end\n",
    "    end\n",
    "    points\n",
    "end"
   ]
  },
  {
   "cell_type": "code",
   "execution_count": 9,
   "metadata": {},
   "outputs": [
    {
     "data": {
      "text/plain": [
       "15"
      ]
     },
     "execution_count": 9,
     "metadata": {},
     "output_type": "execute_result"
    }
   ],
   "source": [
    "part_one(parsed_sample)"
   ]
  },
  {
   "cell_type": "code",
   "execution_count": 10,
   "metadata": {},
   "outputs": [
    {
     "data": {
      "text/plain": [
       "13924"
      ]
     },
     "execution_count": 10,
     "metadata": {},
     "output_type": "execute_result"
    }
   ],
   "source": [
    "part_one_ans = part_one(parsed_input)"
   ]
  },
  {
   "cell_type": "code",
   "execution_count": 11,
   "metadata": {},
   "outputs": [
    {
     "data": {
      "text/plain": [
       "\"<!DOCTYPE html>\\n<html lang=\\\"en-us\\\">\\n<head>\\n<meta charset=\\\"utf-8\\\"/>\\n<title>Day 2 - Advent of Code 2022</title>\\n<!--[if lt IE 9]><script src=\\\"/static/html5.js\\\"></script><![endif]-->\\n<link href='//fonts.googleapis.com/css?family=Source+Code+Pro:300&subset=latin,latin-ext' \" ⋯ 3418 bytes ⋯ \"Name(o)[0];a.async=1;a.src=g;m.parentNode.insertBefore(a,m)\\n})(window,document,'script','//www.google-analytics.com/analytics.js','ga');\\nga('create', 'UA-69522494-1', 'auto');\\nga('set', 'anonymizeIp', true);\\nga('send', 'pageview');\\n</script>\\n<!-- /ga -->\\n</body>\\n</html>\""
      ]
     },
     "execution_count": 11,
     "metadata": {},
     "output_type": "execute_result"
    }
   ],
   "source": [
    "submit_answer(year, day, part_one_ans)"
   ]
  },
  {
   "cell_type": "code",
   "execution_count": 12,
   "metadata": {},
   "outputs": [
    {
     "data": {
      "text/plain": [
       "part_two (generic function with 1 method)"
      ]
     },
     "execution_count": 12,
     "metadata": {},
     "output_type": "execute_result"
    }
   ],
   "source": [
    "function part_two(input)\n",
    "    points = 0\n",
    "    for line in input\n",
    "        a = line[1] - 'A'\n",
    "        b = line[3] - 'X'\n",
    "        points += b * 3\n",
    "        if b == 0\n",
    "            y = (a + 2) % 3\n",
    "        elseif b == 1\n",
    "            y = a\n",
    "        elseif b == 2\n",
    "            y = (a + 1) % 3\n",
    "        end\n",
    "        points += y + 1\n",
    "    end\n",
    "    points\n",
    "end"
   ]
  },
  {
   "cell_type": "code",
   "execution_count": 13,
   "metadata": {},
   "outputs": [
    {
     "data": {
      "text/plain": [
       "12"
      ]
     },
     "execution_count": 13,
     "metadata": {},
     "output_type": "execute_result"
    }
   ],
   "source": [
    "part_two(parsed_sample)"
   ]
  },
  {
   "cell_type": "code",
   "execution_count": 14,
   "metadata": {},
   "outputs": [
    {
     "data": {
      "text/plain": [
       "13448"
      ]
     },
     "execution_count": 14,
     "metadata": {},
     "output_type": "execute_result"
    }
   ],
   "source": [
    "part_two_ans = part_two(parsed_input)"
   ]
  },
  {
   "cell_type": "code",
   "execution_count": 15,
   "metadata": {},
   "outputs": [
    {
     "data": {
      "text/plain": [
       "\"<!DOCTYPE html>\\n<html lang=\\\"en-us\\\">\\n<head>\\n<meta charset=\\\"utf-8\\\"/>\\n<title>Day 2 - Advent of Code 2022</title>\\n<!--[if lt IE 9]><script src=\\\"/static/html5.js\\\"></script><![endif]-->\\n<link href='//fonts.googleapis.com/css?family=Source+Code+Pro:300&subset=latin,latin-ext' \" ⋯ 3448 bytes ⋯ \"Name(o)[0];a.async=1;a.src=g;m.parentNode.insertBefore(a,m)\\n})(window,document,'script','//www.google-analytics.com/analytics.js','ga');\\nga('create', 'UA-69522494-1', 'auto');\\nga('set', 'anonymizeIp', true);\\nga('send', 'pageview');\\n</script>\\n<!-- /ga -->\\n</body>\\n</html>\""
      ]
     },
     "execution_count": 15,
     "metadata": {},
     "output_type": "execute_result"
    }
   ],
   "source": [
    "submit_answer(year, day, part_two_ans, 2)"
   ]
  }
 ],
 "metadata": {
  "kernelspec": {
   "display_name": "Julia 1.8.0",
   "language": "julia",
   "name": "julia-1.8"
  },
  "language_info": {
   "file_extension": ".jl",
   "mimetype": "application/julia",
   "name": "julia",
   "version": "1.8.3"
  },
  "orig_nbformat": 4,
  "vscode": {
   "interpreter": {
    "hash": "2decbbcdbe1b404b08c0c2ae8935a58886fd60ea7dad56cfc87e2a14f377e9ba"
   }
  }
 },
 "nbformat": 4,
 "nbformat_minor": 2
}
