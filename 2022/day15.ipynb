{
 "cells": [
  {
   "cell_type": "code",
   "execution_count": 1,
   "metadata": {},
   "outputs": [
    {
     "name": "stderr",
     "output_type": "stream",
     "text": [
      "\u001b[32m\u001b[1m  Activating\u001b[22m\u001b[39m project at `~/com.github/lucifer1004/AdventOfCode.jl`\n"
     ]
    }
   ],
   "source": [
    "import Pkg; Pkg.activate(\"..\")"
   ]
  },
  {
   "cell_type": "code",
   "execution_count": 2,
   "metadata": {},
   "outputs": [],
   "source": [
    "using AdventOfCode"
   ]
  },
  {
   "cell_type": "code",
   "execution_count": 3,
   "metadata": {},
   "outputs": [
    {
     "data": {
      "text/plain": [
       "15"
      ]
     },
     "execution_count": 3,
     "metadata": {},
     "output_type": "execute_result"
    }
   ],
   "source": [
    "year = 2022\n",
    "day = 15"
   ]
  },
  {
   "cell_type": "code",
   "execution_count": 4,
   "metadata": {},
   "outputs": [
    {
     "data": {
      "text/plain": [
       "\"Sensor at x=3556832, y=3209801: closest beacon is at x=3520475, y=3164417\\nSensor at x=3068970, y=3071952: closest beacon is at x=3520475, y=3164417\\nSensor at x=636397, y=1899889: closest beacon is at x=338784, y=1935796\\nSensor at x=3856769, y=3377079: closest beacon is \" ⋯ 2237 bytes ⋯ \", y=2130146: closest beacon is at x=2595700, y=2684432\\nSensor at x=3655670, y=100751: closest beacon is at x=3778277, y=740547\\nSensor at x=535656, y=2133259: closest beacon is at x=338784, y=1935796\\nSensor at x=263229, y=2101270: closest beacon is at x=338784, y=1935796\""
      ]
     },
     "execution_count": 4,
     "metadata": {},
     "output_type": "execute_result"
    }
   ],
   "source": [
    "input = get_input(year, day)"
   ]
  },
  {
   "cell_type": "code",
   "execution_count": 5,
   "metadata": {},
   "outputs": [
    {
     "data": {
      "text/plain": [
       "38-element Vector{SubString{String}}:\n",
       " \"Sensor at x=3556832, y=3209801: closest beacon is at x=3520475, y=3164417\"\n",
       " \"Sensor at x=3068970, y=3071952: closest beacon is at x=3520475, y=3164417\"\n",
       " \"Sensor at x=636397, y=1899889: closest beacon is at x=338784, y=1935796\"\n",
       " \"Sensor at x=3856769, y=3377079: closest beacon is at x=3520475, y=3164417\"\n",
       " \"Sensor at x=2876227, y=2633203: closest beacon is at x=2595700, y=2684432\"\n",
       " \"Sensor at x=1435445, y=1194830: closest beacon is at x=925348, y=2000000\"\n",
       " \"Sensor at x=3764673, y=3881970: closest beacon is at x=3520475, y=3164417\"\n",
       " \"Sensor at x=3171272, y=1098717: closest beacon is at x=3778277, y=740547\"\n",
       " \"Sensor at x=3646837, y=966534: closest beacon is at x=3778277, y=740547\"\n",
       " \"Sensor at x=1736390, y=3309102: closest beacon is at x=1623417, y=4114070\"\n",
       " \"Sensor at x=1086601, y=2272573: closest beacon is at x=925348, y=2000000\"\n",
       " \"Sensor at x=3793954, y=2346914: closest beacon is at x=3520475, y=3164417\"\n",
       " \"Sensor at x=1896054, y=2706210: closest beacon is at x=2595700, y=2684432\"\n",
       " ⋮\n",
       " \"Sensor at x=1166660, y=2766482: closest beacon is at x=925348, y=2000000\"\n",
       " \"Sensor at x=3744391, y=440575: closest beacon is at x=3778277, y=740547\"\n",
       " \"Sensor at x=1480453, y=3997346: closest beacon is at x=1623417, y=4114070\"\n",
       " \"Sensor at x=9770, y=1844797: closest beacon is at x=338784, y=1935796\"\n",
       " \"Sensor at x=202829, y=2427690: closest beacon is at x=338784, y=1935796\"\n",
       " \"Sensor at x=3051096, y=3631595: closest beacon is at x=3147080, y=4258152\"\n",
       " \"Sensor at x=2111052, y=297293: closest beacon is at x=1552534, y=-431081\"\n",
       " \"Sensor at x=864326, y=2053355: closest beacon is at x=925348, y=2000000\"\n",
       " \"Sensor at x=2422495, y=2130146: closest beacon is at x=2595700, y=2684432\"\n",
       " \"Sensor at x=3655670, y=100751: closest beacon is at x=3778277, y=740547\"\n",
       " \"Sensor at x=535656, y=2133259: closest beacon is at x=338784, y=1935796\"\n",
       " \"Sensor at x=263229, y=2101270: closest beacon is at x=338784, y=1935796\""
      ]
     },
     "execution_count": 5,
     "metadata": {},
     "output_type": "execute_result"
    }
   ],
   "source": [
    "parsed_input = parse_input(input)"
   ]
  },
  {
   "cell_type": "code",
   "execution_count": 6,
   "metadata": {},
   "outputs": [
    {
     "data": {
      "text/plain": [
       "\"Sensor at x=2, y=18: closest beacon is at x=-2, y=15\\nSensor at x=9, y=16: closest beacon is at x=10, y=16\\nSensor at x=13, y=2: closest beacon is at x=15, y=3\\nSensor at x=12, y=14: closest beacon is at x=10, y=16\\nSensor at x=10, y=20: closest beacon is at x=10, y=16\\nSenso\" ⋯ 196 bytes ⋯ \", y=10\\nSensor at x=20, y=14: closest beacon is at x=25, y=17\\nSensor at x=17, y=20: closest beacon is at x=21, y=22\\nSensor at x=16, y=7: closest beacon is at x=15, y=3\\nSensor at x=14, y=3: closest beacon is at x=15, y=3\\nSensor at x=20, y=1: closest beacon is at x=15, y=3\""
      ]
     },
     "execution_count": 6,
     "metadata": {},
     "output_type": "execute_result"
    }
   ],
   "source": [
    "sample = \"\"\"Sensor at x=2, y=18: closest beacon is at x=-2, y=15\n",
    "Sensor at x=9, y=16: closest beacon is at x=10, y=16\n",
    "Sensor at x=13, y=2: closest beacon is at x=15, y=3\n",
    "Sensor at x=12, y=14: closest beacon is at x=10, y=16\n",
    "Sensor at x=10, y=20: closest beacon is at x=10, y=16\n",
    "Sensor at x=14, y=17: closest beacon is at x=10, y=16\n",
    "Sensor at x=8, y=7: closest beacon is at x=2, y=10\n",
    "Sensor at x=2, y=0: closest beacon is at x=2, y=10\n",
    "Sensor at x=0, y=11: closest beacon is at x=2, y=10\n",
    "Sensor at x=20, y=14: closest beacon is at x=25, y=17\n",
    "Sensor at x=17, y=20: closest beacon is at x=21, y=22\n",
    "Sensor at x=16, y=7: closest beacon is at x=15, y=3\n",
    "Sensor at x=14, y=3: closest beacon is at x=15, y=3\n",
    "Sensor at x=20, y=1: closest beacon is at x=15, y=3\"\"\""
   ]
  },
  {
   "cell_type": "code",
   "execution_count": 7,
   "metadata": {},
   "outputs": [
    {
     "data": {
      "text/plain": [
       "14-element Vector{SubString{String}}:\n",
       " \"Sensor at x=2, y=18: closest beacon is at x=-2, y=15\"\n",
       " \"Sensor at x=9, y=16: closest beacon is at x=10, y=16\"\n",
       " \"Sensor at x=13, y=2: closest beacon is at x=15, y=3\"\n",
       " \"Sensor at x=12, y=14: closest beacon is at x=10, y=16\"\n",
       " \"Sensor at x=10, y=20: closest beacon is at x=10, y=16\"\n",
       " \"Sensor at x=14, y=17: closest beacon is at x=10, y=16\"\n",
       " \"Sensor at x=8, y=7: closest beacon is at x=2, y=10\"\n",
       " \"Sensor at x=2, y=0: closest beacon is at x=2, y=10\"\n",
       " \"Sensor at x=0, y=11: closest beacon is at x=2, y=10\"\n",
       " \"Sensor at x=20, y=14: closest beacon is at x=25, y=17\"\n",
       " \"Sensor at x=17, y=20: closest beacon is at x=21, y=22\"\n",
       " \"Sensor at x=16, y=7: closest beacon is at x=15, y=3\"\n",
       " \"Sensor at x=14, y=3: closest beacon is at x=15, y=3\"\n",
       " \"Sensor at x=20, y=1: closest beacon is at x=15, y=3\""
      ]
     },
     "execution_count": 7,
     "metadata": {},
     "output_type": "execute_result"
    }
   ],
   "source": [
    "parsed_sample = parse_input(sample)"
   ]
  },
  {
   "cell_type": "code",
   "execution_count": 8,
   "metadata": {},
   "outputs": [
    {
     "data": {
      "text/plain": [
       "preprocess (generic function with 1 method)"
      ]
     },
     "execution_count": 8,
     "metadata": {},
     "output_type": "execute_result"
    }
   ],
   "source": [
    "function preprocess(input)\n",
    "    map(input) do line\n",
    "        parse.(Int, match(r\"Sensor at x=(-?\\d+), y=(-?\\d+): closest beacon is at x=(-?\\d+), y=(-?\\d+)\", line).captures)\n",
    "    end\n",
    "end"
   ]
  },
  {
   "cell_type": "code",
   "execution_count": 9,
   "metadata": {},
   "outputs": [
    {
     "data": {
      "text/plain": [
       "part_one (generic function with 1 method)"
      ]
     },
     "execution_count": 9,
     "metadata": {},
     "output_type": "execute_result"
    }
   ],
   "source": [
    "X = 10000000\n",
    "\n",
    "function part_one(input, Y)\n",
    "    sensors = preprocess(input)\n",
    "    banned = Set{Int}()\n",
    "    diff = OffsetArray(zeros(Int, 0:2X), -X:X)\n",
    "    for (x, y, bx, by) in sensors\n",
    "        if by == Y\n",
    "            push!(banned, bx)\n",
    "        end\n",
    "        dis = abs(x - bx) + abs(y - by)\n",
    "        dy = abs(y - Y)\n",
    "        if dy <= dis\n",
    "            dx = dis - dy\n",
    "            l = x - dx\n",
    "            r = x + dx\n",
    "            diff[l] += 1\n",
    "            diff[r + 1] -= 1\n",
    "        end\n",
    "    end\n",
    "\n",
    "    acc = 0\n",
    "    safe = 0\n",
    "    for x in -X:X\n",
    "        acc += diff[x]\n",
    "        if acc > 0 && x ∉ banned\n",
    "            safe += 1\n",
    "        end\n",
    "    end\n",
    "\n",
    "    return safe\n",
    "end"
   ]
  },
  {
   "cell_type": "code",
   "execution_count": 10,
   "metadata": {},
   "outputs": [
    {
     "data": {
      "text/plain": [
       "26"
      ]
     },
     "execution_count": 10,
     "metadata": {},
     "output_type": "execute_result"
    }
   ],
   "source": [
    "part_one(parsed_sample, 10)"
   ]
  },
  {
   "cell_type": "code",
   "execution_count": 11,
   "metadata": {},
   "outputs": [
    {
     "data": {
      "text/plain": [
       "4793062"
      ]
     },
     "execution_count": 11,
     "metadata": {},
     "output_type": "execute_result"
    }
   ],
   "source": [
    "part_one_ans = part_one(parsed_input, 2000000)"
   ]
  },
  {
   "cell_type": "code",
   "execution_count": 12,
   "metadata": {},
   "outputs": [
    {
     "data": {
      "text/plain": [
       "\"<!DOCTYPE html>\\n<html lang=\\\"en-us\\\">\\n<head>\\n<meta charset=\\\"utf-8\\\"/>\\n<title>Day 15 - Advent of Code 2022</title>\\n<!--[if lt IE 9]><script src=\\\"/static/html5.js\\\"></script><![endif]-->\\n<link href='//fonts.googleapis.com/css?family=Source+Code+Pro:300&subset=latin,latin-ext'\" ⋯ 3331 bytes ⋯ \"Name(o)[0];a.async=1;a.src=g;m.parentNode.insertBefore(a,m)\\n})(window,document,'script','//www.google-analytics.com/analytics.js','ga');\\nga('create', 'UA-69522494-1', 'auto');\\nga('set', 'anonymizeIp', true);\\nga('send', 'pageview');\\n</script>\\n<!-- /ga -->\\n</body>\\n</html>\""
      ]
     },
     "execution_count": 12,
     "metadata": {},
     "output_type": "execute_result"
    }
   ],
   "source": [
    "submit_answer(year, day, part_one_ans)"
   ]
  },
  {
   "cell_type": "code",
   "execution_count": 13,
   "metadata": {},
   "outputs": [
    {
     "data": {
      "text/plain": [
       "part_two (generic function with 1 method)"
      ]
     },
     "execution_count": 13,
     "metadata": {},
     "output_type": "execute_result"
    }
   ],
   "source": [
    "X = 4000000\n",
    "\n",
    "function merge(segs)\n",
    "    sort!(segs)\n",
    "    results = []\n",
    "    l0 = 0\n",
    "    r0 = -1\n",
    "    for (l, r) in segs\n",
    "        if l > r0 + 1\n",
    "            if r0 >= 0\n",
    "                push!(results, (l0, r0))\n",
    "            end\n",
    "            l0 = l\n",
    "            r0 = r\n",
    "        else\n",
    "            r0 = max(r0, r)\n",
    "        end\n",
    "    end\n",
    "\n",
    "    if r0 >= 0\n",
    "        push!(results, (l0, r0))\n",
    "    end\n",
    "\n",
    "    if results[1][1] != 0\n",
    "        return 0\n",
    "    elseif results[end][end] != X\n",
    "        return X\n",
    "    elseif length(results) >= 2\n",
    "        return results[1][end] + 1\n",
    "    else\n",
    "        return -1\n",
    "    end\n",
    "end\n",
    "\n",
    "function part_two(input)\n",
    "    sensors = preprocess(input)\n",
    "    segs = Tuple{Int, Int}[]\n",
    "    for y0 in 0:X\n",
    "        empty!(segs)\n",
    "        for (x, y, bx, by) in sensors\n",
    "            dis = abs(x - bx) + abs(y - by)\n",
    "            dy = abs(y - y0)\n",
    "            if dy <= dis\n",
    "                dx = dis - dy\n",
    "                l = max(0, x - dx)\n",
    "                r = min(x + dx, X)\n",
    "                if l <= r\n",
    "                    push!(segs, (l, r))\n",
    "                end\n",
    "            end\n",
    "        end\n",
    "        vac = merge(segs)\n",
    "        if vac != -1\n",
    "            return vac * X + y0\n",
    "        end\n",
    "    end\n",
    "end"
   ]
  },
  {
   "cell_type": "code",
   "execution_count": 14,
   "metadata": {},
   "outputs": [
    {
     "data": {
      "text/plain": [
       "10826395253551"
      ]
     },
     "execution_count": 14,
     "metadata": {},
     "output_type": "execute_result"
    }
   ],
   "source": [
    "part_two_ans = part_two(parsed_input)"
   ]
  },
  {
   "cell_type": "code",
   "execution_count": 15,
   "metadata": {},
   "outputs": [
    {
     "data": {
      "text/plain": [
       "\"<!DOCTYPE html>\\n<html lang=\\\"en-us\\\">\\n<head>\\n<meta charset=\\\"utf-8\\\"/>\\n<title>Day 15 - Advent of Code 2022</title>\\n<!--[if lt IE 9]><script src=\\\"/static/html5.js\\\"></script><![endif]-->\\n<link href='//fonts.googleapis.com/css?family=Source+Code+Pro:300&subset=latin,latin-ext'\" ⋯ 3373 bytes ⋯ \"Name(o)[0];a.async=1;a.src=g;m.parentNode.insertBefore(a,m)\\n})(window,document,'script','//www.google-analytics.com/analytics.js','ga');\\nga('create', 'UA-69522494-1', 'auto');\\nga('set', 'anonymizeIp', true);\\nga('send', 'pageview');\\n</script>\\n<!-- /ga -->\\n</body>\\n</html>\""
      ]
     },
     "execution_count": 15,
     "metadata": {},
     "output_type": "execute_result"
    }
   ],
   "source": [
    "submit_answer(year, day, part_two_ans, 2)"
   ]
  }
 ],
 "metadata": {
  "kernelspec": {
   "display_name": "Julia 1.8.0",
   "language": "julia",
   "name": "julia-1.8"
  },
  "language_info": {
   "file_extension": ".jl",
   "mimetype": "application/julia",
   "name": "julia",
   "version": "1.8.3"
  },
  "orig_nbformat": 4,
  "vscode": {
   "interpreter": {
    "hash": "2decbbcdbe1b404b08c0c2ae8935a58886fd60ea7dad56cfc87e2a14f377e9ba"
   }
  }
 },
 "nbformat": 4,
 "nbformat_minor": 2
}
