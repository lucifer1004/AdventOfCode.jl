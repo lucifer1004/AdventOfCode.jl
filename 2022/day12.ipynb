{
 "cells": [
  {
   "cell_type": "code",
   "execution_count": 1,
   "metadata": {},
   "outputs": [
    {
     "name": "stderr",
     "output_type": "stream",
     "text": [
      "\u001b[32m\u001b[1m  Activating\u001b[22m\u001b[39m project at `~/com.github/lucifer1004/AdventOfCode.jl`\n"
     ]
    }
   ],
   "source": [
    "import Pkg; Pkg.activate(\"..\")"
   ]
  },
  {
   "cell_type": "code",
   "execution_count": 2,
   "metadata": {},
   "outputs": [],
   "source": [
    "using AdventOfCode"
   ]
  },
  {
   "cell_type": "code",
   "execution_count": 3,
   "metadata": {},
   "outputs": [
    {
     "data": {
      "text/plain": [
       "12"
      ]
     },
     "metadata": {},
     "output_type": "display_data"
    }
   ],
   "source": [
    "year = 2022\n",
    "day = 12"
   ]
  },
  {
   "cell_type": "code",
   "execution_count": 4,
   "metadata": {},
   "outputs": [
    {
     "data": {
      "text/plain": [
       "\"abcccccccccccccccccaaccccccccccccaaaaaaaacccccccccccaaaaaccccaaaaaaccaaaaaaaaaaaaaaaaaccccccccccccccccaaacccccaaaaaaaacccaaaccccccccccccccccccccccccccccccccccccccccccccccccccaaaaa\\nabccccccccccccccccaaacaacccccccccccaaaacccccccccccccaaaaaacccaaaaaaccaaaaaaaaaaaaaaaaaaaac\" ⋯ 6839 bytes ⋯ \"cccccccccccccccccaaaaaaccaaaccccccccccccaaaaaacaaacaaaaaacccccccccaaaccccccccccccccccaaaaa\\nabccccccccccccccccccccccccccccccccaaaaaaaacccccccccccccccccccccaaaaaaaacaaaaaaaaaaaaacccccccccccccccccccccaaaaaacccccccccccccccaaaaaaaaaaaaaaaaaacccccccccccccccccccccccccccccaaaaa\""
      ]
     },
     "metadata": {},
     "output_type": "display_data"
    }
   ],
   "source": [
    "input = get_input(year, day)"
   ]
  },
  {
   "cell_type": "code",
   "execution_count": 5,
   "metadata": {},
   "outputs": [
    {
     "data": {
      "text/plain": [
       "41-element Vector{SubString{String}}:\n",
       " \"abcccccccccccccccccaacccccccccc\" ⋯ 118 bytes ⋯ \"cccccccccccccccccccccccccaaaaa\"\n",
       " \"abccccccccccccccccaaacaaccccccc\" ⋯ 118 bytes ⋯ \"ccccccccccccccccccccccccaaaaaa\"\n",
       " \"abcccccccccccccccccaaaaaccccccc\" ⋯ 118 bytes ⋯ \"ccccccccccaaacccccccccccaaaaaa\"\n",
       " \"abcccccccccccccccaaaaaacccccccc\" ⋯ 118 bytes ⋯ \"ccccccccccaaaccccccccccccccaaa\"\n",
       " \"abcccccccccccccccaaaaaaaacccccc\" ⋯ 118 bytes ⋯ \"ccccccccccaaaccccccccccccccaaa\"\n",
       " \"abcccccccccccccccaacaaaaacccccc\" ⋯ 118 bytes ⋯ \"cccccccccccdccccccccccccccccaa\"\n",
       " \"abccaacccccccaaacccaaacaccccccc\" ⋯ 118 bytes ⋯ \"ccllllllcccdddddcccccccccccccc\"\n",
       " \"abaaaacccacccaaccccaacccccccccc\" ⋯ 118 bytes ⋯ \"cllllllllldddddddddddccaaccccc\"\n",
       " \"abaaaaccaaaaaaaaccccccccccccccc\" ⋯ 118 bytes ⋯ \"clllllllllldddddddddeeaaaccccc\"\n",
       " \"abaaaccccaaaaaaaaccccccccaaaccc\" ⋯ 118 bytes ⋯ \"kllppppplllmmmmmmmdeeeeaaccccc\"\n",
       " ⋮\n",
       " \"abccccccaaacccccccaaaaaccccaaac\" ⋯ 118 bytes ⋯ \"iiqqppppppphhhggggggggaaaacccc\"\n",
       " \"abccccccccccccccccaaaaacccccccc\" ⋯ 118 bytes ⋯ \"iiippppppphhhhggggggcaaacccccc\"\n",
       " \"abaacccccccccccccaaaaaccccccccc\" ⋯ 118 bytes ⋯ \"ciiiippphhhhhhcccccccaaacccccc\"\n",
       " \"abaacccccccccccccccaaaccccccccc\" ⋯ 118 bytes ⋯ \"ciiihhhhhhhhaaaccccccccccccccc\"\n",
       " \"abaaccccccccccccccccccccccccccc\" ⋯ 118 bytes ⋯ \"cciihhhhhhcaaaacccccccccccccca\"\n",
       " \"abaaccccccccccccccccccccccccccc\" ⋯ 118 bytes ⋯ \"ccccchhhaccccaacccccccccccccca\"\n",
       " \"abaaccccccccccccccccccccccccccc\" ⋯ 118 bytes ⋯ \"ccccccaaacccccccccccccccaaaaaa\"\n",
       " \"abccccccccccccccccccccccccccccc\" ⋯ 118 bytes ⋯ \"ccccccaaaccccccccccccccccaaaaa\"\n",
       " \"abccccccccccccccccccccccccccccc\" ⋯ 118 bytes ⋯ \"cccccccccccccccccccccccccaaaaa\""
      ]
     },
     "metadata": {},
     "output_type": "display_data"
    }
   ],
   "source": [
    "parsed_input = parse_input(input)"
   ]
  },
  {
   "cell_type": "code",
   "execution_count": 6,
   "metadata": {},
   "outputs": [
    {
     "data": {
      "text/plain": [
       "\"Sabqponm\\nabcryxxl\\naccszExk\\nacctuvwj\\nabdefghi\""
      ]
     },
     "metadata": {},
     "output_type": "display_data"
    }
   ],
   "source": [
    "sample = \"\"\"Sabqponm\n",
    "abcryxxl\n",
    "accszExk\n",
    "acctuvwj\n",
    "abdefghi\"\"\""
   ]
  },
  {
   "cell_type": "code",
   "execution_count": 7,
   "metadata": {},
   "outputs": [
    {
     "data": {
      "text/plain": [
       "5-element Vector{SubString{String}}:\n",
       " \"Sabqponm\"\n",
       " \"abcryxxl\"\n",
       " \"accszExk\"\n",
       " \"acctuvwj\"\n",
       " \"abdefghi\""
      ]
     },
     "metadata": {},
     "output_type": "display_data"
    }
   ],
   "source": [
    "parsed_sample = parse_input(sample)"
   ]
  },
  {
   "cell_type": "code",
   "execution_count": 8,
   "metadata": {},
   "outputs": [
    {
     "data": {
      "text/plain": [
       "isvalid (generic function with 1 method)"
      ]
     },
     "metadata": {},
     "output_type": "display_data"
    }
   ],
   "source": [
    "function isvalid(a, b)\n",
    "    return b <= a + 1\n",
    "end"
   ]
  },
  {
   "cell_type": "code",
   "execution_count": 9,
   "metadata": {},
   "outputs": [
    {
     "data": {
      "text/plain": [
       "part_one (generic function with 1 method)"
      ]
     },
     "metadata": {},
     "output_type": "display_data"
    }
   ],
   "source": [
    "function part_one(input)\n",
    "    input = map(collect, input)\n",
    "    n = length(input)\n",
    "    m = length(input[1])\n",
    "    si, sj = 1, 1\n",
    "    ei, ej = 1, 1\n",
    "    for i in 1:n\n",
    "        for j in 1:m\n",
    "            if input[i][j] == 'S'\n",
    "                si, sj = i, j\n",
    "                input[i][j] = 'a'\n",
    "            elseif input[i][j] == 'E'\n",
    "                ei, ej = i, j\n",
    "                input[i][j] = 'z'\n",
    "            end\n",
    "        end\n",
    "    end\n",
    "\n",
    "    q = Queue{Tuple{Int, Int, Int}}()\n",
    "    enqueue!(q, (si, sj, 0))\n",
    "    visited = Set()\n",
    "    push!(visited, (si, sj))\n",
    "    while !isempty(q)\n",
    "        i, j, d = dequeue!(q)\n",
    "        if (i, j) == (ei, ej)\n",
    "            return d\n",
    "        end\n",
    "        now = input[i][j]\n",
    "        for (di, dj) in [(0, 1), (0, -1), (1, 0), (-1, 0)]\n",
    "            ni, nj = i + di, j + dj\n",
    "            if 1 <= ni <= n && 1 <= nj <= m\n",
    "                nxt = input[ni][nj]\n",
    "                if isvalid(now, nxt) && (ni, nj) ∉ visited\n",
    "                    enqueue!(q, (ni, nj, d + 1))\n",
    "                    push!(visited, (ni, nj))\n",
    "                end\n",
    "            end\n",
    "        end\n",
    "    end\n",
    "\n",
    "    return -1\n",
    "end"
   ]
  },
  {
   "cell_type": "code",
   "execution_count": 10,
   "metadata": {},
   "outputs": [
    {
     "data": {
      "text/plain": [
       "31"
      ]
     },
     "metadata": {},
     "output_type": "display_data"
    }
   ],
   "source": [
    "part_one(parsed_sample)"
   ]
  },
  {
   "cell_type": "code",
   "execution_count": 11,
   "metadata": {},
   "outputs": [
    {
     "data": {
      "text/plain": [
       "484"
      ]
     },
     "metadata": {},
     "output_type": "display_data"
    }
   ],
   "source": [
    "part_one_ans = part_one(parsed_input)"
   ]
  },
  {
   "cell_type": "code",
   "execution_count": 12,
   "metadata": {},
   "outputs": [
    {
     "data": {
      "text/plain": [
       "\"<!DOCTYPE html>\\n<html lang=\\\"en-us\\\">\\n<head>\\n<meta charset=\\\"utf-8\\\"/>\\n<title>Day 12 - Advent of Code 2022</title>\\n<!--[if lt IE 9]><script src=\\\"/static/html5.js\\\"></script><![endif]-->\\n<link href='//fonts.googleapis.com/css?family=Source+Code+Pro:300&subset=latin,latin-ext'\" ⋯ 3378 bytes ⋯ \"Name(o)[0];a.async=1;a.src=g;m.parentNode.insertBefore(a,m)\\n})(window,document,'script','//www.google-analytics.com/analytics.js','ga');\\nga('create', 'UA-69522494-1', 'auto');\\nga('set', 'anonymizeIp', true);\\nga('send', 'pageview');\\n</script>\\n<!-- /ga -->\\n</body>\\n</html>\""
      ]
     },
     "metadata": {},
     "output_type": "display_data"
    }
   ],
   "source": [
    "submit_answer(year, day, part_one_ans)"
   ]
  },
  {
   "cell_type": "code",
   "execution_count": 13,
   "metadata": {},
   "outputs": [
    {
     "data": {
      "text/plain": [
       "part_two (generic function with 1 method)"
      ]
     },
     "metadata": {},
     "output_type": "display_data"
    }
   ],
   "source": [
    "function part_two(input)\n",
    "    input = map(collect, input)\n",
    "    n = length(input)\n",
    "    m = length(input[1])\n",
    "    si, sj = 1, 1\n",
    "    ei, ej = 1, 1\n",
    "    for i in 1:n\n",
    "        for j in 1:m\n",
    "            if input[i][j] == 'S'\n",
    "                si, sj = i, j\n",
    "                input[i][j] = 'a'\n",
    "            elseif input[i][j] == 'E'\n",
    "                ei, ej = i, j\n",
    "                input[i][j] = 'z'\n",
    "            end\n",
    "        end\n",
    "    end\n",
    "\n",
    "    q = Queue{Tuple{Int, Int, Int}}()\n",
    "    enqueue!(q, (ei, ej, 0))\n",
    "    visited = Set()\n",
    "    push!(visited, (ei, ej))\n",
    "    while !isempty(q)\n",
    "        i, j, d = dequeue!(q)\n",
    "        if input[i][j] == 'a'\n",
    "            return d\n",
    "        end\n",
    "        now = input[i][j]\n",
    "        for (di, dj) in [(0, 1), (0, -1), (1, 0), (-1, 0)]\n",
    "            ni, nj = i + di, j + dj\n",
    "            if 1 <= ni <= n && 1 <= nj <= m\n",
    "                nxt = input[ni][nj]\n",
    "                if isvalid(nxt, now) && (ni, nj) ∉ visited\n",
    "                    enqueue!(q, (ni, nj, d + 1))\n",
    "                    push!(visited, (ni, nj))\n",
    "                end\n",
    "            end\n",
    "        end\n",
    "    end\n",
    "\n",
    "    return -1\n",
    "end"
   ]
  },
  {
   "cell_type": "code",
   "execution_count": 14,
   "metadata": {},
   "outputs": [
    {
     "data": {
      "text/plain": [
       "29"
      ]
     },
     "metadata": {},
     "output_type": "display_data"
    }
   ],
   "source": [
    "part_two(parsed_sample)"
   ]
  },
  {
   "cell_type": "code",
   "execution_count": 15,
   "metadata": {},
   "outputs": [
    {
     "data": {
      "text/plain": [
       "478"
      ]
     },
     "metadata": {},
     "output_type": "display_data"
    }
   ],
   "source": [
    "part_two_ans = part_two(parsed_input)"
   ]
  },
  {
   "cell_type": "code",
   "execution_count": 16,
   "metadata": {},
   "outputs": [
    {
     "data": {
      "text/plain": [
       "\"<!DOCTYPE html>\\n<html lang=\\\"en-us\\\">\\n<head>\\n<meta charset=\\\"utf-8\\\"/>\\n<title>Day 12 - Advent of Code 2022</title>\\n<!--[if lt IE 9]><script src=\\\"/static/html5.js\\\"></script><![endif]-->\\n<link href='//fonts.googleapis.com/css?family=Source+Code+Pro:300&subset=latin,latin-ext'\" ⋯ 3458 bytes ⋯ \"Name(o)[0];a.async=1;a.src=g;m.parentNode.insertBefore(a,m)\\n})(window,document,'script','//www.google-analytics.com/analytics.js','ga');\\nga('create', 'UA-69522494-1', 'auto');\\nga('set', 'anonymizeIp', true);\\nga('send', 'pageview');\\n</script>\\n<!-- /ga -->\\n</body>\\n</html>\""
      ]
     },
     "metadata": {},
     "output_type": "display_data"
    }
   ],
   "source": [
    "submit_answer(year, day, part_two_ans, 2)"
   ]
  }
 ],
 "metadata": {
  "kernelspec": {
   "display_name": "Julia 1.8.3",
   "language": "julia",
   "name": "julia-1.8"
  },
  "language_info": {
   "file_extension": ".jl",
   "mimetype": "application/julia",
   "name": "julia",
   "version": "1.8.3"
  },
  "orig_nbformat": 4,
  "vscode": {
   "interpreter": {
    "hash": "2decbbcdbe1b404b08c0c2ae8935a58886fd60ea7dad56cfc87e2a14f377e9ba"
   }
  }
 },
 "nbformat": 4,
 "nbformat_minor": 2
}
