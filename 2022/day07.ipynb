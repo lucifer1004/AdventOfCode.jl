{
 "cells": [
  {
   "cell_type": "code",
   "execution_count": 1,
   "metadata": {},
   "outputs": [
    {
     "name": "stderr",
     "output_type": "stream",
     "text": [
      "\u001b[32m\u001b[1m  Activating\u001b[22m\u001b[39m project at `~/com.github/lucifer1004/AdventOfCode.jl`\n"
     ]
    }
   ],
   "source": [
    "import Pkg; Pkg.activate(\"..\")"
   ]
  },
  {
   "cell_type": "code",
   "execution_count": 2,
   "metadata": {},
   "outputs": [],
   "source": [
    "using AdventOfCode"
   ]
  },
  {
   "cell_type": "code",
   "execution_count": 3,
   "metadata": {},
   "outputs": [
    {
     "data": {
      "text/plain": [
       "7"
      ]
     },
     "execution_count": 3,
     "metadata": {},
     "output_type": "execute_result"
    }
   ],
   "source": [
    "year = 2022\n",
    "day = 7"
   ]
  },
  {
   "cell_type": "code",
   "execution_count": 4,
   "metadata": {},
   "outputs": [
    {
     "data": {
      "text/plain": [
       "\"\\$ cd /\\n\\$ ls\\ndir cmwrq\\ndir ftrccld\\ndir jjlbmtw\\ndir jpncfpb\\ndir mddr\\ndir mthvntdd\\n55644 pjts.dzh\\ndir ptzsl\\ndir wmqc\\n\\$ cd cmwrq\\n\\$ ls\\ndir dtbzzl\\ndir pjnghbm\\n16144 rvs\\n50956 swngfrsj.pcj\\ndir vhvn\\ndir vrt\\ndir zgrjmtcq\\n\\$ cd dtbzzl\\n\\$ ls\\n42503 ljhpmvd.zqf\\ndir wwpnn\\n\\$ cd wwpnn\\n\\$ \" ⋯ 9766 bytes ⋯ \"4 jnsdzmbd\\n\\$ cd ..\\n\\$ cd wmqc\\n\\$ ls\\ndir dtbzzl\\ndir hdzmzc\\ndir nmmpwqvz\\ndir qjnm\\n\\$ cd dtbzzl\\n\\$ ls\\ndir hpzgnb\\n\\$ cd hpzgnb\\n\\$ ls\\n189696 sbmdrbm\\n\\$ cd ..\\n\\$ cd ..\\n\\$ cd hdzmzc\\n\\$ ls\\n143510 dtbzzl.dmp\\n\\$ cd ..\\n\\$ cd nmmpwqvz\\n\\$ ls\\n276725 nhm.zhz\\n\\$ cd ..\\n\\$ cd qjnm\\n\\$ ls\\n202264 cpqhb.jsf\""
      ]
     },
     "execution_count": 4,
     "metadata": {},
     "output_type": "execute_result"
    }
   ],
   "source": [
    "input = get_input(year, day)"
   ]
  },
  {
   "cell_type": "code",
   "execution_count": 5,
   "metadata": {},
   "outputs": [
    {
     "data": {
      "text/plain": [
       "964-element Vector{SubString{String}}:\n",
       " \"\\$ cd /\"\n",
       " \"\\$ ls\"\n",
       " \"dir cmwrq\"\n",
       " \"dir ftrccld\"\n",
       " \"dir jjlbmtw\"\n",
       " \"dir jpncfpb\"\n",
       " \"dir mddr\"\n",
       " \"dir mthvntdd\"\n",
       " \"55644 pjts.dzh\"\n",
       " \"dir ptzsl\"\n",
       " \"dir wmqc\"\n",
       " \"\\$ cd cmwrq\"\n",
       " \"\\$ ls\"\n",
       " ⋮\n",
       " \"\\$ cd ..\"\n",
       " \"\\$ cd hdzmzc\"\n",
       " \"\\$ ls\"\n",
       " \"143510 dtbzzl.dmp\"\n",
       " \"\\$ cd ..\"\n",
       " \"\\$ cd nmmpwqvz\"\n",
       " \"\\$ ls\"\n",
       " \"276725 nhm.zhz\"\n",
       " \"\\$ cd ..\"\n",
       " \"\\$ cd qjnm\"\n",
       " \"\\$ ls\"\n",
       " \"202264 cpqhb.jsf\""
      ]
     },
     "execution_count": 5,
     "metadata": {},
     "output_type": "execute_result"
    }
   ],
   "source": [
    "parsed_input = parse_input(input)"
   ]
  },
  {
   "cell_type": "code",
   "execution_count": 6,
   "metadata": {},
   "outputs": [
    {
     "data": {
      "text/plain": [
       "\"\\$ cd /\\n\\$ ls\\ndir a\\n14848514 b.txt\\n8504156 c.dat\\ndir d\\n\\$ cd a\\n\\$ ls\\ndir e\\n29116 f\\n2557 g\\n62596 h.lst\\n\\$ cd e\\n\\$ ls\\n584 i\\n\\$ cd ..\\n\\$ cd ..\\n\\$ cd d\\n\\$ ls\\n4060174 j\\n8033020 d.log\\n5626152 d.ext\\n7214296 k\""
      ]
     },
     "execution_count": 6,
     "metadata": {},
     "output_type": "execute_result"
    }
   ],
   "source": [
    "sample = \"\"\"\\$ cd /\n",
    "\\$ ls\n",
    "dir a\n",
    "14848514 b.txt\n",
    "8504156 c.dat\n",
    "dir d\n",
    "\\$ cd a\n",
    "\\$ ls\n",
    "dir e\n",
    "29116 f\n",
    "2557 g\n",
    "62596 h.lst\n",
    "\\$ cd e\n",
    "\\$ ls\n",
    "584 i\n",
    "\\$ cd ..\n",
    "\\$ cd ..\n",
    "\\$ cd d\n",
    "\\$ ls\n",
    "4060174 j\n",
    "8033020 d.log\n",
    "5626152 d.ext\n",
    "7214296 k\"\"\""
   ]
  },
  {
   "cell_type": "code",
   "execution_count": 7,
   "metadata": {},
   "outputs": [
    {
     "data": {
      "text/plain": [
       "23-element Vector{SubString{String}}:\n",
       " \"\\$ cd /\"\n",
       " \"\\$ ls\"\n",
       " \"dir a\"\n",
       " \"14848514 b.txt\"\n",
       " \"8504156 c.dat\"\n",
       " \"dir d\"\n",
       " \"\\$ cd a\"\n",
       " \"\\$ ls\"\n",
       " \"dir e\"\n",
       " \"29116 f\"\n",
       " \"2557 g\"\n",
       " \"62596 h.lst\"\n",
       " \"\\$ cd e\"\n",
       " \"\\$ ls\"\n",
       " \"584 i\"\n",
       " \"\\$ cd ..\"\n",
       " \"\\$ cd ..\"\n",
       " \"\\$ cd d\"\n",
       " \"\\$ ls\"\n",
       " \"4060174 j\"\n",
       " \"8033020 d.log\"\n",
       " \"5626152 d.ext\"\n",
       " \"7214296 k\""
      ]
     },
     "execution_count": 7,
     "metadata": {},
     "output_type": "execute_result"
    }
   ],
   "source": [
    "parsed_sample = parse_input(sample)"
   ]
  },
  {
   "cell_type": "code",
   "execution_count": 8,
   "metadata": {},
   "outputs": [
    {
     "data": {
      "text/plain": [
       "preprocess (generic function with 1 method)"
      ]
     },
     "execution_count": 8,
     "metadata": {},
     "output_type": "execute_result"
    }
   ],
   "source": [
    "function preprocess(input)\n",
    "    d = Dict{String,Set{String}}()\n",
    "    s = Dict{String,Int}()\n",
    "    now = String[\"\"]\n",
    "    for line in input\n",
    "        if startswith(line, \"\\$ cd\")\n",
    "            target = line[6:end]\n",
    "            if target == \"/\"\n",
    "                now = String[\"\"]\n",
    "            elseif target == \"..\"\n",
    "                pop!(now)\n",
    "            else\n",
    "                push!(now, target)\n",
    "            end\n",
    "        elseif startswith(line, \"\\$ ls\")\n",
    "            # do nothing\n",
    "        else\n",
    "            par = join(now, \"/\")\n",
    "\n",
    "            if !haskey(d, par)\n",
    "                d[par] = Set{String}()\n",
    "            end\n",
    "\n",
    "            if startswith(line, \"dir\")\n",
    "                sub = par * \"/\" * line[5:end]\n",
    "                push!(d[par], sub)\n",
    "            else\n",
    "                sz, name = split(line, \" \")\n",
    "                sz = parse(Int, sz)\n",
    "                sub = par * \"/\" * name\n",
    "                s[sub] = sz\n",
    "                push!(d[par], sub)\n",
    "            end\n",
    "        end\n",
    "    end\n",
    "\n",
    "    tot = Dict{String,Int}()\n",
    "\n",
    "    function dfs(now)\n",
    "        cap = 0\n",
    "        for sub in d[now]\n",
    "            if haskey(s, sub)\n",
    "                cap += s[sub]\n",
    "            else\n",
    "                cap += dfs(sub)\n",
    "            end\n",
    "        end\n",
    "        tot[now] = cap\n",
    "    end\n",
    "\n",
    "    dfs(\"\")\n",
    "\n",
    "    return tot\n",
    "end"
   ]
  },
  {
   "cell_type": "code",
   "execution_count": 9,
   "metadata": {},
   "outputs": [
    {
     "data": {
      "text/plain": [
       "part_one (generic function with 1 method)"
      ]
     },
     "execution_count": 9,
     "metadata": {},
     "output_type": "execute_result"
    }
   ],
   "source": [
    "function part_one(input)\n",
    "    tot = preprocess(input)\n",
    "    return sum(v for v in values(tot) if v <= 100000)\n",
    "end"
   ]
  },
  {
   "cell_type": "code",
   "execution_count": 10,
   "metadata": {},
   "outputs": [
    {
     "data": {
      "text/plain": [
       "95437"
      ]
     },
     "execution_count": 10,
     "metadata": {},
     "output_type": "execute_result"
    }
   ],
   "source": [
    "part_one(parsed_sample)"
   ]
  },
  {
   "cell_type": "code",
   "execution_count": 11,
   "metadata": {},
   "outputs": [
    {
     "data": {
      "text/plain": [
       "919137"
      ]
     },
     "execution_count": 11,
     "metadata": {},
     "output_type": "execute_result"
    }
   ],
   "source": [
    "part_one_ans = part_one(parsed_input)"
   ]
  },
  {
   "cell_type": "code",
   "execution_count": 12,
   "metadata": {},
   "outputs": [
    {
     "data": {
      "text/plain": [
       "\"<!DOCTYPE html>\\n<html lang=\\\"en-us\\\">\\n<head>\\n<meta charset=\\\"utf-8\\\"/>\\n<title>Day 7 - Advent of Code 2022</title>\\n<!--[if lt IE 9]><script src=\\\"/static/html5.js\\\"></script><![endif]-->\\n<link href='//fonts.googleapis.com/css?family=Source+Code+Pro:300&subset=latin,latin-ext' \" ⋯ 3297 bytes ⋯ \"Name(o)[0];a.async=1;a.src=g;m.parentNode.insertBefore(a,m)\\n})(window,document,'script','//www.google-analytics.com/analytics.js','ga');\\nga('create', 'UA-69522494-1', 'auto');\\nga('set', 'anonymizeIp', true);\\nga('send', 'pageview');\\n</script>\\n<!-- /ga -->\\n</body>\\n</html>\""
      ]
     },
     "execution_count": 12,
     "metadata": {},
     "output_type": "execute_result"
    }
   ],
   "source": [
    "submit_answer(year, day, part_one_ans)"
   ]
  },
  {
   "cell_type": "code",
   "execution_count": 13,
   "metadata": {},
   "outputs": [
    {
     "data": {
      "text/plain": [
       "part_two (generic function with 1 method)"
      ]
     },
     "execution_count": 13,
     "metadata": {},
     "output_type": "execute_result"
    }
   ],
   "source": [
    "function part_two(input)\n",
    "    tot = preprocess(input)\n",
    "    disk = 70000000 - tot[\"\"]\n",
    "    return minimum(v for v in values(tot) if v + disk >= 30000000)\n",
    "end"
   ]
  },
  {
   "cell_type": "code",
   "execution_count": 14,
   "metadata": {},
   "outputs": [
    {
     "data": {
      "text/plain": [
       "24933642"
      ]
     },
     "execution_count": 14,
     "metadata": {},
     "output_type": "execute_result"
    }
   ],
   "source": [
    "part_two(parsed_sample)"
   ]
  },
  {
   "cell_type": "code",
   "execution_count": 15,
   "metadata": {},
   "outputs": [
    {
     "data": {
      "text/plain": [
       "2877389"
      ]
     },
     "execution_count": 15,
     "metadata": {},
     "output_type": "execute_result"
    }
   ],
   "source": [
    "part_two_ans = part_two(parsed_input)"
   ]
  },
  {
   "cell_type": "code",
   "execution_count": 16,
   "metadata": {},
   "outputs": [
    {
     "data": {
      "text/plain": [
       "\"<!DOCTYPE html>\\n<html lang=\\\"en-us\\\">\\n<head>\\n<meta charset=\\\"utf-8\\\"/>\\n<title>Day 7 - Advent of Code 2022</title>\\n<!--[if lt IE 9]><script src=\\\"/static/html5.js\\\"></script><![endif]-->\\n<link href='//fonts.googleapis.com/css?family=Source+Code+Pro:300&subset=latin,latin-ext' \" ⋯ 3424 bytes ⋯ \"Name(o)[0];a.async=1;a.src=g;m.parentNode.insertBefore(a,m)\\n})(window,document,'script','//www.google-analytics.com/analytics.js','ga');\\nga('create', 'UA-69522494-1', 'auto');\\nga('set', 'anonymizeIp', true);\\nga('send', 'pageview');\\n</script>\\n<!-- /ga -->\\n</body>\\n</html>\""
      ]
     },
     "execution_count": 16,
     "metadata": {},
     "output_type": "execute_result"
    }
   ],
   "source": [
    "submit_answer(year, day, part_two_ans, 2)"
   ]
  }
 ],
 "metadata": {
  "kernelspec": {
   "display_name": "Julia 1.8.0",
   "language": "julia",
   "name": "julia-1.8"
  },
  "language_info": {
   "file_extension": ".jl",
   "mimetype": "application/julia",
   "name": "julia",
   "version": "1.8.3"
  },
  "orig_nbformat": 4,
  "vscode": {
   "interpreter": {
    "hash": "2decbbcdbe1b404b08c0c2ae8935a58886fd60ea7dad56cfc87e2a14f377e9ba"
   }
  }
 },
 "nbformat": 4,
 "nbformat_minor": 2
}
