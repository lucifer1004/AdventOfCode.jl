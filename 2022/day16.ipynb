{
 "cells": [
  {
   "cell_type": "code",
   "execution_count": 1,
   "metadata": {},
   "outputs": [
    {
     "name": "stderr",
     "output_type": "stream",
     "text": [
      "\u001b[32m\u001b[1m  Activating\u001b[22m\u001b[39m project at `~/com.github/lucifer1004/AdventOfCode.jl`\n"
     ]
    }
   ],
   "source": [
    "import Pkg; Pkg.activate(\"..\")"
   ]
  },
  {
   "cell_type": "code",
   "execution_count": 2,
   "metadata": {},
   "outputs": [],
   "source": [
    "using AdventOfCode"
   ]
  },
  {
   "cell_type": "code",
   "execution_count": 3,
   "metadata": {},
   "outputs": [
    {
     "data": {
      "text/plain": [
       "16"
      ]
     },
     "execution_count": 3,
     "metadata": {},
     "output_type": "execute_result"
    }
   ],
   "source": [
    "year = 2022\n",
    "day = 16"
   ]
  },
  {
   "cell_type": "code",
   "execution_count": 4,
   "metadata": {},
   "outputs": [
    {
     "data": {
      "text/plain": [
       "\"Valve AV has flow rate=0; tunnels lead to valves AX, PI\\nValve JI has flow rate=0; tunnels lead to valves VD, HF\\nValve FF has flow rate=0; tunnels lead to valves ZL, CG\\nValve CG has flow rate=10; tunnels lead to valves TI, SU, RV, FF, QX\\nValve RC has flow rate=18; tunnel\" ⋯ 3053 bytes ⋯ \"has flow rate=5; tunnels lead to valves TG, AV, HP\\nValve XL has flow rate=0; tunnels lead to valves KU, VS\\nValve AD has flow rate=0; tunnels lead to valves BK, RC\\nValve EI has flow rate=0; tunnels lead to valves RV, AA\\nValve OF has flow rate=19; tunnel leads to valve KV\""
      ]
     },
     "execution_count": 4,
     "metadata": {},
     "output_type": "execute_result"
    }
   ],
   "source": [
    "input = get_input(year, day)"
   ]
  },
  {
   "cell_type": "code",
   "execution_count": 5,
   "metadata": {},
   "outputs": [
    {
     "data": {
      "text/plain": [
       "62-element Vector{SubString{String}}:\n",
       " \"Valve AV has flow rate=0; tunnels lead to valves AX, PI\"\n",
       " \"Valve JI has flow rate=0; tunnels lead to valves VD, HF\"\n",
       " \"Valve FF has flow rate=0; tunnels lead to valves ZL, CG\"\n",
       " \"Valve CG has flow rate=10; tunnels lead to valves TI, SU, RV, FF, QX\"\n",
       " \"Valve RC has flow rate=18; tunnels lead to valves EQ, WR, AD\"\n",
       " \"Valve ZJ has flow rate=0; tunnels lead to valves GJ, WI\"\n",
       " \"Valve GJ has flow rate=21; tunnels lead to valves TG, YJ, EU, AZ, ZJ\"\n",
       " \"Valve VJ has flow rate=0; tunnels lead to valves UJ, AA\"\n",
       " \"Valve ER has flow rate=0; tunnels lead to valves QO, ZK\"\n",
       " \"Valve QO has flow rate=24; tunnels lead to valves MF, ER\"\n",
       " \"Valve LN has flow rate=0; tunnels lead to valves ZR, TI\"\n",
       " \"Valve SU has flow rate=0; tunnels lead to valves CG, LM\"\n",
       " \"Valve AJ has flow rate=12; tunnels lead to valves QX, JW, TR, MK\"\n",
       " ⋮\n",
       " \"Valve RO has flow rate=0; tunnels lead to valves AA, TC\"\n",
       " \"Valve TR has flow rate=0; tunnels lead to valves VD, AJ\"\n",
       " \"Valve VQ has flow rate=0; tunnels lead to valves AA, PI\"\n",
       " \"Valve HF has flow rate=0; tunnels lead to valves JI, LM\"\n",
       " \"Valve RV has flow rate=0; tunnels lead to valves EI, CG\"\n",
       " \"Valve KX has flow rate=0; tunnels lead to valves PI, ZR\"\n",
       " \"Valve UJ has flow rate=0; tunnels lead to valves LM, VJ\"\n",
       " \"Valve AX has flow rate=5; tunnels lead to valves TG, AV, HP\"\n",
       " \"Valve XL has flow rate=0; tunnels lead to valves KU, VS\"\n",
       " \"Valve AD has flow rate=0; tunnels lead to valves BK, RC\"\n",
       " \"Valve EI has flow rate=0; tunnels lead to valves RV, AA\"\n",
       " \"Valve OF has flow rate=19; tunnel leads to valve KV\""
      ]
     },
     "execution_count": 5,
     "metadata": {},
     "output_type": "execute_result"
    }
   ],
   "source": [
    "parsed_input = parse_input(input)"
   ]
  },
  {
   "cell_type": "code",
   "execution_count": 6,
   "metadata": {},
   "outputs": [
    {
     "data": {
      "text/plain": [
       "\"Valve AA has flow rate=0; tunnels lead to valves DD, II, BB\\nValve BB has flow rate=13; tunnels lead to valves CC, AA\\nValve CC has flow rate=2; tunnels lead to valves DD, BB\\nValve DD has flow rate=20; tunnels lead to valves CC, AA, EE\\nValve EE has flow rate=3; tunnels lea\" ⋯ 19 bytes ⋯ \"Valve FF has flow rate=0; tunnels lead to valves EE, GG\\nValve GG has flow rate=0; tunnels lead to valves FF, HH\\nValve HH has flow rate=22; tunnel leads to valve GG\\nValve II has flow rate=0; tunnels lead to valves AA, JJ\\nValve JJ has flow rate=21; tunnel leads to valve II\""
      ]
     },
     "execution_count": 6,
     "metadata": {},
     "output_type": "execute_result"
    }
   ],
   "source": [
    "sample = \"\"\"Valve AA has flow rate=0; tunnels lead to valves DD, II, BB\n",
    "Valve BB has flow rate=13; tunnels lead to valves CC, AA\n",
    "Valve CC has flow rate=2; tunnels lead to valves DD, BB\n",
    "Valve DD has flow rate=20; tunnels lead to valves CC, AA, EE\n",
    "Valve EE has flow rate=3; tunnels lead to valves FF, DD\n",
    "Valve FF has flow rate=0; tunnels lead to valves EE, GG\n",
    "Valve GG has flow rate=0; tunnels lead to valves FF, HH\n",
    "Valve HH has flow rate=22; tunnel leads to valve GG\n",
    "Valve II has flow rate=0; tunnels lead to valves AA, JJ\n",
    "Valve JJ has flow rate=21; tunnel leads to valve II\"\"\""
   ]
  },
  {
   "cell_type": "code",
   "execution_count": 7,
   "metadata": {},
   "outputs": [
    {
     "data": {
      "text/plain": [
       "10-element Vector{SubString{String}}:\n",
       " \"Valve AA has flow rate=0; tunnels lead to valves DD, II, BB\"\n",
       " \"Valve BB has flow rate=13; tunnels lead to valves CC, AA\"\n",
       " \"Valve CC has flow rate=2; tunnels lead to valves DD, BB\"\n",
       " \"Valve DD has flow rate=20; tunnels lead to valves CC, AA, EE\"\n",
       " \"Valve EE has flow rate=3; tunnels lead to valves FF, DD\"\n",
       " \"Valve FF has flow rate=0; tunnels lead to valves EE, GG\"\n",
       " \"Valve GG has flow rate=0; tunnels lead to valves FF, HH\"\n",
       " \"Valve HH has flow rate=22; tunnel leads to valve GG\"\n",
       " \"Valve II has flow rate=0; tunnels lead to valves AA, JJ\"\n",
       " \"Valve JJ has flow rate=21; tunnel leads to valve II\""
      ]
     },
     "execution_count": 7,
     "metadata": {},
     "output_type": "execute_result"
    }
   ],
   "source": [
    "parsed_sample = parse_input(sample)"
   ]
  },
  {
   "cell_type": "code",
   "execution_count": 8,
   "metadata": {},
   "outputs": [
    {
     "data": {
      "text/plain": [
       "preprocess (generic function with 1 method)"
      ]
     },
     "execution_count": 8,
     "metadata": {},
     "output_type": "execute_result"
    }
   ],
   "source": [
    "regex = r\"Valve ([A-Z]{2}) has flow rate=(\\d+); tunnels? leads? to valves? (.+)\"\n",
    "\n",
    "function preprocess(input)\n",
    "    input = sort(input)\n",
    "    mapping = Dict{String, Int}()\n",
    "    n = length(input)\n",
    "    valves = zeros(Int, n)\n",
    "    adj = fill(100000000, n, n)\n",
    "    foreach(enumerate(input)) do (i, line)\n",
    "        u, _, _ = match(regex, line).captures\n",
    "        mapping[u] = i\n",
    "        adj[i, i] = 0\n",
    "    end\n",
    "    \n",
    "    foreach(input) do line\n",
    "        u, rate, vs = match(regex, line).captures\n",
    "        u = mapping[u]\n",
    "        valves[u] = parse(Int, rate)\n",
    "        for v in split(vs, \", \")\n",
    "            v = mapping[v]\n",
    "            adj[u, v] = 1\n",
    "        end\n",
    "    end\n",
    "    \n",
    "    for k in 1:n\n",
    "        for i in 1:n\n",
    "            for j in 1:n\n",
    "                adj[i, j] = min(adj[i, j], adj[i, k] + adj[k, j])\n",
    "            end\n",
    "        end\n",
    "    end\n",
    "    \n",
    "    valid = [i for i in 1:n if valves[i] > 0 || mapping[\"AA\"] == i]\n",
    "    m = length(valid)\n",
    "    adj2 = [adj[valid[i], valid[j]] for i in 1:m, j in 1:m]\n",
    "    valves2 = [valves[i] for i in valid]\n",
    "    return valves2, adj2\n",
    "end"
   ]
  },
  {
   "cell_type": "code",
   "execution_count": 9,
   "metadata": {},
   "outputs": [
    {
     "data": {
      "text/plain": [
       "solver_pq (generic function with 1 method)"
      ]
     },
     "execution_count": 9,
     "metadata": {},
     "output_type": "execute_result"
    }
   ],
   "source": [
    "function solver_pq(valves, adj, T)\n",
    "    m = size(adj)[1]\n",
    "    msk = (1 << (m - 1)) - 1\n",
    "    best = OffsetArray(zeros(Int, 0:msk), 0:msk)\n",
    "    pq = PriorityQueue()\n",
    "    enqueue!(pq, (1, 0, 0), 0)\n",
    "    while !isempty(pq)\n",
    "        (u, t, state), now = peek(pq)\n",
    "        now = -now\n",
    "        dequeue!(pq)\n",
    "\n",
    "        for v in 2:m\n",
    "            i = v - 2\n",
    "            if (state & (1 << i)) > 0\n",
    "                continue\n",
    "            end\n",
    "\n",
    "            if t + adj[u, v] + 1 < T\n",
    "                t1 = t + adj[u, v] + 1\n",
    "                nxt = now + (T - t1) * valves[v]\n",
    "                nxt_state = state | (1 << i)\n",
    "                best[nxt_state] = max(best[nxt_state], nxt)\n",
    "                nxt_key = (v, t1, nxt_state)\n",
    "                if -get(pq, nxt_key, 1) < nxt\n",
    "                    if haskey(pq, nxt_key)\n",
    "                        delete!(pq, nxt_key)\n",
    "                    end\n",
    "                    enqueue!(pq, nxt_key, -nxt)\n",
    "                end\n",
    "            end\n",
    "        end\n",
    "    end\n",
    "    return best\n",
    "end"
   ]
  },
  {
   "cell_type": "code",
   "execution_count": 10,
   "metadata": {},
   "outputs": [
    {
     "data": {
      "text/plain": [
       "solver_dp (generic function with 1 method)"
      ]
     },
     "execution_count": 10,
     "metadata": {},
     "output_type": "execute_result"
    }
   ],
   "source": [
    "function solver_dp(valves, adj, T)\n",
    "    m = length(valves)\n",
    "    msk = (1 << (m - 1)) - 1\n",
    "    dp = OffsetArray(fill(-1, 0:msk, m, T + 1), 0:msk, 1:m, 0:T)\n",
    "    dp[0, 1, 0] = 0\n",
    "    for t in 0:T - 1\n",
    "        for u in 1:m\n",
    "            for state in 0:msk\n",
    "                now = dp[state, u, t]\n",
    "                if now == -1\n",
    "                    continue\n",
    "                end\n",
    "\n",
    "                for v in 2:m\n",
    "                    i = v - 2\n",
    "                    if (state & (1 << i)) > 0\n",
    "                        continue\n",
    "                    end\n",
    "\n",
    "                    nxt = state | (1 << i)\n",
    "                    t1 = t + adj[u, v] + 1\n",
    "                    if t1 < T\n",
    "                        dp[nxt, v, t1] = max(dp[nxt, v, t1], now + (T - t1) * valves[v])\n",
    "                    end\n",
    "                end\n",
    "            end\n",
    "        end\n",
    "    end\n",
    "\n",
    "    best = OffsetArray([maximum(dp[state, :, :]) for state in 0:msk], 0:msk)\n",
    "    return best\n",
    "end"
   ]
  },
  {
   "cell_type": "code",
   "execution_count": 11,
   "metadata": {},
   "outputs": [
    {
     "data": {
      "text/plain": [
       "part_one (generic function with 1 method)"
      ]
     },
     "execution_count": 11,
     "metadata": {},
     "output_type": "execute_result"
    }
   ],
   "source": [
    "function part_one(input, solver)\n",
    "    valves, adj = preprocess(input)\n",
    "    best = solver(valves, adj, 30)\n",
    "    return maximum(best)\n",
    "end"
   ]
  },
  {
   "cell_type": "code",
   "execution_count": 12,
   "metadata": {},
   "outputs": [
    {
     "data": {
      "text/plain": [
       "part_two (generic function with 1 method)"
      ]
     },
     "execution_count": 12,
     "metadata": {},
     "output_type": "execute_result"
    }
   ],
   "source": [
    "function part_two(input, solver)\n",
    "    valves, adj = preprocess(input)\n",
    "    best = solver(valves, adj, 26)\n",
    "    m = length(valves)\n",
    "    msk = (1 << (m - 1)) - 1\n",
    "    for i in 0:msk\n",
    "        j = (i - 1) & i\n",
    "        while j > 0\n",
    "            best[i] = max(best[i], best[j])\n",
    "            j = (j - 1) & i\n",
    "        end\n",
    "    end\n",
    "    return maximum(best[i] + best[msk⊻i] for i in 0:msk)\n",
    "end"
   ]
  },
  {
   "cell_type": "code",
   "execution_count": 13,
   "metadata": {},
   "outputs": [
    {
     "data": {
      "text/plain": [
       "1651"
      ]
     },
     "execution_count": 13,
     "metadata": {},
     "output_type": "execute_result"
    }
   ],
   "source": [
    "part_one(parsed_sample, solver_pq)"
   ]
  },
  {
   "cell_type": "code",
   "execution_count": 14,
   "metadata": {},
   "outputs": [
    {
     "data": {
      "text/plain": [
       "1651"
      ]
     },
     "execution_count": 14,
     "metadata": {},
     "output_type": "execute_result"
    }
   ],
   "source": [
    "part_one(parsed_sample, solver_dp)"
   ]
  },
  {
   "cell_type": "code",
   "execution_count": 15,
   "metadata": {},
   "outputs": [
    {
     "data": {
      "text/plain": [
       "1792"
      ]
     },
     "execution_count": 15,
     "metadata": {},
     "output_type": "execute_result"
    }
   ],
   "source": [
    "part_one(parsed_input, solver_pq)"
   ]
  },
  {
   "cell_type": "code",
   "execution_count": 16,
   "metadata": {},
   "outputs": [
    {
     "data": {
      "text/plain": [
       "1792"
      ]
     },
     "execution_count": 16,
     "metadata": {},
     "output_type": "execute_result"
    }
   ],
   "source": [
    "part_one_ans = part_one(parsed_input, solver_dp)"
   ]
  },
  {
   "cell_type": "code",
   "execution_count": 17,
   "metadata": {},
   "outputs": [
    {
     "data": {
      "text/plain": [
       "\"<!DOCTYPE html>\\n<html lang=\\\"en-us\\\">\\n<head>\\n<meta charset=\\\"utf-8\\\"/>\\n<title>Day 16 - Advent of Code 2022</title>\\n<!--[if lt IE 9]><script src=\\\"/static/html5.js\\\"></script><![endif]-->\\n<link href='//fonts.googleapis.com/css?family=Source+Code+Pro:300&subset=latin,latin-ext'\" ⋯ 3355 bytes ⋯ \"Name(o)[0];a.async=1;a.src=g;m.parentNode.insertBefore(a,m)\\n})(window,document,'script','//www.google-analytics.com/analytics.js','ga');\\nga('create', 'UA-69522494-1', 'auto');\\nga('set', 'anonymizeIp', true);\\nga('send', 'pageview');\\n</script>\\n<!-- /ga -->\\n</body>\\n</html>\""
      ]
     },
     "execution_count": 17,
     "metadata": {},
     "output_type": "execute_result"
    }
   ],
   "source": [
    "submit_answer(year, day, part_one_ans)"
   ]
  },
  {
   "cell_type": "code",
   "execution_count": 18,
   "metadata": {},
   "outputs": [
    {
     "data": {
      "text/plain": [
       "1707"
      ]
     },
     "execution_count": 18,
     "metadata": {},
     "output_type": "execute_result"
    }
   ],
   "source": [
    "part_two(parsed_sample, solver_pq)"
   ]
  },
  {
   "cell_type": "code",
   "execution_count": 19,
   "metadata": {},
   "outputs": [
    {
     "data": {
      "text/plain": [
       "1707"
      ]
     },
     "execution_count": 19,
     "metadata": {},
     "output_type": "execute_result"
    }
   ],
   "source": [
    "part_two(parsed_sample, solver_dp)"
   ]
  },
  {
   "cell_type": "code",
   "execution_count": 20,
   "metadata": {},
   "outputs": [
    {
     "data": {
      "text/plain": [
       "2587"
      ]
     },
     "execution_count": 20,
     "metadata": {},
     "output_type": "execute_result"
    }
   ],
   "source": [
    "part_two(parsed_input, solver_pq)"
   ]
  },
  {
   "cell_type": "code",
   "execution_count": 21,
   "metadata": {},
   "outputs": [
    {
     "data": {
      "text/plain": [
       "2587"
      ]
     },
     "execution_count": 21,
     "metadata": {},
     "output_type": "execute_result"
    }
   ],
   "source": [
    "part_two_ans = part_two(parsed_input, solver_dp)"
   ]
  },
  {
   "cell_type": "code",
   "execution_count": 22,
   "metadata": {},
   "outputs": [
    {
     "data": {
      "text/plain": [
       "\"<!DOCTYPE html>\\n<html lang=\\\"en-us\\\">\\n<head>\\n<meta charset=\\\"utf-8\\\"/>\\n<title>Day 16 - Advent of Code 2022</title>\\n<!--[if lt IE 9]><script src=\\\"/static/html5.js\\\"></script><![endif]-->\\n<link href='//fonts.googleapis.com/css?family=Source+Code+Pro:300&subset=latin,latin-ext'\" ⋯ 3431 bytes ⋯ \"Name(o)[0];a.async=1;a.src=g;m.parentNode.insertBefore(a,m)\\n})(window,document,'script','//www.google-analytics.com/analytics.js','ga');\\nga('create', 'UA-69522494-1', 'auto');\\nga('set', 'anonymizeIp', true);\\nga('send', 'pageview');\\n</script>\\n<!-- /ga -->\\n</body>\\n</html>\""
      ]
     },
     "execution_count": 22,
     "metadata": {},
     "output_type": "execute_result"
    }
   ],
   "source": [
    "submit_answer(year, day, part_two_ans, 2)"
   ]
  }
 ],
 "metadata": {
  "kernelspec": {
   "display_name": "Julia 1.8.0",
   "language": "julia",
   "name": "julia-1.8"
  },
  "language_info": {
   "file_extension": ".jl",
   "mimetype": "application/julia",
   "name": "julia",
   "version": "1.8.3"
  },
  "vscode": {
   "interpreter": {
    "hash": "2decbbcdbe1b404b08c0c2ae8935a58886fd60ea7dad56cfc87e2a14f377e9ba"
   }
  }
 },
 "nbformat": 4,
 "nbformat_minor": 4
}
