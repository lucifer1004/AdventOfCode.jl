{
 "cells": [
  {
   "cell_type": "code",
   "execution_count": 1,
   "metadata": {},
   "outputs": [
    {
     "name": "stderr",
     "output_type": "stream",
     "text": [
      "\u001b[32m\u001b[1m  Activating\u001b[22m\u001b[39m project at `~/com.github/lucifer1004/AdventOfCode.jl`\n"
     ]
    }
   ],
   "source": [
    "import Pkg; Pkg.activate(\"..\")"
   ]
  },
  {
   "cell_type": "code",
   "execution_count": 2,
   "metadata": {},
   "outputs": [],
   "source": [
    "using AdventOfCode"
   ]
  },
  {
   "cell_type": "code",
   "execution_count": 3,
   "metadata": {},
   "outputs": [
    {
     "data": {
      "text/plain": [
       "22"
      ]
     },
     "execution_count": 3,
     "metadata": {},
     "output_type": "execute_result"
    }
   ],
   "source": [
    "year = 2022\n",
    "day = 22"
   ]
  },
  {
   "cell_type": "code",
   "execution_count": 4,
   "metadata": {},
   "outputs": [
    {
     "data": {
      "text/plain": [
       "\"                                                  ........#..................#...#....#.........#................................#.....#........#.....\\n                                                  #.......#.......#................#.#....#..............#..#.......#..\" ⋯ 25272 bytes ⋯ \"L43R5R12R22L42R40R14L49L11R23L41R45L12R9L46L2R12R28L39R46L42R15L28L46L8R36R10L33R8L50R42R19R31L12L48L40R34R10R21L19R25L50R11L29L45L25R46R46R4R5L38L37L8R46L39L27L50R48L4R12L24R19R8R18L50R20L47R47L44R13R21L41L10R4L36L15R35L6R46R31R39L45R45R45R14R35L24R27L11R50R9L31L42L22\""
      ]
     },
     "execution_count": 4,
     "metadata": {},
     "output_type": "execute_result"
    }
   ],
   "source": [
    "input = get_input(year, day)"
   ]
  },
  {
   "cell_type": "code",
   "execution_count": 5,
   "metadata": {},
   "outputs": [
    {
     "data": {
      "text/plain": [
       "202-element Vector{SubString{String}}:\n",
       " \"                               \" ⋯ 88 bytes ⋯ \"..........#.....#........#.....\"\n",
       " \"                               \" ⋯ 88 bytes ⋯ \"..........#...#.......#.......#\"\n",
       " \"                               \" ⋯ 88 bytes ⋯ \"............#........#....#.#..\"\n",
       " \"                               \" ⋯ 88 bytes ⋯ \"#..............................\"\n",
       " \"                               \" ⋯ 88 bytes ⋯ \"....#...#.....#..#.............\"\n",
       " \"                               \" ⋯ 88 bytes ⋯ \"#...#..............#...........\"\n",
       " \"                               \" ⋯ 88 bytes ⋯ \".......##..#..#..........#.....\"\n",
       " \"                               \" ⋯ 88 bytes ⋯ \"............................#..\"\n",
       " \"                               \" ⋯ 88 bytes ⋯ \".................#.............\"\n",
       " \"                               \" ⋯ 88 bytes ⋯ \"........#........#............#\"\n",
       " \"                               \" ⋯ 88 bytes ⋯ \"..................#....##......\"\n",
       " \"                               \" ⋯ 88 bytes ⋯ \"#..........#....###...##...#...\"\n",
       " \"                               \" ⋯ 88 bytes ⋯ \"#...................#.........#\"\n",
       " ⋮\n",
       " \"#....................................#............\"\n",
       " \"................#...............#.................\"\n",
       " \"..........#........##...................#...#.....\"\n",
       " \"..............#.................................##\"\n",
       " \"..#....................#...#.......#............#.\"\n",
       " \"...#.##............#.................#.....#......\"\n",
       " \".........#.#....#....#.......#..........#.....#..#\"\n",
       " \"#...#.....................#.......................\"\n",
       " \"............#.......#.............#..............#\"\n",
       " \"........#...........#.#.......##..................\"\n",
       " \"\"\n",
       " \"17R22R29L49R48R27L46R8R28R37R1\" ⋯ 5550 bytes ⋯ \"5R14R35L24R27L11R50R9L31L42L22\""
      ]
     },
     "execution_count": 5,
     "metadata": {},
     "output_type": "execute_result"
    }
   ],
   "source": [
    "parsed_input = parse_input(input)"
   ]
  },
  {
   "cell_type": "code",
   "execution_count": 6,
   "metadata": {},
   "outputs": [
    {
     "data": {
      "text/plain": [
       "\"        ...#\\n        .#..\\n        #...\\n        ....\\n...#.......#\\n........#...\\n..#....#....\\n..........#.\\n        ...#....\\n        .....#..\\n        .#......\\n        ......#.\\n\\n10R5L5R10L4R5L5\""
      ]
     },
     "execution_count": 6,
     "metadata": {},
     "output_type": "execute_result"
    }
   ],
   "source": [
    "sample = \"\"\"        ...#\n",
    "        .#..\n",
    "        #...\n",
    "        ....\n",
    "...#.......#\n",
    "........#...\n",
    "..#....#....\n",
    "..........#.\n",
    "        ...#....\n",
    "        .....#..\n",
    "        .#......\n",
    "        ......#.\n",
    "\n",
    "10R5L5R10L4R5L5\"\"\""
   ]
  },
  {
   "cell_type": "code",
   "execution_count": 7,
   "metadata": {},
   "outputs": [
    {
     "data": {
      "text/plain": [
       "14-element Vector{SubString{String}}:\n",
       " \"        ...#\"\n",
       " \"        .#..\"\n",
       " \"        #...\"\n",
       " \"        ....\"\n",
       " \"...#.......#\"\n",
       " \"........#...\"\n",
       " \"..#....#....\"\n",
       " \"..........#.\"\n",
       " \"        ...#....\"\n",
       " \"        .....#..\"\n",
       " \"        .#......\"\n",
       " \"        ......#.\"\n",
       " \"\"\n",
       " \"10R5L5R10L4R5L5\""
      ]
     },
     "execution_count": 7,
     "metadata": {},
     "output_type": "execute_result"
    }
   ],
   "source": [
    "parsed_sample = parse_input(sample)"
   ]
  },
  {
   "cell_type": "code",
   "execution_count": 8,
   "metadata": {},
   "outputs": [
    {
     "data": {
      "text/plain": [
       "4-element Vector{Tuple{Int64, Int64}}:\n",
       " (0, 1)\n",
       " (1, 0)\n",
       " (0, -1)\n",
       " (-1, 0)"
      ]
     },
     "execution_count": 8,
     "metadata": {},
     "output_type": "execute_result"
    }
   ],
   "source": [
    "DIRS = [(0, 1), (1, 0), (0, -1), (-1, 0)]"
   ]
  },
  {
   "cell_type": "code",
   "execution_count": 9,
   "metadata": {},
   "outputs": [
    {
     "data": {
      "text/plain": [
       "part_one (generic function with 1 method)"
      ]
     },
     "execution_count": 9,
     "metadata": {},
     "output_type": "execute_result"
    }
   ],
   "source": [
    "function part_one(input)\n",
    "    mp = map(collect, input[1:end-2])\n",
    "    w = maximum(length(row) for row in mp)\n",
    "    h = length(mp)\n",
    "    for i in 1:h\n",
    "        append!(mp[i], fill(' ', w - length(mp[i])))\n",
    "    end\n",
    "    steps = input[end]\n",
    "    nums = parse.(Int, map(x -> x.match, eachmatch(r\"\\d+\", steps) |> collect))\n",
    "    dirs = map(x -> x.match[1], eachmatch(r\"[A-Z]\", steps) |> collect)\n",
    "    \n",
    "    r = 1\n",
    "    c = findfirst((==)('.'), mp[1])\n",
    "    d = 1\n",
    "\n",
    "    for (i, num) in enumerate(nums)\n",
    "        dr, dc = DIRS[d]\n",
    "        for i in 1:num\n",
    "            nr, nc = r + dr, c + dc\n",
    "            if nr > h\n",
    "                nr = 1\n",
    "            end\n",
    "            if nr < 1\n",
    "                nr = h\n",
    "            end\n",
    "            if nc > w\n",
    "                nc = 1\n",
    "            end\n",
    "            if nc < 1\n",
    "                nc = w\n",
    "            end\n",
    "\n",
    "            if mp[nr][nc] == '#'\n",
    "                break\n",
    "            end\n",
    "\n",
    "            while mp[nr][nc] == ' '\n",
    "                nr, nc = nr + dr, nc + dc\n",
    "                if nr > h\n",
    "                    nr = 1\n",
    "                end\n",
    "                if nr < 1\n",
    "                    nr = h\n",
    "                end\n",
    "                if nc > w\n",
    "                    nc = 1\n",
    "                end\n",
    "                if nc < 1\n",
    "                    nc = w\n",
    "                end\n",
    "            end\n",
    "\n",
    "            if mp[nr][nc] == '.'\n",
    "                r, c = nr, nc\n",
    "            end\n",
    "        end\n",
    "\n",
    "        if i <= length(dirs)\n",
    "            if dirs[i] == 'L'\n",
    "                d -= 1\n",
    "                if d < 1\n",
    "                    d = 4\n",
    "                end\n",
    "            else\n",
    "                d += 1\n",
    "                if d > 4\n",
    "                    d = 1\n",
    "                end\n",
    "            end\n",
    "        end\n",
    "    end\n",
    "\n",
    "    r * 1000 + c * 4 + d - 1\n",
    "end"
   ]
  },
  {
   "cell_type": "code",
   "execution_count": 10,
   "metadata": {},
   "outputs": [
    {
     "data": {
      "text/plain": [
       "6032"
      ]
     },
     "execution_count": 10,
     "metadata": {},
     "output_type": "execute_result"
    }
   ],
   "source": [
    "part_one(parsed_sample)"
   ]
  },
  {
   "cell_type": "code",
   "execution_count": 11,
   "metadata": {},
   "outputs": [
    {
     "data": {
      "text/plain": [
       "191010"
      ]
     },
     "execution_count": 11,
     "metadata": {},
     "output_type": "execute_result"
    }
   ],
   "source": [
    "part_one_ans = part_one(parsed_input)"
   ]
  },
  {
   "cell_type": "code",
   "execution_count": 12,
   "metadata": {},
   "outputs": [
    {
     "data": {
      "text/plain": [
       "\"<!DOCTYPE html>\\n<html lang=\\\"en-us\\\">\\n<head>\\n<meta charset=\\\"utf-8\\\"/>\\n<title>Day 22 - Advent of Code 2022</title>\\n<!--[if lt IE 9]><script src=\\\"/static/html5.js\\\"></script><![endif]-->\\n<link href='//fonts.googleapis.com/css?family=Source+Code+Pro:300&subset=latin,latin-ext'\" ⋯ 3422 bytes ⋯ \"Name(o)[0];a.async=1;a.src=g;m.parentNode.insertBefore(a,m)\\n})(window,document,'script','//www.google-analytics.com/analytics.js','ga');\\nga('create', 'UA-69522494-1', 'auto');\\nga('set', 'anonymizeIp', true);\\nga('send', 'pageview');\\n</script>\\n<!-- /ga -->\\n</body>\\n</html>\""
      ]
     },
     "execution_count": 12,
     "metadata": {},
     "output_type": "execute_result"
    }
   ],
   "source": [
    "submit_answer(year, day, part_one_ans)"
   ]
  },
  {
   "cell_type": "code",
   "execution_count": 13,
   "metadata": {},
   "outputs": [
    {
     "data": {
      "text/plain": [
       "part_two (generic function with 1 method)"
      ]
     },
     "execution_count": 13,
     "metadata": {},
     "output_type": "execute_result"
    }
   ],
   "source": [
    "function part_two(input)\n",
    "    sz = 50\n",
    "    mp = map(collect, input[1:end-2])\n",
    "    w = maximum(length(row) for row in mp)\n",
    "    h = length(mp)\n",
    "    for i in 1:h\n",
    "        append!(mp[i], fill(' ', w - length(mp[i])))\n",
    "    end\n",
    "\n",
    "    cells = [(i, j, mp[i][j]) for i in 1:h for j in 1:w if mp[i][j] != ' ']\n",
    "    nxt = Dict{Pair{Tuple{Int, Int}, Int}, Pair{Tuple{Int, Int}, Int}}()\n",
    "\n",
    "    # My cube\n",
    "    #   1 2\n",
    "    #   3\n",
    "    # 5 4\n",
    "    # 6\n",
    "\n",
    "    # Hard-coded\n",
    "    # Face 1\n",
    "    for i in 1:sz\n",
    "        for j in sz+1:2sz\n",
    "            # Right\n",
    "            nxt[(i, j) => 1] = (i, j + 1) => 1\n",
    "            \n",
    "            # Down\n",
    "            nxt[(i, j) => 2] = (i + 1, j) => 2\n",
    "            \n",
    "            # Left\n",
    "            if j > sz + 1\n",
    "                nxt[(i, j) => 3] = (i, j - 1) => 3\n",
    "            else\n",
    "                # Go to Face 5\n",
    "                nxt[(i, j) => 3] = (3sz + 1 - i, 1) => 1\n",
    "            end\n",
    "\n",
    "            # Up\n",
    "            if i > 1\n",
    "                nxt[(i, j) => 4] = (i - 1, j) => 4\n",
    "            else\n",
    "                # Go to Face 6\n",
    "                nxt[(i, j) => 4] = (2sz + j, 1) => 1\n",
    "            end\n",
    "        end\n",
    "    end\n",
    "\n",
    "    # Face 2\n",
    "    for i in 1:sz\n",
    "        for j in 2sz+1:3sz\n",
    "            # Right\n",
    "            if j < 3sz\n",
    "                nxt[(i, j) => 1] = (i, j + 1) => 1\n",
    "            else\n",
    "                nxt[(i, j) => 1] = (3sz + 1 - i, 2sz) => 3\n",
    "            end\n",
    "            \n",
    "            # Down\n",
    "            if i < sz\n",
    "                nxt[(i, j) => 2] = (i + 1, j) => 2\n",
    "            else\n",
    "                nxt[(i, j) => 2] = (j - sz, 2sz) => 3\n",
    "            end\n",
    "            \n",
    "            # Left\n",
    "            nxt[(i, j) => 3] = (i, j - 1) => 3\n",
    "\n",
    "            # Up\n",
    "            if i > 1\n",
    "                nxt[(i, j) => 4] = (i - 1, j) => 4\n",
    "            else\n",
    "                nxt[(i, j) => 4] = (4sz, j - 2sz) => 4\n",
    "            end\n",
    "        end\n",
    "    end\n",
    "\n",
    "    # Face 3\n",
    "    for i in sz+1:2sz\n",
    "        for j in sz+1:2sz\n",
    "            # Right\n",
    "            if j < 2sz\n",
    "                nxt[(i, j) => 1] = (i, j + 1) => 1\n",
    "            else\n",
    "                nxt[(i, j) => 1] = (sz, i + sz) => 4\n",
    "            end\n",
    "            \n",
    "            # Down\n",
    "            nxt[(i, j) => 2] = (i + 1, j) => 2\n",
    "            \n",
    "            # Left\n",
    "            if j > sz + 1\n",
    "                nxt[(i, j) => 3] = (i, j - 1) => 3\n",
    "            else\n",
    "                nxt[(i, j) => 3] = (2sz + 1, i - sz) => 2\n",
    "            end\n",
    "\n",
    "            # Up\n",
    "            nxt[(i, j) => 4] = (i - 1, j) => 4\n",
    "        end\n",
    "    end\n",
    "\n",
    "    # Face 4\n",
    "    for i in 2sz+1:3sz\n",
    "        for j in sz+1:2sz\n",
    "            # Right\n",
    "            if j < 2sz\n",
    "                nxt[(i, j) => 1] = (i, j + 1) => 1\n",
    "            else\n",
    "                nxt[(i, j) => 1] = (3sz + 1 - i, 3sz) => 3\n",
    "            end\n",
    "            \n",
    "            # Down\n",
    "            if i < 3sz\n",
    "                nxt[(i, j) => 2] = (i + 1, j) => 2\n",
    "            else\n",
    "                nxt[(i, j) => 2] = (2sz + j, sz) => 3\n",
    "            end\n",
    "            \n",
    "            # Left\n",
    "            nxt[(i, j) => 3] = (i, j - 1) => 3\n",
    "\n",
    "            # Up\n",
    "            nxt[(i, j) => 4] = (i - 1, j) => 4\n",
    "        end\n",
    "    end\n",
    "\n",
    "    # Face 5\n",
    "    for i in 2sz+1:3sz\n",
    "        for j in 1:sz\n",
    "            # Right\n",
    "            nxt[(i, j) => 1] = (i, j + 1) => 1\n",
    "            \n",
    "            # Down\n",
    "            nxt[(i, j) => 2] = (i + 1, j) => 2\n",
    "            \n",
    "            # Left\n",
    "            if j > 1\n",
    "                nxt[(i, j) => 3] = (i, j - 1) => 3\n",
    "            else\n",
    "                nxt[(i, j) => 3] = (3sz + 1 - i, sz + 1) => 1\n",
    "            end\n",
    "\n",
    "            # Up\n",
    "            if i > 2sz + 1\n",
    "                nxt[(i, j) => 4] = (i - 1, j) => 4\n",
    "            else\n",
    "                nxt[(i, j) => 4] = (sz + j, sz + 1) => 1\n",
    "            end\n",
    "        end\n",
    "    end\n",
    "\n",
    "    # Face 6\n",
    "    for i in 3sz+1:4sz\n",
    "        for j in 1:sz\n",
    "            # Right\n",
    "            if j < sz\n",
    "                nxt[(i, j) => 1] = (i, j + 1) => 1\n",
    "            else\n",
    "                nxt[(i, j) => 1] = (3sz, i - 2sz) => 4\n",
    "            end\n",
    "            \n",
    "            # Down\n",
    "            if i < 4sz\n",
    "                nxt[(i, j) => 2] = (i + 1, j) => 2\n",
    "            else\n",
    "                nxt[(i, j) => 2] = (1, j + 2sz) => 2\n",
    "            end\n",
    "            \n",
    "            # Left\n",
    "            if j > 1\n",
    "                nxt[(i, j) => 3] = (i, j - 1) => 3\n",
    "            else\n",
    "                nxt[(i, j) => 3] = (1, i - 2sz) => 2\n",
    "            end\n",
    "\n",
    "            # Up\n",
    "            nxt[(i, j) => 4] = (i - 1, j) => 4\n",
    "        end\n",
    "    end\n",
    "\n",
    "    steps = input[end]\n",
    "    nums = parse.(Int, map(x -> x.match, eachmatch(r\"\\d+\", steps) |> collect))\n",
    "    dirs = map(x -> x.match[1], eachmatch(r\"[A-Z]\", steps) |> collect)\n",
    "    \n",
    "    r = 1\n",
    "    c = findfirst((==)('.'), mp[1])\n",
    "    d = 1\n",
    "\n",
    "    for (i, num) in enumerate(nums)\n",
    "        for i in 1:num\n",
    "            nn = nxt[(r, c) => d]\n",
    "            nr, nc = nn.first\n",
    "            nd = nn.second\n",
    "            if mp[nr][nc] == '#'\n",
    "                break\n",
    "            end\n",
    "\n",
    "            r, c, d = nr, nc, nd\n",
    "        end\n",
    "\n",
    "        if i <= length(dirs)\n",
    "            if dirs[i] == 'L'\n",
    "                d -= 1\n",
    "                if d < 1\n",
    "                    d = 4\n",
    "                end\n",
    "            else\n",
    "                d += 1\n",
    "                if d > 4\n",
    "                    d = 1\n",
    "                end\n",
    "            end\n",
    "        end\n",
    "    end\n",
    "\n",
    "    r * 1000 + c * 4 + d - 1\n",
    "end"
   ]
  },
  {
   "cell_type": "code",
   "execution_count": 14,
   "metadata": {},
   "outputs": [
    {
     "data": {
      "text/plain": [
       "55364"
      ]
     },
     "execution_count": 14,
     "metadata": {},
     "output_type": "execute_result"
    }
   ],
   "source": [
    "part_two_ans = part_two(parsed_input)"
   ]
  },
  {
   "cell_type": "code",
   "execution_count": 15,
   "metadata": {},
   "outputs": [
    {
     "data": {
      "text/plain": [
       "\"<!DOCTYPE html>\\n<html lang=\\\"en-us\\\">\\n<head>\\n<meta charset=\\\"utf-8\\\"/>\\n<title>Day 22 - Advent of Code 2022</title>\\n<!--[if lt IE 9]><script src=\\\"/static/html5.js\\\"></script><![endif]-->\\n<link href='//fonts.googleapis.com/css?family=Source+Code+Pro:300&subset=latin,latin-ext'\" ⋯ 3346 bytes ⋯ \"Name(o)[0];a.async=1;a.src=g;m.parentNode.insertBefore(a,m)\\n})(window,document,'script','//www.google-analytics.com/analytics.js','ga');\\nga('create', 'UA-69522494-1', 'auto');\\nga('set', 'anonymizeIp', true);\\nga('send', 'pageview');\\n</script>\\n<!-- /ga -->\\n</body>\\n</html>\""
      ]
     },
     "execution_count": 15,
     "metadata": {},
     "output_type": "execute_result"
    }
   ],
   "source": [
    "submit_answer(year, day, part_two_ans, 2)"
   ]
  }
 ],
 "metadata": {
  "kernelspec": {
   "display_name": "Julia 1.8.0",
   "language": "julia",
   "name": "julia-1.8"
  },
  "language_info": {
   "file_extension": ".jl",
   "mimetype": "application/julia",
   "name": "julia",
   "version": "1.8.3"
  },
  "orig_nbformat": 4,
  "vscode": {
   "interpreter": {
    "hash": "2decbbcdbe1b404b08c0c2ae8935a58886fd60ea7dad56cfc87e2a14f377e9ba"
   }
  }
 },
 "nbformat": 4,
 "nbformat_minor": 2
}
