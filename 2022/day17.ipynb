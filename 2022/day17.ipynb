{
 "cells": [
  {
   "cell_type": "code",
   "execution_count": 1,
   "metadata": {},
   "outputs": [
    {
     "name": "stderr",
     "output_type": "stream",
     "text": [
      "\u001b[32m\u001b[1m  Activating\u001b[22m\u001b[39m project at `~/com.github/lucifer1004/AdventOfCode.jl`\n"
     ]
    }
   ],
   "source": [
    "import Pkg; Pkg.activate(\"..\")"
   ]
  },
  {
   "cell_type": "code",
   "execution_count": 2,
   "metadata": {},
   "outputs": [
    {
     "name": "stderr",
     "output_type": "stream",
     "text": [
      "┌ Info: Precompiling AdventOfCode [ec480b64-8d68-453c-9e84-9dbf6ce847d6]\n",
      "└ @ Base loading.jl:1664\n"
     ]
    }
   ],
   "source": [
    "using AdventOfCode"
   ]
  },
  {
   "cell_type": "code",
   "execution_count": 3,
   "metadata": {},
   "outputs": [
    {
     "data": {
      "text/plain": [
       "17"
      ]
     },
     "execution_count": 3,
     "metadata": {},
     "output_type": "execute_result"
    }
   ],
   "source": [
    "year = 2022\n",
    "day = 17"
   ]
  },
  {
   "cell_type": "code",
   "execution_count": 4,
   "metadata": {},
   "outputs": [
    {
     "data": {
      "text/plain": [
       "\">>><>><<<<><<<>>><><<<<>>>><<<><>><>>><<<><<>>><<<><<><>>><<<><<<<><>>>><<<<>><<>>>><<<>><<<<>>><<<>>>><<<<>>>><<<><>>>><>>><><<>>><<<<>><<>>>><<><<>><<<<><<<><<<>><<>>><<<>>>><<<<><<<>><<><<<>><>>><<>>><<<<>>><><<<<>><<<<>><>>>><><>>><<<<><<>>><<<<>><<<<>>>><<<>><<>><<\" ⋯ 9551 bytes ⋯ \"><><<>>>><>>>><<<<><<<><><<>><<<>><<><<<>><<><<>><<<<>>>><<<>><<<<>>><<<<>>>><<<>><<<><<<>>>><<<>>>><><><<><><>>><<<>>>><>>><<<>>><<<<>>><><<<>>>><>><>>><<><<><<>>>><<<<>>><<<<>>>><><><<>><<<<>>><<<<>>><<<<><<<>><<<>>><<<<>>><<>><<>>><<<<>><<<><<<<><<<>>><<>>><<<>>><>><\""
      ]
     },
     "execution_count": 4,
     "metadata": {},
     "output_type": "execute_result"
    }
   ],
   "source": [
    "input = get_input(year, day)"
   ]
  },
  {
   "cell_type": "code",
   "execution_count": 5,
   "metadata": {},
   "outputs": [
    {
     "data": {
      "text/plain": [
       "\">>><<><>><<<>><>>><<<>>><<<><<<>><>><<>>\""
      ]
     },
     "execution_count": 5,
     "metadata": {},
     "output_type": "execute_result"
    }
   ],
   "source": [
    "sample = \"\"\">>><<><>><<<>><>>><<<>>><<<><<<>><>><<>>\"\"\""
   ]
  },
  {
   "cell_type": "code",
   "execution_count": 6,
   "metadata": {},
   "outputs": [
    {
     "data": {
      "text/plain": [
       "5-element Vector{Vector{Tuple{Int64, Int64}}}:\n",
       " [(1, 1), (2, 1), (3, 1), (4, 1)]\n",
       " [(2, 3), (1, 2), (2, 2), (3, 2), (2, 1)]\n",
       " [(3, 3), (3, 2), (1, 1), (2, 1), (3, 1)]\n",
       " [(1, 4), (1, 3), (1, 2), (1, 1)]\n",
       " [(1, 2), (2, 2), (1, 1), (2, 1)]"
      ]
     },
     "execution_count": 6,
     "metadata": {},
     "output_type": "execute_result"
    }
   ],
   "source": [
    "shapes = [\n",
    "    [(1, 1), (2, 1), (3, 1), (4, 1)],\n",
    "    [(2, 3), (1, 2), (2, 2), (3, 2), (2, 1)],\n",
    "    [(3, 3), (3, 2), (1, 1), (2, 1), (3, 1)],\n",
    "    [(1, 4), (1, 3), (1, 2), (1, 1)],\n",
    "    [(1, 2), (2, 2), (1, 1), (2, 1)],\n",
    "]"
   ]
  },
  {
   "cell_type": "code",
   "execution_count": 7,
   "metadata": {},
   "outputs": [
    {
     "data": {
      "text/plain": [
       "solve (generic function with 1 method)"
      ]
     },
     "execution_count": 7,
     "metadata": {},
     "output_type": "execute_result"
    }
   ],
   "source": [
    "function solve(input, N)\n",
    "    taken = Set{Tuple{Int,Int}}()\n",
    "    hi = 0\n",
    "\n",
    "    function isvalid(shape)\n",
    "        for (x, y) in shape\n",
    "            if (x, y) in taken || x < 1 || x > 7 || y < 1\n",
    "                return false\n",
    "            end\n",
    "        end\n",
    "        return true\n",
    "    end\n",
    "\n",
    "    ptr = 1\n",
    "    Ncal = min(N, 20000)\n",
    "    delta = Int[]\n",
    "    ptr = 1\n",
    "    for i in 1:Ncal\n",
    "        shape = map(shapes[(i-1)%5+1]) do (x, y)\n",
    "            (x + 2, y + hi + 3)\n",
    "        end\n",
    "\n",
    "        while true\n",
    "            if input[ptr] == '>'\n",
    "                nxt_shape = map(shape) do (x, y)\n",
    "                    (x + 1, y)\n",
    "                end\n",
    "            else\n",
    "                nxt_shape = map(shape) do (x, y)\n",
    "                    (x - 1, y)\n",
    "                end\n",
    "            end\n",
    "\n",
    "            ptr += 1\n",
    "            if ptr > length(input)\n",
    "                ptr = 1\n",
    "            end\n",
    "            if isvalid(nxt_shape)\n",
    "                shape = nxt_shape\n",
    "            end\n",
    "\n",
    "            nxt_shape = map(shape) do (x, y)\n",
    "                (x, y - 1)\n",
    "            end\n",
    "\n",
    "            if isvalid(nxt_shape)\n",
    "                shape = nxt_shape\n",
    "            else\n",
    "                newhi = hi\n",
    "                for (x, y) in shape\n",
    "                    push!(taken, (x, y))\n",
    "                    newhi = max(newhi, y)\n",
    "                end\n",
    "                push!(delta, newhi - hi)\n",
    "                hi = newhi\n",
    "                break\n",
    "            end\n",
    "        end\n",
    "    end\n",
    "\n",
    "    if Ncal < N\n",
    "        loop_len = 0\n",
    "        for len in 100:5000\n",
    "            if delta[end-len+1:end] == delta[end-2len+1:end-len]\n",
    "                loop_len = len\n",
    "                break\n",
    "            end\n",
    "        end\n",
    "\n",
    "        loop_sum = sum(delta[end-loop_len+1:end])\n",
    "        Nrem = N - Ncal\n",
    "        loops = Nrem ÷ loop_len\n",
    "        hi += loop_sum * loops\n",
    "        rem = Nrem % loop_len\n",
    "        hi += sum(delta[end-loop_len+1:end-loop_len+rem])\n",
    "    end\n",
    "\n",
    "    return hi\n",
    "end"
   ]
  },
  {
   "cell_type": "code",
   "execution_count": 8,
   "metadata": {},
   "outputs": [
    {
     "data": {
      "text/plain": [
       "part_one (generic function with 1 method)"
      ]
     },
     "execution_count": 8,
     "metadata": {},
     "output_type": "execute_result"
    }
   ],
   "source": [
    "part_one(input) = solve(input, 2022)"
   ]
  },
  {
   "cell_type": "code",
   "execution_count": 9,
   "metadata": {},
   "outputs": [
    {
     "data": {
      "text/plain": [
       "3068"
      ]
     },
     "execution_count": 9,
     "metadata": {},
     "output_type": "execute_result"
    }
   ],
   "source": [
    "part_one(sample)"
   ]
  },
  {
   "cell_type": "code",
   "execution_count": 10,
   "metadata": {},
   "outputs": [
    {
     "data": {
      "text/plain": [
       "3127"
      ]
     },
     "execution_count": 10,
     "metadata": {},
     "output_type": "execute_result"
    }
   ],
   "source": [
    "part_one_ans = part_one(input)"
   ]
  },
  {
   "cell_type": "code",
   "execution_count": 11,
   "metadata": {},
   "outputs": [
    {
     "data": {
      "text/plain": [
       "\"<!DOCTYPE html>\\n<html lang=\\\"en-us\\\">\\n<head>\\n<meta charset=\\\"utf-8\\\"/>\\n<title>Day 17 - Advent of Code 2022</title>\\n<!--[if lt IE 9]><script src=\\\"/static/html5.js\\\"></script><![endif]-->\\n<link href='//fonts.googleapis.com/css?family=Source+Code+Pro:300&subset=latin,latin-ext'\" ⋯ 3353 bytes ⋯ \"Name(o)[0];a.async=1;a.src=g;m.parentNode.insertBefore(a,m)\\n})(window,document,'script','//www.google-analytics.com/analytics.js','ga');\\nga('create', 'UA-69522494-1', 'auto');\\nga('set', 'anonymizeIp', true);\\nga('send', 'pageview');\\n</script>\\n<!-- /ga -->\\n</body>\\n</html>\""
      ]
     },
     "execution_count": 11,
     "metadata": {},
     "output_type": "execute_result"
    }
   ],
   "source": [
    "submit_answer(year, day, part_one_ans)"
   ]
  },
  {
   "cell_type": "code",
   "execution_count": 12,
   "metadata": {},
   "outputs": [
    {
     "data": {
      "text/plain": [
       "part_two (generic function with 1 method)"
      ]
     },
     "execution_count": 12,
     "metadata": {},
     "output_type": "execute_result"
    }
   ],
   "source": [
    "part_two(input) = solve(input, 1000000000000)"
   ]
  },
  {
   "cell_type": "code",
   "execution_count": 13,
   "metadata": {},
   "outputs": [
    {
     "data": {
      "text/plain": [
       "1514285714288"
      ]
     },
     "execution_count": 13,
     "metadata": {},
     "output_type": "execute_result"
    }
   ],
   "source": [
    "part_two(sample)"
   ]
  },
  {
   "cell_type": "code",
   "execution_count": 14,
   "metadata": {},
   "outputs": [
    {
     "data": {
      "text/plain": [
       "1542941176480"
      ]
     },
     "execution_count": 14,
     "metadata": {},
     "output_type": "execute_result"
    }
   ],
   "source": [
    "part_two_ans = part_two(input)"
   ]
  },
  {
   "cell_type": "code",
   "execution_count": 15,
   "metadata": {},
   "outputs": [
    {
     "data": {
      "text/plain": [
       "\"<!DOCTYPE html>\\n<html lang=\\\"en-us\\\">\\n<head>\\n<meta charset=\\\"utf-8\\\"/>\\n<title>Day 17 - Advent of Code 2022</title>\\n<!--[if lt IE 9]><script src=\\\"/static/html5.js\\\"></script><![endif]-->\\n<link href='//fonts.googleapis.com/css?family=Source+Code+Pro:300&subset=latin,latin-ext'\" ⋯ 3395 bytes ⋯ \"Name(o)[0];a.async=1;a.src=g;m.parentNode.insertBefore(a,m)\\n})(window,document,'script','//www.google-analytics.com/analytics.js','ga');\\nga('create', 'UA-69522494-1', 'auto');\\nga('set', 'anonymizeIp', true);\\nga('send', 'pageview');\\n</script>\\n<!-- /ga -->\\n</body>\\n</html>\""
      ]
     },
     "execution_count": 15,
     "metadata": {},
     "output_type": "execute_result"
    }
   ],
   "source": [
    "submit_answer(year, day, part_two_ans, 2)"
   ]
  }
 ],
 "metadata": {
  "kernelspec": {
   "display_name": "Julia 1.8.0",
   "language": "julia",
   "name": "julia-1.8"
  },
  "language_info": {
   "file_extension": ".jl",
   "mimetype": "application/julia",
   "name": "julia",
   "version": "1.8.3"
  },
  "vscode": {
   "interpreter": {
    "hash": "2decbbcdbe1b404b08c0c2ae8935a58886fd60ea7dad56cfc87e2a14f377e9ba"
   }
  }
 },
 "nbformat": 4,
 "nbformat_minor": 4
}
