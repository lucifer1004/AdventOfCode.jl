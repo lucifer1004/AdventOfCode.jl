{
 "cells": [
  {
   "cell_type": "code",
   "execution_count": 1,
   "metadata": {},
   "outputs": [
    {
     "name": "stderr",
     "output_type": "stream",
     "text": [
      "\u001b[32m\u001b[1m  Activating\u001b[22m\u001b[39m project at `~/com.github/lucifer1004/AdventOfCode.jl`\n"
     ]
    }
   ],
   "source": [
    "import Pkg; Pkg.activate(\"..\")"
   ]
  },
  {
   "cell_type": "code",
   "execution_count": 2,
   "metadata": {},
   "outputs": [],
   "source": [
    "using AdventOfCode"
   ]
  },
  {
   "cell_type": "code",
   "execution_count": 3,
   "metadata": {},
   "outputs": [
    {
     "data": {
      "text/plain": [
       "19"
      ]
     },
     "metadata": {},
     "output_type": "display_data"
    }
   ],
   "source": [
    "year = 2022\n",
    "day = 19"
   ]
  },
  {
   "cell_type": "code",
   "execution_count": 4,
   "metadata": {},
   "outputs": [
    {
     "data": {
      "text/plain": [
       "\"Blueprint 1: Each ore robot costs 3 ore. Each clay robot costs 3 ore. Each obsidian robot costs 2 ore and 19 clay. Each geode robot costs 2 ore and 12 obsidian.\\nBlueprint 2: Each ore robot costs 3 ore. Each clay robot costs 3 ore. Each obsidian robot costs 3 ore and 19 \" ⋯ 4293 bytes ⋯ \" robot costs 3 ore. Each obsidian robot costs 3 ore and 8 clay. Each geode robot costs 2 ore and 12 obsidian.\\nBlueprint 30: Each ore robot costs 4 ore. Each clay robot costs 4 ore. Each obsidian robot costs 4 ore and 8 clay. Each geode robot costs 2 ore and 15 obsidian.\""
      ]
     },
     "metadata": {},
     "output_type": "display_data"
    }
   ],
   "source": [
    "input = get_input(year, day)"
   ]
  },
  {
   "cell_type": "code",
   "execution_count": 5,
   "metadata": {},
   "outputs": [
    {
     "data": {
      "text/plain": [
       "30-element Vector{SubString{String}}:\n",
       " \"Blueprint 1: Each ore robot cos\" ⋯ 98 bytes ⋯ \"ot costs 2 ore and 12 obsidian.\"\n",
       " \"Blueprint 2: Each ore robot cos\" ⋯ 97 bytes ⋯ \"bot costs 2 ore and 9 obsidian.\"\n",
       " \"Blueprint 3: Each ore robot cos\" ⋯ 98 bytes ⋯ \"ot costs 3 ore and 10 obsidian.\"\n",
       " \"Blueprint 4: Each ore robot cos\" ⋯ 98 bytes ⋯ \"ot costs 4 ore and 15 obsidian.\"\n",
       " \"Blueprint 5: Each ore robot cos\" ⋯ 98 bytes ⋯ \"ot costs 3 ore and 15 obsidian.\"\n",
       " \"Blueprint 6: Each ore robot cos\" ⋯ 97 bytes ⋯ \"ot costs 3 ore and 19 obsidian.\"\n",
       " \"Blueprint 7: Each ore robot cos\" ⋯ 97 bytes ⋯ \"ot costs 4 ore and 17 obsidian.\"\n",
       " \"Blueprint 8: Each ore robot cos\" ⋯ 98 bytes ⋯ \"ot costs 3 ore and 16 obsidian.\"\n",
       " \"Blueprint 9: Each ore robot cos\" ⋯ 97 bytes ⋯ \"bot costs 2 ore and 9 obsidian.\"\n",
       " \"Blueprint 10: Each ore robot co\" ⋯ 97 bytes ⋯ \"bot costs 3 ore and 7 obsidian.\"\n",
       " ⋮\n",
       " \"Blueprint 22: Each ore robot co\" ⋯ 99 bytes ⋯ \"ot costs 4 ore and 20 obsidian.\"\n",
       " \"Blueprint 23: Each ore robot co\" ⋯ 99 bytes ⋯ \"ot costs 3 ore and 10 obsidian.\"\n",
       " \"Blueprint 24: Each ore robot co\" ⋯ 97 bytes ⋯ \"bot costs 3 ore and 7 obsidian.\"\n",
       " \"Blueprint 25: Each ore robot co\" ⋯ 99 bytes ⋯ \"ot costs 3 ore and 19 obsidian.\"\n",
       " \"Blueprint 26: Each ore robot co\" ⋯ 99 bytes ⋯ \"ot costs 3 ore and 20 obsidian.\"\n",
       " \"Blueprint 27: Each ore robot co\" ⋯ 99 bytes ⋯ \"ot costs 4 ore and 11 obsidian.\"\n",
       " \"Blueprint 28: Each ore robot co\" ⋯ 98 bytes ⋯ \"bot costs 4 ore and 7 obsidian.\"\n",
       " \"Blueprint 29: Each ore robot co\" ⋯ 98 bytes ⋯ \"ot costs 2 ore and 12 obsidian.\"\n",
       " \"Blueprint 30: Each ore robot co\" ⋯ 98 bytes ⋯ \"ot costs 2 ore and 15 obsidian.\""
      ]
     },
     "metadata": {},
     "output_type": "display_data"
    }
   ],
   "source": [
    "parsed_input = parse_input(input)"
   ]
  },
  {
   "cell_type": "code",
   "execution_count": 6,
   "metadata": {},
   "outputs": [
    {
     "data": {
      "text/plain": [
       "\"Blueprint 1: Each ore robot costs 4 ore. Each clay robot costs 2 ore. Each obsidian robot costs 3 ore and 14 clay. Each geode robot costs 2 ore and 7 obsidian.\\nBlueprint 2: Each ore robot costs 2 ore. Each clay robot costs 3 ore. Each obsidian robot costs 3 ore and 8 clay. Each geode robot costs 3 ore and 12 obsidian.\""
      ]
     },
     "metadata": {},
     "output_type": "display_data"
    }
   ],
   "source": [
    "sample = \"\"\"Blueprint 1: Each ore robot costs 4 ore. Each clay robot costs 2 ore. Each obsidian robot costs 3 ore and 14 clay. Each geode robot costs 2 ore and 7 obsidian.\n",
    "Blueprint 2: Each ore robot costs 2 ore. Each clay robot costs 3 ore. Each obsidian robot costs 3 ore and 8 clay. Each geode robot costs 3 ore and 12 obsidian.\"\"\""
   ]
  },
  {
   "cell_type": "code",
   "execution_count": 7,
   "metadata": {},
   "outputs": [
    {
     "data": {
      "text/plain": [
       "2-element Vector{SubString{String}}:\n",
       " \"Blueprint 1: Each ore robot cos\" ⋯ 97 bytes ⋯ \"bot costs 2 ore and 7 obsidian.\"\n",
       " \"Blueprint 2: Each ore robot cos\" ⋯ 97 bytes ⋯ \"ot costs 3 ore and 12 obsidian.\""
      ]
     },
     "metadata": {},
     "output_type": "display_data"
    }
   ],
   "source": [
    "parsed_sample = parse_input(sample)"
   ]
  },
  {
   "cell_type": "code",
   "execution_count": 8,
   "metadata": {},
   "outputs": [
    {
     "data": {
      "text/plain": [
       "preprocess (generic function with 1 method)"
      ]
     },
     "metadata": {},
     "output_type": "display_data"
    }
   ],
   "source": [
    "function preprocess(input)\n",
    "    map(input) do line\n",
    "        parts = split(line, \"Each \")[2:5]\n",
    "        map(parts) do part\n",
    "            items = split(part, \" costs \")[2]\n",
    "            items = rstrip(items)\n",
    "            @assert items[end] == '.'\n",
    "            items = items[1:end-1]\n",
    "            items = split(items, \" and \")\n",
    "            items = map(items) do item\n",
    "                item = split(item, \" \")\n",
    "                @assert length(item) == 2\n",
    "                parse(Int, item[1])\n",
    "            end\n",
    "            tuple(items...)\n",
    "        end\n",
    "    end\n",
    "end"
   ]
  },
  {
   "cell_type": "code",
   "execution_count": 9,
   "metadata": {},
   "outputs": [
    {
     "data": {
      "text/plain": [
       "solve (generic function with 1 method)"
      ]
     },
     "metadata": {},
     "output_type": "display_data"
    }
   ],
   "source": [
    "function solve(bp, T, ORE, CLAY, OBSIDIAN, MAXORE, MAXCLAY, MAXOBSIDIAN)\n",
    "    # (ra, rb, rc, a, b, c, t)\n",
    "    dp = OffsetArray(fill(-1, 1:ORE, 0:CLAY, 0:OBSIDIAN, 0:MAXORE, 0:MAXCLAY, 0:MAXOBSIDIAN, 0:T), 1:ORE, 0:CLAY, 0:OBSIDIAN, 0:MAXORE, 0:MAXCLAY, 0:MAXOBSIDIAN, 0:T)\n",
    "    dp[1, 0, 0, 0, 0, 0, 0] = 0\n",
    "    for t in 0:T - 1\n",
    "        for ra in 1:ORE, rb in 0:CLAY, rc in 0:OBSIDIAN, a in 0:MAXORE, b in 0:MAXCLAY, c in 0:MAXOBSIDIAN\n",
    "            now = CartesianIndex(ra, rb, rc, a, b, c, t)\n",
    "            if dp[now] == -1\n",
    "                continue\n",
    "            end\n",
    "\n",
    "            if a >= bp[1][1] && ra < ORE\n",
    "                idx = CartesianIndex(ra+1, rb, rc, min(a - bp[1][1] + ra, MAXORE), min(b + rb, MAXCLAY), min(c + rc, MAXOBSIDIAN), t+1)\n",
    "                dp[idx] = max(dp[idx], dp[now])\n",
    "            end\n",
    "\n",
    "            if a >= bp[2][1] && rb < CLAY\n",
    "                idx = CartesianIndex(ra, rb + 1, rc, min(a - bp[2][1] + ra, MAXORE), min(b + rb, MAXCLAY), min(c + rc, MAXOBSIDIAN), t+1)\n",
    "                dp[idx] = max(dp[idx], dp[now])\n",
    "            end\n",
    "\n",
    "            if a >= bp[3][1] && b >= bp[3][2] && rc < OBSIDIAN\n",
    "                idx = CartesianIndex(ra, rb, rc + 1, min(a - bp[3][1] + ra, MAXORE), min(b - bp[3][2] + rb, MAXCLAY), min(c + rc, MAXOBSIDIAN), t+1)\n",
    "                dp[idx] = max(dp[idx], dp[now])\n",
    "            end\n",
    "\n",
    "            if a >= bp[4][1] && c >= bp[4][2]\n",
    "                idx = CartesianIndex(ra, rb, rc, min(a - bp[4][1] + ra, MAXORE), min(b + rb, MAXCLAY), min(c - bp[4][2] + rc, MAXOBSIDIAN), t+1)\n",
    "                dp[idx] = max(dp[idx], dp[now] + T - 1 - t)\n",
    "            end\n",
    "\n",
    "            idx =  CartesianIndex(ra, rb, rc, min(a + ra, MAXORE), min(b + rb, MAXCLAY), min(c + rc, MAXOBSIDIAN), t+1)\n",
    "            dp[idx] = max(dp[idx], dp[now])\n",
    "        end \n",
    "    end\n",
    "\n",
    "    return maximum(dp)\n",
    "end"
   ]
  },
  {
   "cell_type": "code",
   "execution_count": 10,
   "metadata": {},
   "outputs": [
    {
     "data": {
      "text/plain": [
       "part_one (generic function with 1 method)"
      ]
     },
     "metadata": {},
     "output_type": "display_data"
    }
   ],
   "source": [
    "function part_one(input)\n",
    "    bps = preprocess(input)\n",
    "    return sum(map(enumerate(bps)) do (i, bp)\n",
    "        T = 24\n",
    "        ORE = max(bp[1][1], bp[2][1], bp[3][1], bp[4][1])\n",
    "        CLAY = bp[3][2]\n",
    "        OBSIDIAN = bp[4][2]\n",
    "\n",
    "        MAXORE = 2 * ORE\n",
    "        MAXCLAY = 2 * CLAY\n",
    "        MAXOBSIDIAN = 2 * OBSIDIAN\n",
    "        i * solve(bp, T, ORE, CLAY, OBSIDIAN, MAXORE, MAXCLAY, MAXOBSIDIAN)\n",
    "    end)\n",
    "end"
   ]
  },
  {
   "cell_type": "code",
   "execution_count": 11,
   "metadata": {},
   "outputs": [
    {
     "data": {
      "text/plain": [
       "33"
      ]
     },
     "metadata": {},
     "output_type": "display_data"
    }
   ],
   "source": [
    "part_one(parsed_sample)"
   ]
  },
  {
   "cell_type": "code",
   "execution_count": 12,
   "metadata": {},
   "outputs": [
    {
     "data": {
      "text/plain": [
       "1589"
      ]
     },
     "metadata": {},
     "output_type": "display_data"
    }
   ],
   "source": [
    "part_one_ans = part_one(parsed_input)"
   ]
  },
  {
   "cell_type": "code",
   "execution_count": 13,
   "metadata": {},
   "outputs": [
    {
     "data": {
      "text/plain": [
       "\"<!DOCTYPE html>\\n<html lang=\\\"en-us\\\">\\n<head>\\n<meta charset=\\\"utf-8\\\"/>\\n<title>Day 19 - Advent of Code 2022</title>\\n<!--[if lt IE 9]><script src=\\\"/static/html5.js\\\"></script><![endif]-->\\n<link href='//fonts.googleapis.com/css?family=Source+Code+Pro:300&subset=latin,latin-ext'\" ⋯ 3336 bytes ⋯ \"Name(o)[0];a.async=1;a.src=g;m.parentNode.insertBefore(a,m)\\n})(window,document,'script','//www.google-analytics.com/analytics.js','ga');\\nga('create', 'UA-69522494-1', 'auto');\\nga('set', 'anonymizeIp', true);\\nga('send', 'pageview');\\n</script>\\n<!-- /ga -->\\n</body>\\n</html>\""
      ]
     },
     "metadata": {},
     "output_type": "display_data"
    }
   ],
   "source": [
    "submit_answer(year, day, part_one_ans)"
   ]
  },
  {
   "cell_type": "code",
   "execution_count": 14,
   "metadata": {},
   "outputs": [
    {
     "data": {
      "text/plain": [
       "part_two (generic function with 1 method)"
      ]
     },
     "metadata": {},
     "output_type": "display_data"
    }
   ],
   "source": [
    "function part_two(input)\n",
    "    bps = preprocess(input)\n",
    "    return prod(map(bps) do bp\n",
    "        T = 32\n",
    "        ORE = max(bp[1][1], bp[2][1], bp[3][1], bp[4][1])\n",
    "        CLAY = bp[3][2]\n",
    "        OBSIDIAN = bp[4][2]\n",
    "\n",
    "        MAXORE = 2 * ORE\n",
    "        MAXCLAY = 2 * CLAY\n",
    "        MAXOBSIDIAN = 2 * OBSIDIAN\n",
    "        solve(bp, T, ORE, CLAY, OBSIDIAN, MAXORE, MAXCLAY, MAXOBSIDIAN)\n",
    "    end)\n",
    "end"
   ]
  },
  {
   "cell_type": "code",
   "execution_count": 15,
   "metadata": {},
   "outputs": [
    {
     "data": {
      "text/plain": [
       "3472"
      ]
     },
     "metadata": {},
     "output_type": "display_data"
    }
   ],
   "source": [
    "part_two(parsed_sample)"
   ]
  },
  {
   "cell_type": "code",
   "execution_count": 16,
   "metadata": {},
   "outputs": [
    {
     "data": {
      "text/plain": [
       "29348"
      ]
     },
     "metadata": {},
     "output_type": "display_data"
    }
   ],
   "source": [
    "part_two_ans = part_two(parsed_input[1:3])"
   ]
  },
  {
   "cell_type": "code",
   "execution_count": 17,
   "metadata": {},
   "outputs": [
    {
     "data": {
      "text/plain": [
       "\"<!DOCTYPE html>\\n<html lang=\\\"en-us\\\">\\n<head>\\n<meta charset=\\\"utf-8\\\"/>\\n<title>Day 19 - Advent of Code 2022</title>\\n<!--[if lt IE 9]><script src=\\\"/static/html5.js\\\"></script><![endif]-->\\n<link href='//fonts.googleapis.com/css?family=Source+Code+Pro:300&subset=latin,latin-ext'\" ⋯ 3524 bytes ⋯ \"Name(o)[0];a.async=1;a.src=g;m.parentNode.insertBefore(a,m)\\n})(window,document,'script','//www.google-analytics.com/analytics.js','ga');\\nga('create', 'UA-69522494-1', 'auto');\\nga('set', 'anonymizeIp', true);\\nga('send', 'pageview');\\n</script>\\n<!-- /ga -->\\n</body>\\n</html>\""
      ]
     },
     "metadata": {},
     "output_type": "display_data"
    }
   ],
   "source": [
    "submit_answer(year, day, part_two_ans, 2)"
   ]
  }
 ],
 "metadata": {
  "kernelspec": {
   "display_name": "Julia 1.8.3",
   "language": "julia",
   "name": "julia-1.8"
  },
  "language_info": {
   "file_extension": ".jl",
   "mimetype": "application/julia",
   "name": "julia",
   "version": "1.8.3"
  },
  "vscode": {
   "interpreter": {
    "hash": "2decbbcdbe1b404b08c0c2ae8935a58886fd60ea7dad56cfc87e2a14f377e9ba"
   }
  }
 },
 "nbformat": 4,
 "nbformat_minor": 4
}
