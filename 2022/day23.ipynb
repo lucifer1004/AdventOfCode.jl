{
 "cells": [
  {
   "cell_type": "code",
   "execution_count": 1,
   "metadata": {},
   "outputs": [
    {
     "name": "stderr",
     "output_type": "stream",
     "text": [
      "\u001b[32m\u001b[1m  Activating\u001b[22m\u001b[39m project at `~/com.github/lucifer1004/AdventOfCode.jl`\n"
     ]
    }
   ],
   "source": [
    "import Pkg; Pkg.activate(\"..\")"
   ]
  },
  {
   "cell_type": "code",
   "execution_count": 2,
   "metadata": {},
   "outputs": [],
   "source": [
    "using AdventOfCode"
   ]
  },
  {
   "cell_type": "code",
   "execution_count": 3,
   "metadata": {},
   "outputs": [
    {
     "data": {
      "text/plain": [
       "23"
      ]
     },
     "execution_count": 3,
     "metadata": {},
     "output_type": "execute_result"
    }
   ],
   "source": [
    "year = 2022\n",
    "day = 23"
   ]
  },
  {
   "cell_type": "code",
   "execution_count": 4,
   "metadata": {},
   "outputs": [
    {
     "data": {
      "text/plain": [
       "\".#.###...###....##..####.#.###.####.#..##......#.####.###.###...#.####.##\\n.#...#.####.##.#.#.#####.#.#.....#...#.####.#..#.###.###....##.#.###.#...\\n.....#..#........###.##.......###..#.....#####......###.#.#.####..#...#.#\\n.##.##.#.####....###.#..###..#########..##....#.\" ⋯ 4861 bytes ⋯ \".##....##.##....####.##.#####...##..#........#..\\n...#####.#.####.#.#....#..##.#..#.#.##....###....#..#..#...##.#.##.##...#\\n#...##..#.####.####.##.##.###.##....#...#.####..##.#.......#..#.###..#..#\\n.##...#####..####..#.###.##..##.#.#...#....#.#..####..##...#.....#.##.##.\""
      ]
     },
     "execution_count": 4,
     "metadata": {},
     "output_type": "execute_result"
    }
   ],
   "source": [
    "input = get_input(year, day)"
   ]
  },
  {
   "cell_type": "code",
   "execution_count": 5,
   "metadata": {},
   "outputs": [
    {
     "data": {
      "text/plain": [
       "73-element Vector{SubString{String}}:\n",
       " \".#.###...###....##..####.#.###.####.#..##......#.####.###.###...#.####.##\"\n",
       " \".#...#.####.##.#.#.#####.#.#.....#...#.####.#..#.###.###....##.#.###.#...\"\n",
       " \".....#..#........###.##.......###..#.....#####......###.#.#.####..#...#.#\"\n",
       " \".##.##.#.####....###.#..###..#########..##....#..##..#.##.#....#.#.##.#.#\"\n",
       " \"..#..##...#.#..##.#...###.#.#..#...#....####.##.##...#.###.###...##..#.#.\"\n",
       " \"###.###....#.##.#...#.##.##.##..###.#.#..##...###.###...###.#.#..#.######\"\n",
       " \".#.#####..#.####.###..##.#.#.#.#.#.#...##.####.#..#.#####.#..#....#.#..#.\"\n",
       " \"..######.##.#.##.###..#.#.#.#.##..###.######..#.......######.#.##.##..#.#\"\n",
       " \"#####......#.......######.#####.###..###......#..#..###.....#.#####......\"\n",
       " \"##...#.#..###.#######.###.##########...#...#.##.#..#..##.#...#.##....##..\"\n",
       " \"####.#...######....##..#.###.#...#.#.#..########...#..#######.####.#.#.##\"\n",
       " \"#....###..#.##..###.....#.#####...#.##....###..##.#..##..#....###......#.\"\n",
       " \"##.#..#.##.#.####...#.....##.##.#.#.######.#.###.....##..#......#..##.#..\"\n",
       " ⋮\n",
       " \"......###.##########..###.##..#...#....#....#.####....##.#.#.##.##......#\"\n",
       " \"#.#.####..#.#..##..##......##..#####..##.#.#.###........#.#..#.#####.#.#.\"\n",
       " \"#...###..#...##..#.#.##..#.#..#..#.##..#.#...#####..#.#.###.##.#..##.#.#.\"\n",
       " \"..#.###.###..###..#.#.#.##.###.#####......#.###...##.#.##.###.##.##.#####\"\n",
       " \"....###..##.#.##....#..###.#.##.###.#....#.##...#...####.#.#..##..##.#.#.\"\n",
       " \"#..#.###.###.######.#.##.#..#.#.#...#..#........##..#...##.###.#.##.#...#\"\n",
       " \"####...###...#.###.#..#.#.#..#.#..##....#.##.#..#.##.#..#.###.#.##.####..\"\n",
       " \".#####....##.#..##.....##.#..#......#..##..#.....#..#.###.#.#.###...###.#\"\n",
       " \".#........#.....###.####..##....##.##....####.##.#####...##..#........#..\"\n",
       " \"...#####.#.####.#.#....#..##.#..#.#.##....###....#..#..#...##.#.##.##...#\"\n",
       " \"#...##..#.####.####.##.##.###.##....#...#.####..##.#.......#..#.###..#..#\"\n",
       " \".##...#####..####..#.###.##..##.#.#...#....#.#..####..##...#.....#.##.##.\""
      ]
     },
     "execution_count": 5,
     "metadata": {},
     "output_type": "execute_result"
    }
   ],
   "source": [
    "parsed_input = parse_input(input)"
   ]
  },
  {
   "cell_type": "code",
   "execution_count": 6,
   "metadata": {},
   "outputs": [
    {
     "data": {
      "text/plain": [
       "\"....#..\\n..###.#\\n#...#.#\\n.#...##\\n#.###..\\n##.#.##\\n.#..#..\""
      ]
     },
     "execution_count": 6,
     "metadata": {},
     "output_type": "execute_result"
    }
   ],
   "source": [
    "sample = \"\"\"....#..\n",
    "..###.#\n",
    "#...#.#\n",
    ".#...##\n",
    "#.###..\n",
    "##.#.##\n",
    ".#..#..\"\"\""
   ]
  },
  {
   "cell_type": "code",
   "execution_count": 7,
   "metadata": {},
   "outputs": [
    {
     "data": {
      "text/plain": [
       "7-element Vector{SubString{String}}:\n",
       " \"....#..\"\n",
       " \"..###.#\"\n",
       " \"#...#.#\"\n",
       " \".#...##\"\n",
       " \"#.###..\"\n",
       " \"##.#.##\"\n",
       " \".#..#..\""
      ]
     },
     "execution_count": 7,
     "metadata": {},
     "output_type": "execute_result"
    }
   ],
   "source": [
    "parsed_sample = parse_input(sample)"
   ]
  },
  {
   "cell_type": "code",
   "execution_count": 8,
   "metadata": {},
   "outputs": [
    {
     "data": {
      "text/plain": [
       "Dict{String, Tuple{Int64, Int64}} with 8 entries:\n",
       "  \"S\"  => (1, 0)\n",
       "  \"W\"  => (0, -1)\n",
       "  \"N\"  => (-1, 0)\n",
       "  \"SE\" => (1, 1)\n",
       "  \"NW\" => (-1, -1)\n",
       "  \"E\"  => (0, 1)\n",
       "  \"NE\" => (-1, 1)\n",
       "  \"SW\" => (1, -1)"
      ]
     },
     "execution_count": 8,
     "metadata": {},
     "output_type": "execute_result"
    }
   ],
   "source": [
    "DIRS = Dict(\n",
    "    \"N\" => (-1, 0), \"S\" => (1, 0), \"E\" => (0, 1), \"W\" => (0, -1),\n",
    "    \"NE\" => (-1, 1), \"NW\" => (-1, -1), \"SE\" => (1, 1), \"SW\" => (1, -1),\n",
    ")"
   ]
  },
  {
   "cell_type": "code",
   "execution_count": 9,
   "metadata": {},
   "outputs": [
    {
     "data": {
      "text/plain": [
       "4-element Vector{Vector{String}}:\n",
       " [\"N\", \"NE\", \"NW\"]\n",
       " [\"S\", \"SE\", \"SW\"]\n",
       " [\"W\", \"NW\", \"SW\"]\n",
       " [\"E\", \"NE\", \"SE\"]"
      ]
     },
     "execution_count": 9,
     "metadata": {},
     "output_type": "execute_result"
    }
   ],
   "source": [
    "orders = [\n",
    "    [\"N\", \"NE\", \"NW\"],\n",
    "    [\"S\", \"SE\", \"SW\"],\n",
    "    [\"W\", \"NW\", \"SW\"],\n",
    "    [\"E\", \"NE\", \"SE\"],\n",
    "]"
   ]
  },
  {
   "cell_type": "code",
   "execution_count": 10,
   "metadata": {},
   "outputs": [
    {
     "data": {
      "text/plain": [
       "part_one (generic function with 1 method)"
      ]
     },
     "execution_count": 10,
     "metadata": {},
     "output_type": "execute_result"
    }
   ],
   "source": [
    "function part_one(input)\n",
    "    n = length(input)\n",
    "    m = length(input[1])\n",
    "    elves = Set([(i, j) for i in 1:n for j in 1:m if input[i][j] == '#'])\n",
    "    for i in 1:10\n",
    "        target = DefaultDict{Tuple{Int, Int}, Int}(0)\n",
    "        mapping = Dict()\n",
    "        for (ei, ej) in elves\n",
    "            has_neighbor = false\n",
    "            for dir in keys(DIRS)\n",
    "                di, dj = DIRS[dir]\n",
    "                ni, nj = ei + di, ej + dj\n",
    "                if (ni, nj) ∈ elves\n",
    "                    has_neighbor = true\n",
    "                    break\n",
    "                end\n",
    "            end\n",
    "\n",
    "            if !has_neighbor\n",
    "                continue\n",
    "            end\n",
    "\n",
    "            for k in 1:4\n",
    "                order = orders[(k + i - 2) % 4 + 1]\n",
    "                blocked = false\n",
    "                for dir in order\n",
    "                    di, dj = DIRS[dir]\n",
    "                    ni, nj = ei + di, ej + dj\n",
    "                    if (ni, nj) ∈ elves\n",
    "                        blocked = true\n",
    "                        break\n",
    "                    end\n",
    "                end\n",
    "\n",
    "                if !blocked\n",
    "                    di, dj = DIRS[order[1]]\n",
    "                    ni, nj = ei + di, ej + dj\n",
    "                    target[(ni, nj)] += 1\n",
    "                    mapping[(ei, ej)] = (ni, nj)\n",
    "                    break\n",
    "                end\n",
    "            end\n",
    "        end\n",
    "\n",
    "        new_elves = Set()\n",
    "        for (ei, ej) in elves\n",
    "            if !haskey(mapping, (ei, ej)) || target[mapping[(ei, ej)]] > 1\n",
    "                push!(new_elves, (ei, ej))\n",
    "            else\n",
    "                push!(new_elves, mapping[(ei, ej)])\n",
    "            end\n",
    "        end\n",
    "\n",
    "        elves = new_elves\n",
    "    end\n",
    "\n",
    "    r = [i for (i, j) in elves]\n",
    "    c = [j for (i, j) in elves]\n",
    "    rmin, rmax = extrema(r)\n",
    "    cmin, cmax = extrema(c)\n",
    "    return (rmax - rmin + 1) * (cmax - cmin + 1) - length(elves)\n",
    "end"
   ]
  },
  {
   "cell_type": "code",
   "execution_count": 11,
   "metadata": {},
   "outputs": [
    {
     "data": {
      "text/plain": [
       "110"
      ]
     },
     "execution_count": 11,
     "metadata": {},
     "output_type": "execute_result"
    }
   ],
   "source": [
    "part_one(parsed_sample)"
   ]
  },
  {
   "cell_type": "code",
   "execution_count": 12,
   "metadata": {},
   "outputs": [
    {
     "data": {
      "text/plain": [
       "4000"
      ]
     },
     "execution_count": 12,
     "metadata": {},
     "output_type": "execute_result"
    }
   ],
   "source": [
    "part_one_ans = part_one(parsed_input)"
   ]
  },
  {
   "cell_type": "code",
   "execution_count": 13,
   "metadata": {},
   "outputs": [
    {
     "data": {
      "text/plain": [
       "\"<!DOCTYPE html>\\n<html lang=\\\"en-us\\\">\\n<head>\\n<meta charset=\\\"utf-8\\\"/>\\n<title>Day 23 - Advent of Code 2022</title>\\n<!--[if lt IE 9]><script src=\\\"/static/html5.js\\\"></script><![endif]-->\\n<link href='//fonts.googleapis.com/css?family=Source+Code+Pro:300&subset=latin,latin-ext'\" ⋯ 3450 bytes ⋯ \"Name(o)[0];a.async=1;a.src=g;m.parentNode.insertBefore(a,m)\\n})(window,document,'script','//www.google-analytics.com/analytics.js','ga');\\nga('create', 'UA-69522494-1', 'auto');\\nga('set', 'anonymizeIp', true);\\nga('send', 'pageview');\\n</script>\\n<!-- /ga -->\\n</body>\\n</html>\""
      ]
     },
     "execution_count": 13,
     "metadata": {},
     "output_type": "execute_result"
    }
   ],
   "source": [
    "submit_answer(year, day, part_one_ans)"
   ]
  },
  {
   "cell_type": "code",
   "execution_count": 14,
   "metadata": {},
   "outputs": [
    {
     "data": {
      "text/plain": [
       "part_two (generic function with 1 method)"
      ]
     },
     "execution_count": 14,
     "metadata": {},
     "output_type": "execute_result"
    }
   ],
   "source": [
    "function part_two(input)\n",
    "    n = length(input)\n",
    "    m = length(input[1])\n",
    "    elves = Set([(i, j) for i in 1:n for j in 1:m if input[i][j] == '#'])\n",
    "    for i in 1:10000\n",
    "        target = DefaultDict{Tuple{Int, Int}, Int}(0)\n",
    "        mapping = Dict()\n",
    "        for (ei, ej) in elves\n",
    "            has_neighbor = false\n",
    "            for dir in keys(DIRS)\n",
    "                di, dj = DIRS[dir]\n",
    "                ni, nj = ei + di, ej + dj\n",
    "                if (ni, nj) ∈ elves\n",
    "                    has_neighbor = true\n",
    "                    break\n",
    "                end\n",
    "            end\n",
    "\n",
    "            if !has_neighbor\n",
    "                continue\n",
    "            end\n",
    "\n",
    "            for k in 1:4\n",
    "                order = orders[(k + i - 2) % 4 + 1]\n",
    "                blocked = false\n",
    "                for dir in order\n",
    "                    di, dj = DIRS[dir]\n",
    "                    ni, nj = ei + di, ej + dj\n",
    "                    if (ni, nj) ∈ elves\n",
    "                        blocked = true\n",
    "                        break\n",
    "                    end\n",
    "                end\n",
    "\n",
    "                if !blocked\n",
    "                    di, dj = DIRS[order[1]]\n",
    "                    ni, nj = ei + di, ej + dj\n",
    "                    target[(ni, nj)] += 1\n",
    "                    mapping[(ei, ej)] = (ni, nj)\n",
    "                    break\n",
    "                end\n",
    "            end\n",
    "        end\n",
    "\n",
    "        new_elves = Set()\n",
    "        for (ei, ej) in elves\n",
    "            if !haskey(mapping, (ei, ej)) || target[mapping[(ei, ej)]] > 1\n",
    "                push!(new_elves, (ei, ej))\n",
    "            else\n",
    "                push!(new_elves, mapping[(ei, ej)])\n",
    "            end\n",
    "        end\n",
    "\n",
    "        if sort(collect(elves)) == sort(collect(new_elves))\n",
    "            return i\n",
    "        end\n",
    "        elves = new_elves\n",
    "    end\n",
    "end"
   ]
  },
  {
   "cell_type": "code",
   "execution_count": 15,
   "metadata": {},
   "outputs": [
    {
     "data": {
      "text/plain": [
       "20"
      ]
     },
     "execution_count": 15,
     "metadata": {},
     "output_type": "execute_result"
    }
   ],
   "source": [
    "part_two(parsed_sample)"
   ]
  },
  {
   "cell_type": "code",
   "execution_count": 16,
   "metadata": {},
   "outputs": [
    {
     "data": {
      "text/plain": [
       "1040"
      ]
     },
     "execution_count": 16,
     "metadata": {},
     "output_type": "execute_result"
    }
   ],
   "source": [
    "part_two_ans = part_two(parsed_input)"
   ]
  },
  {
   "cell_type": "code",
   "execution_count": 17,
   "metadata": {},
   "outputs": [
    {
     "data": {
      "text/plain": [
       "\"<!DOCTYPE html>\\n<html lang=\\\"en-us\\\">\\n<head>\\n<meta charset=\\\"utf-8\\\"/>\\n<title>Day 23 - Advent of Code 2022</title>\\n<!--[if lt IE 9]><script src=\\\"/static/html5.js\\\"></script><![endif]-->\\n<link href='//fonts.googleapis.com/css?family=Source+Code+Pro:300&subset=latin,latin-ext'\" ⋯ 3360 bytes ⋯ \"Name(o)[0];a.async=1;a.src=g;m.parentNode.insertBefore(a,m)\\n})(window,document,'script','//www.google-analytics.com/analytics.js','ga');\\nga('create', 'UA-69522494-1', 'auto');\\nga('set', 'anonymizeIp', true);\\nga('send', 'pageview');\\n</script>\\n<!-- /ga -->\\n</body>\\n</html>\""
      ]
     },
     "execution_count": 17,
     "metadata": {},
     "output_type": "execute_result"
    }
   ],
   "source": [
    "submit_answer(year, day, part_two_ans, 2)"
   ]
  }
 ],
 "metadata": {
  "kernelspec": {
   "display_name": "Julia 1.8.0",
   "language": "julia",
   "name": "julia-1.8"
  },
  "language_info": {
   "file_extension": ".jl",
   "mimetype": "application/julia",
   "name": "julia",
   "version": "1.8.3"
  },
  "orig_nbformat": 4,
  "vscode": {
   "interpreter": {
    "hash": "2decbbcdbe1b404b08c0c2ae8935a58886fd60ea7dad56cfc87e2a14f377e9ba"
   }
  }
 },
 "nbformat": 4,
 "nbformat_minor": 2
}
