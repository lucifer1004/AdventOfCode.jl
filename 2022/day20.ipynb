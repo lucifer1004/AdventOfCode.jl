{
 "cells": [
  {
   "cell_type": "code",
   "execution_count": 1,
   "metadata": {},
   "outputs": [
    {
     "name": "stderr",
     "output_type": "stream",
     "text": [
      "\u001b[32m\u001b[1m  Activating\u001b[22m\u001b[39m project at `~/com.github/lucifer1004/AdventOfCode.jl`\n"
     ]
    }
   ],
   "source": [
    "import Pkg; Pkg.activate(\"..\")"
   ]
  },
  {
   "cell_type": "code",
   "execution_count": 2,
   "metadata": {},
   "outputs": [],
   "source": [
    "using AdventOfCode"
   ]
  },
  {
   "cell_type": "code",
   "execution_count": 3,
   "metadata": {},
   "outputs": [
    {
     "data": {
      "text/plain": [
       "20"
      ]
     },
     "execution_count": 3,
     "metadata": {},
     "output_type": "execute_result"
    }
   ],
   "source": [
    "year = 2022\n",
    "day = 20"
   ]
  },
  {
   "cell_type": "code",
   "execution_count": 4,
   "metadata": {},
   "outputs": [
    {
     "data": {
      "text/plain": [
       "\"-2750\\n6672\\n-6258\\n-8521\\n8272\\n-8258\\n486\\n-2851\\n-4587\\n5220\\n6798\\n2872\\n-9652\\n3769\\n-6480\\n8272\\n9987\\n-3267\\n-3983\\n-6734\\n-7334\\n-2410\\n4995\\n2014\\n9523\\n-5138\\n-9968\\n-5646\\n5146\\n-1162\\n687\\n-1340\\n-8011\\n-6178\\n-3428\\n8750\\n1391\\n-1976\\n9652\\n7477\\n-3264\\n-492\\n-9408\\n-2422\\n-5572\\n3849\\n-7556\\n-3679\\n-913\" ⋯ 26334 bytes ⋯ \"45\\n5011\\n-9062\\n5448\\n7204\\n-5063\\n-9017\\n-3197\\n4755\\n-2301\\n4752\\n7458\\n-4926\\n57\\n747\\n-2057\\n9782\\n-6026\\n7913\\n-2093\\n4388\\n-8523\\n-7224\\n-8241\\n3110\\n-3788\\n8780\\n5327\\n-6857\\n7563\\n7751\\n165\\n9532\\n-2356\\n-9256\\n9361\\n7012\\n4871\\n2614\\n5964\\n2786\\n-646\\n9858\\n-7470\\n-6434\\n600\\n-5025\\n2908\\n-8036\\n-2533\\n-3788\""
      ]
     },
     "execution_count": 4,
     "metadata": {},
     "output_type": "execute_result"
    }
   ],
   "source": [
    "input = get_input(year, day)"
   ]
  },
  {
   "cell_type": "code",
   "execution_count": 5,
   "metadata": {},
   "outputs": [
    {
     "data": {
      "text/plain": [
       "5000-element Vector{SubString{String}}:\n",
       " \"-2750\"\n",
       " \"6672\"\n",
       " \"-6258\"\n",
       " \"-8521\"\n",
       " \"8272\"\n",
       " \"-8258\"\n",
       " \"486\"\n",
       " \"-2851\"\n",
       " \"-4587\"\n",
       " \"5220\"\n",
       " \"6798\"\n",
       " \"2872\"\n",
       " \"-9652\"\n",
       " ⋮\n",
       " \"5964\"\n",
       " \"2786\"\n",
       " \"-646\"\n",
       " \"9858\"\n",
       " \"-7470\"\n",
       " \"-6434\"\n",
       " \"600\"\n",
       " \"-5025\"\n",
       " \"2908\"\n",
       " \"-8036\"\n",
       " \"-2533\"\n",
       " \"-3788\""
      ]
     },
     "execution_count": 5,
     "metadata": {},
     "output_type": "execute_result"
    }
   ],
   "source": [
    "parsed_input = parse_input(input)"
   ]
  },
  {
   "cell_type": "code",
   "execution_count": 6,
   "metadata": {},
   "outputs": [
    {
     "data": {
      "text/plain": [
       "\"1\\n2\\n-3\\n3\\n-2\\n0\\n4\""
      ]
     },
     "execution_count": 6,
     "metadata": {},
     "output_type": "execute_result"
    }
   ],
   "source": [
    "sample = \"\"\"1\n",
    "2\n",
    "-3\n",
    "3\n",
    "-2\n",
    "0\n",
    "4\"\"\""
   ]
  },
  {
   "cell_type": "code",
   "execution_count": 7,
   "metadata": {},
   "outputs": [
    {
     "data": {
      "text/plain": [
       "7-element Vector{SubString{String}}:\n",
       " \"1\"\n",
       " \"2\"\n",
       " \"-3\"\n",
       " \"3\"\n",
       " \"-2\"\n",
       " \"0\"\n",
       " \"4\""
      ]
     },
     "execution_count": 7,
     "metadata": {},
     "output_type": "execute_result"
    }
   ],
   "source": [
    "parsed_sample = parse_input(sample)"
   ]
  },
  {
   "cell_type": "code",
   "execution_count": 8,
   "metadata": {},
   "outputs": [],
   "source": [
    "mutable struct Node{T}\n",
    "    val::T\n",
    "    prev::Union{Base.RefValue{Node{T}},Nothing}\n",
    "    next::Union{Base.RefValue{Node{T}},Nothing}\n",
    "end"
   ]
  },
  {
   "cell_type": "code",
   "execution_count": 9,
   "metadata": {},
   "outputs": [],
   "source": [
    "function Base.show(io::IO, node::Node)\n",
    "    p = node\n",
    "    print(io, \"[\")\n",
    "    print(io, p.val)\n",
    "    if p.next[] != p\n",
    "        p = p.next[]\n",
    "        while p != node\n",
    "            print(io, \", \")\n",
    "            print(io, p.val)\n",
    "            p = p.next[]\n",
    "        end\n",
    "    end\n",
    "    print(io, \"]\")\n",
    "end"
   ]
  },
  {
   "cell_type": "code",
   "execution_count": 10,
   "metadata": {},
   "outputs": [
    {
     "data": {
      "text/plain": [
       "move_backward (generic function with 1 method)"
      ]
     },
     "execution_count": 10,
     "metadata": {},
     "output_type": "execute_result"
    }
   ],
   "source": [
    "function move_forward(u::Node)\n",
    "    u.prev[].next = u.next\n",
    "    u.next[].prev = u.prev\n",
    "    u.next = u.next[].next\n",
    "    u.prev = u.next[].prev\n",
    "    u.next[].prev = u.prev[].next = Ref(u)\n",
    "end\n",
    "\n",
    "function move_backward(u::Node)\n",
    "    u.prev[].next = u.next\n",
    "    u.next[].prev = u.prev\n",
    "    u.prev = u.prev[].prev\n",
    "    u.next = u.prev[].next\n",
    "    u.prev[].next = u.next[].prev = Ref(u)\n",
    "end"
   ]
  },
  {
   "cell_type": "code",
   "execution_count": 11,
   "metadata": {},
   "outputs": [
    {
     "data": {
      "text/plain": [
       "part_one (generic function with 1 method)"
      ]
     },
     "execution_count": 11,
     "metadata": {},
     "output_type": "execute_result"
    }
   ],
   "source": [
    "function part_one(input)\n",
    "    nums = collect(enumerate(parse.(Int, input)))\n",
    "    n = length(nums)\n",
    "    nodes = [Node(num, nothing, nothing) for num in nums]\n",
    "    for i in 1:n\n",
    "        nodes[i].prev = Ref(nodes[i == 1 ? n : i - 1])\n",
    "        nodes[i].next = Ref(nodes[i == n ? 1 : i + 1])\n",
    "    end\n",
    "\n",
    "    for num in nums\n",
    "        for j in 1:n\n",
    "            if nodes[j].val == num\n",
    "                if num[2] > 0\n",
    "                    for k in 1:num[2] % (n - 1)\n",
    "                        move_forward(nodes[j])\n",
    "                    end\n",
    "                elseif num[2] < 0\n",
    "                    for k in 1:(-num[2]) % (n - 1)\n",
    "                        move_backward(nodes[j])\n",
    "                    end\n",
    "                end\n",
    "\n",
    "                break\n",
    "            end\n",
    "        end\n",
    "    end\n",
    "\n",
    "    p = nodes[1]\n",
    "    while p.val[2] != 0\n",
    "        p = p.next[]\n",
    "    end\n",
    "\n",
    "    ans = 0\n",
    "    for k in 1:3\n",
    "        for j in 1:1000\n",
    "            p = p.next[]\n",
    "        end\n",
    "        ans += p.val[2]\n",
    "    end\n",
    "\n",
    "    ans\n",
    "end"
   ]
  },
  {
   "cell_type": "code",
   "execution_count": 12,
   "metadata": {},
   "outputs": [
    {
     "data": {
      "text/plain": [
       "3"
      ]
     },
     "execution_count": 12,
     "metadata": {},
     "output_type": "execute_result"
    }
   ],
   "source": [
    "part_one(parsed_sample)"
   ]
  },
  {
   "cell_type": "code",
   "execution_count": 13,
   "metadata": {},
   "outputs": [
    {
     "data": {
      "text/plain": [
       "9866"
      ]
     },
     "execution_count": 13,
     "metadata": {},
     "output_type": "execute_result"
    }
   ],
   "source": [
    "part_one_ans = part_one(parsed_input)"
   ]
  },
  {
   "cell_type": "code",
   "execution_count": 14,
   "metadata": {},
   "outputs": [
    {
     "data": {
      "text/plain": [
       "\"<!DOCTYPE html>\\n<html lang=\\\"en-us\\\">\\n<head>\\n<meta charset=\\\"utf-8\\\"/>\\n<title>Day 20 - Advent of Code 2022</title>\\n<!--[if lt IE 9]><script src=\\\"/static/html5.js\\\"></script><![endif]-->\\n<link href='//fonts.googleapis.com/css?family=Source+Code+Pro:300&subset=latin,latin-ext'\" ⋯ 3286 bytes ⋯ \"Name(o)[0];a.async=1;a.src=g;m.parentNode.insertBefore(a,m)\\n})(window,document,'script','//www.google-analytics.com/analytics.js','ga');\\nga('create', 'UA-69522494-1', 'auto');\\nga('set', 'anonymizeIp', true);\\nga('send', 'pageview');\\n</script>\\n<!-- /ga -->\\n</body>\\n</html>\""
      ]
     },
     "execution_count": 14,
     "metadata": {},
     "output_type": "execute_result"
    }
   ],
   "source": [
    "submit_answer(year, day, part_one_ans)"
   ]
  },
  {
   "cell_type": "code",
   "execution_count": 15,
   "metadata": {},
   "outputs": [
    {
     "data": {
      "text/plain": [
       "811589153"
      ]
     },
     "execution_count": 15,
     "metadata": {},
     "output_type": "execute_result"
    }
   ],
   "source": [
    "const special = 811589153"
   ]
  },
  {
   "cell_type": "code",
   "execution_count": 16,
   "metadata": {},
   "outputs": [
    {
     "data": {
      "text/plain": [
       "part_two (generic function with 1 method)"
      ]
     },
     "execution_count": 16,
     "metadata": {},
     "output_type": "execute_result"
    }
   ],
   "source": [
    "function part_two(input)\n",
    "    nums = collect(enumerate(parse.(Int, input)))\n",
    "    n = length(nums)\n",
    "    nodes = [Node(num, nothing, nothing) for num in nums]\n",
    "    for i in 1:n\n",
    "        nodes[i].prev = Ref(nodes[i == 1 ? n : i - 1])\n",
    "        nodes[i].next = Ref(nodes[i == n ? 1 : i + 1])\n",
    "    end\n",
    "\n",
    "    for _ in 1:10\n",
    "        for num in nums\n",
    "            for j in 1:n\n",
    "                if nodes[j].val == num\n",
    "                    if num[2] > 0\n",
    "                        for k in 1:num[2] * special % (n - 1)\n",
    "                            move_forward(nodes[j])\n",
    "                        end\n",
    "                    elseif num[2] < 0\n",
    "                        for k in 1:(-num[2]) * special % (n - 1)\n",
    "                            move_backward(nodes[j])\n",
    "                        end\n",
    "                    end\n",
    "\n",
    "                    break\n",
    "                end\n",
    "            end\n",
    "        end\n",
    "    end\n",
    "\n",
    "    p = nodes[1]\n",
    "    while p.val[2] != 0\n",
    "        p = p.next[]\n",
    "    end\n",
    "\n",
    "    ans = 0\n",
    "    for k in 1:3\n",
    "        for j in 1:1000\n",
    "            p = p.next[]\n",
    "        end\n",
    "        ans += p.val[2]\n",
    "    end\n",
    "\n",
    "    ans * special\n",
    "end"
   ]
  },
  {
   "cell_type": "code",
   "execution_count": 17,
   "metadata": {},
   "outputs": [
    {
     "data": {
      "text/plain": [
       "1623178306"
      ]
     },
     "execution_count": 17,
     "metadata": {},
     "output_type": "execute_result"
    }
   ],
   "source": [
    "part_two(parsed_sample)"
   ]
  },
  {
   "cell_type": "code",
   "execution_count": 18,
   "metadata": {},
   "outputs": [
    {
     "data": {
      "text/plain": [
       "12374299815791"
      ]
     },
     "execution_count": 18,
     "metadata": {},
     "output_type": "execute_result"
    }
   ],
   "source": [
    "part_two_ans = part_two(parsed_input)"
   ]
  },
  {
   "cell_type": "code",
   "execution_count": 19,
   "metadata": {},
   "outputs": [
    {
     "data": {
      "text/plain": [
       "\"<!DOCTYPE html>\\n<html lang=\\\"en-us\\\">\\n<head>\\n<meta charset=\\\"utf-8\\\"/>\\n<title>Day 20 - Advent of Code 2022</title>\\n<!--[if lt IE 9]><script src=\\\"/static/html5.js\\\"></script><![endif]-->\\n<link href='//fonts.googleapis.com/css?family=Source+Code+Pro:300&subset=latin,latin-ext'\" ⋯ 3291 bytes ⋯ \"Name(o)[0];a.async=1;a.src=g;m.parentNode.insertBefore(a,m)\\n})(window,document,'script','//www.google-analytics.com/analytics.js','ga');\\nga('create', 'UA-69522494-1', 'auto');\\nga('set', 'anonymizeIp', true);\\nga('send', 'pageview');\\n</script>\\n<!-- /ga -->\\n</body>\\n</html>\""
      ]
     },
     "execution_count": 19,
     "metadata": {},
     "output_type": "execute_result"
    }
   ],
   "source": [
    "submit_answer(year, day, part_two_ans, 2)"
   ]
  }
 ],
 "metadata": {
  "kernelspec": {
   "display_name": "Julia 1.8.0",
   "language": "julia",
   "name": "julia-1.8"
  },
  "language_info": {
   "file_extension": ".jl",
   "mimetype": "application/julia",
   "name": "julia",
   "version": "1.8.3"
  },
  "orig_nbformat": 4,
  "vscode": {
   "interpreter": {
    "hash": "2decbbcdbe1b404b08c0c2ae8935a58886fd60ea7dad56cfc87e2a14f377e9ba"
   }
  }
 },
 "nbformat": 4,
 "nbformat_minor": 2
}
