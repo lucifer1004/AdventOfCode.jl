{
 "cells": [
  {
   "cell_type": "code",
   "execution_count": 1,
   "metadata": {},
   "outputs": [
    {
     "name": "stderr",
     "output_type": "stream",
     "text": [
      "\u001b[32m\u001b[1m  Activating\u001b[22m\u001b[39m project at `~/com.github/lucifer1004/AdventOfCode.jl`\n"
     ]
    }
   ],
   "source": [
    "import Pkg; Pkg.activate(\"..\")"
   ]
  },
  {
   "cell_type": "code",
   "execution_count": 2,
   "metadata": {},
   "outputs": [],
   "source": [
    "using AdventOfCode"
   ]
  },
  {
   "cell_type": "code",
   "execution_count": 3,
   "metadata": {},
   "outputs": [
    {
     "data": {
      "text/plain": [
       "14"
      ]
     },
     "metadata": {},
     "output_type": "display_data"
    }
   ],
   "source": [
    "year = 2022\n",
    "day = 14"
   ]
  },
  {
   "cell_type": "code",
   "execution_count": 4,
   "metadata": {},
   "outputs": [
    {
     "data": {
      "text/plain": [
       "\"508,146 -> 513,146\\n514,142 -> 519,142\\n483,88 -> 487,88\\n522,146 -> 527,146\\n492,90 -> 496,90\\n525,161 -> 525,156 -> 525,161 -> 527,161 -> 527,156 -> 527,161 -> 529,161 -> 529,154 -> 529,161 -> 531,161 -> 531,154 -> 531,161 -> 533,161 -> 533,157 -> 533,161 -> 535,161 -> 535\" ⋯ 12940 bytes ⋯ \"9,67 -> 519,59 -> 519,67\\n525,161 -> 525,156 -> 525,161 -> 527,161 -> 527,156 -> 527,161 -> 529,161 -> 529,154 -> 529,161 -> 531,161 -> 531,154 -> 531,161 -> 533,161 -> 533,157 -> 533,161 -> 535,161 -> 535,152 -> 535,161 -> 537,161 -> 537,160 -> 537,161\\n492,86 -> 496,86\""
      ]
     },
     "metadata": {},
     "output_type": "display_data"
    }
   ],
   "source": [
    "input = get_input(year, day)"
   ]
  },
  {
   "cell_type": "code",
   "execution_count": 5,
   "metadata": {},
   "outputs": [
    {
     "data": {
      "text/plain": [
       "138-element Vector{SubString{String}}:\n",
       " \"508,146 -> 513,146\"\n",
       " \"514,142 -> 519,142\"\n",
       " \"483,88 -> 487,88\"\n",
       " \"522,146 -> 527,146\"\n",
       " \"492,90 -> 496,90\"\n",
       " \"525,161 -> 525,156 -> 525,161 -\" ⋯ 166 bytes ⋯ \" 537,161 -> 537,160 -> 537,161\"\n",
       " \"508,93 -> 508,97 -> 507,97 -> 507,101 -> 517,101 -> 517,97 -> 510,97 -> 510,93\"\n",
       " \"525,161 -> 525,156 -> 525,161 -\" ⋯ 166 bytes ⋯ \" 537,161 -> 537,160 -> 537,161\"\n",
       " \"486,86 -> 490,86\"\n",
       " \"489,84 -> 493,84\"\n",
       " ⋮\n",
       " \"511,43 -> 511,46 -> 510,46 -> 510,50 -> 516,50 -> 516,46 -> 515,46 -> 515,43\"\n",
       " \"511,43 -> 511,46 -> 510,46 -> 510,50 -> 516,50 -> 516,46 -> 515,46 -> 515,43\"\n",
       " \"525,161 -> 525,156 -> 525,161 -\" ⋯ 166 bytes ⋯ \" 537,161 -> 537,160 -> 537,161\"\n",
       " \"525,161 -> 525,156 -> 525,161 -\" ⋯ 166 bytes ⋯ \" 537,161 -> 537,160 -> 537,161\"\n",
       " \"507,67 -> 507,63 -> 507,67 -> 5\" ⋯ 145 bytes ⋯ \" -> 519,67 -> 519,59 -> 519,67\"\n",
       " \"507,67 -> 507,63 -> 507,67 -> 5\" ⋯ 145 bytes ⋯ \" -> 519,67 -> 519,59 -> 519,67\"\n",
       " \"507,67 -> 507,63 -> 507,67 -> 5\" ⋯ 145 bytes ⋯ \" -> 519,67 -> 519,59 -> 519,67\"\n",
       " \"525,161 -> 525,156 -> 525,161 -\" ⋯ 166 bytes ⋯ \" 537,161 -> 537,160 -> 537,161\"\n",
       " \"492,86 -> 496,86\""
      ]
     },
     "metadata": {},
     "output_type": "display_data"
    }
   ],
   "source": [
    "parsed_input = parse_input(input)"
   ]
  },
  {
   "cell_type": "code",
   "execution_count": 6,
   "metadata": {},
   "outputs": [
    {
     "data": {
      "text/plain": [
       "\"498,4 -> 498,6 -> 496,6\\n503,4 -> 502,4 -> 502,9 -> 494,9\""
      ]
     },
     "metadata": {},
     "output_type": "display_data"
    }
   ],
   "source": [
    "sample = \"\"\"498,4 -> 498,6 -> 496,6\n",
    "503,4 -> 502,4 -> 502,9 -> 494,9\"\"\""
   ]
  },
  {
   "cell_type": "code",
   "execution_count": 7,
   "metadata": {},
   "outputs": [
    {
     "data": {
      "text/plain": [
       "2-element Vector{SubString{String}}:\n",
       " \"498,4 -> 498,6 -> 496,6\"\n",
       " \"503,4 -> 502,4 -> 502,9 -> 494,9\""
      ]
     },
     "metadata": {},
     "output_type": "display_data"
    }
   ],
   "source": [
    "parsed_sample = parse_input(sample)"
   ]
  },
  {
   "cell_type": "code",
   "execution_count": 8,
   "metadata": {},
   "outputs": [
    {
     "data": {
      "text/plain": [
       "preprocess (generic function with 1 method)"
      ]
     },
     "metadata": {},
     "output_type": "display_data"
    }
   ],
   "source": [
    "function preprocess(input)\n",
    "    stones = Set{Tuple{Int, Int}}()\n",
    "    for line in input\n",
    "        positions = split(line, \" -> \")\n",
    "        for (a, b) in zip(positions, positions[2:end])\n",
    "            x1, y1 = parse.(Int, split(a, \",\"))\n",
    "            x2, y2 = parse.(Int, split(b, \",\"))\n",
    "            x, y = x1, y1\n",
    "            push!(stones, (x, y))\n",
    "            while (x, y) != (x2, y2)\n",
    "                x += sign(x2 - x1)\n",
    "                y += sign(y2 - y1)\n",
    "                push!(stones, (x, y))\n",
    "            end\n",
    "        end\n",
    "    end\n",
    "    return stones\n",
    "end"
   ]
  },
  {
   "cell_type": "code",
   "execution_count": 9,
   "metadata": {},
   "outputs": [
    {
     "data": {
      "text/plain": [
       "move (generic function with 1 method)"
      ]
     },
     "metadata": {},
     "output_type": "display_data"
    }
   ],
   "source": [
    "function move(base, stones)\n",
    "    x, y = 500, 0\n",
    "    while y <= base\n",
    "        dx = findfirst(dx -> (x + dx, y + 1) ∉ stones, [0, -1, 1])\n",
    "        if isnothing(dx)\n",
    "            break\n",
    "        else\n",
    "            x += [0, -1, 1][dx]\n",
    "            y += 1\n",
    "        end\n",
    "    end\n",
    "    x, y\n",
    "end"
   ]
  },
  {
   "cell_type": "code",
   "execution_count": 10,
   "metadata": {},
   "outputs": [
    {
     "data": {
      "text/plain": [
       "part_one (generic function with 1 method)"
      ]
     },
     "metadata": {},
     "output_type": "display_data"
    }
   ],
   "source": [
    "function part_one(input)\n",
    "    stones = preprocess(input)\n",
    "    base = maximum(x[2] for x in stones)\n",
    "    start = length(stones)\n",
    "    while true\n",
    "        x, y = move(base, stones)        \n",
    "        if y > base\n",
    "            break\n",
    "        end\n",
    "\n",
    "        push!(stones, (x, y))\n",
    "    end\n",
    "\n",
    "    return length(stones) - start\n",
    "end"
   ]
  },
  {
   "cell_type": "code",
   "execution_count": 11,
   "metadata": {},
   "outputs": [
    {
     "data": {
      "text/plain": [
       "24"
      ]
     },
     "metadata": {},
     "output_type": "display_data"
    }
   ],
   "source": [
    "part_one(parsed_sample)"
   ]
  },
  {
   "cell_type": "code",
   "execution_count": 12,
   "metadata": {},
   "outputs": [
    {
     "data": {
      "text/plain": [
       "674"
      ]
     },
     "metadata": {},
     "output_type": "display_data"
    }
   ],
   "source": [
    "part_one_ans = part_one(parsed_input)"
   ]
  },
  {
   "cell_type": "code",
   "execution_count": 13,
   "metadata": {},
   "outputs": [
    {
     "data": {
      "text/plain": [
       "\"<!DOCTYPE html>\\n<html lang=\\\"en-us\\\">\\n<head>\\n<meta charset=\\\"utf-8\\\"/>\\n<title>Day 14 - Advent of Code 2022</title>\\n<!--[if lt IE 9]><script src=\\\"/static/html5.js\\\"></script><![endif]-->\\n<link href='//fonts.googleapis.com/css?family=Source+Code+Pro:300&subset=latin,latin-ext'\" ⋯ 3432 bytes ⋯ \"Name(o)[0];a.async=1;a.src=g;m.parentNode.insertBefore(a,m)\\n})(window,document,'script','//www.google-analytics.com/analytics.js','ga');\\nga('create', 'UA-69522494-1', 'auto');\\nga('set', 'anonymizeIp', true);\\nga('send', 'pageview');\\n</script>\\n<!-- /ga -->\\n</body>\\n</html>\""
      ]
     },
     "metadata": {},
     "output_type": "display_data"
    }
   ],
   "source": [
    "submit_answer(year, day, part_one_ans)"
   ]
  },
  {
   "cell_type": "code",
   "execution_count": 14,
   "metadata": {},
   "outputs": [
    {
     "data": {
      "text/plain": [
       "part_two (generic function with 1 method)"
      ]
     },
     "metadata": {},
     "output_type": "display_data"
    }
   ],
   "source": [
    "function part_two(input)\n",
    "    stones = preprocess(input)\n",
    "    base = maximum(x[2] for x in stones)\n",
    "    start = length(stones)\n",
    "    while (500, 0) ∉ stones\n",
    "        push!(stones, move(base, stones))\n",
    "    end\n",
    "\n",
    "    return length(stones) - start\n",
    "end"
   ]
  },
  {
   "cell_type": "code",
   "execution_count": 15,
   "metadata": {},
   "outputs": [
    {
     "data": {
      "text/plain": [
       "93"
      ]
     },
     "metadata": {},
     "output_type": "display_data"
    }
   ],
   "source": [
    "part_two(parsed_sample)"
   ]
  },
  {
   "cell_type": "code",
   "execution_count": 16,
   "metadata": {},
   "outputs": [
    {
     "data": {
      "text/plain": [
       "24958"
      ]
     },
     "metadata": {},
     "output_type": "display_data"
    }
   ],
   "source": [
    "part_two_ans = part_two(parsed_input)"
   ]
  },
  {
   "cell_type": "code",
   "execution_count": 17,
   "metadata": {},
   "outputs": [
    {
     "data": {
      "text/plain": [
       "\"<!DOCTYPE html>\\n<html lang=\\\"en-us\\\">\\n<head>\\n<meta charset=\\\"utf-8\\\"/>\\n<title>Day 14 - Advent of Code 2022</title>\\n<!--[if lt IE 9]><script src=\\\"/static/html5.js\\\"></script><![endif]-->\\n<link href='//fonts.googleapis.com/css?family=Source+Code+Pro:300&subset=latin,latin-ext'\" ⋯ 3438 bytes ⋯ \"Name(o)[0];a.async=1;a.src=g;m.parentNode.insertBefore(a,m)\\n})(window,document,'script','//www.google-analytics.com/analytics.js','ga');\\nga('create', 'UA-69522494-1', 'auto');\\nga('set', 'anonymizeIp', true);\\nga('send', 'pageview');\\n</script>\\n<!-- /ga -->\\n</body>\\n</html>\""
      ]
     },
     "metadata": {},
     "output_type": "display_data"
    }
   ],
   "source": [
    "submit_answer(year, day, part_two_ans, 2)"
   ]
  }
 ],
 "metadata": {
  "kernelspec": {
   "display_name": "Julia 1.8.3",
   "language": "julia",
   "name": "julia-1.8"
  },
  "language_info": {
   "file_extension": ".jl",
   "mimetype": "application/julia",
   "name": "julia",
   "version": "1.8.3"
  },
  "orig_nbformat": 4,
  "vscode": {
   "interpreter": {
    "hash": "2decbbcdbe1b404b08c0c2ae8935a58886fd60ea7dad56cfc87e2a14f377e9ba"
   }
  }
 },
 "nbformat": 4,
 "nbformat_minor": 2
}
