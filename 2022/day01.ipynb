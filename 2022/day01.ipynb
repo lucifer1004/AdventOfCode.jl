{
 "cells": [
  {
   "cell_type": "code",
   "execution_count": 1,
   "metadata": {},
   "outputs": [
    {
     "name": "stderr",
     "output_type": "stream",
     "text": [
      "\u001b[32m\u001b[1m  Activating\u001b[22m\u001b[39m project at `~/com.github/lucifer1004/AdventOfCode.jl`\n"
     ]
    }
   ],
   "source": [
    "import Pkg; Pkg.activate(\"..\")"
   ]
  },
  {
   "cell_type": "code",
   "execution_count": 2,
   "metadata": {},
   "outputs": [],
   "source": [
    "using AdventOfCode, JSON3, LinearAlgebra, Combinatorics, DataStructures, Graphs, GraphPlot, IterTools, Mods, MLStyle, Pipe"
   ]
  },
  {
   "cell_type": "code",
   "execution_count": 3,
   "metadata": {},
   "outputs": [
    {
     "data": {
      "text/plain": [
       "1"
      ]
     },
     "execution_count": 3,
     "metadata": {},
     "output_type": "execute_result"
    }
   ],
   "source": [
    "year = 2022\n",
    "day = 1"
   ]
  },
  {
   "cell_type": "code",
   "execution_count": 4,
   "metadata": {},
   "outputs": [
    {
     "data": {
      "text/plain": [
       "\"10130\\n9819\\n4257\\n8400\\n10994\\n3758\\n8326\\n\\n9002\\n15602\\n1193\\n6805\\n10797\\n\\n9435\\n6559\\n11512\\n12051\\n2687\\n2850\\n3752\\n\\n6656\\n5869\\n5033\\n7164\\n1708\\n3689\\n2218\\n6642\\n1913\\n1494\\n1403\\n4269\\n\\n6089\\n3985\\n4673\\n4814\\n6628\\n6076\\n3594\\n3143\\n5412\\n7647\\n\\n22393\\n2865\\n\\n2241\\n1877\\n2289\\n1928\\n1519\\n4750\\n5669\\n3725\\n37\" ⋯ 9936 bytes ⋯ \"08\\n6030\\n6926\\n1392\\n7842\\n\\n8051\\n1225\\n4681\\n8361\\n\\n6636\\n1919\\n3652\\n11633\\n11321\\n13513\\n\\n5849\\n1752\\n6518\\n5546\\n2608\\n2866\\n3356\\n2107\\n4090\\n5238\\n3559\\n\\n2455\\n4808\\n1899\\n1753\\n1899\\n5047\\n3362\\n5973\\n1832\\n3395\\n2908\\n2616\\n5720\\n2221\\n1771\\n\\n1654\\n6928\\n3317\\n4238\\n4796\\n4168\\n6225\\n1669\\n1109\\n4265\\n4980\\n6660\""
      ]
     },
     "execution_count": 4,
     "metadata": {},
     "output_type": "execute_result"
    }
   ],
   "source": [
    "input = get_input(year, day)"
   ]
  },
  {
   "cell_type": "code",
   "execution_count": 5,
   "metadata": {},
   "outputs": [
    {
     "data": {
      "text/plain": [
       "2254-element Vector{SubString{String}}:\n",
       " \"10130\"\n",
       " \"9819\"\n",
       " \"4257\"\n",
       " \"8400\"\n",
       " \"10994\"\n",
       " \"3758\"\n",
       " \"8326\"\n",
       " \"\"\n",
       " \"9002\"\n",
       " \"15602\"\n",
       " \"1193\"\n",
       " \"6805\"\n",
       " \"10797\"\n",
       " ⋮\n",
       " \"1654\"\n",
       " \"6928\"\n",
       " \"3317\"\n",
       " \"4238\"\n",
       " \"4796\"\n",
       " \"4168\"\n",
       " \"6225\"\n",
       " \"1669\"\n",
       " \"1109\"\n",
       " \"4265\"\n",
       " \"4980\"\n",
       " \"6660\""
      ]
     },
     "execution_count": 5,
     "metadata": {},
     "output_type": "execute_result"
    }
   ],
   "source": [
    "parsed_input = parse_input(input)"
   ]
  },
  {
   "cell_type": "code",
   "execution_count": 6,
   "metadata": {},
   "outputs": [
    {
     "data": {
      "text/plain": [
       "\"1000\\n2000\\n3000\\n\\n4000\\n\\n5000\\n6000\\n\\n7000\\n8000\\n9000\\n\\n10000\""
      ]
     },
     "execution_count": 6,
     "metadata": {},
     "output_type": "execute_result"
    }
   ],
   "source": [
    "sample = \"\"\"1000\n",
    "2000\n",
    "3000\n",
    "\n",
    "4000\n",
    "\n",
    "5000\n",
    "6000\n",
    "\n",
    "7000\n",
    "8000\n",
    "9000\n",
    "\n",
    "10000\"\"\""
   ]
  },
  {
   "cell_type": "code",
   "execution_count": 7,
   "metadata": {},
   "outputs": [
    {
     "data": {
      "text/plain": [
       "14-element Vector{SubString{String}}:\n",
       " \"1000\"\n",
       " \"2000\"\n",
       " \"3000\"\n",
       " \"\"\n",
       " \"4000\"\n",
       " \"\"\n",
       " \"5000\"\n",
       " \"6000\"\n",
       " \"\"\n",
       " \"7000\"\n",
       " \"8000\"\n",
       " \"9000\"\n",
       " \"\"\n",
       " \"10000\""
      ]
     },
     "execution_count": 7,
     "metadata": {},
     "output_type": "execute_result"
    }
   ],
   "source": [
    "parsed_sample = parse_input(sample)"
   ]
  },
  {
   "cell_type": "code",
   "execution_count": 8,
   "metadata": {},
   "outputs": [
    {
     "data": {
      "text/plain": [
       "counteach (generic function with 1 method)"
      ]
     },
     "execution_count": 8,
     "metadata": {},
     "output_type": "execute_result"
    }
   ],
   "source": [
    "function counteach(input)\n",
    "    nums = []\n",
    "    now = 0\n",
    "    for num in input\n",
    "        if num == \"\"\n",
    "            push!(nums, now)\n",
    "            now = 0\n",
    "        else\n",
    "            now += parse(Int, num)\n",
    "        end\n",
    "    end\n",
    "    push!(nums, now)\n",
    "    return nums\n",
    "end"
   ]
  },
  {
   "cell_type": "code",
   "execution_count": 9,
   "metadata": {},
   "outputs": [
    {
     "data": {
      "text/plain": [
       "part_one (generic function with 1 method)"
      ]
     },
     "execution_count": 9,
     "metadata": {},
     "output_type": "execute_result"
    }
   ],
   "source": [
    "function part_one(input)\n",
    "\treturn maximum(counteach(input))\n",
    "end"
   ]
  },
  {
   "cell_type": "code",
   "execution_count": 10,
   "metadata": {},
   "outputs": [
    {
     "data": {
      "text/plain": [
       "24000"
      ]
     },
     "execution_count": 10,
     "metadata": {},
     "output_type": "execute_result"
    }
   ],
   "source": [
    "part_one(parsed_sample)"
   ]
  },
  {
   "cell_type": "code",
   "execution_count": 11,
   "metadata": {},
   "outputs": [
    {
     "data": {
      "text/plain": [
       "69693"
      ]
     },
     "execution_count": 11,
     "metadata": {},
     "output_type": "execute_result"
    }
   ],
   "source": [
    "part_one_ans = part_one(parsed_input)"
   ]
  },
  {
   "cell_type": "code",
   "execution_count": 12,
   "metadata": {},
   "outputs": [
    {
     "data": {
      "text/plain": [
       "\"<!DOCTYPE html>\\n<html lang=\\\"en-us\\\">\\n<head>\\n<meta charset=\\\"utf-8\\\"/>\\n<title>Day 1 - Advent of Code 2022</title>\\n<!--[if lt IE 9]><script src=\\\"/static/html5.js\\\"></script><![endif]-->\\n<link href='//fonts.googleapis.com/css?family=Source+Code+Pro:300&subset=latin,latin-ext' \" ⋯ 3387 bytes ⋯ \"Name(o)[0];a.async=1;a.src=g;m.parentNode.insertBefore(a,m)\\n})(window,document,'script','//www.google-analytics.com/analytics.js','ga');\\nga('create', 'UA-69522494-1', 'auto');\\nga('set', 'anonymizeIp', true);\\nga('send', 'pageview');\\n</script>\\n<!-- /ga -->\\n</body>\\n</html>\""
      ]
     },
     "execution_count": 12,
     "metadata": {},
     "output_type": "execute_result"
    }
   ],
   "source": [
    "submit_answer(year, day, part_one_ans)"
   ]
  },
  {
   "cell_type": "code",
   "execution_count": 13,
   "metadata": {},
   "outputs": [
    {
     "data": {
      "text/plain": [
       "part_two (generic function with 1 method)"
      ]
     },
     "execution_count": 13,
     "metadata": {},
     "output_type": "execute_result"
    }
   ],
   "source": [
    "function part_two(input)\n",
    "    return sum(sort(counteach(input), rev=true)[1:3])\n",
    "end"
   ]
  },
  {
   "cell_type": "code",
   "execution_count": 14,
   "metadata": {},
   "outputs": [
    {
     "data": {
      "text/plain": [
       "45000"
      ]
     },
     "execution_count": 14,
     "metadata": {},
     "output_type": "execute_result"
    }
   ],
   "source": [
    "part_two(parsed_sample)"
   ]
  },
  {
   "cell_type": "code",
   "execution_count": 15,
   "metadata": {},
   "outputs": [
    {
     "data": {
      "text/plain": [
       "200945"
      ]
     },
     "execution_count": 15,
     "metadata": {},
     "output_type": "execute_result"
    }
   ],
   "source": [
    "part_two_ans = part_two(parsed_input)"
   ]
  },
  {
   "cell_type": "code",
   "execution_count": 16,
   "metadata": {},
   "outputs": [
    {
     "data": {
      "text/plain": [
       "\"<!DOCTYPE html>\\n<html lang=\\\"en-us\\\">\\n<head>\\n<meta charset=\\\"utf-8\\\"/>\\n<title>Day 1 - Advent of Code 2022</title>\\n<!--[if lt IE 9]><script src=\\\"/static/html5.js\\\"></script><![endif]-->\\n<link href='//fonts.googleapis.com/css?family=Source+Code+Pro:300&subset=latin,latin-ext' \" ⋯ 3280 bytes ⋯ \"Name(o)[0];a.async=1;a.src=g;m.parentNode.insertBefore(a,m)\\n})(window,document,'script','//www.google-analytics.com/analytics.js','ga');\\nga('create', 'UA-69522494-1', 'auto');\\nga('set', 'anonymizeIp', true);\\nga('send', 'pageview');\\n</script>\\n<!-- /ga -->\\n</body>\\n</html>\""
      ]
     },
     "execution_count": 16,
     "metadata": {},
     "output_type": "execute_result"
    }
   ],
   "source": [
    "submit_answer(year, day, part_two_ans, 2)"
   ]
  }
 ],
 "metadata": {
  "kernelspec": {
   "display_name": "Julia 1.8.0",
   "language": "julia",
   "name": "julia-1.8"
  },
  "language_info": {
   "file_extension": ".jl",
   "mimetype": "application/julia",
   "name": "julia",
   "version": "1.8.2"
  },
  "orig_nbformat": 4,
  "vscode": {
   "interpreter": {
    "hash": "2decbbcdbe1b404b08c0c2ae8935a58886fd60ea7dad56cfc87e2a14f377e9ba"
   }
  }
 },
 "nbformat": 4,
 "nbformat_minor": 2
}
