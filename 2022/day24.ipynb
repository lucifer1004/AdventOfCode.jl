{
 "cells": [
  {
   "cell_type": "code",
   "execution_count": 1,
   "metadata": {},
   "outputs": [
    {
     "name": "stderr",
     "output_type": "stream",
     "text": [
      "\u001b[32m\u001b[1m  Activating\u001b[22m\u001b[39m project at `~/com.github/lucifer1004/AdventOfCode.jl`\n"
     ]
    }
   ],
   "source": [
    "import Pkg; Pkg.activate(\"..\")"
   ]
  },
  {
   "cell_type": "code",
   "execution_count": 2,
   "metadata": {},
   "outputs": [],
   "source": [
    "using AdventOfCode"
   ]
  },
  {
   "cell_type": "code",
   "execution_count": 3,
   "metadata": {},
   "outputs": [
    {
     "data": {
      "text/plain": [
       "24"
      ]
     },
     "execution_count": 3,
     "metadata": {},
     "output_type": "execute_result"
    }
   ],
   "source": [
    "year = 2022\n",
    "day = 24"
   ]
  },
  {
   "cell_type": "code",
   "execution_count": 4,
   "metadata": {},
   "outputs": [
    {
     "data": {
      "text/plain": [
       "\"#.####################################################################################################\\n#<<<><>.>>vvv>vv.>.>>^>^v>>^<.vv^.v>>v<><^^><^<^<v<^>>v>vv^^<v^><v.v<>^<<^.vv.v<..<.^v<..>>v<.<><v<.>#\\n#<<^>.><>v<^<>.^>>>>vv.v>>^.^v>v^v>v^>v^^><.<vv<^<v>^^>.><vvv>^v\" ⋯ 3270 bytes ⋯ \".^^^<^v<>^.><<v>v>v>>^<<v^^<>^<><v<><^v>v.>>>.<v<><<><>^>^v<><>#\\n#<v<>^<>>.<v^^v>^^<<><>vvvv^^><<v^>v^v><v^<>.v^>v><^v^>^vv.^v><^v^><<^.<>^vv.vv<<^<.^v>^<v^>v^<^<>^<<#\\n####################################################################################################.#\""
      ]
     },
     "execution_count": 4,
     "metadata": {},
     "output_type": "execute_result"
    }
   ],
   "source": [
    "input = get_input(year, day)"
   ]
  },
  {
   "cell_type": "code",
   "execution_count": 5,
   "metadata": {},
   "outputs": [
    {
     "data": {
      "text/plain": [
       "37-element Vector{SubString{String}}:\n",
       " \"#.#############################\" ⋯ 40 bytes ⋯ \"###############################\"\n",
       " \"#<<<><>.>>vvv>vv.>.>>^>^v>>^<.v\" ⋯ 40 bytes ⋯ \"<<^.vv.v<..<.^v<..>>v<.<><v<.>#\"\n",
       " \"#<<^>.><>v<^<>.^>>>>vv.v>>^.^v>\" ⋯ 40 bytes ⋯ \"^<<.<v^v>^.^^<^<^^^.<>v.vvv>v>#\"\n",
       " \"#<v<<^vv.^^<^v.v<>><^>v^v^^<<>v\" ⋯ 40 bytes ⋯ \"^><v^v^<>>.<v<<^<^.>>><<v>v.>.#\"\n",
       " \"#>>v^^<.<<v>^v<^><<<.^^>..v^>>v\" ⋯ 40 bytes ⋯ \"^<<v<<^>>v^>>>>..v>^..<.><>>>>#\"\n",
       " \"#>>v^>..^>^>v><><<^<^.<v<.<<><v\" ⋯ 40 bytes ⋯ \"vv^v.v<v^<^.<<>^>.<<<>^<>>^^^>#\"\n",
       " \"#<>^.^<>v^>^^>>^>v<v^<^v^<.v<>^\" ⋯ 40 bytes ⋯ \"vv>>v<<><.<v..^>>.v^v<^v<..^<>#\"\n",
       " \"#<<v>^v<^.v>v^v.<^^.vv<^>^><<v>\" ⋯ 40 bytes ⋯ \"v<v.v^<v>v>v<v.><v^.^v^.v>.>^<#\"\n",
       " \"#<^<^<.<v.>>v.>>^v.<>^><v>><^v^\" ⋯ 40 bytes ⋯ \"v^v>v>>v>.v^^<v>^^.<><>^^>>>^>#\"\n",
       " \"#>>v^>>v^>.vv<<>.>>>vv<<v<^^>vv\" ⋯ 40 bytes ⋯ \"v>>>>^><>v><v<<<v^v.^v>>^v>.v>#\"\n",
       " \"#>.^<>^^<<^v^>>^^><v.>v^.<v.<^^\" ⋯ 40 bytes ⋯ \"^v>v<.>v^.>>v>.v<^>.^^v<<^<<<>#\"\n",
       " \"#<>v>v.v>v<<>>.^>^<^^>vv>>v.><^\" ⋯ 40 bytes ⋯ \"<<<>v>>.><<^v>.<>>.<>.^^>v<<>>#\"\n",
       " \"#<vv>^^>^<^v.^<><><<^^>>>^vv>>>\" ⋯ 40 bytes ⋯ \"v>^<>^v^^^..>^<.v.vv<<><^^><.>#\"\n",
       " ⋮\n",
       " \"#><<^<v<>>>^<.^^>vv<<^^>^<v<.^v\" ⋯ 40 bytes ⋯ \"v^.^>v.>^v><vv<.^>v>v^.<.^vvv<#\"\n",
       " \"#<^>v.^..^vv^<>v<^v..v^><<<^<><\" ⋯ 40 bytes ⋯ \".^v<v>^>><<vv<^v^.>>>^^v><>><>#\"\n",
       " \"#<^>v>.^<^<>^^v>v^>.><^><.<<vv>\" ⋯ 40 bytes ⋯ \">>>^v>^<<>^<>>^>v<.v>.>^v^v><>#\"\n",
       " \"#>><>v^<vv.<.v<vv..v<>.>^vv^.>v\" ⋯ 40 bytes ⋯ \"<v^.v>^.<....>><vvv^<v.<v>.<..#\"\n",
       " \"#>v^v<>v^>v.^^v><<<v>>^<>.v^^>>\" ⋯ 40 bytes ⋯ \"^>..<>v.<^^v>^v>^v^^^.<><^^<^>#\"\n",
       " \"#>>v<.<^>^v^^<>.^v...v<>v>>v>^>\" ⋯ 40 bytes ⋯ \"^<^^^...<<<v<<<<.<^>.v^>>v.>>>#\"\n",
       " \"#>>^^<>>^v^v>.^>vvv^>>^<><..>>v\" ⋯ 40 bytes ⋯ \">v>.vv<v^<>v^<>^><<><^^vvv>v<<#\"\n",
       " \"#>^>vv.<v^^v>v<>v<.v^^>v^^^<v>v\" ⋯ 40 bytes ⋯ \"v..^vv>^<>^v^>>^^vvv.>v^^^.<v.#\"\n",
       " \"#<>^<.vvvvv<.<^<<.>^>>vv<<<.^v<\" ⋯ 40 bytes ⋯ \".^v<>>^.v^.<vv.>>><.v.<>^<<>v>#\"\n",
       " \"#<^^v^><<v>>>^><.<<v^<>>v<>..<<\" ⋯ 40 bytes ⋯ \"v<><^v>v.>>>.<v<><<><>^>^v<><>#\"\n",
       " \"#<v<>^<>>.<v^^v>^^<<><>vvvv^^><\" ⋯ 40 bytes ⋯ \"<>^vv.vv<<^<.^v>^<v^>v^<^<>^<<#\"\n",
       " \"###############################\" ⋯ 40 bytes ⋯ \"#############################.#\""
      ]
     },
     "execution_count": 5,
     "metadata": {},
     "output_type": "execute_result"
    }
   ],
   "source": [
    "parsed_input = parse_input(input)"
   ]
  },
  {
   "cell_type": "code",
   "execution_count": 6,
   "metadata": {},
   "outputs": [
    {
     "data": {
      "text/plain": [
       "\"#.######\\n#>>.<^<#\\n#.<..<<#\\n#>v.><>#\\n#<^v^^>#\\n######.#\""
      ]
     },
     "execution_count": 6,
     "metadata": {},
     "output_type": "execute_result"
    }
   ],
   "source": [
    "sample = \"\"\"#.######\n",
    "#>>.<^<#\n",
    "#.<..<<#\n",
    "#>v.><>#\n",
    "#<^v^^>#\n",
    "######.#\"\"\""
   ]
  },
  {
   "cell_type": "code",
   "execution_count": 7,
   "metadata": {},
   "outputs": [
    {
     "data": {
      "text/plain": [
       "6-element Vector{SubString{String}}:\n",
       " \"#.######\"\n",
       " \"#>>.<^<#\"\n",
       " \"#.<..<<#\"\n",
       " \"#>v.><>#\"\n",
       " \"#<^v^^>#\"\n",
       " \"######.#\""
      ]
     },
     "execution_count": 7,
     "metadata": {},
     "output_type": "execute_result"
    }
   ],
   "source": [
    "parsed_sample = parse_input(sample)"
   ]
  },
  {
   "cell_type": "code",
   "execution_count": 8,
   "metadata": {},
   "outputs": [
    {
     "data": {
      "text/plain": [
       "Dict{Char, Tuple{Int64, Int64}} with 4 entries:\n",
       "  '<' => (0, -1)\n",
       "  'v' => (1, 0)\n",
       "  '^' => (-1, 0)\n",
       "  '>' => (0, 1)"
      ]
     },
     "execution_count": 8,
     "metadata": {},
     "output_type": "execute_result"
    }
   ],
   "source": [
    "DIRS = Dict('^' => (-1, 0), 'v' => (1, 0), '<' => (0, -1), '>' => (0, 1))"
   ]
  },
  {
   "cell_type": "code",
   "execution_count": 9,
   "metadata": {},
   "outputs": [
    {
     "data": {
      "text/plain": [
       "part_one (generic function with 1 method)"
      ]
     },
     "execution_count": 9,
     "metadata": {},
     "output_type": "execute_result"
    }
   ],
   "source": [
    "function part_one(input)\n",
    "    n = length(input)\n",
    "    m = length(input[1])\n",
    "\n",
    "    si = 1\n",
    "    sj = findfirst((==)('.'), collect(input[1]))\n",
    "\n",
    "    ei = n\n",
    "    ej = findfirst((==)('.'), collect(input[n]))\n",
    "\n",
    "    scenes = []\n",
    "    blizzards = [(i, j, input[i][j]) for i in 1:n, j in 1:m if input[i][j] ∈ ['>', '<', '^', 'v']]\n",
    "\n",
    "    for t in 1:1000\n",
    "        new_blizzards = map(blizzards) do (i, j, typ)\n",
    "            di, dj = DIRS[typ]\n",
    "            ni, nj = i + di, j + dj\n",
    "            if input[ni][nj] == '#'\n",
    "                if typ == '>'\n",
    "                    nj = 2\n",
    "                elseif typ == '<'\n",
    "                    nj = m - 1\n",
    "                elseif typ == '^'\n",
    "                    ni = n - 1\n",
    "                elseif typ == 'v'\n",
    "                    ni = 2\n",
    "                end\n",
    "            end\n",
    "            (ni, nj, typ)\n",
    "        end\n",
    "        push!(scenes, Set([(i, j) for (i, j, typ) in new_blizzards]))\n",
    "        blizzards = new_blizzards\n",
    "    end\n",
    "\n",
    "    q = Queue{Tuple{Int, Int, Int}}()\n",
    "    vis = Set{Tuple{Int, Int, Int}}()\n",
    "    enqueue!(q, (si, sj, 0))\n",
    "    push!(vis, (si, sj, 0))\n",
    "\n",
    "    while !isempty(q)\n",
    "        i, j, t = dequeue!(q)\n",
    "        for (di, dj) in values(DIRS)\n",
    "            ni, nj = i + di, j + dj\n",
    "            if (ni, nj) == (ei, ej)\n",
    "                return t + 1\n",
    "            end\n",
    "\n",
    "            if (ni, nj) ∈ scenes[t + 1] || ni < 1 || ni > n || nj < 1 || nj > m || input[ni][nj] == '#' || (ni, nj, t + 1) ∈ vis\n",
    "                continue\n",
    "            end\n",
    "\n",
    "            enqueue!(q, (ni, nj, t + 1))\n",
    "            push!(vis, (ni, nj, t + 1))\n",
    "        end\n",
    "\n",
    "        if (i, j) ∉ scenes[t + 1] && (i, j, t + 1) ∉ vis\n",
    "            enqueue!(q, (i, j, t + 1))\n",
    "            push!(vis, (i, j, t + 1))\n",
    "        end\n",
    "    end\n",
    "end"
   ]
  },
  {
   "cell_type": "code",
   "execution_count": 10,
   "metadata": {},
   "outputs": [
    {
     "data": {
      "text/plain": [
       "18"
      ]
     },
     "execution_count": 10,
     "metadata": {},
     "output_type": "execute_result"
    }
   ],
   "source": [
    "part_one(parsed_sample)"
   ]
  },
  {
   "cell_type": "code",
   "execution_count": 11,
   "metadata": {},
   "outputs": [
    {
     "data": {
      "text/plain": [
       "230"
      ]
     },
     "execution_count": 11,
     "metadata": {},
     "output_type": "execute_result"
    }
   ],
   "source": [
    "part_one_ans = part_one(parsed_input)"
   ]
  },
  {
   "cell_type": "code",
   "execution_count": 12,
   "metadata": {},
   "outputs": [
    {
     "data": {
      "text/plain": [
       "\"<!DOCTYPE html>\\n<html lang=\\\"en-us\\\">\\n<head>\\n<meta charset=\\\"utf-8\\\"/>\\n<title>Day 24 - Advent of Code 2022</title>\\n<!--[if lt IE 9]><script src=\\\"/static/html5.js\\\"></script><![endif]-->\\n<link href='//fonts.googleapis.com/css?family=Source+Code+Pro:300&subset=latin,latin-ext'\" ⋯ 3541 bytes ⋯ \"Name(o)[0];a.async=1;a.src=g;m.parentNode.insertBefore(a,m)\\n})(window,document,'script','//www.google-analytics.com/analytics.js','ga');\\nga('create', 'UA-69522494-1', 'auto');\\nga('set', 'anonymizeIp', true);\\nga('send', 'pageview');\\n</script>\\n<!-- /ga -->\\n</body>\\n</html>\""
      ]
     },
     "execution_count": 12,
     "metadata": {},
     "output_type": "execute_result"
    }
   ],
   "source": [
    "submit_answer(year, day, part_one_ans)"
   ]
  },
  {
   "cell_type": "code",
   "execution_count": 13,
   "metadata": {},
   "outputs": [
    {
     "data": {
      "text/plain": [
       "part_two (generic function with 1 method)"
      ]
     },
     "execution_count": 13,
     "metadata": {},
     "output_type": "execute_result"
    }
   ],
   "source": [
    "function part_two(input)\n",
    "    n = length(input)\n",
    "    m = length(input[1])\n",
    "\n",
    "    si = 1\n",
    "    sj = findfirst((==)('.'), collect(input[1]))\n",
    "\n",
    "    ei = n\n",
    "    ej = findfirst((==)('.'), collect(input[n]))\n",
    "\n",
    "    scenes = []\n",
    "    blizzards = [(i, j, input[i][j]) for i in 1:n, j in 1:m if input[i][j] ∈ ['>', '<', '^', 'v']]\n",
    "\n",
    "    for t in 1:1000\n",
    "        new_blizzards = map(blizzards) do (i, j, typ)\n",
    "            di, dj = DIRS[typ]\n",
    "            ni, nj = i + di, j + dj\n",
    "            if input[ni][nj] == '#'\n",
    "                if typ == '>'\n",
    "                    nj = 2\n",
    "                elseif typ == '<'\n",
    "                    nj = m - 1\n",
    "                elseif typ == '^'\n",
    "                    ni = n - 1\n",
    "                elseif typ == 'v'\n",
    "                    ni = 2\n",
    "                end\n",
    "            end\n",
    "            (ni, nj, typ)\n",
    "        end\n",
    "        push!(scenes, Set([(i, j) for (i, j, typ) in new_blizzards]))\n",
    "        blizzards = new_blizzards\n",
    "    end\n",
    "\n",
    "    function solve(si, sj, ei, ej, t)\n",
    "        q = Queue{Tuple{Int, Int, Int}}()\n",
    "        vis = Set{Tuple{Int, Int, Int}}()\n",
    "        enqueue!(q, (si, sj, t))\n",
    "        push!(vis, (si, sj, t))\n",
    "\n",
    "        while !isempty(q)\n",
    "            i, j, t = dequeue!(q)\n",
    "            for (di, dj) in values(DIRS)\n",
    "                ni, nj = i + di, j + dj\n",
    "                if (ni, nj) == (ei, ej)\n",
    "                    return t + 1\n",
    "                end\n",
    "\n",
    "                if (ni, nj) ∈ scenes[t + 1] || ni < 1 || ni > n || nj < 1 || nj > m || input[ni][nj] == '#' || (ni, nj, t + 1) ∈ vis\n",
    "                    continue\n",
    "                end\n",
    "\n",
    "                enqueue!(q, (ni, nj, t + 1))\n",
    "                push!(vis, (ni, nj, t + 1))\n",
    "            end\n",
    "\n",
    "            if (i, j) ∉ scenes[t + 1] && (i, j, t + 1) ∉ vis\n",
    "                enqueue!(q, (i, j, t + 1))\n",
    "                push!(vis, (i, j, t + 1))\n",
    "            end\n",
    "        end\n",
    "    end\n",
    "\n",
    "    t1 = solve(si, sj, ei, ej, 0)\n",
    "    t2 = solve(ei, ej, si, sj, t1)\n",
    "    t3 = solve(si, sj, ei, ej, t2)\n",
    "end"
   ]
  },
  {
   "cell_type": "code",
   "execution_count": 14,
   "metadata": {},
   "outputs": [
    {
     "data": {
      "text/plain": [
       "54"
      ]
     },
     "execution_count": 14,
     "metadata": {},
     "output_type": "execute_result"
    }
   ],
   "source": [
    "part_two(parsed_sample)"
   ]
  },
  {
   "cell_type": "code",
   "execution_count": 15,
   "metadata": {},
   "outputs": [
    {
     "data": {
      "text/plain": [
       "713"
      ]
     },
     "execution_count": 15,
     "metadata": {},
     "output_type": "execute_result"
    }
   ],
   "source": [
    "part_two_ans = part_two(parsed_input)"
   ]
  },
  {
   "cell_type": "code",
   "execution_count": 16,
   "metadata": {},
   "outputs": [
    {
     "data": {
      "text/plain": [
       "\"<!DOCTYPE html>\\n<html lang=\\\"en-us\\\">\\n<head>\\n<meta charset=\\\"utf-8\\\"/>\\n<title>Day 24 - Advent of Code 2022</title>\\n<!--[if lt IE 9]><script src=\\\"/static/html5.js\\\"></script><![endif]-->\\n<link href='//fonts.googleapis.com/css?family=Source+Code+Pro:300&subset=latin,latin-ext'\" ⋯ 3515 bytes ⋯ \"Name(o)[0];a.async=1;a.src=g;m.parentNode.insertBefore(a,m)\\n})(window,document,'script','//www.google-analytics.com/analytics.js','ga');\\nga('create', 'UA-69522494-1', 'auto');\\nga('set', 'anonymizeIp', true);\\nga('send', 'pageview');\\n</script>\\n<!-- /ga -->\\n</body>\\n</html>\""
      ]
     },
     "execution_count": 16,
     "metadata": {},
     "output_type": "execute_result"
    }
   ],
   "source": [
    "submit_answer(year, day, part_two_ans, 2)"
   ]
  }
 ],
 "metadata": {
  "kernelspec": {
   "display_name": "Julia 1.8.0",
   "language": "julia",
   "name": "julia-1.8"
  },
  "language_info": {
   "file_extension": ".jl",
   "mimetype": "application/julia",
   "name": "julia",
   "version": "1.8.3"
  },
  "orig_nbformat": 4,
  "vscode": {
   "interpreter": {
    "hash": "2decbbcdbe1b404b08c0c2ae8935a58886fd60ea7dad56cfc87e2a14f377e9ba"
   }
  }
 },
 "nbformat": 4,
 "nbformat_minor": 2
}
