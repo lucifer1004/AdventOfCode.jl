{
 "cells": [
  {
   "cell_type": "code",
   "execution_count": 1,
   "metadata": {},
   "outputs": [
    {
     "name": "stderr",
     "output_type": "stream",
     "text": [
      "\u001b[32m\u001b[1m  Activating\u001b[22m\u001b[39m project at `~/com.github/lucifer1004/AdventOfCode.jl`\n"
     ]
    }
   ],
   "source": [
    "import Pkg; Pkg.activate(\"..\")"
   ]
  },
  {
   "cell_type": "code",
   "execution_count": 2,
   "metadata": {},
   "outputs": [],
   "source": [
    "using AdventOfCode"
   ]
  },
  {
   "cell_type": "code",
   "execution_count": 3,
   "metadata": {},
   "outputs": [
    {
     "data": {
      "text/plain": [
       "18"
      ]
     },
     "execution_count": 3,
     "metadata": {},
     "output_type": "execute_result"
    }
   ],
   "source": [
    "year = 2022\n",
    "day = 18"
   ]
  },
  {
   "cell_type": "code",
   "execution_count": 4,
   "metadata": {},
   "outputs": [
    {
     "data": {
      "text/plain": [
       "\"6,7,3\\n2,9,11\\n7,5,16\\n12,12,2\\n17,8,14\\n9,4,3\\n8,10,2\\n3,14,7\\n15,14,10\\n5,13,4\\n4,6,15\\n12,16,7\\n9,6,18\\n3,10,13\\n10,12,17\\n7,3,12\\n10,3,4\\n12,17,6\\n8,8,18\\n6,14,6\\n15,6,14\\n5,16,9\\n2,5,12\\n11,16,13\\n4,8,14\\n10,8,2\\n1,9,11\\n6,17,11\\n16,13,11\\n10,1,9\\n8,4,5\\n3,10,5\\n3,4,9\\n6,5,15\\n14,3,9\\n3,15,10\\n7,4,14\" ⋯ 14647 bytes ⋯ \"\\n12,11,1\\n5,5,9\\n15,6,11\\n3,6,6\\n9,17,4\\n11,12,5\\n15,14,13\\n14,6,13\\n7,7,3\\n12,7,18\\n8,14,15\\n17,6,11\\n1,5,12\\n2,12,14\\n14,7,3\\n12,6,17\\n13,11,4\\n11,6,1\\n15,7,3\\n12,2,6\\n6,13,2\\n8,1,8\\n10,7,3\\n6,3,5\\n15,7,4\\n6,5,14\\n15,15,12\\n11,7,4\\n11,4,12\\n12,15,16\\n10,7,16\\n14,8,16\\n8,12,17\\n6,4,16\\n11,14,2\\n1,10,11\""
      ]
     },
     "execution_count": 4,
     "metadata": {},
     "output_type": "execute_result"
    }
   ],
   "source": [
    "input = get_input(year, day)"
   ]
  },
  {
   "cell_type": "code",
   "execution_count": 5,
   "metadata": {},
   "outputs": [
    {
     "data": {
      "text/plain": [
       "2025-element Vector{SubString{String}}:\n",
       " \"6,7,3\"\n",
       " \"2,9,11\"\n",
       " \"7,5,16\"\n",
       " \"12,12,2\"\n",
       " \"17,8,14\"\n",
       " \"9,4,3\"\n",
       " \"8,10,2\"\n",
       " \"3,14,7\"\n",
       " \"15,14,10\"\n",
       " \"5,13,4\"\n",
       " \"4,6,15\"\n",
       " \"12,16,7\"\n",
       " \"9,6,18\"\n",
       " ⋮\n",
       " \"15,7,4\"\n",
       " \"6,5,14\"\n",
       " \"15,15,12\"\n",
       " \"11,7,4\"\n",
       " \"11,4,12\"\n",
       " \"12,15,16\"\n",
       " \"10,7,16\"\n",
       " \"14,8,16\"\n",
       " \"8,12,17\"\n",
       " \"6,4,16\"\n",
       " \"11,14,2\"\n",
       " \"1,10,11\""
      ]
     },
     "execution_count": 5,
     "metadata": {},
     "output_type": "execute_result"
    }
   ],
   "source": [
    "parsed_input = parse_input(input)"
   ]
  },
  {
   "cell_type": "code",
   "execution_count": 6,
   "metadata": {},
   "outputs": [
    {
     "data": {
      "text/plain": [
       "\"2,2,2\\n1,2,2\\n3,2,2\\n2,1,2\\n2,3,2\\n2,2,1\\n2,2,3\\n2,2,4\\n2,2,6\\n1,2,5\\n3,2,5\\n2,1,5\\n2,3,5\""
      ]
     },
     "execution_count": 6,
     "metadata": {},
     "output_type": "execute_result"
    }
   ],
   "source": [
    "sample = \"\"\"2,2,2\n",
    "1,2,2\n",
    "3,2,2\n",
    "2,1,2\n",
    "2,3,2\n",
    "2,2,1\n",
    "2,2,3\n",
    "2,2,4\n",
    "2,2,6\n",
    "1,2,5\n",
    "3,2,5\n",
    "2,1,5\n",
    "2,3,5\"\"\""
   ]
  },
  {
   "cell_type": "code",
   "execution_count": 7,
   "metadata": {},
   "outputs": [
    {
     "data": {
      "text/plain": [
       "13-element Vector{SubString{String}}:\n",
       " \"2,2,2\"\n",
       " \"1,2,2\"\n",
       " \"3,2,2\"\n",
       " \"2,1,2\"\n",
       " \"2,3,2\"\n",
       " \"2,2,1\"\n",
       " \"2,2,3\"\n",
       " \"2,2,4\"\n",
       " \"2,2,6\"\n",
       " \"1,2,5\"\n",
       " \"3,2,5\"\n",
       " \"2,1,5\"\n",
       " \"2,3,5\""
      ]
     },
     "execution_count": 7,
     "metadata": {},
     "output_type": "execute_result"
    }
   ],
   "source": [
    "parsed_sample = parse_input(sample)"
   ]
  },
  {
   "cell_type": "code",
   "execution_count": 8,
   "metadata": {},
   "outputs": [
    {
     "data": {
      "text/plain": [
       "preprocess (generic function with 1 method)"
      ]
     },
     "execution_count": 8,
     "metadata": {},
     "output_type": "execute_result"
    }
   ],
   "source": [
    "function preprocess(input)\n",
    "    map(input) do line\n",
    "        parse.(Int, split(line, \",\"))\n",
    "    end\n",
    "end"
   ]
  },
  {
   "cell_type": "code",
   "execution_count": 9,
   "metadata": {},
   "outputs": [
    {
     "data": {
      "text/plain": [
       "part_one (generic function with 1 method)"
      ]
     },
     "execution_count": 9,
     "metadata": {},
     "output_type": "execute_result"
    }
   ],
   "source": [
    "function part_one(input)\n",
    "    cubes = preprocess(input)\n",
    "    n = length(cubes)\n",
    "    reduced = 0\n",
    "    for i in 1:n\n",
    "        for j in i + 1:n\n",
    "            if sum(abs.(cubes[i] .- cubes[j])) == 1\n",
    "                reduced += 1\n",
    "            end\n",
    "        end\n",
    "    end\n",
    "    return n * 6 - reduced * 2\n",
    "end"
   ]
  },
  {
   "cell_type": "code",
   "execution_count": 10,
   "metadata": {},
   "outputs": [
    {
     "data": {
      "text/plain": [
       "64"
      ]
     },
     "execution_count": 10,
     "metadata": {},
     "output_type": "execute_result"
    }
   ],
   "source": [
    "part_one(parsed_sample)"
   ]
  },
  {
   "cell_type": "code",
   "execution_count": 11,
   "metadata": {},
   "outputs": [
    {
     "data": {
      "text/plain": [
       "3662"
      ]
     },
     "execution_count": 11,
     "metadata": {},
     "output_type": "execute_result"
    }
   ],
   "source": [
    "part_one_ans = part_one(parsed_input)"
   ]
  },
  {
   "cell_type": "code",
   "execution_count": 12,
   "metadata": {},
   "outputs": [
    {
     "data": {
      "text/plain": [
       "\"<!DOCTYPE html>\\n<html lang=\\\"en-us\\\">\\n<head>\\n<meta charset=\\\"utf-8\\\"/>\\n<title>Day 18 - Advent of Code 2022</title>\\n<!--[if lt IE 9]><script src=\\\"/static/html5.js\\\"></script><![endif]-->\\n<link href='//fonts.googleapis.com/css?family=Source+Code+Pro:300&subset=latin,latin-ext'\" ⋯ 3331 bytes ⋯ \"Name(o)[0];a.async=1;a.src=g;m.parentNode.insertBefore(a,m)\\n})(window,document,'script','//www.google-analytics.com/analytics.js','ga');\\nga('create', 'UA-69522494-1', 'auto');\\nga('set', 'anonymizeIp', true);\\nga('send', 'pageview');\\n</script>\\n<!-- /ga -->\\n</body>\\n</html>\""
      ]
     },
     "execution_count": 12,
     "metadata": {},
     "output_type": "execute_result"
    }
   ],
   "source": [
    "submit_answer(year, day, part_one_ans)"
   ]
  },
  {
   "cell_type": "code",
   "execution_count": 13,
   "metadata": {},
   "outputs": [
    {
     "data": {
      "text/plain": [
       "part_two (generic function with 1 method)"
      ]
     },
     "execution_count": 13,
     "metadata": {},
     "output_type": "execute_result"
    }
   ],
   "source": [
    "function part_two(input)\n",
    "    cubes = preprocess(input)\n",
    "    n = length(cubes)\n",
    "    s = Set(map(x -> tuple(x...), cubes))\n",
    "    extremas = [extrema(map(x -> x[i], cubes)) for i in 1:3]\n",
    "    function inregion(x)\n",
    "        for i in 1:3\n",
    "            if x[i] < extremas[i][1] - 2 || x[i] > extremas[i][2] + 2\n",
    "                return false\n",
    "            end\n",
    "        end\n",
    "        return true\n",
    "    end\n",
    "\n",
    "    dir = [(-1, 0, 0), (1, 0, 0), (0, -1, 0), (0, 1, 0), (0, 0, -1), (0, 0, 1)]\n",
    "    vis = Set{Tuple{Int, Int, Int, Int}}()\n",
    "    q = Queue{Tuple{Int, Int, Int}}()\n",
    "    enqueue!(q, (-1, -1, -1))\n",
    "    ans = 0\n",
    "    while !isempty(q)\n",
    "        x1, y1, z1 = dequeue!(q)\n",
    "        for (i, (dx, dy, dz)) in enumerate(dir)\n",
    "            x2, y2, z2 = x1 + dx, y1 + dy, z1 + dz\n",
    "            if !inregion((x2, y2, z2)) || (x2, y2, z2, i) ∈ vis\n",
    "                continue\n",
    "            end\n",
    "            push!(vis, (x2, y2, z2, i))\n",
    "            if (x2, y2, z2) ∈ s\n",
    "                ans += 1\n",
    "            else\n",
    "                enqueue!(q, (x2, y2, z2))\n",
    "            end\n",
    "        end\n",
    "    end\n",
    "\n",
    "    return ans\n",
    "end"
   ]
  },
  {
   "cell_type": "code",
   "execution_count": 14,
   "metadata": {},
   "outputs": [
    {
     "data": {
      "text/plain": [
       "58"
      ]
     },
     "execution_count": 14,
     "metadata": {},
     "output_type": "execute_result"
    }
   ],
   "source": [
    "part_two(parsed_sample)"
   ]
  },
  {
   "cell_type": "code",
   "execution_count": 15,
   "metadata": {},
   "outputs": [
    {
     "data": {
      "text/plain": [
       "2060"
      ]
     },
     "execution_count": 15,
     "metadata": {},
     "output_type": "execute_result"
    }
   ],
   "source": [
    "part_two_ans = part_two(parsed_input)"
   ]
  },
  {
   "cell_type": "code",
   "execution_count": 16,
   "metadata": {},
   "outputs": [
    {
     "data": {
      "text/plain": [
       "\"<!DOCTYPE html>\\n<html lang=\\\"en-us\\\">\\n<head>\\n<meta charset=\\\"utf-8\\\"/>\\n<title>Day 18 - Advent of Code 2022</title>\\n<!--[if lt IE 9]><script src=\\\"/static/html5.js\\\"></script><![endif]-->\\n<link href='//fonts.googleapis.com/css?family=Source+Code+Pro:300&subset=latin,latin-ext'\" ⋯ 3436 bytes ⋯ \"Name(o)[0];a.async=1;a.src=g;m.parentNode.insertBefore(a,m)\\n})(window,document,'script','//www.google-analytics.com/analytics.js','ga');\\nga('create', 'UA-69522494-1', 'auto');\\nga('set', 'anonymizeIp', true);\\nga('send', 'pageview');\\n</script>\\n<!-- /ga -->\\n</body>\\n</html>\""
      ]
     },
     "execution_count": 16,
     "metadata": {},
     "output_type": "execute_result"
    }
   ],
   "source": [
    "submit_answer(year, day, part_two_ans, 2)"
   ]
  }
 ],
 "metadata": {
  "kernelspec": {
   "display_name": "Julia 1.8.0",
   "language": "julia",
   "name": "julia-1.8"
  },
  "language_info": {
   "file_extension": ".jl",
   "mimetype": "application/julia",
   "name": "julia",
   "version": "1.8.3"
  },
  "orig_nbformat": 4,
  "vscode": {
   "interpreter": {
    "hash": "2decbbcdbe1b404b08c0c2ae8935a58886fd60ea7dad56cfc87e2a14f377e9ba"
   }
  }
 },
 "nbformat": 4,
 "nbformat_minor": 2
}
