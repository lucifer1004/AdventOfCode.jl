{
 "cells": [
  {
   "cell_type": "code",
   "execution_count": 1,
   "metadata": {},
   "outputs": [
    {
     "name": "stderr",
     "output_type": "stream",
     "text": [
      "\u001b[32m\u001b[1m  Activating\u001b[22m\u001b[39m project at `~/com.github/lucifer1004/AdventOfCode.jl`\n"
     ]
    }
   ],
   "source": [
    "import Pkg; Pkg.activate(\"..\")"
   ]
  },
  {
   "cell_type": "code",
   "execution_count": 2,
   "metadata": {},
   "outputs": [],
   "source": [
    "using AdventOfCode, JSON3, LinearAlgebra, Combinatorics, DataStructures, Graphs, GraphPlot, IterTools, Mods, MLStyle, Pipe"
   ]
  },
  {
   "cell_type": "code",
   "execution_count": 3,
   "metadata": {},
   "outputs": [
    {
     "data": {
      "text/plain": [
       "5"
      ]
     },
     "execution_count": 3,
     "metadata": {},
     "output_type": "execute_result"
    }
   ],
   "source": [
    "year = 2022\n",
    "day = 5"
   ]
  },
  {
   "cell_type": "code",
   "execution_count": 4,
   "metadata": {},
   "outputs": [
    {
     "data": {
      "text/plain": [
       "\"            [Q]     [G]     [M]    \\n            [B] [S] [V]     [P] [R]\\n    [T]     [C] [F] [L]     [V] [N]\\n[Q] [P]     [H] [N] [S]     [W] [C]\\n[F] [G] [B] [J] [B] [N]     [Z] [L]\\n[L] [Q] [Q] [Z] [M] [Q] [F] [G] [D]\\n[S] [Z] [M] [G] [H] [C] [C] [H] [Z]\\n[R] [N] [S] [T] [P\" ⋯ 9410 bytes ⋯ \"to 7\\nmove 3 from 1 to 3\\nmove 4 from 8 to 3\\nmove 1 from 4 to 5\\nmove 4 from 1 to 4\\nmove 1 from 4 to 5\\nmove 1 from 7 to 4\\nmove 4 from 4 to 1\\nmove 2 from 8 to 7\\nmove 6 from 5 to 2\\nmove 2 from 8 to 1\\nmove 6 from 4 to 7\\nmove 1 from 5 to 4\\nmove 5 from 8 to 6\\nmove 1 from 6 to 9\""
      ]
     },
     "execution_count": 4,
     "metadata": {},
     "output_type": "execute_result"
    }
   ],
   "source": [
    "input = get_input(year, day)"
   ]
  },
  {
   "cell_type": "code",
   "execution_count": 5,
   "metadata": {},
   "outputs": [
    {
     "data": {
      "text/plain": [
       "513-element Vector{SubString{String}}:\n",
       " \"            [Q]     [G]     [M]    \"\n",
       " \"            [B] [S] [V]     [P] [R]\"\n",
       " \"    [T]     [C] [F] [L]     [V] [N]\"\n",
       " \"[Q] [P]     [H] [N] [S]     [W] [C]\"\n",
       " \"[F] [G] [B] [J] [B] [N]     [Z] [L]\"\n",
       " \"[L] [Q] [Q] [Z] [M] [Q] [F] [G] [D]\"\n",
       " \"[S] [Z] [M] [G] [H] [C] [C] [H] [Z]\"\n",
       " \"[R] [N] [S] [T] [P] [P] [W] [Q] [G]\"\n",
       " \" 1   2   3   4   5   6   7   8   9 \"\n",
       " \"\"\n",
       " \"move 1 from 2 to 6\"\n",
       " \"move 3 from 7 to 9\"\n",
       " \"move 7 from 9 to 4\"\n",
       " ⋮\n",
       " \"move 1 from 4 to 5\"\n",
       " \"move 4 from 1 to 4\"\n",
       " \"move 1 from 4 to 5\"\n",
       " \"move 1 from 7 to 4\"\n",
       " \"move 4 from 4 to 1\"\n",
       " \"move 2 from 8 to 7\"\n",
       " \"move 6 from 5 to 2\"\n",
       " \"move 2 from 8 to 1\"\n",
       " \"move 6 from 4 to 7\"\n",
       " \"move 1 from 5 to 4\"\n",
       " \"move 5 from 8 to 6\"\n",
       " \"move 1 from 6 to 9\""
      ]
     },
     "execution_count": 5,
     "metadata": {},
     "output_type": "execute_result"
    }
   ],
   "source": [
    "parsed_input = parse_input(input)"
   ]
  },
  {
   "cell_type": "code",
   "execution_count": 6,
   "metadata": {},
   "outputs": [
    {
     "data": {
      "text/plain": [
       "\"    [D]    \\n[N] [C]    \\n[Z] [M] [P]\\n 1   2   3 \\n\\nmove 1 from 2 to 1\\nmove 3 from 1 to 3\\nmove 2 from 2 to 1\\nmove 1 from 1 to 2\""
      ]
     },
     "execution_count": 6,
     "metadata": {},
     "output_type": "execute_result"
    }
   ],
   "source": [
    "sample = \"\"\"    [D]    \n",
    "[N] [C]    \n",
    "[Z] [M] [P]\n",
    " 1   2   3 \n",
    "\n",
    "move 1 from 2 to 1\n",
    "move 3 from 1 to 3\n",
    "move 2 from 2 to 1\n",
    "move 1 from 1 to 2\"\"\""
   ]
  },
  {
   "cell_type": "code",
   "execution_count": 7,
   "metadata": {},
   "outputs": [
    {
     "data": {
      "text/plain": [
       "9-element Vector{SubString{String}}:\n",
       " \"    [D]    \"\n",
       " \"[N] [C]    \"\n",
       " \"[Z] [M] [P]\"\n",
       " \" 1   2   3 \"\n",
       " \"\"\n",
       " \"move 1 from 2 to 1\"\n",
       " \"move 3 from 1 to 3\"\n",
       " \"move 2 from 2 to 1\"\n",
       " \"move 1 from 1 to 2\""
      ]
     },
     "execution_count": 7,
     "metadata": {},
     "output_type": "execute_result"
    }
   ],
   "source": [
    "parsed_sample = parse_input(sample)"
   ]
  },
  {
   "cell_type": "code",
   "execution_count": 8,
   "metadata": {},
   "outputs": [
    {
     "data": {
      "text/plain": [
       "preprocess (generic function with 1 method)"
      ]
     },
     "execution_count": 8,
     "metadata": {},
     "output_type": "execute_result"
    }
   ],
   "source": [
    "function preprocess(input)\n",
    "    vecs = [Char[] for _ in 1:100] # generate enough stacks\n",
    "    ops = []\n",
    "\n",
    "    for line in input\n",
    "        if startswith(line, \"move\")\n",
    "            m = match(r\"move (\\d+) from (\\d+) to (\\d+)\", line)\n",
    "            num, from, to = parse.(Int, m.captures)\n",
    "            push!(ops, (num, from, to))\n",
    "        elseif occursin(\"[\", line)\n",
    "            idx = 0\n",
    "            for i in 2:4:lastindex(line)\n",
    "                idx += 1\n",
    "                if line[i] != ' '\n",
    "                    push!(vecs[idx], line[i])\n",
    "                end\n",
    "            end\n",
    "        end\n",
    "    end\n",
    "\n",
    "    reverse!.(vecs)\n",
    "\n",
    "    return vecs, ops\n",
    "end"
   ]
  },
  {
   "cell_type": "code",
   "execution_count": 9,
   "metadata": {},
   "outputs": [
    {
     "data": {
      "text/plain": [
       "part_one (generic function with 1 method)"
      ]
     },
     "execution_count": 9,
     "metadata": {},
     "output_type": "execute_result"
    }
   ],
   "source": [
    "function part_one(input)\n",
    "    vecs, ops = preprocess(input)\n",
    "\n",
    "    for (num, from, to) in ops\n",
    "        append!(vecs[to], reverse(vecs[from][end-num+1:end]))\n",
    "        vecs[from] = vecs[from][1:end-num]\n",
    "    end\n",
    "\n",
    "    return join(v[end] for v in vecs if !isempty(v))\n",
    "end"
   ]
  },
  {
   "cell_type": "code",
   "execution_count": 10,
   "metadata": {},
   "outputs": [
    {
     "data": {
      "text/plain": [
       "\"CMZ\""
      ]
     },
     "execution_count": 10,
     "metadata": {},
     "output_type": "execute_result"
    }
   ],
   "source": [
    "part_one(parsed_sample)"
   ]
  },
  {
   "cell_type": "code",
   "execution_count": 11,
   "metadata": {},
   "outputs": [
    {
     "data": {
      "text/plain": [
       "\"FZCMJCRHZ\""
      ]
     },
     "execution_count": 11,
     "metadata": {},
     "output_type": "execute_result"
    }
   ],
   "source": [
    "part_one_ans = part_one(parsed_input)"
   ]
  },
  {
   "cell_type": "code",
   "execution_count": 12,
   "metadata": {},
   "outputs": [
    {
     "data": {
      "text/plain": [
       "\"<!DOCTYPE html>\\n<html lang=\\\"en-us\\\">\\n<head>\\n<meta charset=\\\"utf-8\\\"/>\\n<title>Day 5 - Advent of Code 2022</title>\\n<!--[if lt IE 9]><script src=\\\"/static/html5.js\\\"></script><![endif]-->\\n<link href='//fonts.googleapis.com/css?family=Source+Code+Pro:300&subset=latin,latin-ext' \" ⋯ 3354 bytes ⋯ \"Name(o)[0];a.async=1;a.src=g;m.parentNode.insertBefore(a,m)\\n})(window,document,'script','//www.google-analytics.com/analytics.js','ga');\\nga('create', 'UA-69522494-1', 'auto');\\nga('set', 'anonymizeIp', true);\\nga('send', 'pageview');\\n</script>\\n<!-- /ga -->\\n</body>\\n</html>\""
      ]
     },
     "execution_count": 12,
     "metadata": {},
     "output_type": "execute_result"
    }
   ],
   "source": [
    "submit_answer(year, day, part_one_ans)"
   ]
  },
  {
   "cell_type": "code",
   "execution_count": 13,
   "metadata": {},
   "outputs": [
    {
     "data": {
      "text/plain": [
       "part_two (generic function with 1 method)"
      ]
     },
     "execution_count": 13,
     "metadata": {},
     "output_type": "execute_result"
    }
   ],
   "source": [
    "function part_two(input)\n",
    "    vecs, ops = preprocess(input)\n",
    "\n",
    "    for (num, from, to) in ops\n",
    "        append!(vecs[to], vecs[from][end-num+1:end])\n",
    "        vecs[from] = vecs[from][1:end-num]\n",
    "    end\n",
    "\n",
    "    return join(v[end] for v in vecs if !isempty(v))\n",
    "end"
   ]
  },
  {
   "cell_type": "code",
   "execution_count": 14,
   "metadata": {},
   "outputs": [
    {
     "data": {
      "text/plain": [
       "\"MCD\""
      ]
     },
     "execution_count": 14,
     "metadata": {},
     "output_type": "execute_result"
    }
   ],
   "source": [
    "part_two(parsed_sample)"
   ]
  },
  {
   "cell_type": "code",
   "execution_count": 15,
   "metadata": {},
   "outputs": [
    {
     "data": {
      "text/plain": [
       "\"JSDHQMZGF\""
      ]
     },
     "execution_count": 15,
     "metadata": {},
     "output_type": "execute_result"
    }
   ],
   "source": [
    "part_two_ans = part_two(parsed_input)"
   ]
  },
  {
   "cell_type": "code",
   "execution_count": 16,
   "metadata": {},
   "outputs": [
    {
     "data": {
      "text/plain": [
       "\"<!DOCTYPE html>\\n<html lang=\\\"en-us\\\">\\n<head>\\n<meta charset=\\\"utf-8\\\"/>\\n<title>Day 5 - Advent of Code 2022</title>\\n<!--[if lt IE 9]><script src=\\\"/static/html5.js\\\"></script><![endif]-->\\n<link href='//fonts.googleapis.com/css?family=Source+Code+Pro:300&subset=latin,latin-ext' \" ⋯ 3281 bytes ⋯ \"Name(o)[0];a.async=1;a.src=g;m.parentNode.insertBefore(a,m)\\n})(window,document,'script','//www.google-analytics.com/analytics.js','ga');\\nga('create', 'UA-69522494-1', 'auto');\\nga('set', 'anonymizeIp', true);\\nga('send', 'pageview');\\n</script>\\n<!-- /ga -->\\n</body>\\n</html>\""
      ]
     },
     "execution_count": 16,
     "metadata": {},
     "output_type": "execute_result"
    }
   ],
   "source": [
    "submit_answer(year, day, part_two_ans, 2)"
   ]
  }
 ],
 "metadata": {
  "kernelspec": {
   "display_name": "Julia 1.8.0",
   "language": "julia",
   "name": "julia-1.8"
  },
  "language_info": {
   "file_extension": ".jl",
   "mimetype": "application/julia",
   "name": "julia",
   "version": "1.8.3"
  },
  "orig_nbformat": 4,
  "vscode": {
   "interpreter": {
    "hash": "2decbbcdbe1b404b08c0c2ae8935a58886fd60ea7dad56cfc87e2a14f377e9ba"
   }
  }
 },
 "nbformat": 4,
 "nbformat_minor": 2
}
