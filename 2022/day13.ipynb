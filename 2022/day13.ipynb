{
 "cells": [
  {
   "cell_type": "code",
   "execution_count": 1,
   "metadata": {},
   "outputs": [
    {
     "name": "stderr",
     "output_type": "stream",
     "text": [
      "\u001b[32m\u001b[1m  Activating\u001b[22m\u001b[39m project at `~/com.github/lucifer1004/AdventOfCode.jl`\n"
     ]
    }
   ],
   "source": [
    "import Pkg; Pkg.activate(\"..\")"
   ]
  },
  {
   "cell_type": "code",
   "execution_count": 2,
   "metadata": {},
   "outputs": [],
   "source": [
    "using AdventOfCode"
   ]
  },
  {
   "cell_type": "code",
   "execution_count": 3,
   "metadata": {},
   "outputs": [
    {
     "data": {
      "text/plain": [
       "13"
      ]
     },
     "execution_count": 3,
     "metadata": {},
     "output_type": "execute_result"
    }
   ],
   "source": [
    "year = 2022\n",
    "day = 13"
   ]
  },
  {
   "cell_type": "code",
   "execution_count": 4,
   "metadata": {},
   "outputs": [
    {
     "data": {
      "text/plain": [
       "\"[[[],[3,[],4,[2,1,3]],8,7],[0,7,[[5,2,1,0],5],9],[10,[[],4,[7,2],2,8],[[2,1,0,5]],[[7,2],0,[],[3,5,1],5]],[0,10,2]]\\n[[],[3,[[6,3],[2],[8,3]],[[1,6],[3,9,1],[]]]]\\n\\n[[3,2,4],[1,[2,3,[5,1,8],7,9]],[[4,[]]]]\\n[[[[],[],6],3]]\\n\\n[[[[],[6,7,8,0,5],1,8,3],7,4],[[9,10,2,9,5],5],[1\" ⋯ 21504 bytes ⋯ \"9],9,6,1],[],[[1,10,1,6,9],5,2]],[10,[[7,8,10]],3,0,2],[[2,5,1],[[0,8,0,2],9,4,[10],[]]]]\\n\\n[[],[[9],10],[[[4,7],[4,6,2,3],9,[2],[0,8]],[2,3],10,9],[4,6,[[1,3,7,8]],10,[[]]]]\\n[[[2],0,5],[],[]]\\n\\n[[[1],9,5,9]]\\n[[],[5,10,[[8],[8,7,0,8,5],10,2,[0,6,9]],[[3,10,6],8],[0]],[]]\""
      ]
     },
     "execution_count": 4,
     "metadata": {},
     "output_type": "execute_result"
    }
   ],
   "source": [
    "input = get_input(year, day)"
   ]
  },
  {
   "cell_type": "code",
   "execution_count": 5,
   "metadata": {},
   "outputs": [
    {
     "data": {
      "text/plain": [
       "449-element Vector{SubString{String}}:\n",
       " \"[[[],[3,[],4,[2,1,3]],8,7],[0,7\" ⋯ 53 bytes ⋯ \"7,2],0,[],[3,5,1],5]],[0,10,2]]\"\n",
       " \"[[],[3,[[6,3],[2],[8,3]],[[1,6],[3,9,1],[]]]]\"\n",
       " \"\"\n",
       " \"[[3,2,4],[1,[2,3,[5,1,8],7,9]],[[4,[]]]]\"\n",
       " \"[[[[],[],6],3]]\"\n",
       " \"\"\n",
       " \"[[[[],[6,7,8,0,5],1,8,3],7,4],[[9,10,2,9,5],5],[10,[3],[[],[9],1,3]]]\"\n",
       " \"[[7,[0,[1,2,7,0],3,[10,4,10]],[\" ⋯ 87 bytes ⋯ \"0,6,3,0]]],[5,[],[9]],[10,3,8]]\"\n",
       " \"\"\n",
       " \"[[[[7,7],[],10,[0,8]]],[7,[[],2]],[3,10,[[1,0,10,7],[6,10,5,2],[8],5],[[]]]]\"\n",
       " \"[[[],[[4],9],9,[[3,1,7,9,3],[2,\" ⋯ 36 bytes ⋯ \"6],9,2],[],[[5,2,4],3,[2,9,9]]]\"\n",
       " \"\"\n",
       " \"[[[5],[[0],[0,7,0,6,5],[2],[4,3,5,8]],1]]\"\n",
       " ⋮\n",
       " \"\"\n",
       " \"[[6,2,8,1,[[],4]],[2,[[0],[10,2\" ⋯ 47 bytes ⋯ \",10,4,1,10]],9],[6,1,10,10],[]]\"\n",
       " \"[[[],10,[1,9,[4,0,1,1]],9,5],[2,[2,[9,4],[7,0,6,2,8]]],[5,2,[[0,3,4]]],[[]]]\"\n",
       " \"\"\n",
       " \"[[3,[4,[]],6,8],[],[4,5,8,[4,3]]]\"\n",
       " \"[[[7],[[0,7,5,2,9],9,6,1],[],[[\" ⋯ 43 bytes ⋯ \",5,1],[[0,8,0,2],9,4,[10],[]]]]\"\n",
       " \"\"\n",
       " \"[[],[[9],10],[[[4,7],[4,6,2,3],\" ⋯ 20 bytes ⋯ \"0,9],[4,6,[[1,3,7,8]],10,[[]]]]\"\n",
       " \"[[[2],0,5],[],[]]\"\n",
       " \"\"\n",
       " \"[[[1],9,5,9]]\"\n",
       " \"[[],[5,10,[[8],[8,7,0,8,5],10,2,[0,6,9]],[[3,10,6],8],[0]],[]]\""
      ]
     },
     "execution_count": 5,
     "metadata": {},
     "output_type": "execute_result"
    }
   ],
   "source": [
    "parsed_input = parse_input(input)"
   ]
  },
  {
   "cell_type": "code",
   "execution_count": 6,
   "metadata": {},
   "outputs": [
    {
     "data": {
      "text/plain": [
       "\"[1,1,3,1,1]\\n[1,1,5,1,1]\\n\\n[[1],[2,3,4]]\\n[[1],4]\\n\\n[9]\\n[[8,7,6]]\\n\\n[[4,4],4,4]\\n[[4,4],4,4,4]\\n\\n[7,7,7,7]\\n[7,7,7]\\n\\n[]\\n[3]\\n\\n[[[]]]\\n[[]]\\n\\n[1,[2,[3,[4,[5,6,7]]]],8,9]\\n[1,[2,[3,[4,[5,6,0]]]],8,9]\""
      ]
     },
     "execution_count": 6,
     "metadata": {},
     "output_type": "execute_result"
    }
   ],
   "source": [
    "sample = \"\"\"[1,1,3,1,1]\n",
    "[1,1,5,1,1]\n",
    "\n",
    "[[1],[2,3,4]]\n",
    "[[1],4]\n",
    "\n",
    "[9]\n",
    "[[8,7,6]]\n",
    "\n",
    "[[4,4],4,4]\n",
    "[[4,4],4,4,4]\n",
    "\n",
    "[7,7,7,7]\n",
    "[7,7,7]\n",
    "\n",
    "[]\n",
    "[3]\n",
    "\n",
    "[[[]]]\n",
    "[[]]\n",
    "\n",
    "[1,[2,[3,[4,[5,6,7]]]],8,9]\n",
    "[1,[2,[3,[4,[5,6,0]]]],8,9]\"\"\""
   ]
  },
  {
   "cell_type": "code",
   "execution_count": 7,
   "metadata": {},
   "outputs": [
    {
     "data": {
      "text/plain": [
       "23-element Vector{SubString{String}}:\n",
       " \"[1,1,3,1,1]\"\n",
       " \"[1,1,5,1,1]\"\n",
       " \"\"\n",
       " \"[[1],[2,3,4]]\"\n",
       " \"[[1],4]\"\n",
       " \"\"\n",
       " \"[9]\"\n",
       " \"[[8,7,6]]\"\n",
       " \"\"\n",
       " \"[[4,4],4,4]\"\n",
       " \"[[4,4],4,4,4]\"\n",
       " \"\"\n",
       " \"[7,7,7,7]\"\n",
       " \"[7,7,7]\"\n",
       " \"\"\n",
       " \"[]\"\n",
       " \"[3]\"\n",
       " \"\"\n",
       " \"[[[]]]\"\n",
       " \"[[]]\"\n",
       " \"\"\n",
       " \"[1,[2,[3,[4,[5,6,7]]]],8,9]\"\n",
       " \"[1,[2,[3,[4,[5,6,0]]]],8,9]\""
      ]
     },
     "execution_count": 7,
     "metadata": {},
     "output_type": "execute_result"
    }
   ],
   "source": [
    "parsed_sample = parse_input(sample)"
   ]
  },
  {
   "cell_type": "code",
   "execution_count": 8,
   "metadata": {},
   "outputs": [
    {
     "data": {
      "text/plain": [
       "cmp (generic function with 5 methods)"
      ]
     },
     "execution_count": 8,
     "metadata": {},
     "output_type": "execute_result"
    }
   ],
   "source": [
    "cmp(a::AbstractString, b::AbstractString) = cmp(eval(Meta.parse(a)), eval(Meta.parse(b)))\n",
    "cmp(a::Integer, b::Integer) = sign(a - b)\n",
    "cmp(a::AbstractArray, b) = cmp(a, [b])\n",
    "cmp(a, b::AbstractArray) = cmp([a], b)\n",
    "\n",
    "function cmp(a::AbstractArray, b::AbstractArray)\n",
    "    m = min(length(a), length(b))\n",
    "    for i in 1:m\n",
    "        res = cmp(a[i], b[i])\n",
    "        if res != 0\n",
    "            return res\n",
    "        end\n",
    "    end\n",
    "\n",
    "    return cmp(length(a), length(b))\n",
    "end"
   ]
  },
  {
   "cell_type": "code",
   "execution_count": 9,
   "metadata": {},
   "outputs": [
    {
     "data": {
      "text/plain": [
       "part_one (generic function with 1 method)"
      ]
     },
     "execution_count": 9,
     "metadata": {},
     "output_type": "execute_result"
    }
   ],
   "source": [
    "function part_one(input)\n",
    "    return sum(i÷3+1 for i in 1:3:length(input) if cmp(input[i], input[i + 1]) <= 0)\n",
    "end"
   ]
  },
  {
   "cell_type": "code",
   "execution_count": 10,
   "metadata": {},
   "outputs": [
    {
     "data": {
      "text/plain": [
       "13"
      ]
     },
     "execution_count": 10,
     "metadata": {},
     "output_type": "execute_result"
    }
   ],
   "source": [
    "part_one(parsed_sample)"
   ]
  },
  {
   "cell_type": "code",
   "execution_count": 11,
   "metadata": {},
   "outputs": [
    {
     "data": {
      "text/plain": [
       "5330"
      ]
     },
     "execution_count": 11,
     "metadata": {},
     "output_type": "execute_result"
    }
   ],
   "source": [
    "part_one_ans = part_one(parsed_input)"
   ]
  },
  {
   "cell_type": "code",
   "execution_count": 12,
   "metadata": {},
   "outputs": [
    {
     "data": {
      "text/plain": [
       "\"<!DOCTYPE html>\\n<html lang=\\\"en-us\\\">\\n<head>\\n<meta charset=\\\"utf-8\\\"/>\\n<title>Day 13 - Advent of Code 2022</title>\\n<!--[if lt IE 9]><script src=\\\"/static/html5.js\\\"></script><![endif]-->\\n<link href='//fonts.googleapis.com/css?family=Source+Code+Pro:300&subset=latin,latin-ext'\" ⋯ 3358 bytes ⋯ \"Name(o)[0];a.async=1;a.src=g;m.parentNode.insertBefore(a,m)\\n})(window,document,'script','//www.google-analytics.com/analytics.js','ga');\\nga('create', 'UA-69522494-1', 'auto');\\nga('set', 'anonymizeIp', true);\\nga('send', 'pageview');\\n</script>\\n<!-- /ga -->\\n</body>\\n</html>\""
      ]
     },
     "execution_count": 12,
     "metadata": {},
     "output_type": "execute_result"
    }
   ],
   "source": [
    "submit_answer(year, day, part_one_ans)"
   ]
  },
  {
   "cell_type": "code",
   "execution_count": 13,
   "metadata": {},
   "outputs": [
    {
     "data": {
      "text/plain": [
       "part_two (generic function with 1 method)"
      ]
     },
     "execution_count": 13,
     "metadata": {},
     "output_type": "execute_result"
    }
   ],
   "source": [
    "function part_two(input)\n",
    "    results = Any[eval(Meta.parse((line))) for line in input if !isempty(line)]\n",
    "    pivot2 = [[2]]\n",
    "    pivot6 = [[6]]\n",
    "    push!(results, pivot2)\n",
    "    push!(results, pivot6)\n",
    "    n = length(results)\n",
    "    lt = (x, y) -> cmp(x, y) < 0\n",
    "    sort!(results; lt = lt)\n",
    "    p2 = findfirst((==)(pivot2), results)\n",
    "    p6 = findfirst((==)(pivot6), results)\n",
    "    return p2 * p6\n",
    "end"
   ]
  },
  {
   "cell_type": "code",
   "execution_count": 14,
   "metadata": {},
   "outputs": [
    {
     "data": {
      "text/plain": [
       "140"
      ]
     },
     "execution_count": 14,
     "metadata": {},
     "output_type": "execute_result"
    }
   ],
   "source": [
    "part_two(parsed_sample)"
   ]
  },
  {
   "cell_type": "code",
   "execution_count": 15,
   "metadata": {},
   "outputs": [
    {
     "data": {
      "text/plain": [
       "27648"
      ]
     },
     "execution_count": 15,
     "metadata": {},
     "output_type": "execute_result"
    }
   ],
   "source": [
    "part_two_ans = part_two(parsed_input)"
   ]
  },
  {
   "cell_type": "code",
   "execution_count": 16,
   "metadata": {},
   "outputs": [
    {
     "data": {
      "text/plain": [
       "\"<!DOCTYPE html>\\n<html lang=\\\"en-us\\\">\\n<head>\\n<meta charset=\\\"utf-8\\\"/>\\n<title>Day 13 - Advent of Code 2022</title>\\n<!--[if lt IE 9]><script src=\\\"/static/html5.js\\\"></script><![endif]-->\\n<link href='//fonts.googleapis.com/css?family=Source+Code+Pro:300&subset=latin,latin-ext'\" ⋯ 3379 bytes ⋯ \"Name(o)[0];a.async=1;a.src=g;m.parentNode.insertBefore(a,m)\\n})(window,document,'script','//www.google-analytics.com/analytics.js','ga');\\nga('create', 'UA-69522494-1', 'auto');\\nga('set', 'anonymizeIp', true);\\nga('send', 'pageview');\\n</script>\\n<!-- /ga -->\\n</body>\\n</html>\""
      ]
     },
     "execution_count": 16,
     "metadata": {},
     "output_type": "execute_result"
    }
   ],
   "source": [
    "submit_answer(year, day, part_two_ans, 2)"
   ]
  },
  {
   "cell_type": "code",
   "execution_count": 17,
   "metadata": {},
   "outputs": [],
   "source": [
    "struct Node\n",
    "    value::Union{Int, Vector{Node}}\n",
    "end"
   ]
  },
  {
   "cell_type": "code",
   "execution_count": 18,
   "metadata": {},
   "outputs": [],
   "source": [
    "function Base.show(io::IO, node::Node)\n",
    "    if node.value isa Vector\n",
    "        print(io, \"[\")\n",
    "        for i in 1:length(node.value)\n",
    "            print(io, node.value[i])\n",
    "            if i < length(node.value)\n",
    "                print(io, \",\")\n",
    "            end\n",
    "        end\n",
    "        print(io, \"]\")\n",
    "    else\n",
    "        print(io, node.value)\n",
    "    end\n",
    "end"
   ]
  },
  {
   "cell_type": "code",
   "execution_count": 19,
   "metadata": {},
   "outputs": [
    {
     "data": {
      "text/plain": [
       "Node"
      ]
     },
     "execution_count": 19,
     "metadata": {},
     "output_type": "execute_result"
    }
   ],
   "source": [
    "function Node(s::AbstractString)\n",
    "    now = [Node(Node[])]\n",
    "    num = Char[]\n",
    "    for ch in s * \"#\"\n",
    "        if !isnumeric(ch) && !isempty(num)\n",
    "            push!(now[end].value, Node(parse(Int, join(num))))\n",
    "            empty!(num)\n",
    "        end\n",
    "\n",
    "        if isnumeric(ch)\n",
    "            push!(num, ch)\n",
    "        elseif ch == '['\n",
    "            node = Node(Node[])\n",
    "            push!(now[end].value, node)\n",
    "            push!(now, node)\n",
    "        elseif ch == ']'\n",
    "            pop!(now)\n",
    "        end\n",
    "    end\n",
    "\n",
    "    return now[1].value[1]\n",
    "end"
   ]
  },
  {
   "cell_type": "code",
   "execution_count": 20,
   "metadata": {},
   "outputs": [],
   "source": [
    "function Base.isless(a::Node, b::Node)\n",
    "    if a.value isa Vector && b.value isa Vector\n",
    "        m = min(length(a.value), length(b.value))\n",
    "        for i in 1:m\n",
    "            if a.value[i] < b.value[i]\n",
    "                return true\n",
    "            elseif b.value[i] < a.value[i]\n",
    "                return false\n",
    "            end\n",
    "        end\n",
    "\n",
    "        return length(a.value) < length(b.value)\n",
    "    elseif a.value isa Vector\n",
    "        return a < Node([b])\n",
    "    elseif b.value isa Vector\n",
    "        return Node([a]) < b\n",
    "    else\n",
    "        return a.value < b.value\n",
    "    end\n",
    "end"
   ]
  },
  {
   "cell_type": "code",
   "execution_count": 21,
   "metadata": {},
   "outputs": [
    {
     "data": {
      "text/plain": [
       "part_one_new (generic function with 1 method)"
      ]
     },
     "execution_count": 21,
     "metadata": {},
     "output_type": "execute_result"
    }
   ],
   "source": [
    "function part_one_new(input)\n",
    "    return sum(i÷3+1 for i in 1:3:length(input) if Node(input[i + 1]) >= Node(input[i]))\n",
    "end"
   ]
  },
  {
   "cell_type": "code",
   "execution_count": 22,
   "metadata": {},
   "outputs": [
    {
     "data": {
      "text/plain": [
       "13"
      ]
     },
     "execution_count": 22,
     "metadata": {},
     "output_type": "execute_result"
    }
   ],
   "source": [
    "part_one_new(parsed_sample)"
   ]
  },
  {
   "cell_type": "code",
   "execution_count": 23,
   "metadata": {},
   "outputs": [
    {
     "data": {
      "text/plain": [
       "5330"
      ]
     },
     "execution_count": 23,
     "metadata": {},
     "output_type": "execute_result"
    }
   ],
   "source": [
    "part_one_new(parsed_input)"
   ]
  },
  {
   "cell_type": "code",
   "execution_count": 24,
   "metadata": {},
   "outputs": [
    {
     "data": {
      "text/plain": [
       "part_two_new (generic function with 1 method)"
      ]
     },
     "execution_count": 24,
     "metadata": {},
     "output_type": "execute_result"
    }
   ],
   "source": [
    "function part_two_new(input)\n",
    "    pivot2 = Node(\"[[2]]\")\n",
    "    pivot6 = Node(\"[[6]]\")\n",
    "    results = vcat([Node(line) for line in input if !isempty(line)], [pivot2], [pivot6])\n",
    "    n = length(results)\n",
    "    sort!(results)\n",
    "    p2 = findfirst((==)(pivot2), results)\n",
    "    p6 = findfirst((==)(pivot6), results)\n",
    "    @show p2, p6\n",
    "    return p2 * p6\n",
    "end"
   ]
  },
  {
   "cell_type": "code",
   "execution_count": 25,
   "metadata": {},
   "outputs": [
    {
     "name": "stdout",
     "output_type": "stream",
     "text": [
      "(p2, p6) = (10, 14)\n"
     ]
    },
    {
     "data": {
      "text/plain": [
       "140"
      ]
     },
     "execution_count": 25,
     "metadata": {},
     "output_type": "execute_result"
    }
   ],
   "source": [
    "part_two_new(parsed_sample)"
   ]
  },
  {
   "cell_type": "code",
   "execution_count": 26,
   "metadata": {},
   "outputs": [
    {
     "name": "stdout",
     "output_type": "stream",
     "text": [
      "(p2, p6) = (128, 216)\n"
     ]
    },
    {
     "data": {
      "text/plain": [
       "27648"
      ]
     },
     "execution_count": 26,
     "metadata": {},
     "output_type": "execute_result"
    }
   ],
   "source": [
    "part_two_new(parsed_input)"
   ]
  },
  {
   "cell_type": "code",
   "execution_count": 27,
   "metadata": {},
   "outputs": [
    {
     "name": "stdout",
     "output_type": "stream",
     "text": [
      "Part 1: 5330\n",
      "Part 2: 27648\n"
     ]
    }
   ],
   "source": [
    "Base.isless(a::Int, b::Vector) = [a] < b\n",
    "Base.isless(a::Vector, b::Int) = a < [b]\n",
    "function Base.isless(a::Vector, b::Vector)\n",
    "    m = min(length(a), length(b))\n",
    "    for i in 1:m\n",
    "        if a[i] < b[i]\n",
    "            return true\n",
    "        elseif b[i] < a[i]\n",
    "            return false\n",
    "        end\n",
    "    end\n",
    "\n",
    "    return length(a) < length(b)\n",
    "end\n",
    "arr = [eval(Meta.parse(line)) for line in parsed_input if !isempty(line)]\n",
    "println(\"Part 1: \", sum(i ÷ 2 for i in 2:2:length(arr) if arr[i] >= arr[i-1]))\n",
    "append!(arr, [[[2]], [[6]]])\n",
    "\n",
    "n = length(arr)\n",
    "sort!(arr)\n",
    "println(\"Part 2: \", prod(indexin([[[2]], [[6]]], arr)))"
   ]
  }
 ],
 "metadata": {
  "kernelspec": {
   "display_name": "Julia 1.8.0",
   "language": "julia",
   "name": "julia-1.8"
  },
  "language_info": {
   "file_extension": ".jl",
   "mimetype": "application/julia",
   "name": "julia",
   "version": "1.8.3"
  },
  "orig_nbformat": 4,
  "vscode": {
   "interpreter": {
    "hash": "2decbbcdbe1b404b08c0c2ae8935a58886fd60ea7dad56cfc87e2a14f377e9ba"
   }
  }
 },
 "nbformat": 4,
 "nbformat_minor": 2
}
