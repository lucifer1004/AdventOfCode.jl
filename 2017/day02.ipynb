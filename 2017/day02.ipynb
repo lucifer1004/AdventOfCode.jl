{
 "cells": [
  {
   "cell_type": "code",
   "execution_count": 1,
   "metadata": {},
   "outputs": [
    {
     "name": "stderr",
     "output_type": "stream",
     "text": [
      "\u001b[32m\u001b[1m  Activating\u001b[22m\u001b[39m project at `~/com.github/lucifer1004/AdventOfCode.jl`\n"
     ]
    }
   ],
   "source": [
    "import Pkg; Pkg.activate(\"..\")"
   ]
  },
  {
   "cell_type": "code",
   "execution_count": 2,
   "metadata": {},
   "outputs": [],
   "source": [
    "using AdventOfCode"
   ]
  },
  {
   "cell_type": "code",
   "execution_count": 3,
   "metadata": {},
   "outputs": [
    {
     "data": {
      "text/plain": [
       "2"
      ]
     },
     "execution_count": 3,
     "metadata": {},
     "output_type": "execute_result"
    }
   ],
   "source": [
    "year = 2017\n",
    "day = 2"
   ]
  },
  {
   "cell_type": "code",
   "execution_count": 4,
   "metadata": {},
   "outputs": [
    {
     "data": {
      "text/plain": [
       "\"278\\t1689\\t250\\t1512\\t1792\\t1974\\t175\\t1639\\t235\\t1635\\t1690\\t1947\\t810\\t224\\t928\\t859\\n160\\t50\\t55\\t81\\t68\\t130\\t145\\t21\\t211\\t136\\t119\\t78\\t174\\t155\\t149\\t72\\n4284\\t185\\t4499\\t273\\t4750\\t4620\\t4779\\t4669\\t2333\\t231\\t416\\t1603\\t197\\t922\\t5149\\t2993\\n120\\t124\\t104\\t1015\\t1467\\t110\\t299\\t320\\t1516\\t137\\t1473\\t132\\t1229\\t1329\\t1430\\t3\" ⋯ 589 bytes ⋯ \"90\\t2249\\t2812\\t2620\\t2743\\t2209\\t465\\t139\\t2757\\t203\\t2832\\t2454\\t177\\t2799\\t2278\\n1308\\t797\\t498\\t791\\t1312\\t99\\t1402\\t1332\\t521\\t1354\\t1339\\t101\\t367\\t1333\\t111\\t92\\n149\\t4140\\t112\\t3748\\t148\\t815\\t4261\\t138\\t1422\\t2670\\t32\\t334\\t2029\\t4750\\t4472\\t2010\\n114\\t605\\t94\\t136\\t96\\t167\\t553\\t395\\t164\\t159\\t284\\t104\\t530\\t551\\t544\\t18\""
      ]
     },
     "execution_count": 4,
     "metadata": {},
     "output_type": "execute_result"
    }
   ],
   "source": [
    "input = get_input(year, day)"
   ]
  },
  {
   "cell_type": "code",
   "execution_count": 5,
   "metadata": {},
   "outputs": [
    {
     "data": {
      "text/plain": [
       "16-element Vector{SubString{String}}:\n",
       " \"278\\t1689\\t250\\t1512\\t1792\\t1974\\t175\\t1639\\t235\\t1635\\t1690\\t1947\\t810\\t224\\t928\\t859\"\n",
       " \"160\\t50\\t55\\t81\\t68\\t130\\t145\\t21\\t211\\t136\\t119\\t78\\t174\\t155\\t149\\t72\"\n",
       " \"4284\\t185\\t4499\\t273\\t4750\\t4620\\t4779\\t4669\\t2333\\t231\\t416\\t1603\\t197\\t922\\t5149\\t2993\"\n",
       " \"120\\t124\\t104\\t1015\\t1467\\t110\\t299\\t320\\t1516\\t137\\t1473\\t132\\t1229\\t1329\\t1430\\t392\"\n",
       " \"257\\t234\\t3409\\t2914\\t2993\\t3291\\t368\\t284\\t259\\t3445\\t245\\t1400\\t3276\\t339\\t2207\\t233\"\n",
       " \"1259\\t78\\t811\\t99\\t2295\\t1628\\t3264\\t2616\\t116\\t3069\\t2622\\t1696\\t1457\\t1532\\t268\\t82\"\n",
       " \"868\\t619\\t139\\t522\\t168\\t872\\t176\\t160\\t1010\\t200\\t974\\t1008\\t1139\\t552\\t510\\t1083\"\n",
       " \"1982\\t224\\t3003\\t234\\t212\\t1293\\t1453\\t3359\\t326\\t3627\\t3276\\t3347\\t1438\\t2910\\t248\\t2512\"\n",
       " \"4964\\t527\\t5108\\t4742\\t4282\\t4561\\t4070\\t3540\\t196\\t228\\t3639\\t4848\\t152\\t1174\\t5005\\t202\"\n",
       " \"1381\\t1480\\t116\\t435\\t980\\t1022\\t155\\t1452\\t1372\\t121\\t128\\t869\\t1043\\t826\\t1398\\t137\"\n",
       " \"2067\\t2153\\t622\\t1479\\t2405\\t1134\\t2160\\t1057\\t819\\t99\\t106\\t1628\\t1538\\t108\\t112\\t1732\"\n",
       " \"4535\\t2729\\t4960\\t241\\t4372\\t3960\\t248\\t267\\t230\\t5083\\t827\\t1843\\t3488\\t4762\\t2294\\t3932\"\n",
       " \"3245\\t190\\t2249\\t2812\\t2620\\t2743\\t2209\\t465\\t139\\t2757\\t203\\t2832\\t2454\\t177\\t2799\\t2278\"\n",
       " \"1308\\t797\\t498\\t791\\t1312\\t99\\t1402\\t1332\\t521\\t1354\\t1339\\t101\\t367\\t1333\\t111\\t92\"\n",
       " \"149\\t4140\\t112\\t3748\\t148\\t815\\t4261\\t138\\t1422\\t2670\\t32\\t334\\t2029\\t4750\\t4472\\t2010\"\n",
       " \"114\\t605\\t94\\t136\\t96\\t167\\t553\\t395\\t164\\t159\\t284\\t104\\t530\\t551\\t544\\t18\""
      ]
     },
     "execution_count": 5,
     "metadata": {},
     "output_type": "execute_result"
    }
   ],
   "source": [
    "parsed_input = parse_input(input)"
   ]
  },
  {
   "cell_type": "code",
   "execution_count": 6,
   "metadata": {},
   "outputs": [
    {
     "data": {
      "text/plain": [
       "\"5 1 9 5\\n7 5 3\\n2 4 6 8\""
      ]
     },
     "execution_count": 6,
     "metadata": {},
     "output_type": "execute_result"
    }
   ],
   "source": [
    "sample = \"\"\"5 1 9 5\n",
    "7 5 3\n",
    "2 4 6 8\"\"\""
   ]
  },
  {
   "cell_type": "code",
   "execution_count": 7,
   "metadata": {},
   "outputs": [
    {
     "data": {
      "text/plain": [
       "3-element Vector{SubString{String}}:\n",
       " \"5 1 9 5\"\n",
       " \"7 5 3\"\n",
       " \"2 4 6 8\""
      ]
     },
     "execution_count": 7,
     "metadata": {},
     "output_type": "execute_result"
    }
   ],
   "source": [
    "parsed_sample = parse_input(sample)"
   ]
  },
  {
   "cell_type": "code",
   "execution_count": 8,
   "metadata": {},
   "outputs": [
    {
     "data": {
      "text/plain": [
       "part_one (generic function with 1 method)"
      ]
     },
     "execution_count": 8,
     "metadata": {},
     "output_type": "execute_result"
    }
   ],
   "source": [
    "function part_one(input)\n",
    "    map(input) do line\n",
    "        nums = parse.(Int, split(line))\n",
    "        maximum(nums) - minimum(nums)\n",
    "    end |> sum\n",
    "end"
   ]
  },
  {
   "cell_type": "code",
   "execution_count": 9,
   "metadata": {},
   "outputs": [
    {
     "data": {
      "text/plain": [
       "18"
      ]
     },
     "execution_count": 9,
     "metadata": {},
     "output_type": "execute_result"
    }
   ],
   "source": [
    "part_one(parsed_sample)"
   ]
  },
  {
   "cell_type": "code",
   "execution_count": 10,
   "metadata": {},
   "outputs": [
    {
     "data": {
      "text/plain": [
       "42378"
      ]
     },
     "execution_count": 10,
     "metadata": {},
     "output_type": "execute_result"
    }
   ],
   "source": [
    "part_one_ans = part_one(parsed_input)"
   ]
  },
  {
   "cell_type": "code",
   "execution_count": 11,
   "metadata": {},
   "outputs": [
    {
     "data": {
      "text/plain": [
       "\"<!DOCTYPE html>\\n<html lang=\\\"en-us\\\">\\n<head>\\n<meta charset=\\\"utf-8\\\"/>\\n<title>Day 2 - Advent of Code 2017</title>\\n<!--[if lt IE 9]><script src=\\\"/static/html5.js\\\"></script><![endif]-->\\n<link href='//fonts.googleapis.com/css?family=Source+Code+Pro:300&subset=latin,latin-ext' \" ⋯ 3182 bytes ⋯ \"Name(o)[0];a.async=1;a.src=g;m.parentNode.insertBefore(a,m)\\n})(window,document,'script','//www.google-analytics.com/analytics.js','ga');\\nga('create', 'UA-69522494-1', 'auto');\\nga('set', 'anonymizeIp', true);\\nga('send', 'pageview');\\n</script>\\n<!-- /ga -->\\n</body>\\n</html>\""
      ]
     },
     "execution_count": 11,
     "metadata": {},
     "output_type": "execute_result"
    }
   ],
   "source": [
    "submit_answer(year, day, part_one_ans)"
   ]
  },
  {
   "cell_type": "code",
   "execution_count": 12,
   "metadata": {},
   "outputs": [
    {
     "data": {
      "text/plain": [
       "part_two (generic function with 1 method)"
      ]
     },
     "execution_count": 12,
     "metadata": {},
     "output_type": "execute_result"
    }
   ],
   "source": [
    "function part_two(input)\n",
    "    map(input) do line\n",
    "        nums = parse.(Int, split(line))\n",
    "        for i in 1:length(nums)\n",
    "            for j in 1:length(nums)\n",
    "                if i != j && nums[i] % nums[j] == 0\n",
    "                    return nums[i] ÷ nums[j]\n",
    "                end\n",
    "            end\n",
    "        end\n",
    "    end |> sum\n",
    "end"
   ]
  },
  {
   "cell_type": "code",
   "execution_count": 13,
   "metadata": {},
   "outputs": [
    {
     "data": {
      "text/plain": [
       "246"
      ]
     },
     "execution_count": 13,
     "metadata": {},
     "output_type": "execute_result"
    }
   ],
   "source": [
    "part_two_ans = part_two(parsed_input)"
   ]
  },
  {
   "cell_type": "code",
   "execution_count": 14,
   "metadata": {},
   "outputs": [
    {
     "data": {
      "text/plain": [
       "\"<!DOCTYPE html>\\n<html lang=\\\"en-us\\\">\\n<head>\\n<meta charset=\\\"utf-8\\\"/>\\n<title>Day 2 - Advent of Code 2017</title>\\n<!--[if lt IE 9]><script src=\\\"/static/html5.js\\\"></script><![endif]-->\\n<link href='//fonts.googleapis.com/css?family=Source+Code+Pro:300&subset=latin,latin-ext' \" ⋯ 3195 bytes ⋯ \"Name(o)[0];a.async=1;a.src=g;m.parentNode.insertBefore(a,m)\\n})(window,document,'script','//www.google-analytics.com/analytics.js','ga');\\nga('create', 'UA-69522494-1', 'auto');\\nga('set', 'anonymizeIp', true);\\nga('send', 'pageview');\\n</script>\\n<!-- /ga -->\\n</body>\\n</html>\""
      ]
     },
     "execution_count": 14,
     "metadata": {},
     "output_type": "execute_result"
    }
   ],
   "source": [
    "submit_answer(year, day, part_two_ans, 2)"
   ]
  }
 ],
 "metadata": {
  "kernelspec": {
   "display_name": "Julia 1.8.0",
   "language": "julia",
   "name": "julia-1.8"
  },
  "language_info": {
   "file_extension": ".jl",
   "mimetype": "application/julia",
   "name": "julia",
   "version": "1.8.3"
  },
  "orig_nbformat": 4,
  "vscode": {
   "interpreter": {
    "hash": "2decbbcdbe1b404b08c0c2ae8935a58886fd60ea7dad56cfc87e2a14f377e9ba"
   }
  }
 },
 "nbformat": 4,
 "nbformat_minor": 2
}
