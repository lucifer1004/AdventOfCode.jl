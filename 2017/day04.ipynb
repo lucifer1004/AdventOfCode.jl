{
 "cells": [
  {
   "cell_type": "code",
   "execution_count": 1,
   "metadata": {},
   "outputs": [
    {
     "name": "stderr",
     "output_type": "stream",
     "text": [
      "\u001b[32m\u001b[1m  Activating\u001b[22m\u001b[39m project at `~/com.github/lucifer1004/AdventOfCode.jl`\n"
     ]
    }
   ],
   "source": [
    "import Pkg; Pkg.activate(\"..\")"
   ]
  },
  {
   "cell_type": "code",
   "execution_count": 2,
   "metadata": {},
   "outputs": [],
   "source": [
    "using AdventOfCode"
   ]
  },
  {
   "cell_type": "code",
   "execution_count": 3,
   "metadata": {},
   "outputs": [
    {
     "data": {
      "text/plain": [
       "4"
      ]
     },
     "execution_count": 3,
     "metadata": {},
     "output_type": "execute_result"
    }
   ],
   "source": [
    "year = 2017\n",
    "day = 4"
   ]
  },
  {
   "cell_type": "code",
   "execution_count": 4,
   "metadata": {},
   "outputs": [
    {
     "data": {
      "text/plain": [
       "\"nyot babgr babgr kqtu kqtu kzshonp ylyk psqk\\niix ewj rojvbkk phrij iix zuajnk tadv givslju ewj bda\\nisjur jppvano vctnpjp ngwzdq pxqfrk mnxxes zqwgnd giqh\\nojufqke gpd olzirc jfao cjfh rcivvw pqqpudp\\nilgomox extiffg ylbd nqxhk lsi isl nrho yom\\nfeauv scstmie qgbod enpltx j\"\u001b[93m\u001b[1m ⋯ 21936 bytes ⋯ \u001b[22m\u001b[39m\" duilf\\nbkvlfuw onkqzeo iwrg rifqzhj mgroul rnor qqqc sbfi hny zosfp kopxb\\nnvifbx jbowbj fnyskt jbowbj xvun xvun\\npiyl haajm stwzpp xvjg amjah\\ngye efwwwiv kyv zmtcgmi ifwvwew\\ndflx gdtb jyoj jyoj dflx aqhycgi xffnn\\ninc mpys mzqmcwx vryz ibqrzc pmsy fat rojpxwy rcbqzi gjef\""
      ]
     },
     "execution_count": 4,
     "metadata": {},
     "output_type": "execute_result"
    }
   ],
   "source": [
    "input = get_input(year, day)"
   ]
  },
  {
   "cell_type": "code",
   "execution_count": 5,
   "metadata": {},
   "outputs": [
    {
     "data": {
      "text/plain": [
       "512-element Vector{SubString{String}}:\n",
       " \"nyot babgr babgr kqtu kqtu kzshonp ylyk psqk\"\n",
       " \"iix ewj rojvbkk phrij iix zuajnk tadv givslju ewj bda\"\n",
       " \"isjur jppvano vctnpjp ngwzdq pxqfrk mnxxes zqwgnd giqh\"\n",
       " \"ojufqke gpd olzirc jfao cjfh rcivvw pqqpudp\"\n",
       " \"ilgomox extiffg ylbd nqxhk lsi isl nrho yom\"\n",
       " \"feauv scstmie qgbod enpltx jrhlxet qps lejrtxh\"\n",
       " \"wlrxtdo tlwdxor ezg ztp uze xtmw neuga aojrixu zpt\"\n",
       " \"wchrl pzibt nvcae wceb\"\n",
       " \"rdwytj kxuyet bqnzlv nyntjan dyrpsn zhi kbxlj ivo\"\n",
       " \"dab mwiz bapjpz jbzppa\"\n",
       " \"hbcudl tsfvtc zlqgpuk xoxbuh whmo atsxt pzkivuo wsa gjoevr hbcudl\"\n",
       " \"gxhqamx dradmqo gxhqamx gxhqamx\"\n",
       " \"yvwykx uhto ten wkvxyy wdbw\"\n",
       " ⋮\n",
       " \"dprclb fzn wgauz rxewtp cjrlgz zfn\"\n",
       " \"fidwoa mvoqy afian ntzokap mkplgy jfukgjv cyfsz\"\n",
       " \"hbvqnnt giinuzq uezugy qooxjc zsxr rnihg ipbels\"\n",
       " \"qroi wtltjq suj tqit bxtc jidzhpe nizp wtltjq nadcdm wwyhjrg\"\n",
       " \"qtr fkbl bpptu baen awjpwsg vvqbxz animt uqbk zvbxvq\"\n",
       " \"nznq fdiul jbv umyrf yufrm hrl duilf\"\n",
       " \"bkvlfuw onkqzeo iwrg rifqzhj mgroul rnor qqqc sbfi hny zosfp kopxb\"\n",
       " \"nvifbx jbowbj fnyskt jbowbj xvun xvun\"\n",
       " \"piyl haajm stwzpp xvjg amjah\"\n",
       " \"gye efwwwiv kyv zmtcgmi ifwvwew\"\n",
       " \"dflx gdtb jyoj jyoj dflx aqhycgi xffnn\"\n",
       " \"inc mpys mzqmcwx vryz ibqrzc pmsy fat rojpxwy rcbqzi gjef\""
      ]
     },
     "execution_count": 5,
     "metadata": {},
     "output_type": "execute_result"
    }
   ],
   "source": [
    "parsed_input = parse_input(input)"
   ]
  },
  {
   "cell_type": "code",
   "execution_count": 6,
   "metadata": {},
   "outputs": [
    {
     "data": {
      "text/plain": [
       "\"aa bb cc dd ee\\naa bb cc dd aa\\naa bb cc dd aaa\""
      ]
     },
     "execution_count": 6,
     "metadata": {},
     "output_type": "execute_result"
    }
   ],
   "source": [
    "sample = \"\"\"aa bb cc dd ee\n",
    "aa bb cc dd aa\n",
    "aa bb cc dd aaa\"\"\""
   ]
  },
  {
   "cell_type": "code",
   "execution_count": 7,
   "metadata": {},
   "outputs": [
    {
     "data": {
      "text/plain": [
       "3-element Vector{SubString{String}}:\n",
       " \"aa bb cc dd ee\"\n",
       " \"aa bb cc dd aa\"\n",
       " \"aa bb cc dd aaa\""
      ]
     },
     "execution_count": 7,
     "metadata": {},
     "output_type": "execute_result"
    }
   ],
   "source": [
    "parsed_sample = parse_input(sample)"
   ]
  },
  {
   "cell_type": "code",
   "execution_count": 8,
   "metadata": {},
   "outputs": [
    {
     "data": {
      "text/plain": [
       "validate (generic function with 1 method)"
      ]
     },
     "execution_count": 8,
     "metadata": {},
     "output_type": "execute_result"
    }
   ],
   "source": [
    "function validate(input)\n",
    "    words = split(input)\n",
    "    return length(words) == length(Set(words))\n",
    "end"
   ]
  },
  {
   "cell_type": "code",
   "execution_count": 9,
   "metadata": {},
   "outputs": [
    {
     "data": {
      "text/plain": [
       "part_one (generic function with 1 method)"
      ]
     },
     "execution_count": 9,
     "metadata": {},
     "output_type": "execute_result"
    }
   ],
   "source": [
    "function part_one(input)\n",
    "    return count(validate, input)\n",
    "end"
   ]
  },
  {
   "cell_type": "code",
   "execution_count": 10,
   "metadata": {},
   "outputs": [
    {
     "data": {
      "text/plain": [
       "2"
      ]
     },
     "execution_count": 10,
     "metadata": {},
     "output_type": "execute_result"
    }
   ],
   "source": [
    "part_one(parsed_sample)"
   ]
  },
  {
   "cell_type": "code",
   "execution_count": 11,
   "metadata": {},
   "outputs": [
    {
     "data": {
      "text/plain": [
       "325"
      ]
     },
     "execution_count": 11,
     "metadata": {},
     "output_type": "execute_result"
    }
   ],
   "source": [
    "part_one_ans = part_one(parsed_input)"
   ]
  },
  {
   "cell_type": "code",
   "execution_count": 12,
   "metadata": {},
   "outputs": [
    {
     "data": {
      "text/plain": [
       "\"<!DOCTYPE html>\\n<html lang=\\\"en-us\\\">\\n<head>\\n<meta charset=\\\"utf-8\\\"/>\\n<title>Day 4 - Advent of Code 2017</title>\\n<link rel=\\\"stylesheet\\\" type=\\\"text/css\\\" href=\\\"/static/style.css?31\\\"/>\\n<link rel=\\\"stylesheet alternate\\\" type=\\\"text/css\\\" href=\\\"/static/highcontrast.css?1\\\" title=\\\"H\"\u001b[93m\u001b[1m ⋯ 3032 bytes ⋯ \u001b[22m\u001b[39m\"Name(o)[0];a.async=1;a.src=g;m.parentNode.insertBefore(a,m)\\n})(window,document,'script','//www.google-analytics.com/analytics.js','ga');\\nga('create', 'UA-69522494-1', 'auto');\\nga('set', 'anonymizeIp', true);\\nga('send', 'pageview');\\n</script>\\n<!-- /ga -->\\n</body>\\n</html>\""
      ]
     },
     "execution_count": 12,
     "metadata": {},
     "output_type": "execute_result"
    }
   ],
   "source": [
    "submit_answer(year, day, part_one_ans)"
   ]
  },
  {
   "cell_type": "code",
   "execution_count": 13,
   "metadata": {},
   "outputs": [
    {
     "data": {
      "text/plain": [
       "validate_strong (generic function with 1 method)"
      ]
     },
     "execution_count": 13,
     "metadata": {},
     "output_type": "execute_result"
    }
   ],
   "source": [
    "function validate_strong(input)\n",
    "    words = split(input)\n",
    "    return length(words) == length(Set([word |> collect |> sort |> join for word in words]))\n",
    "end"
   ]
  },
  {
   "cell_type": "code",
   "execution_count": 14,
   "metadata": {},
   "outputs": [
    {
     "data": {
      "text/plain": [
       "part_two (generic function with 1 method)"
      ]
     },
     "execution_count": 14,
     "metadata": {},
     "output_type": "execute_result"
    }
   ],
   "source": [
    "function part_two(input)\n",
    "    return count(validate_strong, input)\n",
    "end"
   ]
  },
  {
   "cell_type": "code",
   "execution_count": 15,
   "metadata": {},
   "outputs": [
    {
     "data": {
      "text/plain": [
       "\"abcde fghij\\nabcde xyz ecdab\\na ab abc abd abf abj\\niiii oiii ooii oooi oooo\\noiii ioii iioi iiio\""
      ]
     },
     "execution_count": 15,
     "metadata": {},
     "output_type": "execute_result"
    }
   ],
   "source": [
    "sample2 = \"\"\"abcde fghij\n",
    "abcde xyz ecdab\n",
    "a ab abc abd abf abj\n",
    "iiii oiii ooii oooi oooo\n",
    "oiii ioii iioi iiio\"\"\""
   ]
  },
  {
   "cell_type": "code",
   "execution_count": 16,
   "metadata": {},
   "outputs": [
    {
     "data": {
      "text/plain": [
       "5-element Vector{SubString{String}}:\n",
       " \"abcde fghij\"\n",
       " \"abcde xyz ecdab\"\n",
       " \"a ab abc abd abf abj\"\n",
       " \"iiii oiii ooii oooi oooo\"\n",
       " \"oiii ioii iioi iiio\""
      ]
     },
     "execution_count": 16,
     "metadata": {},
     "output_type": "execute_result"
    }
   ],
   "source": [
    "parsed_sample2 = parse_input(sample2)"
   ]
  },
  {
   "cell_type": "code",
   "execution_count": 17,
   "metadata": {},
   "outputs": [
    {
     "data": {
      "text/plain": [
       "3"
      ]
     },
     "execution_count": 17,
     "metadata": {},
     "output_type": "execute_result"
    }
   ],
   "source": [
    "part_two(parsed_sample2)"
   ]
  },
  {
   "cell_type": "code",
   "execution_count": 18,
   "metadata": {},
   "outputs": [
    {
     "data": {
      "text/plain": [
       "119"
      ]
     },
     "execution_count": 18,
     "metadata": {},
     "output_type": "execute_result"
    }
   ],
   "source": [
    "part_two_ans = part_two(parsed_input)"
   ]
  },
  {
   "cell_type": "code",
   "execution_count": 19,
   "metadata": {},
   "outputs": [
    {
     "data": {
      "text/plain": [
       "\"<!DOCTYPE html>\\n<html lang=\\\"en-us\\\">\\n<head>\\n<meta charset=\\\"utf-8\\\"/>\\n<title>Day 4 - Advent of Code 2017</title>\\n<link rel=\\\"stylesheet\\\" type=\\\"text/css\\\" href=\\\"/static/style.css?31\\\"/>\\n<link rel=\\\"stylesheet alternate\\\" type=\\\"text/css\\\" href=\\\"/static/highcontrast.css?1\\\" title=\\\"H\"\u001b[93m\u001b[1m ⋯ 3024 bytes ⋯ \u001b[22m\u001b[39m\"Name(o)[0];a.async=1;a.src=g;m.parentNode.insertBefore(a,m)\\n})(window,document,'script','//www.google-analytics.com/analytics.js','ga');\\nga('create', 'UA-69522494-1', 'auto');\\nga('set', 'anonymizeIp', true);\\nga('send', 'pageview');\\n</script>\\n<!-- /ga -->\\n</body>\\n</html>\""
      ]
     },
     "execution_count": 19,
     "metadata": {},
     "output_type": "execute_result"
    }
   ],
   "source": [
    "submit_answer(year, day, part_two_ans, 2)"
   ]
  }
 ],
 "metadata": {
  "kernelspec": {
   "display_name": "julia 1.10.0-rc1",
   "language": "julia",
   "name": "julia-1.10"
  },
  "language_info": {
   "file_extension": ".jl",
   "mimetype": "application/julia",
   "name": "julia",
   "version": "1.10.0"
  },
  "orig_nbformat": 4,
  "vscode": {
   "interpreter": {
    "hash": "2decbbcdbe1b404b08c0c2ae8935a58886fd60ea7dad56cfc87e2a14f377e9ba"
   }
  }
 },
 "nbformat": 4,
 "nbformat_minor": 2
}
