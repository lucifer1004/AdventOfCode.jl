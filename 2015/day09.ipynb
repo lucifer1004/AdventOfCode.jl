{
 "cells": [
  {
   "cell_type": "code",
   "execution_count": 1,
   "metadata": {},
   "outputs": [
    {
     "name": "stderr",
     "output_type": "stream",
     "text": [
      "\u001b[32m\u001b[1m  Activating\u001b[22m\u001b[39m project at `~/com.github/lucifer1004/AdventOfCode.jl`\n"
     ]
    }
   ],
   "source": [
    "import Pkg; Pkg.activate(\"..\")"
   ]
  },
  {
   "cell_type": "code",
   "execution_count": 2,
   "metadata": {},
   "outputs": [],
   "source": [
    "using AdventOfCode"
   ]
  },
  {
   "cell_type": "code",
   "execution_count": 3,
   "metadata": {},
   "outputs": [
    {
     "data": {
      "text/plain": [
       "9"
      ]
     },
     "execution_count": 3,
     "metadata": {},
     "output_type": "execute_result"
    }
   ],
   "source": [
    "year = 2015\n",
    "day = 9"
   ]
  },
  {
   "cell_type": "code",
   "execution_count": 4,
   "metadata": {},
   "outputs": [
    {
     "data": {
      "text/plain": [
       "\"AlphaCentauri to Snowdin = 66\\nAlphaCentauri to Tambi = 28\\nAlphaCentauri to Faerun = 60\\nAlphaCentauri to Norrath = 34\\nAlphaCentauri to Straylight = 34\\nAlphaCentauri to Tristram = 3\\nAlphaCentauri to Arbre = 108\\nSnowdin to Tambi = 22\\nSnowdin to Faerun = 12\\nSnowdin to Norrat\" ⋯ 168 bytes ⋯ \"am = 35\\nTambi to Arbre = 40\\nFaerun to Norrath = 63\\nFaerun to Straylight = 21\\nFaerun to Tristram = 57\\nFaerun to Arbre = 83\\nNorrath to Straylight = 9\\nNorrath to Tristram = 50\\nNorrath to Arbre = 60\\nStraylight to Tristram = 27\\nStraylight to Arbre = 81\\nTristram to Arbre = 90\""
      ]
     },
     "execution_count": 4,
     "metadata": {},
     "output_type": "execute_result"
    }
   ],
   "source": [
    "input = get_input(year, day)"
   ]
  },
  {
   "cell_type": "code",
   "execution_count": 5,
   "metadata": {},
   "outputs": [
    {
     "data": {
      "text/plain": [
       "28-element Vector{SubString{String}}:\n",
       " \"AlphaCentauri to Snowdin = 66\"\n",
       " \"AlphaCentauri to Tambi = 28\"\n",
       " \"AlphaCentauri to Faerun = 60\"\n",
       " \"AlphaCentauri to Norrath = 34\"\n",
       " \"AlphaCentauri to Straylight = 34\"\n",
       " \"AlphaCentauri to Tristram = 3\"\n",
       " \"AlphaCentauri to Arbre = 108\"\n",
       " \"Snowdin to Tambi = 22\"\n",
       " \"Snowdin to Faerun = 12\"\n",
       " \"Snowdin to Norrath = 91\"\n",
       " \"Snowdin to Straylight = 121\"\n",
       " \"Snowdin to Tristram = 111\"\n",
       " \"Snowdin to Arbre = 71\"\n",
       " ⋮\n",
       " \"Tambi to Tristram = 35\"\n",
       " \"Tambi to Arbre = 40\"\n",
       " \"Faerun to Norrath = 63\"\n",
       " \"Faerun to Straylight = 21\"\n",
       " \"Faerun to Tristram = 57\"\n",
       " \"Faerun to Arbre = 83\"\n",
       " \"Norrath to Straylight = 9\"\n",
       " \"Norrath to Tristram = 50\"\n",
       " \"Norrath to Arbre = 60\"\n",
       " \"Straylight to Tristram = 27\"\n",
       " \"Straylight to Arbre = 81\"\n",
       " \"Tristram to Arbre = 90\""
      ]
     },
     "execution_count": 5,
     "metadata": {},
     "output_type": "execute_result"
    }
   ],
   "source": [
    "parsed_input = parse_input(input)"
   ]
  },
  {
   "cell_type": "code",
   "execution_count": 6,
   "metadata": {},
   "outputs": [
    {
     "data": {
      "text/plain": [
       "\"London to Dublin = 464\\nLondon to Belfast = 518\\nDublin to Belfast = 141\""
      ]
     },
     "execution_count": 6,
     "metadata": {},
     "output_type": "execute_result"
    }
   ],
   "source": [
    "sample = \"\"\"London to Dublin = 464\n",
    "London to Belfast = 518\n",
    "Dublin to Belfast = 141\"\"\""
   ]
  },
  {
   "cell_type": "code",
   "execution_count": 7,
   "metadata": {},
   "outputs": [
    {
     "data": {
      "text/plain": [
       "3-element Vector{SubString{String}}:\n",
       " \"London to Dublin = 464\"\n",
       " \"London to Belfast = 518\"\n",
       " \"Dublin to Belfast = 141\""
      ]
     },
     "execution_count": 7,
     "metadata": {},
     "output_type": "execute_result"
    }
   ],
   "source": [
    "parsed_sample = parse_input(sample)"
   ]
  },
  {
   "cell_type": "code",
   "execution_count": 8,
   "metadata": {},
   "outputs": [
    {
     "data": {
      "text/plain": [
       "preprocess (generic function with 1 method)"
      ]
     },
     "execution_count": 8,
     "metadata": {},
     "output_type": "execute_result"
    }
   ],
   "source": [
    "function preprocess(input)\n",
    "    input = map(x -> match(r\"(\\w+) to (\\w+) = (\\d+)\", x).captures, input)\n",
    "    cities = collect(Set([x[1] for x in input]) ∪ Set([x[2] for x in input]))\n",
    "    n = length(cities)\n",
    "    dist = zeros(Int, n, n)\n",
    "    mapping = Dict(city => i for (i, city) in enumerate(cities))\n",
    "    for (u, v, d) in input\n",
    "        d = parse(Int, d)\n",
    "        dist[mapping[u], mapping[v]] = d\n",
    "        dist[mapping[v], mapping[u]] = d\n",
    "    end\n",
    "\n",
    "    return dist\n",
    "end"
   ]
  },
  {
   "cell_type": "code",
   "execution_count": 9,
   "metadata": {},
   "outputs": [
    {
     "data": {
      "text/plain": [
       "part_one (generic function with 1 method)"
      ]
     },
     "execution_count": 9,
     "metadata": {},
     "output_type": "execute_result"
    }
   ],
   "source": [
    "function part_one(input)\n",
    "    dist = preprocess(input)\n",
    "    n = size(dist)[1]\n",
    "    ans = minimum(sum(dist[u, v] for (u, v) in zip(route[1:end-1], route[2:end])) for route in permutations(1:n))\n",
    "end"
   ]
  },
  {
   "cell_type": "code",
   "execution_count": 10,
   "metadata": {},
   "outputs": [
    {
     "data": {
      "text/plain": [
       "605"
      ]
     },
     "execution_count": 10,
     "metadata": {},
     "output_type": "execute_result"
    }
   ],
   "source": [
    "part_one(parsed_sample)"
   ]
  },
  {
   "cell_type": "code",
   "execution_count": 11,
   "metadata": {},
   "outputs": [
    {
     "data": {
      "text/plain": [
       "141"
      ]
     },
     "execution_count": 11,
     "metadata": {},
     "output_type": "execute_result"
    }
   ],
   "source": [
    "part_one_ans = part_one(parsed_input)"
   ]
  },
  {
   "cell_type": "code",
   "execution_count": 12,
   "metadata": {},
   "outputs": [
    {
     "data": {
      "text/plain": [
       "\"<!DOCTYPE html>\\n<html lang=\\\"en-us\\\">\\n<head>\\n<meta charset=\\\"utf-8\\\"/>\\n<title>Day 9 - Advent of Code 2015</title>\\n<!--[if lt IE 9]><script src=\\\"/static/html5.js\\\"></script><![endif]-->\\n<link href='//fonts.googleapis.com/css?family=Source+Code+Pro:300&subset=latin,latin-ext' \" ⋯ 2832 bytes ⋯ \"Name(o)[0];a.async=1;a.src=g;m.parentNode.insertBefore(a,m)\\n})(window,document,'script','//www.google-analytics.com/analytics.js','ga');\\nga('create', 'UA-69522494-1', 'auto');\\nga('set', 'anonymizeIp', true);\\nga('send', 'pageview');\\n</script>\\n<!-- /ga -->\\n</body>\\n</html>\""
      ]
     },
     "execution_count": 12,
     "metadata": {},
     "output_type": "execute_result"
    }
   ],
   "source": [
    "submit_answer(year, day, part_one_ans)"
   ]
  },
  {
   "cell_type": "code",
   "execution_count": 13,
   "metadata": {},
   "outputs": [
    {
     "data": {
      "text/plain": [
       "part_two (generic function with 1 method)"
      ]
     },
     "execution_count": 13,
     "metadata": {},
     "output_type": "execute_result"
    }
   ],
   "source": [
    "function part_two(input)\n",
    "    dist = preprocess(input)\n",
    "    n = size(dist)[1]\n",
    "    ans = maximum(sum(dist[u, v] for (u, v) in zip(route[1:end-1], route[2:end])) for route in permutations(1:n))\n",
    "end"
   ]
  },
  {
   "cell_type": "code",
   "execution_count": 14,
   "metadata": {},
   "outputs": [
    {
     "data": {
      "text/plain": [
       "982"
      ]
     },
     "execution_count": 14,
     "metadata": {},
     "output_type": "execute_result"
    }
   ],
   "source": [
    "part_two(parsed_sample)"
   ]
  },
  {
   "cell_type": "code",
   "execution_count": 15,
   "metadata": {},
   "outputs": [
    {
     "data": {
      "text/plain": [
       "736"
      ]
     },
     "execution_count": 15,
     "metadata": {},
     "output_type": "execute_result"
    }
   ],
   "source": [
    "part_two_ans = part_two(parsed_input)"
   ]
  },
  {
   "cell_type": "code",
   "execution_count": 16,
   "metadata": {},
   "outputs": [
    {
     "data": {
      "text/plain": [
       "\"<!DOCTYPE html>\\n<html lang=\\\"en-us\\\">\\n<head>\\n<meta charset=\\\"utf-8\\\"/>\\n<title>Day 9 - Advent of Code 2015</title>\\n<!--[if lt IE 9]><script src=\\\"/static/html5.js\\\"></script><![endif]-->\\n<link href='//fonts.googleapis.com/css?family=Source+Code+Pro:300&subset=latin,latin-ext' \" ⋯ 2832 bytes ⋯ \"Name(o)[0];a.async=1;a.src=g;m.parentNode.insertBefore(a,m)\\n})(window,document,'script','//www.google-analytics.com/analytics.js','ga');\\nga('create', 'UA-69522494-1', 'auto');\\nga('set', 'anonymizeIp', true);\\nga('send', 'pageview');\\n</script>\\n<!-- /ga -->\\n</body>\\n</html>\""
      ]
     },
     "execution_count": 16,
     "metadata": {},
     "output_type": "execute_result"
    }
   ],
   "source": [
    "submit_answer(year, day, part_two_ans, 2)"
   ]
  }
 ],
 "metadata": {
  "kernelspec": {
   "display_name": "Julia 1.8.0",
   "language": "julia",
   "name": "julia-1.8"
  },
  "language_info": {
   "file_extension": ".jl",
   "mimetype": "application/julia",
   "name": "julia",
   "version": "1.8.3"
  },
  "orig_nbformat": 4,
  "vscode": {
   "interpreter": {
    "hash": "2decbbcdbe1b404b08c0c2ae8935a58886fd60ea7dad56cfc87e2a14f377e9ba"
   }
  }
 },
 "nbformat": 4,
 "nbformat_minor": 2
}
