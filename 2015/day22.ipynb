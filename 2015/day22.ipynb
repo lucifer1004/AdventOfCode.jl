{
 "cells": [
  {
   "cell_type": "code",
   "execution_count": 1,
   "metadata": {},
   "outputs": [
    {
     "name": "stderr",
     "output_type": "stream",
     "text": [
      "\u001b[32m\u001b[1m  Activating\u001b[22m\u001b[39m project at `~/com.github/lucifer1004/AdventOfCode.jl`\n"
     ]
    }
   ],
   "source": [
    "import Pkg; Pkg.activate(\"..\")"
   ]
  },
  {
   "cell_type": "code",
   "execution_count": 2,
   "metadata": {},
   "outputs": [],
   "source": [
    "using AdventOfCode"
   ]
  },
  {
   "cell_type": "code",
   "execution_count": 3,
   "metadata": {},
   "outputs": [
    {
     "data": {
      "text/plain": [
       "22"
      ]
     },
     "execution_count": 3,
     "metadata": {},
     "output_type": "execute_result"
    }
   ],
   "source": [
    "year = 2015\n",
    "day = 22"
   ]
  },
  {
   "cell_type": "code",
   "execution_count": 4,
   "metadata": {},
   "outputs": [
    {
     "data": {
      "text/plain": [
       "\"Hit Points: 51\\nDamage: 9\""
      ]
     },
     "execution_count": 4,
     "metadata": {},
     "output_type": "execute_result"
    }
   ],
   "source": [
    "input = get_input(year, day)"
   ]
  },
  {
   "cell_type": "code",
   "execution_count": 5,
   "metadata": {},
   "outputs": [
    {
     "data": {
      "text/plain": [
       "2-element Vector{SubString{String}}:\n",
       " \"Hit Points: 51\"\n",
       " \"Damage: 9\""
      ]
     },
     "execution_count": 5,
     "metadata": {},
     "output_type": "execute_result"
    }
   ],
   "source": [
    "parsed_input = parse_input(input)"
   ]
  },
  {
   "cell_type": "code",
   "execution_count": 6,
   "metadata": {},
   "outputs": [
    {
     "data": {
      "text/plain": [
       "(hp = 51, damage = 9)"
      ]
     },
     "execution_count": 6,
     "metadata": {},
     "output_type": "execute_result"
    }
   ],
   "source": [
    "boss = (\n",
    "    hp = parse(Int, split(parsed_input[1], \": \")[2]),\n",
    "    damage = parse(Int, split(parsed_input[2], \": \")[2]),\n",
    ")"
   ]
  },
  {
   "cell_type": "code",
   "execution_count": 7,
   "metadata": {},
   "outputs": [],
   "source": [
    "mutable struct State\n",
    "    hp::Int\n",
    "    mana::Int\n",
    "    mana_spent::Int\n",
    "    boss_hp::Int\n",
    "    shield::Int\n",
    "    poison::Int\n",
    "    recharge::Int\n",
    "end"
   ]
  },
  {
   "cell_type": "code",
   "execution_count": 8,
   "metadata": {},
   "outputs": [
    {
     "data": {
      "text/plain": [
       "solve (generic function with 1 method)"
      ]
     },
     "execution_count": 8,
     "metadata": {},
     "output_type": "execute_result"
    }
   ],
   "source": [
    "function solve(player_hp, player_mana, boss_hp, boss_damage; hard=false)\n",
    "    initial_state = State(player_hp, player_mana, 0, boss_hp, 0, 0, 0)\n",
    "    best = 100000\n",
    "\n",
    "    function dfs(state, playerturn)\n",
    "        if hard && playerturn\n",
    "            state.hp -= 1\n",
    "        end\n",
    "\n",
    "        if state.mana_spent >= best || state.hp <= 0\n",
    "            return\n",
    "        end\n",
    "\n",
    "        # Apply effects\n",
    "        if state.recharge > 0\n",
    "            state.mana += 101\n",
    "        end\n",
    "\n",
    "        if state.poison > 0\n",
    "            state.boss_hp -= 3\n",
    "        end\n",
    "\n",
    "        if state.boss_hp <= 0\n",
    "            best = min(best, state.mana_spent)\n",
    "            return\n",
    "        end\n",
    "\n",
    "        state.poison = max(0, state.poison - 1)\n",
    "        state.recharge = max(0, state.recharge - 1)\n",
    "\n",
    "        if playerturn # Player turn\n",
    "            state.shield = max(0, state.shield - 1)\n",
    "\n",
    "            if state.mana < 53\n",
    "                return\n",
    "            end\n",
    "\n",
    "            # Cast Magic Missile\n",
    "            if state.mana >= 53\n",
    "                new_state = deepcopy(state)\n",
    "                new_state.mana -= 53\n",
    "                new_state.mana_spent += 53\n",
    "                new_state.boss_hp -= 4\n",
    "                dfs(new_state, false)\n",
    "            end\n",
    "\n",
    "            # Cast Drain\n",
    "            if state.mana >= 73\n",
    "                new_state = deepcopy(state)\n",
    "                new_state.mana -= 73\n",
    "                new_state.mana_spent += 73\n",
    "                new_state.boss_hp -= 2\n",
    "                new_state.hp += 2\n",
    "                dfs(new_state, false)\n",
    "            end\n",
    "\n",
    "            # Cast Shield\n",
    "            if state.mana >= 113 && state.shield == 0\n",
    "                new_state = deepcopy(state)\n",
    "                new_state.mana -= 113\n",
    "                new_state.mana_spent += 113\n",
    "                new_state.shield = 6\n",
    "                dfs(new_state, false)\n",
    "            end\n",
    "\n",
    "            # Cast Poison\n",
    "            if state.mana >= 173 && state.poison == 0\n",
    "                new_state = deepcopy(state)\n",
    "                new_state.mana -= 173\n",
    "                new_state.mana_spent += 173\n",
    "                new_state.poison = 6\n",
    "                dfs(new_state, false)\n",
    "            end\n",
    "\n",
    "            # Cast Recharge\n",
    "            if state.mana >= 229 && state.recharge == 0\n",
    "                new_state = deepcopy(state)\n",
    "                new_state.mana -= 229\n",
    "                new_state.mana_spent += 229\n",
    "                new_state.recharge = 5\n",
    "                dfs(new_state, false)\n",
    "            end\n",
    "        else # Boss turn\n",
    "            state.hp -= max(1, boss_damage - 7 * sign(state.shield))\n",
    "            state.shield = max(0, state.shield - 1)\n",
    "            dfs(state, true)\n",
    "        end\n",
    "    end\n",
    "\n",
    "    dfs(initial_state, true)\n",
    "    return best\n",
    "end"
   ]
  },
  {
   "cell_type": "code",
   "execution_count": 9,
   "metadata": {},
   "outputs": [
    {
     "data": {
      "text/plain": [
       "part_one (generic function with 1 method)"
      ]
     },
     "execution_count": 9,
     "metadata": {},
     "output_type": "execute_result"
    }
   ],
   "source": [
    "part_one(args...) = solve(args...)"
   ]
  },
  {
   "cell_type": "code",
   "execution_count": 10,
   "metadata": {},
   "outputs": [
    {
     "data": {
      "text/plain": [
       "641"
      ]
     },
     "execution_count": 10,
     "metadata": {},
     "output_type": "execute_result"
    }
   ],
   "source": [
    "part_one(10, 250, 14, 8)"
   ]
  },
  {
   "cell_type": "code",
   "execution_count": 11,
   "metadata": {},
   "outputs": [
    {
     "data": {
      "text/plain": [
       "900"
      ]
     },
     "execution_count": 11,
     "metadata": {},
     "output_type": "execute_result"
    }
   ],
   "source": [
    "part_one_ans = part_one(50, 500, boss.hp, boss.damage)"
   ]
  },
  {
   "cell_type": "code",
   "execution_count": 12,
   "metadata": {},
   "outputs": [
    {
     "data": {
      "text/plain": [
       "\"<!DOCTYPE html>\\n<html lang=\\\"en-us\\\">\\n<head>\\n<meta charset=\\\"utf-8\\\"/>\\n<title>Day 22 - Advent of Code 2015</title>\\n<!--[if lt IE 9]><script src=\\\"/static/html5.js\\\"></script><![endif]-->\\n<link href='//fonts.googleapis.com/css?family=Source+Code+Pro:300&subset=latin,latin-ext'\" ⋯ 2858 bytes ⋯ \"Name(o)[0];a.async=1;a.src=g;m.parentNode.insertBefore(a,m)\\n})(window,document,'script','//www.google-analytics.com/analytics.js','ga');\\nga('create', 'UA-69522494-1', 'auto');\\nga('set', 'anonymizeIp', true);\\nga('send', 'pageview');\\n</script>\\n<!-- /ga -->\\n</body>\\n</html>\""
      ]
     },
     "execution_count": 12,
     "metadata": {},
     "output_type": "execute_result"
    }
   ],
   "source": [
    "submit_answer(year, day, part_one_ans)"
   ]
  },
  {
   "cell_type": "code",
   "execution_count": 13,
   "metadata": {},
   "outputs": [
    {
     "data": {
      "text/plain": [
       "part_two (generic function with 1 method)"
      ]
     },
     "execution_count": 13,
     "metadata": {},
     "output_type": "execute_result"
    }
   ],
   "source": [
    "part_two(args...) = solve(args...; hard=true)"
   ]
  },
  {
   "cell_type": "code",
   "execution_count": 14,
   "metadata": {},
   "outputs": [
    {
     "data": {
      "text/plain": [
       "1216"
      ]
     },
     "execution_count": 14,
     "metadata": {},
     "output_type": "execute_result"
    }
   ],
   "source": [
    "part_two_ans = part_two(50, 500, boss.hp, boss.damage)"
   ]
  },
  {
   "cell_type": "code",
   "execution_count": 15,
   "metadata": {},
   "outputs": [
    {
     "data": {
      "text/plain": [
       "\"<!DOCTYPE html>\\n<html lang=\\\"en-us\\\">\\n<head>\\n<meta charset=\\\"utf-8\\\"/>\\n<title>Day 22 - Advent of Code 2015</title>\\n<!--[if lt IE 9]><script src=\\\"/static/html5.js\\\"></script><![endif]-->\\n<link href='//fonts.googleapis.com/css?family=Source+Code+Pro:300&subset=latin,latin-ext'\" ⋯ 2821 bytes ⋯ \"Name(o)[0];a.async=1;a.src=g;m.parentNode.insertBefore(a,m)\\n})(window,document,'script','//www.google-analytics.com/analytics.js','ga');\\nga('create', 'UA-69522494-1', 'auto');\\nga('set', 'anonymizeIp', true);\\nga('send', 'pageview');\\n</script>\\n<!-- /ga -->\\n</body>\\n</html>\""
      ]
     },
     "execution_count": 15,
     "metadata": {},
     "output_type": "execute_result"
    }
   ],
   "source": [
    "submit_answer(year, day, part_two_ans, 2)"
   ]
  }
 ],
 "metadata": {
  "kernelspec": {
   "display_name": "Julia 1.8.0",
   "language": "julia",
   "name": "julia-1.8"
  },
  "language_info": {
   "file_extension": ".jl",
   "mimetype": "application/julia",
   "name": "julia",
   "version": "1.8.3"
  },
  "orig_nbformat": 4,
  "vscode": {
   "interpreter": {
    "hash": "2decbbcdbe1b404b08c0c2ae8935a58886fd60ea7dad56cfc87e2a14f377e9ba"
   }
  }
 },
 "nbformat": 4,
 "nbformat_minor": 2
}
