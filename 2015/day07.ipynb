{
 "cells": [
  {
   "cell_type": "code",
   "execution_count": 1,
   "metadata": {},
   "outputs": [
    {
     "name": "stderr",
     "output_type": "stream",
     "text": [
      "\u001b[32m\u001b[1m  Activating\u001b[22m\u001b[39m project at `~/com.github/lucifer1004/AdventOfCode.jl`\n"
     ]
    }
   ],
   "source": [
    "import Pkg; Pkg.activate(\"..\")"
   ]
  },
  {
   "cell_type": "code",
   "execution_count": 2,
   "metadata": {},
   "outputs": [],
   "source": [
    "using AdventOfCode"
   ]
  },
  {
   "cell_type": "code",
   "execution_count": 3,
   "metadata": {},
   "outputs": [
    {
     "data": {
      "text/plain": [
       "7"
      ]
     },
     "execution_count": 3,
     "metadata": {},
     "output_type": "execute_result"
    }
   ],
   "source": [
    "year = 2015\n",
    "day = 7"
   ]
  },
  {
   "cell_type": "code",
   "execution_count": 4,
   "metadata": {},
   "outputs": [
    {
     "data": {
      "text/plain": [
       "\"bn RSHIFT 2 -> bo\\nlf RSHIFT 1 -> ly\\nfo RSHIFT 3 -> fq\\ncj OR cp -> cq\\nfo OR fz -> ga\\nt OR s -> u\\nlx -> a\\nNOT ax -> ay\\nhe RSHIFT 2 -> hf\\nlf OR lq -> lr\\nlr AND lt -> lu\\ndy OR ej -> ek\\n1 AND cx -> cy\\nhb LSHIFT 1 -> hv\\n1 AND bh -> bi\\nih AND ij -> ik\\nc LSHIFT 1 -> t\\nea AND eb\" ⋯ 4762 bytes ⋯ \" AND ai -> ak\\nbo AND bu -> bw\\nhq AND hs -> ht\\nhz RSHIFT 1 -> is\\ngj RSHIFT 5 -> gm\\ng AND i -> j\\ngk AND gq -> gs\\ndp AND dr -> ds\\nb RSHIFT 3 -> e\\ngl AND gm -> go\\ngl OR gm -> gn\\ny AND ae -> ag\\nhv OR hu -> hw\\n1674 -> b\\nab AND ad -> ae\\nNOT ac -> ad\\n1 AND ht -> hu\\nNOT hn -> ho\""
      ]
     },
     "execution_count": 4,
     "metadata": {},
     "output_type": "execute_result"
    }
   ],
   "source": [
    "input = get_input(year, day)"
   ]
  },
  {
   "cell_type": "code",
   "execution_count": 5,
   "metadata": {},
   "outputs": [
    {
     "data": {
      "text/plain": [
       "339-element Vector{SubString{String}}:\n",
       " \"bn RSHIFT 2 -> bo\"\n",
       " \"lf RSHIFT 1 -> ly\"\n",
       " \"fo RSHIFT 3 -> fq\"\n",
       " \"cj OR cp -> cq\"\n",
       " \"fo OR fz -> ga\"\n",
       " \"t OR s -> u\"\n",
       " \"lx -> a\"\n",
       " \"NOT ax -> ay\"\n",
       " \"he RSHIFT 2 -> hf\"\n",
       " \"lf OR lq -> lr\"\n",
       " \"lr AND lt -> lu\"\n",
       " \"dy OR ej -> ek\"\n",
       " \"1 AND cx -> cy\"\n",
       " ⋮\n",
       " \"gk AND gq -> gs\"\n",
       " \"dp AND dr -> ds\"\n",
       " \"b RSHIFT 3 -> e\"\n",
       " \"gl AND gm -> go\"\n",
       " \"gl OR gm -> gn\"\n",
       " \"y AND ae -> ag\"\n",
       " \"hv OR hu -> hw\"\n",
       " \"1674 -> b\"\n",
       " \"ab AND ad -> ae\"\n",
       " \"NOT ac -> ad\"\n",
       " \"1 AND ht -> hu\"\n",
       " \"NOT hn -> ho\""
      ]
     },
     "execution_count": 5,
     "metadata": {},
     "output_type": "execute_result"
    }
   ],
   "source": [
    "parsed_input = parse_input(input)"
   ]
  },
  {
   "cell_type": "code",
   "execution_count": 6,
   "metadata": {},
   "outputs": [
    {
     "data": {
      "text/plain": [
       "part_one (generic function with 1 method)"
      ]
     },
     "execution_count": 6,
     "metadata": {},
     "output_type": "execute_result"
    }
   ],
   "source": [
    "function part_one(input)\n",
    "    d = Dict{String, UInt16}()\n",
    "    from = Dict{String, Any}()\n",
    "\n",
    "    function apply(a, b, c, op)\n",
    "        from[c] = (a, b, op)\n",
    "    end\n",
    "\n",
    "    function solve(a)\n",
    "        if haskey(d, a)\n",
    "            return d[a]\n",
    "        end\n",
    "\n",
    "        if haskey(from, a)\n",
    "            if length(from[a]) == 3\n",
    "                x, y, op = from[a]\n",
    "                x = solve(x)\n",
    "                y = solve(y)\n",
    "                d[a] = op(x, y)\n",
    "            elseif length(from[a]) == 2\n",
    "                x, _ = from[a]\n",
    "                d[a] = ~solve(x)\n",
    "            else\n",
    "                d[a] = solve(from[a][1])\n",
    "            end\n",
    "\n",
    "            return d[a]\n",
    "        else\n",
    "            return parse(UInt16, a)\n",
    "        end\n",
    "    end\n",
    "    \n",
    "    for line in input\n",
    "        if occursin(\"AND\", line)\n",
    "            a, b, c = match(r\"(\\w+) AND (\\w+) -> (\\w+)\", line).captures\n",
    "            from[c] = (a, b, (&))\n",
    "        elseif occursin(\"OR\", line)\n",
    "            a, b, c = match(r\"(\\w+) OR (\\w+) -> (\\w+)\", line).captures\n",
    "            from[c] = (a, b, (|))\n",
    "        elseif occursin(\"LSHIFT\", line)\n",
    "            a, b, c = match(r\"(\\w+) LSHIFT (\\w+) -> (\\w+)\", line).captures\n",
    "            from[c] = (a, b, (<<))\n",
    "        elseif occursin(\"RSHIFT\", line)\n",
    "            a, b, c = match(r\"(\\w+) RSHIFT (\\w+) -> (\\w+)\", line).captures\n",
    "            from[c] = (a, b, (>>))\n",
    "        elseif occursin(\"NOT\", line)\n",
    "            a, b = match(r\"NOT (\\w+) -> (\\w+)\", line).captures\n",
    "            from[b] = (a, -1)\n",
    "        else\n",
    "            a, b = match(r\"(\\w+) -> (\\w+)\", line).captures\n",
    "            from[b] = (a,)\n",
    "        end\n",
    "    end\n",
    "\n",
    "    return Int(solve(\"a\"))\n",
    "end"
   ]
  },
  {
   "cell_type": "code",
   "execution_count": 7,
   "metadata": {},
   "outputs": [
    {
     "data": {
      "text/plain": [
       "46065"
      ]
     },
     "execution_count": 7,
     "metadata": {},
     "output_type": "execute_result"
    }
   ],
   "source": [
    "part_one_ans = part_one(parsed_input)"
   ]
  },
  {
   "cell_type": "code",
   "execution_count": 8,
   "metadata": {},
   "outputs": [
    {
     "data": {
      "text/plain": [
       "\"<!DOCTYPE html>\\n<html lang=\\\"en-us\\\">\\n<head>\\n<meta charset=\\\"utf-8\\\"/>\\n<title>Day 7 - Advent of Code 2015</title>\\n<!--[if lt IE 9]><script src=\\\"/static/html5.js\\\"></script><![endif]-->\\n<link href='//fonts.googleapis.com/css?family=Source+Code+Pro:300&subset=latin,latin-ext' \" ⋯ 2815 bytes ⋯ \"Name(o)[0];a.async=1;a.src=g;m.parentNode.insertBefore(a,m)\\n})(window,document,'script','//www.google-analytics.com/analytics.js','ga');\\nga('create', 'UA-69522494-1', 'auto');\\nga('set', 'anonymizeIp', true);\\nga('send', 'pageview');\\n</script>\\n<!-- /ga -->\\n</body>\\n</html>\""
      ]
     },
     "execution_count": 8,
     "metadata": {},
     "output_type": "execute_result"
    }
   ],
   "source": [
    "submit_answer(year, day, part_one_ans)"
   ]
  },
  {
   "cell_type": "code",
   "execution_count": 9,
   "metadata": {},
   "outputs": [
    {
     "data": {
      "text/plain": [
       "part_two (generic function with 1 method)"
      ]
     },
     "execution_count": 9,
     "metadata": {},
     "output_type": "execute_result"
    }
   ],
   "source": [
    "function part_two(input)\n",
    "    d = Dict{String, UInt16}()\n",
    "    from = Dict{String, Any}()\n",
    "\n",
    "    function apply(a, b, c, op)\n",
    "        from[c] = (a, b, op)\n",
    "    end\n",
    "\n",
    "    function solve(a)\n",
    "        if haskey(d, a)\n",
    "            return d[a]\n",
    "        end\n",
    "\n",
    "        if haskey(from, a)\n",
    "            if length(from[a]) == 3\n",
    "                x, y, op = from[a]\n",
    "                x = solve(x)\n",
    "                y = solve(y)\n",
    "                d[a] = op(x, y)\n",
    "            elseif length(from[a]) == 2\n",
    "                x, _ = from[a]\n",
    "                d[a] = ~solve(x)\n",
    "            else\n",
    "                d[a] = solve(from[a][1])\n",
    "            end\n",
    "\n",
    "            return d[a]\n",
    "        else\n",
    "            return parse(UInt16, a)\n",
    "        end\n",
    "    end\n",
    "    \n",
    "    for line in input\n",
    "        if occursin(\"AND\", line)\n",
    "            a, b, c = match(r\"(\\w+) AND (\\w+) -> (\\w+)\", line).captures\n",
    "            from[c] = (a, b, (&))\n",
    "        elseif occursin(\"OR\", line)\n",
    "            a, b, c = match(r\"(\\w+) OR (\\w+) -> (\\w+)\", line).captures\n",
    "            from[c] = (a, b, (|))\n",
    "        elseif occursin(\"LSHIFT\", line)\n",
    "            a, b, c = match(r\"(\\w+) LSHIFT (\\w+) -> (\\w+)\", line).captures\n",
    "            from[c] = (a, b, (<<))\n",
    "        elseif occursin(\"RSHIFT\", line)\n",
    "            a, b, c = match(r\"(\\w+) RSHIFT (\\w+) -> (\\w+)\", line).captures\n",
    "            from[c] = (a, b, (>>))\n",
    "        elseif occursin(\"NOT\", line)\n",
    "            a, b = match(r\"NOT (\\w+) -> (\\w+)\", line).captures\n",
    "            from[b] = (a, -1)\n",
    "        else\n",
    "            a, b = match(r\"(\\w+) -> (\\w+)\", line).captures\n",
    "            from[b] = (a,)\n",
    "        end\n",
    "    end\n",
    "\n",
    "    d = Dict{String, UInt16}(\"b\" => solve(\"a\"))\n",
    "    return Int(solve(\"a\"))\n",
    "end"
   ]
  },
  {
   "cell_type": "code",
   "execution_count": 10,
   "metadata": {},
   "outputs": [
    {
     "data": {
      "text/plain": [
       "14134"
      ]
     },
     "execution_count": 10,
     "metadata": {},
     "output_type": "execute_result"
    }
   ],
   "source": [
    "part_two_ans = part_two(parsed_input)"
   ]
  },
  {
   "cell_type": "code",
   "execution_count": 11,
   "metadata": {},
   "outputs": [
    {
     "data": {
      "text/plain": [
       "\"<!DOCTYPE html>\\n<html lang=\\\"en-us\\\">\\n<head>\\n<meta charset=\\\"utf-8\\\"/>\\n<title>Day 7 - Advent of Code 2015</title>\\n<!--[if lt IE 9]><script src=\\\"/static/html5.js\\\"></script><![endif]-->\\n<link href='//fonts.googleapis.com/css?family=Source+Code+Pro:300&subset=latin,latin-ext' \" ⋯ 2835 bytes ⋯ \"Name(o)[0];a.async=1;a.src=g;m.parentNode.insertBefore(a,m)\\n})(window,document,'script','//www.google-analytics.com/analytics.js','ga');\\nga('create', 'UA-69522494-1', 'auto');\\nga('set', 'anonymizeIp', true);\\nga('send', 'pageview');\\n</script>\\n<!-- /ga -->\\n</body>\\n</html>\""
      ]
     },
     "execution_count": 11,
     "metadata": {},
     "output_type": "execute_result"
    }
   ],
   "source": [
    "submit_answer(year, day, part_two_ans, 2)"
   ]
  }
 ],
 "metadata": {
  "kernelspec": {
   "display_name": "Julia 1.8.0",
   "language": "julia",
   "name": "julia-1.8"
  },
  "language_info": {
   "file_extension": ".jl",
   "mimetype": "application/julia",
   "name": "julia",
   "version": "1.8.3"
  },
  "orig_nbformat": 4,
  "vscode": {
   "interpreter": {
    "hash": "2decbbcdbe1b404b08c0c2ae8935a58886fd60ea7dad56cfc87e2a14f377e9ba"
   }
  }
 },
 "nbformat": 4,
 "nbformat_minor": 2
}
