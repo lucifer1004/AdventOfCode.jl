{
 "cells": [
  {
   "cell_type": "code",
   "execution_count": 1,
   "metadata": {},
   "outputs": [
    {
     "name": "stderr",
     "output_type": "stream",
     "text": [
      "\u001b[32m\u001b[1m  Activating\u001b[22m\u001b[39m project at `~/com.github/lucifer1004/AdventOfCode.jl`\n"
     ]
    }
   ],
   "source": [
    "import Pkg; Pkg.activate(\"..\")"
   ]
  },
  {
   "cell_type": "code",
   "execution_count": 2,
   "metadata": {},
   "outputs": [],
   "source": [
    "using AdventOfCode"
   ]
  },
  {
   "cell_type": "code",
   "execution_count": 3,
   "metadata": {},
   "outputs": [
    {
     "data": {
      "text/plain": [
       "5"
      ]
     },
     "execution_count": 3,
     "metadata": {},
     "output_type": "execute_result"
    }
   ],
   "source": [
    "year = 2015\n",
    "day = 5"
   ]
  },
  {
   "cell_type": "code",
   "execution_count": 4,
   "metadata": {},
   "outputs": [
    {
     "data": {
      "text/plain": [
       "\"rthkunfaakmwmush\\nqxlnvjguikqcyfzt\\nsleaoasjspnjctqt\\nlactpmehuhmzwfjl\\nbvggvrdgjcspkkyj\\nnwaceixfiasuzyoz\\nhsapdhrxlqoiumqw\\nlsitcmhlehasgejo\\nhksifrqlsiqkzyex\\ndfwuxtexmnvjyxqc\\niawwfwylyrcbxwak\\nmamtkmvvaeeifnve\\nqiqtuihvsaeebjkd\\nskerkykytazvbupg\\nkgnxaylpgbdzedoo\\nplzkdktirhmumcu\" ⋯ 16460 bytes ⋯ \"ediumxyljbuyqu\\nrfkpqeekjezejtjc\\nwkzasuyckmgwddwy\\neixpkpdhsjmynxhi\\nelrlnndorggmmhmx\\nayxwhkxahljoxggy\\nmtzvvwmwexkberaw\\nevpktriyydxvdhpx\\notznecuqsfagruls\\nvrdykpyebzyblnut\\ncnriedolerlhbqjy\\nuajaprnrrkvggqgx\\nxdlxuguloojvskjq\\nmfifrjamczjncuym\\notmgvsykuuxrluky\\noiuroieurpyejuvm\""
      ]
     },
     "execution_count": 4,
     "metadata": {},
     "output_type": "execute_result"
    }
   ],
   "source": [
    "input = get_input(year, day)"
   ]
  },
  {
   "cell_type": "code",
   "execution_count": 5,
   "metadata": {},
   "outputs": [
    {
     "data": {
      "text/plain": [
       "1000-element Vector{SubString{String}}:\n",
       " \"rthkunfaakmwmush\"\n",
       " \"qxlnvjguikqcyfzt\"\n",
       " \"sleaoasjspnjctqt\"\n",
       " \"lactpmehuhmzwfjl\"\n",
       " \"bvggvrdgjcspkkyj\"\n",
       " \"nwaceixfiasuzyoz\"\n",
       " \"hsapdhrxlqoiumqw\"\n",
       " \"lsitcmhlehasgejo\"\n",
       " \"hksifrqlsiqkzyex\"\n",
       " \"dfwuxtexmnvjyxqc\"\n",
       " \"iawwfwylyrcbxwak\"\n",
       " \"mamtkmvvaeeifnve\"\n",
       " \"qiqtuihvsaeebjkd\"\n",
       " ⋮\n",
       " \"elrlnndorggmmhmx\"\n",
       " \"ayxwhkxahljoxggy\"\n",
       " \"mtzvvwmwexkberaw\"\n",
       " \"evpktriyydxvdhpx\"\n",
       " \"otznecuqsfagruls\"\n",
       " \"vrdykpyebzyblnut\"\n",
       " \"cnriedolerlhbqjy\"\n",
       " \"uajaprnrrkvggqgx\"\n",
       " \"xdlxuguloojvskjq\"\n",
       " \"mfifrjamczjncuym\"\n",
       " \"otmgvsykuuxrluky\"\n",
       " \"oiuroieurpyejuvm\""
      ]
     },
     "execution_count": 5,
     "metadata": {},
     "output_type": "execute_result"
    }
   ],
   "source": [
    "parsed_input = parse_input(input)"
   ]
  },
  {
   "cell_type": "code",
   "execution_count": 6,
   "metadata": {},
   "outputs": [
    {
     "data": {
      "text/plain": [
       "\"ugknbfddgicrmopn\""
      ]
     },
     "execution_count": 6,
     "metadata": {},
     "output_type": "execute_result"
    }
   ],
   "source": [
    "sample = \"\"\"ugknbfddgicrmopn\"\"\""
   ]
  },
  {
   "cell_type": "code",
   "execution_count": 7,
   "metadata": {},
   "outputs": [
    {
     "data": {
      "text/plain": [
       "1-element Vector{SubString{String}}:\n",
       " \"ugknbfddgicrmopn\""
      ]
     },
     "execution_count": 7,
     "metadata": {},
     "output_type": "execute_result"
    }
   ],
   "source": [
    "parsed_sample = parse_input(sample)"
   ]
  },
  {
   "cell_type": "code",
   "execution_count": 8,
   "metadata": {},
   "outputs": [
    {
     "data": {
      "text/plain": [
       "part_one (generic function with 1 method)"
      ]
     },
     "execution_count": 8,
     "metadata": {},
     "output_type": "execute_result"
    }
   ],
   "source": [
    "function part_one(input)\n",
    "    nice = 0\n",
    "    for line in input\n",
    "        vowels = count(isequal('a'), line) + count(isequal('e'), line) + count(isequal('i'), line) + count(isequal('o'), line) + count(isequal('u'), line)\n",
    "        double = false\n",
    "        for i in 1:length(line)-1\n",
    "            if line[i] == line[i+1]\n",
    "                double = true\n",
    "                break\n",
    "            end\n",
    "        end\n",
    "        bad = false\n",
    "        for i in 1:length(line)-1\n",
    "            if line[i:i+1] in [\"ab\", \"cd\", \"pq\", \"xy\"]\n",
    "                bad = true\n",
    "                break\n",
    "            end\n",
    "        end\n",
    "        if vowels >= 3 && double && !bad\n",
    "            nice += 1\n",
    "        end\n",
    "    end\n",
    "    return nice\n",
    "end"
   ]
  },
  {
   "cell_type": "code",
   "execution_count": 9,
   "metadata": {},
   "outputs": [
    {
     "data": {
      "text/plain": [
       "1"
      ]
     },
     "execution_count": 9,
     "metadata": {},
     "output_type": "execute_result"
    }
   ],
   "source": [
    "part_one(parsed_sample)"
   ]
  },
  {
   "cell_type": "code",
   "execution_count": 10,
   "metadata": {},
   "outputs": [
    {
     "data": {
      "text/plain": [
       "258"
      ]
     },
     "execution_count": 10,
     "metadata": {},
     "output_type": "execute_result"
    }
   ],
   "source": [
    "part_one_ans = part_one(parsed_input)"
   ]
  },
  {
   "cell_type": "code",
   "execution_count": 11,
   "metadata": {},
   "outputs": [
    {
     "data": {
      "text/plain": [
       "\"<!DOCTYPE html>\\n<html lang=\\\"en-us\\\">\\n<head>\\n<meta charset=\\\"utf-8\\\"/>\\n<title>Day 5 - Advent of Code 2015</title>\\n<!--[if lt IE 9]><script src=\\\"/static/html5.js\\\"></script><![endif]-->\\n<link href='//fonts.googleapis.com/css?family=Source+Code+Pro:300&subset=latin,latin-ext' \" ⋯ 2835 bytes ⋯ \"Name(o)[0];a.async=1;a.src=g;m.parentNode.insertBefore(a,m)\\n})(window,document,'script','//www.google-analytics.com/analytics.js','ga');\\nga('create', 'UA-69522494-1', 'auto');\\nga('set', 'anonymizeIp', true);\\nga('send', 'pageview');\\n</script>\\n<!-- /ga -->\\n</body>\\n</html>\""
      ]
     },
     "execution_count": 11,
     "metadata": {},
     "output_type": "execute_result"
    }
   ],
   "source": [
    "submit_answer(year, day, part_one_ans)"
   ]
  },
  {
   "cell_type": "code",
   "execution_count": 12,
   "metadata": {},
   "outputs": [
    {
     "data": {
      "text/plain": [
       "part_two (generic function with 1 method)"
      ]
     },
     "execution_count": 12,
     "metadata": {},
     "output_type": "execute_result"
    }
   ],
   "source": [
    "function part_two(input)\n",
    "    nice = 0\n",
    "    for line in input\n",
    "        has_pair = false\n",
    "        pairs = Dict{String, Int}()\n",
    "        for i in 1:length(line)-1\n",
    "            pair = line[i:i+1]\n",
    "            if haskey(pairs, pair)\n",
    "                if i - pairs[pair] >= 2\n",
    "                    has_pair = true\n",
    "                    break\n",
    "                end\n",
    "            else\n",
    "                pairs[pair] = i\n",
    "            end\n",
    "        end\n",
    "\n",
    "        has_repeat = false\n",
    "        for i in 1:length(line)-2\n",
    "            if line[i] == line[i+2]\n",
    "                has_repeat = true\n",
    "                break\n",
    "            end\n",
    "        end\n",
    "\n",
    "        if has_pair && has_repeat\n",
    "            nice += 1\n",
    "        end\n",
    "    end\n",
    "    return nice\n",
    "end"
   ]
  },
  {
   "cell_type": "code",
   "execution_count": 13,
   "metadata": {},
   "outputs": [
    {
     "data": {
      "text/plain": [
       "0"
      ]
     },
     "execution_count": 13,
     "metadata": {},
     "output_type": "execute_result"
    }
   ],
   "source": [
    "part_two(parsed_sample)"
   ]
  },
  {
   "cell_type": "code",
   "execution_count": 14,
   "metadata": {},
   "outputs": [
    {
     "data": {
      "text/plain": [
       "53"
      ]
     },
     "execution_count": 14,
     "metadata": {},
     "output_type": "execute_result"
    }
   ],
   "source": [
    "part_two_ans = part_two(parsed_input)"
   ]
  },
  {
   "cell_type": "code",
   "execution_count": 15,
   "metadata": {},
   "outputs": [
    {
     "data": {
      "text/plain": [
       "\"<!DOCTYPE html>\\n<html lang=\\\"en-us\\\">\\n<head>\\n<meta charset=\\\"utf-8\\\"/>\\n<title>Day 5 - Advent of Code 2015</title>\\n<!--[if lt IE 9]><script src=\\\"/static/html5.js\\\"></script><![endif]-->\\n<link href='//fonts.googleapis.com/css?family=Source+Code+Pro:300&subset=latin,latin-ext' \" ⋯ 2840 bytes ⋯ \"Name(o)[0];a.async=1;a.src=g;m.parentNode.insertBefore(a,m)\\n})(window,document,'script','//www.google-analytics.com/analytics.js','ga');\\nga('create', 'UA-69522494-1', 'auto');\\nga('set', 'anonymizeIp', true);\\nga('send', 'pageview');\\n</script>\\n<!-- /ga -->\\n</body>\\n</html>\""
      ]
     },
     "execution_count": 15,
     "metadata": {},
     "output_type": "execute_result"
    }
   ],
   "source": [
    "submit_answer(year, day, part_two_ans, 2)"
   ]
  }
 ],
 "metadata": {
  "kernelspec": {
   "display_name": "Julia 1.8.0",
   "language": "julia",
   "name": "julia-1.8"
  },
  "language_info": {
   "file_extension": ".jl",
   "mimetype": "application/julia",
   "name": "julia",
   "version": "1.8.3"
  },
  "orig_nbformat": 4,
  "vscode": {
   "interpreter": {
    "hash": "2decbbcdbe1b404b08c0c2ae8935a58886fd60ea7dad56cfc87e2a14f377e9ba"
   }
  }
 },
 "nbformat": 4,
 "nbformat_minor": 2
}
