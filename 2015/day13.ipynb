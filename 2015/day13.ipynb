{
 "cells": [
  {
   "cell_type": "code",
   "execution_count": 1,
   "metadata": {},
   "outputs": [
    {
     "name": "stderr",
     "output_type": "stream",
     "text": [
      "\u001b[32m\u001b[1m  Activating\u001b[22m\u001b[39m project at `~/com.github/lucifer1004/AdventOfCode.jl`\n"
     ]
    }
   ],
   "source": [
    "import Pkg; Pkg.activate(\"..\")"
   ]
  },
  {
   "cell_type": "code",
   "execution_count": 2,
   "metadata": {},
   "outputs": [],
   "source": [
    "using AdventOfCode"
   ]
  },
  {
   "cell_type": "code",
   "execution_count": 3,
   "metadata": {},
   "outputs": [
    {
     "data": {
      "text/plain": [
       "13"
      ]
     },
     "execution_count": 3,
     "metadata": {},
     "output_type": "execute_result"
    }
   ],
   "source": [
    "year = 2015\n",
    "day = 13"
   ]
  },
  {
   "cell_type": "code",
   "execution_count": 4,
   "metadata": {},
   "outputs": [
    {
     "data": {
      "text/plain": [
       "\"Alice would lose 2 happiness units by sitting next to Bob.\\nAlice would lose 62 happiness units by sitting next to Carol.\\nAlice would gain 65 happiness units by sitting next to David.\\nAlice would gain 21 happiness units by sitting next to Eric.\\nAlice would lose 81 happin\" ⋯ 2924 bytes ⋯ \"next to Carol.\\nMallory would gain 91 happiness units by sitting next to David.\\nMallory would lose 66 happiness units by sitting next to Eric.\\nMallory would lose 75 happiness units by sitting next to Frank.\\nMallory would lose 99 happiness units by sitting next to George.\""
      ]
     },
     "execution_count": 4,
     "metadata": {},
     "output_type": "execute_result"
    }
   ],
   "source": [
    "input = get_input(year, day)"
   ]
  },
  {
   "cell_type": "code",
   "execution_count": 5,
   "metadata": {},
   "outputs": [
    {
     "data": {
      "text/plain": [
       "56-element Vector{SubString{String}}:\n",
       " \"Alice would lose 2 happiness units by sitting next to Bob.\"\n",
       " \"Alice would lose 62 happiness units by sitting next to Carol.\"\n",
       " \"Alice would gain 65 happiness units by sitting next to David.\"\n",
       " \"Alice would gain 21 happiness units by sitting next to Eric.\"\n",
       " \"Alice would lose 81 happiness units by sitting next to Frank.\"\n",
       " \"Alice would lose 4 happiness units by sitting next to George.\"\n",
       " \"Alice would lose 80 happiness units by sitting next to Mallory.\"\n",
       " \"Bob would gain 93 happiness units by sitting next to Alice.\"\n",
       " \"Bob would gain 19 happiness units by sitting next to Carol.\"\n",
       " \"Bob would gain 5 happiness units by sitting next to David.\"\n",
       " \"Bob would gain 49 happiness units by sitting next to Eric.\"\n",
       " \"Bob would gain 68 happiness units by sitting next to Frank.\"\n",
       " \"Bob would gain 23 happiness units by sitting next to George.\"\n",
       " ⋮\n",
       " \"George would gain 63 happiness units by sitting next to Carol.\"\n",
       " \"George would gain 54 happiness units by sitting next to David.\"\n",
       " \"George would gain 54 happiness units by sitting next to Eric.\"\n",
       " \"George would gain 30 happiness units by sitting next to Frank.\"\n",
       " \"George would gain 7 happiness units by sitting next to Mallory.\"\n",
       " \"Mallory would gain 31 happiness units by sitting next to Alice.\"\n",
       " \"Mallory would lose 32 happiness units by sitting next to Bob.\"\n",
       " \"Mallory would gain 95 happiness units by sitting next to Carol.\"\n",
       " \"Mallory would gain 91 happiness units by sitting next to David.\"\n",
       " \"Mallory would lose 66 happiness units by sitting next to Eric.\"\n",
       " \"Mallory would lose 75 happiness units by sitting next to Frank.\"\n",
       " \"Mallory would lose 99 happiness units by sitting next to George.\""
      ]
     },
     "execution_count": 5,
     "metadata": {},
     "output_type": "execute_result"
    }
   ],
   "source": [
    "parsed_input = parse_input(input)"
   ]
  },
  {
   "cell_type": "code",
   "execution_count": 6,
   "metadata": {},
   "outputs": [
    {
     "data": {
      "text/plain": [
       "\"Alice would gain 54 happiness units by sitting next to Bob.\\nAlice would lose 79 happiness units by sitting next to Carol.\\nAlice would lose 2 happiness units by sitting next to David.\\nBob would gain 83 happiness units by sitting next to Alice.\\nBob would lose 7 happiness u\" ⋯ 187 bytes ⋯ \"s by sitting next to Bob.\\nCarol would gain 55 happiness units by sitting next to David.\\nDavid would gain 46 happiness units by sitting next to Alice.\\nDavid would lose 7 happiness units by sitting next to Bob.\\nDavid would gain 41 happiness units by sitting next to Carol.\""
      ]
     },
     "execution_count": 6,
     "metadata": {},
     "output_type": "execute_result"
    }
   ],
   "source": [
    "sample = \"\"\"Alice would gain 54 happiness units by sitting next to Bob.\n",
    "Alice would lose 79 happiness units by sitting next to Carol.\n",
    "Alice would lose 2 happiness units by sitting next to David.\n",
    "Bob would gain 83 happiness units by sitting next to Alice.\n",
    "Bob would lose 7 happiness units by sitting next to Carol.\n",
    "Bob would lose 63 happiness units by sitting next to David.\n",
    "Carol would lose 62 happiness units by sitting next to Alice.\n",
    "Carol would gain 60 happiness units by sitting next to Bob.\n",
    "Carol would gain 55 happiness units by sitting next to David.\n",
    "David would gain 46 happiness units by sitting next to Alice.\n",
    "David would lose 7 happiness units by sitting next to Bob.\n",
    "David would gain 41 happiness units by sitting next to Carol.\"\"\""
   ]
  },
  {
   "cell_type": "code",
   "execution_count": 7,
   "metadata": {},
   "outputs": [
    {
     "data": {
      "text/plain": [
       "12-element Vector{SubString{String}}:\n",
       " \"Alice would gain 54 happiness units by sitting next to Bob.\"\n",
       " \"Alice would lose 79 happiness units by sitting next to Carol.\"\n",
       " \"Alice would lose 2 happiness units by sitting next to David.\"\n",
       " \"Bob would gain 83 happiness units by sitting next to Alice.\"\n",
       " \"Bob would lose 7 happiness units by sitting next to Carol.\"\n",
       " \"Bob would lose 63 happiness units by sitting next to David.\"\n",
       " \"Carol would lose 62 happiness units by sitting next to Alice.\"\n",
       " \"Carol would gain 60 happiness units by sitting next to Bob.\"\n",
       " \"Carol would gain 55 happiness units by sitting next to David.\"\n",
       " \"David would gain 46 happiness units by sitting next to Alice.\"\n",
       " \"David would lose 7 happiness units by sitting next to Bob.\"\n",
       " \"David would gain 41 happiness units by sitting next to Carol.\""
      ]
     },
     "execution_count": 7,
     "metadata": {},
     "output_type": "execute_result"
    }
   ],
   "source": [
    "parsed_sample = parse_input(sample)"
   ]
  },
  {
   "cell_type": "code",
   "execution_count": 8,
   "metadata": {},
   "outputs": [
    {
     "data": {
      "text/plain": [
       "preprocess (generic function with 1 method)"
      ]
     },
     "execution_count": 8,
     "metadata": {},
     "output_type": "execute_result"
    }
   ],
   "source": [
    "function preprocess(input)\n",
    "    n = ceil(Int, sqrt(length(input)))\n",
    "    input = [match(r\"(\\w+) would (gain|lose) (\\d+) happiness units by sitting next to (\\w+).\", line).captures for line in input]\n",
    "    people = collect(Set([line[1] for line in input]))\n",
    "    mapping = Dict(person => i for (i, person) in enumerate(people))\n",
    "    table = zeros(Int, n, n)\n",
    "    for (i, sign, num, j) in input\n",
    "        num = parse(Int, num)\n",
    "        table[mapping[i], mapping[j]] = sign == \"gain\" ? num : -num\n",
    "    end\n",
    "    return table\n",
    "end"
   ]
  },
  {
   "cell_type": "code",
   "execution_count": 9,
   "metadata": {},
   "outputs": [
    {
     "data": {
      "text/plain": [
       "part_one (generic function with 1 method)"
      ]
     },
     "execution_count": 9,
     "metadata": {},
     "output_type": "execute_result"
    }
   ],
   "source": [
    "function part_one(input)\n",
    "    table = preprocess(input)\n",
    "    n = size(table)[1]\n",
    "    ans = -100000000\n",
    "    for a in permutations(1:n)\n",
    "        ans = max(ans, sum(table[a[i], a[i+1]] + table[a[i+1], a[i]] for i in 1:n-1) + table[a[n], a[1]] + table[a[1], a[n]])\n",
    "    end\n",
    "    return ans\n",
    "end"
   ]
  },
  {
   "cell_type": "code",
   "execution_count": 10,
   "metadata": {},
   "outputs": [
    {
     "data": {
      "text/plain": [
       "330"
      ]
     },
     "execution_count": 10,
     "metadata": {},
     "output_type": "execute_result"
    }
   ],
   "source": [
    "part_one(parsed_sample)"
   ]
  },
  {
   "cell_type": "code",
   "execution_count": 11,
   "metadata": {},
   "outputs": [
    {
     "data": {
      "text/plain": [
       "664"
      ]
     },
     "execution_count": 11,
     "metadata": {},
     "output_type": "execute_result"
    }
   ],
   "source": [
    "part_one_ans = part_one(parsed_input)"
   ]
  },
  {
   "cell_type": "code",
   "execution_count": 12,
   "metadata": {},
   "outputs": [
    {
     "data": {
      "text/plain": [
       "\"<!DOCTYPE html>\\n<html lang=\\\"en-us\\\">\\n<head>\\n<meta charset=\\\"utf-8\\\"/>\\n<title>Day 13 - Advent of Code 2015</title>\\n<!--[if lt IE 9]><script src=\\\"/static/html5.js\\\"></script><![endif]-->\\n<link href='//fonts.googleapis.com/css?family=Source+Code+Pro:300&subset=latin,latin-ext'\" ⋯ 2823 bytes ⋯ \"Name(o)[0];a.async=1;a.src=g;m.parentNode.insertBefore(a,m)\\n})(window,document,'script','//www.google-analytics.com/analytics.js','ga');\\nga('create', 'UA-69522494-1', 'auto');\\nga('set', 'anonymizeIp', true);\\nga('send', 'pageview');\\n</script>\\n<!-- /ga -->\\n</body>\\n</html>\""
      ]
     },
     "execution_count": 12,
     "metadata": {},
     "output_type": "execute_result"
    }
   ],
   "source": [
    "submit_answer(year, day, part_one_ans)"
   ]
  },
  {
   "cell_type": "code",
   "execution_count": 13,
   "metadata": {},
   "outputs": [
    {
     "data": {
      "text/plain": [
       "part_two (generic function with 1 method)"
      ]
     },
     "execution_count": 13,
     "metadata": {},
     "output_type": "execute_result"
    }
   ],
   "source": [
    "function part_two(input)\n",
    "    table = preprocess(input)\n",
    "    n = size(table)[1]\n",
    "    large_table = zeros(Int, n + 1, n + 1)\n",
    "    large_table[1:n, 1:n] .= table\n",
    "    ans = -10000\n",
    "    for a in permutations(1:n+1)\n",
    "        ans = max(ans, sum(large_table[a[i], a[i+1]] + large_table[a[i+1], a[i]] for i in 1:n) + large_table[a[n + 1], a[1]] + large_table[a[1], a[n + 1]])\n",
    "    end\n",
    "    return ans\n",
    "end"
   ]
  },
  {
   "cell_type": "code",
   "execution_count": 14,
   "metadata": {},
   "outputs": [
    {
     "data": {
      "text/plain": [
       "286"
      ]
     },
     "execution_count": 14,
     "metadata": {},
     "output_type": "execute_result"
    }
   ],
   "source": [
    "part_two(parsed_sample)"
   ]
  },
  {
   "cell_type": "code",
   "execution_count": 15,
   "metadata": {},
   "outputs": [
    {
     "data": {
      "text/plain": [
       "640"
      ]
     },
     "execution_count": 15,
     "metadata": {},
     "output_type": "execute_result"
    }
   ],
   "source": [
    "part_two_ans = part_two(parsed_input)"
   ]
  },
  {
   "cell_type": "code",
   "execution_count": 16,
   "metadata": {},
   "outputs": [
    {
     "data": {
      "text/plain": [
       "\"<!DOCTYPE html>\\n<html lang=\\\"en-us\\\">\\n<head>\\n<meta charset=\\\"utf-8\\\"/>\\n<title>Day 13 - Advent of Code 2015</title>\\n<!--[if lt IE 9]><script src=\\\"/static/html5.js\\\"></script><![endif]-->\\n<link href='//fonts.googleapis.com/css?family=Source+Code+Pro:300&subset=latin,latin-ext'\" ⋯ 2818 bytes ⋯ \"Name(o)[0];a.async=1;a.src=g;m.parentNode.insertBefore(a,m)\\n})(window,document,'script','//www.google-analytics.com/analytics.js','ga');\\nga('create', 'UA-69522494-1', 'auto');\\nga('set', 'anonymizeIp', true);\\nga('send', 'pageview');\\n</script>\\n<!-- /ga -->\\n</body>\\n</html>\""
      ]
     },
     "execution_count": 16,
     "metadata": {},
     "output_type": "execute_result"
    }
   ],
   "source": [
    "submit_answer(year, day, part_two_ans, 2)"
   ]
  }
 ],
 "metadata": {
  "kernelspec": {
   "display_name": "Julia 1.8.0",
   "language": "julia",
   "name": "julia-1.8"
  },
  "language_info": {
   "file_extension": ".jl",
   "mimetype": "application/julia",
   "name": "julia",
   "version": "1.8.3"
  },
  "orig_nbformat": 4,
  "vscode": {
   "interpreter": {
    "hash": "2decbbcdbe1b404b08c0c2ae8935a58886fd60ea7dad56cfc87e2a14f377e9ba"
   }
  }
 },
 "nbformat": 4,
 "nbformat_minor": 2
}
