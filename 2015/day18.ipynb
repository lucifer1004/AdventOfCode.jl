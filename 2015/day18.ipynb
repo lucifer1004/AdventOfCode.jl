{
 "cells": [
  {
   "cell_type": "code",
   "execution_count": 1,
   "metadata": {},
   "outputs": [
    {
     "name": "stderr",
     "output_type": "stream",
     "text": [
      "\u001b[32m\u001b[1m  Activating\u001b[22m\u001b[39m project at `~/com.github/lucifer1004/AdventOfCode.jl`\n"
     ]
    }
   ],
   "source": [
    "import Pkg; Pkg.activate(\"..\")"
   ]
  },
  {
   "cell_type": "code",
   "execution_count": 2,
   "metadata": {},
   "outputs": [],
   "source": [
    "using AdventOfCode"
   ]
  },
  {
   "cell_type": "code",
   "execution_count": 3,
   "metadata": {},
   "outputs": [
    {
     "data": {
      "text/plain": [
       "18"
      ]
     },
     "execution_count": 3,
     "metadata": {},
     "output_type": "execute_result"
    }
   ],
   "source": [
    "year = 2015\n",
    "day = 18"
   ]
  },
  {
   "cell_type": "code",
   "execution_count": 4,
   "metadata": {},
   "outputs": [
    {
     "data": {
      "text/plain": [
       "\"#..####.##..#...#..#...#...###.#.#.#..#....#.##..#...##...#..#.....##..#####....#.##..##....##.#....\\n.#..#..#..#.###...##..#.##.....#...#..##....#####.##............####.#..######..#.#.##.#...#..#...##\\n#.....##.##.##.#..##.#..###...#.#.#..##..###.####.####.#.####.#...##\" ⋯ 9559 bytes ⋯ \"#.###..#.#.#........####.###.##....##....####..#.#....#.#.#.###..#.#\\n..#.#.#.#.###...#....##..######.##....#.#.##..###..#.#.###..#.##..#.#.###......#..#..#.####..#...##.\\n.....####.#.....###.#.##.#..##.#..###.#####.#..##...###.#..###..#..##....###.#..##.#..#.##.#..#...##\""
      ]
     },
     "execution_count": 4,
     "metadata": {},
     "output_type": "execute_result"
    }
   ],
   "source": [
    "input = get_input(year, day)"
   ]
  },
  {
   "cell_type": "code",
   "execution_count": 5,
   "metadata": {},
   "outputs": [
    {
     "data": {
      "text/plain": [
       "100-element Vector{SubString{String}}:\n",
       " \"#..####.##..#...#..#...#...###.\" ⋯ 38 bytes ⋯ \"..#####....#.##..##....##.#....\"\n",
       " \".#..#..#..#.###...##..#.##.....\" ⋯ 38 bytes ⋯ \"#..######..#.#.##.#...#..#...##\"\n",
       " \"#.....##.##.##.#..##.#..###...#\" ⋯ 38 bytes ⋯ \"#..###.........#.###...#....###\"\n",
       " \"#.###..#######..##..#.....##.#.\" ⋯ 38 bytes ⋯ \".#.#####.#.##..#.#####..#.#####\"\n",
       " \"#.##.##.###.##..###.#.##.##...#\" ⋯ 38 bytes ⋯ \".#####...#..#...##....##.##.##.\"\n",
       " \"..#.#.#.#..#.#.###....###...#..\" ⋯ 38 bytes ⋯ \"....#.#.###..#..#.#....#.#####.\"\n",
       " \"...#.###.#....#.###...#.#.#...#\" ⋯ 38 bytes ⋯ \"######..#.##.#.##.#..###.#...##\"\n",
       " \".###...#...#.#..#.#.####.#...#.\" ⋯ 38 bytes ⋯ \".###..#.#####...###.#.##.####..\"\n",
       " \"#.#....##.#.....#####.#.##..###\" ⋯ 38 bytes ⋯ \".#.#...###..#...#.#.###.###.###\"\n",
       " \"...##.##.....##..#.##...#.#...#\" ⋯ 38 bytes ⋯ \".##.##..#...#....####..###.###.\"\n",
       " \"#..#....######...#...###.#....#\" ⋯ 38 bytes ⋯ \".#....#....#.##..#.##.###..#...\"\n",
       " \"#####.#.######.#.#####.#..##..#\" ⋯ 38 bytes ⋯ \".###..###.###..###...#...######\"\n",
       " \"#...##..##...###....##..##.##..\" ⋯ 38 bytes ⋯ \"###..##.##.##.#.#.#..#.#..#..#.\"\n",
       " ⋮\n",
       " \"....#.#.###.#####.##..###..##..\" ⋯ 38 bytes ⋯ \"####.#.#...##..#####..##.#.#...\"\n",
       " \"..###.#.##..#....#..#.#.....##.\" ⋯ 38 bytes ⋯ \"#.##..##..##....#...#..#..#..##\"\n",
       " \"##.#.##.#...#.###.##.##.##.##..\" ⋯ 38 bytes ⋯ \"..#....##.#..####.###........#.\"\n",
       " \".##.#..#.....#####..##.#.#.#.#.\" ⋯ 38 bytes ⋯ \"#....###.#..#.#....#.#..###...#\"\n",
       " \"...###.#.#.###..#...#..###.####\" ⋯ 38 bytes ⋯ \"..#..#..#..###..##.#.#...#.###.\"\n",
       " \"#......#.#..#..##.##.#.##.#.###\" ⋯ 38 bytes ⋯ \"...##.###.###.####.#.#####...##\"\n",
       " \"...#.##..#.######.......#.#.###\" ⋯ 38 bytes ⋯ \"#.#.#########.##.##.#..##..#...\"\n",
       " \"##..###..###....####.##.##..##.\" ⋯ 38 bytes ⋯ \".####..##.#...###.#####.##.##.#\"\n",
       " \"###...##.#.#.#####..#..#####...\" ⋯ 38 bytes ⋯ \"###.##.#..##.###.#...##.##...##\"\n",
       " \"...#.#.##.##..##....#..#.#####.\" ⋯ 38 bytes ⋯ \"....####..#.#....#.#.#.###..#.#\"\n",
       " \"..#.#.#.#.###...#....##..######\" ⋯ 38 bytes ⋯ \".###......#..#..#.####..#...##.\"\n",
       " \".....####.#.....###.#.##.#..##.\" ⋯ 38 bytes ⋯ \"....###.#..##.#..#.##.#..#...##\""
      ]
     },
     "execution_count": 5,
     "metadata": {},
     "output_type": "execute_result"
    }
   ],
   "source": [
    "parsed_input = parse_input(input)"
   ]
  },
  {
   "cell_type": "code",
   "execution_count": 6,
   "metadata": {},
   "outputs": [
    {
     "data": {
      "text/plain": [
       "\".#.#.#\\n...##.\\n#....#\\n..#...\\n#.#..#\\n####..\""
      ]
     },
     "execution_count": 6,
     "metadata": {},
     "output_type": "execute_result"
    }
   ],
   "source": [
    "sample = \"\"\".#.#.#\n",
    "...##.\n",
    "#....#\n",
    "..#...\n",
    "#.#..#\n",
    "####..\"\"\""
   ]
  },
  {
   "cell_type": "code",
   "execution_count": 7,
   "metadata": {},
   "outputs": [
    {
     "data": {
      "text/plain": [
       "6-element Vector{SubString{String}}:\n",
       " \".#.#.#\"\n",
       " \"...##.\"\n",
       " \"#....#\"\n",
       " \"..#...\"\n",
       " \"#.#..#\"\n",
       " \"####..\""
      ]
     },
     "execution_count": 7,
     "metadata": {},
     "output_type": "execute_result"
    }
   ],
   "source": [
    "parsed_sample = parse_input(sample)"
   ]
  },
  {
   "cell_type": "code",
   "execution_count": 8,
   "metadata": {},
   "outputs": [
    {
     "data": {
      "text/plain": [
       "preprocess (generic function with 1 method)"
      ]
     },
     "execution_count": 8,
     "metadata": {},
     "output_type": "execute_result"
    }
   ],
   "source": [
    "function preprocess(input)\n",
    "    n = length(input)\n",
    "    m = length(input[1])\n",
    "\n",
    "    board = zeros(Bool, n, m)\n",
    "    for i in 1:n, j in 1:m\n",
    "        board[i, j] = input[i][j] == '#'\n",
    "    end\n",
    "\n",
    "    board\n",
    "end"
   ]
  },
  {
   "cell_type": "code",
   "execution_count": 9,
   "metadata": {},
   "outputs": [
    {
     "data": {
      "text/plain": [
       "neighbors (generic function with 1 method)"
      ]
     },
     "execution_count": 9,
     "metadata": {},
     "output_type": "execute_result"
    }
   ],
   "source": [
    "function neighbors(board, id)\n",
    "    n, m = size(board)\n",
    "    r, c = id[1], id[2]\n",
    "    return [(r + dr, c + dc) for dr in -1:1, dc in -1:1 if (dr, dc) != (0, 0) && 1 <= r + dr <= n && 1 <= c + dc <= m]\n",
    "end"
   ]
  },
  {
   "cell_type": "code",
   "execution_count": 10,
   "metadata": {},
   "outputs": [
    {
     "data": {
      "text/plain": [
       "part_one (generic function with 1 method)"
      ]
     },
     "execution_count": 10,
     "metadata": {},
     "output_type": "execute_result"
    }
   ],
   "source": [
    "function part_one(input, k)\n",
    "    board = preprocess(input)\n",
    "\n",
    "    for i in 1:k\n",
    "        new_board = zeros(Bool, size(board))\n",
    "        for id in CartesianIndices(board)\n",
    "            n = sum(Int(board[CartesianIndex(neighbor)]) for neighbor in neighbors(board, id))\n",
    "            if board[id]\n",
    "                new_board[id] = n == 2 || n == 3\n",
    "            else\n",
    "                new_board[id] = n == 3\n",
    "            end\n",
    "        end\n",
    "        board = new_board\n",
    "    end\n",
    "\n",
    "    return sum(board)\n",
    "end"
   ]
  },
  {
   "cell_type": "code",
   "execution_count": 11,
   "metadata": {},
   "outputs": [
    {
     "data": {
      "text/plain": [
       "4"
      ]
     },
     "execution_count": 11,
     "metadata": {},
     "output_type": "execute_result"
    }
   ],
   "source": [
    "part_one(parsed_sample, 4)"
   ]
  },
  {
   "cell_type": "code",
   "execution_count": 12,
   "metadata": {},
   "outputs": [
    {
     "data": {
      "text/plain": [
       "1061"
      ]
     },
     "execution_count": 12,
     "metadata": {},
     "output_type": "execute_result"
    }
   ],
   "source": [
    "part_one_ans = part_one(parsed_input, 100)"
   ]
  },
  {
   "cell_type": "code",
   "execution_count": 13,
   "metadata": {},
   "outputs": [
    {
     "data": {
      "text/plain": [
       "\"<!DOCTYPE html>\\n<html lang=\\\"en-us\\\">\\n<head>\\n<meta charset=\\\"utf-8\\\"/>\\n<title>Day 18 - Advent of Code 2015</title>\\n<!--[if lt IE 9]><script src=\\\"/static/html5.js\\\"></script><![endif]-->\\n<link href='//fonts.googleapis.com/css?family=Source+Code+Pro:300&subset=latin,latin-ext'\" ⋯ 2838 bytes ⋯ \"Name(o)[0];a.async=1;a.src=g;m.parentNode.insertBefore(a,m)\\n})(window,document,'script','//www.google-analytics.com/analytics.js','ga');\\nga('create', 'UA-69522494-1', 'auto');\\nga('set', 'anonymizeIp', true);\\nga('send', 'pageview');\\n</script>\\n<!-- /ga -->\\n</body>\\n</html>\""
      ]
     },
     "execution_count": 13,
     "metadata": {},
     "output_type": "execute_result"
    }
   ],
   "source": [
    "submit_answer(year, day, part_one_ans)"
   ]
  },
  {
   "cell_type": "code",
   "execution_count": 14,
   "metadata": {},
   "outputs": [
    {
     "data": {
      "text/plain": [
       "part_two (generic function with 1 method)"
      ]
     },
     "execution_count": 14,
     "metadata": {},
     "output_type": "execute_result"
    }
   ],
   "source": [
    "function part_two(input, k)\n",
    "    board = preprocess(input)\n",
    "    board[begin, begin] = board[begin, end] = board[end, begin] = board[end, end] = true\n",
    "\n",
    "    for i in 1:k\n",
    "        new_board = zeros(Bool, size(board))\n",
    "        for id in CartesianIndices(board)\n",
    "            n = sum(Int(board[CartesianIndex(neighbor)]) for neighbor in neighbors(board, id))\n",
    "            if board[id]\n",
    "                new_board[id] = n == 2 || n == 3\n",
    "            else\n",
    "                new_board[id] = n == 3\n",
    "            end\n",
    "        end\n",
    "        board = new_board\n",
    "        board[begin, begin] = board[begin, end] = board[end, begin] = board[end, end] = true\n",
    "    end\n",
    "\n",
    "    return sum(board)\n",
    "end"
   ]
  },
  {
   "cell_type": "code",
   "execution_count": 15,
   "metadata": {},
   "outputs": [
    {
     "data": {
      "text/plain": [
       "17"
      ]
     },
     "execution_count": 15,
     "metadata": {},
     "output_type": "execute_result"
    }
   ],
   "source": [
    "part_two(parsed_sample, 5)"
   ]
  },
  {
   "cell_type": "code",
   "execution_count": 16,
   "metadata": {},
   "outputs": [
    {
     "data": {
      "text/plain": [
       "1006"
      ]
     },
     "execution_count": 16,
     "metadata": {},
     "output_type": "execute_result"
    }
   ],
   "source": [
    "part_two_ans = part_two(parsed_input, 100)"
   ]
  },
  {
   "cell_type": "code",
   "execution_count": 17,
   "metadata": {},
   "outputs": [
    {
     "data": {
      "text/plain": [
       "\"<!DOCTYPE html>\\n<html lang=\\\"en-us\\\">\\n<head>\\n<meta charset=\\\"utf-8\\\"/>\\n<title>Day 18 - Advent of Code 2015</title>\\n<!--[if lt IE 9]><script src=\\\"/static/html5.js\\\"></script><![endif]-->\\n<link href='//fonts.googleapis.com/css?family=Source+Code+Pro:300&subset=latin,latin-ext'\" ⋯ 2844 bytes ⋯ \"Name(o)[0];a.async=1;a.src=g;m.parentNode.insertBefore(a,m)\\n})(window,document,'script','//www.google-analytics.com/analytics.js','ga');\\nga('create', 'UA-69522494-1', 'auto');\\nga('set', 'anonymizeIp', true);\\nga('send', 'pageview');\\n</script>\\n<!-- /ga -->\\n</body>\\n</html>\""
      ]
     },
     "execution_count": 17,
     "metadata": {},
     "output_type": "execute_result"
    }
   ],
   "source": [
    "submit_answer(year, day, part_two_ans, 2)"
   ]
  }
 ],
 "metadata": {
  "kernelspec": {
   "display_name": "Julia 1.8.0",
   "language": "julia",
   "name": "julia-1.8"
  },
  "language_info": {
   "file_extension": ".jl",
   "mimetype": "application/julia",
   "name": "julia",
   "version": "1.8.3"
  },
  "orig_nbformat": 4,
  "vscode": {
   "interpreter": {
    "hash": "2decbbcdbe1b404b08c0c2ae8935a58886fd60ea7dad56cfc87e2a14f377e9ba"
   }
  }
 },
 "nbformat": 4,
 "nbformat_minor": 2
}
