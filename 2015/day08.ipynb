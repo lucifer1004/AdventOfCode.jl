{
 "cells": [
  {
   "cell_type": "code",
   "execution_count": 1,
   "metadata": {},
   "outputs": [
    {
     "name": "stderr",
     "output_type": "stream",
     "text": [
      "\u001b[32m\u001b[1m  Activating\u001b[22m\u001b[39m project at `~/com.github/lucifer1004/AdventOfCode.jl`\n"
     ]
    }
   ],
   "source": [
    "import Pkg; Pkg.activate(\"..\")"
   ]
  },
  {
   "cell_type": "code",
   "execution_count": 2,
   "metadata": {},
   "outputs": [],
   "source": [
    "using AdventOfCode"
   ]
  },
  {
   "cell_type": "code",
   "execution_count": 3,
   "metadata": {},
   "outputs": [
    {
     "data": {
      "text/plain": [
       "8"
      ]
     },
     "execution_count": 3,
     "metadata": {},
     "output_type": "execute_result"
    }
   ],
   "source": [
    "year = 2015\n",
    "day = 8"
   ]
  },
  {
   "cell_type": "code",
   "execution_count": 4,
   "metadata": {},
   "outputs": [
    {
     "data": {
      "text/plain": [
       "\"\\\"azlgxdbljwygyttzkfwuxv\\\"\\n\\\"v\\\\xfb\\\\\\\"lgs\\\\\\\"kvjfywmut\\\\x9cr\\\"\\n\\\"merxdhj\\\"\\n\\\"dwz\\\"\\n\\\"d\\\\\\\\gkbqo\\\\\\\\fwukyxab\\\\\\\"u\\\"\\n\\\"k\\\\xd4cfixejvkicryipucwurq\\\\x7eq\\\"\\n\\\"nvtidemacj\\\\\\\"hppfopvpr\\\"\\n\\\"kbngyfvvsdismznhar\\\\\\\\p\\\\\\\"\\\\\\\"gpryt\\\\\\\"jaeh\\\"\\n\\\"khre\\\\\\\"o\\\\x0elqfrbktzn\\\"\\n\\\"nugkdmqwdq\\\\x50amallrskmrxoyo\\\"\\n\\\"jcrkptrsasjp\\\\\\\\\\\\\\\"cwigzynjg\" ⋯ 5961 bytes ⋯ \"\\\"\\\\xe8\\\\\\\"ec\\\\xeah\\\\\\\"qo\\\\\\\\g\\\\\\\"iuqxy\\\\\\\"e\\\\\\\"y\\\\xe7xk\\\\xc6d\\\"\\n\\\"lwj\\\\\\\"aftrcqj\\\"\\n\\\"jduij\\\\x97zk\\\\\\\"rftjrixzgscxxllpqx\\\\\\\"bwwb\\\"\\n\\\"fqcditz\\\"\\n\\\"f\\\\x19azclj\\\\\\\"rsvaokgvty\\\\\\\"aeq\\\"\\n\\\"erse\\\\x9etmzhlmhy\\\\x67yftoti\\\"\\n\\\"lsdw\\\\xb3dmiy\\\\\\\\od\\\"\\n\\\"x\\\\x6fxbljsjdgd\\\\xaau\\\"\\n\\\"hjg\\\\\\\\w\\\\\\\"\\\\x78uoqbsdikbjxpip\\\\\\\"w\\\\\\\"jnhzec\\\"\\n\\\"gk\\\"\\n\\\"\\\\\\\\zrs\\\\\\\\syur\\\"\""
      ]
     },
     "execution_count": 4,
     "metadata": {},
     "output_type": "execute_result"
    }
   ],
   "source": [
    "input = get_input(year, day)"
   ]
  },
  {
   "cell_type": "code",
   "execution_count": 5,
   "metadata": {},
   "outputs": [
    {
     "data": {
      "text/plain": [
       "300-element Vector{SubString{String}}:\n",
       " \"\\\"azlgxdbljwygyttzkfwuxv\\\"\"\n",
       " \"\\\"v\\\\xfb\\\\\\\"lgs\\\\\\\"kvjfywmut\\\\x9cr\\\"\"\n",
       " \"\\\"merxdhj\\\"\"\n",
       " \"\\\"dwz\\\"\"\n",
       " \"\\\"d\\\\\\\\gkbqo\\\\\\\\fwukyxab\\\\\\\"u\\\"\"\n",
       " \"\\\"k\\\\xd4cfixejvkicryipucwurq\\\\x7eq\\\"\"\n",
       " \"\\\"nvtidemacj\\\\\\\"hppfopvpr\\\"\"\n",
       " \"\\\"kbngyfvvsdismznhar\\\\\\\\p\\\\\\\"\\\\\\\"gpryt\\\\\\\"jaeh\\\"\"\n",
       " \"\\\"khre\\\\\\\"o\\\\x0elqfrbktzn\\\"\"\n",
       " \"\\\"nugkdmqwdq\\\\x50amallrskmrxoyo\\\"\"\n",
       " \"\\\"jcrkptrsasjp\\\\\\\\\\\\\\\"cwigzynjgspxxv\\\\\\\\vyb\\\"\"\n",
       " \"\\\"ramf\\\\\\\"skhcmenhbpujbqwkltmplxygfcy\\\"\"\n",
       " \"\\\"aqjqgbfqaxga\\\\\\\\fkdcahlfi\\\\\\\"pvods\\\"\"\n",
       " ⋮\n",
       " \"\\\"ecn\\\\x50ooprbstnq\\\"\"\n",
       " \"\\\"\\\\\\\"\\\\xe8\\\\\\\"ec\\\\xeah\\\\\\\"qo\\\\\\\\g\\\\\\\"iuqxy\\\\\\\"e\\\\\\\"y\\\\xe7xk\\\\xc6d\\\"\"\n",
       " \"\\\"lwj\\\\\\\"aftrcqj\\\"\"\n",
       " \"\\\"jduij\\\\x97zk\\\\\\\"rftjrixzgscxxllpqx\\\\\\\"bwwb\\\"\"\n",
       " \"\\\"fqcditz\\\"\"\n",
       " \"\\\"f\\\\x19azclj\\\\\\\"rsvaokgvty\\\\\\\"aeq\\\"\"\n",
       " \"\\\"erse\\\\x9etmzhlmhy\\\\x67yftoti\\\"\"\n",
       " \"\\\"lsdw\\\\xb3dmiy\\\\\\\\od\\\"\"\n",
       " \"\\\"x\\\\x6fxbljsjdgd\\\\xaau\\\"\"\n",
       " \"\\\"hjg\\\\\\\\w\\\\\\\"\\\\x78uoqbsdikbjxpip\\\\\\\"w\\\\\\\"jnhzec\\\"\"\n",
       " \"\\\"gk\\\"\"\n",
       " \"\\\"\\\\\\\\zrs\\\\\\\\syur\\\"\""
      ]
     },
     "execution_count": 5,
     "metadata": {},
     "output_type": "execute_result"
    }
   ],
   "source": [
    "parsed_input = parse_input(input)"
   ]
  },
  {
   "cell_type": "code",
   "execution_count": 6,
   "metadata": {},
   "outputs": [
    {
     "data": {
      "text/plain": [
       "\"\\\"\\\"\\n\\\"abc\\\"\\n\\\"aaa\\\\\\\"aaa\\\"\\n\\\"\\\\x27\\\"\""
      ]
     },
     "execution_count": 6,
     "metadata": {},
     "output_type": "execute_result"
    }
   ],
   "source": [
    "sample = \"\"\"\\\"\\\"\n",
    "\\\"abc\\\"\n",
    "\\\"aaa\\\\\\\"aaa\\\"\n",
    "\\\"\\\\x27\\\"\"\"\""
   ]
  },
  {
   "cell_type": "code",
   "execution_count": 7,
   "metadata": {},
   "outputs": [
    {
     "data": {
      "text/plain": [
       "4-element Vector{SubString{String}}:\n",
       " \"\\\"\\\"\"\n",
       " \"\\\"abc\\\"\"\n",
       " \"\\\"aaa\\\\\\\"aaa\\\"\"\n",
       " \"\\\"\\\\x27\\\"\""
      ]
     },
     "execution_count": 7,
     "metadata": {},
     "output_type": "execute_result"
    }
   ],
   "source": [
    "parsed_sample = parse_input(sample)"
   ]
  },
  {
   "cell_type": "code",
   "execution_count": 8,
   "metadata": {},
   "outputs": [
    {
     "data": {
      "text/plain": [
       "part_one (generic function with 1 method)"
      ]
     },
     "execution_count": 8,
     "metadata": {},
     "output_type": "execute_result"
    }
   ],
   "source": [
    "function part_one(input)\n",
    "    sum(map(input) do line\n",
    "        length(line) - length(unescape_string(line[2:end-1]))\n",
    "    end)\n",
    "end"
   ]
  },
  {
   "cell_type": "code",
   "execution_count": 9,
   "metadata": {},
   "outputs": [
    {
     "data": {
      "text/plain": [
       "12"
      ]
     },
     "execution_count": 9,
     "metadata": {},
     "output_type": "execute_result"
    }
   ],
   "source": [
    "part_one(parsed_sample)"
   ]
  },
  {
   "cell_type": "code",
   "execution_count": 10,
   "metadata": {},
   "outputs": [
    {
     "data": {
      "text/plain": [
       "1342"
      ]
     },
     "execution_count": 10,
     "metadata": {},
     "output_type": "execute_result"
    }
   ],
   "source": [
    "part_one_ans = part_one(parsed_input)"
   ]
  },
  {
   "cell_type": "code",
   "execution_count": 11,
   "metadata": {},
   "outputs": [
    {
     "data": {
      "text/plain": [
       "\"<!DOCTYPE html>\\n<html lang=\\\"en-us\\\">\\n<head>\\n<meta charset=\\\"utf-8\\\"/>\\n<title>Day 8 - Advent of Code 2015</title>\\n<!--[if lt IE 9]><script src=\\\"/static/html5.js\\\"></script><![endif]-->\\n<link href='//fonts.googleapis.com/css?family=Source+Code+Pro:300&subset=latin,latin-ext' \" ⋯ 2818 bytes ⋯ \"Name(o)[0];a.async=1;a.src=g;m.parentNode.insertBefore(a,m)\\n})(window,document,'script','//www.google-analytics.com/analytics.js','ga');\\nga('create', 'UA-69522494-1', 'auto');\\nga('set', 'anonymizeIp', true);\\nga('send', 'pageview');\\n</script>\\n<!-- /ga -->\\n</body>\\n</html>\""
      ]
     },
     "execution_count": 11,
     "metadata": {},
     "output_type": "execute_result"
    }
   ],
   "source": [
    "submit_answer(year, day, part_one_ans)"
   ]
  },
  {
   "cell_type": "code",
   "execution_count": 12,
   "metadata": {},
   "outputs": [
    {
     "data": {
      "text/plain": [
       "part_two (generic function with 1 method)"
      ]
     },
     "execution_count": 12,
     "metadata": {},
     "output_type": "execute_result"
    }
   ],
   "source": [
    "function part_two(input)\n",
    "    sum(map(input) do line\n",
    "        2 + length(escape_string(line)) - length(line)\n",
    "    end)\n",
    "end"
   ]
  },
  {
   "cell_type": "code",
   "execution_count": 13,
   "metadata": {},
   "outputs": [
    {
     "data": {
      "text/plain": [
       "19"
      ]
     },
     "execution_count": 13,
     "metadata": {},
     "output_type": "execute_result"
    }
   ],
   "source": [
    "part_two(parsed_sample)"
   ]
  },
  {
   "cell_type": "code",
   "execution_count": 14,
   "metadata": {},
   "outputs": [
    {
     "data": {
      "text/plain": [
       "2074"
      ]
     },
     "execution_count": 14,
     "metadata": {},
     "output_type": "execute_result"
    }
   ],
   "source": [
    "part_two_ans = part_two(parsed_input)"
   ]
  },
  {
   "cell_type": "code",
   "execution_count": 15,
   "metadata": {},
   "outputs": [
    {
     "data": {
      "text/plain": [
       "\"<!DOCTYPE html>\\n<html lang=\\\"en-us\\\">\\n<head>\\n<meta charset=\\\"utf-8\\\"/>\\n<title>Day 8 - Advent of Code 2015</title>\\n<!--[if lt IE 9]><script src=\\\"/static/html5.js\\\"></script><![endif]-->\\n<link href='//fonts.googleapis.com/css?family=Source+Code+Pro:300&subset=latin,latin-ext' \" ⋯ 2855 bytes ⋯ \"Name(o)[0];a.async=1;a.src=g;m.parentNode.insertBefore(a,m)\\n})(window,document,'script','//www.google-analytics.com/analytics.js','ga');\\nga('create', 'UA-69522494-1', 'auto');\\nga('set', 'anonymizeIp', true);\\nga('send', 'pageview');\\n</script>\\n<!-- /ga -->\\n</body>\\n</html>\""
      ]
     },
     "execution_count": 15,
     "metadata": {},
     "output_type": "execute_result"
    }
   ],
   "source": [
    "submit_answer(year, day, part_two_ans, 2)"
   ]
  }
 ],
 "metadata": {
  "kernelspec": {
   "display_name": "Julia 1.8.0",
   "language": "julia",
   "name": "julia-1.8"
  },
  "language_info": {
   "file_extension": ".jl",
   "mimetype": "application/julia",
   "name": "julia",
   "version": "1.8.3"
  },
  "orig_nbformat": 4,
  "vscode": {
   "interpreter": {
    "hash": "2decbbcdbe1b404b08c0c2ae8935a58886fd60ea7dad56cfc87e2a14f377e9ba"
   }
  }
 },
 "nbformat": 4,
 "nbformat_minor": 2
}
