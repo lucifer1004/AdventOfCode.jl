{
 "cells": [
  {
   "cell_type": "code",
   "execution_count": 1,
   "metadata": {},
   "outputs": [
    {
     "name": "stderr",
     "output_type": "stream",
     "text": [
      "\u001b[32m\u001b[1m  Activating\u001b[22m\u001b[39m project at `~/com.github/lucifer1004/AdventOfCode.jl`\n"
     ]
    }
   ],
   "source": [
    "import Pkg; Pkg.activate(\"..\")"
   ]
  },
  {
   "cell_type": "code",
   "execution_count": 2,
   "metadata": {},
   "outputs": [],
   "source": [
    "using AdventOfCode"
   ]
  },
  {
   "cell_type": "code",
   "execution_count": 3,
   "metadata": {},
   "outputs": [
    {
     "data": {
      "text/plain": [
       "16"
      ]
     },
     "execution_count": 3,
     "metadata": {},
     "output_type": "execute_result"
    }
   ],
   "source": [
    "year = 2015\n",
    "day = 16"
   ]
  },
  {
   "cell_type": "code",
   "execution_count": 4,
   "metadata": {},
   "outputs": [
    {
     "data": {
      "text/plain": [
       "\"Sue 1: goldfish: 9, cars: 0, samoyeds: 9\\nSue 2: perfumes: 5, trees: 8, goldfish: 8\\nSue 3: pomeranians: 2, akitas: 1, trees: 5\\nSue 4: goldfish: 10, akitas: 2, perfumes: 9\\nSue 5: cars: 5, perfumes: 6, akitas: 9\\nSue 6: goldfish: 10, cats: 9, cars: 8\\nSue 7: trees: 2, samoye\" ⋯ 21088 bytes ⋯ \", cars: 4, vizslas: 9\\nSue 495: vizslas: 1, akitas: 2, cats: 2\\nSue 496: trees: 7, vizslas: 5, akitas: 6\\nSue 497: akitas: 8, trees: 2, perfumes: 6\\nSue 498: akitas: 1, trees: 1, samoyeds: 4\\nSue 499: cars: 0, akitas: 5, vizslas: 3\\nSue 500: cats: 2, goldfish: 9, children: 8\""
      ]
     },
     "execution_count": 4,
     "metadata": {},
     "output_type": "execute_result"
    }
   ],
   "source": [
    "input = get_input(year, day)"
   ]
  },
  {
   "cell_type": "code",
   "execution_count": 5,
   "metadata": {},
   "outputs": [
    {
     "data": {
      "text/plain": [
       "500-element Vector{SubString{String}}:\n",
       " \"Sue 1: goldfish: 9, cars: 0, samoyeds: 9\"\n",
       " \"Sue 2: perfumes: 5, trees: 8, goldfish: 8\"\n",
       " \"Sue 3: pomeranians: 2, akitas: 1, trees: 5\"\n",
       " \"Sue 4: goldfish: 10, akitas: 2, perfumes: 9\"\n",
       " \"Sue 5: cars: 5, perfumes: 6, akitas: 9\"\n",
       " \"Sue 6: goldfish: 10, cats: 9, cars: 8\"\n",
       " \"Sue 7: trees: 2, samoyeds: 7, goldfish: 10\"\n",
       " \"Sue 8: cars: 8, perfumes: 6, goldfish: 1\"\n",
       " \"Sue 9: cats: 4, pomeranians: 0, trees: 0\"\n",
       " \"Sue 10: trees: 2, children: 10, samoyeds: 10\"\n",
       " \"Sue 11: akitas: 10, perfumes: 4, vizslas: 1\"\n",
       " \"Sue 12: akitas: 1, trees: 0, goldfish: 3\"\n",
       " \"Sue 13: perfumes: 6, goldfish: 10, cars: 8\"\n",
       " ⋮\n",
       " \"Sue 489: vizslas: 9, akitas: 6, trees: 2\"\n",
       " \"Sue 490: vizslas: 5, akitas: 1, children: 5\"\n",
       " \"Sue 491: vizslas: 8, goldfish: 3, perfumes: 6\"\n",
       " \"Sue 492: trees: 3, samoyeds: 1, pomeranians: 6\"\n",
       " \"Sue 493: akitas: 1, vizslas: 5, cars: 8\"\n",
       " \"Sue 494: akitas: 4, cars: 4, vizslas: 9\"\n",
       " \"Sue 495: vizslas: 1, akitas: 2, cats: 2\"\n",
       " \"Sue 496: trees: 7, vizslas: 5, akitas: 6\"\n",
       " \"Sue 497: akitas: 8, trees: 2, perfumes: 6\"\n",
       " \"Sue 498: akitas: 1, trees: 1, samoyeds: 4\"\n",
       " \"Sue 499: cars: 0, akitas: 5, vizslas: 3\"\n",
       " \"Sue 500: cats: 2, goldfish: 9, children: 8\""
      ]
     },
     "execution_count": 5,
     "metadata": {},
     "output_type": "execute_result"
    }
   ],
   "source": [
    "parsed_input = parse_input(input)"
   ]
  },
  {
   "cell_type": "code",
   "execution_count": 6,
   "metadata": {},
   "outputs": [
    {
     "data": {
      "text/plain": [
       "\"children: 3\\ncats: 7\\nsamoyeds: 2\\npomeranians: 3\\nakitas: 0\\nvizslas: 0\\ngoldfish: 5\\ntrees: 3\\ncars: 2\\nperfumes: 1\""
      ]
     },
     "execution_count": 6,
     "metadata": {},
     "output_type": "execute_result"
    }
   ],
   "source": [
    "clues = \"\"\"children: 3\n",
    "cats: 7\n",
    "samoyeds: 2\n",
    "pomeranians: 3\n",
    "akitas: 0\n",
    "vizslas: 0\n",
    "goldfish: 5\n",
    "trees: 3\n",
    "cars: 2\n",
    "perfumes: 1\"\"\""
   ]
  },
  {
   "cell_type": "code",
   "execution_count": 7,
   "metadata": {},
   "outputs": [
    {
     "data": {
      "text/plain": [
       "Dict{String, Int64} with 10 entries:\n",
       "  \"samoyeds\"    => 2\n",
       "  \"akitas\"      => 0\n",
       "  \"pomeranians\" => 3\n",
       "  \"trees\"       => 3\n",
       "  \"perfumes\"    => 1\n",
       "  \"vizslas\"     => 0\n",
       "  \"cars\"        => 2\n",
       "  \"goldfish\"    => 5\n",
       "  \"cats\"        => 7\n",
       "  \"children\"    => 3"
      ]
     },
     "execution_count": 7,
     "metadata": {},
     "output_type": "execute_result"
    }
   ],
   "source": [
    "cdict = map(split(clues, \"\\n\")) do line\n",
    "    key, value = split(line, \": \")\n",
    "    value = parse(Int, value)\n",
    "    string(key) => value\n",
    "end |> Dict"
   ]
  },
  {
   "cell_type": "code",
   "execution_count": 8,
   "metadata": {},
   "outputs": [
    {
     "data": {
      "text/plain": [
       "part_one (generic function with 1 method)"
      ]
     },
     "execution_count": 8,
     "metadata": {},
     "output_type": "execute_result"
    }
   ],
   "source": [
    "function part_one(input)\n",
    "    for (i, line) in enumerate(input)\n",
    "        sue = map([line[idx] for idx in findall(r\"[a-z]+: \\d+\", line)]) do line\n",
    "            key, value = split(line, \": \")\n",
    "            value = parse(Int, value)\n",
    "            string(key) => value\n",
    "        end |> Dict\n",
    "        if all(cdict[k] == v for (k, v) in sue)\n",
    "            return i\n",
    "        end\n",
    "    end\n",
    "end"
   ]
  },
  {
   "cell_type": "code",
   "execution_count": 9,
   "metadata": {},
   "outputs": [
    {
     "data": {
      "text/plain": [
       "40"
      ]
     },
     "execution_count": 9,
     "metadata": {},
     "output_type": "execute_result"
    }
   ],
   "source": [
    "part_one_ans = part_one(parsed_input)"
   ]
  },
  {
   "cell_type": "code",
   "execution_count": 10,
   "metadata": {},
   "outputs": [
    {
     "data": {
      "text/plain": [
       "\"<!DOCTYPE html>\\n<html lang=\\\"en-us\\\">\\n<head>\\n<meta charset=\\\"utf-8\\\"/>\\n<title>Day 16 - Advent of Code 2015</title>\\n<!--[if lt IE 9]><script src=\\\"/static/html5.js\\\"></script><![endif]-->\\n<link href='//fonts.googleapis.com/css?family=Source+Code+Pro:300&subset=latin,latin-ext'\" ⋯ 2823 bytes ⋯ \"Name(o)[0];a.async=1;a.src=g;m.parentNode.insertBefore(a,m)\\n})(window,document,'script','//www.google-analytics.com/analytics.js','ga');\\nga('create', 'UA-69522494-1', 'auto');\\nga('set', 'anonymizeIp', true);\\nga('send', 'pageview');\\n</script>\\n<!-- /ga -->\\n</body>\\n</html>\""
      ]
     },
     "execution_count": 10,
     "metadata": {},
     "output_type": "execute_result"
    }
   ],
   "source": [
    "submit_answer(year, day, part_one_ans)"
   ]
  },
  {
   "cell_type": "code",
   "execution_count": 11,
   "metadata": {},
   "outputs": [
    {
     "data": {
      "text/plain": [
       "isvalid (generic function with 1 method)"
      ]
     },
     "execution_count": 11,
     "metadata": {},
     "output_type": "execute_result"
    }
   ],
   "source": [
    "function isvalid(k, v)\n",
    "    if k ∈ [\"cats\", \"trees\"]\n",
    "        return v > cdict[k]\n",
    "    elseif k ∈ [\"pomeranians\", \"goldfish\"]\n",
    "        return v < cdict[k]\n",
    "    else\n",
    "        return v == cdict[k]\n",
    "    end\n",
    "end"
   ]
  },
  {
   "cell_type": "code",
   "execution_count": 12,
   "metadata": {},
   "outputs": [
    {
     "data": {
      "text/plain": [
       "part_two (generic function with 1 method)"
      ]
     },
     "execution_count": 12,
     "metadata": {},
     "output_type": "execute_result"
    }
   ],
   "source": [
    "function part_two(input)\n",
    "    for (i, line) in enumerate(input)\n",
    "        sue = map([line[idx] for idx in findall(r\"[a-z]+: \\d+\", line)]) do line\n",
    "            key, value = split(line, \": \")\n",
    "            value = parse(Int, value)\n",
    "            string(key) => value\n",
    "        end |> Dict\n",
    "        if all(isvalid(k, v) for (k, v) in sue)\n",
    "            return i\n",
    "        end\n",
    "    end\n",
    "end"
   ]
  },
  {
   "cell_type": "code",
   "execution_count": 13,
   "metadata": {},
   "outputs": [
    {
     "data": {
      "text/plain": [
       "241"
      ]
     },
     "execution_count": 13,
     "metadata": {},
     "output_type": "execute_result"
    }
   ],
   "source": [
    "part_two_ans = part_two(parsed_input)"
   ]
  },
  {
   "cell_type": "code",
   "execution_count": 14,
   "metadata": {},
   "outputs": [
    {
     "data": {
      "text/plain": [
       "\"<!DOCTYPE html>\\n<html lang=\\\"en-us\\\">\\n<head>\\n<meta charset=\\\"utf-8\\\"/>\\n<title>Day 16 - Advent of Code 2015</title>\\n<!--[if lt IE 9]><script src=\\\"/static/html5.js\\\"></script><![endif]-->\\n<link href='//fonts.googleapis.com/css?family=Source+Code+Pro:300&subset=latin,latin-ext'\" ⋯ 2844 bytes ⋯ \"Name(o)[0];a.async=1;a.src=g;m.parentNode.insertBefore(a,m)\\n})(window,document,'script','//www.google-analytics.com/analytics.js','ga');\\nga('create', 'UA-69522494-1', 'auto');\\nga('set', 'anonymizeIp', true);\\nga('send', 'pageview');\\n</script>\\n<!-- /ga -->\\n</body>\\n</html>\""
      ]
     },
     "execution_count": 14,
     "metadata": {},
     "output_type": "execute_result"
    }
   ],
   "source": [
    "submit_answer(year, day, part_two_ans, 2)"
   ]
  }
 ],
 "metadata": {
  "kernelspec": {
   "display_name": "Julia 1.8.0",
   "language": "julia",
   "name": "julia-1.8"
  },
  "language_info": {
   "file_extension": ".jl",
   "mimetype": "application/julia",
   "name": "julia",
   "version": "1.8.3"
  },
  "orig_nbformat": 4,
  "vscode": {
   "interpreter": {
    "hash": "2decbbcdbe1b404b08c0c2ae8935a58886fd60ea7dad56cfc87e2a14f377e9ba"
   }
  }
 },
 "nbformat": 4,
 "nbformat_minor": 2
}
