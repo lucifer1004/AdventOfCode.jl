{
 "cells": [
  {
   "cell_type": "code",
   "execution_count": 1,
   "metadata": {},
   "outputs": [
    {
     "name": "stderr",
     "output_type": "stream",
     "text": [
      "\u001b[32m\u001b[1m  Activating\u001b[22m\u001b[39m project at `~/com.github/lucifer1004/AdventOfCode.jl`\n"
     ]
    }
   ],
   "source": [
    "import Pkg; Pkg.activate(\"..\")"
   ]
  },
  {
   "cell_type": "code",
   "execution_count": 2,
   "metadata": {},
   "outputs": [],
   "source": [
    "using AdventOfCode"
   ]
  },
  {
   "cell_type": "code",
   "execution_count": 3,
   "metadata": {},
   "outputs": [
    {
     "data": {
      "text/plain": [
       "23"
      ]
     },
     "execution_count": 3,
     "metadata": {},
     "output_type": "execute_result"
    }
   ],
   "source": [
    "year = 2015\n",
    "day = 23"
   ]
  },
  {
   "cell_type": "code",
   "execution_count": 4,
   "metadata": {},
   "outputs": [
    {
     "data": {
      "text/plain": [
       "\"jio a, +19\\ninc a\\ntpl a\\ninc a\\ntpl a\\ninc a\\ntpl a\\ntpl a\\ninc a\\ninc a\\ntpl a\\ntpl a\\ninc a\\ninc a\\ntpl a\\ninc a\\ninc a\\ntpl a\\njmp +23\\ntpl a\\ntpl a\\ninc a\\ninc a\\ntpl a\\ninc a\\ninc a\\ntpl a\\ninc a\\ntpl a\\ninc a\\ntpl a\\ninc a\\ntpl a\\ninc a\\ninc a\\ntpl a\\ninc a\\ninc a\\ntpl a\\ntpl a\\ninc a\\njio a, +8\\ninc b\\njie a, +4\\ntpl a\\ninc a\\njmp +2\\nhlf a\\njmp -7\""
      ]
     },
     "execution_count": 4,
     "metadata": {},
     "output_type": "execute_result"
    }
   ],
   "source": [
    "input = get_input(year, day)"
   ]
  },
  {
   "cell_type": "code",
   "execution_count": 5,
   "metadata": {},
   "outputs": [
    {
     "data": {
      "text/plain": [
       "49-element Vector{SubString{String}}:\n",
       " \"jio a, +19\"\n",
       " \"inc a\"\n",
       " \"tpl a\"\n",
       " \"inc a\"\n",
       " \"tpl a\"\n",
       " \"inc a\"\n",
       " \"tpl a\"\n",
       " \"tpl a\"\n",
       " \"inc a\"\n",
       " \"inc a\"\n",
       " \"tpl a\"\n",
       " \"tpl a\"\n",
       " \"inc a\"\n",
       " ⋮\n",
       " \"inc a\"\n",
       " \"tpl a\"\n",
       " \"tpl a\"\n",
       " \"inc a\"\n",
       " \"jio a, +8\"\n",
       " \"inc b\"\n",
       " \"jie a, +4\"\n",
       " \"tpl a\"\n",
       " \"inc a\"\n",
       " \"jmp +2\"\n",
       " \"hlf a\"\n",
       " \"jmp -7\""
      ]
     },
     "execution_count": 5,
     "metadata": {},
     "output_type": "execute_result"
    }
   ],
   "source": [
    "parsed_input = parse_input(input)"
   ]
  },
  {
   "cell_type": "code",
   "execution_count": 6,
   "metadata": {},
   "outputs": [
    {
     "data": {
      "text/plain": [
       "\"inc a\\njio a, +2\\ntpl a\\ninc a\""
      ]
     },
     "execution_count": 6,
     "metadata": {},
     "output_type": "execute_result"
    }
   ],
   "source": [
    "sample = \"\"\"inc a\n",
    "jio a, +2\n",
    "tpl a\n",
    "inc a\"\"\""
   ]
  },
  {
   "cell_type": "code",
   "execution_count": 7,
   "metadata": {},
   "outputs": [
    {
     "data": {
      "text/plain": [
       "4-element Vector{SubString{String}}:\n",
       " \"inc a\"\n",
       " \"jio a, +2\"\n",
       " \"tpl a\"\n",
       " \"inc a\""
      ]
     },
     "execution_count": 7,
     "metadata": {},
     "output_type": "execute_result"
    }
   ],
   "source": [
    "parsed_sample = parse_input(sample)"
   ]
  },
  {
   "cell_type": "code",
   "execution_count": 8,
   "metadata": {},
   "outputs": [
    {
     "data": {
      "text/plain": [
       "solve (generic function with 3 methods)"
      ]
     },
     "execution_count": 8,
     "metadata": {},
     "output_type": "execute_result"
    }
   ],
   "source": [
    "function solve(input, initial_a = 0, initial_b = 0)\n",
    "    d = Dict{String, Int}(\"a\" => initial_a, \"b\" => initial_b)\n",
    "    n = length(input)\n",
    "    ptr = 1\n",
    "    while ptr <= n\n",
    "        line = input[ptr]\n",
    "        if startswith(line, \"hlf\")\n",
    "            register = split(line)[2]\n",
    "            d[register] ÷= 2\n",
    "            ptr += 1\n",
    "        elseif startswith(line, \"tpl\")\n",
    "            register = split(line)[2]\n",
    "            d[register] *= 3\n",
    "            ptr += 1\n",
    "        elseif startswith(line, \"inc\")\n",
    "            register = split(line)[2]\n",
    "            d[register] += 1\n",
    "            ptr += 1\n",
    "        elseif startswith(line, \"jmp\")\n",
    "            offset = parse(Int, split(line)[2])\n",
    "            ptr += offset\n",
    "        elseif startswith(line, \"jie\")\n",
    "            register, offset = split(line)[2:3]\n",
    "            register = register[begin:end-1]\n",
    "            if d[register] % 2 == 0\n",
    "                offset = parse(Int, offset)\n",
    "                ptr += offset\n",
    "            else\n",
    "                ptr += 1\n",
    "            end\n",
    "        elseif startswith(line, \"jio\")\n",
    "            register, offset = split(line)[2:3]\n",
    "            register = register[begin:end-1]\n",
    "            if d[register] == 1\n",
    "                offset = parse(Int, offset)\n",
    "                ptr += offset\n",
    "            else\n",
    "                ptr += 1\n",
    "            end\n",
    "        end\n",
    "    end\n",
    "\n",
    "    return d[\"b\"]\n",
    "end"
   ]
  },
  {
   "cell_type": "code",
   "execution_count": 9,
   "metadata": {},
   "outputs": [
    {
     "data": {
      "text/plain": [
       "part_one (generic function with 1 method)"
      ]
     },
     "execution_count": 9,
     "metadata": {},
     "output_type": "execute_result"
    }
   ],
   "source": [
    "part_one(input) = solve(input)"
   ]
  },
  {
   "cell_type": "code",
   "execution_count": 10,
   "metadata": {},
   "outputs": [
    {
     "data": {
      "text/plain": [
       "184"
      ]
     },
     "execution_count": 10,
     "metadata": {},
     "output_type": "execute_result"
    }
   ],
   "source": [
    "part_one_ans = part_one(parsed_input)"
   ]
  },
  {
   "cell_type": "code",
   "execution_count": 11,
   "metadata": {},
   "outputs": [
    {
     "data": {
      "text/plain": [
       "\"<!DOCTYPE html>\\n<html lang=\\\"en-us\\\">\\n<head>\\n<meta charset=\\\"utf-8\\\"/>\\n<title>Day 23 - Advent of Code 2015</title>\\n<!--[if lt IE 9]><script src=\\\"/static/html5.js\\\"></script><![endif]-->\\n<link href='//fonts.googleapis.com/css?family=Source+Code+Pro:300&subset=latin,latin-ext'\" ⋯ 2858 bytes ⋯ \"Name(o)[0];a.async=1;a.src=g;m.parentNode.insertBefore(a,m)\\n})(window,document,'script','//www.google-analytics.com/analytics.js','ga');\\nga('create', 'UA-69522494-1', 'auto');\\nga('set', 'anonymizeIp', true);\\nga('send', 'pageview');\\n</script>\\n<!-- /ga -->\\n</body>\\n</html>\""
      ]
     },
     "execution_count": 11,
     "metadata": {},
     "output_type": "execute_result"
    }
   ],
   "source": [
    "submit_answer(year, day, part_one_ans)"
   ]
  },
  {
   "cell_type": "code",
   "execution_count": 12,
   "metadata": {},
   "outputs": [
    {
     "data": {
      "text/plain": [
       "part_two (generic function with 1 method)"
      ]
     },
     "execution_count": 12,
     "metadata": {},
     "output_type": "execute_result"
    }
   ],
   "source": [
    "part_two(input) = solve(input, 1)"
   ]
  },
  {
   "cell_type": "code",
   "execution_count": 13,
   "metadata": {},
   "outputs": [
    {
     "data": {
      "text/plain": [
       "0"
      ]
     },
     "execution_count": 13,
     "metadata": {},
     "output_type": "execute_result"
    }
   ],
   "source": [
    "part_two(parsed_sample)"
   ]
  },
  {
   "cell_type": "code",
   "execution_count": 14,
   "metadata": {},
   "outputs": [
    {
     "data": {
      "text/plain": [
       "231"
      ]
     },
     "execution_count": 14,
     "metadata": {},
     "output_type": "execute_result"
    }
   ],
   "source": [
    "part_two_ans = part_two(parsed_input)"
   ]
  },
  {
   "cell_type": "code",
   "execution_count": 15,
   "metadata": {},
   "outputs": [
    {
     "data": {
      "text/plain": [
       "\"<!DOCTYPE html>\\n<html lang=\\\"en-us\\\">\\n<head>\\n<meta charset=\\\"utf-8\\\"/>\\n<title>Day 23 - Advent of Code 2015</title>\\n<!--[if lt IE 9]><script src=\\\"/static/html5.js\\\"></script><![endif]-->\\n<link href='//fonts.googleapis.com/css?family=Source+Code+Pro:300&subset=latin,latin-ext'\" ⋯ 2838 bytes ⋯ \"Name(o)[0];a.async=1;a.src=g;m.parentNode.insertBefore(a,m)\\n})(window,document,'script','//www.google-analytics.com/analytics.js','ga');\\nga('create', 'UA-69522494-1', 'auto');\\nga('set', 'anonymizeIp', true);\\nga('send', 'pageview');\\n</script>\\n<!-- /ga -->\\n</body>\\n</html>\""
      ]
     },
     "execution_count": 15,
     "metadata": {},
     "output_type": "execute_result"
    }
   ],
   "source": [
    "submit_answer(year, day, part_two_ans, 2)"
   ]
  }
 ],
 "metadata": {
  "kernelspec": {
   "display_name": "Julia 1.8.0",
   "language": "julia",
   "name": "julia-1.8"
  },
  "language_info": {
   "file_extension": ".jl",
   "mimetype": "application/julia",
   "name": "julia",
   "version": "1.8.3"
  },
  "orig_nbformat": 4,
  "vscode": {
   "interpreter": {
    "hash": "2decbbcdbe1b404b08c0c2ae8935a58886fd60ea7dad56cfc87e2a14f377e9ba"
   }
  }
 },
 "nbformat": 4,
 "nbformat_minor": 2
}
