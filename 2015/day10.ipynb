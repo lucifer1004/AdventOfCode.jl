{
 "cells": [
  {
   "cell_type": "code",
   "execution_count": 1,
   "metadata": {},
   "outputs": [
    {
     "name": "stderr",
     "output_type": "stream",
     "text": [
      "\u001b[32m\u001b[1m  Activating\u001b[22m\u001b[39m project at `~/com.github/lucifer1004/AdventOfCode.jl`\n"
     ]
    }
   ],
   "source": [
    "import Pkg; Pkg.activate(\"..\")"
   ]
  },
  {
   "cell_type": "code",
   "execution_count": 2,
   "metadata": {},
   "outputs": [],
   "source": [
    "using AdventOfCode"
   ]
  },
  {
   "cell_type": "code",
   "execution_count": 3,
   "metadata": {},
   "outputs": [
    {
     "data": {
      "text/plain": [
       "10"
      ]
     },
     "execution_count": 3,
     "metadata": {},
     "output_type": "execute_result"
    }
   ],
   "source": [
    "year = 2015\n",
    "day = 10"
   ]
  },
  {
   "cell_type": "code",
   "execution_count": 4,
   "metadata": {},
   "outputs": [
    {
     "data": {
      "text/plain": [
       "\"1113222113\""
      ]
     },
     "execution_count": 4,
     "metadata": {},
     "output_type": "execute_result"
    }
   ],
   "source": [
    "input = get_input(year, day)"
   ]
  },
  {
   "cell_type": "code",
   "execution_count": 5,
   "metadata": {},
   "outputs": [
    {
     "data": {
      "text/plain": [
       "process (generic function with 1 method)"
      ]
     },
     "execution_count": 5,
     "metadata": {},
     "output_type": "execute_result"
    }
   ],
   "source": [
    "function process(input, n)\n",
    "    now = input\n",
    "    for i in 1:n\n",
    "        nxt = String[]\n",
    "        last = '0'\n",
    "        cnt = 0\n",
    "        for c in now * \"#\"\n",
    "            if c == last\n",
    "                cnt += 1\n",
    "            else\n",
    "                if cnt > 0\n",
    "                    push!(nxt, string(cnt))\n",
    "                    push!(nxt, string(last))\n",
    "                end\n",
    "                cnt = 1\n",
    "                last = c\n",
    "            end\n",
    "        end\n",
    "        now = join(nxt)\n",
    "    end\n",
    "    return length(now)\n",
    "end"
   ]
  },
  {
   "cell_type": "code",
   "execution_count": 6,
   "metadata": {},
   "outputs": [
    {
     "data": {
      "text/plain": [
       "part_one (generic function with 1 method)"
      ]
     },
     "execution_count": 6,
     "metadata": {},
     "output_type": "execute_result"
    }
   ],
   "source": [
    "part_one(input) = process(input, 40)"
   ]
  },
  {
   "cell_type": "code",
   "execution_count": 7,
   "metadata": {},
   "outputs": [
    {
     "data": {
      "text/plain": [
       "252594"
      ]
     },
     "execution_count": 7,
     "metadata": {},
     "output_type": "execute_result"
    }
   ],
   "source": [
    "part_one_ans = part_one(input)"
   ]
  },
  {
   "cell_type": "code",
   "execution_count": 8,
   "metadata": {},
   "outputs": [
    {
     "data": {
      "text/plain": [
       "\"<!DOCTYPE html>\\n<html lang=\\\"en-us\\\">\\n<head>\\n<meta charset=\\\"utf-8\\\"/>\\n<title>Day 10 - Advent of Code 2015</title>\\n<!--[if lt IE 9]><script src=\\\"/static/html5.js\\\"></script><![endif]-->\\n<link href='//fonts.googleapis.com/css?family=Source+Code+Pro:300&subset=latin,latin-ext'\" ⋯ 2844 bytes ⋯ \"Name(o)[0];a.async=1;a.src=g;m.parentNode.insertBefore(a,m)\\n})(window,document,'script','//www.google-analytics.com/analytics.js','ga');\\nga('create', 'UA-69522494-1', 'auto');\\nga('set', 'anonymizeIp', true);\\nga('send', 'pageview');\\n</script>\\n<!-- /ga -->\\n</body>\\n</html>\""
      ]
     },
     "execution_count": 8,
     "metadata": {},
     "output_type": "execute_result"
    }
   ],
   "source": [
    "submit_answer(year, day, part_one_ans)"
   ]
  },
  {
   "cell_type": "code",
   "execution_count": 9,
   "metadata": {},
   "outputs": [
    {
     "data": {
      "text/plain": [
       "part_two (generic function with 1 method)"
      ]
     },
     "execution_count": 9,
     "metadata": {},
     "output_type": "execute_result"
    }
   ],
   "source": [
    "part_two(input) = process(input, 50)"
   ]
  },
  {
   "cell_type": "code",
   "execution_count": 10,
   "metadata": {},
   "outputs": [
    {
     "data": {
      "text/plain": [
       "3579328"
      ]
     },
     "execution_count": 10,
     "metadata": {},
     "output_type": "execute_result"
    }
   ],
   "source": [
    "part_two_ans = part_two(input)"
   ]
  },
  {
   "cell_type": "code",
   "execution_count": 11,
   "metadata": {},
   "outputs": [
    {
     "data": {
      "text/plain": [
       "\"<!DOCTYPE html>\\n<html lang=\\\"en-us\\\">\\n<head>\\n<meta charset=\\\"utf-8\\\"/>\\n<title>Day 10 - Advent of Code 2015</title>\\n<!--[if lt IE 9]><script src=\\\"/static/html5.js\\\"></script><![endif]-->\\n<link href='//fonts.googleapis.com/css?family=Source+Code+Pro:300&subset=latin,latin-ext'\" ⋯ 2823 bytes ⋯ \"Name(o)[0];a.async=1;a.src=g;m.parentNode.insertBefore(a,m)\\n})(window,document,'script','//www.google-analytics.com/analytics.js','ga');\\nga('create', 'UA-69522494-1', 'auto');\\nga('set', 'anonymizeIp', true);\\nga('send', 'pageview');\\n</script>\\n<!-- /ga -->\\n</body>\\n</html>\""
      ]
     },
     "execution_count": 11,
     "metadata": {},
     "output_type": "execute_result"
    }
   ],
   "source": [
    "submit_answer(year, day, part_two_ans, 2)"
   ]
  }
 ],
 "metadata": {
  "kernelspec": {
   "display_name": "Julia 1.8.0",
   "language": "julia",
   "name": "julia-1.8"
  },
  "language_info": {
   "file_extension": ".jl",
   "mimetype": "application/julia",
   "name": "julia",
   "version": "1.8.3"
  },
  "orig_nbformat": 4,
  "vscode": {
   "interpreter": {
    "hash": "2decbbcdbe1b404b08c0c2ae8935a58886fd60ea7dad56cfc87e2a14f377e9ba"
   }
  }
 },
 "nbformat": 4,
 "nbformat_minor": 2
}
