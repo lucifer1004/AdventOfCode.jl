{
 "cells": [
  {
   "cell_type": "code",
   "execution_count": 1,
   "metadata": {},
   "outputs": [],
   "source": [
    "import Pkg; Pkg.activate(\"..\")"
   ]
  },
  {
   "cell_type": "code",
   "execution_count": null,
   "metadata": {},
   "outputs": [],
   "source": [
    "using AdventOfCode"
   ]
  },
  {
   "cell_type": "code",
   "execution_count": null,
   "metadata": {},
   "outputs": [],
   "source": [
    "year = 2015\n",
    "day = 6"
   ]
  },
  {
   "cell_type": "code",
   "execution_count": null,
   "metadata": {},
   "outputs": [],
   "source": [
    "input = get_input(year, day)"
   ]
  },
  {
   "cell_type": "code",
   "execution_count": null,
   "metadata": {},
   "outputs": [],
   "source": [
    "parsed_input = parse_input(input)"
   ]
  },
  {
   "cell_type": "code",
   "execution_count": null,
   "metadata": {},
   "outputs": [],
   "source": [
    "sample = \"\"\"turn on 0,0 through 999,999\n",
    "toggle 0,0 through 999,0\n",
    "turn off 499,499 through 500,500\"\"\""
   ]
  },
  {
   "cell_type": "code",
   "execution_count": null,
   "metadata": {},
   "outputs": [],
   "source": [
    "parsed_sample = parse_input(sample)"
   ]
  },
  {
   "cell_type": "code",
   "execution_count": null,
   "metadata": {},
   "outputs": [],
   "source": [
    "function part_one(input)\n",
    "    board = zeros(Bool, 1000, 1000)\n",
    "\n",
    "    for line in input\n",
    "        u, l, d, r = map(x -> parse(Int, x) + 1, split(line, r\"[a-z\\s,]+\")[2:5])\n",
    "        if startswith(line, \"turn on\")\n",
    "            board[u:d, l:r] .= true\n",
    "        elseif startswith(line, \"turn off\")\n",
    "            board[u:d, l:r] .= false\n",
    "        elseif startswith(line, \"toggle\")\n",
    "            board[u:d, l:r] .= .!board[u:d, l:r]\n",
    "        end\n",
    "    end\n",
    "\n",
    "    return sum(board)\n",
    "end"
   ]
  },
  {
   "cell_type": "code",
   "execution_count": null,
   "metadata": {},
   "outputs": [],
   "source": [
    "part_one(parsed_sample)"
   ]
  },
  {
   "cell_type": "code",
   "execution_count": null,
   "metadata": {},
   "outputs": [],
   "source": [
    "part_one_ans = part_one(parsed_input)"
   ]
  },
  {
   "cell_type": "code",
   "execution_count": null,
   "metadata": {},
   "outputs": [],
   "source": [
    "submit_answer(year, day, part_one_ans)"
   ]
  },
  {
   "cell_type": "code",
   "execution_count": null,
   "metadata": {},
   "outputs": [],
   "source": [
    "function part_two(input)\n",
    "    board = zeros(Int, 1000, 1000)\n",
    "\n",
    "    for line in input\n",
    "        u, l, d, r = map(x -> parse(Int, x) + 1, split(line, r\"[a-z\\s,]+\")[2:5])\n",
    "        if startswith(line, \"turn on\")\n",
    "            board[u:d, l:r] .+= 1\n",
    "        elseif startswith(line, \"turn off\")\n",
    "            board[u:d, l:r] .= max.(board[u:d, l:r] .- 1, 0)\n",
    "        elseif startswith(line, \"toggle\")\n",
    "            board[u:d, l:r] .+= 2\n",
    "        end\n",
    "    end\n",
    "\n",
    "    return sum(board)\n",
    "end"
   ]
  },
  {
   "cell_type": "code",
   "execution_count": null,
   "metadata": {},
   "outputs": [],
   "source": [
    "part_two(parsed_sample)"
   ]
  },
  {
   "cell_type": "code",
   "execution_count": null,
   "metadata": {},
   "outputs": [],
   "source": [
    "part_two_ans = part_two(parsed_input)"
   ]
  },
  {
   "cell_type": "code",
   "execution_count": null,
   "metadata": {},
   "outputs": [],
   "source": [
    "submit_answer(year, day, part_two_ans, 2)"
   ]
  }
 ],
 "metadata": {
  "kernelspec": {
   "display_name": "Julia 1.8.0",
   "language": "julia",
   "name": "julia-1.8"
  },
  "language_info": {
   "file_extension": ".jl",
   "mimetype": "application/julia",
   "name": "julia",
   "version": "1.8.3"
  },
  "orig_nbformat": 4,
  "vscode": {
   "interpreter": {
    "hash": "2decbbcdbe1b404b08c0c2ae8935a58886fd60ea7dad56cfc87e2a14f377e9ba"
   }
  }
 },
 "nbformat": 4,
 "nbformat_minor": 2
}
