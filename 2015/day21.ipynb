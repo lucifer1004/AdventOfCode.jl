{
 "cells": [
  {
   "cell_type": "code",
   "execution_count": 1,
   "metadata": {},
   "outputs": [
    {
     "name": "stderr",
     "output_type": "stream",
     "text": [
      "\u001b[32m\u001b[1m  Activating\u001b[22m\u001b[39m project at `~/com.github/lucifer1004/AdventOfCode.jl`\n"
     ]
    }
   ],
   "source": [
    "import Pkg; Pkg.activate(\"..\")"
   ]
  },
  {
   "cell_type": "code",
   "execution_count": 2,
   "metadata": {},
   "outputs": [],
   "source": [
    "using AdventOfCode"
   ]
  },
  {
   "cell_type": "code",
   "execution_count": 3,
   "metadata": {},
   "outputs": [
    {
     "data": {
      "text/plain": [
       "21"
      ]
     },
     "execution_count": 3,
     "metadata": {},
     "output_type": "execute_result"
    }
   ],
   "source": [
    "year = 2015\n",
    "day = 21"
   ]
  },
  {
   "cell_type": "code",
   "execution_count": 4,
   "metadata": {},
   "outputs": [
    {
     "data": {
      "text/plain": [
       "\"Hit Points: 104\\nDamage: 8\\nArmor: 1\""
      ]
     },
     "execution_count": 4,
     "metadata": {},
     "output_type": "execute_result"
    }
   ],
   "source": [
    "input = get_input(year, day)"
   ]
  },
  {
   "cell_type": "code",
   "execution_count": 5,
   "metadata": {},
   "outputs": [
    {
     "data": {
      "text/plain": [
       "3-element Vector{SubString{String}}:\n",
       " \"Hit Points: 104\"\n",
       " \"Damage: 8\"\n",
       " \"Armor: 1\""
      ]
     },
     "execution_count": 5,
     "metadata": {},
     "output_type": "execute_result"
    }
   ],
   "source": [
    "parsed_input = parse_input(input)"
   ]
  },
  {
   "cell_type": "code",
   "execution_count": 6,
   "metadata": {},
   "outputs": [],
   "source": [
    "struct Character\n",
    "    hp::Int\n",
    "    damage::Int\n",
    "    armor::Int\n",
    "end"
   ]
  },
  {
   "cell_type": "code",
   "execution_count": 7,
   "metadata": {},
   "outputs": [
    {
     "data": {
      "text/plain": [
       "Character(104, 8, 1)"
      ]
     },
     "execution_count": 7,
     "metadata": {},
     "output_type": "execute_result"
    }
   ],
   "source": [
    "boss = Character(parse.(Int, [split(x, \": \")[2] for x in parsed_input])...)"
   ]
  },
  {
   "cell_type": "code",
   "execution_count": 8,
   "metadata": {},
   "outputs": [],
   "source": [
    "struct Item\n",
    "    cost::Int\n",
    "    damage::Int\n",
    "    armor::Int\n",
    "end"
   ]
  },
  {
   "cell_type": "code",
   "execution_count": 9,
   "metadata": {},
   "outputs": [
    {
     "data": {
      "text/plain": [
       "Item"
      ]
     },
     "execution_count": 9,
     "metadata": {},
     "output_type": "execute_result"
    }
   ],
   "source": [
    "function Item(s)\n",
    "    return Item(parse.(Int, match(r\"\\w+(\\s++\\d)?\\s+(\\d+)\\s+(\\d+)\\s+(\\d+)\", s).captures[end-2:end])...)\n",
    "end"
   ]
  },
  {
   "cell_type": "code",
   "execution_count": 10,
   "metadata": {},
   "outputs": [
    {
     "data": {
      "text/plain": [
       "\"Dagger        8     4       0\\nShortsword   10     5       0\\nWarhammer    25     6       0\\nLongsword    40     7       0\\nGreataxe     74     8       0\""
      ]
     },
     "execution_count": 10,
     "metadata": {},
     "output_type": "execute_result"
    }
   ],
   "source": [
    "weapon_desc = \"\"\"Dagger        8     4       0\n",
    "Shortsword   10     5       0\n",
    "Warhammer    25     6       0\n",
    "Longsword    40     7       0\n",
    "Greataxe     74     8       0\"\"\""
   ]
  },
  {
   "cell_type": "code",
   "execution_count": 11,
   "metadata": {},
   "outputs": [
    {
     "data": {
      "text/plain": [
       "5-element Vector{Item}:\n",
       " Item(8, 4, 0)\n",
       " Item(10, 5, 0)\n",
       " Item(25, 6, 0)\n",
       " Item(40, 7, 0)\n",
       " Item(74, 8, 0)"
      ]
     },
     "execution_count": 11,
     "metadata": {},
     "output_type": "execute_result"
    }
   ],
   "source": [
    "weapons = Item.(split(weapon_desc, \"\\n\"))"
   ]
  },
  {
   "cell_type": "code",
   "execution_count": 12,
   "metadata": {},
   "outputs": [
    {
     "data": {
      "text/plain": [
       "\"Leather      13     0       1\\nChainmail    31     0       2\\nSplintmail   53     0       3\\nBandedmail   75     0       4\\nPlatemail   102     0       5\""
      ]
     },
     "execution_count": 12,
     "metadata": {},
     "output_type": "execute_result"
    }
   ],
   "source": [
    "armor_desc = \"\"\"Leather      13     0       1\n",
    "Chainmail    31     0       2\n",
    "Splintmail   53     0       3\n",
    "Bandedmail   75     0       4\n",
    "Platemail   102     0       5\"\"\""
   ]
  },
  {
   "cell_type": "code",
   "execution_count": 13,
   "metadata": {},
   "outputs": [
    {
     "data": {
      "text/plain": [
       "5-element Vector{Item}:\n",
       " Item(13, 0, 1)\n",
       " Item(31, 0, 2)\n",
       " Item(53, 0, 3)\n",
       " Item(75, 0, 4)\n",
       " Item(102, 0, 5)"
      ]
     },
     "execution_count": 13,
     "metadata": {},
     "output_type": "execute_result"
    }
   ],
   "source": [
    "armors = Item.(split(armor_desc, \"\\n\"))"
   ]
  },
  {
   "cell_type": "code",
   "execution_count": 14,
   "metadata": {},
   "outputs": [
    {
     "data": {
      "text/plain": [
       "\"Damage +1    25     1       0\\nDamage +2    50     2       0\\nDamage +3   100     3       0\\nDefense +1   20     0       1\\nDefense +2   40     0       2\\nDefense +3   80     0       3\""
      ]
     },
     "execution_count": 14,
     "metadata": {},
     "output_type": "execute_result"
    }
   ],
   "source": [
    "ring_desc = \"\"\"Damage +1    25     1       0\n",
    "Damage +2    50     2       0\n",
    "Damage +3   100     3       0\n",
    "Defense +1   20     0       1\n",
    "Defense +2   40     0       2\n",
    "Defense +3   80     0       3\"\"\""
   ]
  },
  {
   "cell_type": "code",
   "execution_count": 15,
   "metadata": {},
   "outputs": [
    {
     "data": {
      "text/plain": [
       "6-element Vector{Item}:\n",
       " Item(25, 1, 0)\n",
       " Item(50, 2, 0)\n",
       " Item(100, 3, 0)\n",
       " Item(20, 0, 1)\n",
       " Item(40, 0, 2)\n",
       " Item(80, 0, 3)"
      ]
     },
     "execution_count": 15,
     "metadata": {},
     "output_type": "execute_result"
    }
   ],
   "source": [
    "rings = Item.(split(ring_desc, \"\\n\"))"
   ]
  },
  {
   "cell_type": "code",
   "execution_count": 16,
   "metadata": {},
   "outputs": [
    {
     "data": {
      "text/plain": [
       "1-element Vector{Vector{Int64}}:\n",
       " []"
      ]
     },
     "execution_count": 16,
     "metadata": {},
     "output_type": "execute_result"
    }
   ],
   "source": [
    "collect(combinations(1:6, 0))"
   ]
  },
  {
   "cell_type": "code",
   "execution_count": 17,
   "metadata": {},
   "outputs": [
    {
     "data": {
      "text/plain": [
       "win (generic function with 1 method)"
      ]
     },
     "execution_count": 17,
     "metadata": {},
     "output_type": "execute_result"
    }
   ],
   "source": [
    "function win(a::Character, b::Character)\n",
    "    ah = a.hp\n",
    "    bh = b.hp\n",
    "    while ah > 0 && bh > 0\n",
    "        bh -= max(1, a.damage - b.armor)\n",
    "        if bh <= 0\n",
    "            return true\n",
    "        end\n",
    "        ah -= max(1, b.damage - a.armor)\n",
    "        if ah <= 0\n",
    "            return false\n",
    "        end\n",
    "    end\n",
    "end"
   ]
  },
  {
   "cell_type": "code",
   "execution_count": 18,
   "metadata": {},
   "outputs": [
    {
     "data": {
      "text/plain": [
       "part_one (generic function with 1 method)"
      ]
     },
     "execution_count": 18,
     "metadata": {},
     "output_type": "execute_result"
    }
   ],
   "source": [
    "function part_one()\n",
    "    ans = 100000000000\n",
    "    for wi in eachindex(weapons)\n",
    "        for ais in vcat([collect(combinations(eachindex(armors), i)) for i in 0:1]...)\n",
    "            for ris in vcat([collect(combinations(eachindex(rings), i)) for i in 0:2]...)\n",
    "                cost = weapons[wi].cost + sum(armors[ai].cost for ai in ais; init = 0) + sum(rings[ri].cost for ri in ris; init = 0)\n",
    "                damage = weapons[wi].damage + sum(armors[ai].damage for ai in ais; init = 0) + sum(rings[ri].damage for ri in ris; init = 0)\n",
    "                armor = weapons[wi].armor + sum(armors[ai].armor for ai in ais; init = 0) + sum(rings[ri].armor for ri in ris; init = 0)\n",
    "                user = Character(100, damage, armor)\n",
    "                if win(user, boss)\n",
    "                    ans = min(ans, cost)\n",
    "                end\n",
    "            end\n",
    "        end\n",
    "    end\n",
    "    return ans\n",
    "end"
   ]
  },
  {
   "cell_type": "code",
   "execution_count": 19,
   "metadata": {},
   "outputs": [
    {
     "data": {
      "text/plain": [
       "78"
      ]
     },
     "execution_count": 19,
     "metadata": {},
     "output_type": "execute_result"
    }
   ],
   "source": [
    "part_one_ans = part_one()"
   ]
  },
  {
   "cell_type": "code",
   "execution_count": 20,
   "metadata": {},
   "outputs": [
    {
     "data": {
      "text/plain": [
       "\"<!DOCTYPE html>\\n<html lang=\\\"en-us\\\">\\n<head>\\n<meta charset=\\\"utf-8\\\"/>\\n<title>Day 21 - Advent of Code 2015</title>\\n<!--[if lt IE 9]><script src=\\\"/static/html5.js\\\"></script><![endif]-->\\n<link href='//fonts.googleapis.com/css?family=Source+Code+Pro:300&subset=latin,latin-ext'\" ⋯ 2858 bytes ⋯ \"Name(o)[0];a.async=1;a.src=g;m.parentNode.insertBefore(a,m)\\n})(window,document,'script','//www.google-analytics.com/analytics.js','ga');\\nga('create', 'UA-69522494-1', 'auto');\\nga('set', 'anonymizeIp', true);\\nga('send', 'pageview');\\n</script>\\n<!-- /ga -->\\n</body>\\n</html>\""
      ]
     },
     "execution_count": 20,
     "metadata": {},
     "output_type": "execute_result"
    }
   ],
   "source": [
    "submit_answer(year, day, part_one_ans)"
   ]
  },
  {
   "cell_type": "code",
   "execution_count": 21,
   "metadata": {},
   "outputs": [
    {
     "data": {
      "text/plain": [
       "part_two (generic function with 1 method)"
      ]
     },
     "execution_count": 21,
     "metadata": {},
     "output_type": "execute_result"
    }
   ],
   "source": [
    "function part_two()\n",
    "    ans = 0\n",
    "    for wi in eachindex(weapons)\n",
    "        for ais in vcat([collect(combinations(eachindex(armors), i)) for i in 0:1]...)\n",
    "            for ris in vcat([collect(combinations(eachindex(rings), i)) for i in 0:2]...)\n",
    "                cost = weapons[wi].cost + sum(armors[ai].cost for ai in ais; init = 0) + sum(rings[ri].cost for ri in ris; init = 0)\n",
    "                damage = weapons[wi].damage + sum(armors[ai].damage for ai in ais; init = 0) + sum(rings[ri].damage for ri in ris; init = 0)\n",
    "                armor = weapons[wi].armor + sum(armors[ai].armor for ai in ais; init = 0) + sum(rings[ri].armor for ri in ris; init = 0)\n",
    "                user = Character(100, damage, armor)\n",
    "                if !win(user, boss)\n",
    "                    ans = max(ans, cost)\n",
    "                end\n",
    "            end\n",
    "        end\n",
    "    end\n",
    "    return ans\n",
    "end"
   ]
  },
  {
   "cell_type": "code",
   "execution_count": 22,
   "metadata": {},
   "outputs": [
    {
     "data": {
      "text/plain": [
       "148"
      ]
     },
     "execution_count": 22,
     "metadata": {},
     "output_type": "execute_result"
    }
   ],
   "source": [
    "part_two_ans = part_two()"
   ]
  },
  {
   "cell_type": "code",
   "execution_count": 23,
   "metadata": {},
   "outputs": [
    {
     "data": {
      "text/plain": [
       "\"<!DOCTYPE html>\\n<html lang=\\\"en-us\\\">\\n<head>\\n<meta charset=\\\"utf-8\\\"/>\\n<title>Day 21 - Advent of Code 2015</title>\\n<!--[if lt IE 9]><script src=\\\"/static/html5.js\\\"></script><![endif]-->\\n<link href='//fonts.googleapis.com/css?family=Source+Code+Pro:300&subset=latin,latin-ext'\" ⋯ 2858 bytes ⋯ \"Name(o)[0];a.async=1;a.src=g;m.parentNode.insertBefore(a,m)\\n})(window,document,'script','//www.google-analytics.com/analytics.js','ga');\\nga('create', 'UA-69522494-1', 'auto');\\nga('set', 'anonymizeIp', true);\\nga('send', 'pageview');\\n</script>\\n<!-- /ga -->\\n</body>\\n</html>\""
      ]
     },
     "execution_count": 23,
     "metadata": {},
     "output_type": "execute_result"
    }
   ],
   "source": [
    "submit_answer(year, day, part_two_ans, 2)"
   ]
  }
 ],
 "metadata": {
  "kernelspec": {
   "display_name": "Julia 1.8.0",
   "language": "julia",
   "name": "julia-1.8"
  },
  "language_info": {
   "file_extension": ".jl",
   "mimetype": "application/julia",
   "name": "julia",
   "version": "1.8.3"
  },
  "orig_nbformat": 4,
  "vscode": {
   "interpreter": {
    "hash": "2decbbcdbe1b404b08c0c2ae8935a58886fd60ea7dad56cfc87e2a14f377e9ba"
   }
  }
 },
 "nbformat": 4,
 "nbformat_minor": 2
}
