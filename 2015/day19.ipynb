{
 "cells": [
  {
   "cell_type": "code",
   "execution_count": 1,
   "metadata": {},
   "outputs": [
    {
     "name": "stderr",
     "output_type": "stream",
     "text": [
      "\u001b[32m\u001b[1m  Activating\u001b[22m\u001b[39m project at `~/com.github/lucifer1004/AdventOfCode.jl`\n"
     ]
    }
   ],
   "source": [
    "import Pkg; Pkg.activate(\"..\")"
   ]
  },
  {
   "cell_type": "code",
   "execution_count": 2,
   "metadata": {},
   "outputs": [],
   "source": [
    "using AdventOfCode"
   ]
  },
  {
   "cell_type": "code",
   "execution_count": 3,
   "metadata": {},
   "outputs": [
    {
     "data": {
      "text/plain": [
       "19"
      ]
     },
     "execution_count": 3,
     "metadata": {},
     "output_type": "execute_result"
    }
   ],
   "source": [
    "year = 2015\n",
    "day = 19"
   ]
  },
  {
   "cell_type": "code",
   "execution_count": 4,
   "metadata": {},
   "outputs": [
    {
     "data": {
      "text/plain": [
       "\"Al => ThF\\nAl => ThRnFAr\\nB => BCa\\nB => TiB\\nB => TiRnFAr\\nCa => CaCa\\nCa => PB\\nCa => PRnFAr\\nCa => SiRnFYFAr\\nCa => SiRnMgAr\\nCa => SiTh\\nF => CaF\\nF => PMg\\nF => SiAl\\nH => CRnAlAr\\nH => CRnFYFYFAr\\nH => CRnFYMgAr\\nH => CRnMgYFAr\\nH => HCa\\nH => NRnFYFAr\\nH => NRnMgAr\\nH => NTh\\nH => OB\\nH\" ⋯ 426 bytes ⋯ \"PBFYCaCaFArCaCaCaCaSiThCaSiRnPRnFArPBSiThPRnFArSiRnMgArCaFYFArCaSiRnSiAlArTiTiTiTiTiTiTiRnPMgArPTiTiTiBSiRnSiAlArTiTiRnPMgArCaFYBPBPTiRnSiRnMgArSiThCaFArCaSiThFArPRnFArCaSiRnTiBSiThSiRnSiAlYCaFArPRnFArSiThCaFArCaCaSiThCaCaCaSiRnPRnCaFArFYPMgArCaPBCaPBSiRnFYPBCaFArCaSiAl\""
      ]
     },
     "execution_count": 4,
     "metadata": {},
     "output_type": "execute_result"
    }
   ],
   "source": [
    "input = get_input(year, day)"
   ]
  },
  {
   "cell_type": "code",
   "execution_count": 5,
   "metadata": {},
   "outputs": [
    {
     "data": {
      "text/plain": [
       "45-element Vector{SubString{String}}:\n",
       " \"Al => ThF\"\n",
       " \"Al => ThRnFAr\"\n",
       " \"B => BCa\"\n",
       " \"B => TiB\"\n",
       " \"B => TiRnFAr\"\n",
       " \"Ca => CaCa\"\n",
       " \"Ca => PB\"\n",
       " \"Ca => PRnFAr\"\n",
       " \"Ca => SiRnFYFAr\"\n",
       " \"Ca => SiRnMgAr\"\n",
       " \"Ca => SiTh\"\n",
       " \"F => CaF\"\n",
       " \"F => PMg\"\n",
       " ⋮\n",
       " \"P => CaP\"\n",
       " \"P => PTi\"\n",
       " \"P => SiRnFAr\"\n",
       " \"Si => CaSi\"\n",
       " \"Th => ThCa\"\n",
       " \"Ti => BP\"\n",
       " \"Ti => TiTi\"\n",
       " \"e => HF\"\n",
       " \"e => NAl\"\n",
       " \"e => OMg\"\n",
       " \"\"\n",
       " \"CRnSiRnCaPTiMgYCaPTiRnFArSiThFA\" ⋯ 427 bytes ⋯ \"gArCaPBCaPBSiRnFYPBCaFArCaSiAl\""
      ]
     },
     "execution_count": 5,
     "metadata": {},
     "output_type": "execute_result"
    }
   ],
   "source": [
    "parsed_input = parse_input(input)"
   ]
  },
  {
   "cell_type": "code",
   "execution_count": 6,
   "metadata": {},
   "outputs": [
    {
     "data": {
      "text/plain": [
       "\"e => H\\ne => O\\nH => HO\\nH => OH\\nO => HH\\n\\nHOH\""
      ]
     },
     "execution_count": 6,
     "metadata": {},
     "output_type": "execute_result"
    }
   ],
   "source": [
    "sample = \"\"\"e => H\n",
    "e => O\n",
    "H => HO\n",
    "H => OH\n",
    "O => HH\n",
    "\n",
    "HOH\"\"\""
   ]
  },
  {
   "cell_type": "code",
   "execution_count": 7,
   "metadata": {},
   "outputs": [
    {
     "data": {
      "text/plain": [
       "7-element Vector{SubString{String}}:\n",
       " \"e => H\"\n",
       " \"e => O\"\n",
       " \"H => HO\"\n",
       " \"H => OH\"\n",
       " \"O => HH\"\n",
       " \"\"\n",
       " \"HOH\""
      ]
     },
     "execution_count": 7,
     "metadata": {},
     "output_type": "execute_result"
    }
   ],
   "source": [
    "parsed_sample = parse_input(sample)"
   ]
  },
  {
   "cell_type": "code",
   "execution_count": 8,
   "metadata": {},
   "outputs": [
    {
     "data": {
      "text/plain": [
       "preprocess (generic function with 1 method)"
      ]
     },
     "execution_count": 8,
     "metadata": {},
     "output_type": "execute_result"
    }
   ],
   "source": [
    "function preprocess(input)\n",
    "    lastline = input[end]\n",
    "    source = [lastline[idx] for idx in findall(r\"[A-Z][a-z]?\", lastline)]\n",
    "    ruledict = DefaultDict{String, Vector{Vector{String}}}(() -> Vector{String}[])\n",
    "    foreach(input[1:end-2]) do line\n",
    "        from, to = split(line, \" => \")\n",
    "        to = [to[idx] for idx in findall(r\"[A-Z][a-z]?\", to)]\n",
    "        push!(ruledict[from], to)\n",
    "    end\n",
    "\n",
    "    elements = Set{String}()\n",
    "    for el in source\n",
    "        push!(elements, el)\n",
    "    end\n",
    "    for (from, tos) in ruledict\n",
    "        push!(elements, from)\n",
    "        for to in tos\n",
    "            for el in to\n",
    "                push!(elements, el)\n",
    "            end\n",
    "        end\n",
    "    end\n",
    "\n",
    "    mapping = Dict(el => 'a' + (i - 1) for (i, el) in enumerate(elements))\n",
    "    source_mapped = join(mapping[el] for el in source)\n",
    "    ruledict_mapped = Dict{Char, Vector{String}}(\n",
    "        mapping[from] => [join(mapping[el] for el in to) for to in tos] for (from, tos) in ruledict\n",
    "    )\n",
    "\n",
    "    return ruledict_mapped, source_mapped, mapping\n",
    "end"
   ]
  },
  {
   "cell_type": "code",
   "execution_count": 9,
   "metadata": {},
   "outputs": [
    {
     "data": {
      "text/plain": [
       "part_one (generic function with 1 method)"
      ]
     },
     "execution_count": 9,
     "metadata": {},
     "output_type": "execute_result"
    }
   ],
   "source": [
    "function part_one(input)\n",
    "    ruledict, source, _ = preprocess(input)\n",
    "    results = Set{String}()\n",
    "    for (idx, atom) in enumerate(collect(source))\n",
    "        for to in get(ruledict, atom, [])\n",
    "            new_source = source[1:idx-1] * to * source[idx+1:end]\n",
    "            push!(results, new_source)\n",
    "        end\n",
    "    end\n",
    "\n",
    "    return length(results)\n",
    "end"
   ]
  },
  {
   "cell_type": "code",
   "execution_count": 10,
   "metadata": {},
   "outputs": [
    {
     "data": {
      "text/plain": [
       "4"
      ]
     },
     "execution_count": 10,
     "metadata": {},
     "output_type": "execute_result"
    }
   ],
   "source": [
    "part_one(parsed_sample)"
   ]
  },
  {
   "cell_type": "code",
   "execution_count": 11,
   "metadata": {},
   "outputs": [
    {
     "data": {
      "text/plain": [
       "518"
      ]
     },
     "execution_count": 11,
     "metadata": {},
     "output_type": "execute_result"
    }
   ],
   "source": [
    "part_one_ans = part_one(parsed_input)"
   ]
  },
  {
   "cell_type": "code",
   "execution_count": 12,
   "metadata": {},
   "outputs": [
    {
     "data": {
      "text/plain": [
       "\"<!DOCTYPE html>\\n<html lang=\\\"en-us\\\">\\n<head>\\n<meta charset=\\\"utf-8\\\"/>\\n<title>Day 19 - Advent of Code 2015</title>\\n<!--[if lt IE 9]><script src=\\\"/static/html5.js\\\"></script><![endif]-->\\n<link href='//fonts.googleapis.com/css?family=Source+Code+Pro:300&subset=latin,latin-ext'\" ⋯ 2838 bytes ⋯ \"Name(o)[0];a.async=1;a.src=g;m.parentNode.insertBefore(a,m)\\n})(window,document,'script','//www.google-analytics.com/analytics.js','ga');\\nga('create', 'UA-69522494-1', 'auto');\\nga('set', 'anonymizeIp', true);\\nga('send', 'pageview');\\n</script>\\n<!-- /ga -->\\n</body>\\n</html>\""
      ]
     },
     "execution_count": 12,
     "metadata": {},
     "output_type": "execute_result"
    }
   ],
   "source": [
    "submit_answer(year, day, part_one_ans)"
   ]
  },
  {
   "cell_type": "code",
   "execution_count": 13,
   "metadata": {},
   "outputs": [
    {
     "data": {
      "text/plain": [
       "part_two"
      ]
     },
     "execution_count": 13,
     "metadata": {},
     "output_type": "execute_result"
    }
   ],
   "source": [
    "\"\"\"\n",
    "The solution to the second part is based on the following observation:\n",
    "\n",
    "All rules can be categorized into four types:\n",
    "\n",
    "- α⟹βγ\n",
    "- α⟹βRnγAr\n",
    "- α⟹βRnγYδAr\n",
    "- α⟹βRnγYδYεAr\n",
    "\n",
    "Importantly, α, β, γ, δ and ε cannot be Rn, Ar or Y. So the second part reduces to a simple counting:\n",
    "\n",
    "- Each pair of Rn and Ar implies that we can save 2 operations.\n",
    "- Each Y implies we can save 2 operations.\n",
    "- We start from e.\n",
    "- So the number of operations equals to: length(source) - 2 * number of Rn-Ar pairs - 2 * number of Ys - 1 (e)\n",
    "\"\"\"\n",
    "function part_two(input)\n",
    "    _, source, mapping = preprocess(input)\n",
    "    lch = mapping[\"Rn\"]\n",
    "    rch = mapping[\"Ar\"]\n",
    "    mch = mapping[\"Y\"]\n",
    "    L = count((==)(lch), source)\n",
    "    R = count((==)(rch), source)\n",
    "    M = count((==)(mch), source)\n",
    "    return length(source) - L - R - M * 2 - 1\n",
    "end"
   ]
  },
  {
   "cell_type": "code",
   "execution_count": 14,
   "metadata": {},
   "outputs": [
    {
     "data": {
      "text/plain": [
       "200"
      ]
     },
     "execution_count": 14,
     "metadata": {},
     "output_type": "execute_result"
    }
   ],
   "source": [
    "part_two_ans = part_two(parsed_input)"
   ]
  },
  {
   "cell_type": "code",
   "execution_count": 15,
   "metadata": {},
   "outputs": [
    {
     "data": {
      "text/plain": [
       "\"<!DOCTYPE html>\\n<html lang=\\\"en-us\\\">\\n<head>\\n<meta charset=\\\"utf-8\\\"/>\\n<title>Day 19 - Advent of Code 2015</title>\\n<!--[if lt IE 9]><script src=\\\"/static/html5.js\\\"></script><![endif]-->\\n<link href='//fonts.googleapis.com/css?family=Source+Code+Pro:300&subset=latin,latin-ext'\" ⋯ 2843 bytes ⋯ \"Name(o)[0];a.async=1;a.src=g;m.parentNode.insertBefore(a,m)\\n})(window,document,'script','//www.google-analytics.com/analytics.js','ga');\\nga('create', 'UA-69522494-1', 'auto');\\nga('set', 'anonymizeIp', true);\\nga('send', 'pageview');\\n</script>\\n<!-- /ga -->\\n</body>\\n</html>\""
      ]
     },
     "execution_count": 15,
     "metadata": {},
     "output_type": "execute_result"
    }
   ],
   "source": [
    "submit_answer(year, day, part_two_ans, 2)"
   ]
  }
 ],
 "metadata": {
  "kernelspec": {
   "display_name": "Julia 1.8.0",
   "language": "julia",
   "name": "julia-1.8"
  },
  "language_info": {
   "file_extension": ".jl",
   "mimetype": "application/julia",
   "name": "julia",
   "version": "1.8.3"
  },
  "orig_nbformat": 4,
  "vscode": {
   "interpreter": {
    "hash": "2decbbcdbe1b404b08c0c2ae8935a58886fd60ea7dad56cfc87e2a14f377e9ba"
   }
  }
 },
 "nbformat": 4,
 "nbformat_minor": 2
}
