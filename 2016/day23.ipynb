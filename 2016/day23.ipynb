{
 "cells": [
  {
   "cell_type": "code",
   "execution_count": 1,
   "metadata": {},
   "outputs": [
    {
     "name": "stderr",
     "output_type": "stream",
     "text": [
      "\u001b[32m\u001b[1m  Activating\u001b[22m\u001b[39m project at `~/com.github/lucifer1004/AdventOfCode.jl`\n"
     ]
    }
   ],
   "source": [
    "import Pkg; Pkg.activate(\"..\")"
   ]
  },
  {
   "cell_type": "code",
   "execution_count": 2,
   "metadata": {},
   "outputs": [],
   "source": [
    "using AdventOfCode"
   ]
  },
  {
   "cell_type": "code",
   "execution_count": 3,
   "metadata": {},
   "outputs": [
    {
     "data": {
      "text/plain": [
       "23"
      ]
     },
     "execution_count": 3,
     "metadata": {},
     "output_type": "execute_result"
    }
   ],
   "source": [
    "year = 2016\n",
    "day = 23"
   ]
  },
  {
   "cell_type": "code",
   "execution_count": 4,
   "metadata": {},
   "outputs": [
    {
     "data": {
      "text/plain": [
       "\"cpy a b\\ndec b\\ncpy a d\\ncpy 0 a\\ncpy b c\\ninc a\\ndec c\\njnz c -2\\ndec d\\njnz d -5\\ndec b\\ncpy b c\\ncpy c d\\ndec d\\ninc c\\njnz d -2\\ntgl c\\ncpy -16 c\\njnz 1 c\\ncpy 94 c\\njnz 82 d\\ninc a\\ninc d\\njnz d -2\\ninc c\\njnz c -5\""
      ]
     },
     "execution_count": 4,
     "metadata": {},
     "output_type": "execute_result"
    }
   ],
   "source": [
    "input = get_input(year, day)"
   ]
  },
  {
   "cell_type": "code",
   "execution_count": 5,
   "metadata": {},
   "outputs": [
    {
     "data": {
      "text/plain": [
       "26-element Vector{SubString{String}}:\n",
       " \"cpy a b\"\n",
       " \"dec b\"\n",
       " \"cpy a d\"\n",
       " \"cpy 0 a\"\n",
       " \"cpy b c\"\n",
       " \"inc a\"\n",
       " \"dec c\"\n",
       " \"jnz c -2\"\n",
       " \"dec d\"\n",
       " \"jnz d -5\"\n",
       " \"dec b\"\n",
       " \"cpy b c\"\n",
       " \"cpy c d\"\n",
       " \"dec d\"\n",
       " \"inc c\"\n",
       " \"jnz d -2\"\n",
       " \"tgl c\"\n",
       " \"cpy -16 c\"\n",
       " \"jnz 1 c\"\n",
       " \"cpy 94 c\"\n",
       " \"jnz 82 d\"\n",
       " \"inc a\"\n",
       " \"inc d\"\n",
       " \"jnz d -2\"\n",
       " \"inc c\"\n",
       " \"jnz c -5\""
      ]
     },
     "execution_count": 5,
     "metadata": {},
     "output_type": "execute_result"
    }
   ],
   "source": [
    "parsed_input = parse_input(input)"
   ]
  },
  {
   "cell_type": "code",
   "execution_count": 6,
   "metadata": {},
   "outputs": [
    {
     "data": {
      "text/plain": [
       "\"cpy 2 a\\ntgl a\\ntgl a\\ntgl a\\ncpy 1 a\\ndec a\\ndec a\""
      ]
     },
     "execution_count": 6,
     "metadata": {},
     "output_type": "execute_result"
    }
   ],
   "source": [
    "sample = \"\"\"cpy 2 a\n",
    "tgl a\n",
    "tgl a\n",
    "tgl a\n",
    "cpy 1 a\n",
    "dec a\n",
    "dec a\"\"\""
   ]
  },
  {
   "cell_type": "code",
   "execution_count": 7,
   "metadata": {},
   "outputs": [
    {
     "data": {
      "text/plain": [
       "7-element Vector{SubString{String}}:\n",
       " \"cpy 2 a\"\n",
       " \"tgl a\"\n",
       " \"tgl a\"\n",
       " \"tgl a\"\n",
       " \"cpy 1 a\"\n",
       " \"dec a\"\n",
       " \"dec a\""
      ]
     },
     "execution_count": 7,
     "metadata": {},
     "output_type": "execute_result"
    }
   ],
   "source": [
    "parsed_sample = parse_input(sample)"
   ]
  },
  {
   "cell_type": "code",
   "execution_count": 8,
   "metadata": {},
   "outputs": [],
   "source": [
    "mutable struct Instruction\n",
    "    typ::Int\n",
    "    arg1::Union{String, Int}\n",
    "    arg2::Union{String, Int, Nothing}\n",
    "end"
   ]
  },
  {
   "cell_type": "code",
   "execution_count": 9,
   "metadata": {},
   "outputs": [
    {
     "data": {
      "text/plain": [
       "preprocess (generic function with 1 method)"
      ]
     },
     "execution_count": 9,
     "metadata": {},
     "output_type": "execute_result"
    }
   ],
   "source": [
    "function preprocess(input)\n",
    "    map(input) do line\n",
    "        if startswith(line, \"cpy\")\n",
    "            num, target = string.(match(r\"cpy (-?\\w+) (\\w+)\", line).captures)\n",
    "            if !('a' <= num[1] <= 'z')\n",
    "                num = parse(Int, num)\n",
    "            end\n",
    "            Instruction(1, num, target)\n",
    "        elseif startswith(line, \"inc\")\n",
    "            target = string.(match(r\"inc (\\w+)\", line).captures)[1]\n",
    "            Instruction(2, target, nothing)\n",
    "        elseif startswith(line, \"dec\")\n",
    "            target = string.(match(r\"dec (\\w+)\", line).captures)[1]\n",
    "            Instruction(3, target, nothing)\n",
    "        elseif startswith(line, \"jnz\")\n",
    "            reference, offset = string.(match(r\"jnz (-?\\w+) (-?\\w+)\", line).captures)\n",
    "            if !('a' <= offset[1] <= 'z')\n",
    "                offset = parse(Int, offset)\n",
    "            end\n",
    "            if !('a' <= reference[1] <= 'z')\n",
    "                reference = parse(Int, reference)\n",
    "            end\n",
    "                \n",
    "            Instruction(4, reference, offset)\n",
    "        elseif startswith(line, \"tgl\")\n",
    "            target = string.(match(r\"tgl (\\w+)\", line).captures)[1]\n",
    "            Instruction(5, target, nothing)\n",
    "        end\n",
    "    end\n",
    "end"
   ]
  },
  {
   "cell_type": "code",
   "execution_count": 10,
   "metadata": {},
   "outputs": [
    {
     "data": {
      "text/plain": [
       "solve (generic function with 2 methods)"
      ]
     },
     "execution_count": 10,
     "metadata": {},
     "output_type": "execute_result"
    }
   ],
   "source": [
    "function solve(input, registers=Dict(\"a\" => 7, \"b\" => 0, \"c\" => 0, \"d\" => 0))\n",
    "    instructions = preprocess(input)\n",
    "    i = 1\n",
    "    while i <= length(input)\n",
    "        ins = instructions[i]\n",
    "        if ins.typ == 1 # \"cpy\"\n",
    "            if isa(ins.arg2, String)\n",
    "                registers[ins.arg2] = isa(ins.arg1, String) ? registers[ins.arg1] : ins.arg1\n",
    "            end\n",
    "        elseif ins.typ == 2 # \"inc\"\n",
    "            registers[ins.arg1] += 1\n",
    "        elseif ins.typ == 3 # \"dec\"\n",
    "            registers[ins.arg1] -= 1\n",
    "        elseif ins.typ == 4 # \"jnz\"\n",
    "            reference = isa(ins.arg1, String) ? registers[ins.arg1] : ins.arg1\n",
    "            offset = isa(ins.arg2, String) ? registers[ins.arg2] : ins.arg2\n",
    "            if reference != 0\n",
    "                i += offset\n",
    "                continue\n",
    "            end\n",
    "        elseif ins.typ == 5 # \"tgl\"\n",
    "            offset = registers[ins.arg1]\n",
    "            if i + offset <= length(input)\n",
    "                j = i + offset\n",
    "                ins1 = instructions[j]\n",
    "                if isnothing(ins1.arg2)\n",
    "                    ins1.typ = ins1.typ == 2 ? 3 : 2\n",
    "                else\n",
    "                    ins1.typ = ins1.typ == 4 ? 1 : 4\n",
    "                end\n",
    "            end\n",
    "        end\n",
    "        i += 1\n",
    "    end\n",
    "\n",
    "    return registers[\"a\"]\n",
    "end"
   ]
  },
  {
   "cell_type": "code",
   "execution_count": 11,
   "metadata": {},
   "outputs": [
    {
     "data": {
      "text/plain": [
       "part_one (generic function with 1 method)"
      ]
     },
     "execution_count": 11,
     "metadata": {},
     "output_type": "execute_result"
    }
   ],
   "source": [
    "part_one(input) = solve(input)"
   ]
  },
  {
   "cell_type": "code",
   "execution_count": 12,
   "metadata": {},
   "outputs": [
    {
     "data": {
      "text/plain": [
       "3"
      ]
     },
     "execution_count": 12,
     "metadata": {},
     "output_type": "execute_result"
    }
   ],
   "source": [
    "part_one(parsed_sample)"
   ]
  },
  {
   "cell_type": "code",
   "execution_count": 13,
   "metadata": {},
   "outputs": [
    {
     "data": {
      "text/plain": [
       "12748"
      ]
     },
     "execution_count": 13,
     "metadata": {},
     "output_type": "execute_result"
    }
   ],
   "source": [
    "part_one_ans = part_one(parsed_input)"
   ]
  },
  {
   "cell_type": "code",
   "execution_count": 14,
   "metadata": {},
   "outputs": [
    {
     "data": {
      "text/plain": [
       "\"<!DOCTYPE html>\\n<html lang=\\\"en-us\\\">\\n<head>\\n<meta charset=\\\"utf-8\\\"/>\\n<title>Day 23 - Advent of Code 2016</title>\\n<!--[if lt IE 9]><script src=\\\"/static/html5.js\\\"></script><![endif]-->\\n<link href='//fonts.googleapis.com/css?family=Source+Code+Pro:300&subset=latin,latin-ext'\" ⋯ 3264 bytes ⋯ \"Name(o)[0];a.async=1;a.src=g;m.parentNode.insertBefore(a,m)\\n})(window,document,'script','//www.google-analytics.com/analytics.js','ga');\\nga('create', 'UA-69522494-1', 'auto');\\nga('set', 'anonymizeIp', true);\\nga('send', 'pageview');\\n</script>\\n<!-- /ga -->\\n</body>\\n</html>\""
      ]
     },
     "execution_count": 14,
     "metadata": {},
     "output_type": "execute_result"
    }
   ],
   "source": [
    "submit_answer(year, day, part_one_ans)"
   ]
  },
  {
   "cell_type": "code",
   "execution_count": 15,
   "metadata": {},
   "outputs": [
    {
     "data": {
      "text/plain": [
       "part_two (generic function with 1 method)"
      ]
     },
     "execution_count": 15,
     "metadata": {},
     "output_type": "execute_result"
    }
   ],
   "source": [
    "part_two(input) = solve(input, Dict(\"a\" => 12, \"b\" => 0, \"c\" => 0, \"d\" => 0))"
   ]
  },
  {
   "cell_type": "code",
   "execution_count": 16,
   "metadata": {},
   "outputs": [
    {
     "data": {
      "text/plain": [
       "3"
      ]
     },
     "execution_count": 16,
     "metadata": {},
     "output_type": "execute_result"
    }
   ],
   "source": [
    "part_two(parsed_sample)"
   ]
  },
  {
   "cell_type": "code",
   "execution_count": 17,
   "metadata": {},
   "outputs": [
    {
     "data": {
      "text/plain": [
       "479009308"
      ]
     },
     "execution_count": 17,
     "metadata": {},
     "output_type": "execute_result"
    }
   ],
   "source": [
    "part_two_ans = part_two(parsed_input)"
   ]
  },
  {
   "cell_type": "code",
   "execution_count": 18,
   "metadata": {},
   "outputs": [
    {
     "data": {
      "text/plain": [
       "\"<!DOCTYPE html>\\n<html lang=\\\"en-us\\\">\\n<head>\\n<meta charset=\\\"utf-8\\\"/>\\n<title>Day 23 - Advent of Code 2016</title>\\n<!--[if lt IE 9]><script src=\\\"/static/html5.js\\\"></script><![endif]-->\\n<link href='//fonts.googleapis.com/css?family=Source+Code+Pro:300&subset=latin,latin-ext'\" ⋯ 3166 bytes ⋯ \"Name(o)[0];a.async=1;a.src=g;m.parentNode.insertBefore(a,m)\\n})(window,document,'script','//www.google-analytics.com/analytics.js','ga');\\nga('create', 'UA-69522494-1', 'auto');\\nga('set', 'anonymizeIp', true);\\nga('send', 'pageview');\\n</script>\\n<!-- /ga -->\\n</body>\\n</html>\""
      ]
     },
     "execution_count": 18,
     "metadata": {},
     "output_type": "execute_result"
    }
   ],
   "source": [
    "submit_answer(year, day, part_two_ans, 2)"
   ]
  }
 ],
 "metadata": {
  "kernelspec": {
   "display_name": "Julia 1.8.0",
   "language": "julia",
   "name": "julia-1.8"
  },
  "language_info": {
   "file_extension": ".jl",
   "mimetype": "application/julia",
   "name": "julia",
   "version": "1.8.3"
  },
  "orig_nbformat": 4,
  "vscode": {
   "interpreter": {
    "hash": "2decbbcdbe1b404b08c0c2ae8935a58886fd60ea7dad56cfc87e2a14f377e9ba"
   }
  }
 },
 "nbformat": 4,
 "nbformat_minor": 2
}
