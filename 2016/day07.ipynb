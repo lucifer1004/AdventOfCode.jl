{
 "cells": [
  {
   "cell_type": "code",
   "execution_count": 1,
   "metadata": {},
   "outputs": [
    {
     "name": "stderr",
     "output_type": "stream",
     "text": [
      "\u001b[32m\u001b[1m  Activating\u001b[22m\u001b[39m project at `~/com.github/lucifer1004/AdventOfCode.jl`\n"
     ]
    }
   ],
   "source": [
    "import Pkg; Pkg.activate(\"..\")"
   ]
  },
  {
   "cell_type": "code",
   "execution_count": 2,
   "metadata": {},
   "outputs": [],
   "source": [
    "using AdventOfCode"
   ]
  },
  {
   "cell_type": "code",
   "execution_count": 3,
   "metadata": {},
   "outputs": [
    {
     "data": {
      "text/plain": [
       "7"
      ]
     },
     "execution_count": 3,
     "metadata": {},
     "output_type": "execute_result"
    }
   ],
   "source": [
    "year = 2016\n",
    "day = 7"
   ]
  },
  {
   "cell_type": "code",
   "execution_count": 4,
   "metadata": {},
   "outputs": [
    {
     "data": {
      "text/plain": [
       "\"wysextplwqpvipxdv[srzvtwbfzqtspxnethm]syqbzgtboxxzpwr[kljvjjkjyojzrstfgrw]obdhcczonzvbfby[svotajtpttohxsh]cooktbyumlpxostt\\nemzopymywhhxulxuctj[dwwvkzhoigmbmnf]nxgbgfwqvrypqxppyq[qozsihnhpztcrpbdc]rnhnakmrdcowatw[rhvchmzmyfxlolwe]uysecbspabtauvmixa\\nbqooxxweoytjghrqn[hkw\" ⋯ 179365 bytes ⋯ \"tftbolwhpwnropnzv[zhfcmkbwizknymev]twrumqadwvsaciwbwoi[evodjtvrucrzgtwio]fmmbddkwwpaziycik\\ndkodbaotlfdaphwzbcc[ldzeemqiovyqjgs]qxibabdusgaistkru[usglloxgycyynmp]aaocvclsocababbzxeg[liaacgfxytuqudp]jvvqsypuoduyhvraak\\nbwzsacxgqkbjycgfw[dbnligvrmqscasutn]rbgybqqsgjvlonkut\""
      ]
     },
     "execution_count": 4,
     "metadata": {},
     "output_type": "execute_result"
    }
   ],
   "source": [
    "input = get_input(year, day)"
   ]
  },
  {
   "cell_type": "code",
   "execution_count": 5,
   "metadata": {},
   "outputs": [
    {
     "data": {
      "text/plain": [
       "2000-element Vector{SubString{String}}:\n",
       " \"wysextplwqpvipxdv[srzvtwbfzqtsp\" ⋯ 60 bytes ⋯ \"votajtpttohxsh]cooktbyumlpxostt\"\n",
       " \"emzopymywhhxulxuctj[dwwvkzhoigm\" ⋯ 62 bytes ⋯ \"hmzmyfxlolwe]uysecbspabtauvmixa\"\n",
       " \"bqooxxweoytjghrqn[hkwwukixothfy\" ⋯ 25 bytes ⋯ \"zifsaaicagxtqf]ucdyxasusefuuxlx\"\n",
       " \"rxpusykufgqujfe[rypwoorxdemxffu\" ⋯ 60 bytes ⋯ \"riclxaonpwe]jdprpdvpeumrhokrcjt\"\n",
       " \"iungssgfnnjlgdferc[xfffplonmzjm\" ⋯ 67 bytes ⋯ \"fefqhmuqtdp]luopramrehtriilwlou\"\n",
       " \"mqxqhcpalwycdxw[fkwhjscfmgywhtvdb]khadwvhkxygtxqx\"\n",
       " \"ihekzgbwpjxgbau[eqpvqxncntbtsqn]mbtbcujdkbrhxdu\"\n",
       " \"izikobnovmjzngo[ombcpcvshnedtnd\" ⋯ 26 bytes ⋯ \"dzmiolfvvaizu]tcvnrfufuvhgmlxcm\"\n",
       " \"yhrowrreplrrsbupeor[nchtznfzbzw\" ⋯ 24 bytes ⋯ \"hxeaqusdlhydtm]rvqzuffgqtysfzxp\"\n",
       " \"unfjgussbjxzlhopoqg[ppdnqkiuooukdmbqlo]flfiieiitmettblfln\"\n",
       " \"hgtbgxarmgbxqrhghxb[hflfvoetxfi\" ⋯ 31 bytes ⋯ \"qittvvyooda]cjkxbnylglnlfleelzu\"\n",
       " \"npxhwtitqnddkwg[gmzggwnvygsroea\" ⋯ 69 bytes ⋯ \"qyytigytlum]dlfpsnyzmhkmeevfwsf\"\n",
       " \"wjzwftiuixvwyzmgoe[jbfghrqhyyww\" ⋯ 67 bytes ⋯ \"gzyilrifonz]gdicckmxibtwwoesaxf\"\n",
       " ⋮\n",
       " \"tcqhlxasqmbwzuiuirp[kfqoequocds\" ⋯ 70 bytes ⋯ \"mqcdvgagdknr]zabaqgsmrwkrtcuyct\"\n",
       " \"fzanofpykognmio[ladtxyissyfrssobo]xqpwrgdmglgqhwawqok\"\n",
       " \"hynipihszohrqwaezga[iqtpgjpngbwhpailzg]wfgimkpjrjnkroueh\"\n",
       " \"lpmrkesaqdojkqrp[dcgsayoowgpiwa\" ⋯ 64 bytes ⋯ \"yyatxkwsrvldp]gffgmieinxlfzpiej\"\n",
       " \"jaeayfunulncspts[stghconfjhkqkr\" ⋯ 66 bytes ⋯ \"dpvsxreqhoek]pgpikslhvbnmbxbkbc\"\n",
       " \"lajiqiaxcxgpvsbu[bfetstragmoosb\" ⋯ 58 bytes ⋯ \"zleqvspvsemjpn]noxrndgdrkffsdvh\"\n",
       " \"bytcvwxuavajevmde[nhmjatzolmbdf\" ⋯ 31 bytes ⋯ \"bxpqfsoreuey]hcfyjmkoywueuivrio\"\n",
       " \"amvudustnspjqsbpjp[wdudhbvvlgzbbbwlafg]kwpyjvuerzyzmzft\"\n",
       " \"vwpklmfpzssyoifbb[bwtpxodxedpdsvgu]azathmhdnqkhbmrdlxn\"\n",
       " \"iwzncixpjxypnmykke[wlhvfjbumhmt\" ⋯ 67 bytes ⋯ \"jtvrucrzgtwio]fmmbddkwwpaziycik\"\n",
       " \"dkodbaotlfdaphwzbcc[ldzeemqiovy\" ⋯ 62 bytes ⋯ \"acgfxytuqudp]jvvqsypuoduyhvraak\"\n",
       " \"bwzsacxgqkbjycgfw[dbnligvrmqscasutn]rbgybqqsgjvlonkut\""
      ]
     },
     "execution_count": 5,
     "metadata": {},
     "output_type": "execute_result"
    }
   ],
   "source": [
    "parsed_input = parse_input(input)"
   ]
  },
  {
   "cell_type": "code",
   "execution_count": 6,
   "metadata": {},
   "outputs": [
    {
     "data": {
      "text/plain": [
       "\"abba[mnop]qrst\\nabcd[bddb]xyyx\\naaaa[qwer]tyui\\nioxxoj[asdfgh]zxcvbn\""
      ]
     },
     "execution_count": 6,
     "metadata": {},
     "output_type": "execute_result"
    }
   ],
   "source": [
    "sample = \"\"\"abba[mnop]qrst\n",
    "abcd[bddb]xyyx\n",
    "aaaa[qwer]tyui\n",
    "ioxxoj[asdfgh]zxcvbn\"\"\""
   ]
  },
  {
   "cell_type": "code",
   "execution_count": 7,
   "metadata": {},
   "outputs": [
    {
     "data": {
      "text/plain": [
       "4-element Vector{SubString{String}}:\n",
       " \"abba[mnop]qrst\"\n",
       " \"abcd[bddb]xyyx\"\n",
       " \"aaaa[qwer]tyui\"\n",
       " \"ioxxoj[asdfgh]zxcvbn\""
      ]
     },
     "execution_count": 7,
     "metadata": {},
     "output_type": "execute_result"
    }
   ],
   "source": [
    "parsed_sample = parse_input(sample)"
   ]
  },
  {
   "cell_type": "code",
   "execution_count": 8,
   "metadata": {},
   "outputs": [
    {
     "data": {
      "text/plain": [
       "isvalid (generic function with 1 method)"
      ]
     },
     "execution_count": 8,
     "metadata": {},
     "output_type": "execute_result"
    }
   ],
   "source": [
    "function isvalid(s)\n",
    "    length(s) >= 4 && any(a == d && b == c && a != b for (a, b, c, d) in zip(s, s[2:end], s[3:end], s[4:end]))\n",
    "end"
   ]
  },
  {
   "cell_type": "code",
   "execution_count": 9,
   "metadata": {},
   "outputs": [
    {
     "data": {
      "text/plain": [
       "part_one (generic function with 1 method)"
      ]
     },
     "execution_count": 9,
     "metadata": {},
     "output_type": "execute_result"
    }
   ],
   "source": [
    "function part_one(input)\n",
    "    sum(map(input) do line\n",
    "        within_bracket = false\n",
    "        found = false\n",
    "        valid = true\n",
    "        for (i, ch) in enumerate(line)\n",
    "            if ch == '['\n",
    "                within_bracket = true\n",
    "            elseif ch == ']'\n",
    "                within_bracket = false\n",
    "            else\n",
    "                if i >= 4 && line[i] == line[i - 3] && line[i - 2] == line[i - 1] && line[i] != line[i - 1]\n",
    "                    if within_bracket\n",
    "                        valid = false\n",
    "                        break\n",
    "                    else\n",
    "                        found = true\n",
    "                    end\n",
    "                end\n",
    "            end\n",
    "        end        \n",
    "        found && valid\n",
    "    end)\n",
    "end"
   ]
  },
  {
   "cell_type": "code",
   "execution_count": 10,
   "metadata": {},
   "outputs": [
    {
     "data": {
      "text/plain": [
       "2"
      ]
     },
     "execution_count": 10,
     "metadata": {},
     "output_type": "execute_result"
    }
   ],
   "source": [
    "part_one(parsed_sample)"
   ]
  },
  {
   "cell_type": "code",
   "execution_count": 11,
   "metadata": {},
   "outputs": [
    {
     "data": {
      "text/plain": [
       "118"
      ]
     },
     "execution_count": 11,
     "metadata": {},
     "output_type": "execute_result"
    }
   ],
   "source": [
    "part_one_ans = part_one(parsed_input)"
   ]
  },
  {
   "cell_type": "code",
   "execution_count": 12,
   "metadata": {},
   "outputs": [
    {
     "data": {
      "text/plain": [
       "\"<!DOCTYPE html>\\n<html lang=\\\"en-us\\\">\\n<head>\\n<meta charset=\\\"utf-8\\\"/>\\n<title>Day 7 - Advent of Code 2016</title>\\n<!--[if lt IE 9]><script src=\\\"/static/html5.js\\\"></script><![endif]-->\\n<link href='//fonts.googleapis.com/css?family=Source+Code+Pro:300&subset=latin,latin-ext' \" ⋯ 3226 bytes ⋯ \"Name(o)[0];a.async=1;a.src=g;m.parentNode.insertBefore(a,m)\\n})(window,document,'script','//www.google-analytics.com/analytics.js','ga');\\nga('create', 'UA-69522494-1', 'auto');\\nga('set', 'anonymizeIp', true);\\nga('send', 'pageview');\\n</script>\\n<!-- /ga -->\\n</body>\\n</html>\""
      ]
     },
     "execution_count": 12,
     "metadata": {},
     "output_type": "execute_result"
    }
   ],
   "source": [
    "submit_answer(year, day, part_one_ans)"
   ]
  },
  {
   "cell_type": "code",
   "execution_count": 13,
   "metadata": {},
   "outputs": [
    {
     "data": {
      "text/plain": [
       "part_two (generic function with 1 method)"
      ]
     },
     "execution_count": 13,
     "metadata": {},
     "output_type": "execute_result"
    }
   ],
   "source": [
    "function part_two(input)\n",
    "    sum(map(input) do line\n",
    "        within_bracket = false\n",
    "        aba = (Set(), Set())\n",
    "        for (i, ch) in enumerate(line)\n",
    "            if ch == '['\n",
    "                within_bracket = true\n",
    "            elseif ch == ']'\n",
    "                within_bracket = false\n",
    "            else\n",
    "                if i >= 3\n",
    "                    if line[i] == line[i - 2] != line[i - 1]\n",
    "                        push!(aba[Int(within_bracket) + 1], join([line[i - 2], line[i - 1]]))\n",
    "                    end\n",
    "                end\n",
    "            end\n",
    "        end        \n",
    "        \n",
    "        any(reverse(s) ∈ aba[2] for s in aba[1])\n",
    "    end)\n",
    "end"
   ]
  },
  {
   "cell_type": "code",
   "execution_count": 14,
   "metadata": {},
   "outputs": [
    {
     "data": {
      "text/plain": [
       "260"
      ]
     },
     "execution_count": 14,
     "metadata": {},
     "output_type": "execute_result"
    }
   ],
   "source": [
    "part_two_ans = part_two(parsed_input)"
   ]
  },
  {
   "cell_type": "code",
   "execution_count": 15,
   "metadata": {},
   "outputs": [
    {
     "data": {
      "text/plain": [
       "\"<!DOCTYPE html>\\n<html lang=\\\"en-us\\\">\\n<head>\\n<meta charset=\\\"utf-8\\\"/>\\n<title>Day 7 - Advent of Code 2016</title>\\n<!--[if lt IE 9]><script src=\\\"/static/html5.js\\\"></script><![endif]-->\\n<link href='//fonts.googleapis.com/css?family=Source+Code+Pro:300&subset=latin,latin-ext' \" ⋯ 3198 bytes ⋯ \"Name(o)[0];a.async=1;a.src=g;m.parentNode.insertBefore(a,m)\\n})(window,document,'script','//www.google-analytics.com/analytics.js','ga');\\nga('create', 'UA-69522494-1', 'auto');\\nga('set', 'anonymizeIp', true);\\nga('send', 'pageview');\\n</script>\\n<!-- /ga -->\\n</body>\\n</html>\""
      ]
     },
     "execution_count": 15,
     "metadata": {},
     "output_type": "execute_result"
    }
   ],
   "source": [
    "submit_answer(year, day, part_two_ans, 2)"
   ]
  }
 ],
 "metadata": {
  "kernelspec": {
   "display_name": "Julia 1.8.0",
   "language": "julia",
   "name": "julia-1.8"
  },
  "language_info": {
   "file_extension": ".jl",
   "mimetype": "application/julia",
   "name": "julia",
   "version": "1.8.3"
  },
  "orig_nbformat": 4,
  "vscode": {
   "interpreter": {
    "hash": "2decbbcdbe1b404b08c0c2ae8935a58886fd60ea7dad56cfc87e2a14f377e9ba"
   }
  }
 },
 "nbformat": 4,
 "nbformat_minor": 2
}
