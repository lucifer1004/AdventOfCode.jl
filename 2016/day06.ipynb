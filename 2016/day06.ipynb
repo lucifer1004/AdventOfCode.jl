{
 "cells": [
  {
   "cell_type": "code",
   "execution_count": 1,
   "metadata": {},
   "outputs": [
    {
     "name": "stderr",
     "output_type": "stream",
     "text": [
      "\u001b[32m\u001b[1m  Activating\u001b[22m\u001b[39m project at `~/com.github/lucifer1004/AdventOfCode.jl`\n"
     ]
    }
   ],
   "source": [
    "import Pkg; Pkg.activate(\"..\")"
   ]
  },
  {
   "cell_type": "code",
   "execution_count": 2,
   "metadata": {},
   "outputs": [],
   "source": [
    "using AdventOfCode"
   ]
  },
  {
   "cell_type": "code",
   "execution_count": 3,
   "metadata": {},
   "outputs": [
    {
     "data": {
      "text/plain": [
       "6"
      ]
     },
     "execution_count": 3,
     "metadata": {},
     "output_type": "execute_result"
    }
   ],
   "source": [
    "year = 2016\n",
    "day = 6"
   ]
  },
  {
   "cell_type": "code",
   "execution_count": 4,
   "metadata": {},
   "outputs": [
    {
     "data": {
      "text/plain": [
       "\"vlmbsivg\\nwjskjzff\\nhmcodblh\\nnvohhghm\\nxainmzpz\\nfrkckyrg\\nzqdmvmee\\nsbsqzlju\\neqdnsvqi\\nxdmyqmxk\\ngchzzkci\\nunjukwld\\nfmnpwrnf\\nhuvyqxkt\\nuxekmktg\\npdzxhbfa\\nkhlkjqhk\\nravznzpy\\nbtpqmfzt\\ntcnpghzn\\nyuplhxzr\\nablaihve\\ngjdehjcu\\ndvmkpskx\\nlukbiacr\\nttrzcksg\\necfehhzq\\noctwtlsc\\ncolisfrx\\nsvtipfzv\\n\" ⋯ 5309 bytes ⋯ \"\\nxgvdaxfk\\ngnkzxirj\\nvdmrccgf\\nvhgjcski\\nqpdhafox\\noijrjuwm\\nqxtyktrs\\nmkyalzfa\\ntnmunnod\\nukjvbgjs\\ncywsgmfc\\nuqkzjgbn\\nppjifbhj\\ngpwlnflu\\nalabzvvi\\nvtygcqph\\nezxtvdqo\\nhzeejxxe\\naavwflnw\\nnrfqefxa\\ndsgysuua\\npikwyfym\\nnesdcxdi\\nghqlicny\\njcvekqdr\\ncyeiicma\\nslfxqsdt\\ndcrcwoek\\nqdmtpdxr\\nvlzjoqfm\""
      ]
     },
     "execution_count": 4,
     "metadata": {},
     "output_type": "execute_result"
    }
   ],
   "source": [
    "input = get_input(year, day)"
   ]
  },
  {
   "cell_type": "code",
   "execution_count": 5,
   "metadata": {},
   "outputs": [
    {
     "data": {
      "text/plain": [
       "650-element Vector{SubString{String}}:\n",
       " \"vlmbsivg\"\n",
       " \"wjskjzff\"\n",
       " \"hmcodblh\"\n",
       " \"nvohhghm\"\n",
       " \"xainmzpz\"\n",
       " \"frkckyrg\"\n",
       " \"zqdmvmee\"\n",
       " \"sbsqzlju\"\n",
       " \"eqdnsvqi\"\n",
       " \"xdmyqmxk\"\n",
       " \"gchzzkci\"\n",
       " \"unjukwld\"\n",
       " \"fmnpwrnf\"\n",
       " ⋮\n",
       " \"aavwflnw\"\n",
       " \"nrfqefxa\"\n",
       " \"dsgysuua\"\n",
       " \"pikwyfym\"\n",
       " \"nesdcxdi\"\n",
       " \"ghqlicny\"\n",
       " \"jcvekqdr\"\n",
       " \"cyeiicma\"\n",
       " \"slfxqsdt\"\n",
       " \"dcrcwoek\"\n",
       " \"qdmtpdxr\"\n",
       " \"vlzjoqfm\""
      ]
     },
     "execution_count": 5,
     "metadata": {},
     "output_type": "execute_result"
    }
   ],
   "source": [
    "parsed_input = parse_input(input)"
   ]
  },
  {
   "cell_type": "code",
   "execution_count": 6,
   "metadata": {},
   "outputs": [
    {
     "data": {
      "text/plain": [
       "\"eedadn\\ndrvtee\\neandsr\\nraavrd\\natevrs\\ntsrnev\\nsdttsa\\nrasrtv\\nnssdts\\nntnada\\nsvetve\\ntesnvt\\nvntsnd\\nvrdear\\ndvrsen\\nenarar\""
      ]
     },
     "execution_count": 6,
     "metadata": {},
     "output_type": "execute_result"
    }
   ],
   "source": [
    "sample = \"\"\"eedadn\n",
    "drvtee\n",
    "eandsr\n",
    "raavrd\n",
    "atevrs\n",
    "tsrnev\n",
    "sdttsa\n",
    "rasrtv\n",
    "nssdts\n",
    "ntnada\n",
    "svetve\n",
    "tesnvt\n",
    "vntsnd\n",
    "vrdear\n",
    "dvrsen\n",
    "enarar\"\"\""
   ]
  },
  {
   "cell_type": "code",
   "execution_count": 7,
   "metadata": {},
   "outputs": [
    {
     "data": {
      "text/plain": [
       "16-element Vector{SubString{String}}:\n",
       " \"eedadn\"\n",
       " \"drvtee\"\n",
       " \"eandsr\"\n",
       " \"raavrd\"\n",
       " \"atevrs\"\n",
       " \"tsrnev\"\n",
       " \"sdttsa\"\n",
       " \"rasrtv\"\n",
       " \"nssdts\"\n",
       " \"ntnada\"\n",
       " \"svetve\"\n",
       " \"tesnvt\"\n",
       " \"vntsnd\"\n",
       " \"vrdear\"\n",
       " \"dvrsen\"\n",
       " \"enarar\""
      ]
     },
     "execution_count": 7,
     "metadata": {},
     "output_type": "execute_result"
    }
   ],
   "source": [
    "parsed_sample = parse_input(sample)"
   ]
  },
  {
   "cell_type": "code",
   "execution_count": 8,
   "metadata": {},
   "outputs": [
    {
     "data": {
      "text/plain": [
       "solve (generic function with 1 method)"
      ]
     },
     "execution_count": 8,
     "metadata": {},
     "output_type": "execute_result"
    }
   ],
   "source": [
    "function solve(input, cmp)\n",
    "    n = length(input)\n",
    "    m = length(input[1])\n",
    "    join(map(1:m) do col\n",
    "        cnt = counter(input[row][col] for row in 1:n)\n",
    "        pairs = collect(cnt)\n",
    "        sort!(pairs, by = cmp)\n",
    "        pairs[1][1]\n",
    "    end)\n",
    "end"
   ]
  },
  {
   "cell_type": "code",
   "execution_count": 9,
   "metadata": {},
   "outputs": [
    {
     "data": {
      "text/plain": [
       "part_one (generic function with 1 method)"
      ]
     },
     "execution_count": 9,
     "metadata": {},
     "output_type": "execute_result"
    }
   ],
   "source": [
    "part_one(input) = solve(input, x -> (-x[2], x[1]))"
   ]
  },
  {
   "cell_type": "code",
   "execution_count": 10,
   "metadata": {},
   "outputs": [
    {
     "data": {
      "text/plain": [
       "\"easter\""
      ]
     },
     "execution_count": 10,
     "metadata": {},
     "output_type": "execute_result"
    }
   ],
   "source": [
    "part_one(parsed_sample)"
   ]
  },
  {
   "cell_type": "code",
   "execution_count": 11,
   "metadata": {},
   "outputs": [
    {
     "data": {
      "text/plain": [
       "\"cyxeoccr\""
      ]
     },
     "execution_count": 11,
     "metadata": {},
     "output_type": "execute_result"
    }
   ],
   "source": [
    "part_one_ans = part_one(parsed_input)"
   ]
  },
  {
   "cell_type": "code",
   "execution_count": 12,
   "metadata": {},
   "outputs": [
    {
     "data": {
      "text/plain": [
       "\"<!DOCTYPE html>\\n<html lang=\\\"en-us\\\">\\n<head>\\n<meta charset=\\\"utf-8\\\"/>\\n<title>Day 6 - Advent of Code 2016</title>\\n<!--[if lt IE 9]><script src=\\\"/static/html5.js\\\"></script><![endif]-->\\n<link href='//fonts.googleapis.com/css?family=Source+Code+Pro:300&subset=latin,latin-ext' \" ⋯ 3186 bytes ⋯ \"Name(o)[0];a.async=1;a.src=g;m.parentNode.insertBefore(a,m)\\n})(window,document,'script','//www.google-analytics.com/analytics.js','ga');\\nga('create', 'UA-69522494-1', 'auto');\\nga('set', 'anonymizeIp', true);\\nga('send', 'pageview');\\n</script>\\n<!-- /ga -->\\n</body>\\n</html>\""
      ]
     },
     "execution_count": 12,
     "metadata": {},
     "output_type": "execute_result"
    }
   ],
   "source": [
    "submit_answer(year, day, part_one_ans)"
   ]
  },
  {
   "cell_type": "code",
   "execution_count": 13,
   "metadata": {},
   "outputs": [
    {
     "data": {
      "text/plain": [
       "part_two (generic function with 1 method)"
      ]
     },
     "execution_count": 13,
     "metadata": {},
     "output_type": "execute_result"
    }
   ],
   "source": [
    "part_two(input) = solve(input, x -> (x[2], x[1]))"
   ]
  },
  {
   "cell_type": "code",
   "execution_count": 14,
   "metadata": {},
   "outputs": [
    {
     "data": {
      "text/plain": [
       "\"advent\""
      ]
     },
     "execution_count": 14,
     "metadata": {},
     "output_type": "execute_result"
    }
   ],
   "source": [
    "part_two(parsed_sample)"
   ]
  },
  {
   "cell_type": "code",
   "execution_count": 15,
   "metadata": {},
   "outputs": [
    {
     "data": {
      "text/plain": [
       "\"batwpask\""
      ]
     },
     "execution_count": 15,
     "metadata": {},
     "output_type": "execute_result"
    }
   ],
   "source": [
    "part_two_ans = part_two(parsed_input)"
   ]
  },
  {
   "cell_type": "code",
   "execution_count": 16,
   "metadata": {},
   "outputs": [
    {
     "data": {
      "text/plain": [
       "\"<!DOCTYPE html>\\n<html lang=\\\"en-us\\\">\\n<head>\\n<meta charset=\\\"utf-8\\\"/>\\n<title>Day 6 - Advent of Code 2016</title>\\n<!--[if lt IE 9]><script src=\\\"/static/html5.js\\\"></script><![endif]-->\\n<link href='//fonts.googleapis.com/css?family=Source+Code+Pro:300&subset=latin,latin-ext' \" ⋯ 3167 bytes ⋯ \"Name(o)[0];a.async=1;a.src=g;m.parentNode.insertBefore(a,m)\\n})(window,document,'script','//www.google-analytics.com/analytics.js','ga');\\nga('create', 'UA-69522494-1', 'auto');\\nga('set', 'anonymizeIp', true);\\nga('send', 'pageview');\\n</script>\\n<!-- /ga -->\\n</body>\\n</html>\""
      ]
     },
     "execution_count": 16,
     "metadata": {},
     "output_type": "execute_result"
    }
   ],
   "source": [
    "submit_answer(year, day, part_two_ans, 2)"
   ]
  }
 ],
 "metadata": {
  "kernelspec": {
   "display_name": "Julia 1.8.0",
   "language": "julia",
   "name": "julia-1.8"
  },
  "language_info": {
   "file_extension": ".jl",
   "mimetype": "application/julia",
   "name": "julia",
   "version": "1.8.3"
  },
  "orig_nbformat": 4,
  "vscode": {
   "interpreter": {
    "hash": "2decbbcdbe1b404b08c0c2ae8935a58886fd60ea7dad56cfc87e2a14f377e9ba"
   }
  }
 },
 "nbformat": 4,
 "nbformat_minor": 2
}
