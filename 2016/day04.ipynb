{
 "cells": [
  {
   "cell_type": "code",
   "execution_count": 1,
   "metadata": {},
   "outputs": [
    {
     "name": "stderr",
     "output_type": "stream",
     "text": [
      "\u001b[32m\u001b[1m  Activating\u001b[22m\u001b[39m project at `~/com.github/lucifer1004/AdventOfCode.jl`\n"
     ]
    }
   ],
   "source": [
    "import Pkg; Pkg.activate(\"..\")"
   ]
  },
  {
   "cell_type": "code",
   "execution_count": 2,
   "metadata": {},
   "outputs": [],
   "source": [
    "using AdventOfCode"
   ]
  },
  {
   "cell_type": "code",
   "execution_count": 3,
   "metadata": {},
   "outputs": [
    {
     "data": {
      "text/plain": [
       "4"
      ]
     },
     "execution_count": 3,
     "metadata": {},
     "output_type": "execute_result"
    }
   ],
   "source": [
    "year = 2016\n",
    "day = 4"
   ]
  },
  {
   "cell_type": "code",
   "execution_count": 4,
   "metadata": {},
   "outputs": [
    {
     "data": {
      "text/plain": [
       "\"vxupkizork-sgmtkzoi-pkrrehkgt-zxgototm-644[kotgr]\\nmbiyqoxsm-pvygob-nocsqx-900[obmqs]\\nveqtekmrk-ikk-hitpscqirx-334[nrtws]\\ngvcskirmg-fyrrc-irkmriivmrk-932[rikmc]\\nxmtjbzidx-xviyt-yzqzgjkhzio-187[yzfeu]\\nbwx-amkzmb-kivlg-kwibqvo-lmaqov-798[bkmva]\\nvcibutulxiom-ohmnuvfy-yaa-my\" ⋯ 39017 bytes ⋯ \"2[gxqmn]\\nrwcnawjcrxwju-lqxlxujcn-cnlqwxuxph-849[zqekt]\\nkpvgtpcvkqpcn-fag-ugtxkegu-986[qpyuj]\\ndfcxsqhwzs-qzoggwtwsr-qvcqczohs-fsoqeiwgwhwcb-714[lgtfc]\\nojk-nzxmzo-xviyt-xjvodib-omvdidib-265[iodvx]\\nwbhsfbohwcboz-qobrm-zcuwghwqg-298[bwhoc]\\nshoewudys-tou-ixyffydw-478[uszty]\""
      ]
     },
     "execution_count": 4,
     "metadata": {},
     "output_type": "execute_result"
    }
   ],
   "source": [
    "input = get_input(year, day)"
   ]
  },
  {
   "cell_type": "code",
   "execution_count": 5,
   "metadata": {},
   "outputs": [
    {
     "data": {
      "text/plain": [
       "935-element Vector{SubString{String}}:\n",
       " \"vxupkizork-sgmtkzoi-pkrrehkgt-zxgototm-644[kotgr]\"\n",
       " \"mbiyqoxsm-pvygob-nocsqx-900[obmqs]\"\n",
       " \"veqtekmrk-ikk-hitpscqirx-334[nrtws]\"\n",
       " \"gvcskirmg-fyrrc-irkmriivmrk-932[rikmc]\"\n",
       " \"xmtjbzidx-xviyt-yzqzgjkhzio-187[yzfeu]\"\n",
       " \"bwx-amkzmb-kivlg-kwibqvo-lmaqov-798[bkmva]\"\n",
       " \"vcibutulxiom-ohmnuvfy-yaa-mylpcwym-890[iyaun]\"\n",
       " \"ajvyjprwp-lqxlxujcn-jwjuhbrb-251[muivb]\"\n",
       " \"szfyrqriuflj-avccpsvre-kirzezex-971[rezcf]\"\n",
       " \"kwvacumz-ozilm-akidmvomz-pcvb-uizsmbqvo-590[uslyz]\"\n",
       " \"ucynmlgxcb-afmamjyrc-jmegqrgaq-626[rybxt]\"\n",
       " \"oaxadrgx-pkq-abqdmfuaze-872[xtbnw]\"\n",
       " \"tfejldvi-xiruv-tcrjjzwzvu-gcrjkzt-xirjj-tfekrzedvek-971[krmax]\"\n",
       " ⋮\n",
       " \"xgsvgmotm-kmm-ktmotkkxotm-436[ywzib]\"\n",
       " \"ykhknbqh-ywjzu-zalwnpiajp-186[csbmn]\"\n",
       " \"udpsdjlqj-fkrfrodwh-zrunvkrs-283[rdfjk]\"\n",
       " \"yuxufmdk-sdmpq-eomhqzsqd-tgzf-mocgueufuaz-820[mskbl]\"\n",
       " \"sbqiiyvyut-isqludwuh-xkdj-qsgkyiyjyed-530[ndmuc]\"\n",
       " \"mbiyqoxsm-oqq-crszzsxq-952[gxqmn]\"\n",
       " \"rwcnawjcrxwju-lqxlxujcn-cnlqwxuxph-849[zqekt]\"\n",
       " \"kpvgtpcvkqpcn-fag-ugtxkegu-986[qpyuj]\"\n",
       " \"dfcxsqhwzs-qzoggwtwsr-qvcqczohs-fsoqeiwgwhwcb-714[lgtfc]\"\n",
       " \"ojk-nzxmzo-xviyt-xjvodib-omvdidib-265[iodvx]\"\n",
       " \"wbhsfbohwcboz-qobrm-zcuwghwqg-298[bwhoc]\"\n",
       " \"shoewudys-tou-ixyffydw-478[uszty]\""
      ]
     },
     "execution_count": 5,
     "metadata": {},
     "output_type": "execute_result"
    }
   ],
   "source": [
    "parsed_input = parse_input(input)"
   ]
  },
  {
   "cell_type": "code",
   "execution_count": 6,
   "metadata": {},
   "outputs": [
    {
     "data": {
      "text/plain": [
       "\"aaaaa-bbb-z-y-x-123[abxyz]\\na-b-c-d-e-f-g-h-987[abcde]\\nnot-a-real-room-404[oarel]\\ntotally-real-room-200[decoy]\""
      ]
     },
     "execution_count": 6,
     "metadata": {},
     "output_type": "execute_result"
    }
   ],
   "source": [
    "sample = \"\"\"aaaaa-bbb-z-y-x-123[abxyz]\n",
    "a-b-c-d-e-f-g-h-987[abcde]\n",
    "not-a-real-room-404[oarel]\n",
    "totally-real-room-200[decoy]\"\"\""
   ]
  },
  {
   "cell_type": "code",
   "execution_count": 7,
   "metadata": {},
   "outputs": [
    {
     "data": {
      "text/plain": [
       "4-element Vector{SubString{String}}:\n",
       " \"aaaaa-bbb-z-y-x-123[abxyz]\"\n",
       " \"a-b-c-d-e-f-g-h-987[abcde]\"\n",
       " \"not-a-real-room-404[oarel]\"\n",
       " \"totally-real-room-200[decoy]\""
      ]
     },
     "execution_count": 7,
     "metadata": {},
     "output_type": "execute_result"
    }
   ],
   "source": [
    "parsed_sample = parse_input(sample)"
   ]
  },
  {
   "cell_type": "code",
   "execution_count": 8,
   "metadata": {},
   "outputs": [
    {
     "data": {
      "text/plain": [
       "part_one (generic function with 1 method)"
      ]
     },
     "execution_count": 8,
     "metadata": {},
     "output_type": "execute_result"
    }
   ],
   "source": [
    "function part_one(input)\n",
    "    sum(map(input) do line\n",
    "        checksum = line[end-5:end-1]\n",
    "        id = parse(Int, match(r\"\\d+\", line).match)\n",
    "        cnt = counter(line)\n",
    "        chars = [(k, v) for (k, v) in cnt if 'a' <= k <= 'z']\n",
    "        sort!(chars, by=x -> (-x[2], x[1]))\n",
    "        if length(chars) >= 5 && join(x[1] for x in chars[1:5]) == checksum\n",
    "            id\n",
    "        else\n",
    "            0\n",
    "        end\n",
    "    end)\n",
    "end"
   ]
  },
  {
   "cell_type": "code",
   "execution_count": 9,
   "metadata": {},
   "outputs": [
    {
     "data": {
      "text/plain": [
       "1514"
      ]
     },
     "execution_count": 9,
     "metadata": {},
     "output_type": "execute_result"
    }
   ],
   "source": [
    "part_one(parsed_sample)"
   ]
  },
  {
   "cell_type": "code",
   "execution_count": 10,
   "metadata": {},
   "outputs": [
    {
     "data": {
      "text/plain": [
       "137896"
      ]
     },
     "execution_count": 10,
     "metadata": {},
     "output_type": "execute_result"
    }
   ],
   "source": [
    "part_one_ans = part_one(parsed_input)"
   ]
  },
  {
   "cell_type": "code",
   "execution_count": 11,
   "metadata": {},
   "outputs": [
    {
     "data": {
      "text/plain": [
       "\"<!DOCTYPE html>\\n<html lang=\\\"en-us\\\">\\n<head>\\n<meta charset=\\\"utf-8\\\"/>\\n<title>Day 4 - Advent of Code 2016</title>\\n<!--[if lt IE 9]><script src=\\\"/static/html5.js\\\"></script><![endif]-->\\n<link href='//fonts.googleapis.com/css?family=Source+Code+Pro:300&subset=latin,latin-ext' \" ⋯ 3220 bytes ⋯ \"Name(o)[0];a.async=1;a.src=g;m.parentNode.insertBefore(a,m)\\n})(window,document,'script','//www.google-analytics.com/analytics.js','ga');\\nga('create', 'UA-69522494-1', 'auto');\\nga('set', 'anonymizeIp', true);\\nga('send', 'pageview');\\n</script>\\n<!-- /ga -->\\n</body>\\n</html>\""
      ]
     },
     "execution_count": 11,
     "metadata": {},
     "output_type": "execute_result"
    }
   ],
   "source": [
    "submit_answer(year, day, part_one_ans)"
   ]
  },
  {
   "cell_type": "code",
   "execution_count": 12,
   "metadata": {},
   "outputs": [
    {
     "data": {
      "text/plain": [
       "part_two (generic function with 1 method)"
      ]
     },
     "execution_count": 12,
     "metadata": {},
     "output_type": "execute_result"
    }
   ],
   "source": [
    "function part_two(input)\n",
    "    for line in input\n",
    "        checksum = line[end-5:end-1]\n",
    "        id = parse(Int, match(r\"\\d+\", line).match)\n",
    "        cnt = counter(line)\n",
    "        chars = [(k, v) for (k, v) in cnt if 'a' <= k <= 'z']\n",
    "        decrypt = join(map(collect(line)) do ch\n",
    "            if 'a' <= ch <= 'z'\n",
    "                'a' + (ch - 'a' + id) % 26\n",
    "            elseif ch == '-'\n",
    "                ' '\n",
    "            else\n",
    "                ch\n",
    "            end\n",
    "        end)\n",
    "        if occursin(\"north\", decrypt)\n",
    "            return id\n",
    "        end\n",
    "    end\n",
    "\n",
    "    return -1\n",
    "end"
   ]
  },
  {
   "cell_type": "code",
   "execution_count": 13,
   "metadata": {},
   "outputs": [
    {
     "data": {
      "text/plain": [
       "-1"
      ]
     },
     "execution_count": 13,
     "metadata": {},
     "output_type": "execute_result"
    }
   ],
   "source": [
    "part_two(parsed_sample)"
   ]
  },
  {
   "cell_type": "code",
   "execution_count": 14,
   "metadata": {},
   "outputs": [
    {
     "data": {
      "text/plain": [
       "501"
      ]
     },
     "execution_count": 14,
     "metadata": {},
     "output_type": "execute_result"
    }
   ],
   "source": [
    "part_two_ans = part_two(parsed_input)"
   ]
  },
  {
   "cell_type": "code",
   "execution_count": 15,
   "metadata": {},
   "outputs": [
    {
     "data": {
      "text/plain": [
       "\"<!DOCTYPE html>\\n<html lang=\\\"en-us\\\">\\n<head>\\n<meta charset=\\\"utf-8\\\"/>\\n<title>Day 4 - Advent of Code 2016</title>\\n<!--[if lt IE 9]><script src=\\\"/static/html5.js\\\"></script><![endif]-->\\n<link href='//fonts.googleapis.com/css?family=Source+Code+Pro:300&subset=latin,latin-ext' \" ⋯ 3189 bytes ⋯ \"Name(o)[0];a.async=1;a.src=g;m.parentNode.insertBefore(a,m)\\n})(window,document,'script','//www.google-analytics.com/analytics.js','ga');\\nga('create', 'UA-69522494-1', 'auto');\\nga('set', 'anonymizeIp', true);\\nga('send', 'pageview');\\n</script>\\n<!-- /ga -->\\n</body>\\n</html>\""
      ]
     },
     "execution_count": 15,
     "metadata": {},
     "output_type": "execute_result"
    }
   ],
   "source": [
    "submit_answer(year, day, part_two_ans, 2)"
   ]
  }
 ],
 "metadata": {
  "kernelspec": {
   "display_name": "Julia 1.8.0",
   "language": "julia",
   "name": "julia-1.8"
  },
  "language_info": {
   "file_extension": ".jl",
   "mimetype": "application/julia",
   "name": "julia",
   "version": "1.8.3"
  },
  "orig_nbformat": 4,
  "vscode": {
   "interpreter": {
    "hash": "2decbbcdbe1b404b08c0c2ae8935a58886fd60ea7dad56cfc87e2a14f377e9ba"
   }
  }
 },
 "nbformat": 4,
 "nbformat_minor": 2
}
