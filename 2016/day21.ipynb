{
 "cells": [
  {
   "cell_type": "code",
   "execution_count": 1,
   "metadata": {},
   "outputs": [
    {
     "name": "stderr",
     "output_type": "stream",
     "text": [
      "\u001b[32m\u001b[1m  Activating\u001b[22m\u001b[39m project at `~/com.github/lucifer1004/AdventOfCode.jl`\n"
     ]
    }
   ],
   "source": [
    "import Pkg; Pkg.activate(\"..\")"
   ]
  },
  {
   "cell_type": "code",
   "execution_count": 2,
   "metadata": {},
   "outputs": [],
   "source": [
    "using AdventOfCode"
   ]
  },
  {
   "cell_type": "code",
   "execution_count": 3,
   "metadata": {},
   "outputs": [
    {
     "data": {
      "text/plain": [
       "21"
      ]
     },
     "execution_count": 3,
     "metadata": {},
     "output_type": "execute_result"
    }
   ],
   "source": [
    "year = 2016\n",
    "day = 21"
   ]
  },
  {
   "cell_type": "code",
   "execution_count": 4,
   "metadata": {},
   "outputs": [
    {
     "data": {
      "text/plain": [
       "\"rotate right 4 steps\\nswap letter b with letter e\\nswap position 1 with position 3\\nreverse positions 0 through 4\\nrotate left 5 steps\\nswap position 6 with position 5\\nmove position 3 to position 2\\nmove position 6 to position 5\\nreverse positions 1 through 4\\nrotate based on p\" ⋯ 2344 bytes ⋯ \"wap letter f with letter a\\nmove position 3 to position 1\\nmove position 2 to position 4\\nreverse positions 1 through 2\\nswap letter g with letter c\\nrotate based on position of letter f\\nrotate left 7 steps\\nrotate based on position of letter e\\nswap position 6 with position 1\""
      ]
     },
     "execution_count": 4,
     "metadata": {},
     "output_type": "execute_result"
    }
   ],
   "source": [
    "input = get_input(year, day)"
   ]
  },
  {
   "cell_type": "code",
   "execution_count": 5,
   "metadata": {},
   "outputs": [
    {
     "data": {
      "text/plain": [
       "100-element Vector{SubString{String}}:\n",
       " \"rotate right 4 steps\"\n",
       " \"swap letter b with letter e\"\n",
       " \"swap position 1 with position 3\"\n",
       " \"reverse positions 0 through 4\"\n",
       " \"rotate left 5 steps\"\n",
       " \"swap position 6 with position 5\"\n",
       " \"move position 3 to position 2\"\n",
       " \"move position 6 to position 5\"\n",
       " \"reverse positions 1 through 4\"\n",
       " \"rotate based on position of letter e\"\n",
       " \"reverse positions 3 through 7\"\n",
       " \"reverse positions 4 through 7\"\n",
       " \"rotate left 1 step\"\n",
       " ⋮\n",
       " \"reverse positions 1 through 2\"\n",
       " \"rotate right 0 steps\"\n",
       " \"move position 5 to position 6\"\n",
       " \"swap letter f with letter a\"\n",
       " \"move position 3 to position 1\"\n",
       " \"move position 2 to position 4\"\n",
       " \"reverse positions 1 through 2\"\n",
       " \"swap letter g with letter c\"\n",
       " \"rotate based on position of letter f\"\n",
       " \"rotate left 7 steps\"\n",
       " \"rotate based on position of letter e\"\n",
       " \"swap position 6 with position 1\""
      ]
     },
     "execution_count": 5,
     "metadata": {},
     "output_type": "execute_result"
    }
   ],
   "source": [
    "parsed_input = parse_input(input)"
   ]
  },
  {
   "cell_type": "code",
   "execution_count": 6,
   "metadata": {},
   "outputs": [
    {
     "data": {
      "text/plain": [
       "\"swap position 4 with position 0\\nswap letter d with letter b\\nreverse positions 0 through 4\\nrotate left 1 step\\nmove position 1 to position 4\\nmove position 3 to position 0\\nrotate based on position of letter b\\nrotate based on position of letter d\""
      ]
     },
     "execution_count": 6,
     "metadata": {},
     "output_type": "execute_result"
    }
   ],
   "source": [
    "sample = \"\"\"swap position 4 with position 0\n",
    "swap letter d with letter b\n",
    "reverse positions 0 through 4\n",
    "rotate left 1 step\n",
    "move position 1 to position 4\n",
    "move position 3 to position 0\n",
    "rotate based on position of letter b\n",
    "rotate based on position of letter d\"\"\""
   ]
  },
  {
   "cell_type": "code",
   "execution_count": 7,
   "metadata": {},
   "outputs": [
    {
     "data": {
      "text/plain": [
       "8-element Vector{SubString{String}}:\n",
       " \"swap position 4 with position 0\"\n",
       " \"swap letter d with letter b\"\n",
       " \"reverse positions 0 through 4\"\n",
       " \"rotate left 1 step\"\n",
       " \"move position 1 to position 4\"\n",
       " \"move position 3 to position 0\"\n",
       " \"rotate based on position of letter b\"\n",
       " \"rotate based on position of letter d\""
      ]
     },
     "execution_count": 7,
     "metadata": {},
     "output_type": "execute_result"
    }
   ],
   "source": [
    "parsed_sample = parse_input(sample)"
   ]
  },
  {
   "cell_type": "code",
   "execution_count": 8,
   "metadata": {},
   "outputs": [
    {
     "data": {
      "text/plain": [
       "part_one (generic function with 1 method)"
      ]
     },
     "execution_count": 8,
     "metadata": {},
     "output_type": "execute_result"
    }
   ],
   "source": [
    "function part_one(start, instructions)\n",
    "    str = collect(start)\n",
    "    n = length(str)\n",
    "    for line in instructions\n",
    "        if startswith(line, \"swap\")\n",
    "            if occursin(\"position\", line)\n",
    "                x, y = parse.(Int, match(r\"swap position (\\d+) with position (\\d+)\", line).captures) .+ 1\n",
    "                str[x], str[y] = str[y], str[x]\n",
    "            else\n",
    "                x, y = match(r\"swap letter (\\w) with letter (\\w)\", line).captures\n",
    "                replace!(str, x[1] => '#')\n",
    "                replace!(str, y[1] => x[1])\n",
    "                replace!(str, '#' => y[1])\n",
    "            end\n",
    "        elseif startswith(line, \"rotate left\")\n",
    "            steps = parse(Int, match(r\"rotate left (\\d+) step\", line).captures[1]) % n\n",
    "            str = vcat(str[steps+1:end], str[1:steps])\n",
    "        elseif startswith(line, \"rotate right\")\n",
    "            steps = parse(Int, match(r\"rotate right (\\d+) step\", line).captures[1]) % n\n",
    "            str = vcat(str[end-steps+1:end], str[1:end-steps])\n",
    "        elseif startswith(line, \"rotate based\")\n",
    "            x = match(r\"rotate based on position of letter (\\w)\", line).captures[1]\n",
    "            steps = findfirst(==(x[1]), str) - 1\n",
    "            steps += steps >= 4 ? 2 : 1\n",
    "            steps %= n\n",
    "            str = vcat(str[end-steps+1:end], str[1:end-steps])\n",
    "        elseif startswith(line, \"reverse\")\n",
    "            x, y = parse.(Int, match(r\"reverse positions (\\d+) through (\\d+)\", line).captures) .+ 1\n",
    "            str[x:y] .= reverse(str[x:y])\n",
    "        elseif startswith(line, \"move\")\n",
    "            x, y = parse.(Int, match(r\"move position (\\d+) to position (\\d+)\", line).captures) .+ 1\n",
    "            ch = str[x]\n",
    "            str = vcat(str[1:x-1], str[x+1:end])\n",
    "            str = vcat(str[1:y-1], [ch], str[y:end])\n",
    "        end\n",
    "    end\n",
    "\n",
    "    join(str)\n",
    "end"
   ]
  },
  {
   "cell_type": "code",
   "execution_count": 9,
   "metadata": {},
   "outputs": [
    {
     "data": {
      "text/plain": [
       "\"decab\""
      ]
     },
     "execution_count": 9,
     "metadata": {},
     "output_type": "execute_result"
    }
   ],
   "source": [
    "part_one(\"abcde\", parsed_sample)"
   ]
  },
  {
   "cell_type": "code",
   "execution_count": 10,
   "metadata": {},
   "outputs": [
    {
     "data": {
      "text/plain": [
       "\"dbfgaehc\""
      ]
     },
     "execution_count": 10,
     "metadata": {},
     "output_type": "execute_result"
    }
   ],
   "source": [
    "part_one_ans = part_one(\"abcdefgh\", parsed_input)"
   ]
  },
  {
   "cell_type": "code",
   "execution_count": 11,
   "metadata": {},
   "outputs": [
    {
     "data": {
      "text/plain": [
       "\"<!DOCTYPE html>\\n<html lang=\\\"en-us\\\">\\n<head>\\n<meta charset=\\\"utf-8\\\"/>\\n<title>Day 21 - Advent of Code 2016</title>\\n<!--[if lt IE 9]><script src=\\\"/static/html5.js\\\"></script><![endif]-->\\n<link href='//fonts.googleapis.com/css?family=Source+Code+Pro:300&subset=latin,latin-ext'\" ⋯ 3213 bytes ⋯ \"Name(o)[0];a.async=1;a.src=g;m.parentNode.insertBefore(a,m)\\n})(window,document,'script','//www.google-analytics.com/analytics.js','ga');\\nga('create', 'UA-69522494-1', 'auto');\\nga('set', 'anonymizeIp', true);\\nga('send', 'pageview');\\n</script>\\n<!-- /ga -->\\n</body>\\n</html>\""
      ]
     },
     "execution_count": 11,
     "metadata": {},
     "output_type": "execute_result"
    }
   ],
   "source": [
    "submit_answer(year, day, part_one_ans)"
   ]
  },
  {
   "cell_type": "code",
   "execution_count": 12,
   "metadata": {},
   "outputs": [
    {
     "data": {
      "text/plain": [
       "part_two (generic function with 1 method)"
      ]
     },
     "execution_count": 12,
     "metadata": {},
     "output_type": "execute_result"
    }
   ],
   "source": [
    "function part_two(encrypted, input)\n",
    "    for perm in permutations(1:8, 8)\n",
    "        str = join(map(x -> 'a' + x - 1, perm))\n",
    "        if part_one(str, input) == encrypted\n",
    "            return str\n",
    "        end\n",
    "    end\n",
    "end"
   ]
  },
  {
   "cell_type": "code",
   "execution_count": 13,
   "metadata": {},
   "outputs": [
    {
     "data": {
      "text/plain": [
       "\"aghfcdeb\""
      ]
     },
     "execution_count": 13,
     "metadata": {},
     "output_type": "execute_result"
    }
   ],
   "source": [
    "part_two_ans = part_two(\"fbgdceah\", parsed_input)"
   ]
  },
  {
   "cell_type": "code",
   "execution_count": 14,
   "metadata": {},
   "outputs": [
    {
     "data": {
      "text/plain": [
       "\"<!DOCTYPE html>\\n<html lang=\\\"en-us\\\">\\n<head>\\n<meta charset=\\\"utf-8\\\"/>\\n<title>Day 21 - Advent of Code 2016</title>\\n<!--[if lt IE 9]><script src=\\\"/static/html5.js\\\"></script><![endif]-->\\n<link href='//fonts.googleapis.com/css?family=Source+Code+Pro:300&subset=latin,latin-ext'\" ⋯ 3213 bytes ⋯ \"Name(o)[0];a.async=1;a.src=g;m.parentNode.insertBefore(a,m)\\n})(window,document,'script','//www.google-analytics.com/analytics.js','ga');\\nga('create', 'UA-69522494-1', 'auto');\\nga('set', 'anonymizeIp', true);\\nga('send', 'pageview');\\n</script>\\n<!-- /ga -->\\n</body>\\n</html>\""
      ]
     },
     "execution_count": 14,
     "metadata": {},
     "output_type": "execute_result"
    }
   ],
   "source": [
    "submit_answer(year, day, part_two_ans, 2)"
   ]
  }
 ],
 "metadata": {
  "kernelspec": {
   "display_name": "Julia 1.8.0",
   "language": "julia",
   "name": "julia-1.8"
  },
  "language_info": {
   "file_extension": ".jl",
   "mimetype": "application/julia",
   "name": "julia",
   "version": "1.8.3"
  },
  "orig_nbformat": 4,
  "vscode": {
   "interpreter": {
    "hash": "2decbbcdbe1b404b08c0c2ae8935a58886fd60ea7dad56cfc87e2a14f377e9ba"
   }
  }
 },
 "nbformat": 4,
 "nbformat_minor": 2
}
