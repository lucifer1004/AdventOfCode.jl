{
 "cells": [
  {
   "cell_type": "code",
   "execution_count": 1,
   "metadata": {},
   "outputs": [
    {
     "name": "stderr",
     "output_type": "stream",
     "text": [
      "\u001b[32m\u001b[1m  Activating\u001b[22m\u001b[39m project at `~/com.github/lucifer1004/AdventOfCode.jl`\n"
     ]
    }
   ],
   "source": [
    "import Pkg; Pkg.activate(\"..\")"
   ]
  },
  {
   "cell_type": "code",
   "execution_count": 2,
   "metadata": {},
   "outputs": [],
   "source": [
    "using AdventOfCode"
   ]
  },
  {
   "cell_type": "code",
   "execution_count": 3,
   "metadata": {},
   "outputs": [
    {
     "data": {
      "text/plain": [
       "11"
      ]
     },
     "execution_count": 3,
     "metadata": {},
     "output_type": "execute_result"
    }
   ],
   "source": [
    "year = 2016\n",
    "day = 11"
   ]
  },
  {
   "cell_type": "code",
   "execution_count": 4,
   "metadata": {},
   "outputs": [
    {
     "data": {
      "text/plain": [
       "\"The first floor contains a polonium generator, a thulium generator, a thulium-compatible microchip, a promethium generator, a ruthenium generator, a ruthenium-compatible microchip, a cobalt generator, and a cobalt-compatible microchip.\\nThe second floor contains a polonium-compatible microchip and a promethium-compatible microchip.\\nThe third floor contains nothing relevant.\\nThe fourth floor contains nothing relevant.\""
      ]
     },
     "execution_count": 4,
     "metadata": {},
     "output_type": "execute_result"
    }
   ],
   "source": [
    "input = get_input(year, day)"
   ]
  },
  {
   "cell_type": "code",
   "execution_count": 5,
   "metadata": {},
   "outputs": [
    {
     "data": {
      "text/plain": [
       "4-element Vector{SubString{String}}:\n",
       " \"The first floor contains a polo\" ⋯ 174 bytes ⋯ \"a cobalt-compatible microchip.\"\n",
       " \"The second floor contains a pol\" ⋯ 34 bytes ⋯ \"romethium-compatible microchip.\"\n",
       " \"The third floor contains nothing relevant.\"\n",
       " \"The fourth floor contains nothing relevant.\""
      ]
     },
     "execution_count": 5,
     "metadata": {},
     "output_type": "execute_result"
    }
   ],
   "source": [
    "parsed_input = parse_input(input)"
   ]
  },
  {
   "cell_type": "code",
   "execution_count": 6,
   "metadata": {},
   "outputs": [
    {
     "data": {
      "text/plain": [
       "\"The first floor contains a hydrogen-compatible microchip and a lithium-compatible microchip.\\nThe second floor contains a hydrogen generator.\\nThe third floor contains a lithium generator.\\nThe fourth floor contains nothing relevant.\""
      ]
     },
     "execution_count": 6,
     "metadata": {},
     "output_type": "execute_result"
    }
   ],
   "source": [
    "sample = \"\"\"The first floor contains a hydrogen-compatible microchip and a lithium-compatible microchip.\n",
    "The second floor contains a hydrogen generator.\n",
    "The third floor contains a lithium generator.\n",
    "The fourth floor contains nothing relevant.\"\"\""
   ]
  },
  {
   "cell_type": "code",
   "execution_count": 7,
   "metadata": {},
   "outputs": [
    {
     "data": {
      "text/plain": [
       "4-element Vector{SubString{String}}:\n",
       " \"The first floor contains a hydr\" ⋯ 30 bytes ⋯ \"a lithium-compatible microchip.\"\n",
       " \"The second floor contains a hydrogen generator.\"\n",
       " \"The third floor contains a lithium generator.\"\n",
       " \"The fourth floor contains nothing relevant.\""
      ]
     },
     "execution_count": 7,
     "metadata": {},
     "output_type": "execute_result"
    }
   ],
   "source": [
    "parsed_sample = parse_input(sample)"
   ]
  },
  {
   "cell_type": "code",
   "execution_count": 8,
   "metadata": {},
   "outputs": [
    {
     "data": {
      "text/plain": [
       "preprocess (generic function with 1 method)"
      ]
     },
     "execution_count": 8,
     "metadata": {},
     "output_type": "execute_result"
    }
   ],
   "source": [
    "function preprocess(input)\n",
    "    levels = [[] for _ in 1:4]\n",
    "    \n",
    "    for (i, line) in enumerate(input)\n",
    "        if occursin(\"nothing\", line)\n",
    "            continue\n",
    "        else\n",
    "            index = findfirst(\"contains\", line)\n",
    "            levels[i] = map(x -> x[3:end], split(line[index.stop+2:end], r\", and | and |, \"))\n",
    "        end\n",
    "    end\n",
    "\n",
    "    items = vcat(levels...)\n",
    "    sort!(items)\n",
    "    mapping = Dict{String, Int}()\n",
    "    for (i, item) in enumerate(items)\n",
    "        mapping[item] = i\n",
    "    end\n",
    "\n",
    "    initial_state = 0\n",
    "    for i in 1:4\n",
    "        for item in levels[i]\n",
    "            initial_state |= (i - 1) << (2 * mapping[item])\n",
    "        end\n",
    "    end\n",
    "\n",
    "    m = length(items)\n",
    "    return m, initial_state\n",
    "end"
   ]
  },
  {
   "cell_type": "code",
   "execution_count": 9,
   "metadata": {},
   "outputs": [
    {
     "data": {
      "text/plain": [
       "solve (generic function with 2 methods)"
      ]
     },
     "execution_count": 9,
     "metadata": {},
     "output_type": "execute_result"
    }
   ],
   "source": [
    "function solve(input, extra = 0)\n",
    "    m, initial_state = preprocess(input)\n",
    "    m += extra\n",
    "    target = 1 << (2 * (m + 1)) - 1\n",
    "    q = Queue{Tuple{Int, Int}}()\n",
    "    vis = Set{Int}()\n",
    "    enqueue!(q, (initial_state, 0))\n",
    "    push!(vis, initial_state)\n",
    "    memo = Dict{Int, Bool}()\n",
    "\n",
    "    function isvalid(state)\n",
    "        if haskey(memo, state)\n",
    "            return memo[state]\n",
    "        end\n",
    "        \n",
    "        for level in 0:3\n",
    "            items = [x for x in 1:m if state & (3 << (2 * x)) == level << (2 * x)]\n",
    "            generators = filter(isodd, items)\n",
    "            microchips = filter(iseven, items)\n",
    "            for chip in microchips\n",
    "                if chip - 1 ∉ generators && !isempty(generators)\n",
    "                    return memo[state] = false\n",
    "                end\n",
    "            end\n",
    "        end\n",
    "\n",
    "        return memo[state] = true\n",
    "    end\n",
    "\n",
    "    while !isempty(q)\n",
    "        state, steps = dequeue!(q)\n",
    "        if state == target\n",
    "            return steps\n",
    "        end\n",
    "        level = state & 3\n",
    "        items = [x for x in 1:m if state & (3 << (2 * x)) == level << (2 * x)]\n",
    "        for group in vcat(collect(combinations(items, 1)), collect(combinations(items, 2)))\n",
    "            for dl in -1:2:1\n",
    "                if level + dl < 0 || level + dl > 3\n",
    "                    continue\n",
    "                end\n",
    "\n",
    "                nxt_state = state ⊻ (level ⊻ (level + dl))\n",
    "                for item in group\n",
    "                    nxt_state ⊻= (level ⊻ (level + dl)) << (2 * item)\n",
    "                end\n",
    "\n",
    "                if nxt_state ∉ vis && isvalid(nxt_state)\n",
    "                    push!(vis, nxt_state)\n",
    "                    enqueue!(q, (nxt_state, steps + 1))\n",
    "                end\n",
    "            end\n",
    "        end\n",
    "    end\n",
    "end"
   ]
  },
  {
   "cell_type": "code",
   "execution_count": 10,
   "metadata": {},
   "outputs": [
    {
     "data": {
      "text/plain": [
       "part_one (generic function with 1 method)"
      ]
     },
     "execution_count": 10,
     "metadata": {},
     "output_type": "execute_result"
    }
   ],
   "source": [
    "part_one(input) = solve(input)"
   ]
  },
  {
   "cell_type": "code",
   "execution_count": 11,
   "metadata": {},
   "outputs": [
    {
     "data": {
      "text/plain": [
       "11"
      ]
     },
     "execution_count": 11,
     "metadata": {},
     "output_type": "execute_result"
    }
   ],
   "source": [
    "part_one(parsed_sample)"
   ]
  },
  {
   "cell_type": "code",
   "execution_count": 12,
   "metadata": {},
   "outputs": [
    {
     "data": {
      "text/plain": [
       "47"
      ]
     },
     "execution_count": 12,
     "metadata": {},
     "output_type": "execute_result"
    }
   ],
   "source": [
    "part_one_ans = part_one(parsed_input)"
   ]
  },
  {
   "cell_type": "code",
   "execution_count": 13,
   "metadata": {},
   "outputs": [
    {
     "data": {
      "text/plain": [
       "\"<!DOCTYPE html>\\n<html lang=\\\"en-us\\\">\\n<head>\\n<meta charset=\\\"utf-8\\\"/>\\n<title>Day 11 - Advent of Code 2016</title>\\n<!--[if lt IE 9]><script src=\\\"/static/html5.js\\\"></script><![endif]-->\\n<link href='//fonts.googleapis.com/css?family=Source+Code+Pro:300&subset=latin,latin-ext'\" ⋯ 3226 bytes ⋯ \"Name(o)[0];a.async=1;a.src=g;m.parentNode.insertBefore(a,m)\\n})(window,document,'script','//www.google-analytics.com/analytics.js','ga');\\nga('create', 'UA-69522494-1', 'auto');\\nga('set', 'anonymizeIp', true);\\nga('send', 'pageview');\\n</script>\\n<!-- /ga -->\\n</body>\\n</html>\""
      ]
     },
     "execution_count": 13,
     "metadata": {},
     "output_type": "execute_result"
    }
   ],
   "source": [
    "submit_answer(year, day, part_one_ans)"
   ]
  },
  {
   "cell_type": "code",
   "execution_count": 14,
   "metadata": {},
   "outputs": [
    {
     "data": {
      "text/plain": [
       "part_two (generic function with 1 method)"
      ]
     },
     "execution_count": 14,
     "metadata": {},
     "output_type": "execute_result"
    }
   ],
   "source": [
    "part_two(input) = solve(input, 4)"
   ]
  },
  {
   "cell_type": "code",
   "execution_count": 15,
   "metadata": {},
   "outputs": [],
   "source": [
    "part_two(parsed_sample)"
   ]
  },
  {
   "cell_type": "code",
   "execution_count": 16,
   "metadata": {},
   "outputs": [
    {
     "data": {
      "text/plain": [
       "71"
      ]
     },
     "execution_count": 16,
     "metadata": {},
     "output_type": "execute_result"
    }
   ],
   "source": [
    "part_two_ans = part_two(parsed_input)"
   ]
  },
  {
   "cell_type": "code",
   "execution_count": 17,
   "metadata": {},
   "outputs": [
    {
     "data": {
      "text/plain": [
       "\"<!DOCTYPE html>\\n<html lang=\\\"en-us\\\">\\n<head>\\n<meta charset=\\\"utf-8\\\"/>\\n<title>Day 11 - Advent of Code 2016</title>\\n<!--[if lt IE 9]><script src=\\\"/static/html5.js\\\"></script><![endif]-->\\n<link href='//fonts.googleapis.com/css?family=Source+Code+Pro:300&subset=latin,latin-ext'\" ⋯ 3186 bytes ⋯ \"Name(o)[0];a.async=1;a.src=g;m.parentNode.insertBefore(a,m)\\n})(window,document,'script','//www.google-analytics.com/analytics.js','ga');\\nga('create', 'UA-69522494-1', 'auto');\\nga('set', 'anonymizeIp', true);\\nga('send', 'pageview');\\n</script>\\n<!-- /ga -->\\n</body>\\n</html>\""
      ]
     },
     "execution_count": 17,
     "metadata": {},
     "output_type": "execute_result"
    }
   ],
   "source": [
    "submit_answer(year, day, part_two_ans, 2)"
   ]
  }
 ],
 "metadata": {
  "kernelspec": {
   "display_name": "Julia 1.8.0",
   "language": "julia",
   "name": "julia-1.8"
  },
  "language_info": {
   "file_extension": ".jl",
   "mimetype": "application/julia",
   "name": "julia",
   "version": "1.8.3"
  },
  "orig_nbformat": 4,
  "vscode": {
   "interpreter": {
    "hash": "2decbbcdbe1b404b08c0c2ae8935a58886fd60ea7dad56cfc87e2a14f377e9ba"
   }
  }
 },
 "nbformat": 4,
 "nbformat_minor": 2
}
