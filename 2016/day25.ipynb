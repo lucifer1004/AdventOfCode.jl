{
 "cells": [
  {
   "cell_type": "code",
   "execution_count": 1,
   "metadata": {},
   "outputs": [
    {
     "name": "stderr",
     "output_type": "stream",
     "text": [
      "\u001b[32m\u001b[1m  Activating\u001b[22m\u001b[39m project at `~/com.github/lucifer1004/AdventOfCode.jl`\n"
     ]
    }
   ],
   "source": [
    "import Pkg; Pkg.activate(\"..\")"
   ]
  },
  {
   "cell_type": "code",
   "execution_count": 2,
   "metadata": {},
   "outputs": [],
   "source": [
    "using AdventOfCode\n",
    "using AdventOfCode.AoC2016"
   ]
  },
  {
   "cell_type": "code",
   "execution_count": 3,
   "metadata": {},
   "outputs": [
    {
     "data": {
      "text/plain": [
       "25"
      ]
     },
     "execution_count": 3,
     "metadata": {},
     "output_type": "execute_result"
    }
   ],
   "source": [
    "year = 2016\n",
    "day = 25"
   ]
  },
  {
   "cell_type": "code",
   "execution_count": 4,
   "metadata": {},
   "outputs": [
    {
     "data": {
      "text/plain": [
       "\"cpy a d\\ncpy 7 c\\ncpy 362 b\\ninc d\\ndec b\\njnz b -2\\ndec c\\njnz c -5\\ncpy d a\\njnz 0 0\\ncpy a b\\ncpy 0 a\\ncpy 2 c\\njnz b 2\\njnz 1 6\\ndec b\\ndec c\\njnz c -4\\ninc a\\njnz 1 -7\\ncpy 2 b\\njnz c 2\\njnz 1 4\\ndec b\\ndec c\\njnz 1 -4\\njnz 0 0\\nout b\\njnz a -19\\njnz 1 -21\""
      ]
     },
     "execution_count": 4,
     "metadata": {},
     "output_type": "execute_result"
    }
   ],
   "source": [
    "input = get_input(year, day)"
   ]
  },
  {
   "cell_type": "code",
   "execution_count": 5,
   "metadata": {},
   "outputs": [
    {
     "data": {
      "text/plain": [
       "30-element Vector{SubString{String}}:\n",
       " \"cpy a d\"\n",
       " \"cpy 7 c\"\n",
       " \"cpy 362 b\"\n",
       " \"inc d\"\n",
       " \"dec b\"\n",
       " \"jnz b -2\"\n",
       " \"dec c\"\n",
       " \"jnz c -5\"\n",
       " \"cpy d a\"\n",
       " \"jnz 0 0\"\n",
       " \"cpy a b\"\n",
       " \"cpy 0 a\"\n",
       " \"cpy 2 c\"\n",
       " ⋮\n",
       " \"inc a\"\n",
       " \"jnz 1 -7\"\n",
       " \"cpy 2 b\"\n",
       " \"jnz c 2\"\n",
       " \"jnz 1 4\"\n",
       " \"dec b\"\n",
       " \"dec c\"\n",
       " \"jnz 1 -4\"\n",
       " \"jnz 0 0\"\n",
       " \"out b\"\n",
       " \"jnz a -19\"\n",
       " \"jnz 1 -21\""
      ]
     },
     "execution_count": 5,
     "metadata": {},
     "output_type": "execute_result"
    }
   ],
   "source": [
    "parsed_input = parse_input(input)"
   ]
  },
  {
   "cell_type": "code",
   "execution_count": 6,
   "metadata": {},
   "outputs": [
    {
     "data": {
      "text/plain": [
       "part_one (generic function with 1 method)"
      ]
     },
     "execution_count": 6,
     "metadata": {},
     "output_type": "execute_result"
    }
   ],
   "source": [
    "function part_one(input)\n",
    "    for i in 1:100000\n",
    "        registers, output = exec(input, Dict(\"a\" => i, \"b\" => 0, \"c\" => 0, \"d\" => 0))\n",
    "\n",
    "        if length(output) >= 10 && output[1:10] == [0, 1, 0, 1, 0, 1, 0, 1, 0, 1]\n",
    "            return i\n",
    "        end\n",
    "    end\n",
    "end"
   ]
  },
  {
   "cell_type": "code",
   "execution_count": 7,
   "metadata": {},
   "outputs": [
    {
     "data": {
      "text/plain": [
       "196"
      ]
     },
     "execution_count": 7,
     "metadata": {},
     "output_type": "execute_result"
    }
   ],
   "source": [
    "part_one_ans = part_one(parsed_input)"
   ]
  },
  {
   "cell_type": "code",
   "execution_count": 8,
   "metadata": {},
   "outputs": [
    {
     "data": {
      "text/plain": [
       "\"<!DOCTYPE html>\\n<html lang=\\\"en-us\\\">\\n<head>\\n<meta charset=\\\"utf-8\\\"/>\\n<title>Day 25 - Advent of Code 2016</title>\\n<!--[if lt IE 9]><script src=\\\"/static/html5.js\\\"></script><![endif]-->\\n<link href='//fonts.googleapis.com/css?family=Source+Code+Pro:300&subset=latin,latin-ext'\" ⋯ 3226 bytes ⋯ \"Name(o)[0];a.async=1;a.src=g;m.parentNode.insertBefore(a,m)\\n})(window,document,'script','//www.google-analytics.com/analytics.js','ga');\\nga('create', 'UA-69522494-1', 'auto');\\nga('set', 'anonymizeIp', true);\\nga('send', 'pageview');\\n</script>\\n<!-- /ga -->\\n</body>\\n</html>\""
      ]
     },
     "execution_count": 8,
     "metadata": {},
     "output_type": "execute_result"
    }
   ],
   "source": [
    "submit_answer(year, day, part_one_ans)"
   ]
  }
 ],
 "metadata": {
  "kernelspec": {
   "display_name": "Julia 1.8.0",
   "language": "julia",
   "name": "julia-1.8"
  },
  "language_info": {
   "file_extension": ".jl",
   "mimetype": "application/julia",
   "name": "julia",
   "version": "1.8.3"
  },
  "orig_nbformat": 4,
  "vscode": {
   "interpreter": {
    "hash": "2decbbcdbe1b404b08c0c2ae8935a58886fd60ea7dad56cfc87e2a14f377e9ba"
   }
  }
 },
 "nbformat": 4,
 "nbformat_minor": 2
}
