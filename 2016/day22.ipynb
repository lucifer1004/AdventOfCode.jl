{
 "cells": [
  {
   "cell_type": "code",
   "execution_count": 1,
   "metadata": {},
   "outputs": [
    {
     "name": "stderr",
     "output_type": "stream",
     "text": [
      "\u001b[32m\u001b[1m  Activating\u001b[22m\u001b[39m project at `~/com.github/lucifer1004/AdventOfCode.jl`\n"
     ]
    }
   ],
   "source": [
    "import Pkg; Pkg.activate(\"..\")"
   ]
  },
  {
   "cell_type": "code",
   "execution_count": 2,
   "metadata": {},
   "outputs": [],
   "source": [
    "using AdventOfCode"
   ]
  },
  {
   "cell_type": "code",
   "execution_count": 3,
   "metadata": {},
   "outputs": [
    {
     "data": {
      "text/plain": [
       "22"
      ]
     },
     "execution_count": 3,
     "metadata": {},
     "output_type": "execute_result"
    }
   ],
   "source": [
    "year = 2016\n",
    "day = 22"
   ]
  },
  {
   "cell_type": "code",
   "execution_count": 4,
   "metadata": {},
   "outputs": [
    {
     "data": {
      "text/plain": [
       "\"root@ebhq-gridcenter# df -h\\nFilesystem              Size  Used  Avail  Use%\\n/dev/grid/node-x0-y0     87T   71T    16T   81%\\n/dev/grid/node-x0-y1     93T   72T    21T   77%\\n/dev/grid/node-x0-y2     87T   67T    20T   77%\\n/dev/grid/node-x0-y3     89T   65T    24T   73%\\n/d\" ⋯ 43936 bytes ⋯ \"-y19   89T   69T    20T   77%\\n/dev/grid/node-x36-y20   88T   64T    24T   72%\\n/dev/grid/node-x36-y21   90T   66T    24T   73%\\n/dev/grid/node-x36-y22   93T   70T    23T   75%\\n/dev/grid/node-x36-y23   85T   71T    14T   83%\\n/dev/grid/node-x36-y24   89T   64T    25T   71%\""
      ]
     },
     "execution_count": 4,
     "metadata": {},
     "output_type": "execute_result"
    }
   ],
   "source": [
    "input = get_input(year, day)"
   ]
  },
  {
   "cell_type": "code",
   "execution_count": 5,
   "metadata": {},
   "outputs": [
    {
     "data": {
      "text/plain": [
       "927-element Vector{SubString{String}}:\n",
       " \"root@ebhq-gridcenter# df -h\"\n",
       " \"Filesystem              Size  Used  Avail  Use%\"\n",
       " \"/dev/grid/node-x0-y0     87T   71T    16T   81%\"\n",
       " \"/dev/grid/node-x0-y1     93T   72T    21T   77%\"\n",
       " \"/dev/grid/node-x0-y2     87T   67T    20T   77%\"\n",
       " \"/dev/grid/node-x0-y3     89T   65T    24T   73%\"\n",
       " \"/dev/grid/node-x0-y4     93T   67T    26T   72%\"\n",
       " \"/dev/grid/node-x0-y5     94T   65T    29T   69%\"\n",
       " \"/dev/grid/node-x0-y6     85T   64T    21T   75%\"\n",
       " \"/dev/grid/node-x0-y7     85T   69T    16T   81%\"\n",
       " \"/dev/grid/node-x0-y8     85T   71T    14T   83%\"\n",
       " \"/dev/grid/node-x0-y9     91T   68T    23T   74%\"\n",
       " \"/dev/grid/node-x0-y10    88T   65T    23T   73%\"\n",
       " ⋮\n",
       " \"/dev/grid/node-x36-y13   89T   67T    22T   75%\"\n",
       " \"/dev/grid/node-x36-y14   94T   68T    26T   72%\"\n",
       " \"/dev/grid/node-x36-y15   91T   72T    19T   79%\"\n",
       " \"/dev/grid/node-x36-y16   87T   66T    21T   75%\"\n",
       " \"/dev/grid/node-x36-y17   85T   65T    20T   76%\"\n",
       " \"/dev/grid/node-x36-y18   90T   66T    24T   73%\"\n",
       " \"/dev/grid/node-x36-y19   89T   69T    20T   77%\"\n",
       " \"/dev/grid/node-x36-y20   88T   64T    24T   72%\"\n",
       " \"/dev/grid/node-x36-y21   90T   66T    24T   73%\"\n",
       " \"/dev/grid/node-x36-y22   93T   70T    23T   75%\"\n",
       " \"/dev/grid/node-x36-y23   85T   71T    14T   83%\"\n",
       " \"/dev/grid/node-x36-y24   89T   64T    25T   71%\""
      ]
     },
     "execution_count": 5,
     "metadata": {},
     "output_type": "execute_result"
    }
   ],
   "source": [
    "parsed_input = parse_input(input)"
   ]
  },
  {
   "cell_type": "code",
   "execution_count": 6,
   "metadata": {},
   "outputs": [],
   "source": [
    "mutable struct Node\n",
    "    x::Int\n",
    "    y::Int\n",
    "    size::Int\n",
    "    used::Int\n",
    "end"
   ]
  },
  {
   "cell_type": "code",
   "execution_count": 7,
   "metadata": {},
   "outputs": [
    {
     "data": {
      "text/plain": [
       "Node"
      ]
     },
     "execution_count": 7,
     "metadata": {},
     "output_type": "execute_result"
    }
   ],
   "source": [
    "function Node(s)\n",
    "    x, y, size, used = parse.(Int, map(x -> x.match, eachmatch(r\"\\d+\", s))[1:4])\n",
    "    return Node(x, y, size, used)\n",
    "end"
   ]
  },
  {
   "cell_type": "code",
   "execution_count": 8,
   "metadata": {},
   "outputs": [
    {
     "data": {
      "text/plain": [
       "part_one (generic function with 1 method)"
      ]
     },
     "execution_count": 8,
     "metadata": {},
     "output_type": "execute_result"
    }
   ],
   "source": [
    "function part_one(input)\n",
    "    nodes = Node.(input[3:end])\n",
    "    n = length(nodes)\n",
    "    ans = 0\n",
    "    for (i, j) in permutations(1:n, 2)\n",
    "        if nodes[i].used > 0 && nodes[i].used <= nodes[j].size - nodes[j].used\n",
    "            ans += 1\n",
    "        end\n",
    "    end\n",
    "\n",
    "    return ans\n",
    "end"
   ]
  },
  {
   "cell_type": "code",
   "execution_count": 9,
   "metadata": {},
   "outputs": [
    {
     "data": {
      "text/plain": [
       "892"
      ]
     },
     "execution_count": 9,
     "metadata": {},
     "output_type": "execute_result"
    }
   ],
   "source": [
    "part_one_ans = part_one(parsed_input)"
   ]
  },
  {
   "cell_type": "code",
   "execution_count": 10,
   "metadata": {},
   "outputs": [
    {
     "data": {
      "text/plain": [
       "\"<!DOCTYPE html>\\n<html lang=\\\"en-us\\\">\\n<head>\\n<meta charset=\\\"utf-8\\\"/>\\n<title>Day 22 - Advent of Code 2016</title>\\n<!--[if lt IE 9]><script src=\\\"/static/html5.js\\\"></script><![endif]-->\\n<link href='//fonts.googleapis.com/css?family=Source+Code+Pro:300&subset=latin,latin-ext'\" ⋯ 3166 bytes ⋯ \"Name(o)[0];a.async=1;a.src=g;m.parentNode.insertBefore(a,m)\\n})(window,document,'script','//www.google-analytics.com/analytics.js','ga');\\nga('create', 'UA-69522494-1', 'auto');\\nga('set', 'anonymizeIp', true);\\nga('send', 'pageview');\\n</script>\\n<!-- /ga -->\\n</body>\\n</html>\""
      ]
     },
     "execution_count": 10,
     "metadata": {},
     "output_type": "execute_result"
    }
   ],
   "source": [
    "submit_answer(year, day, part_one_ans)"
   ]
  },
  {
   "cell_type": "code",
   "execution_count": 11,
   "metadata": {},
   "outputs": [
    {
     "data": {
      "text/plain": [
       "part_two (generic function with 1 method)"
      ]
     },
     "execution_count": 11,
     "metadata": {},
     "output_type": "execute_result"
    }
   ],
   "source": [
    "function part_two(input)\n",
    "    nodes = Node.(input[3:end])\n",
    "    n = length(nodes)\n",
    "    xmax = maximum(node.x for node in nodes)\n",
    "    ymax = maximum(node.y for node in nodes)\n",
    "\n",
    "    nodes = OffsetArray(reshape(nodes, (0:ymax, 0:xmax)), 0:ymax, 0:xmax)\n",
    "\n",
    "    # # Using the following code to print the map and find the wall\n",
    "    # for i in 0:xmax\n",
    "    #     for j in 0:ymax\n",
    "    #         print(\"$(nodes[j, i].used)/$(nodes[j, i].size) \")\n",
    "    #     end\n",
    "    #     print(\"\\n\")\n",
    "    # end\n",
    "\n",
    "    tx, ty = 0, 0\n",
    "    for node in nodes\n",
    "        if node.size >= 2 * node.used\n",
    "            tx = node.x\n",
    "            ty = node.y\n",
    "        end\n",
    "    end\n",
    "\n",
    "    # (0, 0) -- (tx, ty) -- (xmax, 0)\n",
    "    # The `6` here is hard-coded via manual observation from the printed map\n",
    "    # We need extra moves to bypass the wall\n",
    "    return abs(tx - xmax) + abs(ty) + 5 * (xmax - 1) + 6\n",
    "end"
   ]
  },
  {
   "cell_type": "code",
   "execution_count": 12,
   "metadata": {},
   "outputs": [
    {
     "data": {
      "text/plain": [
       "227"
      ]
     },
     "execution_count": 12,
     "metadata": {},
     "output_type": "execute_result"
    }
   ],
   "source": [
    "part_two_ans = part_two(parsed_input)"
   ]
  },
  {
   "cell_type": "code",
   "execution_count": 13,
   "metadata": {},
   "outputs": [
    {
     "data": {
      "text/plain": [
       "\"<!DOCTYPE html>\\n<html lang=\\\"en-us\\\">\\n<head>\\n<meta charset=\\\"utf-8\\\"/>\\n<title>Day 22 - Advent of Code 2016</title>\\n<!--[if lt IE 9]><script src=\\\"/static/html5.js\\\"></script><![endif]-->\\n<link href='//fonts.googleapis.com/css?family=Source+Code+Pro:300&subset=latin,latin-ext'\" ⋯ 3229 bytes ⋯ \"Name(o)[0];a.async=1;a.src=g;m.parentNode.insertBefore(a,m)\\n})(window,document,'script','//www.google-analytics.com/analytics.js','ga');\\nga('create', 'UA-69522494-1', 'auto');\\nga('set', 'anonymizeIp', true);\\nga('send', 'pageview');\\n</script>\\n<!-- /ga -->\\n</body>\\n</html>\""
      ]
     },
     "execution_count": 13,
     "metadata": {},
     "output_type": "execute_result"
    }
   ],
   "source": [
    "submit_answer(year, day, part_two_ans, 2)"
   ]
  }
 ],
 "metadata": {
  "kernelspec": {
   "display_name": "Julia 1.8.0",
   "language": "julia",
   "name": "julia-1.8"
  },
  "language_info": {
   "file_extension": ".jl",
   "mimetype": "application/julia",
   "name": "julia",
   "version": "1.8.3"
  },
  "orig_nbformat": 4,
  "vscode": {
   "interpreter": {
    "hash": "2decbbcdbe1b404b08c0c2ae8935a58886fd60ea7dad56cfc87e2a14f377e9ba"
   }
  }
 },
 "nbformat": 4,
 "nbformat_minor": 2
}
