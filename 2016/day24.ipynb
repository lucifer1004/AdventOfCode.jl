{
 "cells": [
  {
   "cell_type": "code",
   "execution_count": 1,
   "metadata": {},
   "outputs": [
    {
     "name": "stderr",
     "output_type": "stream",
     "text": [
      "\u001b[32m\u001b[1m  Activating\u001b[22m\u001b[39m project at `~/com.github/lucifer1004/AdventOfCode.jl`\n"
     ]
    }
   ],
   "source": [
    "import Pkg; Pkg.activate(\"..\")"
   ]
  },
  {
   "cell_type": "code",
   "execution_count": 2,
   "metadata": {},
   "outputs": [],
   "source": [
    "using AdventOfCode"
   ]
  },
  {
   "cell_type": "code",
   "execution_count": 3,
   "metadata": {},
   "outputs": [
    {
     "data": {
      "text/plain": [
       "24"
      ]
     },
     "execution_count": 3,
     "metadata": {},
     "output_type": "execute_result"
    }
   ],
   "source": [
    "year = 2016\n",
    "day = 24"
   ]
  },
  {
   "cell_type": "code",
   "execution_count": 4,
   "metadata": {},
   "outputs": [
    {
     "data": {
      "text/plain": [
       "\"#####################################################################################################################################################################################\\n#.....#.........#.#...#.....#.............#.......#.....#.....#...........#...#.........\" ⋯ 6193 bytes ⋯ \"...#.#.#.#...........#...#.....#.............#...............#.....#.........#...#.....#\\n#####################################################################################################################################################################################\""
      ]
     },
     "execution_count": 4,
     "metadata": {},
     "output_type": "execute_result"
    }
   ],
   "source": [
    "input = get_input(year, day)"
   ]
  },
  {
   "cell_type": "code",
   "execution_count": 5,
   "metadata": {},
   "outputs": [
    {
     "data": {
      "text/plain": [
       "37-element Vector{SubString{String}}:\n",
       " \"###############################\" ⋯ 120 bytes ⋯ \"##############################\"\n",
       " \"#.....#.........#.#...#.....#..\" ⋯ 120 bytes ⋯ \".#...#.....#...#.#.#.....#...#\"\n",
       " \"#.###.#.#.###.#.#.#.#.#.#.#.#.#\" ⋯ 120 bytes ⋯ \"####.#.###.#.#.#.#.###.#.###.#\"\n",
       " \"#.......#.#...#...#.#...#...#.#\" ⋯ 120 bytes ⋯ \".#.#...#...#.....#.......#...#\"\n",
       " \"#.#.#.###.#.#.###.#.#.#.#.###.#\" ⋯ 120 bytes ⋯ \".#.#.#.#.#####.#.#.#.#.#.#####\"\n",
       " \"#..1#.......#...........#...#..\" ⋯ 120 bytes ⋯ \"...#.#.....#...#...#..2#.....#\"\n",
       " \"#.#####.###.#.#.#.###.###.###.#\" ⋯ 120 bytes ⋯ \"##.#.#####.#.#.#.###.#.#.#.#.#\"\n",
       " \"#...#.............#.#...#.#...#\" ⋯ 120 bytes ⋯ \".#.........#.#.#.#.........#.#\"\n",
       " \"#.#.#.###.###.#.#.#.#.#.#.#.#.#\" ⋯ 120 bytes ⋯ \".#.#######.#.#.#.#.###.#.#.#.#\"\n",
       " \"#.......#...#.....#.....#......\" ⋯ 120 bytes ⋯ \"...#...........#...#.......#.#\"\n",
       " \"#####.###.#.###########.###.#.#\" ⋯ 120 bytes ⋯ \"####.###.#####.###.#.#.#.#.#.#\"\n",
       " \"#...#...#.......#.....#.....#..\" ⋯ 120 bytes ⋯ \".#...#.#...#...#.....#.....#.#\"\n",
       " \"#.#.###.#.###.#.#####.#.#.#.#.#\" ⋯ 120 bytes ⋯ \".#.#.#.#.#.#.###.#.#.###.#.#.#\"\n",
       " ⋮\n",
       " \"#...#...#.....#.#.#...#...#...#\" ⋯ 120 bytes ⋯ \".....#...#...#.#...#.#...#...#\"\n",
       " \"#.#.#.#.#.#####.#.#.#.#.#.#.###\" ⋯ 120 bytes ⋯ \"##.#.#.###.#.#.#.###.###.#.#.#\"\n",
       " \"#...#.#.#.......#.#.#...#......\" ⋯ 120 bytes ⋯ \".#.....#.#.#...#...#.#...#...#\"\n",
       " \"###.#.#.#.###.###.###.#.#####.#\" ⋯ 120 bytes ⋯ \".#.#.#.#.#.#.#.###.#.###.###.#\"\n",
       " \"#...#...#.#...#...#.#.#.......#\" ⋯ 120 bytes ⋯ \"...#.....#.#....5#.....#.....#\"\n",
       " \"#.#.#.#####.#.#.#.#.###.#.#.#.#\" ⋯ 120 bytes ⋯ \"##.###.###.#.#.#.###.#.#.#.#.#\"\n",
       " \"#.........#.#...#.....#...#.#.#\" ⋯ 120 bytes ⋯ \".#.#...#...#.#.......#...#...#\"\n",
       " \"#.#.#.#.#.#.###.#####.###.#.#.#\" ⋯ 120 bytes ⋯ \".#.#.#.#.#.#.#.#.#.#.#.#######\"\n",
       " \"#4#.#.....#.#.....#...#...#...#\" ⋯ 120 bytes ⋯ \".#.......#.#.#.#.#.........#.#\"\n",
       " \"#####.#.###.###.###.#####.###.#\" ⋯ 120 bytes ⋯ \".#.#.#####.#.###.#.#####.###.#\"\n",
       " \"#.......#...#...#...#.#.#......\" ⋯ 120 bytes ⋯ \"...#.....#.........#...#.....#\"\n",
       " \"###############################\" ⋯ 120 bytes ⋯ \"##############################\""
      ]
     },
     "execution_count": 5,
     "metadata": {},
     "output_type": "execute_result"
    }
   ],
   "source": [
    "parsed_input = parse_input(input)"
   ]
  },
  {
   "cell_type": "code",
   "execution_count": 6,
   "metadata": {},
   "outputs": [
    {
     "data": {
      "text/plain": [
       "\"###########\\n#0.1.....2#\\n#.#######.#\\n#4.......3#\\n###########\""
      ]
     },
     "execution_count": 6,
     "metadata": {},
     "output_type": "execute_result"
    }
   ],
   "source": [
    "sample = \"\"\"###########\n",
    "#0.1.....2#\n",
    "#.#######.#\n",
    "#4.......3#\n",
    "###########\"\"\""
   ]
  },
  {
   "cell_type": "code",
   "execution_count": 7,
   "metadata": {},
   "outputs": [
    {
     "data": {
      "text/plain": [
       "5-element Vector{SubString{String}}:\n",
       " \"###########\"\n",
       " \"#0.1.....2#\"\n",
       " \"#.#######.#\"\n",
       " \"#4.......3#\"\n",
       " \"###########\""
      ]
     },
     "execution_count": 7,
     "metadata": {},
     "output_type": "execute_result"
    }
   ],
   "source": [
    "parsed_sample = parse_input(sample)"
   ]
  },
  {
   "cell_type": "code",
   "execution_count": 8,
   "metadata": {},
   "outputs": [
    {
     "data": {
      "text/plain": [
       "preprocess (generic function with 1 method)"
      ]
     },
     "execution_count": 8,
     "metadata": {},
     "output_type": "execute_result"
    }
   ],
   "source": [
    "function preprocess(input)\n",
    "    n = length(input)\n",
    "    m = length(input[1])\n",
    "    kx = zeros(Int, 11)\n",
    "    ky = zeros(Int, 11)\n",
    "    for i in 1:n\n",
    "        for j in 1:m\n",
    "            if '0' <= input[i][j] <= '9'\n",
    "                k = input[i][j] - '0' + 1\n",
    "                kx[k] = i\n",
    "                ky[k] = j\n",
    "            end\n",
    "        end\n",
    "    end\n",
    "\n",
    "    pts = findfirst(iszero, kx) - 1\n",
    "    dist = zeros(Int, pts, pts)\n",
    "    for i in 1:pts\n",
    "        q = Queue{Tuple{Int, Int, Int}}()\n",
    "        enqueue!(q, (kx[i], ky[i], 0))\n",
    "        vis = Set{Tuple{Int, Int}}()\n",
    "        push!(vis, (kx[i], ky[i]))\n",
    "\n",
    "        while !isempty(q)\n",
    "            x, y, steps = dequeue!(q)\n",
    "            if '0' <= input[x][y] <= '9'\n",
    "                k = input[x][y] - '0' + 1\n",
    "                if k != i\n",
    "                    dist[i, k] = steps\n",
    "                end\n",
    "            end\n",
    "            for (dx, dy) in ((-1, 0), (1, 0), (0, -1), (0, 1))\n",
    "                nx, ny = x + dx, y + dy\n",
    "                if nx ∈ 1:n && ny ∈ 1:m && input[nx][ny] != '#' && (nx, ny) ∉ vis\n",
    "                    push!(vis, (nx, ny))\n",
    "                    enqueue!(q, (nx, ny, steps + 1))\n",
    "                end\n",
    "            end\n",
    "        end\n",
    "    end\n",
    "\n",
    "    return dist\n",
    "end"
   ]
  },
  {
   "cell_type": "code",
   "execution_count": 9,
   "metadata": {},
   "outputs": [
    {
     "data": {
      "text/plain": [
       "part_one (generic function with 1 method)"
      ]
     },
     "execution_count": 9,
     "metadata": {},
     "output_type": "execute_result"
    }
   ],
   "source": [
    "function part_one(input)\n",
    "    dist = preprocess(input)\n",
    "    n = size(dist)[1]\n",
    "    return minimum(sum(dist[i, j] for (i, j) in zip(vcat([1], perm), perm)) for perm in permutations(2:n, n - 1))\n",
    "end"
   ]
  },
  {
   "cell_type": "code",
   "execution_count": 10,
   "metadata": {},
   "outputs": [
    {
     "data": {
      "text/plain": [
       "14"
      ]
     },
     "execution_count": 10,
     "metadata": {},
     "output_type": "execute_result"
    }
   ],
   "source": [
    "part_one(parsed_sample)"
   ]
  },
  {
   "cell_type": "code",
   "execution_count": 11,
   "metadata": {},
   "outputs": [
    {
     "data": {
      "text/plain": [
       "470"
      ]
     },
     "execution_count": 11,
     "metadata": {},
     "output_type": "execute_result"
    }
   ],
   "source": [
    "part_one_ans = part_one(parsed_input)"
   ]
  },
  {
   "cell_type": "code",
   "execution_count": 12,
   "metadata": {},
   "outputs": [
    {
     "data": {
      "text/plain": [
       "\"<!DOCTYPE html>\\n<html lang=\\\"en-us\\\">\\n<head>\\n<meta charset=\\\"utf-8\\\"/>\\n<title>Day 24 - Advent of Code 2016</title>\\n<!--[if lt IE 9]><script src=\\\"/static/html5.js\\\"></script><![endif]-->\\n<link href='//fonts.googleapis.com/css?family=Source+Code+Pro:300&subset=latin,latin-ext'\" ⋯ 3189 bytes ⋯ \"Name(o)[0];a.async=1;a.src=g;m.parentNode.insertBefore(a,m)\\n})(window,document,'script','//www.google-analytics.com/analytics.js','ga');\\nga('create', 'UA-69522494-1', 'auto');\\nga('set', 'anonymizeIp', true);\\nga('send', 'pageview');\\n</script>\\n<!-- /ga -->\\n</body>\\n</html>\""
      ]
     },
     "execution_count": 12,
     "metadata": {},
     "output_type": "execute_result"
    }
   ],
   "source": [
    "submit_answer(year, day, part_one_ans)"
   ]
  },
  {
   "cell_type": "code",
   "execution_count": 13,
   "metadata": {},
   "outputs": [
    {
     "data": {
      "text/plain": [
       "part_two (generic function with 1 method)"
      ]
     },
     "execution_count": 13,
     "metadata": {},
     "output_type": "execute_result"
    }
   ],
   "source": [
    "function part_two(input)\n",
    "    dist = preprocess(input)\n",
    "    n = size(dist)[1]\n",
    "    return minimum(sum(dist[i, j] for (i, j) in zip(vcat([1], perm), vcat(perm, [1]))) for perm in permutations(2:n, n - 1))\n",
    "end"
   ]
  },
  {
   "cell_type": "code",
   "execution_count": 14,
   "metadata": {},
   "outputs": [
    {
     "data": {
      "text/plain": [
       "20"
      ]
     },
     "execution_count": 14,
     "metadata": {},
     "output_type": "execute_result"
    }
   ],
   "source": [
    "part_two(parsed_sample)"
   ]
  },
  {
   "cell_type": "code",
   "execution_count": 15,
   "metadata": {},
   "outputs": [
    {
     "data": {
      "text/plain": [
       "720"
      ]
     },
     "execution_count": 15,
     "metadata": {},
     "output_type": "execute_result"
    }
   ],
   "source": [
    "part_two_ans = part_two(parsed_input)"
   ]
  },
  {
   "cell_type": "code",
   "execution_count": 16,
   "metadata": {},
   "outputs": [
    {
     "data": {
      "text/plain": [
       "\"<!DOCTYPE html>\\n<html lang=\\\"en-us\\\">\\n<head>\\n<meta charset=\\\"utf-8\\\"/>\\n<title>Day 24 - Advent of Code 2016</title>\\n<!--[if lt IE 9]><script src=\\\"/static/html5.js\\\"></script><![endif]-->\\n<link href='//fonts.googleapis.com/css?family=Source+Code+Pro:300&subset=latin,latin-ext'\" ⋯ 3181 bytes ⋯ \"Name(o)[0];a.async=1;a.src=g;m.parentNode.insertBefore(a,m)\\n})(window,document,'script','//www.google-analytics.com/analytics.js','ga');\\nga('create', 'UA-69522494-1', 'auto');\\nga('set', 'anonymizeIp', true);\\nga('send', 'pageview');\\n</script>\\n<!-- /ga -->\\n</body>\\n</html>\""
      ]
     },
     "execution_count": 16,
     "metadata": {},
     "output_type": "execute_result"
    }
   ],
   "source": [
    "submit_answer(year, day, part_two_ans, 2)"
   ]
  }
 ],
 "metadata": {
  "kernelspec": {
   "display_name": "Julia 1.8.0",
   "language": "julia",
   "name": "julia-1.8"
  },
  "language_info": {
   "file_extension": ".jl",
   "mimetype": "application/julia",
   "name": "julia",
   "version": "1.8.3"
  },
  "orig_nbformat": 4,
  "vscode": {
   "interpreter": {
    "hash": "2decbbcdbe1b404b08c0c2ae8935a58886fd60ea7dad56cfc87e2a14f377e9ba"
   }
  }
 },
 "nbformat": 4,
 "nbformat_minor": 2
}
