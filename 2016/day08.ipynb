{
 "cells": [
  {
   "cell_type": "code",
   "execution_count": 1,
   "metadata": {},
   "outputs": [
    {
     "name": "stderr",
     "output_type": "stream",
     "text": [
      "\u001b[32m\u001b[1m  Activating\u001b[22m\u001b[39m project at `~/com.github/lucifer1004/AdventOfCode.jl`\n"
     ]
    }
   ],
   "source": [
    "import Pkg; Pkg.activate(\"..\")"
   ]
  },
  {
   "cell_type": "code",
   "execution_count": 2,
   "metadata": {},
   "outputs": [],
   "source": [
    "using AdventOfCode"
   ]
  },
  {
   "cell_type": "code",
   "execution_count": 3,
   "metadata": {},
   "outputs": [
    {
     "data": {
      "text/plain": [
       "8"
      ]
     },
     "execution_count": 3,
     "metadata": {},
     "output_type": "execute_result"
    }
   ],
   "source": [
    "year = 2016\n",
    "day = 8"
   ]
  },
  {
   "cell_type": "code",
   "execution_count": 4,
   "metadata": {},
   "outputs": [
    {
     "data": {
      "text/plain": [
       "\"rect 1x1\\nrotate row y=0 by 7\\nrect 1x1\\nrotate row y=0 by 5\\nrect 1x1\\nrotate row y=0 by 5\\nrect 1x1\\nrotate row y=0 by 2\\nrect 1x1\\nrotate row y=0 by 3\\nrect 1x1\\nrotate row y=0 by 5\\nrect 1x1\\nrotate row y=0 by 3\\nrect 1x1\\nrotate row y=0 by 2\\nrect 1x1\\nrotate row y=0 by 3\\nrect 2x1\\n\" ⋯ 3421 bytes ⋯ \"umn x=20 by 1\\nrotate column x=18 by 1\\nrotate column x=17 by 3\\nrotate column x=13 by 1\\nrotate column x=10 by 1\\nrotate column x=8 by 1\\nrotate column x=7 by 5\\nrotate column x=6 by 5\\nrotate column x=5 by 1\\nrotate column x=3 by 5\\nrotate column x=2 by 5\\nrotate column x=1 by 5\""
      ]
     },
     "execution_count": 4,
     "metadata": {},
     "output_type": "execute_result"
    }
   ],
   "source": [
    "input = get_input(year, day)"
   ]
  },
  {
   "cell_type": "code",
   "execution_count": 5,
   "metadata": {},
   "outputs": [
    {
     "data": {
      "text/plain": [
       "194-element Vector{SubString{String}}:\n",
       " \"rect 1x1\"\n",
       " \"rotate row y=0 by 7\"\n",
       " \"rect 1x1\"\n",
       " \"rotate row y=0 by 5\"\n",
       " \"rect 1x1\"\n",
       " \"rotate row y=0 by 5\"\n",
       " \"rect 1x1\"\n",
       " \"rotate row y=0 by 2\"\n",
       " \"rect 1x1\"\n",
       " \"rotate row y=0 by 3\"\n",
       " \"rect 1x1\"\n",
       " \"rotate row y=0 by 5\"\n",
       " \"rect 1x1\"\n",
       " ⋮\n",
       " \"rotate column x=20 by 1\"\n",
       " \"rotate column x=18 by 1\"\n",
       " \"rotate column x=17 by 3\"\n",
       " \"rotate column x=13 by 1\"\n",
       " \"rotate column x=10 by 1\"\n",
       " \"rotate column x=8 by 1\"\n",
       " \"rotate column x=7 by 5\"\n",
       " \"rotate column x=6 by 5\"\n",
       " \"rotate column x=5 by 1\"\n",
       " \"rotate column x=3 by 5\"\n",
       " \"rotate column x=2 by 5\"\n",
       " \"rotate column x=1 by 5\""
      ]
     },
     "execution_count": 5,
     "metadata": {},
     "output_type": "execute_result"
    }
   ],
   "source": [
    "parsed_input = parse_input(input)"
   ]
  },
  {
   "cell_type": "code",
   "execution_count": 6,
   "metadata": {},
   "outputs": [
    {
     "data": {
      "text/plain": [
       "solve (generic function with 1 method)"
      ]
     },
     "execution_count": 6,
     "metadata": {},
     "output_type": "execute_result"
    }
   ],
   "source": [
    "function solve(input)\n",
    "    state = zeros(Int8, 6, 50)\n",
    "\n",
    "    for line in input\n",
    "        if occursin(\"rect\", line)\n",
    "            A, B = parse.(Int, match(r\"rect (\\d+)x(\\d+)\", line).captures)\n",
    "            state[1:B, 1:A] .= 1\n",
    "        elseif occursin(\"row\", line)\n",
    "            A, B = parse.(Int, match(r\"rotate row y=(\\d+) by (\\d+)\", line).captures)\n",
    "            B %= 50\n",
    "            if B != 0\n",
    "                state[A + 1, :] .= vcat(state[A + 1, end - B + 1:end], state[A + 1, 1:end - B])\n",
    "            end\n",
    "        elseif occursin(\"column\", line)\n",
    "            A, B = parse.(Int, match(r\"rotate column x=(\\d+) by (\\d+)\", line).captures)\n",
    "            B %= 6\n",
    "            if B != 0\n",
    "                state[:, A + 1] .= vcat(state[end - B + 1:end, A + 1], state[1:end - B, A + 1])\n",
    "            end\n",
    "        end\n",
    "    end\n",
    "\n",
    "    return state\n",
    "end"
   ]
  },
  {
   "cell_type": "code",
   "execution_count": 7,
   "metadata": {},
   "outputs": [
    {
     "data": {
      "text/plain": [
       "part_one (generic function with 1 method)"
      ]
     },
     "execution_count": 7,
     "metadata": {},
     "output_type": "execute_result"
    }
   ],
   "source": [
    "part_one(input) = sum(solve(input))"
   ]
  },
  {
   "cell_type": "code",
   "execution_count": 8,
   "metadata": {},
   "outputs": [
    {
     "data": {
      "text/plain": [
       "128"
      ]
     },
     "execution_count": 8,
     "metadata": {},
     "output_type": "execute_result"
    }
   ],
   "source": [
    "part_one_ans = part_one(parsed_input)"
   ]
  },
  {
   "cell_type": "code",
   "execution_count": 9,
   "metadata": {},
   "outputs": [
    {
     "data": {
      "text/plain": [
       "\"<!DOCTYPE html>\\n<html lang=\\\"en-us\\\">\\n<head>\\n<meta charset=\\\"utf-8\\\"/>\\n<title>Day 8 - Advent of Code 2016</title>\\n<!--[if lt IE 9]><script src=\\\"/static/html5.js\\\"></script><![endif]-->\\n<link href='//fonts.googleapis.com/css?family=Source+Code+Pro:300&subset=latin,latin-ext' \" ⋯ 3246 bytes ⋯ \"Name(o)[0];a.async=1;a.src=g;m.parentNode.insertBefore(a,m)\\n})(window,document,'script','//www.google-analytics.com/analytics.js','ga');\\nga('create', 'UA-69522494-1', 'auto');\\nga('set', 'anonymizeIp', true);\\nga('send', 'pageview');\\n</script>\\n<!-- /ga -->\\n</body>\\n</html>\""
      ]
     },
     "execution_count": 9,
     "metadata": {},
     "output_type": "execute_result"
    }
   ],
   "source": [
    "submit_answer(year, day, part_one_ans)"
   ]
  },
  {
   "cell_type": "code",
   "execution_count": 10,
   "metadata": {},
   "outputs": [
    {
     "data": {
      "text/plain": [
       "part_two (generic function with 1 method)"
      ]
     },
     "execution_count": 10,
     "metadata": {},
     "output_type": "execute_result"
    }
   ],
   "source": [
    "function part_two(input)\n",
    "    state = solve(input)\n",
    "    for i in 1:6\n",
    "        println(join(['□', '■'][x + 1] for x in state[i, :]))\n",
    "    end\n",
    "end"
   ]
  },
  {
   "cell_type": "code",
   "execution_count": 11,
   "metadata": {},
   "outputs": [
    {
     "name": "stdout",
     "output_type": "stream",
     "text": [
      "■■■■□□■■□□□■■□□■■■□□□■■□□■■■□□■□□■□■□□□■□■■□□□■■□□\n",
      "■□□□□■□□■□■□□■□■□□■□■□□■□■□□■□■□□■□■□□□■■□□■□■□□■□\n",
      "■■■□□■□□■□■□□■□■□□■□■□□□□■□□■□■■■■□□■□■□■□□■□■□□■□\n",
      "■□□□□■□□■□■■■■□■■■□□■□■■□■■■□□■□□■□□□■□□■■■■□■□□■□\n",
      "■□□□□■□□■□■□□■□■□■□□■□□■□■□□□□■□□■□□□■□□■□□■□■□□■□\n",
      "■■■■□□■■□□■□□■□■□□■□□■■■□■□□□□■□□■□□□■□□■□□■□□■■□□\n"
     ]
    }
   ],
   "source": [
    "part_two(parsed_input)"
   ]
  }
 ],
 "metadata": {
  "kernelspec": {
   "display_name": "Julia 1.8.0",
   "language": "julia",
   "name": "julia-1.8"
  },
  "language_info": {
   "file_extension": ".jl",
   "mimetype": "application/julia",
   "name": "julia",
   "version": "1.8.3"
  },
  "orig_nbformat": 4,
  "vscode": {
   "interpreter": {
    "hash": "2decbbcdbe1b404b08c0c2ae8935a58886fd60ea7dad56cfc87e2a14f377e9ba"
   }
  }
 },
 "nbformat": 4,
 "nbformat_minor": 2
}
