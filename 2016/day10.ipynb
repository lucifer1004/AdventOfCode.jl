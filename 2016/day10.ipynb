{
 "cells": [
  {
   "cell_type": "code",
   "execution_count": 1,
   "metadata": {},
   "outputs": [
    {
     "name": "stderr",
     "output_type": "stream",
     "text": [
      "\u001b[32m\u001b[1m  Activating\u001b[22m\u001b[39m project at `~/com.github/lucifer1004/AdventOfCode.jl`\n"
     ]
    }
   ],
   "source": [
    "import Pkg; Pkg.activate(\"..\")"
   ]
  },
  {
   "cell_type": "code",
   "execution_count": 2,
   "metadata": {},
   "outputs": [],
   "source": [
    "using AdventOfCode"
   ]
  },
  {
   "cell_type": "code",
   "execution_count": 3,
   "metadata": {},
   "outputs": [
    {
     "data": {
      "text/plain": [
       "10"
      ]
     },
     "execution_count": 3,
     "metadata": {},
     "output_type": "execute_result"
    }
   ],
   "source": [
    "year = 2016\n",
    "day = 10"
   ]
  },
  {
   "cell_type": "code",
   "execution_count": 4,
   "metadata": {},
   "outputs": [
    {
     "data": {
      "text/plain": [
       "\"bot 76 gives low to bot 191 and high to bot 21\\nbot 193 gives low to bot 118 and high to bot 145\\nbot 173 gives low to bot 91 and high to bot 36\\nvalue 23 goes to bot 68\\nbot 129 gives low to bot 124 and high to bot 155\\nbot 58 gives low to output 2 and high to bot 51\\nbot 97\" ⋯ 9972 bytes ⋯ \"ow to bot 189 and high to bot 165\\nbot 100 gives low to bot 98 and high to bot 88\\nbot 83 gives low to bot 155 and high to bot 44\\nbot 123 gives low to bot 33 and high to bot 195\\nbot 183 gives low to bot 83 and high to bot 90\\nbot 71 gives low to bot 152 and high to bot 121\""
      ]
     },
     "execution_count": 4,
     "metadata": {},
     "output_type": "execute_result"
    }
   ],
   "source": [
    "input = get_input(year, day)"
   ]
  },
  {
   "cell_type": "code",
   "execution_count": 5,
   "metadata": {},
   "outputs": [
    {
     "data": {
      "text/plain": [
       "231-element Vector{SubString{String}}:\n",
       " \"bot 76 gives low to bot 191 and high to bot 21\"\n",
       " \"bot 193 gives low to bot 118 and high to bot 145\"\n",
       " \"bot 173 gives low to bot 91 and high to bot 36\"\n",
       " \"value 23 goes to bot 68\"\n",
       " \"bot 129 gives low to bot 124 and high to bot 155\"\n",
       " \"bot 58 gives low to output 2 and high to bot 51\"\n",
       " \"bot 97 gives low to bot 205 and high to bot 156\"\n",
       " \"bot 95 gives low to bot 21 and high to bot 204\"\n",
       " \"bot 56 gives low to bot 202 and high to bot 97\"\n",
       " \"bot 181 gives low to bot 144 and high to bot 101\"\n",
       " \"bot 20 gives low to bot 42 and high to bot 23\"\n",
       " \"bot 122 gives low to bot 190 and high to bot 50\"\n",
       " \"bot 202 gives low to bot 103 and high to bot 205\"\n",
       " ⋮\n",
       " \"bot 6 gives low to bot 11 and high to bot 131\"\n",
       " \"bot 31 gives low to output 13 and high to bot 0\"\n",
       " \"bot 126 gives low to bot 192 and high to bot 78\"\n",
       " \"bot 27 gives low to output 11 and high to bot 59\"\n",
       " \"bot 127 gives low to bot 57 and high to bot 1\"\n",
       " \"bot 60 gives low to bot 105 and high to bot 148\"\n",
       " \"bot 152 gives low to bot 189 and high to bot 165\"\n",
       " \"bot 100 gives low to bot 98 and high to bot 88\"\n",
       " \"bot 83 gives low to bot 155 and high to bot 44\"\n",
       " \"bot 123 gives low to bot 33 and high to bot 195\"\n",
       " \"bot 183 gives low to bot 83 and high to bot 90\"\n",
       " \"bot 71 gives low to bot 152 and high to bot 121\""
      ]
     },
     "execution_count": 5,
     "metadata": {},
     "output_type": "execute_result"
    }
   ],
   "source": [
    "parsed_input = parse_input(input)"
   ]
  },
  {
   "cell_type": "code",
   "execution_count": 6,
   "metadata": {},
   "outputs": [
    {
     "data": {
      "text/plain": [
       "\"value 5 goes to bot 2\\nbot 2 gives low to bot 1 and high to bot 0\\nvalue 3 goes to bot 1\\nbot 1 gives low to output 1 and high to bot 0\\nbot 0 gives low to output 2 and high to output 0\\nvalue 2 goes to bot 2\""
      ]
     },
     "execution_count": 6,
     "metadata": {},
     "output_type": "execute_result"
    }
   ],
   "source": [
    "sample = \"\"\"value 5 goes to bot 2\n",
    "bot 2 gives low to bot 1 and high to bot 0\n",
    "value 3 goes to bot 1\n",
    "bot 1 gives low to output 1 and high to bot 0\n",
    "bot 0 gives low to output 2 and high to output 0\n",
    "value 2 goes to bot 2\"\"\""
   ]
  },
  {
   "cell_type": "code",
   "execution_count": 7,
   "metadata": {},
   "outputs": [
    {
     "data": {
      "text/plain": [
       "6-element Vector{SubString{String}}:\n",
       " \"value 5 goes to bot 2\"\n",
       " \"bot 2 gives low to bot 1 and high to bot 0\"\n",
       " \"value 3 goes to bot 1\"\n",
       " \"bot 1 gives low to output 1 and high to bot 0\"\n",
       " \"bot 0 gives low to output 2 and high to output 0\"\n",
       " \"value 2 goes to bot 2\""
      ]
     },
     "execution_count": 7,
     "metadata": {},
     "output_type": "execute_result"
    }
   ],
   "source": [
    "parsed_sample = parse_input(sample)"
   ]
  },
  {
   "cell_type": "code",
   "execution_count": 8,
   "metadata": {},
   "outputs": [
    {
     "data": {
      "text/plain": [
       "preprocess (generic function with 1 method)"
      ]
     },
     "execution_count": 8,
     "metadata": {},
     "output_type": "execute_result"
    }
   ],
   "source": [
    "function preprocess(input)\n",
    "    bots = DefaultDict(() -> Dict(\"values\" => Int[], \"low\" => \"\", \"high\" => \"\"))\n",
    "    indeg = DefaultDict(() -> 0)\n",
    "\n",
    "    for line in input\n",
    "        if startswith(line, \"value\")\n",
    "            value, bot = match(r\"value (\\d+) goes to (bot \\d+)\", line).captures\n",
    "            push!(bots[bot][\"values\"], parse(Int, value))\n",
    "        else\n",
    "            bot, low_to, high_to = match(r\"(bot \\d+) gives low to (\\w+ \\d+) and high to (\\w+ \\d+)\", line).captures\n",
    "            bots[bot][\"low\"] = low_to\n",
    "            bots[bot][\"high\"] = high_to\n",
    "            indeg[low_to] += 1\n",
    "            indeg[high_to] += 1\n",
    "        end\n",
    "    end\n",
    "\n",
    "    q = Queue{String}()\n",
    "    for bot in keys(bots)\n",
    "        if length(bots[bot][\"values\"]) == 2\n",
    "            enqueue!(q, bot)\n",
    "        end\n",
    "    end\n",
    "\n",
    "    while !isempty(q)\n",
    "        bot = dequeue!(q)\n",
    "        low, high = sort(bots[bot][\"values\"])\n",
    "        push!(bots[bots[bot][\"low\"]][\"values\"], low)\n",
    "        if length(bots[bots[bot][\"low\"]][\"values\"]) == 2\n",
    "            enqueue!(q, bots[bot][\"low\"])\n",
    "        end\n",
    "        push!(bots[bots[bot][\"high\"]][\"values\"], high)\n",
    "        if length(bots[bots[bot][\"high\"]][\"values\"]) == 2\n",
    "            enqueue!(q, bots[bot][\"high\"])\n",
    "        end\n",
    "    end\n",
    "\n",
    "    return bots\n",
    "end"
   ]
  },
  {
   "cell_type": "code",
   "execution_count": 9,
   "metadata": {},
   "outputs": [
    {
     "data": {
      "text/plain": [
       "part_one (generic function with 1 method)"
      ]
     },
     "execution_count": 9,
     "metadata": {},
     "output_type": "execute_result"
    }
   ],
   "source": [
    "function part_one(input)\n",
    "    bots = preprocess(input)\n",
    "    ans = findfirst(v -> sort(v[\"values\"]) == [17, 61], bots)\n",
    "    if !isnothing(ans)\n",
    "        @assert startswith(ans, \"bot\")\n",
    "        return ans[5:end]\n",
    "    end\n",
    "end"
   ]
  },
  {
   "cell_type": "code",
   "execution_count": 10,
   "metadata": {},
   "outputs": [],
   "source": [
    "part_one(parsed_sample)"
   ]
  },
  {
   "cell_type": "code",
   "execution_count": 11,
   "metadata": {},
   "outputs": [
    {
     "data": {
      "text/plain": [
       "\"118\""
      ]
     },
     "execution_count": 11,
     "metadata": {},
     "output_type": "execute_result"
    }
   ],
   "source": [
    "part_one_ans = part_one(parsed_input)"
   ]
  },
  {
   "cell_type": "code",
   "execution_count": 12,
   "metadata": {},
   "outputs": [
    {
     "data": {
      "text/plain": [
       "\"<!DOCTYPE html>\\n<html lang=\\\"en-us\\\">\\n<head>\\n<meta charset=\\\"utf-8\\\"/>\\n<title>Day 10 - Advent of Code 2016</title>\\n<!--[if lt IE 9]><script src=\\\"/static/html5.js\\\"></script><![endif]-->\\n<link href='//fonts.googleapis.com/css?family=Source+Code+Pro:300&subset=latin,latin-ext'\" ⋯ 3264 bytes ⋯ \"Name(o)[0];a.async=1;a.src=g;m.parentNode.insertBefore(a,m)\\n})(window,document,'script','//www.google-analytics.com/analytics.js','ga');\\nga('create', 'UA-69522494-1', 'auto');\\nga('set', 'anonymizeIp', true);\\nga('send', 'pageview');\\n</script>\\n<!-- /ga -->\\n</body>\\n</html>\""
      ]
     },
     "execution_count": 12,
     "metadata": {},
     "output_type": "execute_result"
    }
   ],
   "source": [
    "submit_answer(year, day, part_one_ans)"
   ]
  },
  {
   "cell_type": "code",
   "execution_count": 13,
   "metadata": {},
   "outputs": [
    {
     "data": {
      "text/plain": [
       "part_two (generic function with 1 method)"
      ]
     },
     "execution_count": 13,
     "metadata": {},
     "output_type": "execute_result"
    }
   ],
   "source": [
    "function part_two(input)\n",
    "    bots = preprocess(input)\n",
    "    return prod(bots[\"output $i\"][\"values\"][1] for i in 0:2)\n",
    "end"
   ]
  },
  {
   "cell_type": "code",
   "execution_count": 14,
   "metadata": {},
   "outputs": [
    {
     "data": {
      "text/plain": [
       "30"
      ]
     },
     "execution_count": 14,
     "metadata": {},
     "output_type": "execute_result"
    }
   ],
   "source": [
    "part_two(parsed_sample)"
   ]
  },
  {
   "cell_type": "code",
   "execution_count": 15,
   "metadata": {},
   "outputs": [
    {
     "data": {
      "text/plain": [
       "143153"
      ]
     },
     "execution_count": 15,
     "metadata": {},
     "output_type": "execute_result"
    }
   ],
   "source": [
    "part_two_ans = part_two(parsed_input)"
   ]
  },
  {
   "cell_type": "code",
   "execution_count": 16,
   "metadata": {},
   "outputs": [
    {
     "data": {
      "text/plain": [
       "\"<!DOCTYPE html>\\n<html lang=\\\"en-us\\\">\\n<head>\\n<meta charset=\\\"utf-8\\\"/>\\n<title>Day 10 - Advent of Code 2016</title>\\n<!--[if lt IE 9]><script src=\\\"/static/html5.js\\\"></script><![endif]-->\\n<link href='//fonts.googleapis.com/css?family=Source+Code+Pro:300&subset=latin,latin-ext'\" ⋯ 3186 bytes ⋯ \"Name(o)[0];a.async=1;a.src=g;m.parentNode.insertBefore(a,m)\\n})(window,document,'script','//www.google-analytics.com/analytics.js','ga');\\nga('create', 'UA-69522494-1', 'auto');\\nga('set', 'anonymizeIp', true);\\nga('send', 'pageview');\\n</script>\\n<!-- /ga -->\\n</body>\\n</html>\""
      ]
     },
     "execution_count": 16,
     "metadata": {},
     "output_type": "execute_result"
    }
   ],
   "source": [
    "submit_answer(year, day, part_two_ans, 2)"
   ]
  }
 ],
 "metadata": {
  "kernelspec": {
   "display_name": "Julia 1.8.0",
   "language": "julia",
   "name": "julia-1.8"
  },
  "language_info": {
   "file_extension": ".jl",
   "mimetype": "application/julia",
   "name": "julia",
   "version": "1.8.3"
  },
  "orig_nbformat": 4,
  "vscode": {
   "interpreter": {
    "hash": "2decbbcdbe1b404b08c0c2ae8935a58886fd60ea7dad56cfc87e2a14f377e9ba"
   }
  }
 },
 "nbformat": 4,
 "nbformat_minor": 2
}
