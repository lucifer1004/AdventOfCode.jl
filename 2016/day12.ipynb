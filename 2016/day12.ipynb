{
 "cells": [
  {
   "cell_type": "code",
   "execution_count": 1,
   "metadata": {},
   "outputs": [
    {
     "name": "stderr",
     "output_type": "stream",
     "text": [
      "\u001b[32m\u001b[1m  Activating\u001b[22m\u001b[39m project at `~/com.github/lucifer1004/AdventOfCode.jl`\n"
     ]
    }
   ],
   "source": [
    "import Pkg; Pkg.activate(\"..\")"
   ]
  },
  {
   "cell_type": "code",
   "execution_count": 2,
   "metadata": {},
   "outputs": [],
   "source": [
    "using AdventOfCode"
   ]
  },
  {
   "cell_type": "code",
   "execution_count": 3,
   "metadata": {},
   "outputs": [
    {
     "data": {
      "text/plain": [
       "12"
      ]
     },
     "execution_count": 3,
     "metadata": {},
     "output_type": "execute_result"
    }
   ],
   "source": [
    "year = 2016\n",
    "day = 12"
   ]
  },
  {
   "cell_type": "code",
   "execution_count": 4,
   "metadata": {},
   "outputs": [
    {
     "data": {
      "text/plain": [
       "\"cpy 1 a\\ncpy 1 b\\ncpy 26 d\\njnz c 2\\njnz 1 5\\ncpy 7 c\\ninc d\\ndec c\\njnz c -2\\ncpy a c\\ninc a\\ndec b\\njnz b -2\\ncpy c b\\ndec d\\njnz d -6\\ncpy 19 c\\ncpy 14 d\\ninc a\\ndec d\\njnz d -2\\ndec c\\njnz c -5\""
      ]
     },
     "execution_count": 4,
     "metadata": {},
     "output_type": "execute_result"
    }
   ],
   "source": [
    "input = get_input(year, day)"
   ]
  },
  {
   "cell_type": "code",
   "execution_count": 5,
   "metadata": {},
   "outputs": [
    {
     "data": {
      "text/plain": [
       "23-element Vector{SubString{String}}:\n",
       " \"cpy 1 a\"\n",
       " \"cpy 1 b\"\n",
       " \"cpy 26 d\"\n",
       " \"jnz c 2\"\n",
       " \"jnz 1 5\"\n",
       " \"cpy 7 c\"\n",
       " \"inc d\"\n",
       " \"dec c\"\n",
       " \"jnz c -2\"\n",
       " \"cpy a c\"\n",
       " \"inc a\"\n",
       " \"dec b\"\n",
       " \"jnz b -2\"\n",
       " \"cpy c b\"\n",
       " \"dec d\"\n",
       " \"jnz d -6\"\n",
       " \"cpy 19 c\"\n",
       " \"cpy 14 d\"\n",
       " \"inc a\"\n",
       " \"dec d\"\n",
       " \"jnz d -2\"\n",
       " \"dec c\"\n",
       " \"jnz c -5\""
      ]
     },
     "execution_count": 5,
     "metadata": {},
     "output_type": "execute_result"
    }
   ],
   "source": [
    "parsed_input = parse_input(input)"
   ]
  },
  {
   "cell_type": "code",
   "execution_count": 6,
   "metadata": {},
   "outputs": [
    {
     "data": {
      "text/plain": [
       "\"cpy 41 a\\ninc a\\ninc a\\ndec a\\njnz a 2\\ndec a\""
      ]
     },
     "execution_count": 6,
     "metadata": {},
     "output_type": "execute_result"
    }
   ],
   "source": [
    "sample = \"\"\"cpy 41 a\n",
    "inc a\n",
    "inc a\n",
    "dec a\n",
    "jnz a 2\n",
    "dec a\"\"\""
   ]
  },
  {
   "cell_type": "code",
   "execution_count": 7,
   "metadata": {},
   "outputs": [
    {
     "data": {
      "text/plain": [
       "6-element Vector{SubString{String}}:\n",
       " \"cpy 41 a\"\n",
       " \"inc a\"\n",
       " \"inc a\"\n",
       " \"dec a\"\n",
       " \"jnz a 2\"\n",
       " \"dec a\""
      ]
     },
     "execution_count": 7,
     "metadata": {},
     "output_type": "execute_result"
    }
   ],
   "source": [
    "parsed_sample = parse_input(sample)"
   ]
  },
  {
   "cell_type": "code",
   "execution_count": 8,
   "metadata": {},
   "outputs": [],
   "source": [
    "struct Instruction\n",
    "    typ::Int\n",
    "    arg1::Union{String, Int}\n",
    "    arg2::Union{String, Int, Nothing}\n",
    "end"
   ]
  },
  {
   "cell_type": "code",
   "execution_count": 9,
   "metadata": {},
   "outputs": [
    {
     "data": {
      "text/plain": [
       "preprocess (generic function with 1 method)"
      ]
     },
     "execution_count": 9,
     "metadata": {},
     "output_type": "execute_result"
    }
   ],
   "source": [
    "function preprocess(input)\n",
    "    map(input) do line\n",
    "        if startswith(line, \"cpy\")\n",
    "            num, target = string.(match(r\"cpy (-?\\w+) (\\w+)\", line).captures)\n",
    "            if 'a' <= num[1] <= 'z'\n",
    "                Instruction(1, target, num)\n",
    "            else\n",
    "                Instruction(1, target, parse(Int, num))\n",
    "            end\n",
    "        elseif startswith(line, \"inc\")\n",
    "            target = string.(match(r\"inc (\\w+)\", line).captures)[1]\n",
    "            Instruction(2, target, nothing)\n",
    "        elseif startswith(line, \"dec\")\n",
    "            target = string.(match(r\"dec (\\w+)\", line).captures)[1]\n",
    "            Instruction(3, target, nothing)\n",
    "        elseif startswith(line, \"jnz\")\n",
    "            reference, offset = string.(match(r\"jnz (-?\\w+) (-?\\d+)\", line).captures)\n",
    "            if 'a' <= reference[1] <= 'z'\n",
    "                Instruction(4, reference, parse(Int, offset))\n",
    "            else\n",
    "                Instruction(4, parse(Int, reference), parse(Int, offset))\n",
    "            end\n",
    "        end\n",
    "    end\n",
    "end"
   ]
  },
  {
   "cell_type": "code",
   "execution_count": 10,
   "metadata": {},
   "outputs": [
    {
     "data": {
      "text/plain": [
       "solve (generic function with 2 methods)"
      ]
     },
     "execution_count": 10,
     "metadata": {},
     "output_type": "execute_result"
    }
   ],
   "source": [
    "function solve(input, registers = Dict(\"a\" => 0, \"b\" => 0, \"c\" => 0, \"d\" => 0))\n",
    "    instructions = preprocess(input)\n",
    "    i = 1\n",
    "    while i <= length(input)\n",
    "        ins = instructions[i]\n",
    "        if ins.typ == 1\n",
    "            registers[ins.arg1] = isa(ins.arg2, String) ? registers[ins.arg2] : ins.arg2\n",
    "        elseif ins.typ == 2\n",
    "            registers[ins.arg1] += 1\n",
    "        elseif ins.typ == 3\n",
    "            registers[ins.arg1] -= 1\n",
    "        elseif ins.typ == 4\n",
    "            reference = isa(ins.arg1, String) ? registers[ins.arg1] : ins.arg1\n",
    "            if reference != 0\n",
    "                i += ins.arg2\n",
    "                continue\n",
    "            end\n",
    "        end\n",
    "        i += 1\n",
    "    end\n",
    "\n",
    "    return registers[\"a\"]\n",
    "end"
   ]
  },
  {
   "cell_type": "code",
   "execution_count": 11,
   "metadata": {},
   "outputs": [
    {
     "data": {
      "text/plain": [
       "part_one (generic function with 1 method)"
      ]
     },
     "execution_count": 11,
     "metadata": {},
     "output_type": "execute_result"
    }
   ],
   "source": [
    "part_one(input) = solve(input)"
   ]
  },
  {
   "cell_type": "code",
   "execution_count": 12,
   "metadata": {},
   "outputs": [
    {
     "data": {
      "text/plain": [
       "42"
      ]
     },
     "execution_count": 12,
     "metadata": {},
     "output_type": "execute_result"
    }
   ],
   "source": [
    "part_one(parsed_sample)"
   ]
  },
  {
   "cell_type": "code",
   "execution_count": 13,
   "metadata": {},
   "outputs": [
    {
     "data": {
      "text/plain": [
       "318077"
      ]
     },
     "execution_count": 13,
     "metadata": {},
     "output_type": "execute_result"
    }
   ],
   "source": [
    "part_one_ans = part_one(parsed_input)"
   ]
  },
  {
   "cell_type": "code",
   "execution_count": 14,
   "metadata": {},
   "outputs": [
    {
     "data": {
      "text/plain": [
       "\"<!DOCTYPE html>\\n<html lang=\\\"en-us\\\">\\n<head>\\n<meta charset=\\\"utf-8\\\"/>\\n<title>Day 12 - Advent of Code 2016</title>\\n<!--[if lt IE 9]><script src=\\\"/static/html5.js\\\"></script><![endif]-->\\n<link href='//fonts.googleapis.com/css?family=Source+Code+Pro:300&subset=latin,latin-ext'\" ⋯ 3224 bytes ⋯ \"Name(o)[0];a.async=1;a.src=g;m.parentNode.insertBefore(a,m)\\n})(window,document,'script','//www.google-analytics.com/analytics.js','ga');\\nga('create', 'UA-69522494-1', 'auto');\\nga('set', 'anonymizeIp', true);\\nga('send', 'pageview');\\n</script>\\n<!-- /ga -->\\n</body>\\n</html>\""
      ]
     },
     "execution_count": 14,
     "metadata": {},
     "output_type": "execute_result"
    }
   ],
   "source": [
    "submit_answer(year, day, part_one_ans)"
   ]
  },
  {
   "cell_type": "code",
   "execution_count": 15,
   "metadata": {},
   "outputs": [
    {
     "data": {
      "text/plain": [
       "part_two (generic function with 1 method)"
      ]
     },
     "execution_count": 15,
     "metadata": {},
     "output_type": "execute_result"
    }
   ],
   "source": [
    "part_two(input) = solve(input, Dict(\"a\" => 0, \"b\" => 0, \"c\" => 1, \"d\" => 0))"
   ]
  },
  {
   "cell_type": "code",
   "execution_count": 16,
   "metadata": {},
   "outputs": [
    {
     "data": {
      "text/plain": [
       "42"
      ]
     },
     "execution_count": 16,
     "metadata": {},
     "output_type": "execute_result"
    }
   ],
   "source": [
    "part_two(parsed_sample)"
   ]
  },
  {
   "cell_type": "code",
   "execution_count": 17,
   "metadata": {},
   "outputs": [
    {
     "data": {
      "text/plain": [
       "9227731"
      ]
     },
     "execution_count": 17,
     "metadata": {},
     "output_type": "execute_result"
    }
   ],
   "source": [
    "part_two_ans = part_two(parsed_input)"
   ]
  },
  {
   "cell_type": "code",
   "execution_count": 18,
   "metadata": {},
   "outputs": [
    {
     "data": {
      "text/plain": [
       "\"<!DOCTYPE html>\\n<html lang=\\\"en-us\\\">\\n<head>\\n<meta charset=\\\"utf-8\\\"/>\\n<title>Day 12 - Advent of Code 2016</title>\\n<!--[if lt IE 9]><script src=\\\"/static/html5.js\\\"></script><![endif]-->\\n<link href='//fonts.googleapis.com/css?family=Source+Code+Pro:300&subset=latin,latin-ext'\" ⋯ 3191 bytes ⋯ \"Name(o)[0];a.async=1;a.src=g;m.parentNode.insertBefore(a,m)\\n})(window,document,'script','//www.google-analytics.com/analytics.js','ga');\\nga('create', 'UA-69522494-1', 'auto');\\nga('set', 'anonymizeIp', true);\\nga('send', 'pageview');\\n</script>\\n<!-- /ga -->\\n</body>\\n</html>\""
      ]
     },
     "execution_count": 18,
     "metadata": {},
     "output_type": "execute_result"
    }
   ],
   "source": [
    "submit_answer(year, day, part_two_ans, 2)"
   ]
  }
 ],
 "metadata": {
  "kernelspec": {
   "display_name": "Julia 1.8.0",
   "language": "julia",
   "name": "julia-1.8"
  },
  "language_info": {
   "file_extension": ".jl",
   "mimetype": "application/julia",
   "name": "julia",
   "version": "1.8.3"
  },
  "orig_nbformat": 4,
  "vscode": {
   "interpreter": {
    "hash": "2decbbcdbe1b404b08c0c2ae8935a58886fd60ea7dad56cfc87e2a14f377e9ba"
   }
  }
 },
 "nbformat": 4,
 "nbformat_minor": 2
}
