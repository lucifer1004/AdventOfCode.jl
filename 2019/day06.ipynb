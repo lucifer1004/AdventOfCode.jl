{
 "cells": [
  {
   "cell_type": "code",
   "execution_count": 1,
   "metadata": {},
   "outputs": [
    {
     "name": "stderr",
     "output_type": "stream",
     "text": [
      "\u001b[32m\u001b[1m  Activating\u001b[22m\u001b[39m project at `~/com.github/lucifer1004/AdventOfCode.jl`\n"
     ]
    }
   ],
   "source": [
    "import Pkg; Pkg.activate(\"..\")"
   ]
  },
  {
   "cell_type": "code",
   "execution_count": 2,
   "metadata": {},
   "outputs": [],
   "source": [
    "using AdventOfCode"
   ]
  },
  {
   "cell_type": "code",
   "execution_count": 3,
   "metadata": {},
   "outputs": [
    {
     "data": {
      "text/plain": [
       "6"
      ]
     },
     "execution_count": 3,
     "metadata": {},
     "output_type": "execute_result"
    }
   ],
   "source": [
    "year = 2019\n",
    "day = 6"
   ]
  },
  {
   "cell_type": "code",
   "execution_count": 4,
   "metadata": {},
   "outputs": [
    {
     "data": {
      "text/plain": [
       "\"H1R)Z5F\\nR6L)JYJ\\nQVZ)B3R\\nZD8)Y6T\\nFWC)F2N\\n3HH)HSX\\n2PQ)NXT\\nC7Q)7HM\\n6KQ)B1V\\nCVJ)SXY\\nZZR)627\\nHWF)5Q2\\n7QR)BHQ\\n1FF)SBD\\nF9B)XXF\\n415)C8L\\nK38)LZ2\\nQ3R)61L\\nQ8V)TDC\\nH5W)52V\\nPQY)BDX\\nC54)QSK\\nPHC)JPX\\nZLS)CRN\\nPSR)T5C\\nFWK)Q48\\nBNL)FWC\\nZPV)CR3\\nHM5)C5J\\nY4F)X6L\\nFX1)1LX\\nD7W)P4X\\n5Y6)L55\\nL2R)2W\" ⋯ 10964 bytes ⋯ \"B)4C3\\nPBY)ZP5\\nD6H)Z35\\nZ35)2NM\\n6JN)787\\n38X)NMS\\nV1Q)5YK\\nW6G)XC5\\nN5F)V4H\\nZR8)M5F\\nL7W)DLD\\nDWH)7WZ\\n9QW)Y3G\\nQRM)MBP\\nTD9)QVZ\\nRTT)43Z\\nH6T)FNV\\n1X3)VHW\\nN41)SBX\\nMN6)MVL\\nXF3)RK5\\n8WB)2S4\\nV8V)2BT\\nT19)8J4\\nF11)13C\\n2PL)GVX\\nGL2)JB8\\n54J)ZLS\\n2XS)V7N\\nG1Z)SHK\\nGKH)RYK\\nYZ9)YH7\\n7TR)VC9\\n8HH)LFL\""
      ]
     },
     "execution_count": 4,
     "metadata": {},
     "output_type": "execute_result"
    }
   ],
   "source": [
    "input = get_input(year, day)"
   ]
  },
  {
   "cell_type": "code",
   "execution_count": 5,
   "metadata": {},
   "outputs": [
    {
     "data": {
      "text/plain": [
       "1438-element Vector{SubString{String}}:\n",
       " \"H1R)Z5F\"\n",
       " \"R6L)JYJ\"\n",
       " \"QVZ)B3R\"\n",
       " \"ZD8)Y6T\"\n",
       " \"FWC)F2N\"\n",
       " \"3HH)HSX\"\n",
       " \"2PQ)NXT\"\n",
       " \"C7Q)7HM\"\n",
       " \"6KQ)B1V\"\n",
       " \"CVJ)SXY\"\n",
       " \"ZZR)627\"\n",
       " \"HWF)5Q2\"\n",
       " \"7QR)BHQ\"\n",
       " ⋮\n",
       " \"V8V)2BT\"\n",
       " \"T19)8J4\"\n",
       " \"F11)13C\"\n",
       " \"2PL)GVX\"\n",
       " \"GL2)JB8\"\n",
       " \"54J)ZLS\"\n",
       " \"2XS)V7N\"\n",
       " \"G1Z)SHK\"\n",
       " \"GKH)RYK\"\n",
       " \"YZ9)YH7\"\n",
       " \"7TR)VC9\"\n",
       " \"8HH)LFL\""
      ]
     },
     "execution_count": 5,
     "metadata": {},
     "output_type": "execute_result"
    }
   ],
   "source": [
    "parsed_input = parse_input(input)"
   ]
  },
  {
   "cell_type": "code",
   "execution_count": 6,
   "metadata": {},
   "outputs": [
    {
     "data": {
      "text/plain": [
       "\"COM)B\\nB)C\\nC)D\\nD)E\\nE)F\\nB)G\\nG)H\\nD)I\\nE)J\\nJ)K\\nK)L\""
      ]
     },
     "execution_count": 6,
     "metadata": {},
     "output_type": "execute_result"
    }
   ],
   "source": [
    "sample = \"\"\"COM)B\n",
    "B)C\n",
    "C)D\n",
    "D)E\n",
    "E)F\n",
    "B)G\n",
    "G)H\n",
    "D)I\n",
    "E)J\n",
    "J)K\n",
    "K)L\"\"\""
   ]
  },
  {
   "cell_type": "code",
   "execution_count": 7,
   "metadata": {},
   "outputs": [
    {
     "data": {
      "text/plain": [
       "11-element Vector{SubString{String}}:\n",
       " \"COM)B\"\n",
       " \"B)C\"\n",
       " \"C)D\"\n",
       " \"D)E\"\n",
       " \"E)F\"\n",
       " \"B)G\"\n",
       " \"G)H\"\n",
       " \"D)I\"\n",
       " \"E)J\"\n",
       " \"J)K\"\n",
       " \"K)L\""
      ]
     },
     "execution_count": 7,
     "metadata": {},
     "output_type": "execute_result"
    }
   ],
   "source": [
    "parsed_sample = parse_input(sample)"
   ]
  },
  {
   "cell_type": "code",
   "execution_count": 8,
   "metadata": {},
   "outputs": [
    {
     "data": {
      "text/plain": [
       "part_one_copilot (generic function with 1 method)"
      ]
     },
     "execution_count": 8,
     "metadata": {},
     "output_type": "execute_result"
    }
   ],
   "source": [
    "function part_one_copilot(input)\n",
    "    orbits = Dict()\n",
    "    for orbit in input\n",
    "        parent, child = split(orbit, \")\")\n",
    "        orbits[child] = parent\n",
    "    end\n",
    "    count = 0\n",
    "    for orbit in keys(orbits)\n",
    "        while orbit != \"COM\"\n",
    "            count += 1\n",
    "            orbit = orbits[orbit]\n",
    "        end\n",
    "    end\n",
    "    return count\n",
    "end"
   ]
  },
  {
   "cell_type": "code",
   "execution_count": 9,
   "metadata": {},
   "outputs": [
    {
     "data": {
      "text/plain": [
       "part_one (generic function with 1 method)"
      ]
     },
     "execution_count": 9,
     "metadata": {},
     "output_type": "execute_result"
    }
   ],
   "source": [
    "function part_one(input)\n",
    "    children = DefaultDict{String, Vector{String}}(() -> String[])\n",
    "    for line in input\n",
    "        parent, child = split(line, \")\")\n",
    "        push!(children[parent], child)\n",
    "    end\n",
    "    \n",
    "    ans = 0\n",
    "    function dfs(u, depth)\n",
    "        ans += depth\n",
    "        for v in children[u]\n",
    "            dfs(v, depth + 1)\n",
    "        end\n",
    "    end\n",
    "\n",
    "    dfs(\"COM\", 0)\n",
    "    return ans\n",
    "end"
   ]
  },
  {
   "cell_type": "code",
   "execution_count": 10,
   "metadata": {},
   "outputs": [
    {
     "data": {
      "text/plain": [
       "42"
      ]
     },
     "execution_count": 10,
     "metadata": {},
     "output_type": "execute_result"
    }
   ],
   "source": [
    "part_one(parsed_sample)"
   ]
  },
  {
   "cell_type": "code",
   "execution_count": 11,
   "metadata": {},
   "outputs": [
    {
     "data": {
      "text/plain": [
       "204521"
      ]
     },
     "execution_count": 11,
     "metadata": {},
     "output_type": "execute_result"
    }
   ],
   "source": [
    "part_one_ans = part_one(parsed_input)"
   ]
  },
  {
   "cell_type": "code",
   "execution_count": 12,
   "metadata": {},
   "outputs": [
    {
     "data": {
      "text/plain": [
       "\"<!DOCTYPE html>\\n<html lang=\\\"en-us\\\">\\n<head>\\n<meta charset=\\\"utf-8\\\"/>\\n<title>Day 6 - Advent of Code 2019</title>\\n<!--[if lt IE 9]><script src=\\\"/static/html5.js\\\"></script><![endif]-->\\n<link href='//fonts.googleapis.com/css?family=Source+Code+Pro:300&subset=latin,latin-ext' \" ⋯ 3278 bytes ⋯ \"Name(o)[0];a.async=1;a.src=g;m.parentNode.insertBefore(a,m)\\n})(window,document,'script','//www.google-analytics.com/analytics.js','ga');\\nga('create', 'UA-69522494-1', 'auto');\\nga('set', 'anonymizeIp', true);\\nga('send', 'pageview');\\n</script>\\n<!-- /ga -->\\n</body>\\n</html>\""
      ]
     },
     "execution_count": 12,
     "metadata": {},
     "output_type": "execute_result"
    }
   ],
   "source": [
    "submit_answer(year, day, part_one_ans)"
   ]
  },
  {
   "cell_type": "code",
   "execution_count": 13,
   "metadata": {},
   "outputs": [
    {
     "name": "stdout",
     "output_type": "stream",
     "text": [
      "  43.056 ms (259217 allocations: 8.31 MiB)\n"
     ]
    },
    {
     "data": {
      "text/plain": [
       "204521"
      ]
     },
     "execution_count": 13,
     "metadata": {},
     "output_type": "execute_result"
    }
   ],
   "source": [
    "@btime part_one_copilot($parsed_input)"
   ]
  },
  {
   "cell_type": "code",
   "execution_count": 14,
   "metadata": {},
   "outputs": [
    {
     "name": "stdout",
     "output_type": "stream",
     "text": [
      "  1.455 ms (12793 allocations: 867.28 KiB)\n"
     ]
    },
    {
     "data": {
      "text/plain": [
       "204521"
      ]
     },
     "execution_count": 14,
     "metadata": {},
     "output_type": "execute_result"
    }
   ],
   "source": [
    "@btime part_one($parsed_input)"
   ]
  },
  {
   "cell_type": "code",
   "execution_count": 15,
   "metadata": {},
   "outputs": [
    {
     "data": {
      "text/plain": [
       "part_two_copilot (generic function with 1 method)"
      ]
     },
     "execution_count": 15,
     "metadata": {},
     "output_type": "execute_result"
    }
   ],
   "source": [
    "function part_two_copilot(input)\n",
    "    orbits = Dict()\n",
    "    for orbit in input\n",
    "        parent, child = split(orbit, \")\")\n",
    "        orbits[child] = parent\n",
    "    end\n",
    "    you_orbits = []\n",
    "    san_orbits = []\n",
    "    orbit = orbits[\"YOU\"]\n",
    "    while orbit != \"COM\"\n",
    "        push!(you_orbits, orbit)\n",
    "        orbit = orbits[orbit]\n",
    "    end\n",
    "    orbit = orbits[\"SAN\"]\n",
    "    while orbit != \"COM\"\n",
    "        push!(san_orbits, orbit)\n",
    "        orbit = orbits[orbit]\n",
    "    end\n",
    "    for (i, orbit) in enumerate(you_orbits)\n",
    "        if orbit in san_orbits\n",
    "            return i + findfirst(==(orbit), san_orbits) - 2\n",
    "        end\n",
    "    end\n",
    "end"
   ]
  },
  {
   "cell_type": "code",
   "execution_count": 16,
   "metadata": {},
   "outputs": [
    {
     "data": {
      "text/plain": [
       "part_two (generic function with 1 method)"
      ]
     },
     "execution_count": 16,
     "metadata": {},
     "output_type": "execute_result"
    }
   ],
   "source": [
    "function part_two(input)\n",
    "    adj = DefaultDict{String, Vector{String}}(() -> String[])\n",
    "    for line in input\n",
    "        u, v = split(line, \")\")\n",
    "        push!(adj[u], v)\n",
    "        push!(adj[v], u)\n",
    "    end\n",
    "    \n",
    "    q = Queue{String}()\n",
    "    dis = Dict{String, Int}()\n",
    "    enqueue!(q, \"YOU\")\n",
    "    dis[\"YOU\"] = 0\n",
    "\n",
    "    while !isempty(q)\n",
    "        u = dequeue!(q)\n",
    "        for v in adj[u]\n",
    "            if !haskey(dis, v)\n",
    "                dis[v] = dis[u] + 1\n",
    "                if v == \"SAN\"\n",
    "                    return dis[v] - 2\n",
    "                end\n",
    "                enqueue!(q, v)\n",
    "            end\n",
    "        end\n",
    "    end\n",
    "\n",
    "    return -1\n",
    "end"
   ]
  },
  {
   "cell_type": "code",
   "execution_count": 17,
   "metadata": {},
   "outputs": [
    {
     "data": {
      "text/plain": [
       "\"COM)B\\nB)C\\nC)D\\nD)E\\nE)F\\nB)G\\nG)H\\nD)I\\nE)J\\nJ)K\\nK)L\\nK)YOU\\nI)SAN\""
      ]
     },
     "execution_count": 17,
     "metadata": {},
     "output_type": "execute_result"
    }
   ],
   "source": [
    "sample2 = \"\"\"COM)B\n",
    "B)C\n",
    "C)D\n",
    "D)E\n",
    "E)F\n",
    "B)G\n",
    "G)H\n",
    "D)I\n",
    "E)J\n",
    "J)K\n",
    "K)L\n",
    "K)YOU\n",
    "I)SAN\"\"\""
   ]
  },
  {
   "cell_type": "code",
   "execution_count": 18,
   "metadata": {},
   "outputs": [
    {
     "data": {
      "text/plain": [
       "13-element Vector{SubString{String}}:\n",
       " \"COM)B\"\n",
       " \"B)C\"\n",
       " \"C)D\"\n",
       " \"D)E\"\n",
       " \"E)F\"\n",
       " \"B)G\"\n",
       " \"G)H\"\n",
       " \"D)I\"\n",
       " \"E)J\"\n",
       " \"J)K\"\n",
       " \"K)L\"\n",
       " \"K)YOU\"\n",
       " \"I)SAN\""
      ]
     },
     "execution_count": 18,
     "metadata": {},
     "output_type": "execute_result"
    }
   ],
   "source": [
    "parsed_sample2 = parse_input(sample2)"
   ]
  },
  {
   "cell_type": "code",
   "execution_count": 19,
   "metadata": {},
   "outputs": [
    {
     "data": {
      "text/plain": [
       "4"
      ]
     },
     "execution_count": 19,
     "metadata": {},
     "output_type": "execute_result"
    }
   ],
   "source": [
    "part_two(parsed_sample2)"
   ]
  },
  {
   "cell_type": "code",
   "execution_count": 20,
   "metadata": {},
   "outputs": [
    {
     "data": {
      "text/plain": [
       "307"
      ]
     },
     "execution_count": 20,
     "metadata": {},
     "output_type": "execute_result"
    }
   ],
   "source": [
    "part_two_ans = part_two(parsed_input)"
   ]
  },
  {
   "cell_type": "code",
   "execution_count": 21,
   "metadata": {},
   "outputs": [
    {
     "data": {
      "text/plain": [
       "\"<!DOCTYPE html>\\n<html lang=\\\"en-us\\\">\\n<head>\\n<meta charset=\\\"utf-8\\\"/>\\n<title>Day 6 - Advent of Code 2019</title>\\n<!--[if lt IE 9]><script src=\\\"/static/html5.js\\\"></script><![endif]-->\\n<link href='//fonts.googleapis.com/css?family=Source+Code+Pro:300&subset=latin,latin-ext' \" ⋯ 3266 bytes ⋯ \"Name(o)[0];a.async=1;a.src=g;m.parentNode.insertBefore(a,m)\\n})(window,document,'script','//www.google-analytics.com/analytics.js','ga');\\nga('create', 'UA-69522494-1', 'auto');\\nga('set', 'anonymizeIp', true);\\nga('send', 'pageview');\\n</script>\\n<!-- /ga -->\\n</body>\\n</html>\""
      ]
     },
     "execution_count": 21,
     "metadata": {},
     "output_type": "execute_result"
    }
   ],
   "source": [
    "submit_answer(year, day, part_two_ans, 2)"
   ]
  },
  {
   "cell_type": "code",
   "execution_count": 22,
   "metadata": {},
   "outputs": [
    {
     "name": "stdout",
     "output_type": "stream",
     "text": [
      "  2.265 ms (36428 allocations: 1.52 MiB)\n"
     ]
    },
    {
     "data": {
      "text/plain": [
       "307"
      ]
     },
     "execution_count": 22,
     "metadata": {},
     "output_type": "execute_result"
    }
   ],
   "source": [
    "@btime part_two_copilot($parsed_input)"
   ]
  },
  {
   "cell_type": "code",
   "execution_count": 23,
   "metadata": {},
   "outputs": [
    {
     "name": "stdout",
     "output_type": "stream",
     "text": [
      "  2.618 ms (15859 allocations: 1.04 MiB)\n"
     ]
    },
    {
     "data": {
      "text/plain": [
       "307"
      ]
     },
     "execution_count": 23,
     "metadata": {},
     "output_type": "execute_result"
    }
   ],
   "source": [
    "@btime part_two($parsed_input)"
   ]
  }
 ],
 "metadata": {
  "kernelspec": {
   "display_name": "Julia 1.8.0",
   "language": "julia",
   "name": "julia-1.8"
  },
  "language_info": {
   "file_extension": ".jl",
   "mimetype": "application/julia",
   "name": "julia",
   "version": "1.8.3"
  },
  "orig_nbformat": 4,
  "vscode": {
   "interpreter": {
    "hash": "2decbbcdbe1b404b08c0c2ae8935a58886fd60ea7dad56cfc87e2a14f377e9ba"
   }
  }
 },
 "nbformat": 4,
 "nbformat_minor": 2
}
