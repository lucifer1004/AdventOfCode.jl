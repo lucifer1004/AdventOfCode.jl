{
 "cells": [
  {
   "cell_type": "code",
   "execution_count": 1,
   "metadata": {},
   "outputs": [
    {
     "name": "stderr",
     "output_type": "stream",
     "text": [
      "\u001b[32m\u001b[1m  Activating\u001b[22m\u001b[39m project at `~/com.github/lucifer1004/AdventOfCode.jl`\n"
     ]
    }
   ],
   "source": [
    "import Pkg; Pkg.activate(\"..\")"
   ]
  },
  {
   "cell_type": "code",
   "execution_count": 2,
   "metadata": {},
   "outputs": [],
   "source": [
    "using AdventOfCode\n",
    "using AdventOfCode.AoC2019"
   ]
  },
  {
   "cell_type": "code",
   "execution_count": 3,
   "metadata": {},
   "outputs": [
    {
     "data": {
      "text/plain": [
       "13"
      ]
     },
     "metadata": {},
     "output_type": "display_data"
    }
   ],
   "source": [
    "year = 2019\n",
    "day = 13"
   ]
  },
  {
   "cell_type": "code",
   "execution_count": 4,
   "metadata": {},
   "outputs": [
    {
     "data": {
      "text/plain": [
       "\"1,380,379,385,1008,2563,464403,381,1005,381,12,99,109,2564,1102,1,0,383,1101,0,0,382,20101,0,382,1,20102,1,383,2,21102,37,1,0,1106,0,578,4,382,4,383,204,1,1001,382,1,382,1007,382,37,381,1005,381,22,1001,383,1,383,1007,383,26,381,1005,381,18,1006,385,69,99,104,-1,104,0,4\" ⋯ 6489 bytes ⋯ \"43,55,58,58,83,52,72,64,7,78,33,13,1,13,38,96,21,11,10,54,96,95,47,4,15,91,65,35,13,41,42,79,79,81,53,84,30,5,25,39,13,73,33,89,4,80,92,76,13,26,64,28,98,16,95,63,92,60,79,48,7,77,14,58,20,37,50,1,45,58,10,71,9,74,2,68,69,25,78,71,49,74,46,75,34,79,19,43,83,85,64,464403\""
      ]
     },
     "metadata": {},
     "output_type": "display_data"
    }
   ],
   "source": [
    "input = get_input(year, day)"
   ]
  },
  {
   "cell_type": "code",
   "execution_count": 5,
   "metadata": {},
   "outputs": [
    {
     "data": {
      "text/plain": [
       "part_one (generic function with 1 method)"
      ]
     },
     "metadata": {},
     "output_type": "display_data"
    }
   ],
   "source": [
    "function part_one(input)\n",
    "    mem = parse.(Int, split(input, \",\"))\n",
    "    outputs = exec!(mem)\n",
    "    return length([i for i in 3:3:length(outputs) if outputs[i] == 2])\n",
    "end"
   ]
  },
  {
   "cell_type": "code",
   "execution_count": 6,
   "metadata": {},
   "outputs": [
    {
     "data": {
      "text/plain": [
       "372"
      ]
     },
     "metadata": {},
     "output_type": "display_data"
    }
   ],
   "source": [
    "part_one_ans = part_one(input)"
   ]
  },
  {
   "cell_type": "code",
   "execution_count": 7,
   "metadata": {},
   "outputs": [
    {
     "data": {
      "text/plain": [
       "\"<!DOCTYPE html>\\n<html lang=\\\"en-us\\\">\\n<head>\\n<meta charset=\\\"utf-8\\\"/>\\n<title>Day 13 - Advent of Code 2019</title>\\n<!--[if lt IE 9]><script src=\\\"/static/html5.js\\\"></script><![endif]-->\\n<link href='//fonts.googleapis.com/css?family=Source+Code+Pro:300&subset=latin,latin-ext'\" ⋯ 3257 bytes ⋯ \"Name(o)[0];a.async=1;a.src=g;m.parentNode.insertBefore(a,m)\\n})(window,document,'script','//www.google-analytics.com/analytics.js','ga');\\nga('create', 'UA-69522494-1', 'auto');\\nga('set', 'anonymizeIp', true);\\nga('send', 'pageview');\\n</script>\\n<!-- /ga -->\\n</body>\\n</html>\""
      ]
     },
     "metadata": {},
     "output_type": "display_data"
    }
   ],
   "source": [
    "submit_answer(year, day, part_one_ans)"
   ]
  },
  {
   "cell_type": "code",
   "execution_count": 8,
   "metadata": {},
   "outputs": [
    {
     "data": {
      "text/plain": [
       "part_two (generic function with 1 method)"
      ]
     },
     "metadata": {},
     "output_type": "display_data"
    }
   ],
   "source": [
    "function handle_outputs(outputs; debug=false)\n",
    "    dict = Dict{Tuple{Int,Int},Int}()\n",
    "    pts = 0\n",
    "    bx, by = 0, 0\n",
    "    px, py = 0, 0\n",
    "    for i in 1:3:length(outputs)\n",
    "        if outputs[i] != -1\n",
    "            dict[(outputs[i], outputs[i+1])] = outputs[i+2]\n",
    "            if outputs[i+2] == 4\n",
    "                bx, by = outputs[i], outputs[i+1]\n",
    "            elseif outputs[i+2] == 3\n",
    "                px, py = outputs[i], outputs[i+1]\n",
    "            end\n",
    "        else\n",
    "            pts = outputs[i+2]\n",
    "        end\n",
    "    end\n",
    "\n",
    "    x = [k[1] for k in keys(dict)]\n",
    "    y = [k[2] for k in keys(dict)]\n",
    "    xmin, xmax = extrema(x)\n",
    "    ymin, ymax = extrema(y)\n",
    "    @assert xmin == ymin == 0\n",
    "\n",
    "    if debug\n",
    "        plot = OffsetArray(fill(' ', ymax + 1, xmax + 1), 0:ymax, 0:xmax)\n",
    "        for ((x, y), c) in dict\n",
    "            if c == 1\n",
    "                plot[y, x] = '█'\n",
    "            elseif c == 2\n",
    "                plot[y, x] = '#'\n",
    "            elseif c == 3\n",
    "                plot[y, x] = '═'\n",
    "            elseif c == 4\n",
    "                plot[y, x] = 'X'\n",
    "            end\n",
    "        end\n",
    "\n",
    "        for y in 0:ymax\n",
    "            println(join(plot[y, :]))\n",
    "        end\n",
    "    end\n",
    "\n",
    "    return pts, bx, by, px, py\n",
    "end\n",
    "\n",
    "function part_two(input)\n",
    "    mem = parse.(Int, split(input, \",\"))\n",
    "    outputs = exec!(collect(mem))\n",
    "    pts, bx, by, px, py = handle_outputs(outputs)\n",
    "\n",
    "    mem[1] = 2\n",
    "    machine = IntCodeMachine(mem)\n",
    "    while !ishalted(machine)\n",
    "        if bx > px\n",
    "            push!(machine.inputs, 1)\n",
    "        elseif bx < px\n",
    "            push!(machine.inputs, -1)\n",
    "        else\n",
    "            push!(machine.inputs, 0)\n",
    "        end\n",
    "        exec!(machine)\n",
    "        pts, bx, by, px, py = handle_outputs(machine.outputs;)\n",
    "    end\n",
    "\n",
    "    return pts\n",
    "end"
   ]
  },
  {
   "cell_type": "code",
   "execution_count": 9,
   "metadata": {},
   "outputs": [
    {
     "data": {
      "text/plain": [
       "19297"
      ]
     },
     "metadata": {},
     "output_type": "display_data"
    }
   ],
   "source": [
    "part_two_ans = part_two(input)"
   ]
  }
 ],
 "metadata": {
  "kernelspec": {
   "display_name": "Julia 1.8.3",
   "language": "julia",
   "name": "julia-1.8"
  },
  "language_info": {
   "file_extension": ".jl",
   "mimetype": "application/julia",
   "name": "julia",
   "version": "1.8.3"
  },
  "orig_nbformat": 4,
  "vscode": {
   "interpreter": {
    "hash": "2decbbcdbe1b404b08c0c2ae8935a58886fd60ea7dad56cfc87e2a14f377e9ba"
   }
  }
 },
 "nbformat": 4,
 "nbformat_minor": 2
}
