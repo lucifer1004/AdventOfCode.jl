{
 "cells": [
  {
   "cell_type": "code",
   "execution_count": 1,
   "metadata": {},
   "outputs": [
    {
     "name": "stderr",
     "output_type": "stream",
     "text": [
      "\u001b[32m\u001b[1m  Activating\u001b[22m\u001b[39m project at `~/com.github/lucifer1004/AdventOfCode.jl`\n"
     ]
    }
   ],
   "source": [
    "import Pkg; Pkg.activate(\"..\")"
   ]
  },
  {
   "cell_type": "code",
   "execution_count": 2,
   "metadata": {},
   "outputs": [],
   "source": [
    "using AdventOfCode\n",
    "using AdventOfCode.AoC2019"
   ]
  },
  {
   "cell_type": "code",
   "execution_count": 3,
   "metadata": {},
   "outputs": [
    {
     "data": {
      "text/plain": [
       "11"
      ]
     },
     "execution_count": 3,
     "metadata": {},
     "output_type": "execute_result"
    }
   ],
   "source": [
    "year = 2019\n",
    "day = 11"
   ]
  },
  {
   "cell_type": "code",
   "execution_count": 4,
   "metadata": {},
   "outputs": [
    {
     "data": {
      "text/plain": [
       "\"3,8,1005,8,321,1106,0,11,0,0,0,104,1,104,0,3,8,102,-1,8,10,1001,10,1,10,4,10,1008,8,1,10,4,10,1002,8,1,29,3,8,1002,8,-1,10,101,1,10,10,4,10,108,0,8,10,4,10,1002,8,1,50,3,8,102,-1,8,10,1001,10,1,10,4,10,1008,8,0,10,4,10,1001,8,0,73,1,1105,16,10,2,1004,8,10,3,8,1002,8,-1,\" ⋯ 1519 bytes ⋯ \",-4,-4,1105,1,638,22102,1,-4,1,21201,-3,-1,2,21202,-2,2,3,21101,0,589,0,1106,0,547,22102,1,1,-4,21101,1,0,-1,2207,-4,-2,10,1006,10,608,21102,0,1,-1,22202,-2,-1,-2,2107,0,-3,10,1006,10,630,21202,-1,1,1,21102,630,1,0,105,1,505,21202,-2,-1,-2,22201,-4,-2,-4,109,-5,2106,0,0\""
      ]
     },
     "execution_count": 4,
     "metadata": {},
     "output_type": "execute_result"
    }
   ],
   "source": [
    "input = get_input(year, day)"
   ]
  },
  {
   "cell_type": "code",
   "execution_count": 5,
   "metadata": {},
   "outputs": [
    {
     "data": {
      "text/plain": [
       "4-element Vector{Tuple{Int64, Int64}}:\n",
       " (-1, 0)\n",
       " (0, -1)\n",
       " (1, 0)\n",
       " (0, 1)"
      ]
     },
     "execution_count": 5,
     "metadata": {},
     "output_type": "execute_result"
    }
   ],
   "source": [
    "DIR = [(-1, 0), (0, -1), (1, 0), (0, 1)]"
   ]
  },
  {
   "cell_type": "code",
   "execution_count": 6,
   "metadata": {},
   "outputs": [
    {
     "data": {
      "text/plain": [
       "part_one (generic function with 1 method)"
      ]
     },
     "execution_count": 6,
     "metadata": {},
     "output_type": "execute_result"
    }
   ],
   "source": [
    "function part_one(input)\n",
    "    mem = parse.(Int, split(input, \",\"))\n",
    "    machine = IntCodeMachine(collect(mem))\n",
    "    color = DefaultDict{Tuple{Int, Int}, Int}(() -> 0)\n",
    "    cnt = DefaultDict{Tuple{Int, Int}, Int}(() -> 0)\n",
    "    x, y, d = 0, 0, 1\n",
    "\n",
    "    while !ishalted(machine)\n",
    "        push!(machine.inputs, color[(x, y)])\n",
    "        exec!(machine)\n",
    "        col, dir = machine.outputs[end-1:end]\n",
    "        cnt[(x, y)] += 1\n",
    "        color[(x, y)] = col\n",
    "        if dir == 0\n",
    "            # Turn left\n",
    "            d -= 1\n",
    "            if d == 0\n",
    "                d = 4\n",
    "            end\n",
    "        else\n",
    "            # Turn right\n",
    "            d += 1\n",
    "            if d == 5\n",
    "                d = 1\n",
    "            end\n",
    "        end\n",
    "        dx, dy = DIR[d]\n",
    "        x += dx\n",
    "        y += dy\n",
    "    end\n",
    "\n",
    "    return length(cnt)\n",
    "end"
   ]
  },
  {
   "cell_type": "code",
   "execution_count": 7,
   "metadata": {},
   "outputs": [
    {
     "data": {
      "text/plain": [
       "2056"
      ]
     },
     "execution_count": 7,
     "metadata": {},
     "output_type": "execute_result"
    }
   ],
   "source": [
    "part_one_ans = part_one(input)"
   ]
  },
  {
   "cell_type": "code",
   "execution_count": 8,
   "metadata": {},
   "outputs": [
    {
     "data": {
      "text/plain": [
       "\"<!DOCTYPE html>\\n<html lang=\\\"en-us\\\">\\n<head>\\n<meta charset=\\\"utf-8\\\"/>\\n<title>Day 11 - Advent of Code 2019</title>\\n<!--[if lt IE 9]><script src=\\\"/static/html5.js\\\"></script><![endif]-->\\n<link href='//fonts.googleapis.com/css?family=Source+Code+Pro:300&subset=latin,latin-ext'\" ⋯ 3250 bytes ⋯ \"Name(o)[0];a.async=1;a.src=g;m.parentNode.insertBefore(a,m)\\n})(window,document,'script','//www.google-analytics.com/analytics.js','ga');\\nga('create', 'UA-69522494-1', 'auto');\\nga('set', 'anonymizeIp', true);\\nga('send', 'pageview');\\n</script>\\n<!-- /ga -->\\n</body>\\n</html>\""
      ]
     },
     "execution_count": 8,
     "metadata": {},
     "output_type": "execute_result"
    }
   ],
   "source": [
    "submit_answer(year, day, part_one_ans)"
   ]
  },
  {
   "cell_type": "code",
   "execution_count": 9,
   "metadata": {},
   "outputs": [
    {
     "data": {
      "text/plain": [
       "part_two (generic function with 1 method)"
      ]
     },
     "execution_count": 9,
     "metadata": {},
     "output_type": "execute_result"
    }
   ],
   "source": [
    "function part_two(input)\n",
    "    mem = parse.(Int, split(input, \",\"))\n",
    "    machine = IntCodeMachine(collect(mem))\n",
    "    color = DefaultDict{Tuple{Int,Int},Int}(() -> 0)\n",
    "    color[(0, 0)] = 1\n",
    "    cnt = DefaultDict{Tuple{Int,Int},Int}(() -> 0)\n",
    "    x, y, d = 0, 0, 1\n",
    "\n",
    "    while !ishalted(machine)\n",
    "        push!(machine.inputs, color[(x, y)])\n",
    "        exec!(machine)\n",
    "        col, dir = machine.outputs[end-1:end]\n",
    "        cnt[(x, y)] += 1\n",
    "        color[(x, y)] = col\n",
    "        if dir == 0\n",
    "            # Turn left\n",
    "            d -= 1\n",
    "            if d == 0\n",
    "                d = 4\n",
    "            end\n",
    "        else\n",
    "            # Turn right\n",
    "            d += 1\n",
    "            if d == 5\n",
    "                d = 1\n",
    "            end\n",
    "        end\n",
    "        dx, dy = DIR[d]\n",
    "        x += dx\n",
    "        y += dy\n",
    "    end\n",
    "\n",
    "    ks = keys(color)\n",
    "    xs = first.(ks)\n",
    "    ys = last.(ks)\n",
    "    xmin, xmax = extrema(xs)\n",
    "    ymin, ymax = extrema(ys)\n",
    "    paint = [fill(' ', xmax - xmin + 1) for _ in 1:ymax - ymin + 1]\n",
    "    for (x, y) in ks\n",
    "        paint[y - ymin + 1][x - xmin + 1] = color[(x, y)] == 1 ? '█' : ' '\n",
    "    end\n",
    "\n",
    "    for row in paint\n",
    "        println(join(row))\n",
    "    end\n",
    "end"
   ]
  },
  {
   "cell_type": "code",
   "execution_count": 10,
   "metadata": {},
   "outputs": [
    {
     "name": "stdout",
     "output_type": "stream",
     "text": [
      "      \n",
      "      \n",
      "      \n",
      " ██   \n",
      "█  █  \n",
      "█  █  \n",
      "██████\n",
      "      \n",
      "██   █\n",
      "█ █  █\n",
      "█  █ █\n",
      "█   ██\n",
      "      \n",
      "█████ \n",
      "█    █\n",
      "     █\n",
      "    █ \n",
      "      \n",
      " ██   \n",
      "█  █  \n",
      "█  █  \n",
      "██████\n",
      "      \n",
      "█    █\n",
      "█ █  █\n",
      "█ █  █\n",
      "██████\n",
      "      \n",
      " █ ██ \n",
      "█ █  █\n",
      "█ █  █\n",
      "██████\n",
      "      \n",
      "     █\n",
      "     █\n",
      "     █\n",
      "██████\n",
      "      \n",
      " █ ███\n",
      "█  █ █\n",
      "█    █\n",
      " ████ \n",
      "      \n"
     ]
    }
   ],
   "source": [
    "part_two_ans = part_two(input)"
   ]
  }
 ],
 "metadata": {
  "kernelspec": {
   "display_name": "Julia 1.8.0",
   "language": "julia",
   "name": "julia-1.8"
  },
  "language_info": {
   "file_extension": ".jl",
   "mimetype": "application/julia",
   "name": "julia",
   "version": "1.8.3"
  },
  "orig_nbformat": 4,
  "vscode": {
   "interpreter": {
    "hash": "2decbbcdbe1b404b08c0c2ae8935a58886fd60ea7dad56cfc87e2a14f377e9ba"
   }
  }
 },
 "nbformat": 4,
 "nbformat_minor": 2
}
