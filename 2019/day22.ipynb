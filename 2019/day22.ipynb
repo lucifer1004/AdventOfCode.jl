{
 "cells": [
  {
   "cell_type": "code",
   "execution_count": 1,
   "metadata": {},
   "outputs": [
    {
     "name": "stderr",
     "output_type": "stream",
     "text": [
      "\u001b[32m\u001b[1m  Activating\u001b[22m\u001b[39m project at `~/com.github/lucifer1004/AdventOfCode.jl`\n"
     ]
    }
   ],
   "source": [
    "import Pkg; Pkg.activate(\"..\")"
   ]
  },
  {
   "cell_type": "code",
   "execution_count": 2,
   "metadata": {},
   "outputs": [],
   "source": [
    "using AdventOfCode"
   ]
  },
  {
   "cell_type": "code",
   "execution_count": 3,
   "metadata": {},
   "outputs": [
    {
     "data": {
      "text/plain": [
       "22"
      ]
     },
     "execution_count": 3,
     "metadata": {},
     "output_type": "execute_result"
    }
   ],
   "source": [
    "year = 2019\n",
    "day = 22"
   ]
  },
  {
   "cell_type": "code",
   "execution_count": 4,
   "metadata": {},
   "outputs": [
    {
     "data": {
      "text/plain": [
       "\"deal with increment 34\\ncut 9781\\ndeal with increment 20\\ncut 8981\\ndeal with increment 11\\ncut -3391\\ndeal with increment 15\\ncut 1485\\ndeal with increment 10\\ncut 4826\\ndeal into new stack\\ncut 1026\\ndeal with increment 30\\ncut 1354\\ndeal with increment 46\\ncut 1955\\ndeal with increm\" ⋯ 1127 bytes ⋯ \"into new stack\\ndeal with increment 39\\ncut 7011\\ndeal with increment 48\\ncut -9660\\ndeal with increment 56\\ncut -6843\\ndeal into new stack\\ncut 5111\\ndeal with increment 29\\ncut -7700\\ndeal into new stack\\ndeal with increment 23\\ncut -5263\\ndeal with increment 61\\ndeal into new stack\""
      ]
     },
     "execution_count": 4,
     "metadata": {},
     "output_type": "execute_result"
    }
   ],
   "source": [
    "input = get_input(year, day)"
   ]
  },
  {
   "cell_type": "code",
   "execution_count": 5,
   "metadata": {},
   "outputs": [
    {
     "data": {
      "text/plain": [
       "100-element Vector{SubString{String}}:\n",
       " \"deal with increment 34\"\n",
       " \"cut 9781\"\n",
       " \"deal with increment 20\"\n",
       " \"cut 8981\"\n",
       " \"deal with increment 11\"\n",
       " \"cut -3391\"\n",
       " \"deal with increment 15\"\n",
       " \"cut 1485\"\n",
       " \"deal with increment 10\"\n",
       " \"cut 4826\"\n",
       " \"deal into new stack\"\n",
       " \"cut 1026\"\n",
       " \"deal with increment 30\"\n",
       " ⋮\n",
       " \"cut -9660\"\n",
       " \"deal with increment 56\"\n",
       " \"cut -6843\"\n",
       " \"deal into new stack\"\n",
       " \"cut 5111\"\n",
       " \"deal with increment 29\"\n",
       " \"cut -7700\"\n",
       " \"deal into new stack\"\n",
       " \"deal with increment 23\"\n",
       " \"cut -5263\"\n",
       " \"deal with increment 61\"\n",
       " \"deal into new stack\""
      ]
     },
     "execution_count": 5,
     "metadata": {},
     "output_type": "execute_result"
    }
   ],
   "source": [
    "parsed_input = parse_input(input)"
   ]
  },
  {
   "cell_type": "code",
   "execution_count": 6,
   "metadata": {},
   "outputs": [
    {
     "data": {
      "text/plain": [
       "preprocess (generic function with 1 method)"
      ]
     },
     "execution_count": 6,
     "metadata": {},
     "output_type": "execute_result"
    }
   ],
   "source": [
    "function preprocess(input)\n",
    "    map(input) do line\n",
    "        if startswith(line, \"cut\")\n",
    "            (1, parse(Int, line[5:end]))\n",
    "        elseif startswith(line, \"deal with\")\n",
    "            (2, parse(Int, line[20:end]))\n",
    "        else\n",
    "            (3, 0)\n",
    "        end\n",
    "    end\n",
    "end"
   ]
  },
  {
   "cell_type": "code",
   "execution_count": 7,
   "metadata": {},
   "outputs": [
    {
     "data": {
      "text/plain": [
       "part_one (generic function with 1 method)"
      ]
     },
     "execution_count": 7,
     "metadata": {},
     "output_type": "execute_result"
    }
   ],
   "source": [
    "function part_one(input)\n",
    "    operations = preprocess(input)\n",
    "    deck_size = 10007\n",
    "    start_pos = 2019\n",
    "    trans = [Mod{deck_size}(1), Mod{deck_size}(0)]\n",
    "    for (op, arg) in operations\n",
    "        if op == 1\n",
    "            if arg < 0\n",
    "                arg += deck_size\n",
    "            end\n",
    "            \n",
    "            trans[2] -= arg\n",
    "        elseif op == 2\n",
    "            trans .*= arg\n",
    "        else\n",
    "            trans[1] *= -1\n",
    "            trans[2] = deck_size - 1 - trans[2]\n",
    "        end\n",
    "    end\n",
    "\n",
    "    a, b = trans\n",
    "    return value(a * start_pos + b)\n",
    "end"
   ]
  },
  {
   "cell_type": "code",
   "execution_count": 8,
   "metadata": {},
   "outputs": [
    {
     "data": {
      "text/plain": [
       "6850"
      ]
     },
     "execution_count": 8,
     "metadata": {},
     "output_type": "execute_result"
    }
   ],
   "source": [
    "part_one_ans = part_one(parsed_input)"
   ]
  },
  {
   "cell_type": "code",
   "execution_count": 9,
   "metadata": {},
   "outputs": [
    {
     "data": {
      "text/plain": [
       "\"<!DOCTYPE html>\\n<html lang=\\\"en-us\\\">\\n<head>\\n<meta charset=\\\"utf-8\\\"/>\\n<title>Day 22 - Advent of Code 2019</title>\\n<!--[if lt IE 9]><script src=\\\"/static/html5.js\\\"></script><![endif]-->\\n<link href='//fonts.googleapis.com/css?family=Source+Code+Pro:300&subset=latin,latin-ext'\" ⋯ 3269 bytes ⋯ \"Name(o)[0];a.async=1;a.src=g;m.parentNode.insertBefore(a,m)\\n})(window,document,'script','//www.google-analytics.com/analytics.js','ga');\\nga('create', 'UA-69522494-1', 'auto');\\nga('set', 'anonymizeIp', true);\\nga('send', 'pageview');\\n</script>\\n<!-- /ga -->\\n</body>\\n</html>\""
      ]
     },
     "execution_count": 9,
     "metadata": {},
     "output_type": "execute_result"
    }
   ],
   "source": [
    "submit_answer(year, day, part_one_ans)"
   ]
  },
  {
   "cell_type": "code",
   "execution_count": 10,
   "metadata": {},
   "outputs": [
    {
     "data": {
      "text/plain": [
       "part_two (generic function with 1 method)"
      ]
     },
     "execution_count": 10,
     "metadata": {},
     "output_type": "execute_result"
    }
   ],
   "source": [
    "function part_two(input)\n",
    "    operations = preprocess(input)\n",
    "    deck_size = 119315717514047\n",
    "    shuffle_times = 101741582076661\n",
    "    final_pos = 2020\n",
    "    trans = [Mod{deck_size}(1), Mod{deck_size}(0)]\n",
    "    for i in 1:1\n",
    "        for (op, arg) in reverse(operations)\n",
    "            if op == 1\n",
    "                if arg < 0\n",
    "                    arg += deck_size\n",
    "                end                \n",
    "                trans[2] += arg\n",
    "            elseif op == 2\n",
    "                trans ./= arg\n",
    "            else\n",
    "                trans[1] *= -1\n",
    "                trans[2] = deck_size - 1 - trans[2]\n",
    "            end\n",
    "        end\n",
    "    end\n",
    "\n",
    "    a, b = trans\n",
    "    ans = a^(shuffle_times) * final_pos + b * (a^(shuffle_times) - 1) / (a - 1)\n",
    "    return value(ans)\n",
    "end"
   ]
  },
  {
   "cell_type": "code",
   "execution_count": 11,
   "metadata": {},
   "outputs": [
    {
     "data": {
      "text/plain": [
       "13224103523662"
      ]
     },
     "execution_count": 11,
     "metadata": {},
     "output_type": "execute_result"
    }
   ],
   "source": [
    "part_two_ans = part_two(parsed_input)"
   ]
  },
  {
   "cell_type": "code",
   "execution_count": 12,
   "metadata": {},
   "outputs": [
    {
     "data": {
      "text/plain": [
       "\"<!DOCTYPE html>\\n<html lang=\\\"en-us\\\">\\n<head>\\n<meta charset=\\\"utf-8\\\"/>\\n<title>Day 22 - Advent of Code 2019</title>\\n<!--[if lt IE 9]><script src=\\\"/static/html5.js\\\"></script><![endif]-->\\n<link href='//fonts.googleapis.com/css?family=Source+Code+Pro:300&subset=latin,latin-ext'\" ⋯ 3193 bytes ⋯ \"Name(o)[0];a.async=1;a.src=g;m.parentNode.insertBefore(a,m)\\n})(window,document,'script','//www.google-analytics.com/analytics.js','ga');\\nga('create', 'UA-69522494-1', 'auto');\\nga('set', 'anonymizeIp', true);\\nga('send', 'pageview');\\n</script>\\n<!-- /ga -->\\n</body>\\n</html>\""
      ]
     },
     "execution_count": 12,
     "metadata": {},
     "output_type": "execute_result"
    }
   ],
   "source": [
    "submit_answer(year, day, part_two_ans, 2)"
   ]
  }
 ],
 "metadata": {
  "kernelspec": {
   "display_name": "Julia 1.8.0",
   "language": "julia",
   "name": "julia-1.8"
  },
  "language_info": {
   "file_extension": ".jl",
   "mimetype": "application/julia",
   "name": "julia",
   "version": "1.8.3"
  },
  "orig_nbformat": 4,
  "vscode": {
   "interpreter": {
    "hash": "2decbbcdbe1b404b08c0c2ae8935a58886fd60ea7dad56cfc87e2a14f377e9ba"
   }
  }
 },
 "nbformat": 4,
 "nbformat_minor": 2
}
