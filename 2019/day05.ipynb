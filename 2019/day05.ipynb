{
 "cells": [
  {
   "cell_type": "code",
   "execution_count": 1,
   "metadata": {},
   "outputs": [
    {
     "name": "stderr",
     "output_type": "stream",
     "text": [
      "\u001b[32m\u001b[1m  Activating\u001b[22m\u001b[39m project at `~/com.github/lucifer1004/AdventOfCode.jl`\n"
     ]
    }
   ],
   "source": [
    "import Pkg; Pkg.activate(\"..\")"
   ]
  },
  {
   "cell_type": "code",
   "execution_count": 2,
   "metadata": {},
   "outputs": [
    {
     "name": "stderr",
     "output_type": "stream",
     "text": [
      "┌ Info: Precompiling AdventOfCode [ec480b64-8d68-453c-9e84-9dbf6ce847d6]\n",
      "└ @ Base loading.jl:1664\n"
     ]
    }
   ],
   "source": [
    "using AdventOfCode\n",
    "using AdventOfCode.AoC2019"
   ]
  },
  {
   "cell_type": "code",
   "execution_count": 3,
   "metadata": {},
   "outputs": [
    {
     "data": {
      "text/plain": [
       "5"
      ]
     },
     "execution_count": 3,
     "metadata": {},
     "output_type": "execute_result"
    }
   ],
   "source": [
    "year = 2019\n",
    "day = 5"
   ]
  },
  {
   "cell_type": "code",
   "execution_count": 4,
   "metadata": {},
   "outputs": [
    {
     "data": {
      "text/plain": [
       "\"3,225,1,225,6,6,1100,1,238,225,104,0,1002,188,27,224,1001,224,-2241,224,4,224,102,8,223,223,1001,224,6,224,1,223,224,223,101,65,153,224,101,-108,224,224,4,224,1002,223,8,223,1001,224,1,224,1,224,223,223,1,158,191,224,101,-113,224,224,4,224,102,8,223,223,1001,224,7,224,1\" ⋯ 2012 bytes ⋯ \"005,224,614,101,1,223,223,108,226,677,224,102,2,223,223,1005,224,629,101,1,223,223,8,677,226,224,102,2,223,223,1006,224,644,1001,223,1,223,1007,677,677,224,1002,223,2,223,1006,224,659,1001,223,1,223,1008,677,677,224,1002,223,2,223,1005,224,674,101,1,223,223,4,223,99,226\""
      ]
     },
     "execution_count": 4,
     "metadata": {},
     "output_type": "execute_result"
    }
   ],
   "source": [
    "input = get_input(year, day)"
   ]
  },
  {
   "cell_type": "code",
   "execution_count": 5,
   "metadata": {},
   "outputs": [
    {
     "data": {
      "text/plain": [
       "part_one (generic function with 1 method)"
      ]
     },
     "execution_count": 5,
     "metadata": {},
     "output_type": "execute_result"
    }
   ],
   "source": [
    "function part_one(input)\n",
    "    mem = parse.(Int, split(input, \",\"))\n",
    "    outputs = exec!(mem; inputs = [1])\n",
    "    return outputs[end]\n",
    "end"
   ]
  },
  {
   "cell_type": "code",
   "execution_count": 6,
   "metadata": {},
   "outputs": [
    {
     "data": {
      "text/plain": [
       "13087969"
      ]
     },
     "execution_count": 6,
     "metadata": {},
     "output_type": "execute_result"
    }
   ],
   "source": [
    "part_one_ans = part_one(input)"
   ]
  },
  {
   "cell_type": "code",
   "execution_count": 7,
   "metadata": {},
   "outputs": [
    {
     "data": {
      "text/plain": [
       "\"<!DOCTYPE html>\\n<html lang=\\\"en-us\\\">\\n<head>\\n<meta charset=\\\"utf-8\\\"/>\\n<title>Day 5 - Advent of Code 2019</title>\\n<!--[if lt IE 9]><script src=\\\"/static/html5.js\\\"></script><![endif]-->\\n<link href='//fonts.googleapis.com/css?family=Source+Code+Pro:300&subset=latin,latin-ext' \" ⋯ 3206 bytes ⋯ \"Name(o)[0];a.async=1;a.src=g;m.parentNode.insertBefore(a,m)\\n})(window,document,'script','//www.google-analytics.com/analytics.js','ga');\\nga('create', 'UA-69522494-1', 'auto');\\nga('set', 'anonymizeIp', true);\\nga('send', 'pageview');\\n</script>\\n<!-- /ga -->\\n</body>\\n</html>\""
      ]
     },
     "execution_count": 7,
     "metadata": {},
     "output_type": "execute_result"
    }
   ],
   "source": [
    "submit_answer(year, day, part_one_ans)"
   ]
  },
  {
   "cell_type": "code",
   "execution_count": 8,
   "metadata": {},
   "outputs": [
    {
     "data": {
      "text/plain": [
       "part_two (generic function with 1 method)"
      ]
     },
     "execution_count": 8,
     "metadata": {},
     "output_type": "execute_result"
    }
   ],
   "source": [
    "function part_two(input)\n",
    "    mem = parse.(Int, split(input, \",\"))\n",
    "    outputs = exec!(mem; inputs=[5])\n",
    "    return outputs[end]\n",
    "end"
   ]
  },
  {
   "cell_type": "code",
   "execution_count": 9,
   "metadata": {},
   "outputs": [
    {
     "data": {
      "text/plain": [
       "14110739"
      ]
     },
     "execution_count": 9,
     "metadata": {},
     "output_type": "execute_result"
    }
   ],
   "source": [
    "part_two_ans = part_two(input)"
   ]
  },
  {
   "cell_type": "code",
   "execution_count": 10,
   "metadata": {},
   "outputs": [
    {
     "data": {
      "text/plain": [
       "\"<!DOCTYPE html>\\n<html lang=\\\"en-us\\\">\\n<head>\\n<meta charset=\\\"utf-8\\\"/>\\n<title>Day 5 - Advent of Code 2019</title>\\n<!--[if lt IE 9]><script src=\\\"/static/html5.js\\\"></script><![endif]-->\\n<link href='//fonts.googleapis.com/css?family=Source+Code+Pro:300&subset=latin,latin-ext' \" ⋯ 3204 bytes ⋯ \"Name(o)[0];a.async=1;a.src=g;m.parentNode.insertBefore(a,m)\\n})(window,document,'script','//www.google-analytics.com/analytics.js','ga');\\nga('create', 'UA-69522494-1', 'auto');\\nga('set', 'anonymizeIp', true);\\nga('send', 'pageview');\\n</script>\\n<!-- /ga -->\\n</body>\\n</html>\""
      ]
     },
     "execution_count": 10,
     "metadata": {},
     "output_type": "execute_result"
    }
   ],
   "source": [
    "submit_answer(year, day, part_two_ans, 2)"
   ]
  }
 ],
 "metadata": {
  "kernelspec": {
   "display_name": "Julia 1.8.0",
   "language": "julia",
   "name": "julia-1.8"
  },
  "language_info": {
   "file_extension": ".jl",
   "mimetype": "application/julia",
   "name": "julia",
   "version": "1.8.3"
  },
  "orig_nbformat": 4,
  "vscode": {
   "interpreter": {
    "hash": "2decbbcdbe1b404b08c0c2ae8935a58886fd60ea7dad56cfc87e2a14f377e9ba"
   }
  }
 },
 "nbformat": 4,
 "nbformat_minor": 2
}
