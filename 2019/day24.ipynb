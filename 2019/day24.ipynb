{
 "cells": [
  {
   "cell_type": "code",
   "execution_count": 1,
   "metadata": {},
   "outputs": [
    {
     "name": "stderr",
     "output_type": "stream",
     "text": [
      "\u001b[32m\u001b[1m  Activating\u001b[22m\u001b[39m project at `~/com.github/lucifer1004/AdventOfCode.jl`\n"
     ]
    }
   ],
   "source": [
    "import Pkg; Pkg.activate(\"..\")"
   ]
  },
  {
   "cell_type": "code",
   "execution_count": 2,
   "metadata": {},
   "outputs": [],
   "source": [
    "using AdventOfCode"
   ]
  },
  {
   "cell_type": "code",
   "execution_count": 3,
   "metadata": {},
   "outputs": [
    {
     "data": {
      "text/plain": [
       "24"
      ]
     },
     "execution_count": 3,
     "metadata": {},
     "output_type": "execute_result"
    }
   ],
   "source": [
    "year = 2019\n",
    "day = 24"
   ]
  },
  {
   "cell_type": "code",
   "execution_count": 4,
   "metadata": {},
   "outputs": [
    {
     "data": {
      "text/plain": [
       "\"#.#.#\\n.#...\\n...#.\\n.###.\\n###.#\""
      ]
     },
     "execution_count": 4,
     "metadata": {},
     "output_type": "execute_result"
    }
   ],
   "source": [
    "input = get_input(year, day)"
   ]
  },
  {
   "cell_type": "code",
   "execution_count": 5,
   "metadata": {},
   "outputs": [
    {
     "data": {
      "text/plain": [
       "5-element Vector{SubString{String}}:\n",
       " \"#.#.#\"\n",
       " \".#...\"\n",
       " \"...#.\"\n",
       " \".###.\"\n",
       " \"###.#\""
      ]
     },
     "execution_count": 5,
     "metadata": {},
     "output_type": "execute_result"
    }
   ],
   "source": [
    "parsed_input = parse_input(input)"
   ]
  },
  {
   "cell_type": "code",
   "execution_count": 6,
   "metadata": {},
   "outputs": [
    {
     "data": {
      "text/plain": [
       "\"....#\\n#..#.\\n#..##\\n..#..\\n#....\""
      ]
     },
     "execution_count": 6,
     "metadata": {},
     "output_type": "execute_result"
    }
   ],
   "source": [
    "sample = \"\"\"....#\n",
    "#..#.\n",
    "#..##\n",
    "..#..\n",
    "#....\"\"\""
   ]
  },
  {
   "cell_type": "code",
   "execution_count": 7,
   "metadata": {},
   "outputs": [
    {
     "data": {
      "text/plain": [
       "5-element Vector{SubString{String}}:\n",
       " \"....#\"\n",
       " \"#..#.\"\n",
       " \"#..##\"\n",
       " \"..#..\"\n",
       " \"#....\""
      ]
     },
     "execution_count": 7,
     "metadata": {},
     "output_type": "execute_result"
    }
   ],
   "source": [
    "parsed_sample = parse_input(sample)"
   ]
  },
  {
   "cell_type": "code",
   "execution_count": 8,
   "metadata": {},
   "outputs": [
    {
     "data": {
      "text/plain": [
       "4-element Vector{Tuple{Int64, Int64}}:\n",
       " (0, 1)\n",
       " (0, -1)\n",
       " (1, 0)\n",
       " (-1, 0)"
      ]
     },
     "execution_count": 8,
     "metadata": {},
     "output_type": "execute_result"
    }
   ],
   "source": [
    "DIRS = [(0, 1), (0, -1), (1, 0), (-1, 0)]"
   ]
  },
  {
   "cell_type": "code",
   "execution_count": 9,
   "metadata": {},
   "outputs": [
    {
     "data": {
      "text/plain": [
       "biodiversity (generic function with 1 method)"
      ]
     },
     "execution_count": 9,
     "metadata": {},
     "output_type": "execute_result"
    }
   ],
   "source": [
    "biodiversity(bugs) = sum(1 << ((i - 1) * 5 + j - 1) for (i, j) in bugs)"
   ]
  },
  {
   "cell_type": "code",
   "execution_count": 10,
   "metadata": {},
   "outputs": [
    {
     "data": {
      "text/plain": [
       "part_one (generic function with 1 method)"
      ]
     },
     "execution_count": 10,
     "metadata": {},
     "output_type": "execute_result"
    }
   ],
   "source": [
    "function part_one(input)\n",
    "    bugs = Set([(i, j) for i in 1:5, j in 1:5 if input[i][j] == '#'])\n",
    "    seen = Set()\n",
    "    push!(seen, biodiversity(bugs))\n",
    "\n",
    "    while true\n",
    "        new_bugs = Set()\n",
    "        for i in 1:5, j in 1:5\n",
    "            n = sum((i + di, j + dj) in bugs for (di, dj) in DIRS)\n",
    "            if (i, j) in bugs\n",
    "                if n == 1\n",
    "                    push!(new_bugs, (i, j))\n",
    "                end\n",
    "            else\n",
    "                if n in (1, 2)\n",
    "                    push!(new_bugs, (i, j))\n",
    "                end\n",
    "            end\n",
    "        end\n",
    "        bugs = new_bugs\n",
    "        bio = biodiversity(bugs)\n",
    "        if bio in seen\n",
    "            return bio\n",
    "        else\n",
    "            push!(seen, bio)\n",
    "        end\n",
    "    end\n",
    "end"
   ]
  },
  {
   "cell_type": "code",
   "execution_count": 11,
   "metadata": {},
   "outputs": [
    {
     "data": {
      "text/plain": [
       "2129920"
      ]
     },
     "execution_count": 11,
     "metadata": {},
     "output_type": "execute_result"
    }
   ],
   "source": [
    "part_one(parsed_sample)"
   ]
  },
  {
   "cell_type": "code",
   "execution_count": 12,
   "metadata": {},
   "outputs": [
    {
     "data": {
      "text/plain": [
       "11042850"
      ]
     },
     "execution_count": 12,
     "metadata": {},
     "output_type": "execute_result"
    }
   ],
   "source": [
    "part_one_ans = part_one(parsed_input)"
   ]
  },
  {
   "cell_type": "code",
   "execution_count": 13,
   "metadata": {},
   "outputs": [
    {
     "data": {
      "text/plain": [
       "\"<!DOCTYPE html>\\n<html lang=\\\"en-us\\\">\\n<head>\\n<meta charset=\\\"utf-8\\\"/>\\n<title>Day 24 - Advent of Code 2019</title>\\n<!--[if lt IE 9]><script src=\\\"/static/html5.js\\\"></script><![endif]-->\\n<link href='//fonts.googleapis.com/css?family=Source+Code+Pro:300&subset=latin,latin-ext'\" ⋯ 3170 bytes ⋯ \"Name(o)[0];a.async=1;a.src=g;m.parentNode.insertBefore(a,m)\\n})(window,document,'script','//www.google-analytics.com/analytics.js','ga');\\nga('create', 'UA-69522494-1', 'auto');\\nga('set', 'anonymizeIp', true);\\nga('send', 'pageview');\\n</script>\\n<!-- /ga -->\\n</body>\\n</html>\""
      ]
     },
     "execution_count": 13,
     "metadata": {},
     "output_type": "execute_result"
    }
   ],
   "source": [
    "submit_answer(year, day, part_one_ans)"
   ]
  },
  {
   "cell_type": "code",
   "execution_count": 14,
   "metadata": {},
   "outputs": [
    {
     "data": {
      "text/plain": [
       "neighbors (generic function with 1 method)"
      ]
     },
     "execution_count": 14,
     "metadata": {},
     "output_type": "execute_result"
    }
   ],
   "source": [
    "function neighbors(i, j, lvl)\n",
    "    nbs = Tuple{Int, Int, Int}[]\n",
    "\n",
    "    # Left\n",
    "    if j > 1 && (i, j) != (3, 4)\n",
    "        push!(nbs, (i, j - 1, lvl))\n",
    "    elseif (i, j) == (3, 4)\n",
    "        for k in 1:5\n",
    "            push!(nbs, (k, 5, lvl + 1))\n",
    "        end\n",
    "    else\n",
    "        push!(nbs, (3, 2, lvl - 1))\n",
    "    end\n",
    "\n",
    "    # Right\n",
    "    if j < 5 && (i, j) != (3, 2)\n",
    "        push!(nbs, (i, j + 1, lvl))\n",
    "    elseif (i, j) == (3, 2)\n",
    "        for k in 1:5\n",
    "            push!(nbs, (k, 1, lvl + 1))\n",
    "        end\n",
    "    else\n",
    "        push!(nbs, (3, 4, lvl - 1))\n",
    "    end\n",
    "\n",
    "    # Up\n",
    "    if i > 1 && (i, j) != (4, 3)\n",
    "        push!(nbs, (i - 1, j, lvl))\n",
    "    elseif (i, j) == (4, 3)\n",
    "        for k in 1:5\n",
    "            push!(nbs, (5, k, lvl + 1))\n",
    "        end\n",
    "    else\n",
    "        push!(nbs, (2, 3, lvl - 1))\n",
    "    end\n",
    "\n",
    "    # Down\n",
    "    if i < 5 && (i, j) != (2, 3)\n",
    "        push!(nbs, (i + 1, j, lvl))\n",
    "    elseif (i, j) == (2, 3)\n",
    "        for k in 1:5\n",
    "            push!(nbs, (1, k, lvl + 1))\n",
    "        end\n",
    "    else\n",
    "        push!(nbs, (4, 3, lvl - 1))\n",
    "    end\n",
    "\n",
    "    return nbs\n",
    "end"
   ]
  },
  {
   "cell_type": "code",
   "execution_count": 15,
   "metadata": {},
   "outputs": [
    {
     "data": {
      "text/plain": [
       "part_two (generic function with 2 methods)"
      ]
     },
     "execution_count": 15,
     "metadata": {},
     "output_type": "execute_result"
    }
   ],
   "source": [
    "function part_two(input, T=200)\n",
    "    bugs = Set([(i, j, 0) for i in 1:5, j in 1:5 if input[i][j] == '#' && (i, j) != (3, 3)])\n",
    "\n",
    "    for t in 1:T\n",
    "        new_bugs = Set()\n",
    "        for lvl in -t:t\n",
    "            for i in 1:5, j in 1:5\n",
    "                if (i, j) == (3, 3)\n",
    "                    continue\n",
    "                end\n",
    "\n",
    "                bgs = sum(n in bugs for n in neighbors(i, j, lvl))\n",
    "                if (i, j, lvl) in bugs\n",
    "                    if bgs == 1\n",
    "                        push!(new_bugs, (i, j, lvl))\n",
    "                    end\n",
    "                else\n",
    "                    if bgs in (1, 2)\n",
    "                        push!(new_bugs, (i, j, lvl))\n",
    "                    end\n",
    "                end\n",
    "            end\n",
    "        end\n",
    "        bugs = new_bugs\n",
    "    end\n",
    "\n",
    "    return length(bugs)\n",
    "end"
   ]
  },
  {
   "cell_type": "code",
   "execution_count": 16,
   "metadata": {},
   "outputs": [
    {
     "data": {
      "text/plain": [
       "99"
      ]
     },
     "execution_count": 16,
     "metadata": {},
     "output_type": "execute_result"
    }
   ],
   "source": [
    "part_two(parsed_sample, 10)"
   ]
  },
  {
   "cell_type": "code",
   "execution_count": 17,
   "metadata": {},
   "outputs": [
    {
     "data": {
      "text/plain": [
       "1967"
      ]
     },
     "execution_count": 17,
     "metadata": {},
     "output_type": "execute_result"
    }
   ],
   "source": [
    "part_two_ans = part_two(parsed_input)"
   ]
  },
  {
   "cell_type": "code",
   "execution_count": 18,
   "metadata": {},
   "outputs": [
    {
     "data": {
      "text/plain": [
       "\"<!DOCTYPE html>\\n<html lang=\\\"en-us\\\">\\n<head>\\n<meta charset=\\\"utf-8\\\"/>\\n<title>Day 24 - Advent of Code 2019</title>\\n<!--[if lt IE 9]><script src=\\\"/static/html5.js\\\"></script><![endif]-->\\n<link href='//fonts.googleapis.com/css?family=Source+Code+Pro:300&subset=latin,latin-ext'\" ⋯ 3214 bytes ⋯ \"Name(o)[0];a.async=1;a.src=g;m.parentNode.insertBefore(a,m)\\n})(window,document,'script','//www.google-analytics.com/analytics.js','ga');\\nga('create', 'UA-69522494-1', 'auto');\\nga('set', 'anonymizeIp', true);\\nga('send', 'pageview');\\n</script>\\n<!-- /ga -->\\n</body>\\n</html>\""
      ]
     },
     "execution_count": 18,
     "metadata": {},
     "output_type": "execute_result"
    }
   ],
   "source": [
    "submit_answer(year, day, part_two_ans, 2)"
   ]
  }
 ],
 "metadata": {
  "kernelspec": {
   "display_name": "Julia 1.8.0",
   "language": "julia",
   "name": "julia-1.8"
  },
  "language_info": {
   "file_extension": ".jl",
   "mimetype": "application/julia",
   "name": "julia",
   "version": "1.8.3"
  },
  "orig_nbformat": 4,
  "vscode": {
   "interpreter": {
    "hash": "2decbbcdbe1b404b08c0c2ae8935a58886fd60ea7dad56cfc87e2a14f377e9ba"
   }
  }
 },
 "nbformat": 4,
 "nbformat_minor": 2
}
