{
 "cells": [
  {
   "cell_type": "code",
   "execution_count": 1,
   "metadata": {},
   "outputs": [
    {
     "name": "stderr",
     "output_type": "stream",
     "text": [
      "\u001b[32m\u001b[1m  Activating\u001b[22m\u001b[39m project at `~/com.github/lucifer1004/AdventOfCode.jl`\n"
     ]
    }
   ],
   "source": [
    "import Pkg; Pkg.activate(\"..\")"
   ]
  },
  {
   "cell_type": "code",
   "execution_count": 2,
   "metadata": {},
   "outputs": [],
   "source": [
    "using AdventOfCode"
   ]
  },
  {
   "cell_type": "code",
   "execution_count": 3,
   "metadata": {},
   "outputs": [
    {
     "data": {
      "text/plain": [
       "14"
      ]
     },
     "execution_count": 3,
     "metadata": {},
     "output_type": "execute_result"
    }
   ],
   "source": [
    "year = 2019\n",
    "day = 14"
   ]
  },
  {
   "cell_type": "code",
   "execution_count": 4,
   "metadata": {},
   "outputs": [
    {
     "data": {
      "text/plain": [
       "\"2 WZMS, 3 NPNFD => 5 SLRGD\\n4 QTFCJ, 1 RFZF => 1 QFQPN\\n2 LCDPV => 6 DGPND\\n1 MVSHM, 3 XSDR, 1 RSJD => 6 GNKB\\n6 XJRML, 1 LCDPV => 7 HTSJ\\n3 LQBX => 3 GKNTG\\n2 NZMLP, 5 FTNZQ => 2 QSLTQ\\n8 WZMS, 4 XSDR, 2 NPNFD => 9 CJVT\\n16 HFHB, 1 TRVQG => 8 QTBQ\\n177 ORE => 7 DNWGS\\n10 ZJFM, 4\" ⋯ 1249 bytes ⋯ \"X\\n170 ORE => 9 GDBNV\\n5 RSJD, 3 CZHM, 1 GNKB => 6 HNJW\\n14 HTSJ => 7 FXJQX\\n11 NPNFD, 1 LCDPV, 2 FXJQX => 6 RSJD\\n9 DGBRZ => 6 ZKZNB\\n7 GDBNV, 1 QCGM => 8 QFJS\\n2 QFQPN, 5 JWLZ => 4 NSVG\\n8 QFJS, 1 ZDZM, 4 QSLTQ => 7 MVSHM\\n1 LTVKM => 8 RFZF\\n4 DNWGS => 3 FTNZQ\\n6 VZJHN => 9 PTDL\""
      ]
     },
     "execution_count": 4,
     "metadata": {},
     "output_type": "execute_result"
    }
   ],
   "source": [
    "input = get_input(year, day)"
   ]
  },
  {
   "cell_type": "code",
   "execution_count": 5,
   "metadata": {},
   "outputs": [
    {
     "data": {
      "text/plain": [
       "65-element Vector{SubString{String}}:\n",
       " \"2 WZMS, 3 NPNFD => 5 SLRGD\"\n",
       " \"4 QTFCJ, 1 RFZF => 1 QFQPN\"\n",
       " \"2 LCDPV => 6 DGPND\"\n",
       " \"1 MVSHM, 3 XSDR, 1 RSJD => 6 GNKB\"\n",
       " \"6 XJRML, 1 LCDPV => 7 HTSJ\"\n",
       " \"3 LQBX => 3 GKNTG\"\n",
       " \"2 NZMLP, 5 FTNZQ => 2 QSLTQ\"\n",
       " \"8 WZMS, 4 XSDR, 2 NPNFD => 9 CJVT\"\n",
       " \"16 HFHB, 1 TRVQG => 8 QTBQ\"\n",
       " \"177 ORE => 7 DNWGS\"\n",
       " \"10 ZJFM, 4 MVSHM => 8 LCDPV\"\n",
       " \"1 LTVKM => 5 ZJFM\"\n",
       " \"5 QFJS => 6 LTVKM\"\n",
       " ⋮\n",
       " \"9 NZMLP, 5 FQCKM, 8 QFJS => 1 LQBX\"\n",
       " \"170 ORE => 9 GDBNV\"\n",
       " \"5 RSJD, 3 CZHM, 1 GNKB => 6 HNJW\"\n",
       " \"14 HTSJ => 7 FXJQX\"\n",
       " \"11 NPNFD, 1 LCDPV, 2 FXJQX => 6 RSJD\"\n",
       " \"9 DGBRZ => 6 ZKZNB\"\n",
       " \"7 GDBNV, 1 QCGM => 8 QFJS\"\n",
       " \"2 QFQPN, 5 JWLZ => 4 NSVG\"\n",
       " \"8 QFJS, 1 ZDZM, 4 QSLTQ => 7 MVSHM\"\n",
       " \"1 LTVKM => 8 RFZF\"\n",
       " \"4 DNWGS => 3 FTNZQ\"\n",
       " \"6 VZJHN => 9 PTDL\""
      ]
     },
     "execution_count": 5,
     "metadata": {},
     "output_type": "execute_result"
    }
   ],
   "source": [
    "parsed_input = parse_input(input)"
   ]
  },
  {
   "cell_type": "code",
   "execution_count": 6,
   "metadata": {},
   "outputs": [
    {
     "data": {
      "text/plain": [
       "\"10 ORE => 10 A\\n1 ORE => 1 B\\n7 A, 1 B => 1 C\\n7 A, 1 C => 1 D\\n7 A, 1 D => 1 E\\n7 A, 1 E => 1 FUEL\""
      ]
     },
     "execution_count": 6,
     "metadata": {},
     "output_type": "execute_result"
    }
   ],
   "source": [
    "sample = \"\"\"10 ORE => 10 A\n",
    "1 ORE => 1 B\n",
    "7 A, 1 B => 1 C\n",
    "7 A, 1 C => 1 D\n",
    "7 A, 1 D => 1 E\n",
    "7 A, 1 E => 1 FUEL\"\"\""
   ]
  },
  {
   "cell_type": "code",
   "execution_count": 7,
   "metadata": {},
   "outputs": [
    {
     "data": {
      "text/plain": [
       "6-element Vector{SubString{String}}:\n",
       " \"10 ORE => 10 A\"\n",
       " \"1 ORE => 1 B\"\n",
       " \"7 A, 1 B => 1 C\"\n",
       " \"7 A, 1 C => 1 D\"\n",
       " \"7 A, 1 D => 1 E\"\n",
       " \"7 A, 1 E => 1 FUEL\""
      ]
     },
     "execution_count": 7,
     "metadata": {},
     "output_type": "execute_result"
    }
   ],
   "source": [
    "parsed_sample = parse_input(sample)"
   ]
  },
  {
   "cell_type": "code",
   "execution_count": 8,
   "metadata": {},
   "outputs": [
    {
     "data": {
      "text/plain": [
       "parse_numbered_item (generic function with 1 method)"
      ]
     },
     "execution_count": 8,
     "metadata": {},
     "output_type": "execute_result"
    }
   ],
   "source": [
    "function parse_numbered_item(s)\n",
    "    n, item = split(s)\n",
    "    return (item, parse(Int, n))\n",
    "end"
   ]
  },
  {
   "cell_type": "code",
   "execution_count": 9,
   "metadata": {},
   "outputs": [
    {
     "data": {
      "text/plain": [
       "preprocess (generic function with 1 method)"
      ]
     },
     "execution_count": 9,
     "metadata": {},
     "output_type": "execute_result"
    }
   ],
   "source": [
    "function preprocess(input)\n",
    "      dict = Dict{String, Vector{Tuple{String, Int}}}()\n",
    "    adj = DefaultDict{String, Vector{String}}(() -> String[])\n",
    "\n",
    "    foreach(input) do line\n",
    "        left, right = split(line, \" => \")\n",
    "        ri, rn = parse_numbered_item(right)\n",
    "        dict[ri] = parse_numbered_item.(split(left, \", \"))\n",
    "        for (li, _) in dict[ri]\n",
    "            push!(adj[li], ri)\n",
    "        end\n",
    "        push!(dict[ri], (ri, rn))\n",
    "    end\n",
    "\n",
    "    @assert length(dict) == length(input)\n",
    "\n",
    "    known = DefaultDict{String, Int}(() -> 0)\n",
    "    q = Queue{String}()\n",
    "    enqueue!(q, \"ORE\")\n",
    "    order = [\"ORE\"]\n",
    "    while !isempty(q)\n",
    "        u = dequeue!(q)\n",
    "        for v in adj[u]\n",
    "            known[v] += 1\n",
    "            if known[v] == length(dict[v]) - 1\n",
    "                push!(order, v)\n",
    "                enqueue!(q, v)\n",
    "            end\n",
    "        end\n",
    "    end\n",
    "\n",
    "    return dict, order\n",
    "end"
   ]
  },
  {
   "cell_type": "code",
   "execution_count": 10,
   "metadata": {},
   "outputs": [
    {
     "data": {
      "text/plain": [
       "solve (generic function with 1 method)"
      ]
     },
     "execution_count": 10,
     "metadata": {},
     "output_type": "execute_result"
    }
   ],
   "source": [
    "function solve(dict, order, num)\n",
    "    req = DefaultDict{String,Int}(() -> 0)\n",
    "    req[\"FUEL\"] = num\n",
    "\n",
    "    for item in order[end:-1:1]\n",
    "        if haskey(req, item) && item != \"ORE\"\n",
    "            n = req[item]\n",
    "            per = dict[item][end][2]\n",
    "            multiply = (n - 1) ÷ per + 1\n",
    "            for (li, ln) in dict[item][1:end-1]\n",
    "                req[li] += multiply * ln\n",
    "            end\n",
    "        end\n",
    "    end\n",
    "\n",
    "    return req[\"ORE\"]\n",
    "end"
   ]
  },
  {
   "cell_type": "code",
   "execution_count": 11,
   "metadata": {},
   "outputs": [
    {
     "data": {
      "text/plain": [
       "part_one (generic function with 1 method)"
      ]
     },
     "execution_count": 11,
     "metadata": {},
     "output_type": "execute_result"
    }
   ],
   "source": [
    "function part_one(input)\n",
    "    dict, order = preprocess(input)\n",
    "    return solve(dict, order, 1)\n",
    "end"
   ]
  },
  {
   "cell_type": "code",
   "execution_count": 12,
   "metadata": {},
   "outputs": [
    {
     "data": {
      "text/plain": [
       "31"
      ]
     },
     "execution_count": 12,
     "metadata": {},
     "output_type": "execute_result"
    }
   ],
   "source": [
    "part_one(parsed_sample)"
   ]
  },
  {
   "cell_type": "code",
   "execution_count": 13,
   "metadata": {},
   "outputs": [
    {
     "data": {
      "text/plain": [
       "201324"
      ]
     },
     "execution_count": 13,
     "metadata": {},
     "output_type": "execute_result"
    }
   ],
   "source": [
    "part_one_ans = part_one(parsed_input)"
   ]
  },
  {
   "cell_type": "code",
   "execution_count": 14,
   "metadata": {},
   "outputs": [
    {
     "data": {
      "text/plain": [
       "\"<!DOCTYPE html>\\n<html lang=\\\"en-us\\\">\\n<head>\\n<meta charset=\\\"utf-8\\\"/>\\n<title>Day 14 - Advent of Code 2019</title>\\n<!--[if lt IE 9]><script src=\\\"/static/html5.js\\\"></script><![endif]-->\\n<link href='//fonts.googleapis.com/css?family=Source+Code+Pro:300&subset=latin,latin-ext'\" ⋯ 3307 bytes ⋯ \"Name(o)[0];a.async=1;a.src=g;m.parentNode.insertBefore(a,m)\\n})(window,document,'script','//www.google-analytics.com/analytics.js','ga');\\nga('create', 'UA-69522494-1', 'auto');\\nga('set', 'anonymizeIp', true);\\nga('send', 'pageview');\\n</script>\\n<!-- /ga -->\\n</body>\\n</html>\""
      ]
     },
     "execution_count": 14,
     "metadata": {},
     "output_type": "execute_result"
    }
   ],
   "source": [
    "submit_answer(year, day, part_one_ans)"
   ]
  },
  {
   "cell_type": "code",
   "execution_count": 15,
   "metadata": {},
   "outputs": [
    {
     "data": {
      "text/plain": [
       "part_two (generic function with 1 method)"
      ]
     },
     "execution_count": 15,
     "metadata": {},
     "output_type": "execute_result"
    }
   ],
   "source": [
    "function part_two(input)\n",
    "    dict, order = preprocess(input)\n",
    "    lo = 1\n",
    "    hi = Int(1e12)\n",
    "    while lo <= hi\n",
    "        mid = (lo + hi) >> 1\n",
    "        req = solve(dict, order, mid)\n",
    "        if req <= Int(1e12)\n",
    "            lo = mid + 1\n",
    "        else\n",
    "            hi = mid - 1\n",
    "        end\n",
    "    end\n",
    "    return hi\n",
    "end"
   ]
  },
  {
   "cell_type": "code",
   "execution_count": 16,
   "metadata": {},
   "outputs": [
    {
     "data": {
      "text/plain": [
       "34482758620"
      ]
     },
     "execution_count": 16,
     "metadata": {},
     "output_type": "execute_result"
    }
   ],
   "source": [
    "part_two(parsed_sample)"
   ]
  },
  {
   "cell_type": "code",
   "execution_count": 17,
   "metadata": {},
   "outputs": [
    {
     "data": {
      "text/plain": [
       "6326857"
      ]
     },
     "execution_count": 17,
     "metadata": {},
     "output_type": "execute_result"
    }
   ],
   "source": [
    "part_two_ans = part_two(parsed_input)"
   ]
  },
  {
   "cell_type": "code",
   "execution_count": 18,
   "metadata": {},
   "outputs": [
    {
     "data": {
      "text/plain": [
       "\"<!DOCTYPE html>\\n<html lang=\\\"en-us\\\">\\n<head>\\n<meta charset=\\\"utf-8\\\"/>\\n<title>Day 14 - Advent of Code 2019</title>\\n<!--[if lt IE 9]><script src=\\\"/static/html5.js\\\"></script><![endif]-->\\n<link href='//fonts.googleapis.com/css?family=Source+Code+Pro:300&subset=latin,latin-ext'\" ⋯ 3258 bytes ⋯ \"Name(o)[0];a.async=1;a.src=g;m.parentNode.insertBefore(a,m)\\n})(window,document,'script','//www.google-analytics.com/analytics.js','ga');\\nga('create', 'UA-69522494-1', 'auto');\\nga('set', 'anonymizeIp', true);\\nga('send', 'pageview');\\n</script>\\n<!-- /ga -->\\n</body>\\n</html>\""
      ]
     },
     "execution_count": 18,
     "metadata": {},
     "output_type": "execute_result"
    }
   ],
   "source": [
    "submit_answer(year, day, part_two_ans, 2)"
   ]
  }
 ],
 "metadata": {
  "kernelspec": {
   "display_name": "Julia 1.8.0",
   "language": "julia",
   "name": "julia-1.8"
  },
  "language_info": {
   "file_extension": ".jl",
   "mimetype": "application/julia",
   "name": "julia",
   "version": "1.8.3"
  },
  "orig_nbformat": 4,
  "vscode": {
   "interpreter": {
    "hash": "2decbbcdbe1b404b08c0c2ae8935a58886fd60ea7dad56cfc87e2a14f377e9ba"
   }
  }
 },
 "nbformat": 4,
 "nbformat_minor": 2
}
