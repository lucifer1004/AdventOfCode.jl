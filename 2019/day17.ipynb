{
 "cells": [
  {
   "cell_type": "code",
   "execution_count": 1,
   "metadata": {},
   "outputs": [
    {
     "name": "stderr",
     "output_type": "stream",
     "text": [
      "\u001b[32m\u001b[1m  Activating\u001b[22m\u001b[39m project at `~/com.github/lucifer1004/AdventOfCode.jl`\n"
     ]
    }
   ],
   "source": [
    "import Pkg; Pkg.activate(\"..\")"
   ]
  },
  {
   "cell_type": "code",
   "execution_count": 2,
   "metadata": {},
   "outputs": [
    {
     "name": "stderr",
     "output_type": "stream",
     "text": [
      "┌ Info: Precompiling AdventOfCode [ec480b64-8d68-453c-9e84-9dbf6ce847d6]\n",
      "└ @ Base loading.jl:1664\n"
     ]
    }
   ],
   "source": [
    "using AdventOfCode\n",
    "using AdventOfCode.AoC2019"
   ]
  },
  {
   "cell_type": "code",
   "execution_count": 3,
   "metadata": {},
   "outputs": [
    {
     "data": {
      "text/plain": [
       "17"
      ]
     },
     "execution_count": 3,
     "metadata": {},
     "output_type": "execute_result"
    }
   ],
   "source": [
    "year = 2019\n",
    "day = 17"
   ]
  },
  {
   "cell_type": "code",
   "execution_count": 4,
   "metadata": {},
   "outputs": [
    {
     "data": {
      "text/plain": [
       "\"1,330,331,332,109,3028,1101,0,1182,16,1101,1447,0,24,101,0,0,570,1006,570,36,1001,571,0,0,1001,570,-1,570,1001,24,1,24,1106,0,18,1008,571,0,571,1001,16,1,16,1008,16,1447,570,1006,570,14,21101,0,58,0,1105,1,786,1006,332,62,99,21101,333,0,1,21101,0,73,0,1105,1,579,1102,1,\" ⋯ 4323 bytes ⋯ \",5,1,5,1,1,1,9,1,7,1,3,1,12,1,1,1,5,9,9,1,7,1,3,1,12,1,1,1,11,1,11,1,7,1,3,1,12,1,1,1,1,9,1,1,11,1,7,1,3,7,6,1,1,1,1,1,7,1,1,1,11,1,7,1,16,1,1,13,11,1,7,1,16,1,3,1,7,1,13,1,7,1,16,5,7,1,13,1,7,1,28,1,13,1,7,1,28,1,13,1,7,1,28,1,13,1,7,1,28,1,13,9,28,1,50,1,50,1,50,13,22\""
      ]
     },
     "execution_count": 4,
     "metadata": {},
     "output_type": "execute_result"
    }
   ],
   "source": [
    "input = get_input(year, day)"
   ]
  },
  {
   "cell_type": "code",
   "execution_count": 5,
   "metadata": {},
   "outputs": [
    {
     "data": {
      "text/plain": [
       "preprocess (generic function with 1 method)"
      ]
     },
     "execution_count": 5,
     "metadata": {},
     "output_type": "execute_result"
    }
   ],
   "source": [
    "function preprocess(input)\n",
    "    mem = parse.(Int, split(input, \",\"))\n",
    "    outputs = exec!(mem)\n",
    "    maze = split(rstrip(join(Char.(outputs))), \"\\n\")\n",
    "    return maze\n",
    "end"
   ]
  },
  {
   "cell_type": "code",
   "execution_count": 6,
   "metadata": {},
   "outputs": [
    {
     "data": {
      "text/plain": [
       "part_one (generic function with 1 method)"
      ]
     },
     "execution_count": 6,
     "metadata": {},
     "output_type": "execute_result"
    }
   ],
   "source": [
    "function part_one(input)\n",
    "    maze = preprocess(input)\n",
    "    n = length(maze)\n",
    "    m = length(maze[1])\n",
    "    ans = 0\n",
    "    for j in 2:m-1, i in 2:n-1\n",
    "        if maze[i][j] == maze[i-1][j] == maze[i+1][j] == maze[i][j-1] == maze[i][j+1] == '#'\n",
    "            ans += (i - 1) * (j - 1)\n",
    "        end\n",
    "    end\n",
    "    return ans\n",
    "end"
   ]
  },
  {
   "cell_type": "code",
   "execution_count": 7,
   "metadata": {},
   "outputs": [
    {
     "data": {
      "text/plain": [
       "2080"
      ]
     },
     "execution_count": 7,
     "metadata": {},
     "output_type": "execute_result"
    }
   ],
   "source": [
    "part_one_ans = part_one(input)"
   ]
  },
  {
   "cell_type": "code",
   "execution_count": 8,
   "metadata": {},
   "outputs": [
    {
     "data": {
      "text/plain": [
       "\"<!DOCTYPE html>\\n<html lang=\\\"en-us\\\">\\n<head>\\n<meta charset=\\\"utf-8\\\"/>\\n<title>Day 17 - Advent of Code 2019</title>\\n<!--[if lt IE 9]><script src=\\\"/static/html5.js\\\"></script><![endif]-->\\n<link href='//fonts.googleapis.com/css?family=Source+Code+Pro:300&subset=latin,latin-ext'\" ⋯ 3305 bytes ⋯ \"Name(o)[0];a.async=1;a.src=g;m.parentNode.insertBefore(a,m)\\n})(window,document,'script','//www.google-analytics.com/analytics.js','ga');\\nga('create', 'UA-69522494-1', 'auto');\\nga('set', 'anonymizeIp', true);\\nga('send', 'pageview');\\n</script>\\n<!-- /ga -->\\n</body>\\n</html>\""
      ]
     },
     "execution_count": 8,
     "metadata": {},
     "output_type": "execute_result"
    }
   ],
   "source": [
    "submit_answer(year, day, part_one_ans)"
   ]
  },
  {
   "cell_type": "code",
   "execution_count": 9,
   "metadata": {},
   "outputs": [
    {
     "data": {
      "text/plain": [
       "\"A,B,B,A,C,A,C,A,C,B\\nL,6,R,12,R,8\\nR,8,R,12,L,12\\nR,12,L,12,L,4,L,4\\nn\\n\""
      ]
     },
     "execution_count": 9,
     "metadata": {},
     "output_type": "execute_result"
    }
   ],
   "source": [
    "part_two_solution = \"\"\"A,B,B,A,C,A,C,A,C,B\n",
    "L,6,R,12,R,8\n",
    "R,8,R,12,L,12\n",
    "R,12,L,12,L,4,L,4\n",
    "n\n",
    "\"\"\""
   ]
  },
  {
   "cell_type": "code",
   "execution_count": 10,
   "metadata": {},
   "outputs": [
    {
     "data": {
      "text/plain": [
       "part_two (generic function with 1 method)"
      ]
     },
     "execution_count": 10,
     "metadata": {},
     "output_type": "execute_result"
    }
   ],
   "source": [
    "function part_two(input)\n",
    "    mem = parse.(Int, split(input, \",\"))\n",
    "    mem[1] = 2\n",
    "    outputs = exec!(mem; inputs = Int.(collect(part_two_solution)))\n",
    "    println(\"Maze: \")\n",
    "    println(join(Char.(outputs[1:31*52])))\n",
    "    return outputs[end]\n",
    "end"
   ]
  },
  {
   "cell_type": "code",
   "execution_count": 11,
   "metadata": {},
   "outputs": [
    {
     "name": "stdout",
     "output_type": "stream",
     "text": [
      "Maze: \n",
      "..............#####................................\n",
      "..............#...#................................\n",
      "....#############.#................................\n",
      "....#.........#.#.#................................\n",
      "#############.#######..............................\n",
      "#...#.......#...#.#.#..............................\n",
      "#...#.......#...#.#.#.....................#########\n",
      "#...#.......#...#.#.#.....................#.......#\n",
      "#####.......#...#.#.#.....................#.......#\n",
      "............#...#.#.#.....................#.......#\n",
      "....#############.#.#.....................#.......#\n",
      "....#.......#.....#.#.....................#.......#\n",
      "....#.#############.#.....................#.......#\n",
      "....#.#.....#.......#.....................#.......#\n",
      "....#.#.....#.....#############.......#############\n",
      "....#.#.....#.....#.#.........#.......#...#........\n",
      "....#.#.....#########.........#.......#...#........\n",
      "....#.#...........#...........#.......#...#........\n",
      "....#.#.#########.#...........#.......#...######^..\n",
      "....#.#.#.......#.#...........#.......#............\n",
      "....#.#############...........#.......#............\n",
      "....#...#.......#.............#.......#............\n",
      "....#####.......#.............#.......#............\n",
      "................#.............#.......#............\n",
      "................#.............#.......#............\n",
      "................#.............#.......#............\n",
      "................#.............#########............\n",
      "................#..................................\n",
      "................#..................................\n",
      "................#..................................\n",
      "................#############......................\n",
      "\n"
     ]
    },
    {
     "data": {
      "text/plain": [
       "742673"
      ]
     },
     "execution_count": 11,
     "metadata": {},
     "output_type": "execute_result"
    }
   ],
   "source": [
    "part_two_ans = part_two(input)"
   ]
  },
  {
   "cell_type": "code",
   "execution_count": 12,
   "metadata": {},
   "outputs": [
    {
     "data": {
      "text/plain": [
       "\"<!DOCTYPE html>\\n<html lang=\\\"en-us\\\">\\n<head>\\n<meta charset=\\\"utf-8\\\"/>\\n<title>Day 17 - Advent of Code 2019</title>\\n<!--[if lt IE 9]><script src=\\\"/static/html5.js\\\"></script><![endif]-->\\n<link href='//fonts.googleapis.com/css?family=Source+Code+Pro:300&subset=latin,latin-ext'\" ⋯ 3174 bytes ⋯ \"Name(o)[0];a.async=1;a.src=g;m.parentNode.insertBefore(a,m)\\n})(window,document,'script','//www.google-analytics.com/analytics.js','ga');\\nga('create', 'UA-69522494-1', 'auto');\\nga('set', 'anonymizeIp', true);\\nga('send', 'pageview');\\n</script>\\n<!-- /ga -->\\n</body>\\n</html>\""
      ]
     },
     "execution_count": 12,
     "metadata": {},
     "output_type": "execute_result"
    }
   ],
   "source": [
    "submit_answer(year, day, part_two_ans, 2)"
   ]
  }
 ],
 "metadata": {
  "kernelspec": {
   "display_name": "Julia 1.8.0",
   "language": "julia",
   "name": "julia-1.8"
  },
  "language_info": {
   "file_extension": ".jl",
   "mimetype": "application/julia",
   "name": "julia",
   "version": "1.8.3"
  },
  "orig_nbformat": 4,
  "vscode": {
   "interpreter": {
    "hash": "2decbbcdbe1b404b08c0c2ae8935a58886fd60ea7dad56cfc87e2a14f377e9ba"
   }
  }
 },
 "nbformat": 4,
 "nbformat_minor": 2
}
