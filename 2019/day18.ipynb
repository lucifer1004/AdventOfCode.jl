{
 "cells": [
  {
   "cell_type": "code",
   "execution_count": 1,
   "metadata": {},
   "outputs": [
    {
     "name": "stderr",
     "output_type": "stream",
     "text": [
      "\u001b[32m\u001b[1m  Activating\u001b[22m\u001b[39m project at `~/com.github/lucifer1004/AdventOfCode.jl`\n"
     ]
    }
   ],
   "source": [
    "import Pkg; Pkg.activate(\"..\")"
   ]
  },
  {
   "cell_type": "code",
   "execution_count": 2,
   "metadata": {},
   "outputs": [
    {
     "name": "stderr",
     "output_type": "stream",
     "text": [
      "┌ Info: Precompiling AdventOfCode [ec480b64-8d68-453c-9e84-9dbf6ce847d6]\n",
      "└ @ Base loading.jl:1664\n"
     ]
    }
   ],
   "source": [
    "using AdventOfCode"
   ]
  },
  {
   "cell_type": "code",
   "execution_count": 3,
   "metadata": {},
   "outputs": [
    {
     "data": {
      "text/plain": [
       "18"
      ]
     },
     "execution_count": 3,
     "metadata": {},
     "output_type": "execute_result"
    }
   ],
   "source": [
    "year = 2019\n",
    "day = 18"
   ]
  },
  {
   "cell_type": "code",
   "execution_count": 4,
   "metadata": {},
   "outputs": [
    {
     "data": {
      "text/plain": [
       "\"#################################################################################\\n#.........#.......#...#...#..v..#.....#.#.........#...#....g#...L...#......z#...#\\n#.#.#####.#.#####.###.#.#.#.#.###I#.#.#.#.#.#######E#.#.###.#.#####.#.#####.#.###\\n#.#.....#...#.........#.\" ⋯ 6101 bytes ⋯ \".#.....#.#.Z.#...#...#.#\\n#.#.###.###########.#.#######.#.#####.#.###.#.#######.#.###.###.#.#.#####.#.#.#.#\\n#h....#..........e..#.........#.......#.#.............#.....#.....#.........#...#\\n#################################################################################\""
      ]
     },
     "execution_count": 4,
     "metadata": {},
     "output_type": "execute_result"
    }
   ],
   "source": [
    "input = get_input(year, day)"
   ]
  },
  {
   "cell_type": "code",
   "execution_count": 5,
   "metadata": {},
   "outputs": [
    {
     "data": {
      "text/plain": [
       "81-element Vector{SubString{String}}:\n",
       " \"###############################\" ⋯ 19 bytes ⋯ \"###############################\"\n",
       " \"#.........#.......#...#...#..v.\" ⋯ 19 bytes ⋯ \"#...#....g#...L...#......z#...#\"\n",
       " \"#.#.#####.#.#####.###.#.#.#.#.#\" ⋯ 19 bytes ⋯ \"#E#.#.###.#.#####.#.#####.#.###\"\n",
       " \"#.#.....#...#.........#.#...#..\" ⋯ 19 bytes ⋯ \"..#.#.#.#...#...#.#...#...#..p#\"\n",
       " \"#.#####.#####.#######.#.#######\" ⋯ 19 bytes ⋯ \"###.#.#.#####.#.#.###.#O###.#.#\"\n",
       " \"#.#...#.#.....#...#...#........\" ⋯ 19 bytes ⋯ \"..#.#.#.......#.#.....#.#...#.#\"\n",
       " \"#.###.#.#######.#.#.###########\" ⋯ 19 bytes ⋯ \"#.#.#.#.#####.#########.#####.#\"\n",
       " \"#...#.#..y..#...#.#...#........\" ⋯ 19 bytes ⋯ \"#.#...#.#...#.........#.#.....#\"\n",
       " \"###.#.#####.#.###.#####.#######\" ⋯ 19 bytes ⋯ \"#.#####.#.#.###.#.#####.#.#####\"\n",
       " \"#...#....c#...#.#.......#......\" ⋯ 19 bytes ⋯ \"#....x#.#.#.#...#.#.....#.....#\"\n",
       " \"#.###.#.#######.#########.#####\" ⋯ 19 bytes ⋯ \"#####.###.#.#.#####.#####.###.#\"\n",
       " \"#.#...#.................#.....#\" ⋯ 19 bytes ⋯ \"..#.#...#.#.#.#.....#...#.#...#\"\n",
       " \"#.#.#############.#.#####.###.#\" ⋯ 19 bytes ⋯ \"#.#.###.#.#.#.#.#####.#.###.#.#\"\n",
       " ⋮\n",
       " \"#.#.........#.............#.#.V\" ⋯ 19 bytes ⋯ \"....#.#.#.....#...#.#r....#...#\"\n",
       " \"#.#########.#.#############.###\" ⋯ 19 bytes ⋯ \"###.#.#.#####.###.#.#.#######.#\"\n",
       " \"#.#.........#...#...#.G...#....\" ⋯ 19 bytes ⋯ \"#...#...#b..#.#...#.Y.#.....#.#\"\n",
       " \"#.#############.#.#.#####.#.#.#\" ⋯ 19 bytes ⋯ \"#.#######.#.#.#.#######.#.###.#\"\n",
       " \"#.#...........#...#.....#...#.#\" ⋯ 19 bytes ⋯ \"#.#...K...#...#.#.......#.#...#\"\n",
       " \"#.#X#######.###########.#####.#\" ⋯ 19 bytes ⋯ \"#.#####.#######.#.#.#######.###\"\n",
       " \"#.#...#...#...N.#.#...#.#l..#.#\" ⋯ 19 bytes ⋯ \"..#..f#.......#...#.#......o#.#\"\n",
       " \"#.###.#.#.###.#.#.#.#.#.#.#.#.#\" ⋯ 19 bytes ⋯ \"###.#.#.#####.#####.#.#######.#\"\n",
       " \"#.#...#.#.....#...#.#.#...#...#\" ⋯ 19 bytes ⋯ \"#...#.#.#.....#.#.Z.#...#...#.#\"\n",
       " \"#.#.###.###########.#.#######.#\" ⋯ 19 bytes ⋯ \"###.#.###.###.#.#.#####.#.#.#.#\"\n",
       " \"#h....#..........e..#.........#\" ⋯ 19 bytes ⋯ \"....#.....#.....#.........#...#\"\n",
       " \"###############################\" ⋯ 19 bytes ⋯ \"###############################\""
      ]
     },
     "execution_count": 5,
     "metadata": {},
     "output_type": "execute_result"
    }
   ],
   "source": [
    "parsed_input = parse_input(input)"
   ]
  },
  {
   "cell_type": "code",
   "execution_count": 6,
   "metadata": {},
   "outputs": [
    {
     "data": {
      "text/plain": [
       "\"#########\\n#b.A.@.a#\\n#########\""
      ]
     },
     "execution_count": 6,
     "metadata": {},
     "output_type": "execute_result"
    }
   ],
   "source": [
    "sample = \"\"\"#########\n",
    "#b.A.@.a#\n",
    "#########\"\"\""
   ]
  },
  {
   "cell_type": "code",
   "execution_count": 7,
   "metadata": {},
   "outputs": [
    {
     "data": {
      "text/plain": [
       "3-element Vector{SubString{String}}:\n",
       " \"#########\"\n",
       " \"#b.A.@.a#\"\n",
       " \"#########\""
      ]
     },
     "execution_count": 7,
     "metadata": {},
     "output_type": "execute_result"
    }
   ],
   "source": [
    "parsed_sample = parse_input(sample)"
   ]
  },
  {
   "cell_type": "code",
   "execution_count": 8,
   "metadata": {},
   "outputs": [
    {
     "data": {
      "text/plain": [
       "4-element Vector{Tuple{Int64, Int64}}:\n",
       " (0, 1)\n",
       " (0, -1)\n",
       " (1, 0)\n",
       " (-1, 0)"
      ]
     },
     "execution_count": 8,
     "metadata": {},
     "output_type": "execute_result"
    }
   ],
   "source": [
    "DIRS = [(0, 1), (0, -1), (1, 0), (-1, 0)]"
   ]
  },
  {
   "cell_type": "code",
   "execution_count": 9,
   "metadata": {},
   "outputs": [
    {
     "data": {
      "text/plain": [
       "part_one (generic function with 1 method)"
      ]
     },
     "execution_count": 9,
     "metadata": {},
     "output_type": "execute_result"
    }
   ],
   "source": [
    "function part_one(input)\n",
    "    n = length(input)\n",
    "    m = length(input[1])\n",
    "\n",
    "    si, sj = 0, 0\n",
    "    for i in 1:n\n",
    "        for j in 1:m\n",
    "            if input[i][j] == '@'\n",
    "                si, sj = i, j\n",
    "            end\n",
    "        end\n",
    "    end\n",
    "\n",
    "    pre = zeros(Int, 27)\n",
    "    dch = zeros(Int, 27)\n",
    "    dist = fill(-1, n, m)\n",
    "    dist[si, sj] = 0\n",
    "    pos = fill((0, 0), 27)\n",
    "    function dfs(i, j, doors)\n",
    "        for (di, dj) in DIRS\n",
    "            ni, nj = i + di, j + dj\n",
    "            if ni < 1 || ni > n || nj < 1 || nj > m\n",
    "                continue\n",
    "            end\n",
    "            if dist[ni, nj] != -1\n",
    "                continue\n",
    "            end\n",
    "            ch = input[ni][nj]\n",
    "            if ch == '#'\n",
    "                continue\n",
    "            end\n",
    "            dist[ni, nj] = dist[i, j] + 1\n",
    "            doors′ = doors\n",
    "            if 'A' <= ch <= 'Z'\n",
    "                doors′ |= 1 << (ch - 'A')\n",
    "            end\n",
    "            if 'a' <= ch <= 'z'\n",
    "                pre[ch - 'a' + 1] = doors\n",
    "                dch[ch - 'a' + 1] = dist[ni, nj]\n",
    "                pos[ch - 'a' + 1] = (ni, nj)\n",
    "            end\n",
    "            dfs(ni, nj, doors′)\n",
    "        end\n",
    "    end\n",
    "\n",
    "    dfs(si, sj, 0)\n",
    "    k = findfirst((==)(0), dch) - 1\n",
    "    adj = fill(-1, k, k)\n",
    "    for i in 1:k\n",
    "        adj[i, i] = 0\n",
    "        fill!(dist, -1)\n",
    "        dist[pos[i]...] = 0\n",
    "        q = Queue{Tuple{Int, Int}}()\n",
    "        enqueue!(q, pos[i])\n",
    "        while !isempty(q)\n",
    "            ci, cj = dequeue!(q)\n",
    "            for (di, dj) in DIRS\n",
    "                ni, nj = ci + di, cj + dj\n",
    "                if ni < 1 || ni > n || nj < 1 || nj > m\n",
    "                    continue\n",
    "                end\n",
    "                if dist[ni, nj] != -1\n",
    "                    continue\n",
    "                end\n",
    "                ch = input[ni][nj]\n",
    "                if ch == '#'\n",
    "                    continue\n",
    "                end\n",
    "\n",
    "                dist[ni, nj] = dist[ci, cj] + 1\n",
    "                if 'a' <= ch <= 'z'\n",
    "                    adj[i, ch - 'a' + 1] = dist[ni, nj]\n",
    "                end\n",
    "                enqueue!(q, (ni, nj))\n",
    "            end\n",
    "        end\n",
    "    end\n",
    "\n",
    "    msk = (1 << k) - 1\n",
    "    dp = fill(Int(1e9), k, msk)\n",
    "    for i in 1:k\n",
    "        if pre[i] == 0\n",
    "            dp[i, 1 << (i - 1)] = dch[i]\n",
    "        end\n",
    "    end\n",
    "\n",
    "    for state in 1:msk - 1\n",
    "        for i in 1:k\n",
    "            if dp[i, state] == Int(1e9)\n",
    "                continue\n",
    "            end\n",
    "            for j in 1:k\n",
    "                if (state >> (j - 1)) & 1 == 1\n",
    "                    continue\n",
    "                end\n",
    "                if (pre[j] & state) != pre[j]\n",
    "                    continue\n",
    "                end\n",
    "                dp[j, state | (1 << (j - 1))] = min(dp[j, state | (1 << (j - 1))], dp[i, state] + adj[i, j])\n",
    "            end\n",
    "        end\n",
    "    end\n",
    "\n",
    "    return minimum(dp[:, msk])\n",
    "end"
   ]
  },
  {
   "cell_type": "code",
   "execution_count": 10,
   "metadata": {},
   "outputs": [
    {
     "data": {
      "text/plain": [
       "8"
      ]
     },
     "execution_count": 10,
     "metadata": {},
     "output_type": "execute_result"
    }
   ],
   "source": [
    "part_one(parsed_sample)"
   ]
  },
  {
   "cell_type": "code",
   "execution_count": 11,
   "metadata": {},
   "outputs": [
    {
     "data": {
      "text/plain": [
       "86"
      ]
     },
     "execution_count": 11,
     "metadata": {},
     "output_type": "execute_result"
    }
   ],
   "source": [
    "part_one(parse_input(\"\"\"########################\n",
    "#f.D.E.e.C.b.A.@.a.B.c.#\n",
    "######################.#\n",
    "#d.....................#\n",
    "########################\"\"\"))"
   ]
  },
  {
   "cell_type": "code",
   "execution_count": 12,
   "metadata": {},
   "outputs": [
    {
     "data": {
      "text/plain": [
       "132"
      ]
     },
     "execution_count": 12,
     "metadata": {},
     "output_type": "execute_result"
    }
   ],
   "source": [
    "part_one(parse_input(\"\"\"########################\n",
    "#...............b.C.D.f#\n",
    "#.######################\n",
    "#.....@.a.B.c.d.A.e.F.g#\n",
    "########################\"\"\"))"
   ]
  },
  {
   "cell_type": "code",
   "execution_count": 13,
   "metadata": {},
   "outputs": [
    {
     "data": {
      "text/plain": [
       "4668"
      ]
     },
     "execution_count": 13,
     "metadata": {},
     "output_type": "execute_result"
    }
   ],
   "source": [
    "part_one_ans = part_one(parsed_input)"
   ]
  },
  {
   "cell_type": "code",
   "execution_count": 14,
   "metadata": {},
   "outputs": [
    {
     "data": {
      "text/plain": [
       "\"<!DOCTYPE html>\\n<html lang=\\\"en-us\\\">\\n<head>\\n<meta charset=\\\"utf-8\\\"/>\\n<title>Day 18 - Advent of Code 2019</title>\\n<!--[if lt IE 9]><script src=\\\"/static/html5.js\\\"></script><![endif]-->\\n<link href='//fonts.googleapis.com/css?family=Source+Code+Pro:300&subset=latin,latin-ext'\" ⋯ 3177 bytes ⋯ \"Name(o)[0];a.async=1;a.src=g;m.parentNode.insertBefore(a,m)\\n})(window,document,'script','//www.google-analytics.com/analytics.js','ga');\\nga('create', 'UA-69522494-1', 'auto');\\nga('set', 'anonymizeIp', true);\\nga('send', 'pageview');\\n</script>\\n<!-- /ga -->\\n</body>\\n</html>\""
      ]
     },
     "execution_count": 14,
     "metadata": {},
     "output_type": "execute_result"
    }
   ],
   "source": [
    "submit_answer(year, day, part_one_ans)"
   ]
  },
  {
   "cell_type": "code",
   "execution_count": 15,
   "metadata": {},
   "outputs": [
    {
     "data": {
      "text/plain": [
       "part_two (generic function with 1 method)"
      ]
     },
     "execution_count": 15,
     "metadata": {},
     "output_type": "execute_result"
    }
   ],
   "source": [
    "function part_two(input)\n",
    "    input = collect.(input)\n",
    "    n = length(input)\n",
    "    m = length(input[1])\n",
    "\n",
    "    si, sj = 0, 0\n",
    "    for i in 1:n\n",
    "        for j in 1:m\n",
    "            if input[i][j] == '@'\n",
    "                si, sj = i, j\n",
    "            end\n",
    "        end\n",
    "    end\n",
    "\n",
    "    input[si-1][sj-1:sj+1] .= collect(\"@#@\")\n",
    "    input[si][sj-1:sj+1] .= collect(\"###\")\n",
    "    input[si+1][sj-1:sj+1] .= collect(\"@#@\")\n",
    "\n",
    "    pre = zeros(Int, 27)\n",
    "    dch = zeros(Int, 27)\n",
    "    dist = fill(-1, n, m)\n",
    "    dist[si-1, sj-1] = dist[si-1, sj+1] = dist[si+1, sj-1] = dist[si+1, sj+1] = 0\n",
    "    pos = fill((0, 0), 27)\n",
    "    vaults = [Int[] for _ in 1:4]\n",
    "    function dfs(i, j, doors, vault)\n",
    "        for (di, dj) in DIRS\n",
    "            ni, nj = i + di, j + dj\n",
    "            if ni < 1 || ni > n || nj < 1 || nj > m\n",
    "                continue\n",
    "            end\n",
    "            if dist[ni, nj] != -1\n",
    "                continue\n",
    "            end\n",
    "            ch = input[ni][nj]\n",
    "            if ch == '#'\n",
    "                continue\n",
    "            end\n",
    "            dist[ni, nj] = dist[i, j] + 1\n",
    "            doors′ = doors\n",
    "            if 'A' <= ch <= 'Z'\n",
    "                doors′ |= 1 << (ch - 'A')\n",
    "            end\n",
    "            if 'a' <= ch <= 'z'\n",
    "                pre[ch-'a'+1] = doors\n",
    "                dch[ch-'a'+1] = dist[ni, nj]\n",
    "                pos[ch-'a'+1] = (ni, nj)\n",
    "                push!(vaults[vault], ch - 'a' + 1)\n",
    "            end\n",
    "            dfs(ni, nj, doors′, vault)\n",
    "        end\n",
    "    end\n",
    "\n",
    "    dfs(si - 1, sj - 1, 0, 1)\n",
    "    dfs(si - 1, sj + 1, 0, 2)\n",
    "    dfs(si + 1, sj - 1, 0, 3)\n",
    "    dfs(si + 1, sj + 1, 0, 4)\n",
    "    k = findfirst((==)(0), dch) - 1\n",
    "\n",
    "    adj = fill(Int(1e9), k, k)\n",
    "    for i in 1:k\n",
    "        adj[i, i] = 0\n",
    "        fill!(dist, -1)\n",
    "        dist[pos[i]...] = 0\n",
    "        q = Queue{Tuple{Int,Int}}()\n",
    "        enqueue!(q, pos[i])\n",
    "        while !isempty(q)\n",
    "            ci, cj = dequeue!(q)\n",
    "            for (di, dj) in DIRS\n",
    "                ni, nj = ci + di, cj + dj\n",
    "                if ni < 1 || ni > n || nj < 1 || nj > m\n",
    "                    continue\n",
    "                end\n",
    "                if dist[ni, nj] != -1\n",
    "                    continue\n",
    "                end\n",
    "                ch = input[ni][nj]\n",
    "                if ch == '#'\n",
    "                    continue\n",
    "                end\n",
    "\n",
    "                dist[ni, nj] = dist[ci, cj] + 1\n",
    "                if 'a' <= ch <= 'z'\n",
    "                    adj[i, ch-'a'+1] = dist[ni, nj]\n",
    "                end\n",
    "                enqueue!(q, (ni, nj))\n",
    "            end\n",
    "        end\n",
    "    end\n",
    "\n",
    "    msk = (1 << k) - 1\n",
    "    best = Int(1e9)\n",
    "    history = Dict{Tuple{Int,Int,Int,Int,Int}, Int}()\n",
    "    function dfs2(state, last, steps)\n",
    "        curr = (state, last[1], last[2], last[3], last[4])\n",
    "        if get(history, curr, Int(1e9)) <= steps || steps >= best\n",
    "            return\n",
    "        end\n",
    "        history[curr] = steps\n",
    "\n",
    "        if state == msk\n",
    "            best = steps\n",
    "            return\n",
    "        end\n",
    "\n",
    "        for i in 1:4\n",
    "            for v in vaults[i]\n",
    "                if (state >> (v - 1)) & 1 == 1\n",
    "                    continue\n",
    "                end\n",
    "                if (pre[v] & state) != pre[v]\n",
    "                    continue\n",
    "                end\n",
    "\n",
    "                dis = last[i] == -1 ? dch[v] : adj[last[i], v]\n",
    "                tmp = last[i]\n",
    "                last[i] = v\n",
    "                dfs2(state | (1 << (v - 1)), last, steps + dis)\n",
    "                last[i] = tmp\n",
    "            end\n",
    "        end\n",
    "    end\n",
    "\n",
    "    dfs2(0, [-1, -1, -1, -1], 0)\n",
    "\n",
    "    return best\n",
    "end"
   ]
  },
  {
   "cell_type": "code",
   "execution_count": 16,
   "metadata": {},
   "outputs": [
    {
     "data": {
      "text/plain": [
       "8"
      ]
     },
     "execution_count": 16,
     "metadata": {},
     "output_type": "execute_result"
    }
   ],
   "source": [
    "part_two(parse_input(\"\"\"#######\n",
    "#a.#Cd#\n",
    "##...##\n",
    "##.@.##\n",
    "##...##\n",
    "#cB#Ab#\n",
    "#######\"\"\"))"
   ]
  },
  {
   "cell_type": "code",
   "execution_count": 17,
   "metadata": {},
   "outputs": [
    {
     "data": {
      "text/plain": [
       "24"
      ]
     },
     "execution_count": 17,
     "metadata": {},
     "output_type": "execute_result"
    }
   ],
   "source": [
    "part_two(parse_input(\"\"\"###############\n",
    "#d.ABC.#.....a#\n",
    "######...######\n",
    "######.@.######\n",
    "######...######\n",
    "#b.....#.....c#\n",
    "###############\"\"\"))"
   ]
  },
  {
   "cell_type": "code",
   "execution_count": 18,
   "metadata": {},
   "outputs": [
    {
     "data": {
      "text/plain": [
       "1910"
      ]
     },
     "execution_count": 18,
     "metadata": {},
     "output_type": "execute_result"
    }
   ],
   "source": [
    "part_two_ans = part_two(parsed_input)"
   ]
  },
  {
   "cell_type": "code",
   "execution_count": 19,
   "metadata": {},
   "outputs": [
    {
     "data": {
      "text/plain": [
       "\"<!DOCTYPE html>\\n<html lang=\\\"en-us\\\">\\n<head>\\n<meta charset=\\\"utf-8\\\"/>\\n<title>Day 18 - Advent of Code 2019</title>\\n<!--[if lt IE 9]><script src=\\\"/static/html5.js\\\"></script><![endif]-->\\n<link href='//fonts.googleapis.com/css?family=Source+Code+Pro:300&subset=latin,latin-ext'\" ⋯ 3332 bytes ⋯ \"Name(o)[0];a.async=1;a.src=g;m.parentNode.insertBefore(a,m)\\n})(window,document,'script','//www.google-analytics.com/analytics.js','ga');\\nga('create', 'UA-69522494-1', 'auto');\\nga('set', 'anonymizeIp', true);\\nga('send', 'pageview');\\n</script>\\n<!-- /ga -->\\n</body>\\n</html>\""
      ]
     },
     "execution_count": 19,
     "metadata": {},
     "output_type": "execute_result"
    }
   ],
   "source": [
    "submit_answer(year, day, part_two_ans, 2)"
   ]
  }
 ],
 "metadata": {
  "kernelspec": {
   "display_name": "Julia 1.8.0",
   "language": "julia",
   "name": "julia-1.8"
  },
  "language_info": {
   "file_extension": ".jl",
   "mimetype": "application/julia",
   "name": "julia",
   "version": "1.8.3"
  },
  "orig_nbformat": 4,
  "vscode": {
   "interpreter": {
    "hash": "2decbbcdbe1b404b08c0c2ae8935a58886fd60ea7dad56cfc87e2a14f377e9ba"
   }
  }
 },
 "nbformat": 4,
 "nbformat_minor": 2
}
