{
 "cells": [
  {
   "cell_type": "code",
   "execution_count": 1,
   "metadata": {},
   "outputs": [
    {
     "name": "stderr",
     "output_type": "stream",
     "text": [
      "\u001b[32m\u001b[1m  Activating\u001b[22m\u001b[39m project at `~/com.github/lucifer1004/AdventOfCode.jl`\n"
     ]
    }
   ],
   "source": [
    "import Pkg; Pkg.activate(\"..\")"
   ]
  },
  {
   "cell_type": "code",
   "execution_count": 2,
   "metadata": {},
   "outputs": [],
   "source": [
    "using AdventOfCode"
   ]
  },
  {
   "cell_type": "code",
   "execution_count": 3,
   "metadata": {},
   "outputs": [
    {
     "data": {
      "text/plain": [
       "10"
      ]
     },
     "execution_count": 3,
     "metadata": {},
     "output_type": "execute_result"
    }
   ],
   "source": [
    "year = 2019\n",
    "day = 10"
   ]
  },
  {
   "cell_type": "code",
   "execution_count": 4,
   "metadata": {},
   "outputs": [
    {
     "data": {
      "text/plain": [
       "\"###..#########.#####.\\n.####.#####..####.#.#\\n.###.#.#.#####.##..##\\n##.####.#.###########\\n###...#.####.#.#.####\\n#.##..###.########...\\n#.#######.##.#######.\\n.#..#.#..###...####.#\\n#######.##.##.###..##\\n#.#......#....#.#.#..\\n######.###.#.#.##...#\\n####.#...#.#######.#.\\n.######.#####.#######\\n##.##.##.#####.##.#.#\\n###.#######..##.#....\\n###.##.##..##.#####.#\\n##.########.#.#.#####\\n.##....##..###.#...#.\\n#..#.####.######..###\\n..#.####.############\\n..##...###..#########\""
      ]
     },
     "execution_count": 4,
     "metadata": {},
     "output_type": "execute_result"
    }
   ],
   "source": [
    "input = get_input(year, day)"
   ]
  },
  {
   "cell_type": "code",
   "execution_count": 5,
   "metadata": {},
   "outputs": [
    {
     "data": {
      "text/plain": [
       "21-element Vector{SubString{String}}:\n",
       " \"###..#########.#####.\"\n",
       " \".####.#####..####.#.#\"\n",
       " \".###.#.#.#####.##..##\"\n",
       " \"##.####.#.###########\"\n",
       " \"###...#.####.#.#.####\"\n",
       " \"#.##..###.########...\"\n",
       " \"#.#######.##.#######.\"\n",
       " \".#..#.#..###...####.#\"\n",
       " \"#######.##.##.###..##\"\n",
       " \"#.#......#....#.#.#..\"\n",
       " \"######.###.#.#.##...#\"\n",
       " \"####.#...#.#######.#.\"\n",
       " \".######.#####.#######\"\n",
       " \"##.##.##.#####.##.#.#\"\n",
       " \"###.#######..##.#....\"\n",
       " \"###.##.##..##.#####.#\"\n",
       " \"##.########.#.#.#####\"\n",
       " \".##....##..###.#...#.\"\n",
       " \"#..#.####.######..###\"\n",
       " \"..#.####.############\"\n",
       " \"..##...###..#########\""
      ]
     },
     "execution_count": 5,
     "metadata": {},
     "output_type": "execute_result"
    }
   ],
   "source": [
    "parsed_input = parse_input(input)"
   ]
  },
  {
   "cell_type": "code",
   "execution_count": 6,
   "metadata": {},
   "outputs": [
    {
     "data": {
      "text/plain": [
       "\".#..##.###...#######\\n##.############..##.\\n.#.######.########.#\\n.###.#######.####.#.\\n#####.##.#.##.###.##\\n..#####..#.#########\\n####################\\n#.####....###.#.#.##\\n##.#################\\n#####.##.###..####..\\n..######..##.#######\\n####.##.####...##..#\\n.#####..#.######.###\\n##...#.##########...\\n#.##########.#######\\n.####.#.###.###.#.##\\n....##.##.###..#####\\n.#.#.###########.###\\n#.#.#.#####.####.###\\n###.##.####.##.#..##\""
      ]
     },
     "execution_count": 6,
     "metadata": {},
     "output_type": "execute_result"
    }
   ],
   "source": [
    "sample = \"\"\".#..##.###...#######\n",
    "##.############..##.\n",
    ".#.######.########.#\n",
    ".###.#######.####.#.\n",
    "#####.##.#.##.###.##\n",
    "..#####..#.#########\n",
    "####################\n",
    "#.####....###.#.#.##\n",
    "##.#################\n",
    "#####.##.###..####..\n",
    "..######..##.#######\n",
    "####.##.####...##..#\n",
    ".#####..#.######.###\n",
    "##...#.##########...\n",
    "#.##########.#######\n",
    ".####.#.###.###.#.##\n",
    "....##.##.###..#####\n",
    ".#.#.###########.###\n",
    "#.#.#.#####.####.###\n",
    "###.##.####.##.#..##\"\"\""
   ]
  },
  {
   "cell_type": "code",
   "execution_count": 7,
   "metadata": {},
   "outputs": [
    {
     "data": {
      "text/plain": [
       "20-element Vector{SubString{String}}:\n",
       " \".#..##.###...#######\"\n",
       " \"##.############..##.\"\n",
       " \".#.######.########.#\"\n",
       " \".###.#######.####.#.\"\n",
       " \"#####.##.#.##.###.##\"\n",
       " \"..#####..#.#########\"\n",
       " \"####################\"\n",
       " \"#.####....###.#.#.##\"\n",
       " \"##.#################\"\n",
       " \"#####.##.###..####..\"\n",
       " \"..######..##.#######\"\n",
       " \"####.##.####...##..#\"\n",
       " \".#####..#.######.###\"\n",
       " \"##...#.##########...\"\n",
       " \"#.##########.#######\"\n",
       " \".####.#.###.###.#.##\"\n",
       " \"....##.##.###..#####\"\n",
       " \".#.#.###########.###\"\n",
       " \"#.#.#.#####.####.###\"\n",
       " \"###.##.####.##.#..##\""
      ]
     },
     "execution_count": 7,
     "metadata": {},
     "output_type": "execute_result"
    }
   ],
   "source": [
    "parsed_sample = parse_input(sample)"
   ]
  },
  {
   "cell_type": "code",
   "execution_count": 8,
   "metadata": {},
   "outputs": [
    {
     "data": {
      "text/plain": [
       "part_one (generic function with 1 method)"
      ]
     },
     "execution_count": 8,
     "metadata": {},
     "output_type": "execute_result"
    }
   ],
   "source": [
    "function part_one(input)\n",
    "    n = length(input)\n",
    "    m = length(input[1])\n",
    "    asteroids = [(i, j) for i in 1:n for j in 1:m if input[i][j] == '#']\n",
    "    max_count = 0\n",
    "    for (i, j) in asteroids\n",
    "        count = 0\n",
    "        angles = Set{Tuple{Int, Int}}()\n",
    "        for (x, y) in asteroids\n",
    "            if (x, y) == (i, j)\n",
    "                continue\n",
    "            end\n",
    "\n",
    "            g = gcd(abs(x - i), abs(y - j))\n",
    "            push!(angles, ((x - i) ÷ g, (y - j) ÷ g))\n",
    "        end\n",
    "        max_count = max(max_count, length(angles))\n",
    "    end\n",
    "    return max_count\n",
    "end"
   ]
  },
  {
   "cell_type": "code",
   "execution_count": 9,
   "metadata": {},
   "outputs": [
    {
     "data": {
      "text/plain": [
       "210"
      ]
     },
     "execution_count": 9,
     "metadata": {},
     "output_type": "execute_result"
    }
   ],
   "source": [
    "part_one(parsed_sample)"
   ]
  },
  {
   "cell_type": "code",
   "execution_count": 10,
   "metadata": {},
   "outputs": [
    {
     "data": {
      "text/plain": [
       "221"
      ]
     },
     "execution_count": 10,
     "metadata": {},
     "output_type": "execute_result"
    }
   ],
   "source": [
    "part_one_ans = part_one(parsed_input)"
   ]
  },
  {
   "cell_type": "code",
   "execution_count": 11,
   "metadata": {},
   "outputs": [
    {
     "data": {
      "text/plain": [
       "\"<!DOCTYPE html>\\n<html lang=\\\"en-us\\\">\\n<head>\\n<meta charset=\\\"utf-8\\\"/>\\n<title>Day 10 - Advent of Code 2019</title>\\n<!--[if lt IE 9]><script src=\\\"/static/html5.js\\\"></script><![endif]-->\\n<link href='//fonts.googleapis.com/css?family=Source+Code+Pro:300&subset=latin,latin-ext'\" ⋯ 3174 bytes ⋯ \"Name(o)[0];a.async=1;a.src=g;m.parentNode.insertBefore(a,m)\\n})(window,document,'script','//www.google-analytics.com/analytics.js','ga');\\nga('create', 'UA-69522494-1', 'auto');\\nga('set', 'anonymizeIp', true);\\nga('send', 'pageview');\\n</script>\\n<!-- /ga -->\\n</body>\\n</html>\""
      ]
     },
     "execution_count": 11,
     "metadata": {},
     "output_type": "execute_result"
    }
   ],
   "source": [
    "submit_answer(year, day, part_one_ans)"
   ]
  },
  {
   "cell_type": "code",
   "execution_count": 12,
   "metadata": {},
   "outputs": [
    {
     "data": {
      "text/plain": [
       "part_two (generic function with 1 method)"
      ]
     },
     "execution_count": 12,
     "metadata": {},
     "output_type": "execute_result"
    }
   ],
   "source": [
    "function part_two(input)\n",
    "    n = length(input)\n",
    "    m = length(input[1])\n",
    "    asteroids = [(i, j) for i in 1:n for j in 1:m if input[i][j] == '#']\n",
    "    max_count = 0\n",
    "    pos = (0, 0)\n",
    "    for (i, j) in asteroids\n",
    "        count = 0\n",
    "        angles = Set{Tuple{Int, Int}}()\n",
    "        for (x, y) in asteroids\n",
    "            if (x, y) == (i, j)\n",
    "                continue\n",
    "            end\n",
    "\n",
    "            g = gcd(abs(x - i), abs(y - j))\n",
    "            push!(angles, ((x - i) ÷ g, (y - j) ÷ g))\n",
    "        end\n",
    "\n",
    "        if length(angles) > max_count\n",
    "            max_count = length(angles)\n",
    "            pos = (i, j)\n",
    "        end\n",
    "    end\n",
    "\n",
    "    px, py = pos\n",
    "    others = map((x, y) for (x, y) in asteroids if (x, y) != pos) do (x, y)\n",
    "        # Coordinate mapping: (x, y) -> (y, -x)\n",
    "        angle = atan(y - py, px - x)\n",
    "        if angle < 0\n",
    "            angle += 2π\n",
    "        end\n",
    "        dist = abs(x - px) + abs(y - py)\n",
    "        (angle, dist, (x, y))\n",
    "    end\n",
    "    sort!(others)\n",
    "\n",
    "    order = Tuple{Int, Int}[]\n",
    "    while !isempty(others)\n",
    "        rem = eltype(others)[]\n",
    "        for i in eachindex(others)\n",
    "            if i == 1 || others[i][1] != others[i - 1][1]\n",
    "                push!(order, others[i][3] .- 1)\n",
    "            else\n",
    "                push!(rem, others[i])\n",
    "            end\n",
    "        end\n",
    "\n",
    "        others = rem\n",
    "    end\n",
    "\n",
    "    if length(order) >= 200\n",
    "        x, y = order[200]\n",
    "        return y * 100 + x\n",
    "    end\n",
    "end"
   ]
  },
  {
   "cell_type": "code",
   "execution_count": 13,
   "metadata": {},
   "outputs": [
    {
     "data": {
      "text/plain": [
       "802"
      ]
     },
     "execution_count": 13,
     "metadata": {},
     "output_type": "execute_result"
    }
   ],
   "source": [
    "part_two(parsed_sample)"
   ]
  },
  {
   "cell_type": "code",
   "execution_count": 14,
   "metadata": {},
   "outputs": [
    {
     "data": {
      "text/plain": [
       "806"
      ]
     },
     "execution_count": 14,
     "metadata": {},
     "output_type": "execute_result"
    }
   ],
   "source": [
    "part_two_ans = part_two(parsed_input)"
   ]
  },
  {
   "cell_type": "code",
   "execution_count": 15,
   "metadata": {},
   "outputs": [
    {
     "data": {
      "text/plain": [
       "\"<!DOCTYPE html>\\n<html lang=\\\"en-us\\\">\\n<head>\\n<meta charset=\\\"utf-8\\\"/>\\n<title>Day 10 - Advent of Code 2019</title>\\n<!--[if lt IE 9]><script src=\\\"/static/html5.js\\\"></script><![endif]-->\\n<link href='//fonts.googleapis.com/css?family=Source+Code+Pro:300&subset=latin,latin-ext'\" ⋯ 3307 bytes ⋯ \"Name(o)[0];a.async=1;a.src=g;m.parentNode.insertBefore(a,m)\\n})(window,document,'script','//www.google-analytics.com/analytics.js','ga');\\nga('create', 'UA-69522494-1', 'auto');\\nga('set', 'anonymizeIp', true);\\nga('send', 'pageview');\\n</script>\\n<!-- /ga -->\\n</body>\\n</html>\""
      ]
     },
     "execution_count": 15,
     "metadata": {},
     "output_type": "execute_result"
    }
   ],
   "source": [
    "submit_answer(year, day, part_two_ans, 2)"
   ]
  }
 ],
 "metadata": {
  "kernelspec": {
   "display_name": "Julia 1.8.0",
   "language": "julia",
   "name": "julia-1.8"
  },
  "language_info": {
   "file_extension": ".jl",
   "mimetype": "application/julia",
   "name": "julia",
   "version": "1.8.3"
  },
  "orig_nbformat": 4,
  "vscode": {
   "interpreter": {
    "hash": "2decbbcdbe1b404b08c0c2ae8935a58886fd60ea7dad56cfc87e2a14f377e9ba"
   }
  }
 },
 "nbformat": 4,
 "nbformat_minor": 2
}
