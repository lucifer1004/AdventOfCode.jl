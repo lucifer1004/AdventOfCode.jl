{
 "cells": [
  {
   "cell_type": "code",
   "execution_count": 1,
   "metadata": {},
   "outputs": [
    {
     "name": "stderr",
     "output_type": "stream",
     "text": [
      "\u001b[32m\u001b[1m  Activating\u001b[22m\u001b[39m project at `~/com.github/lucifer1004/AdventOfCode.jl`\n"
     ]
    }
   ],
   "source": [
    "import Pkg; Pkg.activate(\"..\")"
   ]
  },
  {
   "cell_type": "code",
   "execution_count": 2,
   "metadata": {},
   "outputs": [
    {
     "name": "stderr",
     "output_type": "stream",
     "text": [
      "┌ Info: Precompiling AdventOfCode [ec480b64-8d68-453c-9e84-9dbf6ce847d6]\n",
      "└ @ Base loading.jl:1664\n"
     ]
    }
   ],
   "source": [
    "using AdventOfCode\n",
    "using AdventOfCode.AoC2019"
   ]
  },
  {
   "cell_type": "code",
   "execution_count": 3,
   "metadata": {},
   "outputs": [
    {
     "data": {
      "text/plain": [
       "23"
      ]
     },
     "execution_count": 3,
     "metadata": {},
     "output_type": "execute_result"
    }
   ],
   "source": [
    "year = 2019\n",
    "day = 23"
   ]
  },
  {
   "cell_type": "code",
   "execution_count": 4,
   "metadata": {},
   "outputs": [
    {
     "data": {
      "text/plain": [
       "\"3,62,1001,62,11,10,109,2237,105,1,0,919,1344,1032,2175,1730,1573,882,1439,1901,773,1866,1761,606,1544,2039,1313,1185,2206,1156,1251,2109,1932,1127,1220,1001,851,2006,1608,814,571,960,1509,1377,1833,639,1798,2078,1975,728,1094,1410,699,1670,670,1699,1639,1476,1284,2140,1\" ⋯ 7429 bytes ⋯ \",1,1,71,1101,0,2173,72,1105,1,73,0,0,0,0,0,0,26,164974,1102,1,18859,66,1101,1,0,67,1101,2202,0,68,1102,556,1,69,1101,1,0,71,1101,2204,0,72,1106,0,73,1,2081,6,4413,1101,0,84179,66,1102,1,1,67,1102,1,2233,68,1102,556,1,69,1101,1,0,71,1102,1,2235,72,1106,0,73,1,4,21,132914\""
      ]
     },
     "execution_count": 4,
     "metadata": {},
     "output_type": "execute_result"
    }
   ],
   "source": [
    "input = get_input(year, day)"
   ]
  },
  {
   "cell_type": "code",
   "execution_count": 5,
   "metadata": {},
   "outputs": [
    {
     "data": {
      "text/plain": [
       "part_one (generic function with 1 method)"
      ]
     },
     "execution_count": 5,
     "metadata": {},
     "output_type": "execute_result"
    }
   ],
   "source": [
    "function part_one(input)\n",
    "    mem = parse.(Int, split(input, \",\"))\n",
    "    machines = [IntCodeMachine(collect(mem); inputs = [i]) for i in 0:49]\n",
    "    output_ptrs = zeros(Int, length(machines))\n",
    "    y255 = nothing\n",
    "    while isnothing(y255)\n",
    "        for (i, machine) in enumerate(machines)\n",
    "            exec!(machine)\n",
    "            if length(machine.outputs) > output_ptrs[i]\n",
    "                addr = machine.outputs[output_ptrs[i] + 1]\n",
    "                x = machine.outputs[output_ptrs[i] + 2]\n",
    "                y = machine.outputs[output_ptrs[i] + 3]\n",
    "                if addr == 255\n",
    "                    y255 = y\n",
    "                elseif 0 <= addr <= 49 \n",
    "                    push!(machines[addr + 1].inputs, x, y)\n",
    "                end\n",
    "                output_ptrs[i] += 3\n",
    "            else\n",
    "                push!(machine.inputs, -1)\n",
    "            end\n",
    "        end\n",
    "    end\n",
    "    return y255\n",
    "end"
   ]
  },
  {
   "cell_type": "code",
   "execution_count": 6,
   "metadata": {},
   "outputs": [
    {
     "data": {
      "text/plain": [
       "18192"
      ]
     },
     "execution_count": 6,
     "metadata": {},
     "output_type": "execute_result"
    }
   ],
   "source": [
    "part_one_ans = part_one(input)"
   ]
  },
  {
   "cell_type": "code",
   "execution_count": 7,
   "metadata": {},
   "outputs": [
    {
     "data": {
      "text/plain": [
       "\"<!DOCTYPE html>\\n<html lang=\\\"en-us\\\">\\n<head>\\n<meta charset=\\\"utf-8\\\"/>\\n<title>Day 23 - Advent of Code 2019</title>\\n<!--[if lt IE 9]><script src=\\\"/static/html5.js\\\"></script><![endif]-->\\n<link href='//fonts.googleapis.com/css?family=Source+Code+Pro:300&subset=latin,latin-ext'\" ⋯ 3250 bytes ⋯ \"Name(o)[0];a.async=1;a.src=g;m.parentNode.insertBefore(a,m)\\n})(window,document,'script','//www.google-analytics.com/analytics.js','ga');\\nga('create', 'UA-69522494-1', 'auto');\\nga('set', 'anonymizeIp', true);\\nga('send', 'pageview');\\n</script>\\n<!-- /ga -->\\n</body>\\n</html>\""
      ]
     },
     "execution_count": 7,
     "metadata": {},
     "output_type": "execute_result"
    }
   ],
   "source": [
    "submit_answer(year, day, part_one_ans)"
   ]
  },
  {
   "cell_type": "code",
   "execution_count": 8,
   "metadata": {},
   "outputs": [
    {
     "data": {
      "text/plain": [
       "part_two (generic function with 1 method)"
      ]
     },
     "execution_count": 8,
     "metadata": {},
     "output_type": "execute_result"
    }
   ],
   "source": [
    "function part_two(input)\n",
    "    mem = parse.(Int, split(input, \",\"))\n",
    "    machines = [IntCodeMachine(collect(mem); inputs = [i]) for i in 0:49]\n",
    "    output_ptrs = zeros(Int, length(machines))\n",
    "    x255, y255 = 0, 0\n",
    "    lasty = nothing\n",
    "    while true\n",
    "        idle = 0\n",
    "        for (i, machine) in enumerate(machines)\n",
    "            exec!(machine)\n",
    "            if length(machine.outputs) > output_ptrs[i]\n",
    "                addr = machine.outputs[output_ptrs[i] + 1]\n",
    "                x = machine.outputs[output_ptrs[i] + 2]\n",
    "                y = machine.outputs[output_ptrs[i] + 3]\n",
    "                if addr == 255\n",
    "                    x255, y255 = x, y\n",
    "                elseif 0 <= addr <= 49 \n",
    "                    push!(machines[addr + 1].inputs, x, y)\n",
    "                end\n",
    "                output_ptrs[i] += 3\n",
    "            else\n",
    "                push!(machine.inputs, -1)\n",
    "                idle += 1\n",
    "            end\n",
    "        end\n",
    "\n",
    "        if idle == length(machines)\n",
    "            if y255 == lasty\n",
    "                return y255\n",
    "            end\n",
    "            lasty = y255\n",
    "            push!(machines[1].inputs, x255, y255)\n",
    "        end\n",
    "    end\n",
    "\n",
    "    return -1\n",
    "end"
   ]
  },
  {
   "cell_type": "code",
   "execution_count": 9,
   "metadata": {},
   "outputs": [
    {
     "data": {
      "text/plain": [
       "10738"
      ]
     },
     "execution_count": 9,
     "metadata": {},
     "output_type": "execute_result"
    }
   ],
   "source": [
    "part_two_ans = part_two(input)"
   ]
  },
  {
   "cell_type": "code",
   "execution_count": 10,
   "metadata": {},
   "outputs": [
    {
     "data": {
      "text/plain": [
       "\"<!DOCTYPE html>\\n<html lang=\\\"en-us\\\">\\n<head>\\n<meta charset=\\\"utf-8\\\"/>\\n<title>Day 23 - Advent of Code 2019</title>\\n<!--[if lt IE 9]><script src=\\\"/static/html5.js\\\"></script><![endif]-->\\n<link href='//fonts.googleapis.com/css?family=Source+Code+Pro:300&subset=latin,latin-ext'\" ⋯ 3233 bytes ⋯ \"Name(o)[0];a.async=1;a.src=g;m.parentNode.insertBefore(a,m)\\n})(window,document,'script','//www.google-analytics.com/analytics.js','ga');\\nga('create', 'UA-69522494-1', 'auto');\\nga('set', 'anonymizeIp', true);\\nga('send', 'pageview');\\n</script>\\n<!-- /ga -->\\n</body>\\n</html>\""
      ]
     },
     "execution_count": 10,
     "metadata": {},
     "output_type": "execute_result"
    }
   ],
   "source": [
    "submit_answer(year, day, part_two_ans, 2)"
   ]
  }
 ],
 "metadata": {
  "kernelspec": {
   "display_name": "Julia 1.8.0",
   "language": "julia",
   "name": "julia-1.8"
  },
  "language_info": {
   "file_extension": ".jl",
   "mimetype": "application/julia",
   "name": "julia",
   "version": "1.8.3"
  },
  "orig_nbformat": 4,
  "vscode": {
   "interpreter": {
    "hash": "2decbbcdbe1b404b08c0c2ae8935a58886fd60ea7dad56cfc87e2a14f377e9ba"
   }
  }
 },
 "nbformat": 4,
 "nbformat_minor": 2
}
