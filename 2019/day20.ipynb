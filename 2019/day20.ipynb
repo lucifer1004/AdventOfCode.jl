{
 "cells": [
  {
   "cell_type": "code",
   "execution_count": 1,
   "metadata": {},
   "outputs": [
    {
     "name": "stderr",
     "output_type": "stream",
     "text": [
      "\u001b[32m\u001b[1m  Activating\u001b[22m\u001b[39m project at `~/com.github/lucifer1004/AdventOfCode.jl`\n"
     ]
    }
   ],
   "source": [
    "import Pkg; Pkg.activate(\"..\")"
   ]
  },
  {
   "cell_type": "code",
   "execution_count": 2,
   "metadata": {},
   "outputs": [],
   "source": [
    "using AdventOfCode"
   ]
  },
  {
   "cell_type": "code",
   "execution_count": 3,
   "metadata": {},
   "outputs": [
    {
     "data": {
      "text/plain": [
       "20"
      ]
     },
     "execution_count": 3,
     "metadata": {},
     "output_type": "execute_result"
    }
   ],
   "source": [
    "year = 2019\n",
    "day = 20"
   ]
  },
  {
   "cell_type": "code",
   "execution_count": 4,
   "metadata": {},
   "outputs": [
    {
     "data": {
      "text/plain": [
       "\"                                         V         C   O           F   O     A   K     H                                         \\n                                         Q         U   B           P   C     A   M     Y                                         \\n  ########\" ⋯ 15405 bytes ⋯ \".#######.###########################################  \\n                                               X   V           C     O     M       P                                             \\n                                               E   A           T     E     V       A\""
      ]
     },
     "execution_count": 4,
     "metadata": {},
     "output_type": "execute_result"
    }
   ],
   "source": [
    "input = get_input(year, day)"
   ]
  },
  {
   "cell_type": "code",
   "execution_count": 5,
   "metadata": {},
   "outputs": [
    {
     "data": {
      "text/plain": [
       "123-element Vector{SubString{String}}:\n",
       " \"                               \" ⋯ 67 bytes ⋯ \"                               \"\n",
       " \"                               \" ⋯ 67 bytes ⋯ \"                               \"\n",
       " \"  #############################\" ⋯ 67 bytes ⋯ \"#############################  \"\n",
       " \"  #...#.....................#..\" ⋯ 67 bytes ⋯ \"....#.#...#.......#.#.#.#...#  \"\n",
       " \"  ###.#####.#############.#####\" ⋯ 67 bytes ⋯ \"#####.###.#.#######.#.#.#.###  \"\n",
       " \"  #.#.....#.#.#.....#..........\" ⋯ 67 bytes ⋯ \"........#...........#.#...#.#  \"\n",
       " \"  #.#####.###.###.#######.###.#\" ⋯ 67 bytes ⋯ \"###.#####.###.#######.#.###.#  \"\n",
       " \"  #...#.....#.#.#.....#...#....\" ⋯ 67 bytes ⋯ \"..#.#.#.#...#.....#.#.......#  \"\n",
       " \"  #.#######.#.#.#.#############\" ⋯ 67 bytes ⋯ \"#.#.#.#.#.#########.#.#####.#  \"\n",
       " \"  #...#.....#.....#.#.#...#.#..\" ⋯ 67 bytes ⋯ \"............#.#...#.#.....#.#  \"\n",
       " \"  #.###.#.#######.#.#.###.#.###\" ⋯ 67 bytes ⋯ \"###.#.#.#####.#.###.###.#####  \"\n",
       " \"  #...#.#.#...#...#.....#......\" ⋯ 67 bytes ⋯ \"..#.#.#...#...#...#.......#.#  \"\n",
       " \"  #.#####.#.###.#####.###.###.#\" ⋯ 67 bytes ⋯ \"#.###.#####.###.#######.###.#  \"\n",
       " ⋮\n",
       " \"  #...#.#...#...#.......#.#....\" ⋯ 67 bytes ⋯ \"#.........#.#.....#.#.#.....#  \"\n",
       " \"  #.#.#.#.###.#######.#.#.#.#.#\" ⋯ 67 bytes ⋯ \"#.#.#####.###.###.#####.#.#.#  \"\n",
       " \"  #.#...#.#...#.......#.#.#.#.#\" ⋯ 67 bytes ⋯ \"..#...#.#.#.#...#...#.#.#.#.#  \"\n",
       " \"  #####.###.###.#####.#.#######\" ⋯ 67 bytes ⋯ \"#.#.###.###.#.###.###.###.#.#  \"\n",
       " \"  #.........#.#.#.....#.#......\" ⋯ 67 bytes ⋯ \"#.#.........#.#.........#.#.#  \"\n",
       " \"  #.###.#####.#####.#.###.#####\" ⋯ 67 bytes ⋯ \"#.###.#####.###.###.#######.#  \"\n",
       " \"  #.#.....#.........#.#...#....\" ⋯ 67 bytes ⋯ \"#...#.#...#.#.#...#...#...#.#  \"\n",
       " \"  #.#.#.#####.#.###.###.#.###.#\" ⋯ 67 bytes ⋯ \"#.#####.#####.#####.#.#.###.#  \"\n",
       " \"  #.#.#.....#.#.#...#...#.#...#\" ⋯ 67 bytes ⋯ \"..................#.#.#.....#  \"\n",
       " \"  #############################\" ⋯ 67 bytes ⋯ \"#############################  \"\n",
       " \"                               \" ⋯ 67 bytes ⋯ \"                               \"\n",
       " \"                               \" ⋯ 22 bytes ⋯ \"          T     E     V       A\""
      ]
     },
     "execution_count": 5,
     "metadata": {},
     "output_type": "execute_result"
    }
   ],
   "source": [
    "parsed_input = parse_input(input)"
   ]
  },
  {
   "cell_type": "code",
   "execution_count": 6,
   "metadata": {},
   "outputs": [
    {
     "data": {
      "text/plain": [
       "preprocess (generic function with 1 method)"
      ]
     },
     "execution_count": 6,
     "metadata": {},
     "output_type": "execute_result"
    }
   ],
   "source": [
    "function preprocess(input)\n",
    "    n = length(input)\n",
    "    m = length(input[1])\n",
    "    outer = Set()\n",
    "    inner = Set()\n",
    "    pairs = Dict{Tuple{Int, Int}, Tuple{Int, Int}}()\n",
    "    portals = DefaultDict{String, Vector{Tuple{Int, Int}}}(() -> [])\n",
    "    for i in 1:n-1\n",
    "        for j in 1:m-1\n",
    "            if 'A' <= input[i][j] <= 'Z'\n",
    "                if j + 2 <= m && 'A' <= input[i][j + 1] <= 'Z' && input[i][j + 2] == '.'\n",
    "                    name = input[i][j:j+1]\n",
    "                    push!(portals[name], (i, j + 2))\n",
    "                    if j == 1\n",
    "                        push!(outer, (i, j + 2))\n",
    "                    else\n",
    "                        push!(inner, (i, j + 2))\n",
    "                    end\n",
    "                elseif j + 1 <= m && j > 1 && 'A' <= input[i][j + 1] <= 'Z' && input[i][j - 1] == '.'\n",
    "                    name = input[i][j:j+1]\n",
    "                    push!(portals[name], (i, j - 1))\n",
    "                    if j == m - 1\n",
    "                        push!(outer, (i, j - 1))\n",
    "                    else\n",
    "                        push!(inner, (i, j - 1))\n",
    "                    end\n",
    "                elseif i + 2 <= n && 'A' <= input[i + 1][j] <= 'Z' && input[i + 2][j] == '.'\n",
    "                    name = input[i][j] * input[i + 1][j]\n",
    "                    push!(portals[name], (i + 2, j))\n",
    "                    if i == 1\n",
    "                        push!(outer, (i + 2, j))\n",
    "                    else\n",
    "                        push!(inner, (i + 2, j))\n",
    "                    end\n",
    "                elseif i + 1 <= n && i > 1 && 'A' <= input[i + 1][j] <= 'Z' && input[i - 1][j] == '.'\n",
    "                    name = input[i][j] * input[i + 1][j]\n",
    "                    push!(portals[name], (i - 1, j))\n",
    "                    if i == n - 1\n",
    "                        push!(outer, (i - 1, j))\n",
    "                    else\n",
    "                        push!(inner, (i - 1, j))\n",
    "                    end\n",
    "                end\n",
    "            end\n",
    "        end\n",
    "    end\n",
    "\n",
    "    for p in values(portals)\n",
    "        if length(p) == 2\n",
    "            u, v = p\n",
    "            pairs[u] = v\n",
    "            pairs[v] = u\n",
    "        end\n",
    "    end\n",
    "\n",
    "    return portals, inner, outer, pairs\n",
    "end"
   ]
  },
  {
   "cell_type": "code",
   "execution_count": 7,
   "metadata": {},
   "outputs": [
    {
     "data": {
      "text/plain": [
       "4-element Vector{Tuple{Int64, Int64}}:\n",
       " (-1, 0)\n",
       " (1, 0)\n",
       " (0, -1)\n",
       " (0, 1)"
      ]
     },
     "execution_count": 7,
     "metadata": {},
     "output_type": "execute_result"
    }
   ],
   "source": [
    "DIRS = [(-1, 0), (1, 0), (0, -1), (0, 1)]"
   ]
  },
  {
   "cell_type": "code",
   "execution_count": 8,
   "metadata": {},
   "outputs": [
    {
     "data": {
      "text/plain": [
       "part_one (generic function with 1 method)"
      ]
     },
     "execution_count": 8,
     "metadata": {},
     "output_type": "execute_result"
    }
   ],
   "source": [
    "function part_one(input)\n",
    "    portals, inner, outer, pairs = preprocess(input)\n",
    "\n",
    "    start = portals[\"AA\"][1]\n",
    "    stop = portals[\"ZZ\"][1]\n",
    "    dis = Dict()\n",
    "    q = Queue{Tuple{Int, Int}}()\n",
    "    dis[start] = 0\n",
    "    enqueue!(q, start)\n",
    "    while !isempty(q)\n",
    "        r, c = dequeue!(q)\n",
    "        if (r, c) == stop\n",
    "            return dis[(r, c)]\n",
    "        end\n",
    "\n",
    "        for (dr, dc) in DIRS\n",
    "            nr, nc = r + dr, c + dc\n",
    "            if input[nr][nc] == '.' && !haskey(dis, (nr, nc))\n",
    "                dis[(nr, nc)] = dis[(r, c)] + 1\n",
    "                enqueue!(q, (nr, nc))\n",
    "            end\n",
    "        end\n",
    "\n",
    "        if haskey(pairs, (r, c)) && !haskey(dis, pairs[(r, c)])\n",
    "            dis[pairs[(r, c)]] = dis[(r, c)] + 1\n",
    "            enqueue!(q, pairs[(r, c)])\n",
    "        end\n",
    "    end\n",
    "end"
   ]
  },
  {
   "cell_type": "code",
   "execution_count": 9,
   "metadata": {},
   "outputs": [
    {
     "data": {
      "text/plain": [
       "664"
      ]
     },
     "execution_count": 9,
     "metadata": {},
     "output_type": "execute_result"
    }
   ],
   "source": [
    "part_one_ans = part_one(parsed_input)"
   ]
  },
  {
   "cell_type": "code",
   "execution_count": 10,
   "metadata": {},
   "outputs": [
    {
     "data": {
      "text/plain": [
       "\"<!DOCTYPE html>\\n<html lang=\\\"en-us\\\">\\n<head>\\n<meta charset=\\\"utf-8\\\"/>\\n<title>Day 20 - Advent of Code 2019</title>\\n<!--[if lt IE 9]><script src=\\\"/static/html5.js\\\"></script><![endif]-->\\n<link href='//fonts.googleapis.com/css?family=Source+Code+Pro:300&subset=latin,latin-ext'\" ⋯ 3208 bytes ⋯ \"Name(o)[0];a.async=1;a.src=g;m.parentNode.insertBefore(a,m)\\n})(window,document,'script','//www.google-analytics.com/analytics.js','ga');\\nga('create', 'UA-69522494-1', 'auto');\\nga('set', 'anonymizeIp', true);\\nga('send', 'pageview');\\n</script>\\n<!-- /ga -->\\n</body>\\n</html>\""
      ]
     },
     "execution_count": 10,
     "metadata": {},
     "output_type": "execute_result"
    }
   ],
   "source": [
    "submit_answer(year, day, part_one_ans)"
   ]
  },
  {
   "cell_type": "code",
   "execution_count": 11,
   "metadata": {},
   "outputs": [
    {
     "data": {
      "text/plain": [
       "part_two (generic function with 1 method)"
      ]
     },
     "execution_count": 11,
     "metadata": {},
     "output_type": "execute_result"
    }
   ],
   "source": [
    "function part_two(input)\n",
    "    portals, inner, outer, pairs = preprocess(input)\n",
    "\n",
    "    sr, sc = portals[\"AA\"][1]\n",
    "    er, ec = portals[\"ZZ\"][1]\n",
    "    pop!(outer, (sr, sc))\n",
    "    pop!(outer, (er, ec))\n",
    "    dis = Dict()\n",
    "    q = Queue{Tuple{Int, Int, Int}}()\n",
    "    dis[(sr, sc, 0)] = 0\n",
    "    enqueue!(q, (sr, sc, 0))\n",
    "    while !isempty(q)\n",
    "        r, c, d = dequeue!(q)\n",
    "        if r == er && c == ec\n",
    "            return dis[(r, c, d)]\n",
    "        end\n",
    "\n",
    "        for (dr, dc) in DIRS\n",
    "            nr, nc = r + dr, c + dc\n",
    "            if input[nr][nc] == '.' && !haskey(dis, (nr, nc, d))\n",
    "                if nr == er && nc == ec && d > 0\n",
    "                    continue\n",
    "                end\n",
    "                if nr == sr && nc == sc && d > 0\n",
    "                    continue\n",
    "                end\n",
    "                if (nr, nc) ∈ outer && d == 0\n",
    "                    continue\n",
    "                end\n",
    "                dis[(nr, nc, d)] = dis[(r, c, d)] + 1\n",
    "                enqueue!(q, (nr, nc, d))\n",
    "            end\n",
    "        end\n",
    "\n",
    "        if haskey(pairs, (r, c))\n",
    "            nr, nc = pairs[(r, c)]\n",
    "            nxt = (r, c) ∈ inner ? (nr, nc, d + 1) : (nr, nc, d - 1)\n",
    "            if !haskey(dis, nxt)\n",
    "                dis[nxt] = dis[(r, c, d)] + 1\n",
    "                enqueue!(q, nxt)\n",
    "            end\n",
    "        end\n",
    "    end\n",
    "end"
   ]
  },
  {
   "cell_type": "code",
   "execution_count": 12,
   "metadata": {},
   "outputs": [
    {
     "data": {
      "text/plain": [
       "7334"
      ]
     },
     "execution_count": 12,
     "metadata": {},
     "output_type": "execute_result"
    }
   ],
   "source": [
    "part_two_ans = part_two(parsed_input)"
   ]
  },
  {
   "cell_type": "code",
   "execution_count": 13,
   "metadata": {},
   "outputs": [
    {
     "data": {
      "text/plain": [
       "\"<!DOCTYPE html>\\n<html lang=\\\"en-us\\\">\\n<head>\\n<meta charset=\\\"utf-8\\\"/>\\n<title>Day 20 - Advent of Code 2019</title>\\n<!--[if lt IE 9]><script src=\\\"/static/html5.js\\\"></script><![endif]-->\\n<link href='//fonts.googleapis.com/css?family=Source+Code+Pro:300&subset=latin,latin-ext'\" ⋯ 3322 bytes ⋯ \"Name(o)[0];a.async=1;a.src=g;m.parentNode.insertBefore(a,m)\\n})(window,document,'script','//www.google-analytics.com/analytics.js','ga');\\nga('create', 'UA-69522494-1', 'auto');\\nga('set', 'anonymizeIp', true);\\nga('send', 'pageview');\\n</script>\\n<!-- /ga -->\\n</body>\\n</html>\""
      ]
     },
     "execution_count": 13,
     "metadata": {},
     "output_type": "execute_result"
    }
   ],
   "source": [
    "submit_answer(year, day, part_two_ans, 2)"
   ]
  }
 ],
 "metadata": {
  "kernelspec": {
   "display_name": "Julia 1.8.0",
   "language": "julia",
   "name": "julia-1.8"
  },
  "language_info": {
   "file_extension": ".jl",
   "mimetype": "application/julia",
   "name": "julia",
   "version": "1.8.3"
  },
  "orig_nbformat": 4,
  "vscode": {
   "interpreter": {
    "hash": "2decbbcdbe1b404b08c0c2ae8935a58886fd60ea7dad56cfc87e2a14f377e9ba"
   }
  }
 },
 "nbformat": 4,
 "nbformat_minor": 2
}
