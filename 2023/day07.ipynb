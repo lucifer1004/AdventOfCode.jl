{
 "cells": [
  {
   "cell_type": "code",
   "execution_count": 1,
   "metadata": {},
   "outputs": [
    {
     "name": "stderr",
     "output_type": "stream",
     "text": [
      "\u001b[32m\u001b[1m  Activating\u001b[22m\u001b[39m project at `~/com.github/lucifer1004/AdventOfCode.jl`\n"
     ]
    }
   ],
   "source": [
    "import Pkg; Pkg.activate(\"..\")"
   ]
  },
  {
   "cell_type": "code",
   "execution_count": 2,
   "metadata": {},
   "outputs": [],
   "source": [
    "using AdventOfCode"
   ]
  },
  {
   "cell_type": "code",
   "execution_count": 3,
   "metadata": {},
   "outputs": [
    {
     "data": {
      "text/plain": [
       "7"
      ]
     },
     "execution_count": 3,
     "metadata": {},
     "output_type": "execute_result"
    }
   ],
   "source": [
    "year = 2023\n",
    "day = 7"
   ]
  },
  {
   "cell_type": "code",
   "execution_count": 4,
   "metadata": {},
   "outputs": [
    {
     "data": {
      "text/plain": [
       "\"AATKJ 840\\n27A83 251\\n6TT8T 113\\nQ6T6T 693\\n99K89 553\\n777Q7 136\\n7227J 782\\nTJ2J9 837\\n55578 524\\n24Q49 919\\nAAA2A 709\\nKT972 907\\n85282 886\\n4432J 255\\nK6K27 119\\nJ9Q77 820\\n33K3K 48\\nT8887 500\\n28272 77\\n38Q46 287\\nKQQAQ 481\\n5T2T3 280\\nKQQQQ 458\\nK82Q3 712\\nQ5552 758\\n4K87K 174\\n7QQJQ 331\\n29\"\u001b[93m\u001b[1m ⋯ 9352 bytes ⋯ \u001b[22m\u001b[39m\"08\\n9A292 520\\nT7TTK 527\\n44888 209\\nQT6Q3 848\\n2JQ22 354\\n73TT3 588\\n6KT83 507\\nAA8AA 519\\nQK4QK 558\\n9KA97 390\\n6K2KK 526\\n47KJ2 590\\n666QQ 253\\n4AQ8J 88\\nAJA82 445\\n68AAA 652\\n6A42K 64\\nK2225 237\\n6544K 334\\n3685A 178\\n44324 797\\nQ27K6 687\\nTTT42 614\\n99595 384\\n74474 412\\nJ5745 293\\nQ4444 864\""
      ]
     },
     "execution_count": 4,
     "metadata": {},
     "output_type": "execute_result"
    }
   ],
   "source": [
    "input = get_input(year, day)"
   ]
  },
  {
   "cell_type": "code",
   "execution_count": 5,
   "metadata": {},
   "outputs": [
    {
     "data": {
      "text/plain": [
       "1000-element Vector{String}:\n",
       " \"AATKJ 840\"\n",
       " \"27A83 251\"\n",
       " \"6TT8T 113\"\n",
       " \"Q6T6T 693\"\n",
       " \"99K89 553\"\n",
       " \"777Q7 136\"\n",
       " \"7227J 782\"\n",
       " \"TJ2J9 837\"\n",
       " \"55578 524\"\n",
       " \"24Q49 919\"\n",
       " \"AAA2A 709\"\n",
       " \"KT972 907\"\n",
       " \"85282 886\"\n",
       " ⋮\n",
       " \"68AAA 652\"\n",
       " \"6A42K 64\"\n",
       " \"K2225 237\"\n",
       " \"6544K 334\"\n",
       " \"3685A 178\"\n",
       " \"44324 797\"\n",
       " \"Q27K6 687\"\n",
       " \"TTT42 614\"\n",
       " \"99595 384\"\n",
       " \"74474 412\"\n",
       " \"J5745 293\"\n",
       " \"Q4444 864\""
      ]
     },
     "execution_count": 5,
     "metadata": {},
     "output_type": "execute_result"
    }
   ],
   "source": [
    "parsed_input = parse_input(input)"
   ]
  },
  {
   "cell_type": "code",
   "execution_count": 6,
   "metadata": {},
   "outputs": [
    {
     "data": {
      "text/plain": [
       "\"32T3K 765\\nT55J5 684\\nKK677 28\\nKTJJT 220\\nQQQJA 483\""
      ]
     },
     "execution_count": 6,
     "metadata": {},
     "output_type": "execute_result"
    }
   ],
   "source": [
    "sample = \"\"\"32T3K 765\n",
    "T55J5 684\n",
    "KK677 28\n",
    "KTJJT 220\n",
    "QQQJA 483\"\"\""
   ]
  },
  {
   "cell_type": "code",
   "execution_count": 7,
   "metadata": {},
   "outputs": [
    {
     "data": {
      "text/plain": [
       "5-element Vector{String}:\n",
       " \"32T3K 765\"\n",
       " \"T55J5 684\"\n",
       " \"KK677 28\"\n",
       " \"KTJJT 220\"\n",
       " \"QQQJA 483\""
      ]
     },
     "execution_count": 7,
     "metadata": {},
     "output_type": "execute_result"
    }
   ],
   "source": [
    "parsed_sample = parse_input(sample)"
   ]
  },
  {
   "cell_type": "code",
   "execution_count": 8,
   "metadata": {},
   "outputs": [],
   "source": [
    "ORDER = Dict(\n",
    "    'A' => 14,\n",
    "    'K' => 13,\n",
    "    'Q' => 12,\n",
    "    'J' => 11,\n",
    "    'T' => 10,\n",
    "    [string(i)[1] => i for i in 2:9]...\n",
    ")\n",
    "\n",
    "ORDER_J = Dict(ORDER..., 'J' => 0);"
   ]
  },
  {
   "cell_type": "code",
   "execution_count": 9,
   "metadata": {},
   "outputs": [
    {
     "data": {
      "text/plain": [
       "Hand"
      ]
     },
     "execution_count": 9,
     "metadata": {},
     "output_type": "execute_result"
    }
   ],
   "source": [
    "struct Hand\n",
    "    type::String\n",
    "    values::NTuple{5, Int}\n",
    "    bid::Int\n",
    "end\n",
    "\n",
    "function Base.isless(h1::Hand, h2::Hand)\n",
    "    h1.type < h2.type ||\n",
    "    h1.type == h2.type && h1.values < h2.values\n",
    "end\n",
    "\n",
    "function Hand(line::AbstractString, dict::AbstractDict = ORDER, J_is_special::Bool = false)\n",
    "    cards, bid = split(line)\n",
    "    bid = parse(Int, bid)\n",
    "    nums = Tuple(dict[c] for c in cards)\n",
    "\n",
    "    cnt = Dict()\n",
    "    j = 0\n",
    "    for c in cards\n",
    "        if c == 'J' && J_is_special\n",
    "            j += 1\n",
    "        else\n",
    "            cnt[c] = get(cnt, c, 0) + 1\n",
    "        end\n",
    "    end\n",
    "\n",
    "    vals = values(cnt) |> collect\n",
    "    sort!(vals, rev=true)\n",
    "    if vals == []\n",
    "        vals = [j]\n",
    "    elseif J_is_special\n",
    "        vals[1] += j\n",
    "    end\n",
    "    s = join(vals, \"\")\n",
    "\n",
    "    Hand(s, nums, bid)\n",
    "end"
   ]
  },
  {
   "cell_type": "code",
   "execution_count": 10,
   "metadata": {},
   "outputs": [
    {
     "data": {
      "text/plain": [
       "part_one (generic function with 1 method)"
      ]
     },
     "execution_count": 10,
     "metadata": {},
     "output_type": "execute_result"
    }
   ],
   "source": [
    "function part_one(input)\n",
    "    hands = Hand.(input)\n",
    "    sort!(hands)\n",
    "    sum(i * h.bid for (i, h) in enumerate(hands))\n",
    "end"
   ]
  },
  {
   "cell_type": "code",
   "execution_count": 11,
   "metadata": {},
   "outputs": [
    {
     "data": {
      "text/plain": [
       "6440"
      ]
     },
     "execution_count": 11,
     "metadata": {},
     "output_type": "execute_result"
    }
   ],
   "source": [
    "part_one(parsed_sample)"
   ]
  },
  {
   "cell_type": "code",
   "execution_count": 12,
   "metadata": {},
   "outputs": [
    {
     "data": {
      "text/plain": [
       "250347426"
      ]
     },
     "execution_count": 12,
     "metadata": {},
     "output_type": "execute_result"
    }
   ],
   "source": [
    "part_one_ans = part_one(parsed_input)"
   ]
  },
  {
   "cell_type": "code",
   "execution_count": 13,
   "metadata": {},
   "outputs": [
    {
     "data": {
      "text/plain": [
       "\"<!DOCTYPE html>\\n<html lang=\\\"en-us\\\">\\n<head>\\n<meta charset=\\\"utf-8\\\"/>\\n<title>Day 7 - Advent of Code 2023</title>\\n<link rel=\\\"stylesheet\\\" type=\\\"text/css\\\" href=\\\"/static/style.css?31\\\"/>\\n<link rel=\\\"stylesheet alternate\\\" type=\\\"text/css\\\" href=\\\"/static/highcontrast.css?1\\\" title=\\\"H\"\u001b[93m\u001b[1m ⋯ 3120 bytes ⋯ \u001b[22m\u001b[39m\"Name(o)[0];a.async=1;a.src=g;m.parentNode.insertBefore(a,m)\\n})(window,document,'script','//www.google-analytics.com/analytics.js','ga');\\nga('create', 'UA-69522494-1', 'auto');\\nga('set', 'anonymizeIp', true);\\nga('send', 'pageview');\\n</script>\\n<!-- /ga -->\\n</body>\\n</html>\""
      ]
     },
     "execution_count": 13,
     "metadata": {},
     "output_type": "execute_result"
    }
   ],
   "source": [
    "submit_answer(year, day, part_one_ans)"
   ]
  },
  {
   "cell_type": "code",
   "execution_count": 14,
   "metadata": {},
   "outputs": [
    {
     "data": {
      "text/plain": [
       "part_two (generic function with 1 method)"
      ]
     },
     "execution_count": 14,
     "metadata": {},
     "output_type": "execute_result"
    }
   ],
   "source": [
    "function part_two(input)\n",
    "    hands = Hand.(input, (ORDER_J,), true)\n",
    "    sort!(hands)\n",
    "    sum(i * h.bid for (i, h) in enumerate(hands))\n",
    "end"
   ]
  },
  {
   "cell_type": "code",
   "execution_count": 15,
   "metadata": {},
   "outputs": [
    {
     "data": {
      "text/plain": [
       "5905"
      ]
     },
     "execution_count": 15,
     "metadata": {},
     "output_type": "execute_result"
    }
   ],
   "source": [
    "part_two(parsed_sample)"
   ]
  },
  {
   "cell_type": "code",
   "execution_count": 16,
   "metadata": {},
   "outputs": [
    {
     "data": {
      "text/plain": [
       "251224870"
      ]
     },
     "execution_count": 16,
     "metadata": {},
     "output_type": "execute_result"
    }
   ],
   "source": [
    "part_two_ans = part_two(parsed_input)"
   ]
  },
  {
   "cell_type": "code",
   "execution_count": 17,
   "metadata": {},
   "outputs": [
    {
     "data": {
      "text/plain": [
       "\"<!DOCTYPE html>\\n<html lang=\\\"en-us\\\">\\n<head>\\n<meta charset=\\\"utf-8\\\"/>\\n<title>Day 7 - Advent of Code 2023</title>\\n<link rel=\\\"stylesheet\\\" type=\\\"text/css\\\" href=\\\"/static/style.css?31\\\"/>\\n<link rel=\\\"stylesheet alternate\\\" type=\\\"text/css\\\" href=\\\"/static/highcontrast.css?1\\\" title=\\\"H\"\u001b[93m\u001b[1m ⋯ 3144 bytes ⋯ \u001b[22m\u001b[39m\"Name(o)[0];a.async=1;a.src=g;m.parentNode.insertBefore(a,m)\\n})(window,document,'script','//www.google-analytics.com/analytics.js','ga');\\nga('create', 'UA-69522494-1', 'auto');\\nga('set', 'anonymizeIp', true);\\nga('send', 'pageview');\\n</script>\\n<!-- /ga -->\\n</body>\\n</html>\""
      ]
     },
     "execution_count": 17,
     "metadata": {},
     "output_type": "execute_result"
    }
   ],
   "source": [
    "submit_answer(year, day, part_two_ans, 2)"
   ]
  }
 ],
 "metadata": {
  "kernelspec": {
   "display_name": "julia 1.10.0-rc1",
   "language": "julia",
   "name": "julia-1.10"
  },
  "language_info": {
   "file_extension": ".jl",
   "mimetype": "application/julia",
   "name": "julia",
   "version": "1.10.0"
  },
  "orig_nbformat": 4,
  "vscode": {
   "interpreter": {
    "hash": "2decbbcdbe1b404b08c0c2ae8935a58886fd60ea7dad56cfc87e2a14f377e9ba"
   }
  }
 },
 "nbformat": 4,
 "nbformat_minor": 2
}
