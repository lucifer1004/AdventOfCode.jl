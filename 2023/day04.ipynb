{
 "cells": [
  {
   "cell_type": "code",
   "execution_count": 1,
   "metadata": {},
   "outputs": [
    {
     "name": "stderr",
     "output_type": "stream",
     "text": [
      "\u001b[32m\u001b[1m  Activating\u001b[22m\u001b[39m project at `~/com.github/lucifer1004/AdventOfCode.jl`\n"
     ]
    }
   ],
   "source": [
    "import Pkg; Pkg.activate(\"..\")"
   ]
  },
  {
   "cell_type": "code",
   "execution_count": 2,
   "metadata": {},
   "outputs": [],
   "source": [
    "using AdventOfCode, JSON3, LinearAlgebra, Combinatorics, DataStructures, Graphs, GraphPlot, IterTools, Mods, MLStyle, Pipe"
   ]
  },
  {
   "cell_type": "code",
   "execution_count": 3,
   "metadata": {},
   "outputs": [
    {
     "data": {
      "text/plain": [
       "4"
      ]
     },
     "execution_count": 3,
     "metadata": {},
     "output_type": "execute_result"
    }
   ],
   "source": [
    "year = 2023\n",
    "day = 4"
   ]
  },
  {
   "cell_type": "code",
   "execution_count": 4,
   "metadata": {},
   "outputs": [
    {
     "data": {
      "text/plain": [
       "\"Card   1: 74  8  2 86 40 25 93 17 61 32 | 65 25 73 55 75 94 54 99 53 17 89  4 44 13 15 32 57 92  8 21 74 64  5 87 24\\nCard   2:  8 18 79 59 71 84 72 23 96 74 | 22 83 74 78 72 30  8 59  6 23  7 71 31 84 18 96 21 36 51 67 80 79 60 28 42\\nCard   3: 63 27 56 19 85 86 40 78 67\"\u001b[93m\u001b[1m ⋯ 23094 bytes ⋯ \u001b[22m\u001b[39m\"25 79 89 52  4 44 59 26 72 90 83  9\\nCard 201: 28 44 46 58 13 92 35 16 30 14 | 32 79 85 98 67 55 21 41 93 43 19 72 35 24 90 64 88 82 84 20 45 91 81 38 49\\nCard 202: 85 43 47 11  9 21 27 53 17 95 | 10  6 26 91 30 69 52 20 28 16 82 45 72 54 58 96 88 99 38 55 78 98 15 70  4\""
      ]
     },
     "execution_count": 4,
     "metadata": {},
     "output_type": "execute_result"
    }
   ],
   "source": [
    "input = get_input(year, day)"
   ]
  },
  {
   "cell_type": "code",
   "execution_count": 5,
   "metadata": {},
   "outputs": [
    {
     "data": {
      "text/plain": [
       "202-element Vector{String}:\n",
       " \"Card   1: 74  8  2 86 40 25 93 \"\u001b[93m\u001b[1m ⋯ 54 bytes ⋯ \u001b[22m\u001b[39m\"5 32 57 92  8 21 74 64  5 87 24\"\n",
       " \"Card   2:  8 18 79 59 71 84 72 \"\u001b[93m\u001b[1m ⋯ 54 bytes ⋯ \u001b[22m\u001b[39m\"8 96 21 36 51 67 80 79 60 28 42\"\n",
       " \"Card   3: 63 27 56 19 85 86 40 \"\u001b[93m\u001b[1m ⋯ 54 bytes ⋯ \u001b[22m\u001b[39m\"9 36  4 82 98 54 23 21 63 86 51\"\n",
       " \"Card   4:  2 95 87 25 13 12  9 \"\u001b[93m\u001b[1m ⋯ 54 bytes ⋯ \u001b[22m\u001b[39m\"3 94 29 67 12 51  9 16 19 76  8\"\n",
       " \"Card   5: 70 92 50 61 43 16 53 \"\u001b[93m\u001b[1m ⋯ 54 bytes ⋯ \u001b[22m\u001b[39m\"8 60 96 35 88 26 51 54 59 74 80\"\n",
       " \"Card   6: 34 86 44 60 10  4 89 \"\u001b[93m\u001b[1m ⋯ 54 bytes ⋯ \u001b[22m\u001b[39m\"4 69 34 21 76 72  9  6 52 48 61\"\n",
       " \"Card   7: 99 36 57 20 46 38 26 \"\u001b[93m\u001b[1m ⋯ 54 bytes ⋯ \u001b[22m\u001b[39m\"6 21 81 31 72 62 13 10 57 54  4\"\n",
       " \"Card   8: 19 95 24 99 44 36 58 \"\u001b[93m\u001b[1m ⋯ 54 bytes ⋯ \u001b[22m\u001b[39m\"0 71 65 59 91 72 34 74 84 29 22\"\n",
       " \"Card   9: 87 77 90 73  7 27 48 \"\u001b[93m\u001b[1m ⋯ 54 bytes ⋯ \u001b[22m\u001b[39m\"2 65 84 75 83 41 91 89 55 42 48\"\n",
       " \"Card  10:  6 89 13 82 16 54 27 \"\u001b[93m\u001b[1m ⋯ 54 bytes ⋯ \u001b[22m\u001b[39m\"3  2 23 11 63 24 78 29 13 16 82\"\n",
       " \"Card  11: 27 50  4 17 31 70 18 \"\u001b[93m\u001b[1m ⋯ 54 bytes ⋯ \u001b[22m\u001b[39m\"8 72 16 62  4 52 75 39  2 82 74\"\n",
       " \"Card  12: 27 68 79 78 21 56 53 \"\u001b[93m\u001b[1m ⋯ 54 bytes ⋯ \u001b[22m\u001b[39m\"4 37 62 41 10 66 26 75 93 18 84\"\n",
       " \"Card  13:  1 75 85 51 47 45 93 \"\u001b[93m\u001b[1m ⋯ 54 bytes ⋯ \u001b[22m\u001b[39m\"0 33 20 56 44 59 18 24 28 40 41\"\n",
       " ⋮\n",
       " \"Card 191: 18 70 33 56 72 68 98 \"\u001b[93m\u001b[1m ⋯ 54 bytes ⋯ \u001b[22m\u001b[39m\"3  2 76  7 44 56 68 97 83 70 98\"\n",
       " \"Card 192: 33 34 57 40 93 14 12 \"\u001b[93m\u001b[1m ⋯ 54 bytes ⋯ \u001b[22m\u001b[39m\"1 80 23 34 79 57 24 18 71 53  5\"\n",
       " \"Card 193: 87 90 72 76 10 83 41 \"\u001b[93m\u001b[1m ⋯ 54 bytes ⋯ \u001b[22m\u001b[39m\"9 40 44 11 35  3 78 54 17 46 60\"\n",
       " \"Card 194:  5 10 25 27  6 45 67 \"\u001b[93m\u001b[1m ⋯ 54 bytes ⋯ \u001b[22m\u001b[39m\"4 47 95 86 45 56 31 25 67 15 17\"\n",
       " \"Card 195: 31 33 64 80 68 21 20 \"\u001b[93m\u001b[1m ⋯ 54 bytes ⋯ \u001b[22m\u001b[39m\"7 52 31 20 70 45 17  4 60 77 68\"\n",
       " \"Card 196: 73 91 78 83 14 54 94 \"\u001b[93m\u001b[1m ⋯ 54 bytes ⋯ \u001b[22m\u001b[39m\"9 65 41 25 60 11 93 53 99  4 87\"\n",
       " \"Card 197: 63 64 25 48 91 95 77 \"\u001b[93m\u001b[1m ⋯ 54 bytes ⋯ \u001b[22m\u001b[39m\"5 87 86 60 45 88 33 61 90 32 85\"\n",
       " \"Card 198: 70 60 61 56 16 81 18 \"\u001b[93m\u001b[1m ⋯ 54 bytes ⋯ \u001b[22m\u001b[39m\"9 85 29 40 92 87 54 24 76 48 33\"\n",
       " \"Card 199: 29 26 70 45 22 86 27 \"\u001b[93m\u001b[1m ⋯ 54 bytes ⋯ \u001b[22m\u001b[39m\"7 41 58 33  1 85 48 98  4 14 53\"\n",
       " \"Card 200:  3 88 81 61 64 39 54 \"\u001b[93m\u001b[1m ⋯ 54 bytes ⋯ \u001b[22m\u001b[39m\"9 89 52  4 44 59 26 72 90 83  9\"\n",
       " \"Card 201: 28 44 46 58 13 92 35 \"\u001b[93m\u001b[1m ⋯ 54 bytes ⋯ \u001b[22m\u001b[39m\"0 64 88 82 84 20 45 91 81 38 49\"\n",
       " \"Card 202: 85 43 47 11  9 21 27 \"\u001b[93m\u001b[1m ⋯ 54 bytes ⋯ \u001b[22m\u001b[39m\"8 96 88 99 38 55 78 98 15 70  4\""
      ]
     },
     "execution_count": 5,
     "metadata": {},
     "output_type": "execute_result"
    }
   ],
   "source": [
    "parsed_input = parse_input(input)"
   ]
  },
  {
   "cell_type": "code",
   "execution_count": 6,
   "metadata": {},
   "outputs": [
    {
     "data": {
      "text/plain": [
       "\"Card 1: 41 48 83 86 17 | 83 86  6 31 17  9 48 53\\nCard 2: 13 32 20 16 61 | 61 30 68 82 17 32 24 19\\nCard 3:  1 21 53 59 44 | 69 82 63 72 16 21 14  1\\nCard 4: 41 92 73 84 69 | 59 84 76 51 58  5 54 83\\nCard 5: 87 83 26 28 32 | 88 30 70 12 93 22 82 36\\nCard 6: 31 18 13 56 72 | 74 77 10 23 35 67 36 11\""
      ]
     },
     "execution_count": 6,
     "metadata": {},
     "output_type": "execute_result"
    }
   ],
   "source": [
    "sample = raw\"\"\"Card 1: 41 48 83 86 17 | 83 86  6 31 17  9 48 53\n",
    "Card 2: 13 32 20 16 61 | 61 30 68 82 17 32 24 19\n",
    "Card 3:  1 21 53 59 44 | 69 82 63 72 16 21 14  1\n",
    "Card 4: 41 92 73 84 69 | 59 84 76 51 58  5 54 83\n",
    "Card 5: 87 83 26 28 32 | 88 30 70 12 93 22 82 36\n",
    "Card 6: 31 18 13 56 72 | 74 77 10 23 35 67 36 11\"\"\""
   ]
  },
  {
   "cell_type": "code",
   "execution_count": 7,
   "metadata": {},
   "outputs": [
    {
     "data": {
      "text/plain": [
       "6-element Vector{String}:\n",
       " \"Card 1: 41 48 83 86 17 | 83 86  6 31 17  9 48 53\"\n",
       " \"Card 2: 13 32 20 16 61 | 61 30 68 82 17 32 24 19\"\n",
       " \"Card 3:  1 21 53 59 44 | 69 82 63 72 16 21 14  1\"\n",
       " \"Card 4: 41 92 73 84 69 | 59 84 76 51 58  5 54 83\"\n",
       " \"Card 5: 87 83 26 28 32 | 88 30 70 12 93 22 82 36\"\n",
       " \"Card 6: 31 18 13 56 72 | 74 77 10 23 35 67 36 11\""
      ]
     },
     "execution_count": 7,
     "metadata": {},
     "output_type": "execute_result"
    }
   ],
   "source": [
    "parsed_sample = parse_input(sample)"
   ]
  },
  {
   "cell_type": "code",
   "execution_count": 8,
   "metadata": {},
   "outputs": [
    {
     "data": {
      "text/plain": [
       "solve (generic function with 1 method)"
      ]
     },
     "execution_count": 8,
     "metadata": {},
     "output_type": "execute_result"
    }
   ],
   "source": [
    "function solve(input)\n",
    "    numbers = split(input, r\": \")[2]\n",
    "    left, right = split(numbers, \" | \")\n",
    "    lnum = parse.(Int, split(left))\n",
    "    rnum = parse.(Int, split(right))\n",
    "    lst = Set(lnum)\n",
    "    rst = Set(rnum)\n",
    "    intersect = lst ∩ rst\n",
    "    length(intersect)\n",
    "end"
   ]
  },
  {
   "cell_type": "code",
   "execution_count": 9,
   "metadata": {},
   "outputs": [
    {
     "data": {
      "text/plain": [
       "4"
      ]
     },
     "execution_count": 9,
     "metadata": {},
     "output_type": "execute_result"
    }
   ],
   "source": [
    "solve(parsed_sample[1])"
   ]
  },
  {
   "cell_type": "code",
   "execution_count": 10,
   "metadata": {},
   "outputs": [
    {
     "data": {
      "text/plain": [
       "part_one (generic function with 1 method)"
      ]
     },
     "execution_count": 10,
     "metadata": {},
     "output_type": "execute_result"
    }
   ],
   "source": [
    "function part_one(input)\n",
    "    sum(map(x -> 1 << (x - 1), solve.(input)))\n",
    "end"
   ]
  },
  {
   "cell_type": "code",
   "execution_count": 11,
   "metadata": {},
   "outputs": [
    {
     "data": {
      "text/plain": [
       "13"
      ]
     },
     "execution_count": 11,
     "metadata": {},
     "output_type": "execute_result"
    }
   ],
   "source": [
    "part_one(parsed_sample)"
   ]
  },
  {
   "cell_type": "code",
   "execution_count": 12,
   "metadata": {},
   "outputs": [
    {
     "data": {
      "text/plain": [
       "18619"
      ]
     },
     "execution_count": 12,
     "metadata": {},
     "output_type": "execute_result"
    }
   ],
   "source": [
    "part_one_ans = part_one(parsed_input)"
   ]
  },
  {
   "cell_type": "code",
   "execution_count": 13,
   "metadata": {},
   "outputs": [
    {
     "data": {
      "text/plain": [
       "\"<!DOCTYPE html>\\n<html lang=\\\"en-us\\\">\\n<head>\\n<meta charset=\\\"utf-8\\\"/>\\n<title>Day 4 - Advent of Code 2023</title>\\n<link rel=\\\"stylesheet\\\" type=\\\"text/css\\\" href=\\\"/static/style.css?31\\\"/>\\n<link rel=\\\"stylesheet alternate\\\" type=\\\"text/css\\\" href=\\\"/static/highcontrast.css?1\\\" title=\\\"H\"\u001b[93m\u001b[1m ⋯ 3249 bytes ⋯ \u001b[22m\u001b[39m\"Name(o)[0];a.async=1;a.src=g;m.parentNode.insertBefore(a,m)\\n})(window,document,'script','//www.google-analytics.com/analytics.js','ga');\\nga('create', 'UA-69522494-1', 'auto');\\nga('set', 'anonymizeIp', true);\\nga('send', 'pageview');\\n</script>\\n<!-- /ga -->\\n</body>\\n</html>\""
      ]
     },
     "execution_count": 13,
     "metadata": {},
     "output_type": "execute_result"
    }
   ],
   "source": [
    "submit_answer(year, day, part_one_ans)"
   ]
  },
  {
   "cell_type": "code",
   "execution_count": 14,
   "metadata": {},
   "outputs": [
    {
     "data": {
      "text/plain": [
       "part_two (generic function with 1 method)"
      ]
     },
     "execution_count": 14,
     "metadata": {},
     "output_type": "execute_result"
    }
   ],
   "source": [
    "function part_two(input)\n",
    "    n = length(input)\n",
    "    copies = fill(1, n)\n",
    "    for (i, line) in enumerate(input)\n",
    "        intersect = solve(line)\n",
    "        for j in i+1:min(n, i+intersect)\n",
    "            copies[j] += copies[i]\n",
    "        end\n",
    "    end\n",
    "    sum(copies)\n",
    "end"
   ]
  },
  {
   "cell_type": "code",
   "execution_count": 15,
   "metadata": {},
   "outputs": [
    {
     "data": {
      "text/plain": [
       "30"
      ]
     },
     "execution_count": 15,
     "metadata": {},
     "output_type": "execute_result"
    }
   ],
   "source": [
    "part_two(parsed_sample)"
   ]
  },
  {
   "cell_type": "code",
   "execution_count": 16,
   "metadata": {},
   "outputs": [
    {
     "data": {
      "text/plain": [
       "8063216"
      ]
     },
     "execution_count": 16,
     "metadata": {},
     "output_type": "execute_result"
    }
   ],
   "source": [
    "part_two_ans = part_two(parsed_input)"
   ]
  },
  {
   "cell_type": "code",
   "execution_count": 17,
   "metadata": {},
   "outputs": [
    {
     "data": {
      "text/plain": [
       "\"<!DOCTYPE html>\\n<html lang=\\\"en-us\\\">\\n<head>\\n<meta charset=\\\"utf-8\\\"/>\\n<title>Day 4 - Advent of Code 2023</title>\\n<link rel=\\\"stylesheet\\\" type=\\\"text/css\\\" href=\\\"/static/style.css?31\\\"/>\\n<link rel=\\\"stylesheet alternate\\\" type=\\\"text/css\\\" href=\\\"/static/highcontrast.css?1\\\" title=\\\"H\"\u001b[93m\u001b[1m ⋯ 3216 bytes ⋯ \u001b[22m\u001b[39m\"Name(o)[0];a.async=1;a.src=g;m.parentNode.insertBefore(a,m)\\n})(window,document,'script','//www.google-analytics.com/analytics.js','ga');\\nga('create', 'UA-69522494-1', 'auto');\\nga('set', 'anonymizeIp', true);\\nga('send', 'pageview');\\n</script>\\n<!-- /ga -->\\n</body>\\n</html>\""
      ]
     },
     "execution_count": 17,
     "metadata": {},
     "output_type": "execute_result"
    }
   ],
   "source": [
    "submit_answer(year, day, part_two_ans, 2)"
   ]
  }
 ],
 "metadata": {
  "kernelspec": {
   "display_name": "julia 1.10.0-rc1",
   "language": "julia",
   "name": "julia-1.10"
  },
  "language_info": {
   "file_extension": ".jl",
   "mimetype": "application/julia",
   "name": "julia",
   "version": "1.10.0"
  },
  "vscode": {
   "interpreter": {
    "hash": "2decbbcdbe1b404b08c0c2ae8935a58886fd60ea7dad56cfc87e2a14f377e9ba"
   }
  }
 },
 "nbformat": 4,
 "nbformat_minor": 4
}
