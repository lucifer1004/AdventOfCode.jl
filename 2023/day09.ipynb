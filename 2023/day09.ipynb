{
 "cells": [
  {
   "cell_type": "code",
   "execution_count": 1,
   "metadata": {},
   "outputs": [
    {
     "name": "stderr",
     "output_type": "stream",
     "text": [
      "\u001b[32m\u001b[1m  Activating\u001b[22m\u001b[39m project at `~/com.github/lucifer1004/AdventOfCode.jl`\n"
     ]
    }
   ],
   "source": [
    "import Pkg; Pkg.activate(\"..\")"
   ]
  },
  {
   "cell_type": "code",
   "execution_count": 2,
   "metadata": {},
   "outputs": [],
   "source": [
    "using AdventOfCode"
   ]
  },
  {
   "cell_type": "code",
   "execution_count": 3,
   "metadata": {},
   "outputs": [
    {
     "data": {
      "text/plain": [
       "9"
      ]
     },
     "execution_count": 3,
     "metadata": {},
     "output_type": "execute_result"
    }
   ],
   "source": [
    "year = 2023\n",
    "day = 9"
   ]
  },
  {
   "cell_type": "code",
   "execution_count": 4,
   "metadata": {},
   "outputs": [
    {
     "data": {
      "text/plain": [
       "\"0 7 18 31 55 131 378 1093 2953 7398 17321 38257 80352 161507 312219 582730 1053014 1845605 3139788 5182383 8283893\\n15 27 57 121 247 494 997 2057 4308 9015 18584 37400 73185 139294 259011 474529 866940 1600988 3022302 5859292 11622118\\n23 37 70 142 281 521 891 1405 2093 3\"\u001b[93m\u001b[1m ⋯ 20828 bytes ⋯ \u001b[22m\u001b[39m\"55 594328 1187117 2335500 4533656 8745983\\n0 6 25 68 164 384 882 1965 4221 8772 17786 35486 70043 136942 264673 503931 941918 1723834 3084231 5391592 9210294\\n-1 11 49 120 225 362 546 863 1575 3289 7198 15402 31331 60332 110563 194477 331399 552023 906111 1475292 2393669\""
      ]
     },
     "execution_count": 4,
     "metadata": {},
     "output_type": "execute_result"
    }
   ],
   "source": [
    "input = get_input(year, day)"
   ]
  },
  {
   "cell_type": "code",
   "execution_count": 5,
   "metadata": {},
   "outputs": [
    {
     "data": {
      "text/plain": [
       "200-element Vector{String}:\n",
       " \"0 7 18 31 55 131 378 1093 2953 \"\u001b[93m\u001b[1m ⋯ 52 bytes ⋯ \u001b[22m\u001b[39m\"1845605 3139788 5182383 8283893\"\n",
       " \"15 27 57 121 247 494 997 2057 4\"\u001b[93m\u001b[1m ⋯ 56 bytes ⋯ \u001b[22m\u001b[39m\"600988 3022302 5859292 11622118\"\n",
       " \"23 37 70 142 281 521 891 1405 2\"\u001b[93m\u001b[1m ⋯ 54 bytes ⋯ \u001b[22m\u001b[39m\"607747 3208430 6191572 11602387\"\n",
       " \"10 26 43 61 80 100 121 143 166 190 215 241 268 296 325 355 386 418 451 485 520\"\n",
       " \"25 50 95 171 295 490 783 1201 1\"\u001b[93m\u001b[1m ⋯ 36 bytes ⋯ \u001b[22m\u001b[39m\"85 3889 178 -6257 -16429 -31585\"\n",
       " \"27 38 57 98 180 337 634 1203 23\"\u001b[93m\u001b[1m ⋯ 52 bytes ⋯ \u001b[22m\u001b[39m\"1272256 2250923 3865976 6461254\"\n",
       " \"19 27 38 55 95 203 473 1080 232\"\u001b[93m\u001b[1m ⋯ 52 bytes ⋯ \u001b[22m\u001b[39m\"208648 2566648 5426856 11370615\"\n",
       " \"12 13 16 21 32 71 217 696 2069 \"\u001b[93m\u001b[1m ⋯ 53 bytes ⋯ \u001b[22m\u001b[39m\"054955 3685766 6458435 11073498\"\n",
       " \"9 4 1 20 94 275 657 1438 3051 6\"\u001b[93m\u001b[1m ⋯ 48 bytes ⋯ \u001b[22m\u001b[39m\" 779884 1201343 1772880 2480796\"\n",
       " \"4 14 29 51 85 134 187 210 166 1\"\u001b[93m\u001b[1m ⋯ 46 bytes ⋯ \u001b[22m\u001b[39m\"344325 2778523 5546750 10792071\"\n",
       " \"3 22 54 103 193 384 795 1639 32\"\u001b[93m\u001b[1m ⋯ 49 bytes ⋯ \u001b[22m\u001b[39m\"51 335294 492954 711895 1011297\"\n",
       " \"11 21 32 49 83 154 294 550 987 \"\u001b[93m\u001b[1m ⋯ 35 bytes ⋯ \u001b[22m\u001b[39m\"0 27115 36561 48488 63357 81683\"\n",
       " \"9 22 41 84 194 461 1058 2308 48\"\u001b[93m\u001b[1m ⋯ 54 bytes ⋯ \u001b[22m\u001b[39m\"1340000 2253491 3707384 5972558\"\n",
       " ⋮\n",
       " \"-4 5 23 62 155 378 896 2049 449\"\u001b[93m\u001b[1m ⋯ 53 bytes ⋯ \u001b[22m\u001b[39m\"1286870 2437869 4740610 9399742\"\n",
       " \"11 37 80 146 251 428 734 1257 2\"\u001b[93m\u001b[1m ⋯ 43 bytes ⋯ \u001b[22m\u001b[39m\"54603 73961 98552 129382 167579\"\n",
       " \"11 16 27 51 93 168 326 699 1580\"\u001b[93m\u001b[1m ⋯ 45 bytes ⋯ \u001b[22m\u001b[39m\"241 313848 431833 559599 673319\"\n",
       " \"11 32 67 117 181 256 337 417 48\"\u001b[93m\u001b[1m ⋯ 29 bytes ⋯ \u001b[22m\u001b[39m\"9 -1053 -1808 -2773 -3979 -5459\"\n",
       " \"20 37 75 143 251 410 637 972 15\"\u001b[93m\u001b[1m ⋯ 45 bytes ⋯ \u001b[22m\u001b[39m\"792 209681 329531 504907 755895\"\n",
       " \"11 20 41 77 137 247 475 977 206\"\u001b[93m\u001b[1m ⋯ 50 bytes ⋯ \u001b[22m\u001b[39m\" 895044 1775007 3450259 6539535\"\n",
       " \"-10 -5 16 73 210 515 1151 2402 \"\u001b[93m\u001b[1m ⋯ 56 bytes ⋯ \u001b[22m\u001b[39m\"326687 2622432 5222501 10431052\"\n",
       " \"4 13 19 18 6 -21 -67 -136 -232 \"\u001b[93m\u001b[1m ⋯ 36 bytes ⋯ \u001b[22m\u001b[39m\"6 -2452 -2971 -3557 -4214 -4946\"\n",
       " \"16 22 32 43 47 25 -58 -250 -583\"\u001b[93m\u001b[1m ⋯ 46 bytes ⋯ \u001b[22m\u001b[39m\" 763622 1772714 4080627 9254333\"\n",
       " \"9 17 31 56 108 238 563 1300 280\"\u001b[93m\u001b[1m ⋯ 52 bytes ⋯ \u001b[22m\u001b[39m\"1187117 2335500 4533656 8745983\"\n",
       " \"0 6 25 68 164 384 882 1965 4221\"\u001b[93m\u001b[1m ⋯ 52 bytes ⋯ \u001b[22m\u001b[39m\"1723834 3084231 5391592 9210294\"\n",
       " \"-1 11 49 120 225 362 546 863 15\"\u001b[93m\u001b[1m ⋯ 50 bytes ⋯ \u001b[22m\u001b[39m\"9 552023 906111 1475292 2393669\""
      ]
     },
     "execution_count": 5,
     "metadata": {},
     "output_type": "execute_result"
    }
   ],
   "source": [
    "parsed_input = parse_input(input)"
   ]
  },
  {
   "cell_type": "code",
   "execution_count": 6,
   "metadata": {},
   "outputs": [
    {
     "data": {
      "text/plain": [
       "\"0 3 6 9 12 15\\n1 3 6 10 15 21\\n10 13 16 21 30 45\""
      ]
     },
     "execution_count": 6,
     "metadata": {},
     "output_type": "execute_result"
    }
   ],
   "source": [
    "sample = \"\"\"0 3 6 9 12 15\n",
    "1 3 6 10 15 21\n",
    "10 13 16 21 30 45\"\"\""
   ]
  },
  {
   "cell_type": "code",
   "execution_count": 7,
   "metadata": {},
   "outputs": [
    {
     "data": {
      "text/plain": [
       "3-element Vector{String}:\n",
       " \"0 3 6 9 12 15\"\n",
       " \"1 3 6 10 15 21\"\n",
       " \"10 13 16 21 30 45\""
      ]
     },
     "execution_count": 7,
     "metadata": {},
     "output_type": "execute_result"
    }
   ],
   "source": [
    "parsed_sample = parse_input(sample)"
   ]
  },
  {
   "cell_type": "code",
   "execution_count": 8,
   "metadata": {},
   "outputs": [
    {
     "data": {
      "text/plain": [
       "solve (generic function with 2 methods)"
      ]
     },
     "execution_count": 8,
     "metadata": {},
     "output_type": "execute_result"
    }
   ],
   "source": [
    "function solve(nums, next=true)\n",
    "    n = length(nums)\n",
    "    diff = [nums[i] - nums[i-1] for i in 2:n]\n",
    "    if all(diff[1] .== diff)\n",
    "        return next ? nums[end] + diff[1] : nums[1] - diff[1]\n",
    "    else\n",
    "        return next ? nums[end] + solve(diff, next) : nums[1] - solve(diff, next)\n",
    "    end\n",
    "end"
   ]
  },
  {
   "cell_type": "code",
   "execution_count": 9,
   "metadata": {},
   "outputs": [
    {
     "data": {
      "text/plain": [
       "part_one (generic function with 1 method)"
      ]
     },
     "execution_count": 9,
     "metadata": {},
     "output_type": "execute_result"
    }
   ],
   "source": [
    "part_one(input) = sum(solve(parse.(Int, split(line))) for line in input)"
   ]
  },
  {
   "cell_type": "code",
   "execution_count": 10,
   "metadata": {},
   "outputs": [
    {
     "data": {
      "text/plain": [
       "114"
      ]
     },
     "execution_count": 10,
     "metadata": {},
     "output_type": "execute_result"
    }
   ],
   "source": [
    "part_one(parsed_sample)"
   ]
  },
  {
   "cell_type": "code",
   "execution_count": 11,
   "metadata": {},
   "outputs": [
    {
     "data": {
      "text/plain": [
       "1684566095"
      ]
     },
     "execution_count": 11,
     "metadata": {},
     "output_type": "execute_result"
    }
   ],
   "source": [
    "part_one_ans = part_one(parsed_input)"
   ]
  },
  {
   "cell_type": "code",
   "execution_count": 12,
   "metadata": {},
   "outputs": [
    {
     "data": {
      "text/plain": [
       "\"<!DOCTYPE html>\\n<html lang=\\\"en-us\\\">\\n<head>\\n<meta charset=\\\"utf-8\\\"/>\\n<title>Day 9 - Advent of Code 2023</title>\\n<link rel=\\\"stylesheet\\\" type=\\\"text/css\\\" href=\\\"/static/style.css?31\\\"/>\\n<link rel=\\\"stylesheet alternate\\\" type=\\\"text/css\\\" href=\\\"/static/highcontrast.css?1\\\" title=\\\"H\"\u001b[93m\u001b[1m ⋯ 3258 bytes ⋯ \u001b[22m\u001b[39m\"Name(o)[0];a.async=1;a.src=g;m.parentNode.insertBefore(a,m)\\n})(window,document,'script','//www.google-analytics.com/analytics.js','ga');\\nga('create', 'UA-69522494-1', 'auto');\\nga('set', 'anonymizeIp', true);\\nga('send', 'pageview');\\n</script>\\n<!-- /ga -->\\n</body>\\n</html>\""
      ]
     },
     "execution_count": 12,
     "metadata": {},
     "output_type": "execute_result"
    }
   ],
   "source": [
    "submit_answer(year, day, part_one_ans)"
   ]
  },
  {
   "cell_type": "code",
   "execution_count": 13,
   "metadata": {},
   "outputs": [
    {
     "data": {
      "text/plain": [
       "part_two (generic function with 1 method)"
      ]
     },
     "execution_count": 13,
     "metadata": {},
     "output_type": "execute_result"
    }
   ],
   "source": [
    "part_two(input) = sum(solve(parse.(Int, split(line)), false) for line in input)"
   ]
  },
  {
   "cell_type": "code",
   "execution_count": 14,
   "metadata": {},
   "outputs": [
    {
     "data": {
      "text/plain": [
       "2"
      ]
     },
     "execution_count": 14,
     "metadata": {},
     "output_type": "execute_result"
    }
   ],
   "source": [
    "part_two(parsed_sample)"
   ]
  },
  {
   "cell_type": "code",
   "execution_count": 15,
   "metadata": {},
   "outputs": [
    {
     "data": {
      "text/plain": [
       "1136"
      ]
     },
     "execution_count": 15,
     "metadata": {},
     "output_type": "execute_result"
    }
   ],
   "source": [
    "part_two_ans = part_two(parsed_input)"
   ]
  },
  {
   "cell_type": "code",
   "execution_count": 16,
   "metadata": {},
   "outputs": [
    {
     "data": {
      "text/plain": [
       "\"<!DOCTYPE html>\\n<html lang=\\\"en-us\\\">\\n<head>\\n<meta charset=\\\"utf-8\\\"/>\\n<title>Day 9 - Advent of Code 2023</title>\\n<link rel=\\\"stylesheet\\\" type=\\\"text/css\\\" href=\\\"/static/style.css?31\\\"/>\\n<link rel=\\\"stylesheet alternate\\\" type=\\\"text/css\\\" href=\\\"/static/highcontrast.css?1\\\" title=\\\"H\"\u001b[93m\u001b[1m ⋯ 3197 bytes ⋯ \u001b[22m\u001b[39m\"Name(o)[0];a.async=1;a.src=g;m.parentNode.insertBefore(a,m)\\n})(window,document,'script','//www.google-analytics.com/analytics.js','ga');\\nga('create', 'UA-69522494-1', 'auto');\\nga('set', 'anonymizeIp', true);\\nga('send', 'pageview');\\n</script>\\n<!-- /ga -->\\n</body>\\n</html>\""
      ]
     },
     "execution_count": 16,
     "metadata": {},
     "output_type": "execute_result"
    }
   ],
   "source": [
    "submit_answer(year, day, part_two_ans, 2)"
   ]
  }
 ],
 "metadata": {
  "kernelspec": {
   "display_name": "julia 1.10.0-rc1",
   "language": "julia",
   "name": "julia-1.10"
  },
  "language_info": {
   "file_extension": ".jl",
   "mimetype": "application/julia",
   "name": "julia",
   "version": "1.10.0"
  },
  "orig_nbformat": 4,
  "vscode": {
   "interpreter": {
    "hash": "2decbbcdbe1b404b08c0c2ae8935a58886fd60ea7dad56cfc87e2a14f377e9ba"
   }
  }
 },
 "nbformat": 4,
 "nbformat_minor": 2
}
