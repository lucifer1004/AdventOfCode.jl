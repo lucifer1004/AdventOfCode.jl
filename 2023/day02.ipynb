{
 "cells": [
  {
   "cell_type": "code",
   "execution_count": 1,
   "metadata": {},
   "outputs": [
    {
     "name": "stderr",
     "output_type": "stream",
     "text": [
      "\u001b[32m\u001b[1m  Activating\u001b[22m\u001b[39m project at `~/com.github/lucifer1004/AdventOfCode.jl`\n"
     ]
    }
   ],
   "source": [
    "import Pkg; Pkg.activate(\"..\")"
   ]
  },
  {
   "cell_type": "code",
   "execution_count": 2,
   "metadata": {},
   "outputs": [],
   "source": [
    "using AdventOfCode, JSON3, LinearAlgebra, Combinatorics, DataStructures, Graphs, GraphPlot, IterTools, Mods, MLStyle, Pipe"
   ]
  },
  {
   "cell_type": "code",
   "execution_count": 3,
   "metadata": {},
   "outputs": [
    {
     "data": {
      "text/plain": [
       "2"
      ]
     },
     "execution_count": 3,
     "metadata": {},
     "output_type": "execute_result"
    }
   ],
   "source": [
    "year = 2023\n",
    "day = 2"
   ]
  },
  {
   "cell_type": "code",
   "execution_count": 4,
   "metadata": {},
   "outputs": [
    {
     "data": {
      "text/plain": [
       "\"Game 1: 4 blue, 4 red, 16 green; 14 green, 5 red; 1 blue, 3 red, 5 green\\nGame 2: 3 green, 8 red, 1 blue; 5 green, 6 blue; 4 green, 4 blue, 10 red; 2 green, 6 red, 4 blue; 8 red, 11 blue, 4 green; 10 red, 10 blue\\nGame 3: 7 blue, 2 green; 9 blue, 2 green, 4 red; 5 blue, 2\"\u001b[93m\u001b[1m ⋯ 9804 bytes ⋯ \u001b[22m\u001b[39m\"ed; 8 red; 1 green, 9 blue, 5 red\\nGame 99: 4 green, 3 red; 3 green; 1 red, 2 green; 2 red, 1 green, 2 blue; 2 red, 4 green; 1 green, 2 blue, 1 red\\nGame 100: 3 blue, 3 red, 6 green; 7 red, 2 green, 16 blue; 14 green, 9 red, 9 blue; 8 red, 10 green, 9 blue; 6 blue, 11 red\""
      ]
     },
     "execution_count": 4,
     "metadata": {},
     "output_type": "execute_result"
    }
   ],
   "source": [
    "input = get_input(year, day)"
   ]
  },
  {
   "cell_type": "code",
   "execution_count": 5,
   "metadata": {},
   "outputs": [
    {
     "data": {
      "text/plain": [
       "100-element Vector{SubString{String}}:\n",
       " \"Game 1: 4 blue, 4 red, 16 green; 14 green, 5 red; 1 blue, 3 red, 5 green\"\n",
       " \"Game 2: 3 green, 8 red, 1 blue;\"\u001b[93m\u001b[1m ⋯ 76 bytes ⋯ \u001b[22m\u001b[39m\" blue, 4 green; 10 red, 10 blue\"\n",
       " \"Game 3: 7 blue, 2 green; 9 blue\"\u001b[93m\u001b[1m ⋯ 49 bytes ⋯ \u001b[22m\u001b[39m\"10 blue; 1 green, 5 blue, 1 red\"\n",
       " \"Game 4: 5 green, 4 blue, 15 red\"\u001b[93m\u001b[1m ⋯ 68 bytes ⋯ \u001b[22m\u001b[39m\"1 blue; 1 blue, 6 green, 16 red\"\n",
       " \"Game 5: 1 red, 1 blue, 4 green;\"\u001b[93m\u001b[1m ⋯ 57 bytes ⋯ \u001b[22m\u001b[39m\" 3 red, 4 blue; 1 green, 2 blue\"\n",
       " \"Game 6: 17 red, 2 blue, 18 gree\"\u001b[93m\u001b[1m ⋯ 63 bytes ⋯ \u001b[22m\u001b[39m\" 9 red; 5 blue, 7 red, 10 green\"\n",
       " \"Game 7: 2 green, 3 red, 14 blue\"\u001b[93m\u001b[1m ⋯ 44 bytes ⋯ \u001b[22m\u001b[39m\"blue, 1 green; 3 green, 17 blue\"\n",
       " \"Game 8: 9 blue, 13 green, 2 red; 3 red, 10 green, 18 blue; 8 blue, 8 green\"\n",
       " \"Game 9: 11 red, 2 blue; 1 blue, 9 green, 13 red; 2 blue, 17 red, 6 green\"\n",
       " \"Game 10: 13 green, 8 red, 8 blu\"\u001b[93m\u001b[1m ⋯ 77 bytes ⋯ \u001b[22m\u001b[39m\"10 red, 8 blue; 8 blue, 1 green\"\n",
       " \"Game 11: 14 red, 19 green; 2 blue, 6 red, 17 green; 12 green, 9 red, 6 blue\"\n",
       " \"Game 12: 19 green, 3 blue, 10 r\"\u001b[93m\u001b[1m ⋯ 69 bytes ⋯ \u001b[22m\u001b[39m\" blue, 15 green; 8 green, 7 red\"\n",
       " \"Game 13: 2 red, 8 green, 1 blue\"\u001b[93m\u001b[1m ⋯ 42 bytes ⋯ \u001b[22m\u001b[39m\"1 red, 1 green; 2 green, 1 blue\"\n",
       " ⋮\n",
       " \"Game 89: 12 blue, 5 green, 14 r\"\u001b[93m\u001b[1m ⋯ 45 bytes ⋯ \u001b[22m\u001b[39m\"3 green; 5 green, 7 blue, 4 red\"\n",
       " \"Game 90: 8 green, 3 blue, 1 red\"\u001b[93m\u001b[1m ⋯ 43 bytes ⋯ \u001b[22m\u001b[39m\", 3 red; 7 green, 2 red, 5 blue\"\n",
       " \"Game 91: 3 green, 3 red, 9 blue; 5 green, 1 red; 1 green, 1 red, 3 blue\"\n",
       " \"Game 92: 2 blue, 1 red, 4 green\"\u001b[93m\u001b[1m ⋯ 78 bytes ⋯ \u001b[22m\u001b[39m\"9 blue; 15 green, 3 red, 3 blue\"\n",
       " \"Game 93: 8 blue, 4 green, 1 red; 15 green; 9 blue, 3 green\"\n",
       " \"Game 94: 12 green, 17 blue, 11 \"\u001b[93m\u001b[1m ⋯ 24 bytes ⋯ \u001b[22m\u001b[39m\"blue; 17 blue, 10 green, 11 red\"\n",
       " \"Game 95: 13 green, 1 red, 8 blu\"\u001b[93m\u001b[1m ⋯ 39 bytes ⋯ \u001b[22m\u001b[39m\"green; 11 red, 12 blue, 6 green\"\n",
       " \"Game 96: 13 blue, 11 red, 13 gr\"\u001b[93m\u001b[1m ⋯ 23 bytes ⋯ \u001b[22m\u001b[39m\"green; 14 green, 9 red, 15 blue\"\n",
       " \"Game 97: 9 red, 9 green, 11 blu\"\u001b[93m\u001b[1m ⋯ 43 bytes ⋯ \u001b[22m\u001b[39m\"9 green; 3 green, 8 red, 4 blue\"\n",
       " \"Game 98: 5 blue, 6 red; 8 red; 1 green, 9 blue, 5 red\"\n",
       " \"Game 99: 4 green, 3 red; 3 gree\"\u001b[93m\u001b[1m ⋯ 50 bytes ⋯ \u001b[22m\u001b[39m\"4 green; 1 green, 2 blue, 1 red\"\n",
       " \"Game 100: 3 blue, 3 red, 6 gree\"\u001b[93m\u001b[1m ⋯ 61 bytes ⋯ \u001b[22m\u001b[39m\"0 green, 9 blue; 6 blue, 11 red\""
      ]
     },
     "execution_count": 5,
     "metadata": {},
     "output_type": "execute_result"
    }
   ],
   "source": [
    "parsed_input = parse_input(input)"
   ]
  },
  {
   "cell_type": "code",
   "execution_count": 6,
   "metadata": {},
   "outputs": [
    {
     "data": {
      "text/plain": [
       "\"Game 1: 3 blue, 4 red; 1 red, 2 green, 6 blue; 2 green\\nGame 2: 1 blue, 2 green; 3 green, 4 blue, 1 red; 1 green, 1 blue\\nGame 3: 8 green, 6 blue, 20 red; 5 blue, 4 red, 13 green; 5 green, 1 red\\nGame 4: 1 green, 3 red, 6 blue; 3 green, 6 red; 3 green, 15 blue, 14 red\\nGame 5: 6 red, 1 blue, 3 green; 2 blue, 1 red, 2 green\""
      ]
     },
     "execution_count": 6,
     "metadata": {},
     "output_type": "execute_result"
    }
   ],
   "source": [
    "sample = \"\"\"Game 1: 3 blue, 4 red; 1 red, 2 green, 6 blue; 2 green\n",
    "Game 2: 1 blue, 2 green; 3 green, 4 blue, 1 red; 1 green, 1 blue\n",
    "Game 3: 8 green, 6 blue, 20 red; 5 blue, 4 red, 13 green; 5 green, 1 red\n",
    "Game 4: 1 green, 3 red, 6 blue; 3 green, 6 red; 3 green, 15 blue, 14 red\n",
    "Game 5: 6 red, 1 blue, 3 green; 2 blue, 1 red, 2 green\"\"\""
   ]
  },
  {
   "cell_type": "code",
   "execution_count": 7,
   "metadata": {},
   "outputs": [
    {
     "data": {
      "text/plain": [
       "5-element Vector{SubString{String}}:\n",
       " \"Game 1: 3 blue, 4 red; 1 red, 2 green, 6 blue; 2 green\"\n",
       " \"Game 2: 1 blue, 2 green; 3 green, 4 blue, 1 red; 1 green, 1 blue\"\n",
       " \"Game 3: 8 green, 6 blue, 20 red; 5 blue, 4 red, 13 green; 5 green, 1 red\"\n",
       " \"Game 4: 1 green, 3 red, 6 blue; 3 green, 6 red; 3 green, 15 blue, 14 red\"\n",
       " \"Game 5: 6 red, 1 blue, 3 green; 2 blue, 1 red, 2 green\""
      ]
     },
     "execution_count": 7,
     "metadata": {},
     "output_type": "execute_result"
    }
   ],
   "source": [
    "parsed_sample = parse_input(sample)"
   ]
  },
  {
   "cell_type": "code",
   "execution_count": 8,
   "metadata": {},
   "outputs": [
    {
     "data": {
      "text/plain": [
       "solve (generic function with 1 method)"
      ]
     },
     "execution_count": 8,
     "metadata": {},
     "output_type": "execute_result"
    }
   ],
   "source": [
    "function solve(line)\n",
    "    games = split(line, \": \")[2]\n",
    "    sets = split(games, \"; \")\n",
    "    hi = Dict(\n",
    "        \"blue\" => 0,\n",
    "        \"green\" => 0,\n",
    "        \"red\" => 0,\n",
    "    )\n",
    "    for set in sets\n",
    "        cards = split(set, \", \")\n",
    "        for card in cards\n",
    "            num, color = split(card, \" \")\n",
    "            hi[color] = max(hi[color], parse(Int, num))\n",
    "        end\n",
    "    end\n",
    "    return hi\n",
    "end"
   ]
  },
  {
   "cell_type": "code",
   "execution_count": 9,
   "metadata": {},
   "outputs": [
    {
     "data": {
      "text/plain": [
       "part_one (generic function with 1 method)"
      ]
     },
     "execution_count": 9,
     "metadata": {},
     "output_type": "execute_result"
    }
   ],
   "source": [
    "function part_one(input)\n",
    "    map(enumerate(input)) do (i, line)\n",
    "        hi = solve(line)\n",
    "        hi[\"red\"] <= 12 && hi[\"green\"] <= 13 && hi[\"blue\"] <= 14 ? i : 0\n",
    "    end |> sum\n",
    "end"
   ]
  },
  {
   "cell_type": "code",
   "execution_count": 10,
   "metadata": {},
   "outputs": [
    {
     "data": {
      "text/plain": [
       "8"
      ]
     },
     "execution_count": 10,
     "metadata": {},
     "output_type": "execute_result"
    }
   ],
   "source": [
    "part_one(parsed_sample)"
   ]
  },
  {
   "cell_type": "code",
   "execution_count": 11,
   "metadata": {},
   "outputs": [
    {
     "data": {
      "text/plain": [
       "2156"
      ]
     },
     "execution_count": 11,
     "metadata": {},
     "output_type": "execute_result"
    }
   ],
   "source": [
    "part_one_ans = part_one(parsed_input)"
   ]
  },
  {
   "cell_type": "code",
   "execution_count": 12,
   "metadata": {},
   "outputs": [
    {
     "data": {
      "text/plain": [
       "\"<!DOCTYPE html>\\n<html lang=\\\"en-us\\\">\\n<head>\\n<meta charset=\\\"utf-8\\\"/>\\n<title>Day 2 - Advent of Code 2023</title>\\n<link rel=\\\"stylesheet\\\" type=\\\"text/css\\\" href=\\\"/static/style.css?31\\\"/>\\n<link rel=\\\"stylesheet alternate\\\" type=\\\"text/css\\\" href=\\\"/static/highcontrast.css?1\\\" title=\\\"H\"\u001b[93m\u001b[1m ⋯ 3273 bytes ⋯ \u001b[22m\u001b[39m\"Name(o)[0];a.async=1;a.src=g;m.parentNode.insertBefore(a,m)\\n})(window,document,'script','//www.google-analytics.com/analytics.js','ga');\\nga('create', 'UA-69522494-1', 'auto');\\nga('set', 'anonymizeIp', true);\\nga('send', 'pageview');\\n</script>\\n<!-- /ga -->\\n</body>\\n</html>\""
      ]
     },
     "execution_count": 12,
     "metadata": {},
     "output_type": "execute_result"
    }
   ],
   "source": [
    "submit_answer(year, day, part_one_ans)"
   ]
  },
  {
   "cell_type": "code",
   "execution_count": 13,
   "metadata": {},
   "outputs": [
    {
     "data": {
      "text/plain": [
       "part_two (generic function with 1 method)"
      ]
     },
     "execution_count": 13,
     "metadata": {},
     "output_type": "execute_result"
    }
   ],
   "source": [
    "function part_two(input)\n",
    "    map(input) do line\n",
    "        hi = solve(line)\n",
    "        hi[\"red\"] * hi[\"green\"] * hi[\"blue\"]\n",
    "    end |> sum\n",
    "end"
   ]
  },
  {
   "cell_type": "code",
   "execution_count": 14,
   "metadata": {},
   "outputs": [
    {
     "data": {
      "text/plain": [
       "2286"
      ]
     },
     "execution_count": 14,
     "metadata": {},
     "output_type": "execute_result"
    }
   ],
   "source": [
    "part_two(parsed_sample)"
   ]
  },
  {
   "cell_type": "code",
   "execution_count": 15,
   "metadata": {},
   "outputs": [
    {
     "data": {
      "text/plain": [
       "66909"
      ]
     },
     "execution_count": 15,
     "metadata": {},
     "output_type": "execute_result"
    }
   ],
   "source": [
    "part_two_ans = part_two(parsed_input)"
   ]
  },
  {
   "cell_type": "code",
   "execution_count": 16,
   "metadata": {},
   "outputs": [
    {
     "data": {
      "text/plain": [
       "\"<!DOCTYPE html>\\n<html lang=\\\"en-us\\\">\\n<head>\\n<meta charset=\\\"utf-8\\\"/>\\n<title>Day 2 - Advent of Code 2023</title>\\n<link rel=\\\"stylesheet\\\" type=\\\"text/css\\\" href=\\\"/static/style.css?31\\\"/>\\n<link rel=\\\"stylesheet alternate\\\" type=\\\"text/css\\\" href=\\\"/static/highcontrast.css?1\\\" title=\\\"H\"\u001b[93m\u001b[1m ⋯ 3209 bytes ⋯ \u001b[22m\u001b[39m\"Name(o)[0];a.async=1;a.src=g;m.parentNode.insertBefore(a,m)\\n})(window,document,'script','//www.google-analytics.com/analytics.js','ga');\\nga('create', 'UA-69522494-1', 'auto');\\nga('set', 'anonymizeIp', true);\\nga('send', 'pageview');\\n</script>\\n<!-- /ga -->\\n</body>\\n</html>\""
      ]
     },
     "execution_count": 16,
     "metadata": {},
     "output_type": "execute_result"
    }
   ],
   "source": [
    "submit_answer(year, day, part_two_ans, 2)"
   ]
  }
 ],
 "metadata": {
  "kernelspec": {
   "display_name": "julia 1.10.0-rc1",
   "language": "julia",
   "name": "julia-1.10"
  },
  "language_info": {
   "file_extension": ".jl",
   "mimetype": "application/julia",
   "name": "julia",
   "version": "1.10.0"
  },
  "vscode": {
   "interpreter": {
    "hash": "2decbbcdbe1b404b08c0c2ae8935a58886fd60ea7dad56cfc87e2a14f377e9ba"
   }
  }
 },
 "nbformat": 4,
 "nbformat_minor": 4
}
