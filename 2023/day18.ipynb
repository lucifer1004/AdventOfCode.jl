{
 "cells": [
  {
   "cell_type": "code",
   "execution_count": 1,
   "metadata": {},
   "outputs": [
    {
     "name": "stderr",
     "output_type": "stream",
     "text": [
      "\u001b[32m\u001b[1m  Activating\u001b[22m\u001b[39m project at `~/com.github/lucifer1004/AdventOfCode.jl`\n"
     ]
    }
   ],
   "source": [
    "import Pkg; Pkg.activate(\"..\")"
   ]
  },
  {
   "cell_type": "code",
   "execution_count": 2,
   "metadata": {},
   "outputs": [],
   "source": [
    "using AdventOfCode"
   ]
  },
  {
   "cell_type": "code",
   "execution_count": 3,
   "metadata": {},
   "outputs": [
    {
     "data": {
      "text/plain": [
       "18"
      ]
     },
     "execution_count": 3,
     "metadata": {},
     "output_type": "execute_result"
    }
   ],
   "source": [
    "year = 2023\n",
    "day = 18"
   ]
  },
  {
   "cell_type": "code",
   "execution_count": 4,
   "metadata": {},
   "outputs": [
    {
     "data": {
      "text/plain": [
       "\"L 6 (#250012)\\nU 2 (#66d6a3)\\nL 4 (#0a6532)\\nU 6 (#391683)\\nL 5 (#1cc8a2)\\nU 6 (#67fb83)\\nL 3 (#a4d782)\\nU 4 (#108a13)\\nL 2 (#6b7482)\\nU 2 (#079253)\\nL 10 (#3c8902)\\nU 2 (#af1293)\\nL 3 (#3717a2)\\nD 5 (#72f323)\\nL 4 (#924242)\\nD 3 (#78d963)\\nL 3 (#1fda52)\\nD 8 (#0a91f3)\\nL 6 (#2e9710)\\nD 4\"\u001b[93m\u001b[1m ⋯ 8347 bytes ⋯ \u001b[22m\u001b[39m\"032)\\nU 4 (#2512a1)\\nL 6 (#072912)\\nU 4 (#833361)\\nL 4 (#375852)\\nU 7 (#af0473)\\nL 2 (#4b9822)\\nU 4 (#651351)\\nL 8 (#76e5b2)\\nU 2 (#4dd041)\\nL 2 (#117b62)\\nU 7 (#617761)\\nL 2 (#1c6bb2)\\nU 7 (#342be1)\\nL 5 (#86a912)\\nU 5 (#3dfed1)\\nL 3 (#b49020)\\nU 4 (#47d2a1)\\nL 4 (#b3e1e2)\\nU 7 (#333693)\""
      ]
     },
     "execution_count": 4,
     "metadata": {},
     "output_type": "execute_result"
    }
   ],
   "source": [
    "input = get_input(year, day)"
   ]
  },
  {
   "cell_type": "code",
   "execution_count": 5,
   "metadata": {},
   "outputs": [
    {
     "data": {
      "text/plain": [
       "634-element Vector{String}:\n",
       " \"L 6 (#250012)\"\n",
       " \"U 2 (#66d6a3)\"\n",
       " \"L 4 (#0a6532)\"\n",
       " \"U 6 (#391683)\"\n",
       " \"L 5 (#1cc8a2)\"\n",
       " \"U 6 (#67fb83)\"\n",
       " \"L 3 (#a4d782)\"\n",
       " \"U 4 (#108a13)\"\n",
       " \"L 2 (#6b7482)\"\n",
       " \"U 2 (#079253)\"\n",
       " \"L 10 (#3c8902)\"\n",
       " \"U 2 (#af1293)\"\n",
       " \"L 3 (#3717a2)\"\n",
       " ⋮\n",
       " \"L 8 (#76e5b2)\"\n",
       " \"U 2 (#4dd041)\"\n",
       " \"L 2 (#117b62)\"\n",
       " \"U 7 (#617761)\"\n",
       " \"L 2 (#1c6bb2)\"\n",
       " \"U 7 (#342be1)\"\n",
       " \"L 5 (#86a912)\"\n",
       " \"U 5 (#3dfed1)\"\n",
       " \"L 3 (#b49020)\"\n",
       " \"U 4 (#47d2a1)\"\n",
       " \"L 4 (#b3e1e2)\"\n",
       " \"U 7 (#333693)\""
      ]
     },
     "execution_count": 5,
     "metadata": {},
     "output_type": "execute_result"
    }
   ],
   "source": [
    "parsed_input = parse_input(input)"
   ]
  },
  {
   "cell_type": "code",
   "execution_count": 6,
   "metadata": {},
   "outputs": [
    {
     "data": {
      "text/plain": [
       "\"R 6 (#70c710)\\nD 5 (#0dc571)\\nL 2 (#5713f0)\\nD 2 (#d2c081)\\nR 2 (#59c680)\\nD 2 (#411b91)\\nL 5 (#8ceee2)\\nU 2 (#caa173)\\nL 1 (#1b58a2)\\nU 2 (#caa171)\\nR 2 (#7807d2)\\nU 3 (#a77fa3)\\nL 2 (#015232)\\nU 2 (#7a21e3)\""
      ]
     },
     "execution_count": 6,
     "metadata": {},
     "output_type": "execute_result"
    }
   ],
   "source": [
    "sample = \"\"\"R 6 (#70c710)\n",
    "D 5 (#0dc571)\n",
    "L 2 (#5713f0)\n",
    "D 2 (#d2c081)\n",
    "R 2 (#59c680)\n",
    "D 2 (#411b91)\n",
    "L 5 (#8ceee2)\n",
    "U 2 (#caa173)\n",
    "L 1 (#1b58a2)\n",
    "U 2 (#caa171)\n",
    "R 2 (#7807d2)\n",
    "U 3 (#a77fa3)\n",
    "L 2 (#015232)\n",
    "U 2 (#7a21e3)\"\"\""
   ]
  },
  {
   "cell_type": "code",
   "execution_count": 7,
   "metadata": {},
   "outputs": [
    {
     "data": {
      "text/plain": [
       "14-element Vector{String}:\n",
       " \"R 6 (#70c710)\"\n",
       " \"D 5 (#0dc571)\"\n",
       " \"L 2 (#5713f0)\"\n",
       " \"D 2 (#d2c081)\"\n",
       " \"R 2 (#59c680)\"\n",
       " \"D 2 (#411b91)\"\n",
       " \"L 5 (#8ceee2)\"\n",
       " \"U 2 (#caa173)\"\n",
       " \"L 1 (#1b58a2)\"\n",
       " \"U 2 (#caa171)\"\n",
       " \"R 2 (#7807d2)\"\n",
       " \"U 3 (#a77fa3)\"\n",
       " \"L 2 (#015232)\"\n",
       " \"U 2 (#7a21e3)\""
      ]
     },
     "execution_count": 7,
     "metadata": {},
     "output_type": "execute_result"
    }
   ],
   "source": [
    "parsed_sample = parse_input(sample)"
   ]
  },
  {
   "cell_type": "code",
   "execution_count": 8,
   "metadata": {},
   "outputs": [
    {
     "data": {
      "text/plain": [
       "polygon_area (generic function with 1 method)"
      ]
     },
     "execution_count": 8,
     "metadata": {},
     "output_type": "execute_result"
    }
   ],
   "source": [
    "function polygon_area(x, y)\n",
    "    area = 0\n",
    "    j = length(x)\n",
    "    for i in 1:length(x)\n",
    "        area += (x[j] + x[i]) * (y[j] - y[i])\n",
    "        j = i\n",
    "    end\n",
    "    abs(area) ÷ 2\n",
    "end"
   ]
  },
  {
   "cell_type": "code",
   "execution_count": 9,
   "metadata": {},
   "outputs": [
    {
     "data": {
      "text/plain": [
       "polygon_circumference (generic function with 1 method)"
      ]
     },
     "execution_count": 9,
     "metadata": {},
     "output_type": "execute_result"
    }
   ],
   "source": [
    "function polygon_circumference(x, y)\n",
    "    tot = 0\n",
    "    j = length(x)\n",
    "    for i in 1:length(x)\n",
    "        tot += abs(x[j] - x[i]) + abs(y[j] - y[i])\n",
    "        j = i\n",
    "    end\n",
    "    tot\n",
    "end"
   ]
  },
  {
   "cell_type": "code",
   "execution_count": 10,
   "metadata": {},
   "outputs": [
    {
     "data": {
      "text/plain": [
       "parse_line (generic function with 1 method)"
      ]
     },
     "execution_count": 10,
     "metadata": {},
     "output_type": "execute_result"
    }
   ],
   "source": [
    "function parse_line(line)\n",
    "    dir1, dis1, code = split(line)\n",
    "    dir1 = dir1[1]\n",
    "    dis1 = parse(Int, dis1)\n",
    "\n",
    "    dis2 = parse(Int, code[3:end-2], base=16)\n",
    "    dir2 = \"RDLU\"[parse(Int, code[end-1:end-1]) + 1]\n",
    "\n",
    "    return (dir1, dis1), (dir2, dis2)\n",
    "end"
   ]
  },
  {
   "cell_type": "code",
   "execution_count": 11,
   "metadata": {},
   "outputs": [
    {
     "data": {
      "text/plain": [
       "solve (generic function with 1 method)"
      ]
     },
     "execution_count": 11,
     "metadata": {},
     "output_type": "execute_result"
    }
   ],
   "source": [
    "function solve(input, part)\n",
    "    x, y = 0, 0\n",
    "    xs = [0]\n",
    "    ys = [0]\n",
    "\n",
    "    for line in input\n",
    "        dir, dis = parse_line(line)[part]\n",
    "        if dir == 'R'\n",
    "            x += dis\n",
    "        elseif dir == 'L'\n",
    "            x -= dis\n",
    "        elseif dir == 'U'\n",
    "            y += dis\n",
    "        elseif dir == 'D'\n",
    "            y -= dis\n",
    "        end\n",
    "        push!(xs, x)\n",
    "        push!(ys, y)\n",
    "    end\n",
    "\n",
    "    polygon_area(xs, ys) + polygon_circumference(xs, ys) ÷ 2 + 1\n",
    "end"
   ]
  },
  {
   "cell_type": "code",
   "execution_count": 12,
   "metadata": {},
   "outputs": [
    {
     "data": {
      "text/plain": [
       "part_one (generic function with 1 method)"
      ]
     },
     "execution_count": 12,
     "metadata": {},
     "output_type": "execute_result"
    }
   ],
   "source": [
    "part_one(input) = solve(input, 1)"
   ]
  },
  {
   "cell_type": "code",
   "execution_count": 13,
   "metadata": {},
   "outputs": [
    {
     "data": {
      "text/plain": [
       "62"
      ]
     },
     "execution_count": 13,
     "metadata": {},
     "output_type": "execute_result"
    }
   ],
   "source": [
    "part_one(parsed_sample)"
   ]
  },
  {
   "cell_type": "code",
   "execution_count": 14,
   "metadata": {},
   "outputs": [
    {
     "data": {
      "text/plain": [
       "33491"
      ]
     },
     "execution_count": 14,
     "metadata": {},
     "output_type": "execute_result"
    }
   ],
   "source": [
    "part_one_ans = part_one(parsed_input)"
   ]
  },
  {
   "cell_type": "code",
   "execution_count": 15,
   "metadata": {},
   "outputs": [
    {
     "data": {
      "text/plain": [
       "\"<!DOCTYPE html>\\n<html lang=\\\"en-us\\\">\\n<head>\\n<meta charset=\\\"utf-8\\\"/>\\n<title>Day 18 - Advent of Code 2023</title>\\n<link rel=\\\"stylesheet\\\" type=\\\"text/css\\\" href=\\\"/static/style.css?31\\\"/>\\n<link rel=\\\"stylesheet alternate\\\" type=\\\"text/css\\\" href=\\\"/static/highcontrast.css?1\\\" title=\\\"\"\u001b[93m\u001b[1m ⋯ 3201 bytes ⋯ \u001b[22m\u001b[39m\"Name(o)[0];a.async=1;a.src=g;m.parentNode.insertBefore(a,m)\\n})(window,document,'script','//www.google-analytics.com/analytics.js','ga');\\nga('create', 'UA-69522494-1', 'auto');\\nga('set', 'anonymizeIp', true);\\nga('send', 'pageview');\\n</script>\\n<!-- /ga -->\\n</body>\\n</html>\""
      ]
     },
     "execution_count": 15,
     "metadata": {},
     "output_type": "execute_result"
    }
   ],
   "source": [
    "submit_answer(year, day, part_one_ans)"
   ]
  },
  {
   "cell_type": "code",
   "execution_count": 16,
   "metadata": {},
   "outputs": [
    {
     "data": {
      "text/plain": [
       "part_two (generic function with 1 method)"
      ]
     },
     "execution_count": 16,
     "metadata": {},
     "output_type": "execute_result"
    }
   ],
   "source": [
    "part_two(input) = solve(input, 2)"
   ]
  },
  {
   "cell_type": "code",
   "execution_count": 17,
   "metadata": {},
   "outputs": [
    {
     "data": {
      "text/plain": [
       "952408144115"
      ]
     },
     "execution_count": 17,
     "metadata": {},
     "output_type": "execute_result"
    }
   ],
   "source": [
    "part_two(parsed_sample)"
   ]
  },
  {
   "cell_type": "code",
   "execution_count": 18,
   "metadata": {},
   "outputs": [
    {
     "data": {
      "text/plain": [
       "87716969654406"
      ]
     },
     "execution_count": 18,
     "metadata": {},
     "output_type": "execute_result"
    }
   ],
   "source": [
    "part_two_ans = part_two(parsed_input)"
   ]
  },
  {
   "cell_type": "code",
   "execution_count": 19,
   "metadata": {},
   "outputs": [
    {
     "data": {
      "text/plain": [
       "\"<!DOCTYPE html>\\n<html lang=\\\"en-us\\\">\\n<head>\\n<meta charset=\\\"utf-8\\\"/>\\n<title>Day 18 - Advent of Code 2023</title>\\n<link rel=\\\"stylesheet\\\" type=\\\"text/css\\\" href=\\\"/static/style.css?31\\\"/>\\n<link rel=\\\"stylesheet alternate\\\" type=\\\"text/css\\\" href=\\\"/static/highcontrast.css?1\\\" title=\\\"\"\u001b[93m\u001b[1m ⋯ 3161 bytes ⋯ \u001b[22m\u001b[39m\"Name(o)[0];a.async=1;a.src=g;m.parentNode.insertBefore(a,m)\\n})(window,document,'script','//www.google-analytics.com/analytics.js','ga');\\nga('create', 'UA-69522494-1', 'auto');\\nga('set', 'anonymizeIp', true);\\nga('send', 'pageview');\\n</script>\\n<!-- /ga -->\\n</body>\\n</html>\""
      ]
     },
     "execution_count": 19,
     "metadata": {},
     "output_type": "execute_result"
    }
   ],
   "source": [
    "submit_answer(year, day, part_two_ans, 2)"
   ]
  }
 ],
 "metadata": {
  "kernelspec": {
   "display_name": "julia 1.10.0-rc1",
   "language": "julia",
   "name": "julia-1.10"
  },
  "language_info": {
   "file_extension": ".jl",
   "mimetype": "application/julia",
   "name": "julia",
   "version": "1.10.0"
  },
  "orig_nbformat": 4,
  "vscode": {
   "interpreter": {
    "hash": "2decbbcdbe1b404b08c0c2ae8935a58886fd60ea7dad56cfc87e2a14f377e9ba"
   }
  }
 },
 "nbformat": 4,
 "nbformat_minor": 2
}
