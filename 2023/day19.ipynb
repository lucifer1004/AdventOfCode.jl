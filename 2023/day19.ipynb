{
 "cells": [
  {
   "cell_type": "code",
   "execution_count": 1,
   "metadata": {},
   "outputs": [
    {
     "name": "stderr",
     "output_type": "stream",
     "text": [
      "\u001b[32m\u001b[1m  Activating\u001b[22m\u001b[39m project at `~/com.github/lucifer1004/AdventOfCode.jl`\n"
     ]
    }
   ],
   "source": [
    "import Pkg; Pkg.activate(\"..\")"
   ]
  },
  {
   "cell_type": "code",
   "execution_count": 2,
   "metadata": {},
   "outputs": [],
   "source": [
    "using AdventOfCode"
   ]
  },
  {
   "cell_type": "code",
   "execution_count": 3,
   "metadata": {},
   "outputs": [
    {
     "data": {
      "text/plain": [
       "19"
      ]
     },
     "execution_count": 3,
     "metadata": {},
     "output_type": "execute_result"
    }
   ],
   "source": [
    "year = 2023\n",
    "day = 19"
   ]
  },
  {
   "cell_type": "code",
   "execution_count": 4,
   "metadata": {},
   "outputs": [
    {
     "data": {
      "text/plain": [
       "\"hfm{a<1891:R,m<2881:A,m<2987:A,R}\\nns{s>2289:R,x<3094:A,R}\\nvll{s<2397:R,x>1015:A,A}\\nfx{a>3383:R,a>3059:A,A}\\nbhg{x>669:A,x<605:R,a>3407:R,A}\\nfr{m>2523:A,m>2353:R,x>2678:dts,A}\\nllj{m<2149:vzl,pjq}\\nqh{s<2205:R,R}\\nnml{a>1072:R,x>1129:R,A}\\ntb{m<2429:A,m<2506:A,x>2910:R,R}\\ncr{\"\u001b[93m\u001b[1m ⋯ 18699 bytes ⋯ \u001b[22m\u001b[39m\"\\n{x=2545,m=3215,a=850,s=430}\\n{x=1256,m=153,a=112,s=1132}\\n{x=2016,m=2104,a=408,s=2138}\\n{x=238,m=1081,a=645,s=882}\\n{x=1735,m=620,a=52,s=34}\\n{x=39,m=125,a=655,s=269}\\n{x=233,m=1962,a=601,s=248}\\n{x=284,m=2418,a=468,s=17}\\n{x=864,m=2542,a=1040,s=399}\\n{x=229,m=152,a=753,s=285}\""
      ]
     },
     "execution_count": 4,
     "metadata": {},
     "output_type": "execute_result"
    }
   ],
   "source": [
    "input = get_input(year, day)"
   ]
  },
  {
   "cell_type": "code",
   "execution_count": 5,
   "metadata": {},
   "outputs": [
    {
     "data": {
      "text/plain": [
       "731-element Vector{String}:\n",
       " \"hfm{a<1891:R,m<2881:A,m<2987:A,R}\"\n",
       " \"ns{s>2289:R,x<3094:A,R}\"\n",
       " \"vll{s<2397:R,x>1015:A,A}\"\n",
       " \"fx{a>3383:R,a>3059:A,A}\"\n",
       " \"bhg{x>669:A,x<605:R,a>3407:R,A}\"\n",
       " \"fr{m>2523:A,m>2353:R,x>2678:dts,A}\"\n",
       " \"llj{m<2149:vzl,pjq}\"\n",
       " \"qh{s<2205:R,R}\"\n",
       " \"nml{a>1072:R,x>1129:R,A}\"\n",
       " \"tb{m<2429:A,m<2506:A,x>2910:R,R}\"\n",
       " \"cr{x<735:R,a<2972:R,x<973:R,R}\"\n",
       " \"rb{s>2603:A,x>240:R,s>2405:A,A}\"\n",
       " \"xr{x>975:A,R}\"\n",
       " ⋮\n",
       " \"{x=556,m=2694,a=792,s=22}\"\n",
       " \"{x=505,m=1755,a=2185,s=391}\"\n",
       " \"{x=2545,m=3215,a=850,s=430}\"\n",
       " \"{x=1256,m=153,a=112,s=1132}\"\n",
       " \"{x=2016,m=2104,a=408,s=2138}\"\n",
       " \"{x=238,m=1081,a=645,s=882}\"\n",
       " \"{x=1735,m=620,a=52,s=34}\"\n",
       " \"{x=39,m=125,a=655,s=269}\"\n",
       " \"{x=233,m=1962,a=601,s=248}\"\n",
       " \"{x=284,m=2418,a=468,s=17}\"\n",
       " \"{x=864,m=2542,a=1040,s=399}\"\n",
       " \"{x=229,m=152,a=753,s=285}\""
      ]
     },
     "execution_count": 5,
     "metadata": {},
     "output_type": "execute_result"
    }
   ],
   "source": [
    "parsed_input = parse_input(input)"
   ]
  },
  {
   "cell_type": "code",
   "execution_count": 6,
   "metadata": {},
   "outputs": [
    {
     "data": {
      "text/plain": [
       "\"px{a<2006:qkq,m>2090:A,rfg}\\npv{a>1716:R,A}\\nlnx{m>1548:A,A}\\nrfg{s<537:gd,x>2440:R,A}\\nqs{s>3448:A,lnx}\\nqkq{x<1416:A,crn}\\ncrn{x>2662:A,R}\\nin{s<1351:px,qqz}\\nqqz{s>2770:qs,m<1801:hdj,R}\\ngd{a>3333:R,R}\\nhdj{m>838:A,pv}\\n\\n{x=787,m=2655,a=1222,s=2876}\\n{x=1679,m=44,a=2067,s=496}\\n{x=2036,m=264,a=79,s=2244}\\n{x=2461,m=1339,a=466,s=291}\\n{x=2127,m=1623,a=2188,s=1013}\""
      ]
     },
     "execution_count": 6,
     "metadata": {},
     "output_type": "execute_result"
    }
   ],
   "source": [
    "sample = \"\"\"px{a<2006:qkq,m>2090:A,rfg}\n",
    "pv{a>1716:R,A}\n",
    "lnx{m>1548:A,A}\n",
    "rfg{s<537:gd,x>2440:R,A}\n",
    "qs{s>3448:A,lnx}\n",
    "qkq{x<1416:A,crn}\n",
    "crn{x>2662:A,R}\n",
    "in{s<1351:px,qqz}\n",
    "qqz{s>2770:qs,m<1801:hdj,R}\n",
    "gd{a>3333:R,R}\n",
    "hdj{m>838:A,pv}\n",
    "\n",
    "{x=787,m=2655,a=1222,s=2876}\n",
    "{x=1679,m=44,a=2067,s=496}\n",
    "{x=2036,m=264,a=79,s=2244}\n",
    "{x=2461,m=1339,a=466,s=291}\n",
    "{x=2127,m=1623,a=2188,s=1013}\"\"\""
   ]
  },
  {
   "cell_type": "code",
   "execution_count": 7,
   "metadata": {},
   "outputs": [
    {
     "data": {
      "text/plain": [
       "17-element Vector{String}:\n",
       " \"px{a<2006:qkq,m>2090:A,rfg}\"\n",
       " \"pv{a>1716:R,A}\"\n",
       " \"lnx{m>1548:A,A}\"\n",
       " \"rfg{s<537:gd,x>2440:R,A}\"\n",
       " \"qs{s>3448:A,lnx}\"\n",
       " \"qkq{x<1416:A,crn}\"\n",
       " \"crn{x>2662:A,R}\"\n",
       " \"in{s<1351:px,qqz}\"\n",
       " \"qqz{s>2770:qs,m<1801:hdj,R}\"\n",
       " \"gd{a>3333:R,R}\"\n",
       " \"hdj{m>838:A,pv}\"\n",
       " \"\"\n",
       " \"{x=787,m=2655,a=1222,s=2876}\"\n",
       " \"{x=1679,m=44,a=2067,s=496}\"\n",
       " \"{x=2036,m=264,a=79,s=2244}\"\n",
       " \"{x=2461,m=1339,a=466,s=291}\"\n",
       " \"{x=2127,m=1623,a=2188,s=1013}\""
      ]
     },
     "execution_count": 7,
     "metadata": {},
     "output_type": "execute_result"
    }
   ],
   "source": [
    "parsed_sample = parse_input(sample)"
   ]
  },
  {
   "cell_type": "code",
   "execution_count": 8,
   "metadata": {},
   "outputs": [],
   "source": [
    "struct Rule\n",
    "    index::Int\n",
    "    islt::Bool\n",
    "    threshold::Int\n",
    "    destination::String\n",
    "end"
   ]
  },
  {
   "cell_type": "code",
   "execution_count": 9,
   "metadata": {},
   "outputs": [
    {
     "data": {
      "text/plain": [
       "Dict{Char, Int64} with 4 entries:\n",
       "  'x' => 1\n",
       "  'a' => 3\n",
       "  's' => 4\n",
       "  'm' => 2"
      ]
     },
     "execution_count": 9,
     "metadata": {},
     "output_type": "execute_result"
    }
   ],
   "source": [
    "const MAPPING = Dict(\n",
    "    'x' => 1,\n",
    "    'm' => 2,\n",
    "    'a' => 3,\n",
    "    's' => 4\n",
    ")"
   ]
  },
  {
   "cell_type": "code",
   "execution_count": 10,
   "metadata": {},
   "outputs": [
    {
     "data": {
      "text/plain": [
       "preprocessing (generic function with 1 method)"
      ]
     },
     "execution_count": 10,
     "metadata": {},
     "output_type": "execute_result"
    }
   ],
   "source": [
    "function preprocessing(input)\n",
    "    i = 1\n",
    "    while input[i] != \"\"\n",
    "        i += 1\n",
    "    end\n",
    "\n",
    "    rules = input[1:i-1]\n",
    "    messages = input[i+1:end]\n",
    "    rules_dict = Dict{String,Vector{Rule}}()\n",
    "\n",
    "    for rule in rules\n",
    "        key, value = split(rule, \"{\")\n",
    "        parts = split(value[1:end-1], \",\")\n",
    "        rules_dict[key] = map(parts) do part\n",
    "            if occursin(\":\", part)\n",
    "                expr, value = split(part, \":\")\n",
    "                value = string(value)\n",
    "                if occursin(\"<\", expr)\n",
    "                    Rule(MAPPING[expr[1]], 1, parse(Int, expr[3:end]), value)\n",
    "                else\n",
    "                    Rule(MAPPING[expr[1]], 0, parse(Int, expr[3:end]), value)\n",
    "                end\n",
    "            else\n",
    "                Rule(1, 0, 0, part)\n",
    "            end\n",
    "        end\n",
    "    end\n",
    "\n",
    "    parsed_messages = map(messages) do message\n",
    "        parse.(Int, match(r\"{x=(\\d+),m=(\\d+),a=(\\d+),s=(\\d+)}\", message).captures)\n",
    "    end\n",
    "\n",
    "    rules_dict, parsed_messages\n",
    "end"
   ]
  },
  {
   "cell_type": "code",
   "execution_count": 11,
   "metadata": {},
   "outputs": [
    {
     "data": {
      "text/plain": [
       "part_one (generic function with 1 method)"
      ]
     },
     "execution_count": 11,
     "metadata": {},
     "output_type": "execute_result"
    }
   ],
   "source": [
    "function part_one(input)\n",
    "    rules_dict, messages = preprocessing(input)\n",
    "\n",
    "    ans = 0\n",
    "    for msg in messages\n",
    "        curr = \"in\"\n",
    "        while curr != \"A\" && curr != \"R\"\n",
    "            rules = rules_dict[curr]\n",
    "            for rule in rules\n",
    "                if (rule.islt && msg[rule.index] < rule.threshold) ||\n",
    "                    (!rule.islt && msg[rule.index] > rule.threshold)\n",
    "                    curr = rule.destination\n",
    "                    break\n",
    "                end\n",
    "            end\n",
    "        end\n",
    "\n",
    "        if curr == \"A\"\n",
    "            ans += sum(msg)\n",
    "        end\n",
    "    end\n",
    "\n",
    "    ans\n",
    "end"
   ]
  },
  {
   "cell_type": "code",
   "execution_count": 12,
   "metadata": {},
   "outputs": [
    {
     "data": {
      "text/plain": [
       "19114"
      ]
     },
     "execution_count": 12,
     "metadata": {},
     "output_type": "execute_result"
    }
   ],
   "source": [
    "part_one(parsed_sample)"
   ]
  },
  {
   "cell_type": "code",
   "execution_count": 13,
   "metadata": {},
   "outputs": [
    {
     "data": {
      "text/plain": [
       "472630"
      ]
     },
     "execution_count": 13,
     "metadata": {},
     "output_type": "execute_result"
    }
   ],
   "source": [
    "part_one_ans = part_one(parsed_input)"
   ]
  },
  {
   "cell_type": "code",
   "execution_count": 14,
   "metadata": {},
   "outputs": [
    {
     "data": {
      "text/plain": [
       "\"<!DOCTYPE html>\\n<html lang=\\\"en-us\\\">\\n<head>\\n<meta charset=\\\"utf-8\\\"/>\\n<title>Day 19 - Advent of Code 2023</title>\\n<link rel=\\\"stylesheet\\\" type=\\\"text/css\\\" href=\\\"/static/style.css?31\\\"/>\\n<link rel=\\\"stylesheet alternate\\\" type=\\\"text/css\\\" href=\\\"/static/highcontrast.css?1\\\" title=\\\"\"\u001b[93m\u001b[1m ⋯ 3187 bytes ⋯ \u001b[22m\u001b[39m\"Name(o)[0];a.async=1;a.src=g;m.parentNode.insertBefore(a,m)\\n})(window,document,'script','//www.google-analytics.com/analytics.js','ga');\\nga('create', 'UA-69522494-1', 'auto');\\nga('set', 'anonymizeIp', true);\\nga('send', 'pageview');\\n</script>\\n<!-- /ga -->\\n</body>\\n</html>\""
      ]
     },
     "execution_count": 14,
     "metadata": {},
     "output_type": "execute_result"
    }
   ],
   "source": [
    "submit_answer(year, day, part_one_ans)"
   ]
  },
  {
   "cell_type": "code",
   "execution_count": 15,
   "metadata": {},
   "outputs": [
    {
     "data": {
      "text/plain": [
       "part_two (generic function with 1 method)"
      ]
     },
     "execution_count": 15,
     "metadata": {},
     "output_type": "execute_result"
    }
   ],
   "source": [
    "function part_two(input; lowerbound=1, upperbound=4001)\n",
    "    rules_dict, _ = preprocessing(input)\n",
    "    ans = 0\n",
    "\n",
    "    function dfs(ranges, curr)\n",
    "        if prod([length(r) - 1 for r in ranges]) == 0\n",
    "            return\n",
    "        end\n",
    "\n",
    "        if curr == \"A\"\n",
    "            ans += prod([length(r) - 1 for r in ranges])\n",
    "            return\n",
    "        end\n",
    "\n",
    "        if curr == \"R\"\n",
    "            return\n",
    "        end\n",
    "\n",
    "        rules = rules_dict[curr]\n",
    "        for rule in rules\n",
    "            nxt = deepcopy(ranges)\n",
    "            if rule.islt\n",
    "                nxt[rule.index] = intersect(ranges[rule.index], lowerbound:rule.threshold)\n",
    "                dfs(nxt, rule.destination)\n",
    "                ranges[rule.index] = intersect(ranges[rule.index], rule.threshold:upperbound)\n",
    "            else\n",
    "                nxt[rule.index] = intersect(ranges[rule.index], rule.threshold+1:upperbound)\n",
    "                dfs(nxt, rule.destination)\n",
    "                ranges[rule.index] = intersect(ranges[rule.index], lowerbound:rule.threshold+1)\n",
    "            end\n",
    "        end\n",
    "    end\n",
    "\n",
    "    dfs(fill(lowerbound:upperbound, 4), \"in\")\n",
    "\n",
    "    ans\n",
    "end"
   ]
  },
  {
   "cell_type": "code",
   "execution_count": 16,
   "metadata": {},
   "outputs": [
    {
     "data": {
      "text/plain": [
       "167409079868000"
      ]
     },
     "execution_count": 16,
     "metadata": {},
     "output_type": "execute_result"
    }
   ],
   "source": [
    "part_two(parsed_sample)"
   ]
  },
  {
   "cell_type": "code",
   "execution_count": 17,
   "metadata": {},
   "outputs": [
    {
     "data": {
      "text/plain": [
       "116738260946855"
      ]
     },
     "execution_count": 17,
     "metadata": {},
     "output_type": "execute_result"
    }
   ],
   "source": [
    "part_two_ans = part_two(parsed_input)"
   ]
  },
  {
   "cell_type": "code",
   "execution_count": 18,
   "metadata": {},
   "outputs": [
    {
     "data": {
      "text/plain": [
       "\"<!DOCTYPE html>\\n<html lang=\\\"en-us\\\">\\n<head>\\n<meta charset=\\\"utf-8\\\"/>\\n<title>Day 19 - Advent of Code 2023</title>\\n<link rel=\\\"stylesheet\\\" type=\\\"text/css\\\" href=\\\"/static/style.css?31\\\"/>\\n<link rel=\\\"stylesheet alternate\\\" type=\\\"text/css\\\" href=\\\"/static/highcontrast.css?1\\\" title=\\\"\"\u001b[93m\u001b[1m ⋯ 3141 bytes ⋯ \u001b[22m\u001b[39m\"Name(o)[0];a.async=1;a.src=g;m.parentNode.insertBefore(a,m)\\n})(window,document,'script','//www.google-analytics.com/analytics.js','ga');\\nga('create', 'UA-69522494-1', 'auto');\\nga('set', 'anonymizeIp', true);\\nga('send', 'pageview');\\n</script>\\n<!-- /ga -->\\n</body>\\n</html>\""
      ]
     },
     "execution_count": 18,
     "metadata": {},
     "output_type": "execute_result"
    }
   ],
   "source": [
    "submit_answer(year, day, part_two_ans, 2)"
   ]
  }
 ],
 "metadata": {
  "kernelspec": {
   "display_name": "julia 1.10.0-rc1",
   "language": "julia",
   "name": "julia-1.10"
  },
  "language_info": {
   "file_extension": ".jl",
   "mimetype": "application/julia",
   "name": "julia",
   "version": "1.10.0"
  },
  "orig_nbformat": 4,
  "vscode": {
   "interpreter": {
    "hash": "2decbbcdbe1b404b08c0c2ae8935a58886fd60ea7dad56cfc87e2a14f377e9ba"
   }
  }
 },
 "nbformat": 4,
 "nbformat_minor": 2
}
