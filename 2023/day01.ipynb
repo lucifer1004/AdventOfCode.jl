{
 "cells": [
  {
   "cell_type": "code",
   "execution_count": 1,
   "metadata": {},
   "outputs": [
    {
     "name": "stderr",
     "output_type": "stream",
     "text": [
      "\u001b[32m\u001b[1m  Activating\u001b[22m\u001b[39m project at `~/com.github/lucifer1004/AdventOfCode.jl`\n"
     ]
    }
   ],
   "source": [
    "import Pkg; Pkg.activate(\"..\")"
   ]
  },
  {
   "cell_type": "code",
   "execution_count": 2,
   "metadata": {},
   "outputs": [],
   "source": [
    "using AdventOfCode"
   ]
  },
  {
   "cell_type": "code",
   "execution_count": 3,
   "metadata": {},
   "outputs": [
    {
     "data": {
      "text/plain": [
       "1"
      ]
     },
     "execution_count": 3,
     "metadata": {},
     "output_type": "execute_result"
    }
   ],
   "source": [
    "year = 2023\n",
    "day = 1"
   ]
  },
  {
   "cell_type": "code",
   "execution_count": 4,
   "metadata": {},
   "outputs": [
    {
     "data": {
      "text/plain": [
       "\"46threevqs8114\\nthreetwoonez1gtrd\\n6ffxbtff\\n769twotwo6rv9\\ngjrcjrkvghthreegqqrg82qbct\\nzkxjhgprtrlcfeight795five8\\n99seven3vdcgvmvxtjtwodc5\\nthree5eightthree3four3vtkkqrgxs\\nfour863mrrnrsxrkone\\nsevenntgvnrrqfvxh2ttnkgffour8fiveone\\n49fbsfb\\n3rbmlsksg\\nztgszqjjsrtmgqx6572\\n3bqnfxkd\"\u001b[93m\u001b[1m ⋯ 20989 bytes ⋯ \u001b[22m\u001b[39m\"fqzdxnhxkxgmnqmdjmxmdc35\\n4sevenqnhvszlfour\\nseightwozbjkfsgk5three1tcpbshgfzeightfive\\nfourgxmqgpgbtwo4\\n4nine9\\ntwokfvsvfgdtmtwom2xlkjseven\\n9one43ninedrtznff\\nzlfive98rfpmnsevennljlhbxhcn\\nlmfgxfdsevenchrkbhxlrrssbcqqf7fivectglcvrsrg8\\n6twofive3two\\nmchm6\\nmbvtbcjvv33rqfsllshb\""
      ]
     },
     "execution_count": 4,
     "metadata": {},
     "output_type": "execute_result"
    }
   ],
   "source": [
    "input = get_input(year, day)"
   ]
  },
  {
   "cell_type": "code",
   "execution_count": 5,
   "metadata": {},
   "outputs": [
    {
     "data": {
      "text/plain": [
       "1000-element Vector{SubString{String}}:\n",
       " \"46threevqs8114\"\n",
       " \"threetwoonez1gtrd\"\n",
       " \"6ffxbtff\"\n",
       " \"769twotwo6rv9\"\n",
       " \"gjrcjrkvghthreegqqrg82qbct\"\n",
       " \"zkxjhgprtrlcfeight795five8\"\n",
       " \"99seven3vdcgvmvxtjtwodc5\"\n",
       " \"three5eightthree3four3vtkkqrgxs\"\n",
       " \"four863mrrnrsxrkone\"\n",
       " \"sevenntgvnrrqfvxh2ttnkgffour8fiveone\"\n",
       " \"49fbsfb\"\n",
       " \"3rbmlsksg\"\n",
       " \"ztgszqjjsrtmgqx6572\"\n",
       " ⋮\n",
       " \"fiveeightsevenseventfqzdxnhxkxgmnqmdjmxmdc35\"\n",
       " \"4sevenqnhvszlfour\"\n",
       " \"seightwozbjkfsgk5three1tcpbshgfzeightfive\"\n",
       " \"fourgxmqgpgbtwo4\"\n",
       " \"4nine9\"\n",
       " \"twokfvsvfgdtmtwom2xlkjseven\"\n",
       " \"9one43ninedrtznff\"\n",
       " \"zlfive98rfpmnsevennljlhbxhcn\"\n",
       " \"lmfgxfdsevenchrkbhxlrrssbcqqf7fivectglcvrsrg8\"\n",
       " \"6twofive3two\"\n",
       " \"mchm6\"\n",
       " \"mbvtbcjvv33rqfsllshb\""
      ]
     },
     "execution_count": 5,
     "metadata": {},
     "output_type": "execute_result"
    }
   ],
   "source": [
    "parsed_input = parse_input(input)"
   ]
  },
  {
   "cell_type": "code",
   "execution_count": 6,
   "metadata": {},
   "outputs": [
    {
     "data": {
      "text/plain": [
       "\"1abc2\\npqr3stu8vwx\\na1b2c3d4e5f\\ntreb7uchet\""
      ]
     },
     "execution_count": 6,
     "metadata": {},
     "output_type": "execute_result"
    }
   ],
   "source": [
    "sample = \"\"\"1abc2\n",
    "pqr3stu8vwx\n",
    "a1b2c3d4e5f\n",
    "treb7uchet\"\"\""
   ]
  },
  {
   "cell_type": "code",
   "execution_count": 7,
   "metadata": {},
   "outputs": [
    {
     "data": {
      "text/plain": [
       "4-element Vector{SubString{String}}:\n",
       " \"1abc2\"\n",
       " \"pqr3stu8vwx\"\n",
       " \"a1b2c3d4e5f\"\n",
       " \"treb7uchet\""
      ]
     },
     "execution_count": 7,
     "metadata": {},
     "output_type": "execute_result"
    }
   ],
   "source": [
    "parsed_sample = parse_input(sample)"
   ]
  },
  {
   "cell_type": "code",
   "execution_count": 8,
   "metadata": {},
   "outputs": [],
   "source": [
    "DICT_ONE = Dict([string(i) => i for i in 1:9]...)\n",
    "DICT_TWO = Dict(\n",
    "    \"one\" => 1,\n",
    "    \"two\" => 2,\n",
    "    \"three\" => 3,\n",
    "    \"four\" => 4,\n",
    "    \"five\" => 5,\n",
    "    \"six\" => 6,\n",
    "    \"seven\" => 7,\n",
    "    \"eight\" => 8,\n",
    "    \"nine\" => 9,\n",
    "    DICT_ONE...\n",
    ");"
   ]
  },
  {
   "cell_type": "code",
   "execution_count": 9,
   "metadata": {},
   "outputs": [
    {
     "data": {
      "text/plain": [
       "solve (generic function with 1 method)"
      ]
     },
     "execution_count": 9,
     "metadata": {},
     "output_type": "execute_result"
    }
   ],
   "source": [
    "function solve(input, dict)\n",
    "    input = string(input)\n",
    "    left = minimum(findfirst(key, input) for key in keys(dict) if occursin(key, input))\n",
    "    right = maximum(findlast(key, input) for key in keys(dict) if occursin(key, input))\n",
    "    return dict[input[left]] * 10 + dict[input[right]]\n",
    "end"
   ]
  },
  {
   "cell_type": "code",
   "execution_count": 10,
   "metadata": {},
   "outputs": [
    {
     "data": {
      "text/plain": [
       "part_one (generic function with 1 method)"
      ]
     },
     "execution_count": 10,
     "metadata": {},
     "output_type": "execute_result"
    }
   ],
   "source": [
    "function part_one(input)\n",
    "\treturn sum(map(x -> solve(x, DICT_ONE), input))\n",
    "end"
   ]
  },
  {
   "cell_type": "code",
   "execution_count": 11,
   "metadata": {},
   "outputs": [
    {
     "data": {
      "text/plain": [
       "142"
      ]
     },
     "execution_count": 11,
     "metadata": {},
     "output_type": "execute_result"
    }
   ],
   "source": [
    "part_one(parsed_sample)"
   ]
  },
  {
   "cell_type": "code",
   "execution_count": 12,
   "metadata": {},
   "outputs": [
    {
     "data": {
      "text/plain": [
       "53194"
      ]
     },
     "execution_count": 12,
     "metadata": {},
     "output_type": "execute_result"
    }
   ],
   "source": [
    "part_one_ans = part_one(parsed_input)"
   ]
  },
  {
   "cell_type": "code",
   "execution_count": 13,
   "metadata": {},
   "outputs": [
    {
     "data": {
      "text/plain": [
       "\"<!DOCTYPE html>\\n<html lang=\\\"en-us\\\">\\n<head>\\n<meta charset=\\\"utf-8\\\"/>\\n<title>Day 1 - Advent of Code 2023</title>\\n<link rel=\\\"stylesheet\\\" type=\\\"text/css\\\" href=\\\"/static/style.css?31\\\"/>\\n<link rel=\\\"stylesheet alternate\\\" type=\\\"text/css\\\" href=\\\"/static/highcontrast.css?1\\\" title=\\\"H\"\u001b[93m\u001b[1m ⋯ 3296 bytes ⋯ \u001b[22m\u001b[39m\"Name(o)[0];a.async=1;a.src=g;m.parentNode.insertBefore(a,m)\\n})(window,document,'script','//www.google-analytics.com/analytics.js','ga');\\nga('create', 'UA-69522494-1', 'auto');\\nga('set', 'anonymizeIp', true);\\nga('send', 'pageview');\\n</script>\\n<!-- /ga -->\\n</body>\\n</html>\""
      ]
     },
     "execution_count": 13,
     "metadata": {},
     "output_type": "execute_result"
    }
   ],
   "source": [
    "submit_answer(year, day, part_one_ans)"
   ]
  },
  {
   "cell_type": "code",
   "execution_count": 14,
   "metadata": {},
   "outputs": [
    {
     "data": {
      "text/plain": [
       "\"two1nine\\neightwothree\\nabcone2threexyz\\nxtwone3four\\n4nineeightseven2\\nzoneight234\\n7pqrstsixteen\""
      ]
     },
     "execution_count": 14,
     "metadata": {},
     "output_type": "execute_result"
    }
   ],
   "source": [
    "sample2 = \"\"\"two1nine\n",
    "eightwothree\n",
    "abcone2threexyz\n",
    "xtwone3four\n",
    "4nineeightseven2\n",
    "zoneight234\n",
    "7pqrstsixteen\"\"\""
   ]
  },
  {
   "cell_type": "code",
   "execution_count": 15,
   "metadata": {},
   "outputs": [
    {
     "data": {
      "text/plain": [
       "7-element Vector{SubString{String}}:\n",
       " \"two1nine\"\n",
       " \"eightwothree\"\n",
       " \"abcone2threexyz\"\n",
       " \"xtwone3four\"\n",
       " \"4nineeightseven2\"\n",
       " \"zoneight234\"\n",
       " \"7pqrstsixteen\""
      ]
     },
     "execution_count": 15,
     "metadata": {},
     "output_type": "execute_result"
    }
   ],
   "source": [
    "parsed_sample2 = parse_input(sample2)"
   ]
  },
  {
   "cell_type": "code",
   "execution_count": 16,
   "metadata": {},
   "outputs": [
    {
     "data": {
      "text/plain": [
       "part_two (generic function with 1 method)"
      ]
     },
     "execution_count": 16,
     "metadata": {},
     "output_type": "execute_result"
    }
   ],
   "source": [
    "function part_two(input)\n",
    "    return sum(map(x -> solve(x, DICT_TWO), input))\n",
    "end"
   ]
  },
  {
   "cell_type": "code",
   "execution_count": 17,
   "metadata": {},
   "outputs": [
    {
     "data": {
      "text/plain": [
       "281"
      ]
     },
     "execution_count": 17,
     "metadata": {},
     "output_type": "execute_result"
    }
   ],
   "source": [
    "part_two(parsed_sample2)"
   ]
  },
  {
   "cell_type": "code",
   "execution_count": 18,
   "metadata": {},
   "outputs": [
    {
     "data": {
      "text/plain": [
       "54249"
      ]
     },
     "execution_count": 18,
     "metadata": {},
     "output_type": "execute_result"
    }
   ],
   "source": [
    "part_two_ans = part_two(parsed_input)"
   ]
  },
  {
   "cell_type": "code",
   "execution_count": 19,
   "metadata": {},
   "outputs": [
    {
     "data": {
      "text/plain": [
       "\"<!DOCTYPE html>\\n<html lang=\\\"en-us\\\">\\n<head>\\n<meta charset=\\\"utf-8\\\"/>\\n<title>Day 1 - Advent of Code 2023</title>\\n<link rel=\\\"stylesheet\\\" type=\\\"text/css\\\" href=\\\"/static/style.css?31\\\"/>\\n<link rel=\\\"stylesheet alternate\\\" type=\\\"text/css\\\" href=\\\"/static/highcontrast.css?1\\\" title=\\\"H\"\u001b[93m\u001b[1m ⋯ 3260 bytes ⋯ \u001b[22m\u001b[39m\"Name(o)[0];a.async=1;a.src=g;m.parentNode.insertBefore(a,m)\\n})(window,document,'script','//www.google-analytics.com/analytics.js','ga');\\nga('create', 'UA-69522494-1', 'auto');\\nga('set', 'anonymizeIp', true);\\nga('send', 'pageview');\\n</script>\\n<!-- /ga -->\\n</body>\\n</html>\""
      ]
     },
     "execution_count": 19,
     "metadata": {},
     "output_type": "execute_result"
    }
   ],
   "source": [
    "submit_answer(year, day, part_two_ans, 2)"
   ]
  }
 ],
 "metadata": {
  "kernelspec": {
   "display_name": "julia 1.10.0-rc1",
   "language": "julia",
   "name": "julia-1.10"
  },
  "language_info": {
   "file_extension": ".jl",
   "mimetype": "application/julia",
   "name": "julia",
   "version": "1.10.0"
  },
  "vscode": {
   "interpreter": {
    "hash": "2decbbcdbe1b404b08c0c2ae8935a58886fd60ea7dad56cfc87e2a14f377e9ba"
   }
  }
 },
 "nbformat": 4,
 "nbformat_minor": 4
}
