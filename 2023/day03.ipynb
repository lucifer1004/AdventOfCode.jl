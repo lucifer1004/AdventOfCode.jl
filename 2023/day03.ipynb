{
 "cells": [
  {
   "cell_type": "code",
   "execution_count": 1,
   "metadata": {},
   "outputs": [
    {
     "name": "stderr",
     "output_type": "stream",
     "text": [
      "\u001b[32m\u001b[1m  Activating\u001b[22m\u001b[39m project at `~/com.github/lucifer1004/AdventOfCode.jl`\n"
     ]
    }
   ],
   "source": [
    "import Pkg; Pkg.activate(\"..\")"
   ]
  },
  {
   "cell_type": "code",
   "execution_count": 2,
   "metadata": {},
   "outputs": [],
   "source": [
    "using AdventOfCode, JSON3, LinearAlgebra, Combinatorics, DataStructures, Graphs, GraphPlot, IterTools, Mods, MLStyle, Pipe"
   ]
  },
  {
   "cell_type": "code",
   "execution_count": 3,
   "metadata": {},
   "outputs": [
    {
     "data": {
      "text/plain": [
       "3"
      ]
     },
     "execution_count": 3,
     "metadata": {},
     "output_type": "execute_result"
    }
   ],
   "source": [
    "year = 2023\n",
    "day = 3"
   ]
  },
  {
   "cell_type": "code",
   "execution_count": 4,
   "metadata": {},
   "outputs": [
    {
     "data": {
      "text/plain": [
       "\".......497...........................858...923...128..................227..801........487.....664...........................................\\n436........765..............140.......+....................859.............*.........+.................960........668............\"\u001b[93m\u001b[1m ⋯ 19200 bytes ⋯ \u001b[22m\u001b[39m\"......*...\\$.654.....+.........*........................84.*....7...231.\\$102.......286.......*760....817.......719.........*.....\\n..................620............806......866.................559......440...........................310...........................590..547.\""
      ]
     },
     "execution_count": 4,
     "metadata": {},
     "output_type": "execute_result"
    }
   ],
   "source": [
    "input = get_input(year, day)"
   ]
  },
  {
   "cell_type": "code",
   "execution_count": 5,
   "metadata": {},
   "outputs": [
    {
     "data": {
      "text/plain": [
       "140-element Vector{String}:\n",
       " \".......497.....................\"\u001b[93m\u001b[1m ⋯ 78 bytes ⋯ \u001b[22m\u001b[39m\"...............................\"\n",
       " \"436........765..............140\"\u001b[93m\u001b[1m ⋯ 78 bytes ⋯ \u001b[22m\u001b[39m\".....668.......................\"\n",
       " \"...*982...........=..........=.\"\u001b[93m\u001b[1m ⋯ 78 bytes ⋯ \u001b[22m\u001b[39m\"575....................13......\"\n",
       " \".............114...588.........\"\u001b[93m\u001b[1m ⋯ 78 bytes ⋯ \u001b[22m\u001b[39m\"=...706......*333.........595..\"\n",
       " \"...194.........*..............7\"\u001b[93m\u001b[1m ⋯ 78 bytes ⋯ \u001b[22m\u001b[39m\".....*....664..................\"\n",
       " \"...*.....807..452....81........\"\u001b[93m\u001b[1m ⋯ 78 bytes ⋯ \u001b[22m\u001b[39m\"7.728...............566...13...\"\n",
       " \".243........*.....80.......329.\"\u001b[93m\u001b[1m ⋯ 78 bytes ⋯ \u001b[22m\u001b[39m\"...........%.....*....*....*...\"\n",
       " \".........130......*....385*....\"\u001b[93m\u001b[1m ⋯ 78 bytes ⋯ \u001b[22m\u001b[39m\"....978....920...266..380.83...\"\n",
       " \".....323........870.........+..\"\u001b[93m\u001b[1m ⋯ 78 bytes ⋯ \u001b[22m\u001b[39m\"....*..........................\"\n",
       " \"........*.=..............588...\"\u001b[93m\u001b[1m ⋯ 78 bytes ⋯ \u001b[22m\u001b[39m\"..606....*863.......916..396...\"\n",
       " \".....538...287................3\"\u001b[93m\u001b[1m ⋯ 78 bytes ⋯ \u001b[22m\u001b[39m\"......218.....721........*.....\"\n",
       " \"...............986.........=...\"\u001b[93m\u001b[1m ⋯ 78 bytes ⋯ \u001b[22m\u001b[39m\".............#.........437.....\"\n",
       " \"......*3.........*.626.68...419\"\u001b[93m\u001b[1m ⋯ 78 bytes ⋯ \u001b[22m\u001b[39m\"735.............=488...........\"\n",
       " ⋮\n",
       " \"..............175............97\"\u001b[93m\u001b[1m ⋯ 78 bytes ⋯ \u001b[22m\u001b[39m\"......................*........\"\n",
       " \"...426..............335*.......\"\u001b[93m\u001b[1m ⋯ 78 bytes ⋯ \u001b[22m\u001b[39m\"......253...337....617..717....\"\n",
       " \"...+....908.............489....\"\u001b[93m\u001b[1m ⋯ 78 bytes ⋯ \u001b[22m\u001b[39m\"./.......*................\\$....\"\n",
       " \".........%..90.................\"\u001b[93m\u001b[1m ⋯ 78 bytes ⋯ \u001b[22m\u001b[39m\".588.....884....871.801........\"\n",
       " \"494@..........*..33...........*\"\u001b[93m\u001b[1m ⋯ 78 bytes ⋯ \u001b[22m\u001b[39m\"................*....*..131.603\"\n",
       " \".....50..481.........=.....643.\"\u001b[93m\u001b[1m ⋯ 78 bytes ⋯ \u001b[22m\u001b[39m\"256*11.377\\$....872.903.*.......\"\n",
       " \".....*...............635.......\"\u001b[93m\u001b[1m ⋯ 78 bytes ⋯ \u001b[22m\u001b[39m\"............*..........377.132.\"\n",
       " \"...502........883............/.\"\u001b[93m\u001b[1m ⋯ 78 bytes ⋯ \u001b[22m\u001b[39m\".........584...................\"\n",
       " \".............*..............893\"\u001b[93m\u001b[1m ⋯ 78 bytes ⋯ \u001b[22m\u001b[39m\"834............4...............\"\n",
       " \".....+....234...904.323..=.....\"\u001b[93m\u001b[1m ⋯ 78 bytes ⋯ \u001b[22m\u001b[39m\"..*............*........932....\"\n",
       " \"...594............*...\\$.654....\"\u001b[93m\u001b[1m ⋯ 78 bytes ⋯ \u001b[22m\u001b[39m\"...817.......719.........*.....\"\n",
       " \"..................620..........\"\u001b[93m\u001b[1m ⋯ 78 bytes ⋯ \u001b[22m\u001b[39m\"......................590..547.\""
      ]
     },
     "execution_count": 5,
     "metadata": {},
     "output_type": "execute_result"
    }
   ],
   "source": [
    "parsed_input = parse_input(input)"
   ]
  },
  {
   "cell_type": "code",
   "execution_count": 6,
   "metadata": {},
   "outputs": [
    {
     "data": {
      "text/plain": [
       "\"467..114..\\n...*......\\n..35..633.\\n......#...\\n617*......\\n.....+.58.\\n..592.....\\n......755.\\n...\\$.*....\\n.664.598..\""
      ]
     },
     "execution_count": 6,
     "metadata": {},
     "output_type": "execute_result"
    }
   ],
   "source": [
    "sample = raw\"\"\"467..114..\n",
    "...*......\n",
    "..35..633.\n",
    "......#...\n",
    "617*......\n",
    ".....+.58.\n",
    "..592.....\n",
    "......755.\n",
    "...$.*....\n",
    ".664.598..\"\"\""
   ]
  },
  {
   "cell_type": "code",
   "execution_count": 7,
   "metadata": {},
   "outputs": [
    {
     "data": {
      "text/plain": [
       "10-element Vector{String}:\n",
       " \"467..114..\"\n",
       " \"...*......\"\n",
       " \"..35..633.\"\n",
       " \"......#...\"\n",
       " \"617*......\"\n",
       " \".....+.58.\"\n",
       " \"..592.....\"\n",
       " \"......755.\"\n",
       " \"...\\$.*....\"\n",
       " \".664.598..\""
      ]
     },
     "execution_count": 7,
     "metadata": {},
     "output_type": "execute_result"
    }
   ],
   "source": [
    "parsed_sample = parse_input(sample)"
   ]
  },
  {
   "cell_type": "code",
   "execution_count": 8,
   "metadata": {},
   "outputs": [
    {
     "data": {
      "text/plain": [
       "solve (generic function with 1 method)"
      ]
     },
     "execution_count": 8,
     "metadata": {},
     "output_type": "execute_result"
    }
   ],
   "source": [
    "function solve(input)\n",
    "    n = length(input)\n",
    "    m = length(input[1])\n",
    "    tot = 0\n",
    "    nums = []\n",
    "    adj = []\n",
    "    for i in 1:n\n",
    "        l = 1\n",
    "        while l <= m\n",
    "            if !isnumeric(input[i][l])\n",
    "                l += 1\n",
    "            else\n",
    "                r = l\n",
    "                while r + 1 <= m && isnumeric(input[i][r + 1])\n",
    "                    r += 1\n",
    "                end\n",
    "                num = parse(Int, input[i][l:r])\n",
    "                adjrow = max(1, i - 1):min(n, i + 1)\n",
    "                adjcol = max(1, l - 1):min(m, r + 1)\n",
    "                found = false\n",
    "                for j in adjrow\n",
    "                    for k in adjcol\n",
    "                        if input[j][k] != '.' && !isnumeric(input[j][k])\n",
    "                            push!(nums, num)\n",
    "                            push!(adj, (j, k, input[j][k]))\n",
    "                            found = true\n",
    "                            break\n",
    "                        end\n",
    "                    end\n",
    "                    if found\n",
    "                        break\n",
    "                    end\n",
    "                end\n",
    "                l = r + 1\n",
    "            end\n",
    "        end\n",
    "    end\n",
    "\n",
    "    nums, adj\n",
    "end"
   ]
  },
  {
   "cell_type": "code",
   "execution_count": 9,
   "metadata": {},
   "outputs": [
    {
     "data": {
      "text/plain": [
       "part_one (generic function with 1 method)"
      ]
     },
     "execution_count": 9,
     "metadata": {},
     "output_type": "execute_result"
    }
   ],
   "source": [
    "function part_one(input)\n",
    "    nums, adj = solve(input)\n",
    "    sum(nums)\n",
    "end"
   ]
  },
  {
   "cell_type": "code",
   "execution_count": 10,
   "metadata": {},
   "outputs": [
    {
     "data": {
      "text/plain": [
       "4361"
      ]
     },
     "execution_count": 10,
     "metadata": {},
     "output_type": "execute_result"
    }
   ],
   "source": [
    "part_one(parsed_sample)"
   ]
  },
  {
   "cell_type": "code",
   "execution_count": 11,
   "metadata": {},
   "outputs": [
    {
     "data": {
      "text/plain": [
       "540131"
      ]
     },
     "execution_count": 11,
     "metadata": {},
     "output_type": "execute_result"
    }
   ],
   "source": [
    "part_one_ans = part_one(parsed_input)"
   ]
  },
  {
   "cell_type": "code",
   "execution_count": 12,
   "metadata": {},
   "outputs": [
    {
     "data": {
      "text/plain": [
       "\"<!DOCTYPE html>\\n<html lang=\\\"en-us\\\">\\n<head>\\n<meta charset=\\\"utf-8\\\"/>\\n<title>Day 3 - Advent of Code 2023</title>\\n<link rel=\\\"stylesheet\\\" type=\\\"text/css\\\" href=\\\"/static/style.css?31\\\"/>\\n<link rel=\\\"stylesheet alternate\\\" type=\\\"text/css\\\" href=\\\"/static/highcontrast.css?1\\\" title=\\\"H\"\u001b[93m\u001b[1m ⋯ 3273 bytes ⋯ \u001b[22m\u001b[39m\"Name(o)[0];a.async=1;a.src=g;m.parentNode.insertBefore(a,m)\\n})(window,document,'script','//www.google-analytics.com/analytics.js','ga');\\nga('create', 'UA-69522494-1', 'auto');\\nga('set', 'anonymizeIp', true);\\nga('send', 'pageview');\\n</script>\\n<!-- /ga -->\\n</body>\\n</html>\""
      ]
     },
     "execution_count": 12,
     "metadata": {},
     "output_type": "execute_result"
    }
   ],
   "source": [
    "submit_answer(year, day, part_one_ans)"
   ]
  },
  {
   "cell_type": "code",
   "execution_count": 13,
   "metadata": {},
   "outputs": [
    {
     "data": {
      "text/plain": [
       "part_two (generic function with 1 method)"
      ]
     },
     "execution_count": 13,
     "metadata": {},
     "output_type": "execute_result"
    }
   ],
   "source": [
    "function part_two(input)\n",
    "    nums, adj = solve(input)\n",
    "    cnt = Dict()\n",
    "    for (i, j, c) in adj\n",
    "        if c == '*'\n",
    "            cnt[(i, j)] = get(cnt, (i, j), 0) + 1\n",
    "        end\n",
    "    end\n",
    "\n",
    "    d = Dict()\n",
    "    for (idx, (i, j, c)) in enumerate(adj)\n",
    "        if c == '*' && get(cnt, (i, j), 0) == 2\n",
    "            d[(i, j)] = get(d, (i, j), 1) * nums[idx]\n",
    "        end\n",
    "    end\n",
    "\n",
    "    sum(values(d))\n",
    "end"
   ]
  },
  {
   "cell_type": "code",
   "execution_count": 14,
   "metadata": {},
   "outputs": [
    {
     "data": {
      "text/plain": [
       "467835"
      ]
     },
     "execution_count": 14,
     "metadata": {},
     "output_type": "execute_result"
    }
   ],
   "source": [
    "part_two(parsed_sample)"
   ]
  },
  {
   "cell_type": "code",
   "execution_count": 15,
   "metadata": {},
   "outputs": [
    {
     "data": {
      "text/plain": [
       "86879020"
      ]
     },
     "execution_count": 15,
     "metadata": {},
     "output_type": "execute_result"
    }
   ],
   "source": [
    "part_two_ans = part_two(parsed_input)"
   ]
  },
  {
   "cell_type": "code",
   "execution_count": 16,
   "metadata": {},
   "outputs": [
    {
     "data": {
      "text/plain": [
       "\"<!DOCTYPE html>\\n<html lang=\\\"en-us\\\">\\n<head>\\n<meta charset=\\\"utf-8\\\"/>\\n<title>Day 3 - Advent of Code 2023</title>\\n<link rel=\\\"stylesheet\\\" type=\\\"text/css\\\" href=\\\"/static/style.css?31\\\"/>\\n<link rel=\\\"stylesheet alternate\\\" type=\\\"text/css\\\" href=\\\"/static/highcontrast.css?1\\\" title=\\\"H\"\u001b[93m\u001b[1m ⋯ 3283 bytes ⋯ \u001b[22m\u001b[39m\"Name(o)[0];a.async=1;a.src=g;m.parentNode.insertBefore(a,m)\\n})(window,document,'script','//www.google-analytics.com/analytics.js','ga');\\nga('create', 'UA-69522494-1', 'auto');\\nga('set', 'anonymizeIp', true);\\nga('send', 'pageview');\\n</script>\\n<!-- /ga -->\\n</body>\\n</html>\""
      ]
     },
     "execution_count": 16,
     "metadata": {},
     "output_type": "execute_result"
    }
   ],
   "source": [
    "submit_answer(year, day, part_two_ans, 2)"
   ]
  }
 ],
 "metadata": {
  "kernelspec": {
   "display_name": "julia 1.10.0-rc1",
   "language": "julia",
   "name": "julia-1.10"
  },
  "language_info": {
   "file_extension": ".jl",
   "mimetype": "application/julia",
   "name": "julia",
   "version": "1.10.0"
  },
  "vscode": {
   "interpreter": {
    "hash": "2decbbcdbe1b404b08c0c2ae8935a58886fd60ea7dad56cfc87e2a14f377e9ba"
   }
  }
 },
 "nbformat": 4,
 "nbformat_minor": 4
}
