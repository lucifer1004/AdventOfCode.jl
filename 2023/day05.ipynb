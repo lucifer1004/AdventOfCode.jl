{
 "cells": [
  {
   "cell_type": "code",
   "execution_count": 1,
   "metadata": {},
   "outputs": [
    {
     "name": "stderr",
     "output_type": "stream",
     "text": [
      "\u001b[32m\u001b[1m  Activating\u001b[22m\u001b[39m project at `~/com.github/lucifer1004/AdventOfCode.jl`\n"
     ]
    }
   ],
   "source": [
    "import Pkg; Pkg.activate(\"..\")"
   ]
  },
  {
   "cell_type": "code",
   "execution_count": 2,
   "metadata": {},
   "outputs": [],
   "source": [
    "using AdventOfCode, JSON3, LinearAlgebra, Combinatorics, DataStructures, Graphs, GraphPlot, IterTools, Mods, MLStyle, Pipe"
   ]
  },
  {
   "cell_type": "code",
   "execution_count": 3,
   "metadata": {},
   "outputs": [
    {
     "data": {
      "text/plain": [
       "5"
      ]
     },
     "metadata": {},
     "output_type": "display_data"
    }
   ],
   "source": [
    "year = 2023\n",
    "day = 5"
   ]
  },
  {
   "cell_type": "code",
   "execution_count": 4,
   "metadata": {},
   "outputs": [
    {
     "data": {
      "text/plain": [
       "\"seeds: 280775197 7535297 3229061264 27275209 77896732 178275214 2748861189 424413807 3663093536 130341162 613340959 352550713 1532286286 1115055792 1075412586 241030710 3430371306 138606714 412141395 146351614\\n\\nseed-to-soil map:\\n2328878418 2173757269 55676388\\n1604614185\"\u001b[93m\u001b[1m ⋯ 7154 bytes ⋯ \u001b[22m\u001b[39m\"9174727 352905656 80323297\\n515981006 117989876 65126891\\n3587231324 3099781446 9280347\\n1187442502 51914834 66075042\\n2953735407 3112781162 65665369\\n4187239629 4135066301 107727667\\n3300390900 3178446531 34082674\\n2884414411 2534368988 69320996\\n4106804293 2284324461 80435336\""
      ]
     },
     "metadata": {},
     "output_type": "display_data"
    }
   ],
   "source": [
    "input = get_input(year, day)"
   ]
  },
  {
   "cell_type": "code",
   "execution_count": 5,
   "metadata": {},
   "outputs": [
    {
     "data": {
      "text/plain": [
       "256-element Vector{String}:\n",
       " \"seeds: 280775197 7535297 322906\"\u001b[93m\u001b[1m ⋯ 148 bytes ⋯ \u001b[22m\u001b[39m\" 138606714 412141395 146351614\"\n",
       " \"\"\n",
       " \"seed-to-soil map:\"\n",
       " \"2328878418 2173757269 55676388\"\n",
       " \"1604614185 284259424 18300254\"\n",
       " \"871339571 2660737044 103656521\"\n",
       " \"0 2281891142 53219493\"\n",
       " \"3600371492 4267529956 27437340\"\n",
       " \"1755732868 600174302 280911746\"\n",
       " \"225053611 2335110635 5908609\"\n",
       " ⋮\n",
       " \"1829174727 352905656 80323297\"\n",
       " \"515981006 117989876 65126891\"\n",
       " \"3587231324 3099781446 9280347\"\n",
       " \"1187442502 51914834 66075042\"\n",
       " \"2953735407 3112781162 65665369\"\n",
       " \"4187239629 4135066301 107727667\"\n",
       " \"3300390900 3178446531 34082674\"\n",
       " \"2884414411 2534368988 69320996\"\n",
       " \"4106804293 2284324461 80435336\""
      ]
     },
     "metadata": {},
     "output_type": "display_data"
    }
   ],
   "source": [
    "parsed_input = parse_input(input)"
   ]
  },
  {
   "cell_type": "code",
   "execution_count": 6,
   "metadata": {},
   "outputs": [
    {
     "data": {
      "text/plain": [
       "\"seeds: 79 14 55 13\\n\\nseed-to-soil map:\\n50 98 2\\n52 50 48\\n\\nsoil-to-fertilizer map:\\n0 15 37\\n37 52 2\\n39 0 15\\n\\nfertilizer-to-water map:\\n49 53 8\\n0 11 42\\n42 0 7\\n57 7 4\\n\\nwater-to-light map:\\n88 18 7\\n18 25 70\\n\\nlight-to-temperature map:\\n45 77 23\\n81 45 19\\n68 64 13\\n\\ntemperature-to-humidity map:\\n0 69 1\\n1 0 69\\n\\nhumidity-to-location map:\\n60 56 37\\n56 93 4\""
      ]
     },
     "metadata": {},
     "output_type": "display_data"
    }
   ],
   "source": [
    "sample = raw\"\"\"seeds: 79 14 55 13\n",
    "\n",
    "seed-to-soil map:\n",
    "50 98 2\n",
    "52 50 48\n",
    "\n",
    "soil-to-fertilizer map:\n",
    "0 15 37\n",
    "37 52 2\n",
    "39 0 15\n",
    "\n",
    "fertilizer-to-water map:\n",
    "49 53 8\n",
    "0 11 42\n",
    "42 0 7\n",
    "57 7 4\n",
    "\n",
    "water-to-light map:\n",
    "88 18 7\n",
    "18 25 70\n",
    "\n",
    "light-to-temperature map:\n",
    "45 77 23\n",
    "81 45 19\n",
    "68 64 13\n",
    "\n",
    "temperature-to-humidity map:\n",
    "0 69 1\n",
    "1 0 69\n",
    "\n",
    "humidity-to-location map:\n",
    "60 56 37\n",
    "56 93 4\"\"\""
   ]
  },
  {
   "cell_type": "code",
   "execution_count": 7,
   "metadata": {},
   "outputs": [
    {
     "data": {
      "text/plain": [
       "33-element Vector{String}:\n",
       " \"seeds: 79 14 55 13\"\n",
       " \"\"\n",
       " \"seed-to-soil map:\"\n",
       " \"50 98 2\"\n",
       " \"52 50 48\"\n",
       " \"\"\n",
       " \"soil-to-fertilizer map:\"\n",
       " \"0 15 37\"\n",
       " \"37 52 2\"\n",
       " \"39 0 15\"\n",
       " ⋮\n",
       " \"68 64 13\"\n",
       " \"\"\n",
       " \"temperature-to-humidity map:\"\n",
       " \"0 69 1\"\n",
       " \"1 0 69\"\n",
       " \"\"\n",
       " \"humidity-to-location map:\"\n",
       " \"60 56 37\"\n",
       " \"56 93 4\""
      ]
     },
     "metadata": {},
     "output_type": "display_data"
    }
   ],
   "source": [
    "parsed_sample = parse_input(sample)"
   ]
  },
  {
   "cell_type": "code",
   "execution_count": 8,
   "metadata": {},
   "outputs": [
    {
     "data": {
      "text/plain": [
       "7-element Vector{String}:\n",
       " \"seed-to-soil\"\n",
       " \"soil-to-fertilizer\"\n",
       " \"fertilizer-to-water\"\n",
       " \"water-to-light\"\n",
       " \"light-to-temperature\"\n",
       " \"temperature-to-humidity\"\n",
       " \"humidity-to-location\""
      ]
     },
     "metadata": {},
     "output_type": "display_data"
    }
   ],
   "source": [
    "mappings = [\n",
    "    \"seed-to-soil\",\n",
    "    \"soil-to-fertilizer\",\n",
    "    \"fertilizer-to-water\",\n",
    "    \"water-to-light\",\n",
    "    \"light-to-temperature\",\n",
    "    \"temperature-to-humidity\",\n",
    "    \"humidity-to-location\"\n",
    "]"
   ]
  },
  {
   "cell_type": "code",
   "execution_count": 9,
   "metadata": {},
   "outputs": [
    {
     "data": {
      "text/plain": [
       "get_mapping_dict (generic function with 1 method)"
      ]
     },
     "metadata": {},
     "output_type": "display_data"
    }
   ],
   "source": [
    "function get_mapping_dict(input)\n",
    "    d = Dict(\n",
    "        name => [] for name in mappings\n",
    "    )\n",
    "\n",
    "    line = 2\n",
    "    for name in mappings\n",
    "        while !occursin(name, input[line])\n",
    "            line += 1\n",
    "        end\n",
    "        line += 1\n",
    "        while line <= length(input) && input[line] != \"\"\n",
    "            dest, start, rg = parse.(Int, split(input[line]))\n",
    "            push!(d[name], (dest, start, rg))\n",
    "            line += 1\n",
    "        end\n",
    "    end\n",
    "\n",
    "    d\n",
    "end"
   ]
  },
  {
   "cell_type": "code",
   "execution_count": 10,
   "metadata": {},
   "outputs": [
    {
     "data": {
      "text/plain": [
       "part_one (generic function with 1 method)"
      ]
     },
     "metadata": {},
     "output_type": "display_data"
    }
   ],
   "source": [
    "function part_one(input)\n",
    "    seeds = parse.(Int, split(split(input[1], \": \")[2]))\n",
    "    d = get_mapping_dict(input)\n",
    "\n",
    "    low = 1_000_000_000\n",
    "    for seed in seeds\n",
    "        val = seed\n",
    "        for name in mappings\n",
    "            for (dest, start, rg) in d[name]\n",
    "                if start <= val < start + rg\n",
    "                    val = dest + (val - start)\n",
    "                    break\n",
    "                end\n",
    "            end\n",
    "        end\n",
    "        low = min(low, val)\n",
    "    end\n",
    "\n",
    "    low\n",
    "end"
   ]
  },
  {
   "cell_type": "code",
   "execution_count": 11,
   "metadata": {},
   "outputs": [
    {
     "data": {
      "text/plain": [
       "35"
      ]
     },
     "metadata": {},
     "output_type": "display_data"
    }
   ],
   "source": [
    "part_one(parsed_sample)"
   ]
  },
  {
   "cell_type": "code",
   "execution_count": 12,
   "metadata": {},
   "outputs": [
    {
     "data": {
      "text/plain": [
       "3374647"
      ]
     },
     "metadata": {},
     "output_type": "display_data"
    }
   ],
   "source": [
    "part_one_ans = part_one(parsed_input)"
   ]
  },
  {
   "cell_type": "code",
   "execution_count": 13,
   "metadata": {},
   "outputs": [
    {
     "data": {
      "text/plain": [
       "\"<!DOCTYPE html>\\n<html lang=\\\"en-us\\\">\\n<head>\\n<meta charset=\\\"utf-8\\\"/>\\n<title>Day 5 - Advent of Code 2023</title>\\n<link rel=\\\"stylesheet\\\" type=\\\"text/css\\\" href=\\\"/static/style.css?31\\\"/>\\n<link rel=\\\"stylesheet alternate\\\" type=\\\"text/css\\\" href=\\\"/static/highcontrast.css?1\\\" title=\\\"H\"\u001b[93m\u001b[1m ⋯ 3172 bytes ⋯ \u001b[22m\u001b[39m\"Name(o)[0];a.async=1;a.src=g;m.parentNode.insertBefore(a,m)\\n})(window,document,'script','//www.google-analytics.com/analytics.js','ga');\\nga('create', 'UA-69522494-1', 'auto');\\nga('set', 'anonymizeIp', true);\\nga('send', 'pageview');\\n</script>\\n<!-- /ga -->\\n</body>\\n</html>\""
      ]
     },
     "metadata": {},
     "output_type": "display_data"
    }
   ],
   "source": [
    "submit_answer(year, day, part_one_ans)"
   ]
  },
  {
   "cell_type": "code",
   "execution_count": 14,
   "metadata": {},
   "outputs": [
    {
     "data": {
      "text/plain": [
       "part_two (generic function with 1 method)"
      ]
     },
     "metadata": {},
     "output_type": "display_data"
    }
   ],
   "source": [
    "function part_two(input)\n",
    "    seeds = parse.(Int, split(split(input[1], \": \")[2]))\n",
    "    d = get_mapping_dict(input)\n",
    "    low = 1_000_000_000\n",
    "    n = length(seeds)\n",
    "    for i in 1:2:n\n",
    "        segments = [(seeds[i], seeds[i] + seeds[i + 1] - 1)]\n",
    "        for name in mappings\n",
    "            segments_nxt = []\n",
    "            for segment in segments\n",
    "                mapped = []\n",
    "                for (dest, start, rg) in d[name]\n",
    "                    intersect = (max(start, segment[1]), min(start + rg - 1, segment[2]))\n",
    "                    if intersect[1] <= intersect[2]\n",
    "                        push!(segments_nxt, intersect .+ (dest - start))\n",
    "                        push!(mapped, intersect)\n",
    "                    end\n",
    "                end\n",
    "                sort!(mapped)\n",
    "                l = segment[1]\n",
    "                for (l1, r1) in mapped\n",
    "                    if l1 > l\n",
    "                        push!(segments_nxt, (l, l1 - 1))\n",
    "                    end\n",
    "                    l = r1 + 1\n",
    "                end\n",
    "                if l <= segment[2]\n",
    "                    push!(segments_nxt, (l, segment[2]))\n",
    "                end\n",
    "            end\n",
    "            segments = segments_nxt\n",
    "        end\n",
    "\n",
    "        if !isempty(segments)\n",
    "            low = min(low, minimum(s[1] for s in segments))\n",
    "        end\n",
    "    end\n",
    "\n",
    "    low\n",
    "end"
   ]
  },
  {
   "cell_type": "code",
   "execution_count": 15,
   "metadata": {},
   "outputs": [
    {
     "data": {
      "text/plain": [
       "46"
      ]
     },
     "metadata": {},
     "output_type": "display_data"
    }
   ],
   "source": [
    "part_two(parsed_sample)"
   ]
  },
  {
   "cell_type": "code",
   "execution_count": 16,
   "metadata": {},
   "outputs": [
    {
     "data": {
      "text/plain": [
       "6082852"
      ]
     },
     "metadata": {},
     "output_type": "display_data"
    }
   ],
   "source": [
    "part_two_ans = part_two(parsed_input)"
   ]
  },
  {
   "cell_type": "code",
   "execution_count": 17,
   "metadata": {},
   "outputs": [
    {
     "data": {
      "text/plain": [
       "\"<!DOCTYPE html>\\n<html lang=\\\"en-us\\\">\\n<head>\\n<meta charset=\\\"utf-8\\\"/>\\n<title>Day 5 - Advent of Code 2023</title>\\n<link rel=\\\"stylesheet\\\" type=\\\"text/css\\\" href=\\\"/static/style.css?31\\\"/>\\n<link rel=\\\"stylesheet alternate\\\" type=\\\"text/css\\\" href=\\\"/static/highcontrast.css?1\\\" title=\\\"H\"\u001b[93m\u001b[1m ⋯ 3288 bytes ⋯ \u001b[22m\u001b[39m\"Name(o)[0];a.async=1;a.src=g;m.parentNode.insertBefore(a,m)\\n})(window,document,'script','//www.google-analytics.com/analytics.js','ga');\\nga('create', 'UA-69522494-1', 'auto');\\nga('set', 'anonymizeIp', true);\\nga('send', 'pageview');\\n</script>\\n<!-- /ga -->\\n</body>\\n</html>\""
      ]
     },
     "metadata": {},
     "output_type": "display_data"
    }
   ],
   "source": [
    "submit_answer(year, day, part_two_ans, 2)"
   ]
  }
 ],
 "metadata": {
  "kernelspec": {
   "display_name": "Julia 1.10.0-rc2",
   "language": "julia",
   "name": "julia-1.10"
  },
  "language_info": {
   "file_extension": ".jl",
   "mimetype": "application/julia",
   "name": "julia",
   "version": "1.10.0-rc2"
  },
  "vscode": {
   "interpreter": {
    "hash": "2decbbcdbe1b404b08c0c2ae8935a58886fd60ea7dad56cfc87e2a14f377e9ba"
   }
  }
 },
 "nbformat": 4,
 "nbformat_minor": 4
}
